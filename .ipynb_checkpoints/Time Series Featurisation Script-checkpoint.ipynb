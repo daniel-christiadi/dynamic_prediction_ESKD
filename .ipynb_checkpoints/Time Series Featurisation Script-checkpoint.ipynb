{
 "cells": [
  {
   "cell_type": "code",
   "execution_count": 1,
   "id": "2e756d6e",
   "metadata": {},
   "outputs": [],
   "source": [
    "import numpy as np\n",
    "import os, shutil\n",
    "import pandas as pd\n",
    "import modin.pandas as mod_pd\n",
    "import matplotlib.pyplot as plt\n",
    "%config Completer.use_jedi = False"
   ]
  },
  {
   "cell_type": "code",
   "execution_count": 2,
   "id": "17bea1e4",
   "metadata": {},
   "outputs": [],
   "source": [
    "from tsfresh import extract_features\n",
    "from tsfresh.feature_extraction import EfficientFCParameters\n",
    "from tsfresh.feature_extraction import MinimalFCParameters\n",
    "eff_setting=EfficientFCParameters()\n",
    "min_setting=MinimalFCParameters()"
   ]
  },
  {
   "cell_type": "code",
   "execution_count": null,
   "metadata": {},
   "outputs": [],
   "source": [
    "files = ['melted_relyear-2_feat_complete.gz', 'melted_relyear-3_feat_complete.gz', 'melted_relyear-4_feat_complete.gz']\n",
    "for file in files:\n",
    "    df = pd.read_csv(file)\n",
    "    df.drop(['date'], axis=1, inplace=True)\n",
    "    df_extract = extract_features(df, column_id='id', column_sort='relyear', column_kind='test', column_value='value',\n",
    "                              default_fc_parameters=eff_setting)\n",
    "    save_file_name = 'eff_feat_' + file\n",
    "    df_extract.to_csv(save_file_name, index=True, compression='gzip')"
   ]
  },
  {
   "cell_type": "code",
   "execution_count": 3,
   "id": "793cc155",
   "metadata": {},
   "outputs": [
    {
     "name": "stderr",
     "output_type": "stream",
     "text": [
      "Feature Extraction: 100%|███████████████████████████████████████████████████████████████████| 40/40 [01:16<00:00,  1.91s/it]\n",
      "Feature Extraction: 100%|███████████████████████████████████████████████████████████████████| 40/40 [01:20<00:00,  2.02s/it]\n",
      "Feature Extraction: 100%|███████████████████████████████████████████████████████████████████| 40/40 [01:24<00:00,  2.11s/it]\n"
     ]
    }
   ],
   "source": [
    "files = ['melted_relyear-2_feat_next.gz', 'melted_relyear-3_feat_next.gz', 'melted_relyear-4_feat_next.gz']\n",
    "for file in files:\n",
    "    df = pd.read_csv(file)\n",
    "    df.drop(['date'], axis=1, inplace=True)\n",
    "    df_extract = extract_features(df, column_id='id', column_sort='relyear', column_kind='test', column_value='value',\n",
    "                              default_fc_parameters=min_setting)\n",
    "    save_file_name = 'min_feat_' + file\n",
    "    df_extract.to_csv(save_file_name, index=True, compression='gzip')"
   ]
  },
  {
   "cell_type": "code",
   "execution_count": 4,
   "id": "5721ca71",
   "metadata": {},
   "outputs": [
    {
     "name": "stderr",
     "output_type": "stream",
     "text": [
      "Feature Extraction: 100%|███████████████████████████████████████████████████████████████████| 40/40 [01:50<00:00,  2.77s/it]\n",
      "Feature Extraction: 100%|███████████████████████████████████████████████████████████████████| 40/40 [01:59<00:00,  2.98s/it]\n",
      "Feature Extraction: 100%|███████████████████████████████████████████████████████████████████| 40/40 [02:04<00:00,  3.11s/it]\n"
     ]
    }
   ],
   "source": [
    "files = ['melted_relyear-2_feat_final.gz', 'melted_relyear-3_feat_final.gz', 'melted_relyear-4_feat_final.gz']\n",
    "for file in files:\n",
    "    df = pd.read_csv(file)\n",
    "    df.drop(['date'], axis=1, inplace=True)\n",
    "    df_extract = extract_features(df, column_id='id', column_sort='relyear', column_kind='test', column_value='value',\n",
    "                              default_fc_parameters=min_setting)\n",
    "    save_file_name = 'min_feat_' + file\n",
    "    df_extract.to_csv(save_file_name, index=True, compression='gzip')"
   ]
  }
 ],
 "metadata": {
  "kernelspec": {
   "display_name": "Python 3",
   "language": "python",
   "name": "python3"
  },
  "language_info": {
   "codemirror_mode": {
    "name": "ipython",
    "version": 3
   },
   "file_extension": ".py",
   "mimetype": "text/x-python",
   "name": "python",
   "nbconvert_exporter": "python",
   "pygments_lexer": "ipython3",
   "version": "3.7.3"
  }
 },
 "nbformat": 4,
 "nbformat_minor": 1
}
