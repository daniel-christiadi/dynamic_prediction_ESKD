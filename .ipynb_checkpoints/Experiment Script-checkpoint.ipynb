{
 "cells": [
  {
   "cell_type": "code",
   "execution_count": 1,
   "id": "9322de75",
   "metadata": {},
   "outputs": [],
   "source": [
    "import numpy as np\n",
    "import os, shutil\n",
    "import pandas as pd\n",
    "import modin.pandas as mod_pd\n",
    "import matplotlib.pyplot as plt\n",
    "%config Completer.use_jedi = False"
   ]
  },
  {
   "cell_type": "code",
   "execution_count": 28,
   "id": "5f776ddc",
   "metadata": {},
   "outputs": [],
   "source": [
    "def drop_missing(df):\n",
    "    missing_thresh_col = len(df)*0.7\n",
    "    df.dropna(axis=1, thresh=missing_thresh_col, inplace=True)\n",
    "    return df\n",
    "\n",
    "def to_category(df):\n",
    "    cols = df.select_dtypes(include='object').columns\n",
    "    for col in cols:\n",
    "        df[col] = df[col].astype('category')\n",
    "    return df\n",
    "\n",
    "def copy_df(df):\n",
    "    return df.copy()"
   ]
  },
  {
   "cell_type": "code",
   "execution_count": 29,
   "id": "25d5a346",
   "metadata": {},
   "outputs": [],
   "source": [
    "from sklearn.preprocessing import OneHotEncoder\n",
    "from sklearn.compose import ColumnTransformer\n",
    "one_hot = OneHotEncoder()\n",
    "\n",
    "from sklearn.preprocessing import LabelEncoder\n",
    "lab_encode = LabelEncoder()\n",
    "\n",
    "from sklearn.model_selection import train_test_split\n",
    "\n",
    "import xgboost as xgb\n",
    "\n",
    "from sklearn.metrics import roc_auc_score, classification_report, matthews_corrcoef, confusion_matrix"
   ]
  },
  {
   "cell_type": "code",
   "execution_count": 30,
   "id": "0f590163",
   "metadata": {},
   "outputs": [],
   "source": [
    "def testing_for_eskd5y(data):\n",
    "    df = pd.read_csv(data)\n",
    "    df.query(\"eskd_intraining != 'eskd'\", inplace=True)\n",
    "    df.set_index('id', inplace=True)\n",
    "    df_cleaned = (df.pipe(copy_df).pipe(drop_missing).pipe(to_category))\n",
    "    imbalance_ratio = df_cleaned['eskd_5y'].value_counts().non_eskd / df_cleaned['eskd_5y'].value_counts().eskd\n",
    "    X = df_cleaned.drop(['egfr.y', 'eskd_intraining', 'eskd_2y', 'eskd_5y'], axis=1)\n",
    "    y = df_cleaned['eskd_5y'].values\n",
    "    y = y.map({'non_eskd':'no', 'eskd': 'yes'})\n",
    "    category_cols = list(X.select_dtypes(include='category').columns)\n",
    "    transformer = ColumnTransformer([('one_hot', one_hot, category_cols)],remainder='passthrough')\n",
    "    X_transformed = transformer.fit_transform(X)\n",
    "    y_transformed = lab_encode.fit_transform(y)\n",
    "    X_train, X_test, y_train, y_test = train_test_split(X_transformed, y_transformed, stratify=y_transformed,\n",
    "                                                   test_size=0.3, random_state=7)\n",
    "    xgb_class = xgb.XGBClassifier(n_jobs=-1, random_state = 7, n_estimators=500, scale_pos_weight=imbalance_ratio)\n",
    "    xgb_class.fit(X=X_train, y=y_train)\n",
    "    y_pred = xgb_class.predict(X_test)\n",
    "    print(confusion_matrix(y_test, y_pred))\n",
    "    print(matthews_corrcoef(y_test, y_pred))"
   ]
  },
  {
   "cell_type": "code",
   "execution_count": 31,
   "metadata": {},
   "outputs": [],
   "source": [
    "def testing_for_eskd2y(data):\n",
    "    df = pd.read_csv(data)\n",
    "    df.query(\"eskd_intraining != 'eskd'\", inplace=True)\n",
    "    df.set_index('id', inplace=True)\n",
    "    df_cleaned = (df.pipe(copy_df).pipe(drop_missing).pipe(to_category))\n",
    "    imbalance_ratio = df_cleaned['eskd_5y'].value_counts().non_eskd / df_cleaned['eskd_5y'].value_counts().eskd\n",
    "    X = df_cleaned.drop(['egfr.y', 'eskd_intraining', 'eskd_2y', 'eskd_5y'], axis=1)\n",
    "    y = df_cleaned['eskd_2y'].values\n",
    "    y = y.map({'non_eskd':'no', 'eskd': 'yes'})\n",
    "    category_cols = list(X.select_dtypes(include='category').columns)\n",
    "    transformer = ColumnTransformer([('one_hot', one_hot, category_cols)],remainder='passthrough')\n",
    "    X_transformed = transformer.fit_transform(X)\n",
    "    y_transformed = lab_encode.fit_transform(y)\n",
    "    X_train, X_test, y_train, y_test = train_test_split(X_transformed, y_transformed, stratify=y_transformed,\n",
    "                                                   test_size=0.3, random_state=7)\n",
    "    xgb_class = xgb.XGBClassifier(n_jobs=-1, random_state = 7, n_estimators=500, scale_pos_weight=imbalance_ratio)\n",
    "    xgb_class.fit(X=X_train, y=y_train)\n",
    "    y_pred = xgb_class.predict(X_test)\n",
    "    print(confusion_matrix(y_test, y_pred))\n",
    "    print(matthews_corrcoef(y_test, y_pred))"
   ]
  },
  {
   "cell_type": "code",
   "execution_count": 23,
   "id": "22595f72",
   "metadata": {},
   "outputs": [],
   "source": [
    "datasets = ['train_ready_eff_2_2.gz','train_ready_eff_2_4.gz', 'train_ready_eff_2_6.gz', 'train_ready_eff_2_9.gz', \n",
    "            'train_ready_eff_2_12.gz','train_ready_eff_3_2.gz', 'train_ready_eff_3_4.gz', 'train_ready_eff_3_6.gz', \n",
    "            'train_ready_eff_3_9.gz', 'train_ready_eff_3_12.gz']"
   ]
  },
  {
   "cell_type": "code",
   "execution_count": null,
   "metadata": {},
   "outputs": [],
   "source": [
    "testing_for_eskd2y(datasets[1])"
   ]
  },
  {
   "cell_type": "code",
   "execution_count": null,
   "metadata": {},
   "outputs": [],
   "source": []
  }
 ],
 "metadata": {
  "kernelspec": {
   "display_name": "Python 3",
   "language": "python",
   "name": "python3"
  },
  "language_info": {
   "codemirror_mode": {
    "name": "ipython",
    "version": 3
   },
   "file_extension": ".py",
   "mimetype": "text/x-python",
   "name": "python",
   "nbconvert_exporter": "python",
   "pygments_lexer": "ipython3",
   "version": "3.7.3"
  }
 },
 "nbformat": 4,
 "nbformat_minor": 1
}
