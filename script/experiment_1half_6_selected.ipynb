{
 "cells": [
  {
   "cell_type": "code",
   "execution_count": 1,
   "source": [
    "import numpy as np\n",
    "import pandas as pd\n",
    "import xgboost as xgb\n",
    "import shap\n",
    "from sklearn.preprocessing import OneHotEncoder, LabelEncoder\n",
    "from sklearn.compose import ColumnTransformer\n",
    "from sklearn.model_selection import train_test_split, StratifiedKFold, cross_validate, cross_val_score, cross_val_predict\n",
    "from sklearn.metrics import matthews_corrcoef, confusion_matrix, roc_auc_score, classification_report\n",
    "from imblearn.over_sampling import SMOTE\n",
    "from imblearn.under_sampling import RandomUnderSampler\n",
    "from imblearn.combine import SMOTETomek\n",
    "from imblearn.pipeline import Pipeline\n",
    "from sklearn.metrics import recall_score, accuracy_score\n",
    "from sklearn.impute import KNNImputer, SimpleImputer"
   ],
   "outputs": [],
   "metadata": {}
  },
  {
   "cell_type": "code",
   "execution_count": 2,
   "source": [
    "random_state = 7\n",
    "cv_method = StratifiedKFold(n_splits=5)"
   ],
   "outputs": [],
   "metadata": {}
  },
  {
   "cell_type": "markdown",
   "source": [
    "# Training of tsfresh-selected Training Max 1 years and eGFR 4 times"
   ],
   "metadata": {}
  },
  {
   "cell_type": "code",
   "execution_count": 3,
   "source": [
    "df = pd.read_csv('/home/jupyter-dchristiadi85/PhD Project 1/data/train_selected_1half_6.gz')\n",
    "df.shape"
   ],
   "outputs": [
    {
     "output_type": "execute_result",
     "data": {
      "text/plain": [
       "(4864, 24364)"
      ]
     },
     "metadata": {},
     "execution_count": 3
    }
   ],
   "metadata": {}
  },
  {
   "cell_type": "code",
   "execution_count": 4,
   "source": [
    "df.info()"
   ],
   "outputs": [
    {
     "output_type": "stream",
     "name": "stdout",
     "text": [
      "<class 'pandas.core.frame.DataFrame'>\n",
      "RangeIndex: 4864 entries, 0 to 4863\n",
      "Columns: 24364 entries, id to cat8\n",
      "dtypes: float64(24342), int64(2), object(20)\n",
      "memory usage: 904.1+ MB\n"
     ]
    }
   ],
   "metadata": {}
  },
  {
   "cell_type": "code",
   "execution_count": 5,
   "source": [
    "df['aki_1'].fillna(value=0, inplace=True)\n",
    "df['aki_2'].fillna(value=0, inplace=True)\n",
    "df['aki_3'].fillna(value=0, inplace=True)"
   ],
   "outputs": [],
   "metadata": {}
  },
  {
   "cell_type": "code",
   "execution_count": 6,
   "source": [
    "df['gn'].value_counts()"
   ],
   "outputs": [
    {
     "output_type": "execute_result",
     "data": {
      "text/plain": [
       "no                 4420\n",
       "igan                180\n",
       "anca                 82\n",
       "lupus nephritis      45\n",
       "membranous           35\n",
       "unspecific           29\n",
       "fsgs                 27\n",
       "mcd                  22\n",
       "mp/mcgn              16\n",
       "fgn/itg               6\n",
       "pign                  2\n",
       "Name: gn, dtype: int64"
      ]
     },
     "metadata": {},
     "execution_count": 6
    }
   ],
   "metadata": {}
  },
  {
   "cell_type": "code",
   "execution_count": 7,
   "source": [
    "df.loc[df.gn == 'pign', 'gn'] = 'unspecific'\n",
    "df.loc[df.gn == 'fgn/itg', 'gn'] = 'unspecific'"
   ],
   "outputs": [],
   "metadata": {}
  },
  {
   "cell_type": "code",
   "execution_count": 8,
   "source": [
    "percent_missing = df.isnull().sum()*100 / len(df)\n",
    "missing_df = pd.DataFrame({'column_name': df.columns, 'percent_miss': percent_missing})\n",
    "missing_df.sort_values(by='percent_miss', ascending=False)"
   ],
   "outputs": [
    {
     "output_type": "execute_result",
     "data": {
      "text/plain": [
       "                                                                                          column_name  \\\n",
       "caphos_product__query_similarity_count__query_N...  caphos_product__query_similarity_count__query_...   \n",
       "globulin__fft_coefficient__attr_\"\"\"\"\"\"\"\"angle\"\"...  globulin__fft_coefficient__attr_\"\"\"\"\"\"\"\"angle\"...   \n",
       "alt__fft_coefficient__attr_\"\"\"\"\"\"\"\"abs\"\"\"\"\"\"\"\"_...  alt__fft_coefficient__attr_\"\"\"\"\"\"\"\"abs\"\"\"\"\"\"\"\"...   \n",
       "alt__fft_coefficient__attr_\"\"\"\"\"\"\"\"abs\"\"\"\"\"\"\"\"_...  alt__fft_coefficient__attr_\"\"\"\"\"\"\"\"abs\"\"\"\"\"\"\"\"...   \n",
       "alt__fft_coefficient__attr_\"\"\"\"\"\"\"\"abs\"\"\"\"\"\"\"\"_...  alt__fft_coefficient__attr_\"\"\"\"\"\"\"\"abs\"\"\"\"\"\"\"\"...   \n",
       "...                                                                                               ...   \n",
       "htn                                                                                               htn   \n",
       "aki_3                                                                                           aki_3   \n",
       "aki_2                                                                                           aki_2   \n",
       "aki_1                                                                                           aki_1   \n",
       "cat8                                                                                             cat8   \n",
       "\n",
       "                                                    percent_miss  \n",
       "caphos_product__query_similarity_count__query_N...         100.0  \n",
       "globulin__fft_coefficient__attr_\"\"\"\"\"\"\"\"angle\"\"...         100.0  \n",
       "alt__fft_coefficient__attr_\"\"\"\"\"\"\"\"abs\"\"\"\"\"\"\"\"_...         100.0  \n",
       "alt__fft_coefficient__attr_\"\"\"\"\"\"\"\"abs\"\"\"\"\"\"\"\"_...         100.0  \n",
       "alt__fft_coefficient__attr_\"\"\"\"\"\"\"\"abs\"\"\"\"\"\"\"\"_...         100.0  \n",
       "...                                                          ...  \n",
       "htn                                                          0.0  \n",
       "aki_3                                                        0.0  \n",
       "aki_2                                                        0.0  \n",
       "aki_1                                                        0.0  \n",
       "cat8                                                         0.0  \n",
       "\n",
       "[24364 rows x 2 columns]"
      ],
      "text/html": [
       "<div>\n",
       "<style scoped>\n",
       "    .dataframe tbody tr th:only-of-type {\n",
       "        vertical-align: middle;\n",
       "    }\n",
       "\n",
       "    .dataframe tbody tr th {\n",
       "        vertical-align: top;\n",
       "    }\n",
       "\n",
       "    .dataframe thead th {\n",
       "        text-align: right;\n",
       "    }\n",
       "</style>\n",
       "<table border=\"1\" class=\"dataframe\">\n",
       "  <thead>\n",
       "    <tr style=\"text-align: right;\">\n",
       "      <th></th>\n",
       "      <th>column_name</th>\n",
       "      <th>percent_miss</th>\n",
       "    </tr>\n",
       "  </thead>\n",
       "  <tbody>\n",
       "    <tr>\n",
       "      <th>caphos_product__query_similarity_count__query_None__threshold_0.0</th>\n",
       "      <td>caphos_product__query_similarity_count__query_...</td>\n",
       "      <td>100.0</td>\n",
       "    </tr>\n",
       "    <tr>\n",
       "      <th>globulin__fft_coefficient__attr_\"\"\"\"\"\"\"\"angle\"\"\"\"\"\"\"\"__coeff_96</th>\n",
       "      <td>globulin__fft_coefficient__attr_\"\"\"\"\"\"\"\"angle\"...</td>\n",
       "      <td>100.0</td>\n",
       "    </tr>\n",
       "    <tr>\n",
       "      <th>alt__fft_coefficient__attr_\"\"\"\"\"\"\"\"abs\"\"\"\"\"\"\"\"__coeff_95</th>\n",
       "      <td>alt__fft_coefficient__attr_\"\"\"\"\"\"\"\"abs\"\"\"\"\"\"\"\"...</td>\n",
       "      <td>100.0</td>\n",
       "    </tr>\n",
       "    <tr>\n",
       "      <th>alt__fft_coefficient__attr_\"\"\"\"\"\"\"\"abs\"\"\"\"\"\"\"\"__coeff_94</th>\n",
       "      <td>alt__fft_coefficient__attr_\"\"\"\"\"\"\"\"abs\"\"\"\"\"\"\"\"...</td>\n",
       "      <td>100.0</td>\n",
       "    </tr>\n",
       "    <tr>\n",
       "      <th>alt__fft_coefficient__attr_\"\"\"\"\"\"\"\"abs\"\"\"\"\"\"\"\"__coeff_93</th>\n",
       "      <td>alt__fft_coefficient__attr_\"\"\"\"\"\"\"\"abs\"\"\"\"\"\"\"\"...</td>\n",
       "      <td>100.0</td>\n",
       "    </tr>\n",
       "    <tr>\n",
       "      <th>...</th>\n",
       "      <td>...</td>\n",
       "      <td>...</td>\n",
       "    </tr>\n",
       "    <tr>\n",
       "      <th>htn</th>\n",
       "      <td>htn</td>\n",
       "      <td>0.0</td>\n",
       "    </tr>\n",
       "    <tr>\n",
       "      <th>aki_3</th>\n",
       "      <td>aki_3</td>\n",
       "      <td>0.0</td>\n",
       "    </tr>\n",
       "    <tr>\n",
       "      <th>aki_2</th>\n",
       "      <td>aki_2</td>\n",
       "      <td>0.0</td>\n",
       "    </tr>\n",
       "    <tr>\n",
       "      <th>aki_1</th>\n",
       "      <td>aki_1</td>\n",
       "      <td>0.0</td>\n",
       "    </tr>\n",
       "    <tr>\n",
       "      <th>cat8</th>\n",
       "      <td>cat8</td>\n",
       "      <td>0.0</td>\n",
       "    </tr>\n",
       "  </tbody>\n",
       "</table>\n",
       "<p>24364 rows × 2 columns</p>\n",
       "</div>"
      ]
     },
     "metadata": {},
     "execution_count": 8
    }
   ],
   "metadata": {}
  },
  {
   "cell_type": "markdown",
   "source": [
    "### Number of patients reaching ESKD within training period "
   ],
   "metadata": {}
  },
  {
   "cell_type": "code",
   "execution_count": 9,
   "source": [
    "df['cat1.5'].value_counts()"
   ],
   "outputs": [
    {
     "output_type": "execute_result",
     "data": {
      "text/plain": [
       "non_eskd    3675\n",
       "eskd        1189\n",
       "Name: cat1.5, dtype: int64"
      ]
     },
     "metadata": {},
     "execution_count": 9
    }
   ],
   "metadata": {}
  },
  {
   "cell_type": "code",
   "execution_count": 10,
   "source": [
    "df.set_index('id', inplace=True)"
   ],
   "outputs": [],
   "metadata": {}
  },
  {
   "cell_type": "code",
   "execution_count": 11,
   "source": [
    "def to_category(df):\n",
    "    cols = df.select_dtypes(include='object').columns\n",
    "    for col in cols:\n",
    "        df[col] = df[col].astype('category')\n",
    "    return df\n",
    "\n",
    "def drop_missing(df):\n",
    "    threshold = len(df)*0.6\n",
    "    df.dropna(axis=1, thresh=threshold, inplace=True)\n",
    "    return df\n",
    "\n",
    "def copy_df(df):\n",
    "    return df.copy()"
   ],
   "outputs": [],
   "metadata": {}
  },
  {
   "cell_type": "code",
   "execution_count": 12,
   "source": [
    "df_cleaned = (df.pipe(copy_df).pipe(drop_missing).pipe(to_category))\n",
    "df_cleaned.shape"
   ],
   "outputs": [
    {
     "output_type": "execute_result",
     "data": {
      "text/plain": [
       "(4864, 6310)"
      ]
     },
     "metadata": {},
     "execution_count": 12
    }
   ],
   "metadata": {}
  },
  {
   "cell_type": "code",
   "execution_count": 30,
   "source": [
    "df_cleaned.columns[-20:]"
   ],
   "outputs": [
    {
     "output_type": "execute_result",
     "data": {
      "text/plain": [
       "Index(['gender', 'value_egfr_init', 'egfr.y', 'age.init', 'cat0.5', 'cat1',\n",
       "       'eskd_filter', 'cat2', 'cat2.5', 'cat3', 'cat3.5', 'cat4', 'cat4.5',\n",
       "       'cat5', 'cat5.5', 'cat6', 'cat6.5', 'cat7', 'cat7.5', 'cat8'],\n",
       "      dtype='object')"
      ]
     },
     "metadata": {},
     "execution_count": 30
    }
   ],
   "metadata": {}
  },
  {
   "cell_type": "code",
   "execution_count": 32,
   "source": [
    "df_rm_intrain = df_cleaned.query(\"eskd_filter == 'non_eskd'\")\n",
    "df_rm_intrain.shape"
   ],
   "outputs": [
    {
     "output_type": "execute_result",
     "data": {
      "text/plain": [
       "(3675, 6310)"
      ]
     },
     "metadata": {},
     "execution_count": 32
    }
   ],
   "metadata": {}
  },
  {
   "cell_type": "code",
   "execution_count": 6,
   "source": [
    "df_rm_intrain = pd.read_csv('../data/cleaned60_selected_1half_6.gz', index_col='id')"
   ],
   "outputs": [],
   "metadata": {}
  },
  {
   "cell_type": "code",
   "execution_count": 33,
   "source": [
    "df_rm_intrain.info()"
   ],
   "outputs": [
    {
     "output_type": "stream",
     "name": "stdout",
     "text": [
      "<class 'pandas.core.frame.DataFrame'>\n",
      "Int64Index: 3675 entries, 3916 to 23864\n",
      "Columns: 6310 entries, urea__variance_larger_than_standard_deviation to cat8\n",
      "dtypes: category(20), float64(6289), int64(1)\n",
      "memory usage: 176.5 MB\n"
     ]
    }
   ],
   "metadata": {}
  },
  {
   "cell_type": "code",
   "execution_count": 8,
   "source": [
    "df_rm_intrain = (df_rm_intrain.pipe(copy_df).pipe(to_category))\n",
    "df_rm_intrain.info()"
   ],
   "outputs": [
    {
     "output_type": "stream",
     "name": "stdout",
     "text": [
      "<class 'pandas.core.frame.DataFrame'>\n",
      "Int64Index: 4409 entries, 3916 to 23864\n",
      "Columns: 5361 entries, mchc__variance_larger_than_standard_deviation to cat8\n",
      "dtypes: category(20), float64(5340), int64(1)\n",
      "memory usage: 179.8 MB\n"
     ]
    }
   ],
   "metadata": {}
  },
  {
   "cell_type": "markdown",
   "source": [
    "### Number of patients reaching ESKD in at 1y post-training "
   ],
   "metadata": {}
  },
  {
   "cell_type": "code",
   "execution_count": 34,
   "source": [
    "df_rm_intrain['cat2.5'].value_counts()"
   ],
   "outputs": [
    {
     "output_type": "execute_result",
     "data": {
      "text/plain": [
       "non_eskd    3554\n",
       "eskd         121\n",
       "Name: cat2.5, dtype: int64"
      ]
     },
     "metadata": {},
     "execution_count": 34
    }
   ],
   "metadata": {}
  },
  {
   "cell_type": "markdown",
   "source": [
    "### Number of patients reaching ESKD in 2y post-training"
   ],
   "metadata": {}
  },
  {
   "cell_type": "code",
   "execution_count": 35,
   "source": [
    "df_rm_intrain['cat3.5'].value_counts()"
   ],
   "outputs": [
    {
     "output_type": "execute_result",
     "data": {
      "text/plain": [
       "non_eskd    3444\n",
       "eskd         231\n",
       "Name: cat3.5, dtype: int64"
      ]
     },
     "metadata": {},
     "execution_count": 35
    }
   ],
   "metadata": {}
  },
  {
   "cell_type": "markdown",
   "source": [
    "### Number of patients reaching ESKD in 5y post-training"
   ],
   "metadata": {}
  },
  {
   "cell_type": "code",
   "execution_count": 36,
   "source": [
    "df_rm_intrain['cat6.5'].value_counts()"
   ],
   "outputs": [
    {
     "output_type": "execute_result",
     "data": {
      "text/plain": [
       "non_eskd    3200\n",
       "eskd         475\n",
       "Name: cat6.5, dtype: int64"
      ]
     },
     "metadata": {},
     "execution_count": 36
    }
   ],
   "metadata": {}
  },
  {
   "cell_type": "code",
   "execution_count": 37,
   "source": [
    "percent_missing = df_rm_intrain.isnull().sum()*100 / len(df_rm_intrain)\n",
    "missing_df_rm_intrain = pd.DataFrame({'column_name': df_rm_intrain.columns, 'percent_miss': percent_missing})\n",
    "missing_df_rm_intrain.sort_values(by='percent_miss', ascending=False)"
   ],
   "outputs": [
    {
     "output_type": "execute_result",
     "data": {
      "text/plain": [
       "                                                                                          column_name  \\\n",
       "creatinine__partial_autocorrelation__lag_1                 creatinine__partial_autocorrelation__lag_1   \n",
       "creatinine__autocorrelation__lag_3                                 creatinine__autocorrelation__lag_3   \n",
       "creatinine__augmented_dickey_fuller__attr_\"\"\"\"\"...  creatinine__augmented_dickey_fuller__attr_\"\"\"\"...   \n",
       "creatinine__augmented_dickey_fuller__attr_\"\"\"\"\"...  creatinine__augmented_dickey_fuller__attr_\"\"\"\"...   \n",
       "creatinine__fft_coefficient__attr_\"\"\"\"\"\"\"\"imag\"...  creatinine__fft_coefficient__attr_\"\"\"\"\"\"\"\"imag...   \n",
       "...                                                                                               ...   \n",
       "dkd                                                                                               dkd   \n",
       "htn                                                                                               htn   \n",
       "aki_3                                                                                           aki_3   \n",
       "aki_1                                                                                           aki_1   \n",
       "cat8                                                                                             cat8   \n",
       "\n",
       "                                                    percent_miss  \n",
       "creatinine__partial_autocorrelation__lag_1             51.129252  \n",
       "creatinine__autocorrelation__lag_3                     51.129252  \n",
       "creatinine__augmented_dickey_fuller__attr_\"\"\"\"\"...     51.129252  \n",
       "creatinine__augmented_dickey_fuller__attr_\"\"\"\"\"...     51.129252  \n",
       "creatinine__fft_coefficient__attr_\"\"\"\"\"\"\"\"imag\"...     51.074830  \n",
       "...                                                          ...  \n",
       "dkd                                                     0.000000  \n",
       "htn                                                     0.000000  \n",
       "aki_3                                                   0.000000  \n",
       "aki_1                                                   0.000000  \n",
       "cat8                                                    0.000000  \n",
       "\n",
       "[6310 rows x 2 columns]"
      ],
      "text/html": [
       "<div>\n",
       "<style scoped>\n",
       "    .dataframe tbody tr th:only-of-type {\n",
       "        vertical-align: middle;\n",
       "    }\n",
       "\n",
       "    .dataframe tbody tr th {\n",
       "        vertical-align: top;\n",
       "    }\n",
       "\n",
       "    .dataframe thead th {\n",
       "        text-align: right;\n",
       "    }\n",
       "</style>\n",
       "<table border=\"1\" class=\"dataframe\">\n",
       "  <thead>\n",
       "    <tr style=\"text-align: right;\">\n",
       "      <th></th>\n",
       "      <th>column_name</th>\n",
       "      <th>percent_miss</th>\n",
       "    </tr>\n",
       "  </thead>\n",
       "  <tbody>\n",
       "    <tr>\n",
       "      <th>creatinine__partial_autocorrelation__lag_1</th>\n",
       "      <td>creatinine__partial_autocorrelation__lag_1</td>\n",
       "      <td>51.129252</td>\n",
       "    </tr>\n",
       "    <tr>\n",
       "      <th>creatinine__autocorrelation__lag_3</th>\n",
       "      <td>creatinine__autocorrelation__lag_3</td>\n",
       "      <td>51.129252</td>\n",
       "    </tr>\n",
       "    <tr>\n",
       "      <th>creatinine__augmented_dickey_fuller__attr_\"\"\"\"\"\"\"\"teststat\"\"\"\"\"\"\"\"__autolag_\"\"\"\"\"\"\"\"AIC\"\"\"\"\"\"\"\"</th>\n",
       "      <td>creatinine__augmented_dickey_fuller__attr_\"\"\"\"...</td>\n",
       "      <td>51.129252</td>\n",
       "    </tr>\n",
       "    <tr>\n",
       "      <th>creatinine__augmented_dickey_fuller__attr_\"\"\"\"\"\"\"\"pvalue\"\"\"\"\"\"\"\"__autolag_\"\"\"\"\"\"\"\"AIC\"\"\"\"\"\"\"\"</th>\n",
       "      <td>creatinine__augmented_dickey_fuller__attr_\"\"\"\"...</td>\n",
       "      <td>51.129252</td>\n",
       "    </tr>\n",
       "    <tr>\n",
       "      <th>creatinine__fft_coefficient__attr_\"\"\"\"\"\"\"\"imag\"\"\"\"\"\"\"\"__coeff_2</th>\n",
       "      <td>creatinine__fft_coefficient__attr_\"\"\"\"\"\"\"\"imag...</td>\n",
       "      <td>51.074830</td>\n",
       "    </tr>\n",
       "    <tr>\n",
       "      <th>...</th>\n",
       "      <td>...</td>\n",
       "      <td>...</td>\n",
       "    </tr>\n",
       "    <tr>\n",
       "      <th>dkd</th>\n",
       "      <td>dkd</td>\n",
       "      <td>0.000000</td>\n",
       "    </tr>\n",
       "    <tr>\n",
       "      <th>htn</th>\n",
       "      <td>htn</td>\n",
       "      <td>0.000000</td>\n",
       "    </tr>\n",
       "    <tr>\n",
       "      <th>aki_3</th>\n",
       "      <td>aki_3</td>\n",
       "      <td>0.000000</td>\n",
       "    </tr>\n",
       "    <tr>\n",
       "      <th>aki_1</th>\n",
       "      <td>aki_1</td>\n",
       "      <td>0.000000</td>\n",
       "    </tr>\n",
       "    <tr>\n",
       "      <th>cat8</th>\n",
       "      <td>cat8</td>\n",
       "      <td>0.000000</td>\n",
       "    </tr>\n",
       "  </tbody>\n",
       "</table>\n",
       "<p>6310 rows × 2 columns</p>\n",
       "</div>"
      ]
     },
     "metadata": {},
     "execution_count": 37
    }
   ],
   "metadata": {}
  },
  {
   "cell_type": "markdown",
   "source": [
    "## ESKD Prediction 5 years post-training"
   ],
   "metadata": {}
  },
  {
   "cell_type": "code",
   "execution_count": 40,
   "source": [
    "dropped_cols = list(df_rm_intrain.columns[-18:])\n",
    "dropped_cols.remove('age.init')\n",
    "dropped_cols"
   ],
   "outputs": [
    {
     "output_type": "execute_result",
     "data": {
      "text/plain": [
       "['egfr.y',\n",
       " 'cat0.5',\n",
       " 'cat1',\n",
       " 'eskd_filter',\n",
       " 'cat2',\n",
       " 'cat2.5',\n",
       " 'cat3',\n",
       " 'cat3.5',\n",
       " 'cat4',\n",
       " 'cat4.5',\n",
       " 'cat5',\n",
       " 'cat5.5',\n",
       " 'cat6',\n",
       " 'cat6.5',\n",
       " 'cat7',\n",
       " 'cat7.5',\n",
       " 'cat8']"
      ]
     },
     "metadata": {},
     "execution_count": 40
    }
   ],
   "metadata": {}
  },
  {
   "cell_type": "code",
   "execution_count": 41,
   "source": [
    "X = df_rm_intrain.drop(dropped_cols,axis=1).copy()\n",
    "y = df_rm_intrain['cat6.5']\n",
    "X.shape, y.shape"
   ],
   "outputs": [
    {
     "output_type": "execute_result",
     "data": {
      "text/plain": [
       "((3675, 6293), (3675,))"
      ]
     },
     "metadata": {},
     "execution_count": 41
    }
   ],
   "metadata": {}
  },
  {
   "cell_type": "code",
   "execution_count": 42,
   "source": [
    "y_mapped = y.map({'non_eskd':'no', 'eskd':'yes'})\n",
    "y_mapped"
   ],
   "outputs": [
    {
     "output_type": "execute_result",
     "data": {
      "text/plain": [
       "id\n",
       "3916     no\n",
       "3918     no\n",
       "3921     no\n",
       "3924     no\n",
       "3930     no\n",
       "         ..\n",
       "23760    no\n",
       "23771    no\n",
       "23780    no\n",
       "23823    no\n",
       "23864    no\n",
       "Name: cat6.5, Length: 3675, dtype: category\n",
       "Categories (2, object): ['yes', 'no']"
      ]
     },
     "metadata": {},
     "execution_count": 42
    }
   ],
   "metadata": {}
  },
  {
   "cell_type": "code",
   "execution_count": 43,
   "source": [
    "X_train, X_test, y_train, y_test = train_test_split(X, y_mapped, test_size=0.3, stratify=y_mapped, random_state=random_state)\n",
    "X_train.shape, X_test.shape, y_train.shape, y_test.shape"
   ],
   "outputs": [
    {
     "output_type": "execute_result",
     "data": {
      "text/plain": [
       "((2572, 6293), (1103, 6293), (2572,), (1103,))"
      ]
     },
     "metadata": {},
     "execution_count": 43
    }
   ],
   "metadata": {}
  },
  {
   "cell_type": "code",
   "execution_count": 44,
   "source": [
    "lab_encode = LabelEncoder()\n",
    "y_train = lab_encode.fit_transform(y_train)\n",
    "y_test = lab_encode.transform(y_test)\n",
    "y_train.shape, y_test.shape"
   ],
   "outputs": [
    {
     "output_type": "execute_result",
     "data": {
      "text/plain": [
       "((2572,), (1103,))"
      ]
     },
     "metadata": {},
     "execution_count": 44
    }
   ],
   "metadata": {}
  },
  {
   "cell_type": "code",
   "execution_count": 45,
   "source": [
    "unique_values, counts = np.unique(y_train, return_counts=True)\n",
    "ratio = dict(zip(unique_values, counts))\n",
    "ratio"
   ],
   "outputs": [
    {
     "output_type": "execute_result",
     "data": {
      "text/plain": [
       "{0: 2240, 1: 332}"
      ]
     },
     "metadata": {},
     "execution_count": 45
    }
   ],
   "metadata": {}
  },
  {
   "cell_type": "code",
   "execution_count": 46,
   "source": [
    "imbalance_ratio = ratio[0] / ratio[1]\n",
    "imbalance_ratio"
   ],
   "outputs": [
    {
     "output_type": "execute_result",
     "data": {
      "text/plain": [
       "6.746987951807229"
      ]
     },
     "metadata": {},
     "execution_count": 46
    }
   ],
   "metadata": {}
  },
  {
   "cell_type": "code",
   "execution_count": 47,
   "source": [
    "category_cols = list(X_train.select_dtypes(include='category').columns)\n",
    "numeric_cols = list(X_train.select_dtypes(include=['number']).columns)\n",
    "one_hot = OneHotEncoder(handle_unknown='ignore')\n",
    "num_imputer = KNNImputer(n_neighbors=5)\n",
    "len(category_cols), len(numeric_cols)"
   ],
   "outputs": [
    {
     "output_type": "execute_result",
     "data": {
      "text/plain": [
       "(4, 6289)"
      ]
     },
     "metadata": {},
     "execution_count": 47
    }
   ],
   "metadata": {}
  },
  {
   "cell_type": "code",
   "execution_count": 48,
   "source": [
    "preprocess = ColumnTransformer([('numerical', num_imputer, numeric_cols), ('cat_encoder', one_hot, category_cols)], remainder='passthrough')\n",
    "X_train_processed = preprocess.fit_transform(X_train)\n",
    "X_train_processed.shape"
   ],
   "outputs": [
    {
     "output_type": "execute_result",
     "data": {
      "text/plain": [
       "(2572, 6304)"
      ]
     },
     "metadata": {},
     "execution_count": 48
    }
   ],
   "metadata": {}
  },
  {
   "cell_type": "code",
   "execution_count": 49,
   "source": [
    "X_test_processed = preprocess.transform(X_test)\n",
    "X_test_processed.shape"
   ],
   "outputs": [
    {
     "output_type": "execute_result",
     "data": {
      "text/plain": [
       "(1103, 6304)"
      ]
     },
     "metadata": {},
     "execution_count": 49
    }
   ],
   "metadata": {}
  },
  {
   "cell_type": "code",
   "execution_count": 50,
   "source": [
    "xgb_class = xgb.XGBClassifier(n_jobs=-1, random_state = random_state, n_estimators=1000, use_label_encoder=False, eval_metric='logloss', scale_pos_weight=imbalance_ratio)\n",
    "sampler = SMOTETomek(sampling_strategy=0.5, random_state=random_state)\n",
    "steps = [('resampling', sampler), ('model', xgb_class)]\n",
    "pipeline = Pipeline(steps=steps)"
   ],
   "outputs": [],
   "metadata": {}
  },
  {
   "cell_type": "code",
   "execution_count": 51,
   "source": [
    "pipeline.fit(X_train_processed, y_train)"
   ],
   "outputs": [
    {
     "output_type": "execute_result",
     "data": {
      "text/plain": [
       "Pipeline(steps=[('resampling',\n",
       "                 SMOTETomek(random_state=7, sampling_strategy=0.5)),\n",
       "                ('model',\n",
       "                 XGBClassifier(base_score=0.5, booster='gbtree',\n",
       "                               colsample_bylevel=1, colsample_bynode=1,\n",
       "                               colsample_bytree=1, eval_metric='logloss',\n",
       "                               gamma=0, gpu_id=-1, importance_type='gain',\n",
       "                               interaction_constraints='',\n",
       "                               learning_rate=0.300000012, max_delta_step=0,\n",
       "                               max_depth=6, min_child_weight=1, missing=nan,\n",
       "                               monotone_constraints='()', n_estimators=1000,\n",
       "                               n_jobs=-1, num_parallel_tree=1, random_state=7,\n",
       "                               reg_alpha=0, reg_lambda=1,\n",
       "                               scale_pos_weight=6.746987951807229, subsample=1,\n",
       "                               tree_method='exact', use_label_encoder=False,\n",
       "                               validate_parameters=1, verbosity=None))])"
      ]
     },
     "metadata": {},
     "execution_count": 51
    }
   ],
   "metadata": {}
  },
  {
   "cell_type": "code",
   "execution_count": 52,
   "source": [
    "y_pred = pipeline.predict(X_test_processed)"
   ],
   "outputs": [],
   "metadata": {}
  },
  {
   "cell_type": "code",
   "execution_count": 53,
   "source": [
    "confusion_matrix(y_true=y_test, y_pred=y_pred)"
   ],
   "outputs": [
    {
     "output_type": "execute_result",
     "data": {
      "text/plain": [
       "array([[908,  52],\n",
       "       [ 80,  63]])"
      ]
     },
     "metadata": {},
     "execution_count": 53
    }
   ],
   "metadata": {}
  },
  {
   "cell_type": "code",
   "execution_count": 54,
   "source": [
    "roc_auc_score(y_test, y_pred)"
   ],
   "outputs": [
    {
     "output_type": "execute_result",
     "data": {
      "text/plain": [
       "0.693196386946387"
      ]
     },
     "metadata": {},
     "execution_count": 54
    }
   ],
   "metadata": {}
  },
  {
   "cell_type": "code",
   "execution_count": 55,
   "source": [
    "print(classification_report(y_true=y_test, y_pred=y_pred))"
   ],
   "outputs": [
    {
     "output_type": "stream",
     "name": "stdout",
     "text": [
      "              precision    recall  f1-score   support\n",
      "\n",
      "           0       0.92      0.95      0.93       960\n",
      "           1       0.55      0.44      0.49       143\n",
      "\n",
      "    accuracy                           0.88      1103\n",
      "   macro avg       0.73      0.69      0.71      1103\n",
      "weighted avg       0.87      0.88      0.87      1103\n",
      "\n"
     ]
    }
   ],
   "metadata": {}
  },
  {
   "cell_type": "code",
   "execution_count": 56,
   "source": [
    "print(matthews_corrcoef(y_test, y_pred))"
   ],
   "outputs": [
    {
     "output_type": "stream",
     "name": "stdout",
     "text": [
      "0.4247224706406981\n"
     ]
    }
   ],
   "metadata": {}
  },
  {
   "cell_type": "code",
   "execution_count": 57,
   "source": [
    "importance = pipeline.named_steps['model'].feature_importances_\n",
    "importance.shape, type(importance)"
   ],
   "outputs": [
    {
     "output_type": "execute_result",
     "data": {
      "text/plain": [
       "((6304,), numpy.ndarray)"
      ]
     },
     "metadata": {},
     "execution_count": 57
    }
   ],
   "metadata": {}
  },
  {
   "cell_type": "code",
   "execution_count": 58,
   "source": [
    "category_label = list(preprocess.named_transformers_['cat_encoder'].get_feature_names(category_cols))\n",
    "feature_label = numeric_cols + category_label\n",
    "len(feature_label)"
   ],
   "outputs": [
    {
     "output_type": "execute_result",
     "data": {
      "text/plain": [
       "6304"
      ]
     },
     "metadata": {},
     "execution_count": 58
    }
   ],
   "metadata": {}
  },
  {
   "cell_type": "code",
   "execution_count": 59,
   "source": [
    "pd.set_option('display.max_rows', 400)\n",
    "eval_df = pd.DataFrame({'label': feature_label, 'importance_value': importance})\n",
    "eval_df.sort_values(by='importance_value', ascending=False).head(100)"
   ],
   "outputs": [
    {
     "output_type": "execute_result",
     "data": {
      "text/plain": [
       "                                                  label  importance_value\n",
       "2032                        creatinine__quantile__q_0.4          0.040011\n",
       "4532       eosinophils__approximate_entropy__m_2__r_0.9          0.032294\n",
       "1957                                 creatinine__median          0.030981\n",
       "981    alkphos__variance_larger_than_standard_deviation          0.023078\n",
       "2244     egfr__time_reversal_asymmetry_statistic__lag_2          0.013753\n",
       "1841  chloride__change_quantiles__f_agg_\"\"\"\"\"\"\"\"mean...          0.013141\n",
       "4999                                lymphocytes__median          0.012887\n",
       "5503                              mchc__quantile__q_0.6          0.012206\n",
       "3386          platelet__approximate_entropy__m_2__r_0.3          0.010835\n",
       "4113  alt__energy_ratio_by_chunks__num_segments_10__...          0.010218\n",
       "1365  calcium__change_quantiles__f_agg_\"\"\"\"\"\"\"\"mean\"...          0.009949\n",
       "4963  haematocrit__linear_trend__attr_\"\"\"\"\"\"\"\"rvalue...          0.009550\n",
       "4217  bicarbonate__agg_autocorrelation__f_agg_\"\"\"\"\"\"...          0.008985\n",
       "3798  sodium__change_quantiles__f_agg_\"\"\"\"\"\"\"\"var\"\"\"...          0.008866\n",
       "1971              creatinine__first_location_of_maximum          0.008299\n",
       "5236                           mch__benford_correlation          0.008150\n",
       "4764                   ggt__ratio_beyond_r_sigma__r_1.5          0.008054\n",
       "3935                      alt__last_location_of_maximum          0.007626\n",
       "1159  alkphos__change_quantiles__f_agg_\"\"\"\"\"\"\"\"mean\"...          0.007611\n",
       "1249  calcium__percentage_of_reoccurring_values_to_a...          0.007527\n",
       "5183  lymphocytes__energy_ratio_by_chunks__num_segme...          0.007366\n",
       "1047  alkphos__large_standard_deviation__r_0.3500000...          0.007165\n",
       "6291                                            dkd_dkd          0.006880\n",
       "2031                        creatinine__quantile__q_0.3          0.006698\n",
       "7                  urea__mean_second_derivative_central          0.006639\n",
       "85                                urea__quantile__q_0.8          0.006293\n",
       "400   ureacreat_ratio__change_quantiles__f_agg_\"\"\"\"\"...          0.006284\n",
       "5980  neutrophils__change_quantiles__f_agg_\"\"\"\"\"\"\"\"v...          0.006219\n",
       "359   ureacreat_ratio__cwt_coefficients__coeff_1__w_...          0.006091\n",
       "4895  haematocrit__change_quantiles__f_agg_\"\"\"\"\"\"\"\"v...          0.006022\n",
       "2751               haemoglobin__symmetry_looking__r_0.2          0.005855\n",
       "4218  bicarbonate__agg_autocorrelation__f_agg_\"\"\"\"\"\"...          0.005844\n",
       "2336  egfr__cwt_coefficients__coeff_3__w_5__widths_(...          0.005703\n",
       "5161  lymphocytes__fft_coefficient__attr_\"\"\"\"\"\"\"\"rea...          0.005651\n",
       "5743  monocytes__cwt_coefficients__coeff_0__w_10__wi...          0.005524\n",
       "5331  mch__change_quantiles__f_agg_\"\"\"\"\"\"\"\"var\"\"\"\"\"\"...          0.005296\n",
       "3193                              platelet__mean_change          0.005294\n",
       "4783                            haematocrit__abs_energy          0.005247\n",
       "4021  alt__cwt_coefficients__coeff_0__w_2__widths_(2...          0.005137\n",
       "4861                       haematocrit__quantile__q_0.9          0.004799\n",
       "3957                       alt__symmetry_looking__r_0.1          0.004797\n",
       "3605  potassium__change_quantiles__f_agg_\"\"\"\"\"\"\"\"mea...          0.004669\n",
       "987                                alkphos__mean_change          0.004665\n",
       "1071  alkphos__agg_autocorrelation__f_agg_\"\"\"\"\"\"\"\"me...          0.004586\n",
       "1797  chloride__agg_autocorrelation__f_agg_\"\"\"\"\"\"\"\"v...          0.004565\n",
       "2252                     egfr__symmetry_looking__r_0.05          0.004519\n",
       "4375                               eosinophils__minimum          0.004516\n",
       "4904  haematocrit__change_quantiles__f_agg_\"\"\"\"\"\"\"\"m...          0.004463\n",
       "364   ureacreat_ratio__cwt_coefficients__coeff_2__w_...          0.004462\n",
       "6223  rbc__change_quantiles__f_agg_\"\"\"\"\"\"\"\"var\"\"\"\"\"\"...          0.004448\n",
       "1192  alkphos__energy_ratio_by_chunks__num_segments_...          0.004416\n",
       "4785                                  haematocrit__mean          0.004279\n",
       "2055             creatinine__index_mass_quantile__q_0.2          0.004217\n",
       "5210                             mch__has_duplicate_max          0.004148\n",
       "1003                  alkphos__last_location_of_minimum          0.004017\n",
       "5934                       neutrophils__quantile__q_0.7          0.003899\n",
       "863   albumin__change_quantiles__f_agg_\"\"\"\"\"\"\"\"mean\"...          0.003853\n",
       "2630  glucose__change_quantiles__f_agg_\"\"\"\"\"\"\"\"mean\"...          0.003840\n",
       "2039                 creatinine__autocorrelation__lag_2          0.003813\n",
       "1951                      creatinine__has_duplicate_min          0.003784\n",
       "959                  albumin__ratio_beyond_r_sigma__r_1          0.003770\n",
       "6250               rbc__approximate_entropy__m_2__r_0.5          0.003763\n",
       "1347  calcium__change_quantiles__f_agg_\"\"\"\"\"\"\"\"mean\"...          0.003740\n",
       "822                            albumin__quantile__q_0.8          0.003719\n",
       "2256                     egfr__symmetry_looking__r_0.25          0.003698\n",
       "3096  phosphate__change_quantiles__f_agg_\"\"\"\"\"\"\"\"mea...          0.003685\n",
       "4859                       haematocrit__quantile__q_0.7          0.003646\n",
       "2247                                    egfr__c3__lag_2          0.003555\n",
       "3823  sodium__change_quantiles__f_agg_\"\"\"\"\"\"\"\"mean\"\"...          0.003554\n",
       "3310  platelet__change_quantiles__f_agg_\"\"\"\"\"\"\"\"var\"...          0.003448\n",
       "2231                     egfr__last_location_of_maximum          0.003413\n",
       "2614  glucose__change_quantiles__f_agg_\"\"\"\"\"\"\"\"mean\"...          0.003384\n",
       "2594  glucose__change_quantiles__f_agg_\"\"\"\"\"\"\"\"mean\"...          0.003297\n",
       "5073                       lymphocytes__quantile__q_0.6          0.003231\n",
       "4863  haematocrit__agg_autocorrelation__f_agg_\"\"\"\"\"\"...          0.003207\n",
       "1152  alkphos__change_quantiles__f_agg_\"\"\"\"\"\"\"\"var\"\"...          0.003187\n",
       "4641                               ggt__quantile__q_0.3          0.003138\n",
       "3981  alt__large_standard_deviation__r_0.35000000000...          0.003133\n",
       "1046  alkphos__large_standard_deviation__r_0.3000000...          0.003120\n",
       "4334           bicarbonate__ratio_beyond_r_sigma__r_1.5          0.003107\n",
       "41                       urea__symmetry_looking__r_0.05          0.003082\n",
       "5186  lymphocytes__energy_ratio_by_chunks__num_segme...          0.003076\n",
       "2792                       haemoglobin__quantile__q_0.8          0.003074\n",
       "6074                                        rbc__median          0.002982\n",
       "3148  phosphate__linear_trend__attr_\"\"\"\"\"\"\"\"rvalue\"\"...          0.002957\n",
       "154   urea__change_quantiles__f_agg_\"\"\"\"\"\"\"\"mean\"\"\"\"...          0.002950\n",
       "277   ureacreat_ratio__time_reversal_asymmetry_stati...          0.002921\n",
       "4533  eosinophils__linear_trend__attr_\"\"\"\"\"\"\"\"rvalue...          0.002913\n",
       "1958                                   creatinine__mean          0.002911\n",
       "1981                    creatinine__benford_correlation          0.002868\n",
       "2233                     egfr__last_location_of_minimum          0.002864\n",
       "4335             bicarbonate__ratio_beyond_r_sigma__r_2          0.002783\n",
       "1304                           calcium__quantile__q_0.1          0.002751\n",
       "1448               calcium__ratio_beyond_r_sigma__r_1.5          0.002724\n",
       "4754  ggt__energy_ratio_by_chunks__num_segments_10__...          0.002723\n",
       "4107  alt__energy_ratio_by_chunks__num_segments_10__...          0.002692\n",
       "110   urea__cwt_coefficients__coeff_0__w_5__widths_(...          0.002679\n",
       "4685  ggt__change_quantiles__f_agg_\"\"\"\"\"\"\"\"mean\"\"\"\"\"...          0.002678\n",
       "3788  sodium__cwt_coefficients__coeff_1__w_2__widths...          0.002656\n",
       "2063  creatinine__cwt_coefficients__coeff_0__w_5__wi...          0.002584"
      ],
      "text/html": [
       "<div>\n",
       "<style scoped>\n",
       "    .dataframe tbody tr th:only-of-type {\n",
       "        vertical-align: middle;\n",
       "    }\n",
       "\n",
       "    .dataframe tbody tr th {\n",
       "        vertical-align: top;\n",
       "    }\n",
       "\n",
       "    .dataframe thead th {\n",
       "        text-align: right;\n",
       "    }\n",
       "</style>\n",
       "<table border=\"1\" class=\"dataframe\">\n",
       "  <thead>\n",
       "    <tr style=\"text-align: right;\">\n",
       "      <th></th>\n",
       "      <th>label</th>\n",
       "      <th>importance_value</th>\n",
       "    </tr>\n",
       "  </thead>\n",
       "  <tbody>\n",
       "    <tr>\n",
       "      <th>2032</th>\n",
       "      <td>creatinine__quantile__q_0.4</td>\n",
       "      <td>0.040011</td>\n",
       "    </tr>\n",
       "    <tr>\n",
       "      <th>4532</th>\n",
       "      <td>eosinophils__approximate_entropy__m_2__r_0.9</td>\n",
       "      <td>0.032294</td>\n",
       "    </tr>\n",
       "    <tr>\n",
       "      <th>1957</th>\n",
       "      <td>creatinine__median</td>\n",
       "      <td>0.030981</td>\n",
       "    </tr>\n",
       "    <tr>\n",
       "      <th>981</th>\n",
       "      <td>alkphos__variance_larger_than_standard_deviation</td>\n",
       "      <td>0.023078</td>\n",
       "    </tr>\n",
       "    <tr>\n",
       "      <th>2244</th>\n",
       "      <td>egfr__time_reversal_asymmetry_statistic__lag_2</td>\n",
       "      <td>0.013753</td>\n",
       "    </tr>\n",
       "    <tr>\n",
       "      <th>1841</th>\n",
       "      <td>chloride__change_quantiles__f_agg_\"\"\"\"\"\"\"\"mean...</td>\n",
       "      <td>0.013141</td>\n",
       "    </tr>\n",
       "    <tr>\n",
       "      <th>4999</th>\n",
       "      <td>lymphocytes__median</td>\n",
       "      <td>0.012887</td>\n",
       "    </tr>\n",
       "    <tr>\n",
       "      <th>5503</th>\n",
       "      <td>mchc__quantile__q_0.6</td>\n",
       "      <td>0.012206</td>\n",
       "    </tr>\n",
       "    <tr>\n",
       "      <th>3386</th>\n",
       "      <td>platelet__approximate_entropy__m_2__r_0.3</td>\n",
       "      <td>0.010835</td>\n",
       "    </tr>\n",
       "    <tr>\n",
       "      <th>4113</th>\n",
       "      <td>alt__energy_ratio_by_chunks__num_segments_10__...</td>\n",
       "      <td>0.010218</td>\n",
       "    </tr>\n",
       "    <tr>\n",
       "      <th>1365</th>\n",
       "      <td>calcium__change_quantiles__f_agg_\"\"\"\"\"\"\"\"mean\"...</td>\n",
       "      <td>0.009949</td>\n",
       "    </tr>\n",
       "    <tr>\n",
       "      <th>4963</th>\n",
       "      <td>haematocrit__linear_trend__attr_\"\"\"\"\"\"\"\"rvalue...</td>\n",
       "      <td>0.009550</td>\n",
       "    </tr>\n",
       "    <tr>\n",
       "      <th>4217</th>\n",
       "      <td>bicarbonate__agg_autocorrelation__f_agg_\"\"\"\"\"\"...</td>\n",
       "      <td>0.008985</td>\n",
       "    </tr>\n",
       "    <tr>\n",
       "      <th>3798</th>\n",
       "      <td>sodium__change_quantiles__f_agg_\"\"\"\"\"\"\"\"var\"\"\"...</td>\n",
       "      <td>0.008866</td>\n",
       "    </tr>\n",
       "    <tr>\n",
       "      <th>1971</th>\n",
       "      <td>creatinine__first_location_of_maximum</td>\n",
       "      <td>0.008299</td>\n",
       "    </tr>\n",
       "    <tr>\n",
       "      <th>5236</th>\n",
       "      <td>mch__benford_correlation</td>\n",
       "      <td>0.008150</td>\n",
       "    </tr>\n",
       "    <tr>\n",
       "      <th>4764</th>\n",
       "      <td>ggt__ratio_beyond_r_sigma__r_1.5</td>\n",
       "      <td>0.008054</td>\n",
       "    </tr>\n",
       "    <tr>\n",
       "      <th>3935</th>\n",
       "      <td>alt__last_location_of_maximum</td>\n",
       "      <td>0.007626</td>\n",
       "    </tr>\n",
       "    <tr>\n",
       "      <th>1159</th>\n",
       "      <td>alkphos__change_quantiles__f_agg_\"\"\"\"\"\"\"\"mean\"...</td>\n",
       "      <td>0.007611</td>\n",
       "    </tr>\n",
       "    <tr>\n",
       "      <th>1249</th>\n",
       "      <td>calcium__percentage_of_reoccurring_values_to_a...</td>\n",
       "      <td>0.007527</td>\n",
       "    </tr>\n",
       "    <tr>\n",
       "      <th>5183</th>\n",
       "      <td>lymphocytes__energy_ratio_by_chunks__num_segme...</td>\n",
       "      <td>0.007366</td>\n",
       "    </tr>\n",
       "    <tr>\n",
       "      <th>1047</th>\n",
       "      <td>alkphos__large_standard_deviation__r_0.3500000...</td>\n",
       "      <td>0.007165</td>\n",
       "    </tr>\n",
       "    <tr>\n",
       "      <th>6291</th>\n",
       "      <td>dkd_dkd</td>\n",
       "      <td>0.006880</td>\n",
       "    </tr>\n",
       "    <tr>\n",
       "      <th>2031</th>\n",
       "      <td>creatinine__quantile__q_0.3</td>\n",
       "      <td>0.006698</td>\n",
       "    </tr>\n",
       "    <tr>\n",
       "      <th>7</th>\n",
       "      <td>urea__mean_second_derivative_central</td>\n",
       "      <td>0.006639</td>\n",
       "    </tr>\n",
       "    <tr>\n",
       "      <th>85</th>\n",
       "      <td>urea__quantile__q_0.8</td>\n",
       "      <td>0.006293</td>\n",
       "    </tr>\n",
       "    <tr>\n",
       "      <th>400</th>\n",
       "      <td>ureacreat_ratio__change_quantiles__f_agg_\"\"\"\"\"...</td>\n",
       "      <td>0.006284</td>\n",
       "    </tr>\n",
       "    <tr>\n",
       "      <th>5980</th>\n",
       "      <td>neutrophils__change_quantiles__f_agg_\"\"\"\"\"\"\"\"v...</td>\n",
       "      <td>0.006219</td>\n",
       "    </tr>\n",
       "    <tr>\n",
       "      <th>359</th>\n",
       "      <td>ureacreat_ratio__cwt_coefficients__coeff_1__w_...</td>\n",
       "      <td>0.006091</td>\n",
       "    </tr>\n",
       "    <tr>\n",
       "      <th>4895</th>\n",
       "      <td>haematocrit__change_quantiles__f_agg_\"\"\"\"\"\"\"\"v...</td>\n",
       "      <td>0.006022</td>\n",
       "    </tr>\n",
       "    <tr>\n",
       "      <th>2751</th>\n",
       "      <td>haemoglobin__symmetry_looking__r_0.2</td>\n",
       "      <td>0.005855</td>\n",
       "    </tr>\n",
       "    <tr>\n",
       "      <th>4218</th>\n",
       "      <td>bicarbonate__agg_autocorrelation__f_agg_\"\"\"\"\"\"...</td>\n",
       "      <td>0.005844</td>\n",
       "    </tr>\n",
       "    <tr>\n",
       "      <th>2336</th>\n",
       "      <td>egfr__cwt_coefficients__coeff_3__w_5__widths_(...</td>\n",
       "      <td>0.005703</td>\n",
       "    </tr>\n",
       "    <tr>\n",
       "      <th>5161</th>\n",
       "      <td>lymphocytes__fft_coefficient__attr_\"\"\"\"\"\"\"\"rea...</td>\n",
       "      <td>0.005651</td>\n",
       "    </tr>\n",
       "    <tr>\n",
       "      <th>5743</th>\n",
       "      <td>monocytes__cwt_coefficients__coeff_0__w_10__wi...</td>\n",
       "      <td>0.005524</td>\n",
       "    </tr>\n",
       "    <tr>\n",
       "      <th>5331</th>\n",
       "      <td>mch__change_quantiles__f_agg_\"\"\"\"\"\"\"\"var\"\"\"\"\"\"...</td>\n",
       "      <td>0.005296</td>\n",
       "    </tr>\n",
       "    <tr>\n",
       "      <th>3193</th>\n",
       "      <td>platelet__mean_change</td>\n",
       "      <td>0.005294</td>\n",
       "    </tr>\n",
       "    <tr>\n",
       "      <th>4783</th>\n",
       "      <td>haematocrit__abs_energy</td>\n",
       "      <td>0.005247</td>\n",
       "    </tr>\n",
       "    <tr>\n",
       "      <th>4021</th>\n",
       "      <td>alt__cwt_coefficients__coeff_0__w_2__widths_(2...</td>\n",
       "      <td>0.005137</td>\n",
       "    </tr>\n",
       "    <tr>\n",
       "      <th>4861</th>\n",
       "      <td>haematocrit__quantile__q_0.9</td>\n",
       "      <td>0.004799</td>\n",
       "    </tr>\n",
       "    <tr>\n",
       "      <th>3957</th>\n",
       "      <td>alt__symmetry_looking__r_0.1</td>\n",
       "      <td>0.004797</td>\n",
       "    </tr>\n",
       "    <tr>\n",
       "      <th>3605</th>\n",
       "      <td>potassium__change_quantiles__f_agg_\"\"\"\"\"\"\"\"mea...</td>\n",
       "      <td>0.004669</td>\n",
       "    </tr>\n",
       "    <tr>\n",
       "      <th>987</th>\n",
       "      <td>alkphos__mean_change</td>\n",
       "      <td>0.004665</td>\n",
       "    </tr>\n",
       "    <tr>\n",
       "      <th>1071</th>\n",
       "      <td>alkphos__agg_autocorrelation__f_agg_\"\"\"\"\"\"\"\"me...</td>\n",
       "      <td>0.004586</td>\n",
       "    </tr>\n",
       "    <tr>\n",
       "      <th>1797</th>\n",
       "      <td>chloride__agg_autocorrelation__f_agg_\"\"\"\"\"\"\"\"v...</td>\n",
       "      <td>0.004565</td>\n",
       "    </tr>\n",
       "    <tr>\n",
       "      <th>2252</th>\n",
       "      <td>egfr__symmetry_looking__r_0.05</td>\n",
       "      <td>0.004519</td>\n",
       "    </tr>\n",
       "    <tr>\n",
       "      <th>4375</th>\n",
       "      <td>eosinophils__minimum</td>\n",
       "      <td>0.004516</td>\n",
       "    </tr>\n",
       "    <tr>\n",
       "      <th>4904</th>\n",
       "      <td>haematocrit__change_quantiles__f_agg_\"\"\"\"\"\"\"\"m...</td>\n",
       "      <td>0.004463</td>\n",
       "    </tr>\n",
       "    <tr>\n",
       "      <th>364</th>\n",
       "      <td>ureacreat_ratio__cwt_coefficients__coeff_2__w_...</td>\n",
       "      <td>0.004462</td>\n",
       "    </tr>\n",
       "    <tr>\n",
       "      <th>6223</th>\n",
       "      <td>rbc__change_quantiles__f_agg_\"\"\"\"\"\"\"\"var\"\"\"\"\"\"...</td>\n",
       "      <td>0.004448</td>\n",
       "    </tr>\n",
       "    <tr>\n",
       "      <th>1192</th>\n",
       "      <td>alkphos__energy_ratio_by_chunks__num_segments_...</td>\n",
       "      <td>0.004416</td>\n",
       "    </tr>\n",
       "    <tr>\n",
       "      <th>4785</th>\n",
       "      <td>haematocrit__mean</td>\n",
       "      <td>0.004279</td>\n",
       "    </tr>\n",
       "    <tr>\n",
       "      <th>2055</th>\n",
       "      <td>creatinine__index_mass_quantile__q_0.2</td>\n",
       "      <td>0.004217</td>\n",
       "    </tr>\n",
       "    <tr>\n",
       "      <th>5210</th>\n",
       "      <td>mch__has_duplicate_max</td>\n",
       "      <td>0.004148</td>\n",
       "    </tr>\n",
       "    <tr>\n",
       "      <th>1003</th>\n",
       "      <td>alkphos__last_location_of_minimum</td>\n",
       "      <td>0.004017</td>\n",
       "    </tr>\n",
       "    <tr>\n",
       "      <th>5934</th>\n",
       "      <td>neutrophils__quantile__q_0.7</td>\n",
       "      <td>0.003899</td>\n",
       "    </tr>\n",
       "    <tr>\n",
       "      <th>863</th>\n",
       "      <td>albumin__change_quantiles__f_agg_\"\"\"\"\"\"\"\"mean\"...</td>\n",
       "      <td>0.003853</td>\n",
       "    </tr>\n",
       "    <tr>\n",
       "      <th>2630</th>\n",
       "      <td>glucose__change_quantiles__f_agg_\"\"\"\"\"\"\"\"mean\"...</td>\n",
       "      <td>0.003840</td>\n",
       "    </tr>\n",
       "    <tr>\n",
       "      <th>2039</th>\n",
       "      <td>creatinine__autocorrelation__lag_2</td>\n",
       "      <td>0.003813</td>\n",
       "    </tr>\n",
       "    <tr>\n",
       "      <th>1951</th>\n",
       "      <td>creatinine__has_duplicate_min</td>\n",
       "      <td>0.003784</td>\n",
       "    </tr>\n",
       "    <tr>\n",
       "      <th>959</th>\n",
       "      <td>albumin__ratio_beyond_r_sigma__r_1</td>\n",
       "      <td>0.003770</td>\n",
       "    </tr>\n",
       "    <tr>\n",
       "      <th>6250</th>\n",
       "      <td>rbc__approximate_entropy__m_2__r_0.5</td>\n",
       "      <td>0.003763</td>\n",
       "    </tr>\n",
       "    <tr>\n",
       "      <th>1347</th>\n",
       "      <td>calcium__change_quantiles__f_agg_\"\"\"\"\"\"\"\"mean\"...</td>\n",
       "      <td>0.003740</td>\n",
       "    </tr>\n",
       "    <tr>\n",
       "      <th>822</th>\n",
       "      <td>albumin__quantile__q_0.8</td>\n",
       "      <td>0.003719</td>\n",
       "    </tr>\n",
       "    <tr>\n",
       "      <th>2256</th>\n",
       "      <td>egfr__symmetry_looking__r_0.25</td>\n",
       "      <td>0.003698</td>\n",
       "    </tr>\n",
       "    <tr>\n",
       "      <th>3096</th>\n",
       "      <td>phosphate__change_quantiles__f_agg_\"\"\"\"\"\"\"\"mea...</td>\n",
       "      <td>0.003685</td>\n",
       "    </tr>\n",
       "    <tr>\n",
       "      <th>4859</th>\n",
       "      <td>haematocrit__quantile__q_0.7</td>\n",
       "      <td>0.003646</td>\n",
       "    </tr>\n",
       "    <tr>\n",
       "      <th>2247</th>\n",
       "      <td>egfr__c3__lag_2</td>\n",
       "      <td>0.003555</td>\n",
       "    </tr>\n",
       "    <tr>\n",
       "      <th>3823</th>\n",
       "      <td>sodium__change_quantiles__f_agg_\"\"\"\"\"\"\"\"mean\"\"...</td>\n",
       "      <td>0.003554</td>\n",
       "    </tr>\n",
       "    <tr>\n",
       "      <th>3310</th>\n",
       "      <td>platelet__change_quantiles__f_agg_\"\"\"\"\"\"\"\"var\"...</td>\n",
       "      <td>0.003448</td>\n",
       "    </tr>\n",
       "    <tr>\n",
       "      <th>2231</th>\n",
       "      <td>egfr__last_location_of_maximum</td>\n",
       "      <td>0.003413</td>\n",
       "    </tr>\n",
       "    <tr>\n",
       "      <th>2614</th>\n",
       "      <td>glucose__change_quantiles__f_agg_\"\"\"\"\"\"\"\"mean\"...</td>\n",
       "      <td>0.003384</td>\n",
       "    </tr>\n",
       "    <tr>\n",
       "      <th>2594</th>\n",
       "      <td>glucose__change_quantiles__f_agg_\"\"\"\"\"\"\"\"mean\"...</td>\n",
       "      <td>0.003297</td>\n",
       "    </tr>\n",
       "    <tr>\n",
       "      <th>5073</th>\n",
       "      <td>lymphocytes__quantile__q_0.6</td>\n",
       "      <td>0.003231</td>\n",
       "    </tr>\n",
       "    <tr>\n",
       "      <th>4863</th>\n",
       "      <td>haematocrit__agg_autocorrelation__f_agg_\"\"\"\"\"\"...</td>\n",
       "      <td>0.003207</td>\n",
       "    </tr>\n",
       "    <tr>\n",
       "      <th>1152</th>\n",
       "      <td>alkphos__change_quantiles__f_agg_\"\"\"\"\"\"\"\"var\"\"...</td>\n",
       "      <td>0.003187</td>\n",
       "    </tr>\n",
       "    <tr>\n",
       "      <th>4641</th>\n",
       "      <td>ggt__quantile__q_0.3</td>\n",
       "      <td>0.003138</td>\n",
       "    </tr>\n",
       "    <tr>\n",
       "      <th>3981</th>\n",
       "      <td>alt__large_standard_deviation__r_0.35000000000...</td>\n",
       "      <td>0.003133</td>\n",
       "    </tr>\n",
       "    <tr>\n",
       "      <th>1046</th>\n",
       "      <td>alkphos__large_standard_deviation__r_0.3000000...</td>\n",
       "      <td>0.003120</td>\n",
       "    </tr>\n",
       "    <tr>\n",
       "      <th>4334</th>\n",
       "      <td>bicarbonate__ratio_beyond_r_sigma__r_1.5</td>\n",
       "      <td>0.003107</td>\n",
       "    </tr>\n",
       "    <tr>\n",
       "      <th>41</th>\n",
       "      <td>urea__symmetry_looking__r_0.05</td>\n",
       "      <td>0.003082</td>\n",
       "    </tr>\n",
       "    <tr>\n",
       "      <th>5186</th>\n",
       "      <td>lymphocytes__energy_ratio_by_chunks__num_segme...</td>\n",
       "      <td>0.003076</td>\n",
       "    </tr>\n",
       "    <tr>\n",
       "      <th>2792</th>\n",
       "      <td>haemoglobin__quantile__q_0.8</td>\n",
       "      <td>0.003074</td>\n",
       "    </tr>\n",
       "    <tr>\n",
       "      <th>6074</th>\n",
       "      <td>rbc__median</td>\n",
       "      <td>0.002982</td>\n",
       "    </tr>\n",
       "    <tr>\n",
       "      <th>3148</th>\n",
       "      <td>phosphate__linear_trend__attr_\"\"\"\"\"\"\"\"rvalue\"\"...</td>\n",
       "      <td>0.002957</td>\n",
       "    </tr>\n",
       "    <tr>\n",
       "      <th>154</th>\n",
       "      <td>urea__change_quantiles__f_agg_\"\"\"\"\"\"\"\"mean\"\"\"\"...</td>\n",
       "      <td>0.002950</td>\n",
       "    </tr>\n",
       "    <tr>\n",
       "      <th>277</th>\n",
       "      <td>ureacreat_ratio__time_reversal_asymmetry_stati...</td>\n",
       "      <td>0.002921</td>\n",
       "    </tr>\n",
       "    <tr>\n",
       "      <th>4533</th>\n",
       "      <td>eosinophils__linear_trend__attr_\"\"\"\"\"\"\"\"rvalue...</td>\n",
       "      <td>0.002913</td>\n",
       "    </tr>\n",
       "    <tr>\n",
       "      <th>1958</th>\n",
       "      <td>creatinine__mean</td>\n",
       "      <td>0.002911</td>\n",
       "    </tr>\n",
       "    <tr>\n",
       "      <th>1981</th>\n",
       "      <td>creatinine__benford_correlation</td>\n",
       "      <td>0.002868</td>\n",
       "    </tr>\n",
       "    <tr>\n",
       "      <th>2233</th>\n",
       "      <td>egfr__last_location_of_minimum</td>\n",
       "      <td>0.002864</td>\n",
       "    </tr>\n",
       "    <tr>\n",
       "      <th>4335</th>\n",
       "      <td>bicarbonate__ratio_beyond_r_sigma__r_2</td>\n",
       "      <td>0.002783</td>\n",
       "    </tr>\n",
       "    <tr>\n",
       "      <th>1304</th>\n",
       "      <td>calcium__quantile__q_0.1</td>\n",
       "      <td>0.002751</td>\n",
       "    </tr>\n",
       "    <tr>\n",
       "      <th>1448</th>\n",
       "      <td>calcium__ratio_beyond_r_sigma__r_1.5</td>\n",
       "      <td>0.002724</td>\n",
       "    </tr>\n",
       "    <tr>\n",
       "      <th>4754</th>\n",
       "      <td>ggt__energy_ratio_by_chunks__num_segments_10__...</td>\n",
       "      <td>0.002723</td>\n",
       "    </tr>\n",
       "    <tr>\n",
       "      <th>4107</th>\n",
       "      <td>alt__energy_ratio_by_chunks__num_segments_10__...</td>\n",
       "      <td>0.002692</td>\n",
       "    </tr>\n",
       "    <tr>\n",
       "      <th>110</th>\n",
       "      <td>urea__cwt_coefficients__coeff_0__w_5__widths_(...</td>\n",
       "      <td>0.002679</td>\n",
       "    </tr>\n",
       "    <tr>\n",
       "      <th>4685</th>\n",
       "      <td>ggt__change_quantiles__f_agg_\"\"\"\"\"\"\"\"mean\"\"\"\"\"...</td>\n",
       "      <td>0.002678</td>\n",
       "    </tr>\n",
       "    <tr>\n",
       "      <th>3788</th>\n",
       "      <td>sodium__cwt_coefficients__coeff_1__w_2__widths...</td>\n",
       "      <td>0.002656</td>\n",
       "    </tr>\n",
       "    <tr>\n",
       "      <th>2063</th>\n",
       "      <td>creatinine__cwt_coefficients__coeff_0__w_5__wi...</td>\n",
       "      <td>0.002584</td>\n",
       "    </tr>\n",
       "  </tbody>\n",
       "</table>\n",
       "</div>"
      ]
     },
     "metadata": {},
     "execution_count": 59
    }
   ],
   "metadata": {}
  },
  {
   "cell_type": "markdown",
   "source": [
    "## ESKD Prediction 2 years post-training"
   ],
   "metadata": {}
  },
  {
   "cell_type": "code",
   "execution_count": 60,
   "source": [
    "X = df_rm_intrain.drop(dropped_cols,axis=1).copy()\n",
    "y = df_rm_intrain['cat3.5']\n",
    "X.shape, y.shape"
   ],
   "outputs": [
    {
     "output_type": "execute_result",
     "data": {
      "text/plain": [
       "((3675, 6293), (3675,))"
      ]
     },
     "metadata": {},
     "execution_count": 60
    }
   ],
   "metadata": {}
  },
  {
   "cell_type": "code",
   "execution_count": 61,
   "source": [
    "X.info()"
   ],
   "outputs": [
    {
     "output_type": "stream",
     "name": "stdout",
     "text": [
      "<class 'pandas.core.frame.DataFrame'>\n",
      "Int64Index: 3675 entries, 3916 to 23864\n",
      "Columns: 6293 entries, urea__variance_larger_than_standard_deviation to age.init\n",
      "dtypes: category(4), float64(6288), int64(1)\n",
      "memory usage: 176.4 MB\n"
     ]
    }
   ],
   "metadata": {}
  },
  {
   "cell_type": "code",
   "execution_count": 62,
   "source": [
    "df_rm_intrain['cat3.5'].value_counts()"
   ],
   "outputs": [
    {
     "output_type": "execute_result",
     "data": {
      "text/plain": [
       "non_eskd    3444\n",
       "eskd         231\n",
       "Name: cat3.5, dtype: int64"
      ]
     },
     "metadata": {},
     "execution_count": 62
    }
   ],
   "metadata": {}
  },
  {
   "cell_type": "code",
   "execution_count": 63,
   "source": [
    "y_mapped = y.map({'non_eskd':'no', 'eskd':'yes'})\n",
    "y_mapped"
   ],
   "outputs": [
    {
     "output_type": "execute_result",
     "data": {
      "text/plain": [
       "id\n",
       "3916     no\n",
       "3918     no\n",
       "3921     no\n",
       "3924     no\n",
       "3930     no\n",
       "         ..\n",
       "23760    no\n",
       "23771    no\n",
       "23780    no\n",
       "23823    no\n",
       "23864    no\n",
       "Name: cat3.5, Length: 3675, dtype: category\n",
       "Categories (2, object): ['yes', 'no']"
      ]
     },
     "metadata": {},
     "execution_count": 63
    }
   ],
   "metadata": {}
  },
  {
   "cell_type": "code",
   "execution_count": 64,
   "source": [
    "X_train, X_test, y_train, y_test = train_test_split(X, y_mapped, test_size=0.3, stratify=y_mapped, random_state=random_state)\n",
    "X_train.shape, X_test.shape, y_train.shape, y_test.shape"
   ],
   "outputs": [
    {
     "output_type": "execute_result",
     "data": {
      "text/plain": [
       "((2572, 6293), (1103, 6293), (2572,), (1103,))"
      ]
     },
     "metadata": {},
     "execution_count": 64
    }
   ],
   "metadata": {}
  },
  {
   "cell_type": "code",
   "execution_count": 65,
   "source": [
    "lab_encode = LabelEncoder()\n",
    "y_train = lab_encode.fit_transform(y_train)\n",
    "y_test = lab_encode.transform(y_test)\n",
    "y_train.shape, y_test.shape"
   ],
   "outputs": [
    {
     "output_type": "execute_result",
     "data": {
      "text/plain": [
       "((2572,), (1103,))"
      ]
     },
     "metadata": {},
     "execution_count": 65
    }
   ],
   "metadata": {}
  },
  {
   "cell_type": "code",
   "execution_count": 66,
   "source": [
    "unique_values, counts = np.unique(y_train, return_counts=True)\n",
    "ratio = dict(zip(unique_values, counts))\n",
    "ratio"
   ],
   "outputs": [
    {
     "output_type": "execute_result",
     "data": {
      "text/plain": [
       "{0: 2410, 1: 162}"
      ]
     },
     "metadata": {},
     "execution_count": 66
    }
   ],
   "metadata": {}
  },
  {
   "cell_type": "code",
   "execution_count": 67,
   "source": [
    "imbalance_ratio = ratio[0] / ratio[1]\n",
    "imbalance_ratio"
   ],
   "outputs": [
    {
     "output_type": "execute_result",
     "data": {
      "text/plain": [
       "14.876543209876543"
      ]
     },
     "metadata": {},
     "execution_count": 67
    }
   ],
   "metadata": {}
  },
  {
   "cell_type": "code",
   "execution_count": 68,
   "source": [
    "category_cols = list(X_train.select_dtypes(include='category').columns)\n",
    "numeric_cols = list(X_train.select_dtypes(include=['int', 'float']).columns)\n",
    "one_hot = OneHotEncoder(handle_unknown='ignore')\n",
    "num_imputer = KNNImputer(n_neighbors=5)\n",
    "len(category_cols), len(numeric_cols)"
   ],
   "outputs": [
    {
     "output_type": "execute_result",
     "data": {
      "text/plain": [
       "(4, 6289)"
      ]
     },
     "metadata": {},
     "execution_count": 68
    }
   ],
   "metadata": {}
  },
  {
   "cell_type": "code",
   "execution_count": 69,
   "source": [
    "preprocess = ColumnTransformer([('num_imputing', num_imputer, numeric_cols), ('cat_encoder', one_hot, category_cols)], remainder='passthrough')\n",
    "X_train_processed = preprocess.fit_transform(X_train)\n",
    "X_train_processed.shape"
   ],
   "outputs": [
    {
     "output_type": "execute_result",
     "data": {
      "text/plain": [
       "(2572, 6304)"
      ]
     },
     "metadata": {},
     "execution_count": 69
    }
   ],
   "metadata": {}
  },
  {
   "cell_type": "code",
   "execution_count": 70,
   "source": [
    "X_test_processed = preprocess.transform(X_test)"
   ],
   "outputs": [],
   "metadata": {}
  },
  {
   "cell_type": "code",
   "execution_count": 71,
   "source": [
    "xgb_class = xgb.XGBClassifier(n_jobs=-1, random_state = random_state, n_estimators=1000, use_label_encoder=False, eval_metric='logloss', scale_pos_weight=imbalance_ratio)\n",
    "sampler = SMOTETomek(random_state=random_state)\n",
    "steps = [('resampling', sampler), ('model', xgb_class)]\n",
    "pipeline = Pipeline(steps=steps)"
   ],
   "outputs": [],
   "metadata": {}
  },
  {
   "cell_type": "code",
   "execution_count": 72,
   "source": [
    "pipeline.fit(X_train_processed, y_train)"
   ],
   "outputs": [
    {
     "output_type": "execute_result",
     "data": {
      "text/plain": [
       "Pipeline(steps=[('resampling', SMOTETomek(random_state=7)),\n",
       "                ('model',\n",
       "                 XGBClassifier(base_score=0.5, booster='gbtree',\n",
       "                               colsample_bylevel=1, colsample_bynode=1,\n",
       "                               colsample_bytree=1, eval_metric='logloss',\n",
       "                               gamma=0, gpu_id=-1, importance_type='gain',\n",
       "                               interaction_constraints='',\n",
       "                               learning_rate=0.300000012, max_delta_step=0,\n",
       "                               max_depth=6, min_child_weight=1, missing=nan,\n",
       "                               monotone_constraints='()', n_estimators=1000,\n",
       "                               n_jobs=-1, num_parallel_tree=1, random_state=7,\n",
       "                               reg_alpha=0, reg_lambda=1,\n",
       "                               scale_pos_weight=14.876543209876543, subsample=1,\n",
       "                               tree_method='exact', use_label_encoder=False,\n",
       "                               validate_parameters=1, verbosity=None))])"
      ]
     },
     "metadata": {},
     "execution_count": 72
    }
   ],
   "metadata": {}
  },
  {
   "cell_type": "code",
   "execution_count": 73,
   "source": [
    "y_pred = pipeline.predict(X_test_processed)"
   ],
   "outputs": [],
   "metadata": {}
  },
  {
   "cell_type": "code",
   "execution_count": 74,
   "source": [
    "confusion_matrix(y_true=y_test, y_pred=y_pred)"
   ],
   "outputs": [
    {
     "output_type": "execute_result",
     "data": {
      "text/plain": [
       "array([[998,  36],\n",
       "       [ 49,  20]])"
      ]
     },
     "metadata": {},
     "execution_count": 74
    }
   ],
   "metadata": {}
  },
  {
   "cell_type": "code",
   "execution_count": 75,
   "source": [
    "roc_auc_score(y_test, y_pred)"
   ],
   "outputs": [
    {
     "output_type": "execute_result",
     "data": {
      "text/plain": [
       "0.6275194124407816"
      ]
     },
     "metadata": {},
     "execution_count": 75
    }
   ],
   "metadata": {}
  },
  {
   "cell_type": "code",
   "execution_count": 76,
   "source": [
    "print(classification_report(y_true=y_test, y_pred=y_pred))"
   ],
   "outputs": [
    {
     "output_type": "stream",
     "name": "stdout",
     "text": [
      "              precision    recall  f1-score   support\n",
      "\n",
      "           0       0.95      0.97      0.96      1034\n",
      "           1       0.36      0.29      0.32        69\n",
      "\n",
      "    accuracy                           0.92      1103\n",
      "   macro avg       0.66      0.63      0.64      1103\n",
      "weighted avg       0.92      0.92      0.92      1103\n",
      "\n"
     ]
    }
   ],
   "metadata": {}
  },
  {
   "cell_type": "code",
   "execution_count": 32,
   "source": [
    "print(matthews_corrcoef(y_test, y_pred))"
   ],
   "outputs": [
    {
     "output_type": "stream",
     "name": "stdout",
     "text": [
      "0.28034459959348784\n"
     ]
    }
   ],
   "metadata": {}
  },
  {
   "cell_type": "code",
   "execution_count": 33,
   "source": [
    "importance = pipeline.named_steps['model'].feature_importances_\n",
    "importance.shape, type(importance)"
   ],
   "outputs": [
    {
     "output_type": "execute_result",
     "data": {
      "text/plain": [
       "((5355,), numpy.ndarray)"
      ]
     },
     "metadata": {},
     "execution_count": 33
    }
   ],
   "metadata": {}
  },
  {
   "cell_type": "code",
   "execution_count": 34,
   "source": [
    "category_label = list(preprocess.named_transformers_['cat_encoder'].get_feature_names(category_cols))\n",
    "feature_label = numeric_cols + category_label\n",
    "len(feature_label)"
   ],
   "outputs": [
    {
     "output_type": "execute_result",
     "data": {
      "text/plain": [
       "5355"
      ]
     },
     "metadata": {},
     "execution_count": 34
    }
   ],
   "metadata": {}
  },
  {
   "cell_type": "code",
   "execution_count": 35,
   "source": [
    "pd.set_option('display.max_rows', 400)\n",
    "eval_df = pd.DataFrame({'label': feature_label, 'importance_value': importance})\n",
    "eval_df.sort_values(by='importance_value', ascending=False).head(100)"
   ],
   "outputs": [
    {
     "output_type": "execute_result",
     "data": {
      "text/plain": [
       "                                                  label  importance_value\n",
       "4033  eosinophils__large_standard_deviation__r_0.300...          0.070197\n",
       "4605  haemoglobin__fft_coefficient__attr_\"\"\"\"\"\"\"\"ima...          0.041579\n",
       "3860  egfr__change_quantiles__f_agg_\"\"\"\"\"\"\"\"mean\"\"\"\"...          0.032070\n",
       "3517                    creatinine__benford_correlation          0.030442\n",
       "5080                   mch__ratio_beyond_r_sigma__r_0.5          0.021785\n",
       "4799  lymphocytes__change_quantiles__f_agg_\"\"\"\"\"\"\"\"v...          0.021245\n",
       "3572                        creatinine__quantile__q_0.9          0.017708\n",
       "3759     egfr__time_reversal_asymmetry_statistic__lag_2          0.014997\n",
       "737                          phosphate__quantile__q_0.9          0.013442\n",
       "5021  mch__change_quantiles__f_agg_\"\"\"\"\"\"\"\"mean\"\"\"\"\"...          0.013026\n",
       "769   phosphate__change_quantiles__f_agg_\"\"\"\"\"\"\"\"var...          0.012322\n",
       "1672  sodium__agg_autocorrelation__f_agg_\"\"\"\"\"\"\"\"med...          0.011912\n",
       "4268                           glucose__quantile__q_0.3          0.011511\n",
       "3590             creatinine__index_mass_quantile__q_0.6          0.011321\n",
       "3457  caphos_product__energy_ratio_by_chunks__num_se...          0.010899\n",
       "2863  alkphos__agg_autocorrelation__f_agg_\"\"\"\"\"\"\"\"va...          0.010650\n",
       "334   monocytes__change_quantiles__f_agg_\"\"\"\"\"\"\"\"mea...          0.010643\n",
       "3048                    calcium__cid_ce__normalize_True          0.010021\n",
       "4909                           mch__benford_correlation          0.009858\n",
       "3947                  egfr__ratio_beyond_r_sigma__r_0.5          0.009652\n",
       "4508                       haemoglobin__quantile__q_0.6          0.009542\n",
       "1934  urea__cwt_coefficients__coeff_1__w_10__widths_...          0.009221\n",
       "3494                                 creatinine__median          0.008932\n",
       "4369  glucose__fft_coefficient__attr_\"\"\"\"\"\"\"\"abs\"\"\"\"...          0.008219\n",
       "2195  ureacreat_ratio__change_quantiles__f_agg_\"\"\"\"\"...          0.008038\n",
       "4000  eosinophils__time_reversal_asymmetry_statistic...          0.007580\n",
       "3363  caphos_product__cwt_coefficients__coeff_1__w_2...          0.007538\n",
       "3757                          egfr__benford_correlation          0.007492\n",
       "1623                   sodium__symmetry_looking__r_0.05          0.007444\n",
       "3146  calcium__change_quantiles__f_agg_\"\"\"\"\"\"\"\"var\"\"...          0.007386\n",
       "2302                               wcc__mean_abs_change          0.007293\n",
       "3724      egfr__variance_larger_than_standard_deviation          0.007283\n",
       "4207                  glucose__last_location_of_maximum          0.006841\n",
       "2878                alkphos__index_mass_quantile__q_0.8          0.006360\n",
       "5000  mch__change_quantiles__f_agg_\"\"\"\"\"\"\"\"var\"\"\"\"\"\"...          0.006258\n",
       "4296  glucose__cwt_coefficients__coeff_0__w_5__width...          0.006137\n",
       "2619                           albumin__quantile__q_0.8          0.006009\n",
       "2601           albumin__large_standard_deviation__r_0.4          0.005911\n",
       "1831                           urea__standard_deviation          0.005709\n",
       "3975                            eosinophils__abs_energy          0.005631\n",
       "1334  potassium__energy_ratio_by_chunks__num_segment...          0.005595\n",
       "3731                                  egfr__mean_change          0.005530\n",
       "3194  calcium__fft_coefficient__attr_\"\"\"\"\"\"\"\"angle\"\"...          0.005465\n",
       "3982                      eosinophils__root_mean_square          0.005208\n",
       "2679  albumin__change_quantiles__f_agg_\"\"\"\"\"\"\"\"mean\"...          0.005045\n",
       "732                          phosphate__quantile__q_0.3          0.005007\n",
       "3940  egfr__energy_ratio_by_chunks__num_segments_10_...          0.004936\n",
       "2714  albumin__fft_coefficient__attr_\"\"\"\"\"\"\"\"imag\"\"\"...          0.004904\n",
       "1490  rbc__change_quantiles__f_agg_\"\"\"\"\"\"\"\"mean\"\"\"\"\"...          0.004864\n",
       "30       mchc__time_reversal_asymmetry_statistic__lag_1          0.004809\n",
       "3030                  calcium__last_location_of_maximum          0.004764\n",
       "162   mchc__change_quantiles__f_agg_\"\"\"\"\"\"\"\"var\"\"\"\"\"...          0.004722\n",
       "1728  sodium__change_quantiles__f_agg_\"\"\"\"\"\"\"\"var\"\"\"...          0.004617\n",
       "1335  potassium__energy_ratio_by_chunks__num_segment...          0.004476\n",
       "5342                                            dkd_dkd          0.004466\n",
       "2101  ureacreat_ratio__symmetry_looking__r_0.1500000...          0.004306\n",
       "2741  albumin__energy_ratio_by_chunks__num_segments_...          0.004296\n",
       "4538  haemoglobin__cwt_coefficients__coeff_1__w_5__w...          0.004239\n",
       "893                                platelet__sum_values          0.004122\n",
       "2906  alkphos__change_quantiles__f_agg_\"\"\"\"\"\"\"\"var\"\"...          0.004122\n",
       "3941  egfr__energy_ratio_by_chunks__num_segments_10_...          0.003976\n",
       "5305  chloride__energy_ratio_by_chunks__num_segments...          0.003884\n",
       "4217                                   glucose__minimum          0.003809\n",
       "2327                           wcc__benford_correlation          0.003775\n",
       "1905                              urea__quantile__q_0.8          0.003711\n",
       "768   phosphate__change_quantiles__f_agg_\"\"\"\"\"\"\"\"mea...          0.003582\n",
       "4659               haemoglobin__fourier_entropy__bins_3          0.003528\n",
       "3516                                creatinine__minimum          0.003424\n",
       "4115  eosinophils__change_quantiles__f_agg_\"\"\"\"\"\"\"\"m...          0.003413\n",
       "1551     rbc__linear_trend__attr_\"\"\"\"\"\"\"\"rvalue\"\"\"\"\"\"\"\"          0.003377\n",
       "4944  mch__large_standard_deviation__r_0.35000000000...          0.003343\n",
       "4607  haemoglobin__fft_coefficient__attr_\"\"\"\"\"\"\"\"abs...          0.003261\n",
       "4453  haemoglobin__ratio_value_number_to_time_series...          0.003201\n",
       "3793              egfr__large_standard_deviation__r_0.4          0.003182\n",
       "2535                         albumin__has_duplicate_max          0.003167\n",
       "2954  alkphos__fft_coefficient__attr_\"\"\"\"\"\"\"\"abs\"\"\"\"...          0.003140\n",
       "227                    monocytes__variation_coefficient          0.003114\n",
       "2598          albumin__large_standard_deviation__r_0.25          0.003108\n",
       "2541                               albumin__mean_change          0.003008\n",
       "3316   caphos_product__large_standard_deviation__r_0.45          0.003002\n",
       "1849                                      urea__maximum          0.002967\n",
       "3078          calcium__large_standard_deviation__r_0.45          0.002890\n",
       "3880  egfr__change_quantiles__f_agg_\"\"\"\"\"\"\"\"mean\"\"\"\"...          0.002877\n",
       "2569                                 albumin__c3__lag_1          0.002829\n",
       "1248  potassium__change_quantiles__f_agg_\"\"\"\"\"\"\"\"mea...          0.002791\n",
       "4429                            haemoglobin__sum_values          0.002787\n",
       "754               phosphate__index_mass_quantile__q_0.4          0.002773\n",
       "1287  potassium__change_quantiles__f_agg_\"\"\"\"\"\"\"\"var...          0.002738\n",
       "2037                    urea__ratio_beyond_r_sigma__r_1          0.002683\n",
       "5238  chloride__change_quantiles__f_agg_\"\"\"\"\"\"\"\"mean...          0.002664\n",
       "2886  alkphos__cwt_coefficients__coeff_1__w_10__widt...          0.002653\n",
       "4448             haemoglobin__first_location_of_minimum          0.002635\n",
       "3915  egfr__fft_coefficient__attr_\"\"\"\"\"\"\"\"angle\"\"\"\"\"...          0.002597\n",
       "2375                               wcc__quantile__q_0.1          0.002562\n",
       "4957                               mch__quantile__q_0.1          0.002562\n",
       "1368                                 rbc__has_duplicate          0.002523\n",
       "2922  alkphos__change_quantiles__f_agg_\"\"\"\"\"\"\"\"var\"\"...          0.002513\n",
       "820   phosphate__change_quantiles__f_agg_\"\"\"\"\"\"\"\"mea...          0.002506\n",
       "4193                           glucose__mean_abs_change          0.002498\n",
       "920                       platelet__benford_correlation          0.002456"
      ],
      "text/html": [
       "<div>\n",
       "<style scoped>\n",
       "    .dataframe tbody tr th:only-of-type {\n",
       "        vertical-align: middle;\n",
       "    }\n",
       "\n",
       "    .dataframe tbody tr th {\n",
       "        vertical-align: top;\n",
       "    }\n",
       "\n",
       "    .dataframe thead th {\n",
       "        text-align: right;\n",
       "    }\n",
       "</style>\n",
       "<table border=\"1\" class=\"dataframe\">\n",
       "  <thead>\n",
       "    <tr style=\"text-align: right;\">\n",
       "      <th></th>\n",
       "      <th>label</th>\n",
       "      <th>importance_value</th>\n",
       "    </tr>\n",
       "  </thead>\n",
       "  <tbody>\n",
       "    <tr>\n",
       "      <th>4033</th>\n",
       "      <td>eosinophils__large_standard_deviation__r_0.300...</td>\n",
       "      <td>0.070197</td>\n",
       "    </tr>\n",
       "    <tr>\n",
       "      <th>4605</th>\n",
       "      <td>haemoglobin__fft_coefficient__attr_\"\"\"\"\"\"\"\"ima...</td>\n",
       "      <td>0.041579</td>\n",
       "    </tr>\n",
       "    <tr>\n",
       "      <th>3860</th>\n",
       "      <td>egfr__change_quantiles__f_agg_\"\"\"\"\"\"\"\"mean\"\"\"\"...</td>\n",
       "      <td>0.032070</td>\n",
       "    </tr>\n",
       "    <tr>\n",
       "      <th>3517</th>\n",
       "      <td>creatinine__benford_correlation</td>\n",
       "      <td>0.030442</td>\n",
       "    </tr>\n",
       "    <tr>\n",
       "      <th>5080</th>\n",
       "      <td>mch__ratio_beyond_r_sigma__r_0.5</td>\n",
       "      <td>0.021785</td>\n",
       "    </tr>\n",
       "    <tr>\n",
       "      <th>4799</th>\n",
       "      <td>lymphocytes__change_quantiles__f_agg_\"\"\"\"\"\"\"\"v...</td>\n",
       "      <td>0.021245</td>\n",
       "    </tr>\n",
       "    <tr>\n",
       "      <th>3572</th>\n",
       "      <td>creatinine__quantile__q_0.9</td>\n",
       "      <td>0.017708</td>\n",
       "    </tr>\n",
       "    <tr>\n",
       "      <th>3759</th>\n",
       "      <td>egfr__time_reversal_asymmetry_statistic__lag_2</td>\n",
       "      <td>0.014997</td>\n",
       "    </tr>\n",
       "    <tr>\n",
       "      <th>737</th>\n",
       "      <td>phosphate__quantile__q_0.9</td>\n",
       "      <td>0.013442</td>\n",
       "    </tr>\n",
       "    <tr>\n",
       "      <th>5021</th>\n",
       "      <td>mch__change_quantiles__f_agg_\"\"\"\"\"\"\"\"mean\"\"\"\"\"...</td>\n",
       "      <td>0.013026</td>\n",
       "    </tr>\n",
       "    <tr>\n",
       "      <th>769</th>\n",
       "      <td>phosphate__change_quantiles__f_agg_\"\"\"\"\"\"\"\"var...</td>\n",
       "      <td>0.012322</td>\n",
       "    </tr>\n",
       "    <tr>\n",
       "      <th>1672</th>\n",
       "      <td>sodium__agg_autocorrelation__f_agg_\"\"\"\"\"\"\"\"med...</td>\n",
       "      <td>0.011912</td>\n",
       "    </tr>\n",
       "    <tr>\n",
       "      <th>4268</th>\n",
       "      <td>glucose__quantile__q_0.3</td>\n",
       "      <td>0.011511</td>\n",
       "    </tr>\n",
       "    <tr>\n",
       "      <th>3590</th>\n",
       "      <td>creatinine__index_mass_quantile__q_0.6</td>\n",
       "      <td>0.011321</td>\n",
       "    </tr>\n",
       "    <tr>\n",
       "      <th>3457</th>\n",
       "      <td>caphos_product__energy_ratio_by_chunks__num_se...</td>\n",
       "      <td>0.010899</td>\n",
       "    </tr>\n",
       "    <tr>\n",
       "      <th>2863</th>\n",
       "      <td>alkphos__agg_autocorrelation__f_agg_\"\"\"\"\"\"\"\"va...</td>\n",
       "      <td>0.010650</td>\n",
       "    </tr>\n",
       "    <tr>\n",
       "      <th>334</th>\n",
       "      <td>monocytes__change_quantiles__f_agg_\"\"\"\"\"\"\"\"mea...</td>\n",
       "      <td>0.010643</td>\n",
       "    </tr>\n",
       "    <tr>\n",
       "      <th>3048</th>\n",
       "      <td>calcium__cid_ce__normalize_True</td>\n",
       "      <td>0.010021</td>\n",
       "    </tr>\n",
       "    <tr>\n",
       "      <th>4909</th>\n",
       "      <td>mch__benford_correlation</td>\n",
       "      <td>0.009858</td>\n",
       "    </tr>\n",
       "    <tr>\n",
       "      <th>3947</th>\n",
       "      <td>egfr__ratio_beyond_r_sigma__r_0.5</td>\n",
       "      <td>0.009652</td>\n",
       "    </tr>\n",
       "    <tr>\n",
       "      <th>4508</th>\n",
       "      <td>haemoglobin__quantile__q_0.6</td>\n",
       "      <td>0.009542</td>\n",
       "    </tr>\n",
       "    <tr>\n",
       "      <th>1934</th>\n",
       "      <td>urea__cwt_coefficients__coeff_1__w_10__widths_...</td>\n",
       "      <td>0.009221</td>\n",
       "    </tr>\n",
       "    <tr>\n",
       "      <th>3494</th>\n",
       "      <td>creatinine__median</td>\n",
       "      <td>0.008932</td>\n",
       "    </tr>\n",
       "    <tr>\n",
       "      <th>4369</th>\n",
       "      <td>glucose__fft_coefficient__attr_\"\"\"\"\"\"\"\"abs\"\"\"\"...</td>\n",
       "      <td>0.008219</td>\n",
       "    </tr>\n",
       "    <tr>\n",
       "      <th>2195</th>\n",
       "      <td>ureacreat_ratio__change_quantiles__f_agg_\"\"\"\"\"...</td>\n",
       "      <td>0.008038</td>\n",
       "    </tr>\n",
       "    <tr>\n",
       "      <th>4000</th>\n",
       "      <td>eosinophils__time_reversal_asymmetry_statistic...</td>\n",
       "      <td>0.007580</td>\n",
       "    </tr>\n",
       "    <tr>\n",
       "      <th>3363</th>\n",
       "      <td>caphos_product__cwt_coefficients__coeff_1__w_2...</td>\n",
       "      <td>0.007538</td>\n",
       "    </tr>\n",
       "    <tr>\n",
       "      <th>3757</th>\n",
       "      <td>egfr__benford_correlation</td>\n",
       "      <td>0.007492</td>\n",
       "    </tr>\n",
       "    <tr>\n",
       "      <th>1623</th>\n",
       "      <td>sodium__symmetry_looking__r_0.05</td>\n",
       "      <td>0.007444</td>\n",
       "    </tr>\n",
       "    <tr>\n",
       "      <th>3146</th>\n",
       "      <td>calcium__change_quantiles__f_agg_\"\"\"\"\"\"\"\"var\"\"...</td>\n",
       "      <td>0.007386</td>\n",
       "    </tr>\n",
       "    <tr>\n",
       "      <th>2302</th>\n",
       "      <td>wcc__mean_abs_change</td>\n",
       "      <td>0.007293</td>\n",
       "    </tr>\n",
       "    <tr>\n",
       "      <th>3724</th>\n",
       "      <td>egfr__variance_larger_than_standard_deviation</td>\n",
       "      <td>0.007283</td>\n",
       "    </tr>\n",
       "    <tr>\n",
       "      <th>4207</th>\n",
       "      <td>glucose__last_location_of_maximum</td>\n",
       "      <td>0.006841</td>\n",
       "    </tr>\n",
       "    <tr>\n",
       "      <th>2878</th>\n",
       "      <td>alkphos__index_mass_quantile__q_0.8</td>\n",
       "      <td>0.006360</td>\n",
       "    </tr>\n",
       "    <tr>\n",
       "      <th>5000</th>\n",
       "      <td>mch__change_quantiles__f_agg_\"\"\"\"\"\"\"\"var\"\"\"\"\"\"...</td>\n",
       "      <td>0.006258</td>\n",
       "    </tr>\n",
       "    <tr>\n",
       "      <th>4296</th>\n",
       "      <td>glucose__cwt_coefficients__coeff_0__w_5__width...</td>\n",
       "      <td>0.006137</td>\n",
       "    </tr>\n",
       "    <tr>\n",
       "      <th>2619</th>\n",
       "      <td>albumin__quantile__q_0.8</td>\n",
       "      <td>0.006009</td>\n",
       "    </tr>\n",
       "    <tr>\n",
       "      <th>2601</th>\n",
       "      <td>albumin__large_standard_deviation__r_0.4</td>\n",
       "      <td>0.005911</td>\n",
       "    </tr>\n",
       "    <tr>\n",
       "      <th>1831</th>\n",
       "      <td>urea__standard_deviation</td>\n",
       "      <td>0.005709</td>\n",
       "    </tr>\n",
       "    <tr>\n",
       "      <th>3975</th>\n",
       "      <td>eosinophils__abs_energy</td>\n",
       "      <td>0.005631</td>\n",
       "    </tr>\n",
       "    <tr>\n",
       "      <th>1334</th>\n",
       "      <td>potassium__energy_ratio_by_chunks__num_segment...</td>\n",
       "      <td>0.005595</td>\n",
       "    </tr>\n",
       "    <tr>\n",
       "      <th>3731</th>\n",
       "      <td>egfr__mean_change</td>\n",
       "      <td>0.005530</td>\n",
       "    </tr>\n",
       "    <tr>\n",
       "      <th>3194</th>\n",
       "      <td>calcium__fft_coefficient__attr_\"\"\"\"\"\"\"\"angle\"\"...</td>\n",
       "      <td>0.005465</td>\n",
       "    </tr>\n",
       "    <tr>\n",
       "      <th>3982</th>\n",
       "      <td>eosinophils__root_mean_square</td>\n",
       "      <td>0.005208</td>\n",
       "    </tr>\n",
       "    <tr>\n",
       "      <th>2679</th>\n",
       "      <td>albumin__change_quantiles__f_agg_\"\"\"\"\"\"\"\"mean\"...</td>\n",
       "      <td>0.005045</td>\n",
       "    </tr>\n",
       "    <tr>\n",
       "      <th>732</th>\n",
       "      <td>phosphate__quantile__q_0.3</td>\n",
       "      <td>0.005007</td>\n",
       "    </tr>\n",
       "    <tr>\n",
       "      <th>3940</th>\n",
       "      <td>egfr__energy_ratio_by_chunks__num_segments_10_...</td>\n",
       "      <td>0.004936</td>\n",
       "    </tr>\n",
       "    <tr>\n",
       "      <th>2714</th>\n",
       "      <td>albumin__fft_coefficient__attr_\"\"\"\"\"\"\"\"imag\"\"\"...</td>\n",
       "      <td>0.004904</td>\n",
       "    </tr>\n",
       "    <tr>\n",
       "      <th>1490</th>\n",
       "      <td>rbc__change_quantiles__f_agg_\"\"\"\"\"\"\"\"mean\"\"\"\"\"...</td>\n",
       "      <td>0.004864</td>\n",
       "    </tr>\n",
       "    <tr>\n",
       "      <th>30</th>\n",
       "      <td>mchc__time_reversal_asymmetry_statistic__lag_1</td>\n",
       "      <td>0.004809</td>\n",
       "    </tr>\n",
       "    <tr>\n",
       "      <th>3030</th>\n",
       "      <td>calcium__last_location_of_maximum</td>\n",
       "      <td>0.004764</td>\n",
       "    </tr>\n",
       "    <tr>\n",
       "      <th>162</th>\n",
       "      <td>mchc__change_quantiles__f_agg_\"\"\"\"\"\"\"\"var\"\"\"\"\"...</td>\n",
       "      <td>0.004722</td>\n",
       "    </tr>\n",
       "    <tr>\n",
       "      <th>1728</th>\n",
       "      <td>sodium__change_quantiles__f_agg_\"\"\"\"\"\"\"\"var\"\"\"...</td>\n",
       "      <td>0.004617</td>\n",
       "    </tr>\n",
       "    <tr>\n",
       "      <th>1335</th>\n",
       "      <td>potassium__energy_ratio_by_chunks__num_segment...</td>\n",
       "      <td>0.004476</td>\n",
       "    </tr>\n",
       "    <tr>\n",
       "      <th>5342</th>\n",
       "      <td>dkd_dkd</td>\n",
       "      <td>0.004466</td>\n",
       "    </tr>\n",
       "    <tr>\n",
       "      <th>2101</th>\n",
       "      <td>ureacreat_ratio__symmetry_looking__r_0.1500000...</td>\n",
       "      <td>0.004306</td>\n",
       "    </tr>\n",
       "    <tr>\n",
       "      <th>2741</th>\n",
       "      <td>albumin__energy_ratio_by_chunks__num_segments_...</td>\n",
       "      <td>0.004296</td>\n",
       "    </tr>\n",
       "    <tr>\n",
       "      <th>4538</th>\n",
       "      <td>haemoglobin__cwt_coefficients__coeff_1__w_5__w...</td>\n",
       "      <td>0.004239</td>\n",
       "    </tr>\n",
       "    <tr>\n",
       "      <th>893</th>\n",
       "      <td>platelet__sum_values</td>\n",
       "      <td>0.004122</td>\n",
       "    </tr>\n",
       "    <tr>\n",
       "      <th>2906</th>\n",
       "      <td>alkphos__change_quantiles__f_agg_\"\"\"\"\"\"\"\"var\"\"...</td>\n",
       "      <td>0.004122</td>\n",
       "    </tr>\n",
       "    <tr>\n",
       "      <th>3941</th>\n",
       "      <td>egfr__energy_ratio_by_chunks__num_segments_10_...</td>\n",
       "      <td>0.003976</td>\n",
       "    </tr>\n",
       "    <tr>\n",
       "      <th>5305</th>\n",
       "      <td>chloride__energy_ratio_by_chunks__num_segments...</td>\n",
       "      <td>0.003884</td>\n",
       "    </tr>\n",
       "    <tr>\n",
       "      <th>4217</th>\n",
       "      <td>glucose__minimum</td>\n",
       "      <td>0.003809</td>\n",
       "    </tr>\n",
       "    <tr>\n",
       "      <th>2327</th>\n",
       "      <td>wcc__benford_correlation</td>\n",
       "      <td>0.003775</td>\n",
       "    </tr>\n",
       "    <tr>\n",
       "      <th>1905</th>\n",
       "      <td>urea__quantile__q_0.8</td>\n",
       "      <td>0.003711</td>\n",
       "    </tr>\n",
       "    <tr>\n",
       "      <th>768</th>\n",
       "      <td>phosphate__change_quantiles__f_agg_\"\"\"\"\"\"\"\"mea...</td>\n",
       "      <td>0.003582</td>\n",
       "    </tr>\n",
       "    <tr>\n",
       "      <th>4659</th>\n",
       "      <td>haemoglobin__fourier_entropy__bins_3</td>\n",
       "      <td>0.003528</td>\n",
       "    </tr>\n",
       "    <tr>\n",
       "      <th>3516</th>\n",
       "      <td>creatinine__minimum</td>\n",
       "      <td>0.003424</td>\n",
       "    </tr>\n",
       "    <tr>\n",
       "      <th>4115</th>\n",
       "      <td>eosinophils__change_quantiles__f_agg_\"\"\"\"\"\"\"\"m...</td>\n",
       "      <td>0.003413</td>\n",
       "    </tr>\n",
       "    <tr>\n",
       "      <th>1551</th>\n",
       "      <td>rbc__linear_trend__attr_\"\"\"\"\"\"\"\"rvalue\"\"\"\"\"\"\"\"</td>\n",
       "      <td>0.003377</td>\n",
       "    </tr>\n",
       "    <tr>\n",
       "      <th>4944</th>\n",
       "      <td>mch__large_standard_deviation__r_0.35000000000...</td>\n",
       "      <td>0.003343</td>\n",
       "    </tr>\n",
       "    <tr>\n",
       "      <th>4607</th>\n",
       "      <td>haemoglobin__fft_coefficient__attr_\"\"\"\"\"\"\"\"abs...</td>\n",
       "      <td>0.003261</td>\n",
       "    </tr>\n",
       "    <tr>\n",
       "      <th>4453</th>\n",
       "      <td>haemoglobin__ratio_value_number_to_time_series...</td>\n",
       "      <td>0.003201</td>\n",
       "    </tr>\n",
       "    <tr>\n",
       "      <th>3793</th>\n",
       "      <td>egfr__large_standard_deviation__r_0.4</td>\n",
       "      <td>0.003182</td>\n",
       "    </tr>\n",
       "    <tr>\n",
       "      <th>2535</th>\n",
       "      <td>albumin__has_duplicate_max</td>\n",
       "      <td>0.003167</td>\n",
       "    </tr>\n",
       "    <tr>\n",
       "      <th>2954</th>\n",
       "      <td>alkphos__fft_coefficient__attr_\"\"\"\"\"\"\"\"abs\"\"\"\"...</td>\n",
       "      <td>0.003140</td>\n",
       "    </tr>\n",
       "    <tr>\n",
       "      <th>227</th>\n",
       "      <td>monocytes__variation_coefficient</td>\n",
       "      <td>0.003114</td>\n",
       "    </tr>\n",
       "    <tr>\n",
       "      <th>2598</th>\n",
       "      <td>albumin__large_standard_deviation__r_0.25</td>\n",
       "      <td>0.003108</td>\n",
       "    </tr>\n",
       "    <tr>\n",
       "      <th>2541</th>\n",
       "      <td>albumin__mean_change</td>\n",
       "      <td>0.003008</td>\n",
       "    </tr>\n",
       "    <tr>\n",
       "      <th>3316</th>\n",
       "      <td>caphos_product__large_standard_deviation__r_0.45</td>\n",
       "      <td>0.003002</td>\n",
       "    </tr>\n",
       "    <tr>\n",
       "      <th>1849</th>\n",
       "      <td>urea__maximum</td>\n",
       "      <td>0.002967</td>\n",
       "    </tr>\n",
       "    <tr>\n",
       "      <th>3078</th>\n",
       "      <td>calcium__large_standard_deviation__r_0.45</td>\n",
       "      <td>0.002890</td>\n",
       "    </tr>\n",
       "    <tr>\n",
       "      <th>3880</th>\n",
       "      <td>egfr__change_quantiles__f_agg_\"\"\"\"\"\"\"\"mean\"\"\"\"...</td>\n",
       "      <td>0.002877</td>\n",
       "    </tr>\n",
       "    <tr>\n",
       "      <th>2569</th>\n",
       "      <td>albumin__c3__lag_1</td>\n",
       "      <td>0.002829</td>\n",
       "    </tr>\n",
       "    <tr>\n",
       "      <th>1248</th>\n",
       "      <td>potassium__change_quantiles__f_agg_\"\"\"\"\"\"\"\"mea...</td>\n",
       "      <td>0.002791</td>\n",
       "    </tr>\n",
       "    <tr>\n",
       "      <th>4429</th>\n",
       "      <td>haemoglobin__sum_values</td>\n",
       "      <td>0.002787</td>\n",
       "    </tr>\n",
       "    <tr>\n",
       "      <th>754</th>\n",
       "      <td>phosphate__index_mass_quantile__q_0.4</td>\n",
       "      <td>0.002773</td>\n",
       "    </tr>\n",
       "    <tr>\n",
       "      <th>1287</th>\n",
       "      <td>potassium__change_quantiles__f_agg_\"\"\"\"\"\"\"\"var...</td>\n",
       "      <td>0.002738</td>\n",
       "    </tr>\n",
       "    <tr>\n",
       "      <th>2037</th>\n",
       "      <td>urea__ratio_beyond_r_sigma__r_1</td>\n",
       "      <td>0.002683</td>\n",
       "    </tr>\n",
       "    <tr>\n",
       "      <th>5238</th>\n",
       "      <td>chloride__change_quantiles__f_agg_\"\"\"\"\"\"\"\"mean...</td>\n",
       "      <td>0.002664</td>\n",
       "    </tr>\n",
       "    <tr>\n",
       "      <th>2886</th>\n",
       "      <td>alkphos__cwt_coefficients__coeff_1__w_10__widt...</td>\n",
       "      <td>0.002653</td>\n",
       "    </tr>\n",
       "    <tr>\n",
       "      <th>4448</th>\n",
       "      <td>haemoglobin__first_location_of_minimum</td>\n",
       "      <td>0.002635</td>\n",
       "    </tr>\n",
       "    <tr>\n",
       "      <th>3915</th>\n",
       "      <td>egfr__fft_coefficient__attr_\"\"\"\"\"\"\"\"angle\"\"\"\"\"...</td>\n",
       "      <td>0.002597</td>\n",
       "    </tr>\n",
       "    <tr>\n",
       "      <th>2375</th>\n",
       "      <td>wcc__quantile__q_0.1</td>\n",
       "      <td>0.002562</td>\n",
       "    </tr>\n",
       "    <tr>\n",
       "      <th>4957</th>\n",
       "      <td>mch__quantile__q_0.1</td>\n",
       "      <td>0.002562</td>\n",
       "    </tr>\n",
       "    <tr>\n",
       "      <th>1368</th>\n",
       "      <td>rbc__has_duplicate</td>\n",
       "      <td>0.002523</td>\n",
       "    </tr>\n",
       "    <tr>\n",
       "      <th>2922</th>\n",
       "      <td>alkphos__change_quantiles__f_agg_\"\"\"\"\"\"\"\"var\"\"...</td>\n",
       "      <td>0.002513</td>\n",
       "    </tr>\n",
       "    <tr>\n",
       "      <th>820</th>\n",
       "      <td>phosphate__change_quantiles__f_agg_\"\"\"\"\"\"\"\"mea...</td>\n",
       "      <td>0.002506</td>\n",
       "    </tr>\n",
       "    <tr>\n",
       "      <th>4193</th>\n",
       "      <td>glucose__mean_abs_change</td>\n",
       "      <td>0.002498</td>\n",
       "    </tr>\n",
       "    <tr>\n",
       "      <th>920</th>\n",
       "      <td>platelet__benford_correlation</td>\n",
       "      <td>0.002456</td>\n",
       "    </tr>\n",
       "  </tbody>\n",
       "</table>\n",
       "</div>"
      ]
     },
     "metadata": {},
     "execution_count": 35
    }
   ],
   "metadata": {}
  }
 ],
 "metadata": {
  "kernelspec": {
   "name": "python3",
   "display_name": "Python 3.9.5 64-bit ('ml_dl': conda)"
  },
  "language_info": {
   "codemirror_mode": {
    "name": "ipython",
    "version": 3
   },
   "file_extension": ".py",
   "mimetype": "text/x-python",
   "name": "python",
   "nbconvert_exporter": "python",
   "pygments_lexer": "ipython3",
   "version": "3.9.5"
  },
  "interpreter": {
   "hash": "252eb11dec6c7c75d43c93f623bff35f4a463f74afda1ad8986a53442394c969"
  }
 },
 "nbformat": 4,
 "nbformat_minor": 5
}