{
 "cells": [
  {
   "cell_type": "code",
   "execution_count": 1,
   "source": [
    "import numpy as np\n",
    "import pandas as pd\n",
    "import xgboost as xgb\n",
    "import shap\n",
    "from sklearn.preprocessing import OneHotEncoder, LabelEncoder\n",
    "from sklearn.compose import ColumnTransformer\n",
    "from sklearn.model_selection import train_test_split, StratifiedKFold, cross_validate, cross_val_score, cross_val_predict\n",
    "from sklearn.metrics import matthews_corrcoef, confusion_matrix, roc_auc_score, classification_report\n",
    "from imblearn.over_sampling import SMOTE\n",
    "from imblearn.under_sampling import RandomUnderSampler\n",
    "from imblearn.combine import SMOTETomek\n",
    "from imblearn.pipeline import Pipeline\n",
    "from sklearn.metrics import recall_score, accuracy_score\n",
    "from sklearn.impute import KNNImputer, SimpleImputer"
   ],
   "outputs": [],
   "metadata": {}
  },
  {
   "cell_type": "code",
   "execution_count": 2,
   "source": [
    "random_state = 7\n",
    "cv_method = StratifiedKFold(n_splits=5)"
   ],
   "outputs": [],
   "metadata": {}
  },
  {
   "cell_type": "markdown",
   "source": [
    "# Training of tsfresh-selected Training Max 1 years and eGFR 4 times"
   ],
   "metadata": {}
  },
  {
   "cell_type": "code",
   "execution_count": 3,
   "source": [
    "df = pd.read_csv('../data/train_all_1_4.gz')\n",
    "df.shape"
   ],
   "outputs": [
    {
     "output_type": "execute_result",
     "data": {
      "text/plain": [
       "(5603, 49610)"
      ]
     },
     "metadata": {},
     "execution_count": 3
    }
   ],
   "metadata": {}
  },
  {
   "cell_type": "code",
   "execution_count": 4,
   "source": [
    "df.info()"
   ],
   "outputs": [
    {
     "output_type": "stream",
     "name": "stdout",
     "text": [
      "<class 'pandas.core.frame.DataFrame'>\n",
      "RangeIndex: 5603 entries, 0 to 5602\n",
      "Columns: 49610 entries, id to cat8\n",
      "dtypes: float64(49588), int64(2), object(20)\n",
      "memory usage: 2.1+ GB\n"
     ]
    }
   ],
   "metadata": {}
  },
  {
   "cell_type": "code",
   "execution_count": 5,
   "source": [
    "df['aki_1'].fillna(value=0, inplace=True)\n",
    "df['aki_2'].fillna(value=0, inplace=True)\n",
    "df['aki_3'].fillna(value=0, inplace=True)"
   ],
   "outputs": [],
   "metadata": {}
  },
  {
   "cell_type": "code",
   "execution_count": 6,
   "source": [
    "df['gn'].value_counts()"
   ],
   "outputs": [
    {
     "output_type": "execute_result",
     "data": {
      "text/plain": [
       "no                 5181\n",
       "igan                172\n",
       "anca                 76\n",
       "lupus nephritis      39\n",
       "membranous           33\n",
       "unspecific           30\n",
       "fsgs                 28\n",
       "mcd                  21\n",
       "mp/mcgn              16\n",
       "fgn/itg               5\n",
       "pign                  2\n",
       "Name: gn, dtype: int64"
      ]
     },
     "metadata": {},
     "execution_count": 6
    }
   ],
   "metadata": {}
  },
  {
   "cell_type": "code",
   "execution_count": 7,
   "source": [
    "df.loc[df.gn == 'pign', 'gn'] = 'unspecific'\n",
    "df.loc[df.gn == 'fgn/itg', 'gn'] = 'unspecific'"
   ],
   "outputs": [],
   "metadata": {}
  },
  {
   "cell_type": "code",
   "execution_count": 8,
   "source": [
    "percent_missing = df.isnull().sum()*100 / len(df)\n",
    "missing_df = pd.DataFrame({'column_name': df.columns, 'percent_miss': percent_missing})"
   ],
   "outputs": [],
   "metadata": {}
  },
  {
   "cell_type": "code",
   "execution_count": 9,
   "source": [
    "missing_df.sort_values(by='percent_miss', ascending=False)"
   ],
   "outputs": [
    {
     "output_type": "execute_result",
     "data": {
      "text/plain": [
       "                                                                                          column_name  \\\n",
       "sta_dia__fft_coefficient__attr_\"\"\"\"abs\"\"\"\"__coe...  sta_dia__fft_coefficient__attr_\"\"\"\"abs\"\"\"\"__co...   \n",
       "sta_hr__fft_coefficient__attr_\"\"\"\"real\"\"\"\"__coe...  sta_hr__fft_coefficient__attr_\"\"\"\"real\"\"\"\"__co...   \n",
       "timedprotein__fft_coefficient__attr_\"\"\"\"abs\"\"\"\"...  timedprotein__fft_coefficient__attr_\"\"\"\"abs\"\"\"...   \n",
       "timedprotein__fft_coefficient__attr_\"\"\"\"abs\"\"\"\"...  timedprotein__fft_coefficient__attr_\"\"\"\"abs\"\"\"...   \n",
       "timedprotein__fft_coefficient__attr_\"\"\"\"abs\"\"\"\"...  timedprotein__fft_coefficient__attr_\"\"\"\"abs\"\"\"...   \n",
       "...                                                                                               ...   \n",
       "htn                                                                                               htn   \n",
       "aki_3                                                                                           aki_3   \n",
       "aki_2                                                                                           aki_2   \n",
       "aki_1                                                                                           aki_1   \n",
       "cat8                                                                                             cat8   \n",
       "\n",
       "                                                    percent_miss  \n",
       "sta_dia__fft_coefficient__attr_\"\"\"\"abs\"\"\"\"__coe...         100.0  \n",
       "sta_hr__fft_coefficient__attr_\"\"\"\"real\"\"\"\"__coe...         100.0  \n",
       "timedprotein__fft_coefficient__attr_\"\"\"\"abs\"\"\"\"...         100.0  \n",
       "timedprotein__fft_coefficient__attr_\"\"\"\"abs\"\"\"\"...         100.0  \n",
       "timedprotein__fft_coefficient__attr_\"\"\"\"abs\"\"\"\"...         100.0  \n",
       "...                                                          ...  \n",
       "htn                                                          0.0  \n",
       "aki_3                                                        0.0  \n",
       "aki_2                                                        0.0  \n",
       "aki_1                                                        0.0  \n",
       "cat8                                                         0.0  \n",
       "\n",
       "[49610 rows x 2 columns]"
      ],
      "text/html": [
       "<div>\n",
       "<style scoped>\n",
       "    .dataframe tbody tr th:only-of-type {\n",
       "        vertical-align: middle;\n",
       "    }\n",
       "\n",
       "    .dataframe tbody tr th {\n",
       "        vertical-align: top;\n",
       "    }\n",
       "\n",
       "    .dataframe thead th {\n",
       "        text-align: right;\n",
       "    }\n",
       "</style>\n",
       "<table border=\"1\" class=\"dataframe\">\n",
       "  <thead>\n",
       "    <tr style=\"text-align: right;\">\n",
       "      <th></th>\n",
       "      <th>column_name</th>\n",
       "      <th>percent_miss</th>\n",
       "    </tr>\n",
       "  </thead>\n",
       "  <tbody>\n",
       "    <tr>\n",
       "      <th>sta_dia__fft_coefficient__attr_\"\"\"\"abs\"\"\"\"__coeff_47</th>\n",
       "      <td>sta_dia__fft_coefficient__attr_\"\"\"\"abs\"\"\"\"__co...</td>\n",
       "      <td>100.0</td>\n",
       "    </tr>\n",
       "    <tr>\n",
       "      <th>sta_hr__fft_coefficient__attr_\"\"\"\"real\"\"\"\"__coeff_17</th>\n",
       "      <td>sta_hr__fft_coefficient__attr_\"\"\"\"real\"\"\"\"__co...</td>\n",
       "      <td>100.0</td>\n",
       "    </tr>\n",
       "    <tr>\n",
       "      <th>timedprotein__fft_coefficient__attr_\"\"\"\"abs\"\"\"\"__coeff_9</th>\n",
       "      <td>timedprotein__fft_coefficient__attr_\"\"\"\"abs\"\"\"...</td>\n",
       "      <td>100.0</td>\n",
       "    </tr>\n",
       "    <tr>\n",
       "      <th>timedprotein__fft_coefficient__attr_\"\"\"\"abs\"\"\"\"__coeff_8</th>\n",
       "      <td>timedprotein__fft_coefficient__attr_\"\"\"\"abs\"\"\"...</td>\n",
       "      <td>100.0</td>\n",
       "    </tr>\n",
       "    <tr>\n",
       "      <th>timedprotein__fft_coefficient__attr_\"\"\"\"abs\"\"\"\"__coeff_7</th>\n",
       "      <td>timedprotein__fft_coefficient__attr_\"\"\"\"abs\"\"\"...</td>\n",
       "      <td>100.0</td>\n",
       "    </tr>\n",
       "    <tr>\n",
       "      <th>...</th>\n",
       "      <td>...</td>\n",
       "      <td>...</td>\n",
       "    </tr>\n",
       "    <tr>\n",
       "      <th>htn</th>\n",
       "      <td>htn</td>\n",
       "      <td>0.0</td>\n",
       "    </tr>\n",
       "    <tr>\n",
       "      <th>aki_3</th>\n",
       "      <td>aki_3</td>\n",
       "      <td>0.0</td>\n",
       "    </tr>\n",
       "    <tr>\n",
       "      <th>aki_2</th>\n",
       "      <td>aki_2</td>\n",
       "      <td>0.0</td>\n",
       "    </tr>\n",
       "    <tr>\n",
       "      <th>aki_1</th>\n",
       "      <td>aki_1</td>\n",
       "      <td>0.0</td>\n",
       "    </tr>\n",
       "    <tr>\n",
       "      <th>cat8</th>\n",
       "      <td>cat8</td>\n",
       "      <td>0.0</td>\n",
       "    </tr>\n",
       "  </tbody>\n",
       "</table>\n",
       "<p>49610 rows × 2 columns</p>\n",
       "</div>"
      ]
     },
     "metadata": {},
     "execution_count": 9
    }
   ],
   "metadata": {}
  },
  {
   "cell_type": "markdown",
   "source": [
    "### Number of patients reaching ESKD within training period "
   ],
   "metadata": {}
  },
  {
   "cell_type": "code",
   "execution_count": 10,
   "source": [
    "df['cat1'].value_counts()"
   ],
   "outputs": [
    {
     "output_type": "execute_result",
     "data": {
      "text/plain": [
       "non_eskd    4409\n",
       "eskd        1194\n",
       "Name: cat1, dtype: int64"
      ]
     },
     "metadata": {},
     "execution_count": 10
    }
   ],
   "metadata": {}
  },
  {
   "cell_type": "code",
   "execution_count": 11,
   "source": [
    "df.set_index('id', inplace=True)"
   ],
   "outputs": [],
   "metadata": {}
  },
  {
   "cell_type": "code",
   "execution_count": 12,
   "source": [
    "def to_category(df):\n",
    "    cols = df.select_dtypes(include='object').columns\n",
    "    for col in cols:\n",
    "        df[col] = df[col].astype('category')\n",
    "    return df\n",
    "\n",
    "def drop_missing(df):\n",
    "    threshold = len(df)*0.6\n",
    "    df.dropna(axis=1, thresh=threshold, inplace=True)\n",
    "    return df\n",
    "\n",
    "def copy_df(df):\n",
    "    return df.copy()"
   ],
   "outputs": [],
   "metadata": {}
  },
  {
   "cell_type": "code",
   "execution_count": 13,
   "source": [
    "df_cleaned = (df.pipe(copy_df).pipe(drop_missing).pipe(to_category))\n",
    "df_cleaned.shape"
   ],
   "outputs": [
    {
     "output_type": "execute_result",
     "data": {
      "text/plain": [
       "(5603, 5990)"
      ]
     },
     "metadata": {},
     "execution_count": 13
    }
   ],
   "metadata": {}
  },
  {
   "cell_type": "code",
   "execution_count": 14,
   "source": [
    "df_rm_intrain = df_cleaned.query(\"cat1 == 'non_eskd'\")\n",
    "df_rm_intrain.shape"
   ],
   "outputs": [
    {
     "output_type": "execute_result",
     "data": {
      "text/plain": [
       "(4409, 5990)"
      ]
     },
     "metadata": {},
     "execution_count": 14
    }
   ],
   "metadata": {}
  },
  {
   "cell_type": "code",
   "execution_count": 15,
   "source": [
    "df_rm_intrain.to_csv('../data/cleaned60_all_1_4.gz', index=True, compression='gzip')"
   ],
   "outputs": [],
   "metadata": {}
  },
  {
   "cell_type": "code",
   "execution_count": 16,
   "source": [
    "df_rm_intrain.info()"
   ],
   "outputs": [
    {
     "output_type": "stream",
     "name": "stdout",
     "text": [
      "<class 'pandas.core.frame.DataFrame'>\n",
      "Int64Index: 4409 entries, 3916 to 23864\n",
      "Columns: 5990 entries, mchc__variance_larger_than_standard_deviation to cat8\n",
      "dtypes: category(20), float64(5969), int64(1)\n",
      "memory usage: 200.9 MB\n"
     ]
    }
   ],
   "metadata": {}
  },
  {
   "cell_type": "code",
   "execution_count": 112,
   "source": [
    "df_rm_intrain = (df_rm_intrain.pipe(copy_df).pipe(to_category))\n",
    "df_rm_intrain.shape"
   ],
   "outputs": [
    {
     "output_type": "execute_result",
     "data": {
      "text/plain": [
       "(4409, 8985)"
      ]
     },
     "metadata": {},
     "execution_count": 112
    }
   ],
   "metadata": {}
  },
  {
   "cell_type": "markdown",
   "source": [
    "### Number of patients reaching ESKD in at 1y post-training "
   ],
   "metadata": {}
  },
  {
   "cell_type": "code",
   "execution_count": 17,
   "source": [
    "df_rm_intrain['cat2'].value_counts()"
   ],
   "outputs": [
    {
     "output_type": "execute_result",
     "data": {
      "text/plain": [
       "non_eskd    4282\n",
       "eskd         127\n",
       "Name: cat2, dtype: int64"
      ]
     },
     "metadata": {},
     "execution_count": 17
    }
   ],
   "metadata": {}
  },
  {
   "cell_type": "markdown",
   "source": [
    "### Number of patients reaching ESKD in 2y post-training"
   ],
   "metadata": {}
  },
  {
   "cell_type": "code",
   "execution_count": 18,
   "source": [
    "df_rm_intrain['cat3'].value_counts()"
   ],
   "outputs": [
    {
     "output_type": "execute_result",
     "data": {
      "text/plain": [
       "non_eskd    4174\n",
       "eskd         235\n",
       "Name: cat3, dtype: int64"
      ]
     },
     "metadata": {},
     "execution_count": 18
    }
   ],
   "metadata": {}
  },
  {
   "cell_type": "markdown",
   "source": [
    "### Number of patients reaching ESKD in 5y post-training"
   ],
   "metadata": {}
  },
  {
   "cell_type": "code",
   "execution_count": 19,
   "source": [
    "df_rm_intrain['cat6'].value_counts()"
   ],
   "outputs": [
    {
     "output_type": "execute_result",
     "data": {
      "text/plain": [
       "non_eskd    3918\n",
       "eskd         491\n",
       "Name: cat6, dtype: int64"
      ]
     },
     "metadata": {},
     "execution_count": 19
    }
   ],
   "metadata": {}
  },
  {
   "cell_type": "code",
   "execution_count": 20,
   "source": [
    "percent_missing = df_rm_intrain.isnull().sum()*100 / len(df_rm_intrain)\n",
    "missing_df_rm_intrain = pd.DataFrame({'column_name': df_rm_intrain.columns, 'percent_miss': percent_missing})"
   ],
   "outputs": [],
   "metadata": {}
  },
  {
   "cell_type": "code",
   "execution_count": 21,
   "source": [
    "missing_df_rm_intrain.sort_values(by='percent_miss', ascending=False)"
   ],
   "outputs": [
    {
     "output_type": "execute_result",
     "data": {
      "text/plain": [
       "                                                                         column_name  \\\n",
       "caphos_product__autocorrelation__lag_0        caphos_product__autocorrelation__lag_0   \n",
       "caphos_product__autocorrelation__lag_1        caphos_product__autocorrelation__lag_1   \n",
       "caphos_product__fourier_entropy__bins_100  caphos_product__fourier_entropy__bins_100   \n",
       "caphos_product__fourier_entropy__bins_10    caphos_product__fourier_entropy__bins_10   \n",
       "caphos_product__fourier_entropy__bins_5      caphos_product__fourier_entropy__bins_5   \n",
       "...                                                                              ...   \n",
       "dkd                                                                              dkd   \n",
       "htn                                                                              htn   \n",
       "aki_3                                                                          aki_3   \n",
       "aki_2                                                                          aki_2   \n",
       "cat8                                                                            cat8   \n",
       "\n",
       "                                           percent_miss  \n",
       "caphos_product__autocorrelation__lag_0        47.153550  \n",
       "caphos_product__autocorrelation__lag_1        47.153550  \n",
       "caphos_product__fourier_entropy__bins_100     47.130869  \n",
       "caphos_product__fourier_entropy__bins_10      47.130869  \n",
       "caphos_product__fourier_entropy__bins_5       47.130869  \n",
       "...                                                 ...  \n",
       "dkd                                            0.000000  \n",
       "htn                                            0.000000  \n",
       "aki_3                                          0.000000  \n",
       "aki_2                                          0.000000  \n",
       "cat8                                           0.000000  \n",
       "\n",
       "[5990 rows x 2 columns]"
      ],
      "text/html": [
       "<div>\n",
       "<style scoped>\n",
       "    .dataframe tbody tr th:only-of-type {\n",
       "        vertical-align: middle;\n",
       "    }\n",
       "\n",
       "    .dataframe tbody tr th {\n",
       "        vertical-align: top;\n",
       "    }\n",
       "\n",
       "    .dataframe thead th {\n",
       "        text-align: right;\n",
       "    }\n",
       "</style>\n",
       "<table border=\"1\" class=\"dataframe\">\n",
       "  <thead>\n",
       "    <tr style=\"text-align: right;\">\n",
       "      <th></th>\n",
       "      <th>column_name</th>\n",
       "      <th>percent_miss</th>\n",
       "    </tr>\n",
       "  </thead>\n",
       "  <tbody>\n",
       "    <tr>\n",
       "      <th>caphos_product__autocorrelation__lag_0</th>\n",
       "      <td>caphos_product__autocorrelation__lag_0</td>\n",
       "      <td>47.153550</td>\n",
       "    </tr>\n",
       "    <tr>\n",
       "      <th>caphos_product__autocorrelation__lag_1</th>\n",
       "      <td>caphos_product__autocorrelation__lag_1</td>\n",
       "      <td>47.153550</td>\n",
       "    </tr>\n",
       "    <tr>\n",
       "      <th>caphos_product__fourier_entropy__bins_100</th>\n",
       "      <td>caphos_product__fourier_entropy__bins_100</td>\n",
       "      <td>47.130869</td>\n",
       "    </tr>\n",
       "    <tr>\n",
       "      <th>caphos_product__fourier_entropy__bins_10</th>\n",
       "      <td>caphos_product__fourier_entropy__bins_10</td>\n",
       "      <td>47.130869</td>\n",
       "    </tr>\n",
       "    <tr>\n",
       "      <th>caphos_product__fourier_entropy__bins_5</th>\n",
       "      <td>caphos_product__fourier_entropy__bins_5</td>\n",
       "      <td>47.130869</td>\n",
       "    </tr>\n",
       "    <tr>\n",
       "      <th>...</th>\n",
       "      <td>...</td>\n",
       "      <td>...</td>\n",
       "    </tr>\n",
       "    <tr>\n",
       "      <th>dkd</th>\n",
       "      <td>dkd</td>\n",
       "      <td>0.000000</td>\n",
       "    </tr>\n",
       "    <tr>\n",
       "      <th>htn</th>\n",
       "      <td>htn</td>\n",
       "      <td>0.000000</td>\n",
       "    </tr>\n",
       "    <tr>\n",
       "      <th>aki_3</th>\n",
       "      <td>aki_3</td>\n",
       "      <td>0.000000</td>\n",
       "    </tr>\n",
       "    <tr>\n",
       "      <th>aki_2</th>\n",
       "      <td>aki_2</td>\n",
       "      <td>0.000000</td>\n",
       "    </tr>\n",
       "    <tr>\n",
       "      <th>cat8</th>\n",
       "      <td>cat8</td>\n",
       "      <td>0.000000</td>\n",
       "    </tr>\n",
       "  </tbody>\n",
       "</table>\n",
       "<p>5990 rows × 2 columns</p>\n",
       "</div>"
      ]
     },
     "metadata": {},
     "execution_count": 21
    }
   ],
   "metadata": {}
  },
  {
   "cell_type": "markdown",
   "source": [
    "## Features and Target Input for Training "
   ],
   "metadata": {}
  },
  {
   "cell_type": "code",
   "execution_count": 22,
   "source": [
    "dropped_cols = list(df_rm_intrain.columns[-18:])\n",
    "dropped_cols.remove('age.init')\n",
    "dropped_cols"
   ],
   "outputs": [
    {
     "output_type": "execute_result",
     "data": {
      "text/plain": [
       "['egfr.y',\n",
       " 'cat0.5',\n",
       " 'cat1',\n",
       " 'cat1.5',\n",
       " 'cat2',\n",
       " 'cat2.5',\n",
       " 'cat3',\n",
       " 'cat3.5',\n",
       " 'cat4',\n",
       " 'cat4.5',\n",
       " 'cat5',\n",
       " 'cat5.5',\n",
       " 'cat6',\n",
       " 'cat6.5',\n",
       " 'cat7',\n",
       " 'cat7.5',\n",
       " 'cat8']"
      ]
     },
     "metadata": {},
     "execution_count": 22
    }
   ],
   "metadata": {}
  },
  {
   "cell_type": "code",
   "execution_count": 23,
   "source": [
    "X = df_rm_intrain.drop(dropped_cols,axis=1).copy()\n",
    "y = df_rm_intrain['cat6']\n",
    "X.shape, y.shape"
   ],
   "outputs": [
    {
     "output_type": "execute_result",
     "data": {
      "text/plain": [
       "((4409, 5973), (4409,))"
      ]
     },
     "metadata": {},
     "execution_count": 23
    }
   ],
   "metadata": {}
  },
  {
   "cell_type": "code",
   "execution_count": 24,
   "source": [
    "y_mapped = y.map({'non_eskd':'no', 'eskd':'yes'})\n",
    "y_mapped"
   ],
   "outputs": [
    {
     "output_type": "execute_result",
     "data": {
      "text/plain": [
       "id\n",
       "3916     no\n",
       "3918     no\n",
       "3921     no\n",
       "3924     no\n",
       "3930     no\n",
       "         ..\n",
       "23760    no\n",
       "23771    no\n",
       "23780    no\n",
       "23807    no\n",
       "23864    no\n",
       "Name: cat6, Length: 4409, dtype: category\n",
       "Categories (2, object): ['yes', 'no']"
      ]
     },
     "metadata": {},
     "execution_count": 24
    }
   ],
   "metadata": {}
  },
  {
   "cell_type": "code",
   "execution_count": 25,
   "source": [
    "X_train, X_test, y_train, y_test = train_test_split(X, y_mapped, test_size=0.3, stratify=y_mapped, random_state=random_state)\n",
    "X_train.shape, X_test.shape, y_train.shape, y_test.shape"
   ],
   "outputs": [
    {
     "output_type": "execute_result",
     "data": {
      "text/plain": [
       "((3086, 5973), (1323, 5973), (3086,), (1323,))"
      ]
     },
     "metadata": {},
     "execution_count": 25
    }
   ],
   "metadata": {}
  },
  {
   "cell_type": "code",
   "execution_count": 26,
   "source": [
    "lab_encode = LabelEncoder()\n",
    "y_train = lab_encode.fit_transform(y_train)\n",
    "y_test = lab_encode.transform(y_test)\n",
    "y_train.shape, y_test.shape"
   ],
   "outputs": [
    {
     "output_type": "execute_result",
     "data": {
      "text/plain": [
       "((3086,), (1323,))"
      ]
     },
     "metadata": {},
     "execution_count": 26
    }
   ],
   "metadata": {}
  },
  {
   "cell_type": "code",
   "execution_count": 27,
   "source": [
    "unique_values, counts = np.unique(y_train, return_counts=True)\n",
    "ratio = dict(zip(unique_values, counts))\n",
    "ratio"
   ],
   "outputs": [
    {
     "output_type": "execute_result",
     "data": {
      "text/plain": [
       "{0: 2742, 1: 344}"
      ]
     },
     "metadata": {},
     "execution_count": 27
    }
   ],
   "metadata": {}
  },
  {
   "cell_type": "code",
   "execution_count": 28,
   "source": [
    "imbalance_ratio = ratio[0] / ratio[1]\n",
    "imbalance_ratio"
   ],
   "outputs": [
    {
     "output_type": "execute_result",
     "data": {
      "text/plain": [
       "7.97093023255814"
      ]
     },
     "metadata": {},
     "execution_count": 28
    }
   ],
   "metadata": {}
  },
  {
   "cell_type": "code",
   "execution_count": 29,
   "source": [
    "category_cols = list(X_train.select_dtypes(include='category').columns)\n",
    "numeric_cols = list(X_train.select_dtypes(include=['number']).columns)\n",
    "one_hot = OneHotEncoder(handle_unknown='ignore')\n",
    "num_imputer = KNNImputer(n_neighbors=5)\n",
    "len(category_cols), len(numeric_cols)"
   ],
   "outputs": [
    {
     "output_type": "execute_result",
     "data": {
      "text/plain": [
       "(4, 5969)"
      ]
     },
     "metadata": {},
     "execution_count": 29
    }
   ],
   "metadata": {}
  },
  {
   "cell_type": "code",
   "execution_count": 30,
   "source": [
    "preprocess = ColumnTransformer([('numerical', num_imputer, numeric_cols), ('cat_encoder', one_hot, category_cols)], remainder='passthrough')\n",
    "X_train_processed = preprocess.fit_transform(X_train)\n",
    "X_train_processed.shape"
   ],
   "outputs": [
    {
     "output_type": "execute_result",
     "data": {
      "text/plain": [
       "(3086, 5984)"
      ]
     },
     "metadata": {},
     "execution_count": 30
    }
   ],
   "metadata": {}
  },
  {
   "cell_type": "code",
   "execution_count": 31,
   "source": [
    "X_test_processed = preprocess.transform(X_test)"
   ],
   "outputs": [],
   "metadata": {}
  },
  {
   "cell_type": "code",
   "execution_count": 32,
   "source": [
    "xgb_class = xgb.XGBClassifier(n_jobs=-1, random_state = random_state, n_estimators=1000, use_label_encoder=False, eval_metric='logloss', scale_pos_weight=imbalance_ratio)\n",
    "sampler = SMOTETomek(sampling_strategy=0.5, random_state=random_state)\n",
    "steps = [('resampling', sampler), ('model', xgb_class)]\n",
    "pipeline = Pipeline(steps=steps)"
   ],
   "outputs": [],
   "metadata": {}
  },
  {
   "cell_type": "code",
   "execution_count": 33,
   "source": [
    "pipeline.fit(X_train_processed, y_train)"
   ],
   "outputs": [
    {
     "output_type": "execute_result",
     "data": {
      "text/plain": [
       "Pipeline(steps=[('resampling',\n",
       "                 SMOTETomek(random_state=7, sampling_strategy=0.5)),\n",
       "                ('model',\n",
       "                 XGBClassifier(base_score=0.5, booster='gbtree',\n",
       "                               colsample_bylevel=1, colsample_bynode=1,\n",
       "                               colsample_bytree=1, eval_metric='logloss',\n",
       "                               gamma=0, gpu_id=-1, importance_type='gain',\n",
       "                               interaction_constraints='',\n",
       "                               learning_rate=0.300000012, max_delta_step=0,\n",
       "                               max_depth=6, min_child_weight=1, missing=nan,\n",
       "                               monotone_constraints='()', n_estimators=1000,\n",
       "                               n_jobs=-1, num_parallel_tree=1, random_state=7,\n",
       "                               reg_alpha=0, reg_lambda=1,\n",
       "                               scale_pos_weight=7.97093023255814, subsample=1,\n",
       "                               tree_method='exact', use_label_encoder=False,\n",
       "                               validate_parameters=1, verbosity=None))])"
      ]
     },
     "metadata": {},
     "execution_count": 33
    }
   ],
   "metadata": {}
  },
  {
   "cell_type": "code",
   "execution_count": 34,
   "source": [
    "y_pred = pipeline.predict(X_test_processed)"
   ],
   "outputs": [],
   "metadata": {}
  },
  {
   "cell_type": "code",
   "execution_count": 35,
   "source": [
    "confusion_matrix(y_true=y_test, y_pred=y_pred)"
   ],
   "outputs": [
    {
     "output_type": "execute_result",
     "data": {
      "text/plain": [
       "array([[1119,   57],\n",
       "       [  91,   56]])"
      ]
     },
     "metadata": {},
     "execution_count": 35
    }
   ],
   "metadata": {}
  },
  {
   "cell_type": "code",
   "execution_count": 36,
   "source": [
    "roc_auc_score(y_test, y_pred)"
   ],
   "outputs": [
    {
     "output_type": "execute_result",
     "data": {
      "text/plain": [
       "0.6662414965986394"
      ]
     },
     "metadata": {},
     "execution_count": 36
    }
   ],
   "metadata": {}
  },
  {
   "cell_type": "code",
   "execution_count": 37,
   "source": [
    "print(classification_report(y_true=y_test, y_pred=y_pred))"
   ],
   "outputs": [
    {
     "output_type": "stream",
     "name": "stdout",
     "text": [
      "              precision    recall  f1-score   support\n",
      "\n",
      "           0       0.92      0.95      0.94      1176\n",
      "           1       0.50      0.38      0.43       147\n",
      "\n",
      "    accuracy                           0.89      1323\n",
      "   macro avg       0.71      0.67      0.68      1323\n",
      "weighted avg       0.88      0.89      0.88      1323\n",
      "\n"
     ]
    }
   ],
   "metadata": {}
  },
  {
   "cell_type": "code",
   "execution_count": 38,
   "source": [
    "print(matthews_corrcoef(y_test, y_pred))"
   ],
   "outputs": [
    {
     "output_type": "stream",
     "name": "stdout",
     "text": [
      "0.37385212797150785\n"
     ]
    }
   ],
   "metadata": {}
  },
  {
   "cell_type": "code",
   "execution_count": 39,
   "source": [
    "importance = pipeline.named_steps['model'].feature_importances_\n",
    "importance.shape, type(importance)"
   ],
   "outputs": [
    {
     "output_type": "execute_result",
     "data": {
      "text/plain": [
       "((5984,), numpy.ndarray)"
      ]
     },
     "metadata": {},
     "execution_count": 39
    }
   ],
   "metadata": {}
  },
  {
   "cell_type": "code",
   "execution_count": 40,
   "source": [
    "category_label = list(preprocess.named_transformers_['cat_encoder'].get_feature_names(category_cols))\n",
    "feature_label = numeric_cols + category_label\n",
    "len(feature_label)"
   ],
   "outputs": [
    {
     "output_type": "execute_result",
     "data": {
      "text/plain": [
       "5984"
      ]
     },
     "metadata": {},
     "execution_count": 40
    }
   ],
   "metadata": {}
  },
  {
   "cell_type": "code",
   "execution_count": 41,
   "source": [
    "pd.set_option('display.max_rows', 400)\n",
    "eval_df = pd.DataFrame({'label': feature_label, 'importance_value': importance})\n",
    "eval_df.sort_values(by='importance_value', ascending=False).head(100)"
   ],
   "outputs": [
    {
     "output_type": "execute_result",
     "data": {
      "text/plain": [
       "                                                  label  importance_value\n",
       "3984                        creatinine__quantile__q_0.9          0.115063\n",
       "3979                        creatinine__quantile__q_0.3          0.046660\n",
       "0         mchc__variance_larger_than_standard_deviation          0.019250\n",
       "4221                              egfr__quantile__q_0.6          0.016217\n",
       "323   mcv__cwt_coefficients__coeff_0__w_10__widths_(...          0.015140\n",
       "4877               haematocrit__symmetry_looking__r_0.1          0.014002\n",
       "3927                                creatinine__maximum          0.013635\n",
       "3929                    creatinine__benford_correlation          0.012292\n",
       "3187         alkphos__linear_trend__attr_\"\"\"\"pvalue\"\"\"\"          0.011878\n",
       "4251  egfr__cwt_coefficients__coeff_1__w_2__widths_(...          0.011755\n",
       "2912  albumin__change_quantiles__f_agg_\"\"\"\"mean\"\"\"\"_...          0.011175\n",
       "4170     egfr__time_reversal_asymmetry_statistic__lag_1          0.010195\n",
       "1546       potassium__linear_trend__attr_\"\"\"\"stderr\"\"\"\"          0.009603\n",
       "1053  phosphate__fft_aggregated__aggtype_\"\"\"\"centroi...          0.008651\n",
       "4944  haematocrit__cwt_coefficients__coeff_0__w_20__...          0.008285\n",
       "906                   phosphate__cid_ce__normalize_True          0.007610\n",
       "1998          sodium__linear_trend__attr_\"\"\"\"rvalue\"\"\"\"          0.007563\n",
       "2782                       albumin__benford_correlation          0.007269\n",
       "4202             egfr__large_standard_deviation__r_0.25          0.007234\n",
       "2424  ureacreat_ratio__change_quantiles__f_agg_\"\"\"\"m...          0.007211\n",
       "5632  mch__change_quantiles__f_agg_\"\"\"\"mean\"\"\"\"__isa...          0.007172\n",
       "612               monocytes__range_count__max_1__min_-1          0.007007\n",
       "5030  haematocrit__energy_ratio_by_chunks__num_segme...          0.005941\n",
       "5038             haematocrit__ratio_beyond_r_sigma__r_1          0.005906\n",
       "5746                 chloride__last_location_of_maximum          0.005885\n",
       "2245  urea__energy_ratio_by_chunks__num_segments_10_...          0.005820\n",
       "1256  platelet__change_quantiles__f_agg_\"\"\"\"var\"\"\"\"_...          0.005551\n",
       "4000             creatinine__index_mass_quantile__q_0.3          0.005532\n",
       "5137                       haemoglobin__quantile__q_0.6          0.005525\n",
       "3913                creatinine__absolute_sum_of_changes          0.005468\n",
       "2355                   ureacreat_ratio__quantile__q_0.2          0.005467\n",
       "4760  glucose__change_quantiles__f_agg_\"\"\"\"mean\"\"\"\"_...          0.005358\n",
       "5664  mch__change_quantiles__f_agg_\"\"\"\"mean\"\"\"\"__isa...          0.005200\n",
       "5613  mch__cwt_coefficients__coeff_0__w_2__widths_(2...          0.005107\n",
       "2872  albumin__change_quantiles__f_agg_\"\"\"\"mean\"\"\"\"_...          0.005017\n",
       "5023     haematocrit__linear_trend__attr_\"\"\"\"rvalue\"\"\"\"          0.004927\n",
       "1192                          platelet__quantile__q_0.9          0.004906\n",
       "4507  eosinophils__change_quantiles__f_agg_\"\"\"\"mean\"...          0.004869\n",
       "2270                      urea__fourier_entropy__bins_2          0.004866\n",
       "2860  albumin__cwt_coefficients__coeff_0__w_5__width...          0.004705\n",
       "1719  rbc__change_quantiles__f_agg_\"\"\"\"mean\"\"\"\"__isa...          0.004602\n",
       "5971                                            dkd_dkd          0.004404\n",
       "5522                       mch__absolute_sum_of_changes          0.004350\n",
       "1688  rbc__cwt_coefficients__coeff_0__w_10__widths_(...          0.004346\n",
       "2908  albumin__change_quantiles__f_agg_\"\"\"\"mean\"\"\"\"_...          0.004330\n",
       "1555  potassium__energy_ratio_by_chunks__num_segment...          0.004305\n",
       "4934            haematocrit__index_mass_quantile__q_0.2          0.004290\n",
       "2887  albumin__change_quantiles__f_agg_\"\"\"\"var\"\"\"\"__...          0.004232\n",
       "1735  rbc__change_quantiles__f_agg_\"\"\"\"mean\"\"\"\"__isa...          0.004191\n",
       "4916                       haematocrit__quantile__q_0.3          0.004079\n",
       "1013  phosphate__change_quantiles__f_agg_\"\"\"\"mean\"\"\"...          0.004018\n",
       "1681                    rbc__index_mass_quantile__q_0.4          0.003977\n",
       "5248       haemoglobin__approximate_entropy__m_2__r_0.3          0.003866\n",
       "3338  basophils__change_quantiles__f_agg_\"\"\"\"mean\"\"\"...          0.003861\n",
       "1801                          sodium__has_duplicate_min          0.003836\n",
       "1137                      platelet__benford_correlation          0.003654\n",
       "5416  lymphocytes__change_quantiles__f_agg_\"\"\"\"var\"\"...          0.003643\n",
       "1707  rbc__change_quantiles__f_agg_\"\"\"\"mean\"\"\"\"__isa...          0.003626\n",
       "4717  glucose__change_quantiles__f_agg_\"\"\"\"var\"\"\"\"__...          0.003608\n",
       "4691                     glucose__number_cwt_peaks__n_1          0.003568\n",
       "533               monocytes__index_mass_quantile__q_0.4          0.003553\n",
       "4181      egfr__symmetry_looking__r_0.15000000000000002          0.003475\n",
       "1585                                 rbc__has_duplicate          0.003419\n",
       "3978                        creatinine__quantile__q_0.2          0.003394\n",
       "5969                                            htn_htn          0.003378\n",
       "3102  alkphos__cwt_coefficients__coeff_1__w_5__width...          0.003271\n",
       "4272  egfr__change_quantiles__f_agg_\"\"\"\"mean\"\"\"\"__is...          0.003257\n",
       "657                                 neutrophils__median          0.003194\n",
       "2617                    wcc__index_mass_quantile__q_0.6          0.003131\n",
       "512                          monocytes__quantile__q_0.2          0.003111\n",
       "469                                monocytes__c3__lag_3          0.003103\n",
       "4253  egfr__cwt_coefficients__coeff_1__w_10__widths_...          0.003004\n",
       "1828                                    sodium__maximum          0.002932\n",
       "2880  albumin__change_quantiles__f_agg_\"\"\"\"mean\"\"\"\"_...          0.002909\n",
       "5738                    chloride__variation_coefficient          0.002865\n",
       "1703  rbc__change_quantiles__f_agg_\"\"\"\"mean\"\"\"\"__isa...          0.002785\n",
       "3362  basophils__change_quantiles__f_agg_\"\"\"\"mean\"\"\"...          0.002740\n",
       "5223  haemoglobin__change_quantiles__f_agg_\"\"\"\"mean\"...          0.002703\n",
       "3571  calcium__change_quantiles__f_agg_\"\"\"\"mean\"\"\"\"_...          0.002689\n",
       "678                                neutrophils__maximum          0.002644\n",
       "4204  egfr__large_standard_deviation__r_0.3500000000...          0.002640\n",
       "3638               calcium__ratio_beyond_r_sigma__r_0.5          0.002638\n",
       "2288                          ureacreat_ratio__variance          0.002626\n",
       "785   neutrophils__change_quantiles__f_agg_\"\"\"\"var\"\"...          0.002616\n",
       "3437                   calcium__absolute_sum_of_changes          0.002516\n",
       "734                        neutrophils__quantile__q_0.8          0.002504\n",
       "550   monocytes__change_quantiles__f_agg_\"\"\"\"var\"\"\"\"...          0.002496\n",
       "334   mcv__change_quantiles__f_agg_\"\"\"\"mean\"\"\"\"__isa...          0.002451\n",
       "4992  haematocrit__change_quantiles__f_agg_\"\"\"\"mean\"...          0.002422\n",
       "5062                                haemoglobin__median          0.002409\n",
       "3526                calcium__index_mass_quantile__q_0.6          0.002403\n",
       "1689  rbc__cwt_coefficients__coeff_0__w_20__widths_(...          0.002389\n",
       "4173                                    egfr__c3__lag_1          0.002386\n",
       "4376                      egfr__fourier_entropy__bins_2          0.002310\n",
       "5436  lymphocytes__change_quantiles__f_agg_\"\"\"\"var\"\"...          0.002296\n",
       "5863  chloride__change_quantiles__f_agg_\"\"\"\"mean\"\"\"\"...          0.002253\n",
       "5820                        chloride__number_peaks__n_1          0.002193\n",
       "2831                           albumin__quantile__q_0.2          0.002157\n",
       "102                    mchc__index_mass_quantile__q_0.8          0.002145\n",
       "1068    phosphate__linear_trend__attr_\"\"\"\"intercept\"\"\"\"          0.002139"
      ],
      "text/html": [
       "<div>\n",
       "<style scoped>\n",
       "    .dataframe tbody tr th:only-of-type {\n",
       "        vertical-align: middle;\n",
       "    }\n",
       "\n",
       "    .dataframe tbody tr th {\n",
       "        vertical-align: top;\n",
       "    }\n",
       "\n",
       "    .dataframe thead th {\n",
       "        text-align: right;\n",
       "    }\n",
       "</style>\n",
       "<table border=\"1\" class=\"dataframe\">\n",
       "  <thead>\n",
       "    <tr style=\"text-align: right;\">\n",
       "      <th></th>\n",
       "      <th>label</th>\n",
       "      <th>importance_value</th>\n",
       "    </tr>\n",
       "  </thead>\n",
       "  <tbody>\n",
       "    <tr>\n",
       "      <th>3984</th>\n",
       "      <td>creatinine__quantile__q_0.9</td>\n",
       "      <td>0.115063</td>\n",
       "    </tr>\n",
       "    <tr>\n",
       "      <th>3979</th>\n",
       "      <td>creatinine__quantile__q_0.3</td>\n",
       "      <td>0.046660</td>\n",
       "    </tr>\n",
       "    <tr>\n",
       "      <th>0</th>\n",
       "      <td>mchc__variance_larger_than_standard_deviation</td>\n",
       "      <td>0.019250</td>\n",
       "    </tr>\n",
       "    <tr>\n",
       "      <th>4221</th>\n",
       "      <td>egfr__quantile__q_0.6</td>\n",
       "      <td>0.016217</td>\n",
       "    </tr>\n",
       "    <tr>\n",
       "      <th>323</th>\n",
       "      <td>mcv__cwt_coefficients__coeff_0__w_10__widths_(...</td>\n",
       "      <td>0.015140</td>\n",
       "    </tr>\n",
       "    <tr>\n",
       "      <th>4877</th>\n",
       "      <td>haematocrit__symmetry_looking__r_0.1</td>\n",
       "      <td>0.014002</td>\n",
       "    </tr>\n",
       "    <tr>\n",
       "      <th>3927</th>\n",
       "      <td>creatinine__maximum</td>\n",
       "      <td>0.013635</td>\n",
       "    </tr>\n",
       "    <tr>\n",
       "      <th>3929</th>\n",
       "      <td>creatinine__benford_correlation</td>\n",
       "      <td>0.012292</td>\n",
       "    </tr>\n",
       "    <tr>\n",
       "      <th>3187</th>\n",
       "      <td>alkphos__linear_trend__attr_\"\"\"\"pvalue\"\"\"\"</td>\n",
       "      <td>0.011878</td>\n",
       "    </tr>\n",
       "    <tr>\n",
       "      <th>4251</th>\n",
       "      <td>egfr__cwt_coefficients__coeff_1__w_2__widths_(...</td>\n",
       "      <td>0.011755</td>\n",
       "    </tr>\n",
       "    <tr>\n",
       "      <th>2912</th>\n",
       "      <td>albumin__change_quantiles__f_agg_\"\"\"\"mean\"\"\"\"_...</td>\n",
       "      <td>0.011175</td>\n",
       "    </tr>\n",
       "    <tr>\n",
       "      <th>4170</th>\n",
       "      <td>egfr__time_reversal_asymmetry_statistic__lag_1</td>\n",
       "      <td>0.010195</td>\n",
       "    </tr>\n",
       "    <tr>\n",
       "      <th>1546</th>\n",
       "      <td>potassium__linear_trend__attr_\"\"\"\"stderr\"\"\"\"</td>\n",
       "      <td>0.009603</td>\n",
       "    </tr>\n",
       "    <tr>\n",
       "      <th>1053</th>\n",
       "      <td>phosphate__fft_aggregated__aggtype_\"\"\"\"centroi...</td>\n",
       "      <td>0.008651</td>\n",
       "    </tr>\n",
       "    <tr>\n",
       "      <th>4944</th>\n",
       "      <td>haematocrit__cwt_coefficients__coeff_0__w_20__...</td>\n",
       "      <td>0.008285</td>\n",
       "    </tr>\n",
       "    <tr>\n",
       "      <th>906</th>\n",
       "      <td>phosphate__cid_ce__normalize_True</td>\n",
       "      <td>0.007610</td>\n",
       "    </tr>\n",
       "    <tr>\n",
       "      <th>1998</th>\n",
       "      <td>sodium__linear_trend__attr_\"\"\"\"rvalue\"\"\"\"</td>\n",
       "      <td>0.007563</td>\n",
       "    </tr>\n",
       "    <tr>\n",
       "      <th>2782</th>\n",
       "      <td>albumin__benford_correlation</td>\n",
       "      <td>0.007269</td>\n",
       "    </tr>\n",
       "    <tr>\n",
       "      <th>4202</th>\n",
       "      <td>egfr__large_standard_deviation__r_0.25</td>\n",
       "      <td>0.007234</td>\n",
       "    </tr>\n",
       "    <tr>\n",
       "      <th>2424</th>\n",
       "      <td>ureacreat_ratio__change_quantiles__f_agg_\"\"\"\"m...</td>\n",
       "      <td>0.007211</td>\n",
       "    </tr>\n",
       "    <tr>\n",
       "      <th>5632</th>\n",
       "      <td>mch__change_quantiles__f_agg_\"\"\"\"mean\"\"\"\"__isa...</td>\n",
       "      <td>0.007172</td>\n",
       "    </tr>\n",
       "    <tr>\n",
       "      <th>612</th>\n",
       "      <td>monocytes__range_count__max_1__min_-1</td>\n",
       "      <td>0.007007</td>\n",
       "    </tr>\n",
       "    <tr>\n",
       "      <th>5030</th>\n",
       "      <td>haematocrit__energy_ratio_by_chunks__num_segme...</td>\n",
       "      <td>0.005941</td>\n",
       "    </tr>\n",
       "    <tr>\n",
       "      <th>5038</th>\n",
       "      <td>haematocrit__ratio_beyond_r_sigma__r_1</td>\n",
       "      <td>0.005906</td>\n",
       "    </tr>\n",
       "    <tr>\n",
       "      <th>5746</th>\n",
       "      <td>chloride__last_location_of_maximum</td>\n",
       "      <td>0.005885</td>\n",
       "    </tr>\n",
       "    <tr>\n",
       "      <th>2245</th>\n",
       "      <td>urea__energy_ratio_by_chunks__num_segments_10_...</td>\n",
       "      <td>0.005820</td>\n",
       "    </tr>\n",
       "    <tr>\n",
       "      <th>1256</th>\n",
       "      <td>platelet__change_quantiles__f_agg_\"\"\"\"var\"\"\"\"_...</td>\n",
       "      <td>0.005551</td>\n",
       "    </tr>\n",
       "    <tr>\n",
       "      <th>4000</th>\n",
       "      <td>creatinine__index_mass_quantile__q_0.3</td>\n",
       "      <td>0.005532</td>\n",
       "    </tr>\n",
       "    <tr>\n",
       "      <th>5137</th>\n",
       "      <td>haemoglobin__quantile__q_0.6</td>\n",
       "      <td>0.005525</td>\n",
       "    </tr>\n",
       "    <tr>\n",
       "      <th>3913</th>\n",
       "      <td>creatinine__absolute_sum_of_changes</td>\n",
       "      <td>0.005468</td>\n",
       "    </tr>\n",
       "    <tr>\n",
       "      <th>2355</th>\n",
       "      <td>ureacreat_ratio__quantile__q_0.2</td>\n",
       "      <td>0.005467</td>\n",
       "    </tr>\n",
       "    <tr>\n",
       "      <th>4760</th>\n",
       "      <td>glucose__change_quantiles__f_agg_\"\"\"\"mean\"\"\"\"_...</td>\n",
       "      <td>0.005358</td>\n",
       "    </tr>\n",
       "    <tr>\n",
       "      <th>5664</th>\n",
       "      <td>mch__change_quantiles__f_agg_\"\"\"\"mean\"\"\"\"__isa...</td>\n",
       "      <td>0.005200</td>\n",
       "    </tr>\n",
       "    <tr>\n",
       "      <th>5613</th>\n",
       "      <td>mch__cwt_coefficients__coeff_0__w_2__widths_(2...</td>\n",
       "      <td>0.005107</td>\n",
       "    </tr>\n",
       "    <tr>\n",
       "      <th>2872</th>\n",
       "      <td>albumin__change_quantiles__f_agg_\"\"\"\"mean\"\"\"\"_...</td>\n",
       "      <td>0.005017</td>\n",
       "    </tr>\n",
       "    <tr>\n",
       "      <th>5023</th>\n",
       "      <td>haematocrit__linear_trend__attr_\"\"\"\"rvalue\"\"\"\"</td>\n",
       "      <td>0.004927</td>\n",
       "    </tr>\n",
       "    <tr>\n",
       "      <th>1192</th>\n",
       "      <td>platelet__quantile__q_0.9</td>\n",
       "      <td>0.004906</td>\n",
       "    </tr>\n",
       "    <tr>\n",
       "      <th>4507</th>\n",
       "      <td>eosinophils__change_quantiles__f_agg_\"\"\"\"mean\"...</td>\n",
       "      <td>0.004869</td>\n",
       "    </tr>\n",
       "    <tr>\n",
       "      <th>2270</th>\n",
       "      <td>urea__fourier_entropy__bins_2</td>\n",
       "      <td>0.004866</td>\n",
       "    </tr>\n",
       "    <tr>\n",
       "      <th>2860</th>\n",
       "      <td>albumin__cwt_coefficients__coeff_0__w_5__width...</td>\n",
       "      <td>0.004705</td>\n",
       "    </tr>\n",
       "    <tr>\n",
       "      <th>1719</th>\n",
       "      <td>rbc__change_quantiles__f_agg_\"\"\"\"mean\"\"\"\"__isa...</td>\n",
       "      <td>0.004602</td>\n",
       "    </tr>\n",
       "    <tr>\n",
       "      <th>5971</th>\n",
       "      <td>dkd_dkd</td>\n",
       "      <td>0.004404</td>\n",
       "    </tr>\n",
       "    <tr>\n",
       "      <th>5522</th>\n",
       "      <td>mch__absolute_sum_of_changes</td>\n",
       "      <td>0.004350</td>\n",
       "    </tr>\n",
       "    <tr>\n",
       "      <th>1688</th>\n",
       "      <td>rbc__cwt_coefficients__coeff_0__w_10__widths_(...</td>\n",
       "      <td>0.004346</td>\n",
       "    </tr>\n",
       "    <tr>\n",
       "      <th>2908</th>\n",
       "      <td>albumin__change_quantiles__f_agg_\"\"\"\"mean\"\"\"\"_...</td>\n",
       "      <td>0.004330</td>\n",
       "    </tr>\n",
       "    <tr>\n",
       "      <th>1555</th>\n",
       "      <td>potassium__energy_ratio_by_chunks__num_segment...</td>\n",
       "      <td>0.004305</td>\n",
       "    </tr>\n",
       "    <tr>\n",
       "      <th>4934</th>\n",
       "      <td>haematocrit__index_mass_quantile__q_0.2</td>\n",
       "      <td>0.004290</td>\n",
       "    </tr>\n",
       "    <tr>\n",
       "      <th>2887</th>\n",
       "      <td>albumin__change_quantiles__f_agg_\"\"\"\"var\"\"\"\"__...</td>\n",
       "      <td>0.004232</td>\n",
       "    </tr>\n",
       "    <tr>\n",
       "      <th>1735</th>\n",
       "      <td>rbc__change_quantiles__f_agg_\"\"\"\"mean\"\"\"\"__isa...</td>\n",
       "      <td>0.004191</td>\n",
       "    </tr>\n",
       "    <tr>\n",
       "      <th>4916</th>\n",
       "      <td>haematocrit__quantile__q_0.3</td>\n",
       "      <td>0.004079</td>\n",
       "    </tr>\n",
       "    <tr>\n",
       "      <th>1013</th>\n",
       "      <td>phosphate__change_quantiles__f_agg_\"\"\"\"mean\"\"\"...</td>\n",
       "      <td>0.004018</td>\n",
       "    </tr>\n",
       "    <tr>\n",
       "      <th>1681</th>\n",
       "      <td>rbc__index_mass_quantile__q_0.4</td>\n",
       "      <td>0.003977</td>\n",
       "    </tr>\n",
       "    <tr>\n",
       "      <th>5248</th>\n",
       "      <td>haemoglobin__approximate_entropy__m_2__r_0.3</td>\n",
       "      <td>0.003866</td>\n",
       "    </tr>\n",
       "    <tr>\n",
       "      <th>3338</th>\n",
       "      <td>basophils__change_quantiles__f_agg_\"\"\"\"mean\"\"\"...</td>\n",
       "      <td>0.003861</td>\n",
       "    </tr>\n",
       "    <tr>\n",
       "      <th>1801</th>\n",
       "      <td>sodium__has_duplicate_min</td>\n",
       "      <td>0.003836</td>\n",
       "    </tr>\n",
       "    <tr>\n",
       "      <th>1137</th>\n",
       "      <td>platelet__benford_correlation</td>\n",
       "      <td>0.003654</td>\n",
       "    </tr>\n",
       "    <tr>\n",
       "      <th>5416</th>\n",
       "      <td>lymphocytes__change_quantiles__f_agg_\"\"\"\"var\"\"...</td>\n",
       "      <td>0.003643</td>\n",
       "    </tr>\n",
       "    <tr>\n",
       "      <th>1707</th>\n",
       "      <td>rbc__change_quantiles__f_agg_\"\"\"\"mean\"\"\"\"__isa...</td>\n",
       "      <td>0.003626</td>\n",
       "    </tr>\n",
       "    <tr>\n",
       "      <th>4717</th>\n",
       "      <td>glucose__change_quantiles__f_agg_\"\"\"\"var\"\"\"\"__...</td>\n",
       "      <td>0.003608</td>\n",
       "    </tr>\n",
       "    <tr>\n",
       "      <th>4691</th>\n",
       "      <td>glucose__number_cwt_peaks__n_1</td>\n",
       "      <td>0.003568</td>\n",
       "    </tr>\n",
       "    <tr>\n",
       "      <th>533</th>\n",
       "      <td>monocytes__index_mass_quantile__q_0.4</td>\n",
       "      <td>0.003553</td>\n",
       "    </tr>\n",
       "    <tr>\n",
       "      <th>4181</th>\n",
       "      <td>egfr__symmetry_looking__r_0.15000000000000002</td>\n",
       "      <td>0.003475</td>\n",
       "    </tr>\n",
       "    <tr>\n",
       "      <th>1585</th>\n",
       "      <td>rbc__has_duplicate</td>\n",
       "      <td>0.003419</td>\n",
       "    </tr>\n",
       "    <tr>\n",
       "      <th>3978</th>\n",
       "      <td>creatinine__quantile__q_0.2</td>\n",
       "      <td>0.003394</td>\n",
       "    </tr>\n",
       "    <tr>\n",
       "      <th>5969</th>\n",
       "      <td>htn_htn</td>\n",
       "      <td>0.003378</td>\n",
       "    </tr>\n",
       "    <tr>\n",
       "      <th>3102</th>\n",
       "      <td>alkphos__cwt_coefficients__coeff_1__w_5__width...</td>\n",
       "      <td>0.003271</td>\n",
       "    </tr>\n",
       "    <tr>\n",
       "      <th>4272</th>\n",
       "      <td>egfr__change_quantiles__f_agg_\"\"\"\"mean\"\"\"\"__is...</td>\n",
       "      <td>0.003257</td>\n",
       "    </tr>\n",
       "    <tr>\n",
       "      <th>657</th>\n",
       "      <td>neutrophils__median</td>\n",
       "      <td>0.003194</td>\n",
       "    </tr>\n",
       "    <tr>\n",
       "      <th>2617</th>\n",
       "      <td>wcc__index_mass_quantile__q_0.6</td>\n",
       "      <td>0.003131</td>\n",
       "    </tr>\n",
       "    <tr>\n",
       "      <th>512</th>\n",
       "      <td>monocytes__quantile__q_0.2</td>\n",
       "      <td>0.003111</td>\n",
       "    </tr>\n",
       "    <tr>\n",
       "      <th>469</th>\n",
       "      <td>monocytes__c3__lag_3</td>\n",
       "      <td>0.003103</td>\n",
       "    </tr>\n",
       "    <tr>\n",
       "      <th>4253</th>\n",
       "      <td>egfr__cwt_coefficients__coeff_1__w_10__widths_...</td>\n",
       "      <td>0.003004</td>\n",
       "    </tr>\n",
       "    <tr>\n",
       "      <th>1828</th>\n",
       "      <td>sodium__maximum</td>\n",
       "      <td>0.002932</td>\n",
       "    </tr>\n",
       "    <tr>\n",
       "      <th>2880</th>\n",
       "      <td>albumin__change_quantiles__f_agg_\"\"\"\"mean\"\"\"\"_...</td>\n",
       "      <td>0.002909</td>\n",
       "    </tr>\n",
       "    <tr>\n",
       "      <th>5738</th>\n",
       "      <td>chloride__variation_coefficient</td>\n",
       "      <td>0.002865</td>\n",
       "    </tr>\n",
       "    <tr>\n",
       "      <th>1703</th>\n",
       "      <td>rbc__change_quantiles__f_agg_\"\"\"\"mean\"\"\"\"__isa...</td>\n",
       "      <td>0.002785</td>\n",
       "    </tr>\n",
       "    <tr>\n",
       "      <th>3362</th>\n",
       "      <td>basophils__change_quantiles__f_agg_\"\"\"\"mean\"\"\"...</td>\n",
       "      <td>0.002740</td>\n",
       "    </tr>\n",
       "    <tr>\n",
       "      <th>5223</th>\n",
       "      <td>haemoglobin__change_quantiles__f_agg_\"\"\"\"mean\"...</td>\n",
       "      <td>0.002703</td>\n",
       "    </tr>\n",
       "    <tr>\n",
       "      <th>3571</th>\n",
       "      <td>calcium__change_quantiles__f_agg_\"\"\"\"mean\"\"\"\"_...</td>\n",
       "      <td>0.002689</td>\n",
       "    </tr>\n",
       "    <tr>\n",
       "      <th>678</th>\n",
       "      <td>neutrophils__maximum</td>\n",
       "      <td>0.002644</td>\n",
       "    </tr>\n",
       "    <tr>\n",
       "      <th>4204</th>\n",
       "      <td>egfr__large_standard_deviation__r_0.3500000000...</td>\n",
       "      <td>0.002640</td>\n",
       "    </tr>\n",
       "    <tr>\n",
       "      <th>3638</th>\n",
       "      <td>calcium__ratio_beyond_r_sigma__r_0.5</td>\n",
       "      <td>0.002638</td>\n",
       "    </tr>\n",
       "    <tr>\n",
       "      <th>2288</th>\n",
       "      <td>ureacreat_ratio__variance</td>\n",
       "      <td>0.002626</td>\n",
       "    </tr>\n",
       "    <tr>\n",
       "      <th>785</th>\n",
       "      <td>neutrophils__change_quantiles__f_agg_\"\"\"\"var\"\"...</td>\n",
       "      <td>0.002616</td>\n",
       "    </tr>\n",
       "    <tr>\n",
       "      <th>3437</th>\n",
       "      <td>calcium__absolute_sum_of_changes</td>\n",
       "      <td>0.002516</td>\n",
       "    </tr>\n",
       "    <tr>\n",
       "      <th>734</th>\n",
       "      <td>neutrophils__quantile__q_0.8</td>\n",
       "      <td>0.002504</td>\n",
       "    </tr>\n",
       "    <tr>\n",
       "      <th>550</th>\n",
       "      <td>monocytes__change_quantiles__f_agg_\"\"\"\"var\"\"\"\"...</td>\n",
       "      <td>0.002496</td>\n",
       "    </tr>\n",
       "    <tr>\n",
       "      <th>334</th>\n",
       "      <td>mcv__change_quantiles__f_agg_\"\"\"\"mean\"\"\"\"__isa...</td>\n",
       "      <td>0.002451</td>\n",
       "    </tr>\n",
       "    <tr>\n",
       "      <th>4992</th>\n",
       "      <td>haematocrit__change_quantiles__f_agg_\"\"\"\"mean\"...</td>\n",
       "      <td>0.002422</td>\n",
       "    </tr>\n",
       "    <tr>\n",
       "      <th>5062</th>\n",
       "      <td>haemoglobin__median</td>\n",
       "      <td>0.002409</td>\n",
       "    </tr>\n",
       "    <tr>\n",
       "      <th>3526</th>\n",
       "      <td>calcium__index_mass_quantile__q_0.6</td>\n",
       "      <td>0.002403</td>\n",
       "    </tr>\n",
       "    <tr>\n",
       "      <th>1689</th>\n",
       "      <td>rbc__cwt_coefficients__coeff_0__w_20__widths_(...</td>\n",
       "      <td>0.002389</td>\n",
       "    </tr>\n",
       "    <tr>\n",
       "      <th>4173</th>\n",
       "      <td>egfr__c3__lag_1</td>\n",
       "      <td>0.002386</td>\n",
       "    </tr>\n",
       "    <tr>\n",
       "      <th>4376</th>\n",
       "      <td>egfr__fourier_entropy__bins_2</td>\n",
       "      <td>0.002310</td>\n",
       "    </tr>\n",
       "    <tr>\n",
       "      <th>5436</th>\n",
       "      <td>lymphocytes__change_quantiles__f_agg_\"\"\"\"var\"\"...</td>\n",
       "      <td>0.002296</td>\n",
       "    </tr>\n",
       "    <tr>\n",
       "      <th>5863</th>\n",
       "      <td>chloride__change_quantiles__f_agg_\"\"\"\"mean\"\"\"\"...</td>\n",
       "      <td>0.002253</td>\n",
       "    </tr>\n",
       "    <tr>\n",
       "      <th>5820</th>\n",
       "      <td>chloride__number_peaks__n_1</td>\n",
       "      <td>0.002193</td>\n",
       "    </tr>\n",
       "    <tr>\n",
       "      <th>2831</th>\n",
       "      <td>albumin__quantile__q_0.2</td>\n",
       "      <td>0.002157</td>\n",
       "    </tr>\n",
       "    <tr>\n",
       "      <th>102</th>\n",
       "      <td>mchc__index_mass_quantile__q_0.8</td>\n",
       "      <td>0.002145</td>\n",
       "    </tr>\n",
       "    <tr>\n",
       "      <th>1068</th>\n",
       "      <td>phosphate__linear_trend__attr_\"\"\"\"intercept\"\"\"\"</td>\n",
       "      <td>0.002139</td>\n",
       "    </tr>\n",
       "  </tbody>\n",
       "</table>\n",
       "</div>"
      ]
     },
     "metadata": {},
     "execution_count": 41
    }
   ],
   "metadata": {}
  },
  {
   "cell_type": "code",
   "execution_count": 42,
   "source": [
    "xgb_class = xgb.XGBClassifier(n_jobs=-1, random_state = random_state, n_estimators=1000, use_label_encoder=False, eval_metric='logloss', scale_pos_weight=imbalance_ratio)\n",
    "sampler = SMOTETomek(random_state=random_state)\n",
    "steps = [('resampling', sampler), ('model', xgb_class)]\n",
    "pipeline = Pipeline(steps=steps)"
   ],
   "outputs": [],
   "metadata": {}
  },
  {
   "cell_type": "code",
   "execution_count": 43,
   "source": [
    "pipeline.fit(X_train_processed, y_train)"
   ],
   "outputs": [
    {
     "output_type": "execute_result",
     "data": {
      "text/plain": [
       "Pipeline(steps=[('resampling', SMOTETomek(random_state=7)),\n",
       "                ('model',\n",
       "                 XGBClassifier(base_score=0.5, booster='gbtree',\n",
       "                               colsample_bylevel=1, colsample_bynode=1,\n",
       "                               colsample_bytree=1, eval_metric='logloss',\n",
       "                               gamma=0, gpu_id=-1, importance_type='gain',\n",
       "                               interaction_constraints='',\n",
       "                               learning_rate=0.300000012, max_delta_step=0,\n",
       "                               max_depth=6, min_child_weight=1, missing=nan,\n",
       "                               monotone_constraints='()', n_estimators=1000,\n",
       "                               n_jobs=-1, num_parallel_tree=1, random_state=7,\n",
       "                               reg_alpha=0, reg_lambda=1,\n",
       "                               scale_pos_weight=7.97093023255814, subsample=1,\n",
       "                               tree_method='exact', use_label_encoder=False,\n",
       "                               validate_parameters=1, verbosity=None))])"
      ]
     },
     "metadata": {},
     "execution_count": 43
    }
   ],
   "metadata": {}
  },
  {
   "cell_type": "code",
   "execution_count": 44,
   "source": [
    "y_pred = pipeline.predict(X_test_processed)"
   ],
   "outputs": [],
   "metadata": {}
  },
  {
   "cell_type": "code",
   "execution_count": 45,
   "source": [
    "confusion_matrix(y_true=y_test, y_pred=y_pred)"
   ],
   "outputs": [
    {
     "output_type": "execute_result",
     "data": {
      "text/plain": [
       "array([[1115,   61],\n",
       "       [  82,   65]])"
      ]
     },
     "metadata": {},
     "execution_count": 45
    }
   ],
   "metadata": {}
  },
  {
   "cell_type": "code",
   "execution_count": 46,
   "source": [
    "roc_auc_score(y_test, y_pred)"
   ],
   "outputs": [
    {
     "output_type": "execute_result",
     "data": {
      "text/plain": [
       "0.6951530612244898"
      ]
     },
     "metadata": {},
     "execution_count": 46
    }
   ],
   "metadata": {}
  },
  {
   "cell_type": "code",
   "execution_count": 47,
   "source": [
    "print(classification_report(y_true=y_test, y_pred=y_pred))"
   ],
   "outputs": [
    {
     "output_type": "stream",
     "name": "stdout",
     "text": [
      "              precision    recall  f1-score   support\n",
      "\n",
      "           0       0.93      0.95      0.94      1176\n",
      "           1       0.52      0.44      0.48       147\n",
      "\n",
      "    accuracy                           0.89      1323\n",
      "   macro avg       0.72      0.70      0.71      1323\n",
      "weighted avg       0.89      0.89      0.89      1323\n",
      "\n"
     ]
    }
   ],
   "metadata": {}
  }
 ],
 "metadata": {
  "kernelspec": {
   "name": "python3",
   "display_name": "Python 3.9.5 64-bit ('ml_dl': conda)"
  },
  "language_info": {
   "codemirror_mode": {
    "name": "ipython",
    "version": 3
   },
   "file_extension": ".py",
   "mimetype": "text/x-python",
   "name": "python",
   "nbconvert_exporter": "python",
   "pygments_lexer": "ipython3",
   "version": "3.9.5"
  },
  "interpreter": {
   "hash": "252eb11dec6c7c75d43c93f623bff35f4a463f74afda1ad8986a53442394c969"
  }
 },
 "nbformat": 4,
 "nbformat_minor": 5
}