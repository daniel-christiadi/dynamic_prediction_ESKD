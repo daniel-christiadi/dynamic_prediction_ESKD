{
 "cells": [
  {
   "cell_type": "code",
   "execution_count": 1,
   "source": [
    "import numpy as np\n",
    "import pandas as pd"
   ],
   "outputs": [],
   "metadata": {}
  },
  {
   "cell_type": "code",
   "execution_count": 2,
   "source": [
    "from tsfresh import extract_features\n",
    "from tsfresh.feature_extraction import ComprehensiveFCParameters, MinimalFCParameters\n",
    "com_setting = ComprehensiveFCParameters()\n",
    "min_setting = MinimalFCParameters()"
   ],
   "outputs": [],
   "metadata": {}
  },
  {
   "cell_type": "code",
   "execution_count": 3,
   "source": [
    "def feature_extractor_comprehensive(file):\n",
    "    df = pd.read_csv(file)\n",
    "    X = df.drop(['htn', 'dkd', 'gn', 'gender', 'value_egfr_init', 'egfr.y', 'eskd.y', 'age.init', 'death.y', 'cat0.5', 'cat1', 'cat1.5', 'cat2', 'cat2.5', 'cat3', 'cat3.5', 'cat4', 'cat4.5', 'cat5', 'cat5.5', 'cat6', 'cat6.5', 'cat7', 'cat7.5', 'cat8'], axis=1).copy()\n",
    "    extracted_features = extract_features(X, column_id='id', column_sort='relyear', column_kind='test', column_value='value',\n",
    "                                          default_fc_parameters=com_setting, n_jobs=14)\n",
    "    return extracted_features"
   ],
   "outputs": [],
   "metadata": {}
  },
  {
   "cell_type": "code",
   "execution_count": 4,
   "source": [
    "def feature_extractor_minimal(file):\n",
    "    df = pd.read_csv(file)\n",
    "    X = df.drop(['htn', 'dkd', 'gn', 'gender', 'value_egfr_init', 'egfr.y', 'eskd.y', 'age.init', 'death.y', 'cat0.5', 'cat1', 'cat1.5', 'cat2', 'cat2.5', 'cat3', 'cat3.5', 'cat4', 'cat4.5', 'cat5', 'cat5.5', 'cat6', 'cat6.5', 'cat7', 'cat7.5', 'cat8'], axis=1).copy()\n",
    "    extracted_features = extract_features(X, column_id='id', column_sort='relyear', column_kind='test', column_value='value',\n",
    "                                          default_fc_parameters=min_setting, n_jobs=14)\n",
    "    return extracted_features"
   ],
   "outputs": [],
   "metadata": {}
  },
  {
   "cell_type": "code",
   "execution_count": 5,
   "source": [
    "extracted_features = feature_extractor_comprehensive(file='../data/egfr_meta_melted_1_4.gz')"
   ],
   "outputs": [
    {
     "output_type": "stream",
     "name": "stderr",
     "text": [
      "Feature Extraction: 100%|██████████| 70/70 [00:30<00:00,  2.27it/s]\n"
     ]
    }
   ],
   "metadata": {}
  },
  {
   "cell_type": "code",
   "execution_count": 6,
   "source": [
    "extracted_features.shape"
   ],
   "outputs": [
    {
     "output_type": "execute_result",
     "data": {
      "text/plain": [
       "(5258, 787)"
      ]
     },
     "metadata": {},
     "execution_count": 6
    }
   ],
   "metadata": {}
  },
  {
   "cell_type": "code",
   "execution_count": 9,
   "source": [
    "extracted_features.head()"
   ],
   "outputs": [
    {
     "output_type": "execute_result",
     "data": {
      "text/plain": [
       "      egfr__variance_larger_than_standard_deviation  egfr__has_duplicate_max  \\\n",
       "3916                                            1.0                      0.0   \n",
       "3918                                            0.0                      0.0   \n",
       "3924                                            1.0                      0.0   \n",
       "3930                                            1.0                      0.0   \n",
       "3936                                            1.0                      0.0   \n",
       "\n",
       "      egfr__has_duplicate_min  egfr__has_duplicate  egfr__sum_values  \\\n",
       "3916                      0.0                  0.0            113.73   \n",
       "3918                      0.0                  0.0             52.81   \n",
       "3924                      0.0                  0.0            151.32   \n",
       "3930                      0.0                  0.0            256.00   \n",
       "3936                      0.0                  0.0             98.23   \n",
       "\n",
       "      egfr__abs_energy  egfr__mean_abs_change  egfr__mean_change  \\\n",
       "3916         6523.7549                 10.630            -10.630   \n",
       "3918         2788.8961                    NaN                NaN   \n",
       "3924        11451.7994                  2.420             -2.420   \n",
       "3930        11206.0000                  7.000              0.600   \n",
       "3936         3231.8929                  4.765              0.435   \n",
       "\n",
       "      egfr__mean_second_derivative_central  egfr__median  ...  \\\n",
       "3916                                   NaN        56.865  ...   \n",
       "3918                                   NaN        52.810  ...   \n",
       "3924                                   NaN        75.660  ...   \n",
       "3930                                -2.125        43.000  ...   \n",
       "3936                                -4.765        31.590  ...   \n",
       "\n",
       "      egfr__permutation_entropy__dimension_5__tau_1  \\\n",
       "3916                                            NaN   \n",
       "3918                                            NaN   \n",
       "3924                                            NaN   \n",
       "3930                                       0.693147   \n",
       "3936                                            NaN   \n",
       "\n",
       "      egfr__permutation_entropy__dimension_6__tau_1  \\\n",
       "3916                                            NaN   \n",
       "3918                                            NaN   \n",
       "3924                                            NaN   \n",
       "3930                                           -0.0   \n",
       "3936                                            NaN   \n",
       "\n",
       "      egfr__permutation_entropy__dimension_7__tau_1  \\\n",
       "3916                                            NaN   \n",
       "3918                                            NaN   \n",
       "3924                                            NaN   \n",
       "3930                                            NaN   \n",
       "3936                                            NaN   \n",
       "\n",
       "      egfr__query_similarity_count__query_None__threshold_0.0  \\\n",
       "3916                                                NaN         \n",
       "3918                                                NaN         \n",
       "3924                                                NaN         \n",
       "3930                                                NaN         \n",
       "3936                                                NaN         \n",
       "\n",
       "      egfr__matrix_profile__feature_\"min\"__threshold_0.98  \\\n",
       "3916                                                NaN     \n",
       "3918                                                NaN     \n",
       "3924                                                NaN     \n",
       "3930                                                NaN     \n",
       "3936                                                NaN     \n",
       "\n",
       "      egfr__matrix_profile__feature_\"max\"__threshold_0.98  \\\n",
       "3916                                                NaN     \n",
       "3918                                                NaN     \n",
       "3924                                                NaN     \n",
       "3930                                                NaN     \n",
       "3936                                                NaN     \n",
       "\n",
       "      egfr__matrix_profile__feature_\"mean\"__threshold_0.98  \\\n",
       "3916                                                NaN      \n",
       "3918                                                NaN      \n",
       "3924                                                NaN      \n",
       "3930                                                NaN      \n",
       "3936                                                NaN      \n",
       "\n",
       "      egfr__matrix_profile__feature_\"median\"__threshold_0.98  \\\n",
       "3916                                                NaN        \n",
       "3918                                                NaN        \n",
       "3924                                                NaN        \n",
       "3930                                                NaN        \n",
       "3936                                                NaN        \n",
       "\n",
       "      egfr__matrix_profile__feature_\"25\"__threshold_0.98  \\\n",
       "3916                                                NaN    \n",
       "3918                                                NaN    \n",
       "3924                                                NaN    \n",
       "3930                                                NaN    \n",
       "3936                                                NaN    \n",
       "\n",
       "      egfr__matrix_profile__feature_\"75\"__threshold_0.98  \n",
       "3916                                                NaN   \n",
       "3918                                                NaN   \n",
       "3924                                                NaN   \n",
       "3930                                                NaN   \n",
       "3936                                                NaN   \n",
       "\n",
       "[5 rows x 787 columns]"
      ],
      "text/html": [
       "<div>\n",
       "<style scoped>\n",
       "    .dataframe tbody tr th:only-of-type {\n",
       "        vertical-align: middle;\n",
       "    }\n",
       "\n",
       "    .dataframe tbody tr th {\n",
       "        vertical-align: top;\n",
       "    }\n",
       "\n",
       "    .dataframe thead th {\n",
       "        text-align: right;\n",
       "    }\n",
       "</style>\n",
       "<table border=\"1\" class=\"dataframe\">\n",
       "  <thead>\n",
       "    <tr style=\"text-align: right;\">\n",
       "      <th></th>\n",
       "      <th>egfr__variance_larger_than_standard_deviation</th>\n",
       "      <th>egfr__has_duplicate_max</th>\n",
       "      <th>egfr__has_duplicate_min</th>\n",
       "      <th>egfr__has_duplicate</th>\n",
       "      <th>egfr__sum_values</th>\n",
       "      <th>egfr__abs_energy</th>\n",
       "      <th>egfr__mean_abs_change</th>\n",
       "      <th>egfr__mean_change</th>\n",
       "      <th>egfr__mean_second_derivative_central</th>\n",
       "      <th>egfr__median</th>\n",
       "      <th>...</th>\n",
       "      <th>egfr__permutation_entropy__dimension_5__tau_1</th>\n",
       "      <th>egfr__permutation_entropy__dimension_6__tau_1</th>\n",
       "      <th>egfr__permutation_entropy__dimension_7__tau_1</th>\n",
       "      <th>egfr__query_similarity_count__query_None__threshold_0.0</th>\n",
       "      <th>egfr__matrix_profile__feature_\"min\"__threshold_0.98</th>\n",
       "      <th>egfr__matrix_profile__feature_\"max\"__threshold_0.98</th>\n",
       "      <th>egfr__matrix_profile__feature_\"mean\"__threshold_0.98</th>\n",
       "      <th>egfr__matrix_profile__feature_\"median\"__threshold_0.98</th>\n",
       "      <th>egfr__matrix_profile__feature_\"25\"__threshold_0.98</th>\n",
       "      <th>egfr__matrix_profile__feature_\"75\"__threshold_0.98</th>\n",
       "    </tr>\n",
       "  </thead>\n",
       "  <tbody>\n",
       "    <tr>\n",
       "      <th>3916</th>\n",
       "      <td>1.0</td>\n",
       "      <td>0.0</td>\n",
       "      <td>0.0</td>\n",
       "      <td>0.0</td>\n",
       "      <td>113.73</td>\n",
       "      <td>6523.7549</td>\n",
       "      <td>10.630</td>\n",
       "      <td>-10.630</td>\n",
       "      <td>NaN</td>\n",
       "      <td>56.865</td>\n",
       "      <td>...</td>\n",
       "      <td>NaN</td>\n",
       "      <td>NaN</td>\n",
       "      <td>NaN</td>\n",
       "      <td>NaN</td>\n",
       "      <td>NaN</td>\n",
       "      <td>NaN</td>\n",
       "      <td>NaN</td>\n",
       "      <td>NaN</td>\n",
       "      <td>NaN</td>\n",
       "      <td>NaN</td>\n",
       "    </tr>\n",
       "    <tr>\n",
       "      <th>3918</th>\n",
       "      <td>0.0</td>\n",
       "      <td>0.0</td>\n",
       "      <td>0.0</td>\n",
       "      <td>0.0</td>\n",
       "      <td>52.81</td>\n",
       "      <td>2788.8961</td>\n",
       "      <td>NaN</td>\n",
       "      <td>NaN</td>\n",
       "      <td>NaN</td>\n",
       "      <td>52.810</td>\n",
       "      <td>...</td>\n",
       "      <td>NaN</td>\n",
       "      <td>NaN</td>\n",
       "      <td>NaN</td>\n",
       "      <td>NaN</td>\n",
       "      <td>NaN</td>\n",
       "      <td>NaN</td>\n",
       "      <td>NaN</td>\n",
       "      <td>NaN</td>\n",
       "      <td>NaN</td>\n",
       "      <td>NaN</td>\n",
       "    </tr>\n",
       "    <tr>\n",
       "      <th>3924</th>\n",
       "      <td>1.0</td>\n",
       "      <td>0.0</td>\n",
       "      <td>0.0</td>\n",
       "      <td>0.0</td>\n",
       "      <td>151.32</td>\n",
       "      <td>11451.7994</td>\n",
       "      <td>2.420</td>\n",
       "      <td>-2.420</td>\n",
       "      <td>NaN</td>\n",
       "      <td>75.660</td>\n",
       "      <td>...</td>\n",
       "      <td>NaN</td>\n",
       "      <td>NaN</td>\n",
       "      <td>NaN</td>\n",
       "      <td>NaN</td>\n",
       "      <td>NaN</td>\n",
       "      <td>NaN</td>\n",
       "      <td>NaN</td>\n",
       "      <td>NaN</td>\n",
       "      <td>NaN</td>\n",
       "      <td>NaN</td>\n",
       "    </tr>\n",
       "    <tr>\n",
       "      <th>3930</th>\n",
       "      <td>1.0</td>\n",
       "      <td>0.0</td>\n",
       "      <td>0.0</td>\n",
       "      <td>0.0</td>\n",
       "      <td>256.00</td>\n",
       "      <td>11206.0000</td>\n",
       "      <td>7.000</td>\n",
       "      <td>0.600</td>\n",
       "      <td>-2.125</td>\n",
       "      <td>43.000</td>\n",
       "      <td>...</td>\n",
       "      <td>0.693147</td>\n",
       "      <td>-0.0</td>\n",
       "      <td>NaN</td>\n",
       "      <td>NaN</td>\n",
       "      <td>NaN</td>\n",
       "      <td>NaN</td>\n",
       "      <td>NaN</td>\n",
       "      <td>NaN</td>\n",
       "      <td>NaN</td>\n",
       "      <td>NaN</td>\n",
       "    </tr>\n",
       "    <tr>\n",
       "      <th>3936</th>\n",
       "      <td>1.0</td>\n",
       "      <td>0.0</td>\n",
       "      <td>0.0</td>\n",
       "      <td>0.0</td>\n",
       "      <td>98.23</td>\n",
       "      <td>3231.8929</td>\n",
       "      <td>4.765</td>\n",
       "      <td>0.435</td>\n",
       "      <td>-4.765</td>\n",
       "      <td>31.590</td>\n",
       "      <td>...</td>\n",
       "      <td>NaN</td>\n",
       "      <td>NaN</td>\n",
       "      <td>NaN</td>\n",
       "      <td>NaN</td>\n",
       "      <td>NaN</td>\n",
       "      <td>NaN</td>\n",
       "      <td>NaN</td>\n",
       "      <td>NaN</td>\n",
       "      <td>NaN</td>\n",
       "      <td>NaN</td>\n",
       "    </tr>\n",
       "  </tbody>\n",
       "</table>\n",
       "<p>5 rows × 787 columns</p>\n",
       "</div>"
      ]
     },
     "metadata": {},
     "execution_count": 9
    }
   ],
   "metadata": {}
  },
  {
   "cell_type": "code",
   "execution_count": 7,
   "source": [
    "extracted_features_other = feature_extractor_minimal(file='../data/other_meta_melted_1_4.gz')"
   ],
   "outputs": [
    {
     "output_type": "stream",
     "name": "stderr",
     "text": [
      "Feature Extraction: 100%|██████████| 70/70 [02:25<00:00,  2.07s/it]\n"
     ]
    }
   ],
   "metadata": {}
  },
  {
   "cell_type": "code",
   "execution_count": 8,
   "source": [
    "extracted_features_other.shape"
   ],
   "outputs": [
    {
     "output_type": "execute_result",
     "data": {
      "text/plain": [
       "(5479, 549)"
      ]
     },
     "metadata": {},
     "execution_count": 8
    }
   ],
   "metadata": {}
  },
  {
   "cell_type": "code",
   "execution_count": 10,
   "source": [
    "ready_df = pd.concat(objs=[extracted_features, extracted_features_other], axis=1)\n",
    "ready_df.shape"
   ],
   "outputs": [
    {
     "output_type": "execute_result",
     "data": {
      "text/plain": [
       "(5603, 1336)"
      ]
     },
     "metadata": {},
     "execution_count": 10
    }
   ],
   "metadata": {}
  },
  {
   "cell_type": "code",
   "execution_count": 11,
   "source": [
    "ready_df.to_csv('../data/egfrcom_elsemin_meta_melted_1_4.gz', index=True, compression='gzip')"
   ],
   "outputs": [],
   "metadata": {}
  }
 ],
 "metadata": {
  "kernelspec": {
   "name": "python3",
   "display_name": "Python 3.9.5 64-bit ('ml_dl': conda)"
  },
  "language_info": {
   "codemirror_mode": {
    "name": "ipython",
    "version": 3
   },
   "file_extension": ".py",
   "mimetype": "text/x-python",
   "name": "python",
   "nbconvert_exporter": "python",
   "pygments_lexer": "ipython3",
   "version": "3.9.5"
  },
  "interpreter": {
   "hash": "252eb11dec6c7c75d43c93f623bff35f4a463f74afda1ad8986a53442394c969"
  }
 },
 "nbformat": 4,
 "nbformat_minor": 5
}