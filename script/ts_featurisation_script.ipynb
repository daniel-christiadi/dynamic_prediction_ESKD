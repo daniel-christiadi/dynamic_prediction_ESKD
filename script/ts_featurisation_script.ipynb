{
 "cells": [
  {
   "cell_type": "code",
   "execution_count": 1,
   "id": "b63094d1",
   "metadata": {},
   "outputs": [],
   "source": [
    "import numpy as np\n",
    "import pandas as pd\n",
    "%config Completer.use_jedi = False"
   ]
  },
  {
   "cell_type": "code",
   "execution_count": 2,
   "id": "18bce266",
   "metadata": {},
   "outputs": [],
   "source": [
    "from tsfresh import extract_features\n",
    "from tsfresh import select_features\n",
    "from tsfresh.feature_extraction import ComprehensiveFCParameters\n",
    "com_setting=ComprehensiveFCParameters()"
   ]
  },
  {
   "cell_type": "raw",
   "id": "bcdde8d5",
   "metadata": {},
   "source": [
    "from sklearn.preprocessing import LabelEncoder\n",
    "le = LabelEncoder()"
   ]
  },
  {
   "cell_type": "code",
   "execution_count": 4,
   "id": "3fd5ae73",
   "metadata": {},
   "outputs": [],
   "source": [
    "def feature_extractor(file):\n",
    "    df = pd.read_csv(file)\n",
    "    X = df.drop(['htn', 'dkd', 'gn', 'gender', 'value_egfr_init', 'egfr.y', 'eskd.y', 'age.init', 'death.y', 'cat0.5', 'cat1', 'cat1.5', 'cat2', 'cat2.5', 'cat3', 'cat3.5', 'cat4', 'cat4.5', 'cat5', 'cat5.5', 'cat6', 'cat6.5', 'cat7', 'cat7.5', 'cat8'], axis=1).copy()\n",
    "    extracted_features = extract_features(X, column_id='id', column_sort='relyear', column_kind='test', column_value='value',\n",
    "                                          default_fc_parameters=com_setting, n_jobs=8)\n",
    "    return extracted_features"
   ]
  },
  {
   "cell_type": "raw",
   "id": "807e995a",
   "metadata": {},
   "source": [
    "extracted_features, y = feature_extractor(file='meta_melted_2_2.gz',target='cat7')"
   ]
  },
  {
   "cell_type": "code",
   "execution_count": null,
   "id": "88411746",
   "metadata": {},
   "outputs": [
    {
     "name": "stderr",
     "output_type": "stream",
     "text": [
      "\r",
      "Feature Extraction:   0%|                                                                       | 0/30 [00:00<?, ?it/s]"
     ]
    }
   ],
   "source": [
    "extracted_features = feature_extractor(file='meta_melted_1_2.gz')"
   ]
  },
  {
   "cell_type": "raw",
   "id": "98ed31c6",
   "metadata": {},
   "source": [
    "impute_dataframe_zero(extracted_features)\n",
    "meta_melted_2_6 = select_features(X=extracted_features, y=y, fdr_level=0.05)"
   ]
  },
  {
   "cell_type": "raw",
   "id": "cf80dbb8",
   "metadata": {},
   "source": [
    "meta_melted_2_6.to_csv('selected_meta_melted_2_6.gz', compression='gzip', index=True)"
   ]
  },
  {
   "cell_type": "code",
   "execution_count": null,
   "id": "b9da7f23",
   "metadata": {},
   "outputs": [],
   "source": [
    "extracted_features.to_csv('pure_feat_meta_melted_1_2.gz', compression='gzip', index=True)"
   ]
  },
  {
   "cell_type": "code",
   "execution_count": null,
   "id": "e57890b1",
   "metadata": {},
   "outputs": [],
   "source": [
    "extracted_features = feature_extractor(file='meta_melted_2_2.gz')"
   ]
  },
  {
   "cell_type": "code",
   "execution_count": null,
   "id": "61752662",
   "metadata": {},
   "outputs": [],
   "source": [
    "extracted_features.to_csv('pure_feat_meta_melted_2_2.gz', compression='gzip', index=True)"
   ]
  },
  {
   "cell_type": "code",
   "execution_count": null,
   "metadata": {},
   "outputs": [],
   "source": [
    "extracted_features = feature_extractor(file='meta_melted_3_2.gz')"
   ]
  },
  {
   "cell_type": "code",
   "execution_count": null,
   "metadata": {},
   "outputs": [],
   "source": [
    "extracted_features.to_csv('pure_feat_meta_melted_3_2.gz', compression='gzip', index=True)"
   ]
  }
 ],
 "metadata": {
  "kernelspec": {
   "name": "python3",
   "display_name": "Python 3.8.10 64-bit ('pythonProject': conda)"
  },
  "language_info": {
   "codemirror_mode": {
    "name": "ipython",
    "version": 3
   },
   "file_extension": ".py",
   "mimetype": "text/x-python",
   "name": "python",
   "nbconvert_exporter": "python",
   "pygments_lexer": "ipython3",
   "version": "3.8.10"
  },
  "interpreter": {
   "hash": "d09c7342e55ead08a375a712ba0f79f39c14370a32d762caa72a78ddfe528bbd"
  }
 },
 "nbformat": 4,
 "nbformat_minor": 5
}