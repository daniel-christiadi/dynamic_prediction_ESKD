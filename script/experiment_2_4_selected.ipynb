{
 "cells": [
  {
   "cell_type": "code",
   "execution_count": 2,
   "source": [
    "import numpy as np\n",
    "import pandas as pd\n",
    "import xgboost as xgb\n",
    "import shap\n",
    "from sklearn.preprocessing import OneHotEncoder, LabelEncoder\n",
    "from sklearn.compose import ColumnTransformer\n",
    "from sklearn.model_selection import train_test_split, StratifiedKFold, cross_validate, cross_val_score, cross_val_predict\n",
    "from sklearn.metrics import matthews_corrcoef, confusion_matrix, roc_auc_score, classification_report\n",
    "from imblearn.over_sampling import SMOTE\n",
    "from imblearn.under_sampling import RandomUnderSampler\n",
    "from imblearn.combine import SMOTETomek\n",
    "from imblearn.pipeline import Pipeline\n",
    "from sklearn.metrics import recall_score, accuracy_score\n",
    "from sklearn.impute import KNNImputer, SimpleImputer"
   ],
   "outputs": [],
   "metadata": {}
  },
  {
   "cell_type": "code",
   "execution_count": 3,
   "source": [
    "random_state = 7\n",
    "cv_method = StratifiedKFold(n_splits=5)"
   ],
   "outputs": [],
   "metadata": {}
  },
  {
   "cell_type": "markdown",
   "source": [
    "# Training of tsfresh-selected Training Max 2 years and eGFR 4 times"
   ],
   "metadata": {}
  },
  {
   "cell_type": "code",
   "execution_count": 4,
   "source": [
    "df = pd.read_csv('/home/jupyter-dchristiadi85/PhD Project 1/data/train_selected_2_4.gz')\n",
    "df.shape\n"
   ],
   "outputs": [
    {
     "output_type": "execute_result",
     "data": {
      "text/plain": [
       "(5958, 23639)"
      ]
     },
     "metadata": {},
     "execution_count": 4
    }
   ],
   "metadata": {}
  },
  {
   "cell_type": "code",
   "execution_count": 5,
   "source": [
    "df.info()"
   ],
   "outputs": [
    {
     "output_type": "stream",
     "name": "stdout",
     "text": [
      "<class 'pandas.core.frame.DataFrame'>\n",
      "RangeIndex: 5958 entries, 0 to 5957\n",
      "Columns: 23639 entries, id to cat8\n",
      "dtypes: float64(23617), int64(2), object(20)\n",
      "memory usage: 1.0+ GB\n"
     ]
    }
   ],
   "metadata": {}
  },
  {
   "cell_type": "code",
   "execution_count": 6,
   "source": [
    "df['aki_1'].fillna(value=0, inplace=True)\n",
    "df['aki_2'].fillna(value=0, inplace=True)\n",
    "df['aki_3'].fillna(value=0, inplace=True)"
   ],
   "outputs": [],
   "metadata": {}
  },
  {
   "cell_type": "code",
   "execution_count": 9,
   "source": [
    "df['gn'].value_counts()"
   ],
   "outputs": [
    {
     "output_type": "execute_result",
     "data": {
      "text/plain": [
       "no                 5491\n",
       "igan                190\n",
       "anca                 85\n",
       "lupus nephritis      45\n",
       "membranous           37\n",
       "unspecific           31\n",
       "fsgs                 28\n",
       "mcd                  24\n",
       "mp/mcgn              19\n",
       "fgn/itg               6\n",
       "pign                  2\n",
       "Name: gn, dtype: int64"
      ]
     },
     "metadata": {},
     "execution_count": 9
    }
   ],
   "metadata": {}
  },
  {
   "cell_type": "code",
   "execution_count": 10,
   "source": [
    "df.loc[df.gn == 'pign', 'gn'] = 'unspecific'\n",
    "df.loc[df.gn == 'fgn/itg', 'gn'] = 'unspecific'"
   ],
   "outputs": [],
   "metadata": {}
  },
  {
   "cell_type": "code",
   "execution_count": 11,
   "source": [
    "percent_missing = df.isnull().sum()*100 / len(df)\n",
    "missing_df = pd.DataFrame({'column_name': df.columns, 'percent_miss': percent_missing})"
   ],
   "outputs": [],
   "metadata": {}
  },
  {
   "cell_type": "code",
   "execution_count": 12,
   "source": [
    "missing_df.sort_values(by='percent_miss', ascending=False)"
   ],
   "outputs": [
    {
     "output_type": "execute_result",
     "data": {
      "text/plain": [
       "                                                                                          column_name  \\\n",
       "crp__fft_coefficient__attr_\"\"\"\"\"\"\"\"imag\"\"\"\"\"\"\"\"...  crp__fft_coefficient__attr_\"\"\"\"\"\"\"\"imag\"\"\"\"\"\"\"...   \n",
       "crp__fft_coefficient__attr_\"\"\"\"\"\"\"\"real\"\"\"\"\"\"\"\"...  crp__fft_coefficient__attr_\"\"\"\"\"\"\"\"real\"\"\"\"\"\"\"...   \n",
       "creatinine__query_similarity_count__query_None_...  creatinine__query_similarity_count__query_None...   \n",
       "mchc__query_similarity_count__query_None__thres...  mchc__query_similarity_count__query_None__thre...   \n",
       "crp__fft_coefficient__attr_\"\"\"\"\"\"\"\"real\"\"\"\"\"\"\"\"...  crp__fft_coefficient__attr_\"\"\"\"\"\"\"\"real\"\"\"\"\"\"\"...   \n",
       "...                                                                                               ...   \n",
       "htn                                                                                               htn   \n",
       "aki_3                                                                                           aki_3   \n",
       "aki_2                                                                                           aki_2   \n",
       "aki_1                                                                                           aki_1   \n",
       "cat8                                                                                             cat8   \n",
       "\n",
       "                                                    percent_miss  \n",
       "crp__fft_coefficient__attr_\"\"\"\"\"\"\"\"imag\"\"\"\"\"\"\"\"...         100.0  \n",
       "crp__fft_coefficient__attr_\"\"\"\"\"\"\"\"real\"\"\"\"\"\"\"\"...         100.0  \n",
       "creatinine__query_similarity_count__query_None_...         100.0  \n",
       "mchc__query_similarity_count__query_None__thres...         100.0  \n",
       "crp__fft_coefficient__attr_\"\"\"\"\"\"\"\"real\"\"\"\"\"\"\"\"...         100.0  \n",
       "...                                                          ...  \n",
       "htn                                                          0.0  \n",
       "aki_3                                                        0.0  \n",
       "aki_2                                                        0.0  \n",
       "aki_1                                                        0.0  \n",
       "cat8                                                         0.0  \n",
       "\n",
       "[23639 rows x 2 columns]"
      ],
      "text/html": [
       "<div>\n",
       "<style scoped>\n",
       "    .dataframe tbody tr th:only-of-type {\n",
       "        vertical-align: middle;\n",
       "    }\n",
       "\n",
       "    .dataframe tbody tr th {\n",
       "        vertical-align: top;\n",
       "    }\n",
       "\n",
       "    .dataframe thead th {\n",
       "        text-align: right;\n",
       "    }\n",
       "</style>\n",
       "<table border=\"1\" class=\"dataframe\">\n",
       "  <thead>\n",
       "    <tr style=\"text-align: right;\">\n",
       "      <th></th>\n",
       "      <th>column_name</th>\n",
       "      <th>percent_miss</th>\n",
       "    </tr>\n",
       "  </thead>\n",
       "  <tbody>\n",
       "    <tr>\n",
       "      <th>crp__fft_coefficient__attr_\"\"\"\"\"\"\"\"imag\"\"\"\"\"\"\"\"__coeff_98</th>\n",
       "      <td>crp__fft_coefficient__attr_\"\"\"\"\"\"\"\"imag\"\"\"\"\"\"\"...</td>\n",
       "      <td>100.0</td>\n",
       "    </tr>\n",
       "    <tr>\n",
       "      <th>crp__fft_coefficient__attr_\"\"\"\"\"\"\"\"real\"\"\"\"\"\"\"\"__coeff_75</th>\n",
       "      <td>crp__fft_coefficient__attr_\"\"\"\"\"\"\"\"real\"\"\"\"\"\"\"...</td>\n",
       "      <td>100.0</td>\n",
       "    </tr>\n",
       "    <tr>\n",
       "      <th>creatinine__query_similarity_count__query_None__threshold_0.0</th>\n",
       "      <td>creatinine__query_similarity_count__query_None...</td>\n",
       "      <td>100.0</td>\n",
       "    </tr>\n",
       "    <tr>\n",
       "      <th>mchc__query_similarity_count__query_None__threshold_0.0</th>\n",
       "      <td>mchc__query_similarity_count__query_None__thre...</td>\n",
       "      <td>100.0</td>\n",
       "    </tr>\n",
       "    <tr>\n",
       "      <th>crp__fft_coefficient__attr_\"\"\"\"\"\"\"\"real\"\"\"\"\"\"\"\"__coeff_73</th>\n",
       "      <td>crp__fft_coefficient__attr_\"\"\"\"\"\"\"\"real\"\"\"\"\"\"\"...</td>\n",
       "      <td>100.0</td>\n",
       "    </tr>\n",
       "    <tr>\n",
       "      <th>...</th>\n",
       "      <td>...</td>\n",
       "      <td>...</td>\n",
       "    </tr>\n",
       "    <tr>\n",
       "      <th>htn</th>\n",
       "      <td>htn</td>\n",
       "      <td>0.0</td>\n",
       "    </tr>\n",
       "    <tr>\n",
       "      <th>aki_3</th>\n",
       "      <td>aki_3</td>\n",
       "      <td>0.0</td>\n",
       "    </tr>\n",
       "    <tr>\n",
       "      <th>aki_2</th>\n",
       "      <td>aki_2</td>\n",
       "      <td>0.0</td>\n",
       "    </tr>\n",
       "    <tr>\n",
       "      <th>aki_1</th>\n",
       "      <td>aki_1</td>\n",
       "      <td>0.0</td>\n",
       "    </tr>\n",
       "    <tr>\n",
       "      <th>cat8</th>\n",
       "      <td>cat8</td>\n",
       "      <td>0.0</td>\n",
       "    </tr>\n",
       "  </tbody>\n",
       "</table>\n",
       "<p>23639 rows × 2 columns</p>\n",
       "</div>"
      ]
     },
     "metadata": {},
     "execution_count": 12
    }
   ],
   "metadata": {}
  },
  {
   "cell_type": "markdown",
   "source": [
    "### Number of patients reaching ESKD within training period "
   ],
   "metadata": {}
  },
  {
   "cell_type": "code",
   "execution_count": 13,
   "source": [
    "df['cat2'].value_counts()"
   ],
   "outputs": [
    {
     "output_type": "execute_result",
     "data": {
      "text/plain": [
       "non_eskd    4614\n",
       "eskd        1344\n",
       "Name: cat2, dtype: int64"
      ]
     },
     "metadata": {},
     "execution_count": 13
    }
   ],
   "metadata": {}
  },
  {
   "cell_type": "code",
   "execution_count": 14,
   "source": [
    "df.set_index('id', inplace=True)"
   ],
   "outputs": [],
   "metadata": {}
  },
  {
   "cell_type": "code",
   "execution_count": 15,
   "source": [
    "def to_category(df):\n",
    "    cols = df.select_dtypes(include='object').columns\n",
    "    for col in cols:\n",
    "        df[col] = df[col].astype('category')\n",
    "    return df\n",
    "\n",
    "def drop_missing(df):\n",
    "    threshold = len(df)*0.6\n",
    "    df.dropna(axis=1, thresh=threshold, inplace=True)\n",
    "    return df\n",
    "\n",
    "def copy_df(df):\n",
    "    return df.copy()"
   ],
   "outputs": [],
   "metadata": {}
  },
  {
   "cell_type": "code",
   "execution_count": 16,
   "source": [
    "df_cleaned = (df.pipe(copy_df).pipe(drop_missing).pipe(to_category))\n",
    "df_cleaned.shape"
   ],
   "outputs": [
    {
     "output_type": "execute_result",
     "data": {
      "text/plain": [
       "(5958, 6564)"
      ]
     },
     "metadata": {},
     "execution_count": 16
    }
   ],
   "metadata": {}
  },
  {
   "cell_type": "code",
   "execution_count": 17,
   "source": [
    "df_rm_intrain = df_cleaned.query(\"cat2 == 'non_eskd'\")\n",
    "df_rm_intrain.shape"
   ],
   "outputs": [
    {
     "output_type": "execute_result",
     "data": {
      "text/plain": [
       "(4614, 6564)"
      ]
     },
     "metadata": {},
     "execution_count": 17
    }
   ],
   "metadata": {}
  },
  {
   "cell_type": "code",
   "execution_count": 18,
   "source": [
    "df_rm_intrain.to_csv('../data/cleaned60_selected_2_4.gz', index=True, compression='gzip')"
   ],
   "outputs": [],
   "metadata": {}
  },
  {
   "cell_type": "code",
   "execution_count": 19,
   "source": [
    "df_rm_intrain.info()"
   ],
   "outputs": [
    {
     "output_type": "stream",
     "name": "stdout",
     "text": [
      "<class 'pandas.core.frame.DataFrame'>\n",
      "Int64Index: 4614 entries, 3916 to 23864\n",
      "Columns: 6564 entries, ureacreat_ratio__variance_larger_than_standard_deviation to cat8\n",
      "dtypes: category(20), float64(6543), int64(1)\n",
      "memory usage: 230.5 MB\n"
     ]
    }
   ],
   "metadata": {}
  },
  {
   "cell_type": "code",
   "execution_count": 89,
   "source": [
    "df_rm_intrain = (df_rm_intrain.pipe(copy_df).pipe(to_category))\n",
    "df_rm_intrain.shape"
   ],
   "outputs": [
    {
     "output_type": "execute_result",
     "data": {
      "text/plain": [
       "(4614, 6770)"
      ]
     },
     "metadata": {},
     "execution_count": 89
    }
   ],
   "metadata": {}
  },
  {
   "cell_type": "markdown",
   "source": [
    "### Number of patients reaching ESKD in at 1y post-training "
   ],
   "metadata": {}
  },
  {
   "cell_type": "code",
   "execution_count": 20,
   "source": [
    "df_rm_intrain['cat3'].value_counts()"
   ],
   "outputs": [
    {
     "output_type": "execute_result",
     "data": {
      "text/plain": [
       "non_eskd    4491\n",
       "eskd         123\n",
       "Name: cat3, dtype: int64"
      ]
     },
     "metadata": {},
     "execution_count": 20
    }
   ],
   "metadata": {}
  },
  {
   "cell_type": "markdown",
   "source": [
    "### Number of patients reaching ESKD in 2y post-training"
   ],
   "metadata": {}
  },
  {
   "cell_type": "code",
   "execution_count": 21,
   "source": [
    "df_rm_intrain['cat4'].value_counts()"
   ],
   "outputs": [
    {
     "output_type": "execute_result",
     "data": {
      "text/plain": [
       "non_eskd    4388\n",
       "eskd         226\n",
       "Name: cat4, dtype: int64"
      ]
     },
     "metadata": {},
     "execution_count": 21
    }
   ],
   "metadata": {}
  },
  {
   "cell_type": "markdown",
   "source": [
    "### Number of patients reaching ESKD in 5y post-training"
   ],
   "metadata": {}
  },
  {
   "cell_type": "code",
   "execution_count": 22,
   "source": [
    "df_rm_intrain['cat7'].value_counts()"
   ],
   "outputs": [
    {
     "output_type": "execute_result",
     "data": {
      "text/plain": [
       "non_eskd    4165\n",
       "eskd         449\n",
       "Name: cat7, dtype: int64"
      ]
     },
     "metadata": {},
     "execution_count": 22
    }
   ],
   "metadata": {}
  },
  {
   "cell_type": "code",
   "execution_count": 23,
   "source": [
    "percent_missing = df_rm_intrain.isnull().sum()*100 / len(df_rm_intrain)\n",
    "missing_df_rm_intrain = pd.DataFrame({'column_name': df_rm_intrain.columns, 'percent_miss': percent_missing})"
   ],
   "outputs": [],
   "metadata": {}
  },
  {
   "cell_type": "code",
   "execution_count": 24,
   "source": [
    "missing_df_rm_intrain.sort_values(by='percent_miss', ascending=False)"
   ],
   "outputs": [
    {
     "output_type": "execute_result",
     "data": {
      "text/plain": [
       "                                                                                          column_name  \\\n",
       "calcium__autocorrelation__lag_2                                       calcium__autocorrelation__lag_2   \n",
       "calcium__permutation_entropy__dimension_3__tau_1     calcium__permutation_entropy__dimension_3__tau_1   \n",
       "calcium__cwt_coefficients__coeff_2__w_20__width...  calcium__cwt_coefficients__coeff_2__w_20__widt...   \n",
       "calcium__cwt_coefficients__coeff_2__w_10__width...  calcium__cwt_coefficients__coeff_2__w_10__widt...   \n",
       "calcium__mean_second_derivative_central                       calcium__mean_second_derivative_central   \n",
       "...                                                                                               ...   \n",
       "dkd                                                                                               dkd   \n",
       "htn                                                                                               htn   \n",
       "aki_3                                                                                           aki_3   \n",
       "aki_2                                                                                           aki_2   \n",
       "cat8                                                                                             cat8   \n",
       "\n",
       "                                                    percent_miss  \n",
       "calcium__autocorrelation__lag_2                        46.142176  \n",
       "calcium__permutation_entropy__dimension_3__tau_1       46.098830  \n",
       "calcium__cwt_coefficients__coeff_2__w_20__width...     46.098830  \n",
       "calcium__cwt_coefficients__coeff_2__w_10__width...     46.098830  \n",
       "calcium__mean_second_derivative_central                46.098830  \n",
       "...                                                          ...  \n",
       "dkd                                                     0.000000  \n",
       "htn                                                     0.000000  \n",
       "aki_3                                                   0.000000  \n",
       "aki_2                                                   0.000000  \n",
       "cat8                                                    0.000000  \n",
       "\n",
       "[6564 rows x 2 columns]"
      ],
      "text/html": [
       "<div>\n",
       "<style scoped>\n",
       "    .dataframe tbody tr th:only-of-type {\n",
       "        vertical-align: middle;\n",
       "    }\n",
       "\n",
       "    .dataframe tbody tr th {\n",
       "        vertical-align: top;\n",
       "    }\n",
       "\n",
       "    .dataframe thead th {\n",
       "        text-align: right;\n",
       "    }\n",
       "</style>\n",
       "<table border=\"1\" class=\"dataframe\">\n",
       "  <thead>\n",
       "    <tr style=\"text-align: right;\">\n",
       "      <th></th>\n",
       "      <th>column_name</th>\n",
       "      <th>percent_miss</th>\n",
       "    </tr>\n",
       "  </thead>\n",
       "  <tbody>\n",
       "    <tr>\n",
       "      <th>calcium__autocorrelation__lag_2</th>\n",
       "      <td>calcium__autocorrelation__lag_2</td>\n",
       "      <td>46.142176</td>\n",
       "    </tr>\n",
       "    <tr>\n",
       "      <th>calcium__permutation_entropy__dimension_3__tau_1</th>\n",
       "      <td>calcium__permutation_entropy__dimension_3__tau_1</td>\n",
       "      <td>46.098830</td>\n",
       "    </tr>\n",
       "    <tr>\n",
       "      <th>calcium__cwt_coefficients__coeff_2__w_20__widths_(2, 5, 10, 20)</th>\n",
       "      <td>calcium__cwt_coefficients__coeff_2__w_20__widt...</td>\n",
       "      <td>46.098830</td>\n",
       "    </tr>\n",
       "    <tr>\n",
       "      <th>calcium__cwt_coefficients__coeff_2__w_10__widths_(2, 5, 10, 20)</th>\n",
       "      <td>calcium__cwt_coefficients__coeff_2__w_10__widt...</td>\n",
       "      <td>46.098830</td>\n",
       "    </tr>\n",
       "    <tr>\n",
       "      <th>calcium__mean_second_derivative_central</th>\n",
       "      <td>calcium__mean_second_derivative_central</td>\n",
       "      <td>46.098830</td>\n",
       "    </tr>\n",
       "    <tr>\n",
       "      <th>...</th>\n",
       "      <td>...</td>\n",
       "      <td>...</td>\n",
       "    </tr>\n",
       "    <tr>\n",
       "      <th>dkd</th>\n",
       "      <td>dkd</td>\n",
       "      <td>0.000000</td>\n",
       "    </tr>\n",
       "    <tr>\n",
       "      <th>htn</th>\n",
       "      <td>htn</td>\n",
       "      <td>0.000000</td>\n",
       "    </tr>\n",
       "    <tr>\n",
       "      <th>aki_3</th>\n",
       "      <td>aki_3</td>\n",
       "      <td>0.000000</td>\n",
       "    </tr>\n",
       "    <tr>\n",
       "      <th>aki_2</th>\n",
       "      <td>aki_2</td>\n",
       "      <td>0.000000</td>\n",
       "    </tr>\n",
       "    <tr>\n",
       "      <th>cat8</th>\n",
       "      <td>cat8</td>\n",
       "      <td>0.000000</td>\n",
       "    </tr>\n",
       "  </tbody>\n",
       "</table>\n",
       "<p>6564 rows × 2 columns</p>\n",
       "</div>"
      ]
     },
     "metadata": {},
     "execution_count": 24
    }
   ],
   "metadata": {}
  },
  {
   "cell_type": "markdown",
   "source": [
    "## Features and Target Input for Training "
   ],
   "metadata": {}
  },
  {
   "cell_type": "code",
   "execution_count": 25,
   "source": [
    "dropped_cols = list(df_rm_intrain.columns[-18:])\n",
    "dropped_cols.remove('age.init')\n",
    "dropped_cols"
   ],
   "outputs": [
    {
     "output_type": "execute_result",
     "data": {
      "text/plain": [
       "['egfr.y',\n",
       " 'cat0.5',\n",
       " 'cat1',\n",
       " 'cat1.5',\n",
       " 'cat2',\n",
       " 'cat2.5',\n",
       " 'cat3',\n",
       " 'cat3.5',\n",
       " 'cat4',\n",
       " 'cat4.5',\n",
       " 'cat5',\n",
       " 'cat5.5',\n",
       " 'cat6',\n",
       " 'cat6.5',\n",
       " 'cat7',\n",
       " 'cat7.5',\n",
       " 'cat8']"
      ]
     },
     "metadata": {},
     "execution_count": 25
    }
   ],
   "metadata": {}
  },
  {
   "cell_type": "code",
   "execution_count": 26,
   "source": [
    "X = df_rm_intrain.drop(dropped_cols,axis=1).copy()\n",
    "y = df_rm_intrain['cat7']\n",
    "X.shape, y.shape"
   ],
   "outputs": [
    {
     "output_type": "execute_result",
     "data": {
      "text/plain": [
       "((4614, 6547), (4614,))"
      ]
     },
     "metadata": {},
     "execution_count": 26
    }
   ],
   "metadata": {}
  },
  {
   "cell_type": "code",
   "execution_count": 27,
   "source": [
    "y_mapped = y.map({'non_eskd':'no', 'eskd':'yes'})\n",
    "y_mapped"
   ],
   "outputs": [
    {
     "output_type": "execute_result",
     "data": {
      "text/plain": [
       "id\n",
       "3916     no\n",
       "3918     no\n",
       "3921     no\n",
       "3924     no\n",
       "3930     no\n",
       "         ..\n",
       "23775    no\n",
       "23780    no\n",
       "23807    no\n",
       "23823    no\n",
       "23864    no\n",
       "Name: cat7, Length: 4614, dtype: category\n",
       "Categories (2, object): ['yes', 'no']"
      ]
     },
     "metadata": {},
     "execution_count": 27
    }
   ],
   "metadata": {}
  },
  {
   "cell_type": "code",
   "execution_count": 28,
   "source": [
    "X_train, X_test, y_train, y_test = train_test_split(X, y_mapped, test_size=0.3, stratify=y_mapped, random_state=random_state)\n",
    "X_train.shape, X_test.shape, y_train.shape, y_test.shape"
   ],
   "outputs": [
    {
     "output_type": "execute_result",
     "data": {
      "text/plain": [
       "((3229, 6547), (1385, 6547), (3229,), (1385,))"
      ]
     },
     "metadata": {},
     "execution_count": 28
    }
   ],
   "metadata": {}
  },
  {
   "cell_type": "code",
   "execution_count": 29,
   "source": [
    "lab_encode = LabelEncoder()\n",
    "y_train = lab_encode.fit_transform(y_train)\n",
    "y_test = lab_encode.transform(y_test)\n",
    "y_train.shape, y_test.shape"
   ],
   "outputs": [
    {
     "output_type": "execute_result",
     "data": {
      "text/plain": [
       "((3229,), (1385,))"
      ]
     },
     "metadata": {},
     "execution_count": 29
    }
   ],
   "metadata": {}
  },
  {
   "cell_type": "code",
   "execution_count": 30,
   "source": [
    "unique_values, counts = np.unique(y_train, return_counts=True)\n",
    "ratio = dict(zip(unique_values, counts))\n",
    "ratio"
   ],
   "outputs": [
    {
     "output_type": "execute_result",
     "data": {
      "text/plain": [
       "{0: 2915, 1: 314}"
      ]
     },
     "metadata": {},
     "execution_count": 30
    }
   ],
   "metadata": {}
  },
  {
   "cell_type": "code",
   "execution_count": 31,
   "source": [
    "imbalance_ratio = ratio[0] / ratio[1]\n",
    "imbalance_ratio"
   ],
   "outputs": [
    {
     "output_type": "execute_result",
     "data": {
      "text/plain": [
       "9.28343949044586"
      ]
     },
     "metadata": {},
     "execution_count": 31
    }
   ],
   "metadata": {}
  },
  {
   "cell_type": "code",
   "execution_count": 32,
   "source": [
    "category_cols = list(X_train.select_dtypes(include='category').columns)\n",
    "numeric_cols = list(X_train.select_dtypes(include=['int', 'float']).columns)\n",
    "num_imputer = KNNImputer(n_neighbors=5)\n",
    "one_hot = OneHotEncoder(handle_unknown='ignore')\n",
    "len(category_cols), len(numeric_cols)"
   ],
   "outputs": [
    {
     "output_type": "execute_result",
     "data": {
      "text/plain": [
       "(4, 6543)"
      ]
     },
     "metadata": {},
     "execution_count": 32
    }
   ],
   "metadata": {}
  },
  {
   "cell_type": "code",
   "execution_count": 33,
   "source": [
    "preprocess = ColumnTransformer([('num_imputing', num_imputer, numeric_cols), ('cat_encoder', one_hot, category_cols)], remainder='passthrough')\n",
    "X_train_processed = preprocess.fit_transform(X_train)\n",
    "X_train_processed.shape"
   ],
   "outputs": [
    {
     "output_type": "execute_result",
     "data": {
      "text/plain": [
       "(3229, 6558)"
      ]
     },
     "metadata": {},
     "execution_count": 33
    }
   ],
   "metadata": {}
  },
  {
   "cell_type": "code",
   "execution_count": 34,
   "source": [
    "X_test_processed = preprocess.transform(X_test)\n",
    "X_test_processed.shape"
   ],
   "outputs": [
    {
     "output_type": "execute_result",
     "data": {
      "text/plain": [
       "(1385, 6558)"
      ]
     },
     "metadata": {},
     "execution_count": 34
    }
   ],
   "metadata": {}
  },
  {
   "cell_type": "code",
   "execution_count": 35,
   "source": [
    "xgb_class = xgb.XGBClassifier(n_jobs=-1, random_state = random_state, n_estimators=1000, use_label_encoder=False, eval_metric='logloss', scale_pos_weight=imbalance_ratio)\n",
    "sampler = SMOTETomek(sampling_strategy=0.5, random_state=random_state)\n",
    "steps = [('resampling', sampler), ('model', xgb_class)]\n",
    "pipeline = Pipeline(steps=steps)"
   ],
   "outputs": [],
   "metadata": {}
  },
  {
   "cell_type": "code",
   "execution_count": 36,
   "source": [
    "pipeline.fit(X_train_processed, y_train)"
   ],
   "outputs": [
    {
     "output_type": "execute_result",
     "data": {
      "text/plain": [
       "Pipeline(steps=[('resampling',\n",
       "                 SMOTETomek(random_state=7, sampling_strategy=0.5)),\n",
       "                ('model',\n",
       "                 XGBClassifier(base_score=0.5, booster='gbtree',\n",
       "                               colsample_bylevel=1, colsample_bynode=1,\n",
       "                               colsample_bytree=1, eval_metric='logloss',\n",
       "                               gamma=0, gpu_id=-1, importance_type='gain',\n",
       "                               interaction_constraints='',\n",
       "                               learning_rate=0.300000012, max_delta_step=0,\n",
       "                               max_depth=6, min_child_weight=1, missing=nan,\n",
       "                               monotone_constraints='()', n_estimators=1000,\n",
       "                               n_jobs=-1, num_parallel_tree=1, random_state=7,\n",
       "                               reg_alpha=0, reg_lambda=1,\n",
       "                               scale_pos_weight=9.28343949044586, subsample=1,\n",
       "                               tree_method='exact', use_label_encoder=False,\n",
       "                               validate_parameters=1, verbosity=None))])"
      ]
     },
     "metadata": {},
     "execution_count": 36
    }
   ],
   "metadata": {}
  },
  {
   "cell_type": "code",
   "execution_count": 37,
   "source": [
    "y_pred = pipeline.predict(X_test_processed)"
   ],
   "outputs": [],
   "metadata": {}
  },
  {
   "cell_type": "code",
   "execution_count": 38,
   "source": [
    "confusion_matrix(y_true=y_test, y_pred=y_pred)"
   ],
   "outputs": [
    {
     "output_type": "execute_result",
     "data": {
      "text/plain": [
       "array([[1205,   45],\n",
       "       [  83,   52]])"
      ]
     },
     "metadata": {},
     "execution_count": 38
    }
   ],
   "metadata": {}
  },
  {
   "cell_type": "code",
   "execution_count": 39,
   "source": [
    "roc_auc_score(y_test, y_pred)"
   ],
   "outputs": [
    {
     "output_type": "execute_result",
     "data": {
      "text/plain": [
       "0.6745925925925926"
      ]
     },
     "metadata": {},
     "execution_count": 39
    }
   ],
   "metadata": {}
  },
  {
   "cell_type": "code",
   "execution_count": 40,
   "source": [
    "print(classification_report(y_true=y_test, y_pred=y_pred))"
   ],
   "outputs": [
    {
     "output_type": "stream",
     "name": "stdout",
     "text": [
      "              precision    recall  f1-score   support\n",
      "\n",
      "           0       0.94      0.96      0.95      1250\n",
      "           1       0.54      0.39      0.45       135\n",
      "\n",
      "    accuracy                           0.91      1385\n",
      "   macro avg       0.74      0.67      0.70      1385\n",
      "weighted avg       0.90      0.91      0.90      1385\n",
      "\n"
     ]
    }
   ],
   "metadata": {}
  },
  {
   "cell_type": "code",
   "execution_count": 41,
   "source": [
    "print(matthews_corrcoef(y_test, y_pred))"
   ],
   "outputs": [
    {
     "output_type": "stream",
     "name": "stdout",
     "text": [
      "0.405820425419609\n"
     ]
    }
   ],
   "metadata": {}
  },
  {
   "cell_type": "code",
   "execution_count": 42,
   "source": [
    "importance = pipeline.named_steps['model'].feature_importances_\n",
    "importance.shape, type(importance)"
   ],
   "outputs": [
    {
     "output_type": "execute_result",
     "data": {
      "text/plain": [
       "((6558,), numpy.ndarray)"
      ]
     },
     "metadata": {},
     "execution_count": 42
    }
   ],
   "metadata": {}
  },
  {
   "cell_type": "code",
   "execution_count": 43,
   "source": [
    "category_label = list(preprocess.named_transformers_['cat_encoder'].get_feature_names(category_cols))\n",
    "feature_label = numeric_cols + category_label\n",
    "len(feature_label)"
   ],
   "outputs": [
    {
     "output_type": "execute_result",
     "data": {
      "text/plain": [
       "6558"
      ]
     },
     "metadata": {},
     "execution_count": 43
    }
   ],
   "metadata": {}
  },
  {
   "cell_type": "code",
   "execution_count": 44,
   "source": [
    "pd.set_option('display.max_rows', 400)\n",
    "eval_df = pd.DataFrame({'label': feature_label, 'importance_value': importance})\n",
    "eval_df.sort_values(by='importance_value', ascending=False).head(100)"
   ],
   "outputs": [
    {
     "output_type": "execute_result",
     "data": {
      "text/plain": [
       "                                                  label  importance_value\n",
       "1750                                creatinine__maximum          0.041034\n",
       "6104  neutrophils__variance_larger_than_standard_dev...          0.027275\n",
       "2461                   glucose__fourier_entropy__bins_2          0.021158\n",
       "5819  mchc__change_quantiles__f_agg_\"\"\"\"\"\"\"\"mean\"\"\"\"...          0.014847\n",
       "251        wcc__variance_larger_than_standard_deviation          0.014824\n",
       "451                wcc__approximate_entropy__m_2__r_0.1          0.014511\n",
       "5219           eosinophils__ratio_beyond_r_sigma__r_0.5          0.012860\n",
       "2983                      platelet__benford_correlation          0.012705\n",
       "4432  ggt__large_standard_deviation__r_0.35000000000...          0.012372\n",
       "3725                                    urea__c3__lag_1          0.011727\n",
       "5992  monocytes__cwt_coefficients__coeff_0__w_5__wid...          0.011530\n",
       "3974                       alt__symmetry_looking__r_0.1          0.011432\n",
       "4742  globulin__change_quantiles__f_agg_\"\"\"\"\"\"\"\"mean...          0.010801\n",
       "2472                       haemoglobin__mean_abs_change          0.009209\n",
       "4431  ggt__large_standard_deviation__r_0.30000000000...          0.009138\n",
       "3034                          platelet__quantile__q_0.4          0.008679\n",
       "1650  chloride__change_quantiles__f_agg_\"\"\"\"\"\"\"\"var\"...          0.008377\n",
       "2108  egfr__change_quantiles__f_agg_\"\"\"\"\"\"\"\"mean\"\"\"\"...          0.008216\n",
       "6446  rbc__change_quantiles__f_agg_\"\"\"\"\"\"\"\"mean\"\"\"\"\"...          0.008112\n",
       "1803                        creatinine__quantile__q_0.4          0.007472\n",
       "4619                                globulin__c3__lag_2          0.007295\n",
       "5551                    mch__index_mass_quantile__q_0.3          0.007183\n",
       "1723                             creatinine__sum_values          0.006522\n",
       "5673                                mchc__has_duplicate          0.006460\n",
       "6048  monocytes__change_quantiles__f_agg_\"\"\"\"\"\"\"\"mea...          0.006316\n",
       "5233         eosinophils__lempel_ziv_complexity__bins_5          0.006191\n",
       "223   ureacreat_ratio__energy_ratio_by_chunks__num_s...          0.006144\n",
       "257                                wcc__mean_abs_change          0.006052\n",
       "1742              creatinine__first_location_of_maximum          0.005945\n",
       "5455                             mch__has_duplicate_min          0.005819\n",
       "2609  haemoglobin__change_quantiles__f_agg_\"\"\"\"\"\"\"\"v...          0.005804\n",
       "5617  mch__change_quantiles__f_agg_\"\"\"\"\"\"\"\"var\"\"\"\"\"\"...          0.005744\n",
       "4789              globulin__ratio_beyond_r_sigma__r_2.5          0.005687\n",
       "786                   alkphos__symmetry_looking__r_0.05          0.005589\n",
       "5031                      eosinophils__root_mean_square          0.005543\n",
       "6545                                            dkd_dkd          0.005489\n",
       "5922                               monocytes__c3__lag_3          0.005464\n",
       "6512  rbc__energy_ratio_by_chunks__num_segments_10__...          0.005296\n",
       "4517  ggt__change_quantiles__f_agg_\"\"\"\"\"\"\"\"mean\"\"\"\"\"...          0.005295\n",
       "646   albumin__change_quantiles__f_agg_\"\"\"\"\"\"\"\"var\"\"...          0.004875\n",
       "97                   ureacreat_ratio__number_peaks__n_1          0.004832\n",
       "5610  mch__change_quantiles__f_agg_\"\"\"\"\"\"\"\"mean\"\"\"\"\"...          0.004741\n",
       "5757  mchc__agg_autocorrelation__f_agg_\"\"\"\"\"\"\"\"var\"\"...          0.004639\n",
       "6458  rbc__change_quantiles__f_agg_\"\"\"\"\"\"\"\"mean\"\"\"\"\"...          0.004501\n",
       "2551                       haemoglobin__quantile__q_0.6          0.004493\n",
       "2716                              phosphate__sum_values          0.004423\n",
       "3537                      sodium__number_cwt_peaks__n_1          0.004387\n",
       "3561  sodium__cwt_coefficients__coeff_2__w_2__widths...          0.004349\n",
       "3580  sodium__change_quantiles__f_agg_\"\"\"\"\"\"\"\"mean\"\"...          0.004185\n",
       "3973                      alt__symmetry_looking__r_0.05          0.004171\n",
       "787                    alkphos__symmetry_looking__r_0.1          0.004169\n",
       "6543                                            htn_htn          0.004125\n",
       "1601  chloride__change_quantiles__f_agg_\"\"\"\"\"\"\"\"mean...          0.004003\n",
       "3310  potassium__cwt_coefficients__coeff_0__w_20__wi...          0.004002\n",
       "1479                          chloride__mean_abs_change          0.003955\n",
       "2377  glucose__change_quantiles__f_agg_\"\"\"\"\"\"\"\"mean\"...          0.003941\n",
       "5021                     eosinophils__has_duplicate_min          0.003917\n",
       "6211  neutrophils__cwt_coefficients__coeff_0__w_20__...          0.003916\n",
       "1924  creatinine__linear_trend__attr_\"\"\"\"\"\"\"\"pvalue\"...          0.003815\n",
       "886   alkphos__change_quantiles__f_agg_\"\"\"\"\"\"\"\"var\"\"...          0.003801\n",
       "5030                              eosinophils__variance          0.003796\n",
       "185   ureacreat_ratio__fft_coefficient__attr_\"\"\"\"\"\"\"...          0.003762\n",
       "3935                             alt__has_duplicate_max          0.003679\n",
       "4749  globulin__change_quantiles__f_agg_\"\"\"\"\"\"\"\"var\"...          0.003658\n",
       "4401                                     ggt__c3__lag_1          0.003654\n",
       "3770                              urea__quantile__q_0.2          0.003567\n",
       "3203                             potassium__mean_change          0.003522\n",
       "6454  rbc__change_quantiles__f_agg_\"\"\"\"\"\"\"\"mean\"\"\"\"\"...          0.003493\n",
       "3962                                       alt__minimum          0.003402\n",
       "1810                 creatinine__autocorrelation__lag_2          0.003400\n",
       "3559  sodium__cwt_coefficients__coeff_1__w_10__width...          0.003382\n",
       "2657  haemoglobin__fft_coefficient__attr_\"\"\"\"\"\"\"\"ang...          0.003380\n",
       "121   ureacreat_ratio__cwt_coefficients__coeff_2__w_...          0.003351\n",
       "2689           haemoglobin__ratio_beyond_r_sigma__r_0.5          0.003313\n",
       "1728                                 creatinine__median          0.003301\n",
       "36    ureacreat_ratio__time_reversal_asymmetry_stati...          0.003284\n",
       "6438  rbc__change_quantiles__f_agg_\"\"\"\"\"\"\"\"mean\"\"\"\"\"...          0.003241\n",
       "4155                            bicarbonate__sum_values          0.003220\n",
       "3157  platelet__linear_trend__attr_\"\"\"\"\"\"\"\"intercept...          0.003182\n",
       "3799  urea__cwt_coefficients__coeff_0__w_2__widths_(...          0.003181\n",
       "3281                         potassium__quantile__q_0.6          0.003167\n",
       "830                            alkphos__quantile__q_0.8          0.003125\n",
       "1280           caphos_product__symmetry_looking__r_0.25          0.003121\n",
       "4354             bicarbonate__ratio_beyond_r_sigma__r_2          0.003107\n",
       "1899  creatinine__change_quantiles__f_agg_\"\"\"\"\"\"\"\"me...          0.003052\n",
       "2558  haemoglobin__agg_autocorrelation__f_agg_\"\"\"\"\"\"...          0.002980\n",
       "1101  calcium__cwt_coefficients__coeff_0__w_5__width...          0.002915\n",
       "5317                       lymphocytes__quantile__q_0.6          0.002883\n",
       "1487                                 chloride__variance          0.002870\n",
       "1883  creatinine__change_quantiles__f_agg_\"\"\"\"\"\"\"\"me...          0.002867\n",
       "1744              creatinine__first_location_of_minimum          0.002838\n",
       "530                        albumin__benford_correlation          0.002817\n",
       "3290  potassium__agg_autocorrelation__f_agg_\"\"\"\"\"\"\"\"...          0.002815\n",
       "2707               haemoglobin__fourier_entropy__bins_3          0.002809\n",
       "4669                          globulin__quantile__q_0.9          0.002762\n",
       "5325                 lymphocytes__number_cwt_peaks__n_5          0.002759\n",
       "6186                       neutrophils__quantile__q_0.7          0.002720\n",
       "142   ureacreat_ratio__change_quantiles__f_agg_\"\"\"\"\"...          0.002631\n",
       "6040  monocytes__change_quantiles__f_agg_\"\"\"\"\"\"\"\"mea...          0.002631\n",
       "700            albumin__approximate_entropy__m_2__r_0.7          0.002587"
      ],
      "text/html": [
       "<div>\n",
       "<style scoped>\n",
       "    .dataframe tbody tr th:only-of-type {\n",
       "        vertical-align: middle;\n",
       "    }\n",
       "\n",
       "    .dataframe tbody tr th {\n",
       "        vertical-align: top;\n",
       "    }\n",
       "\n",
       "    .dataframe thead th {\n",
       "        text-align: right;\n",
       "    }\n",
       "</style>\n",
       "<table border=\"1\" class=\"dataframe\">\n",
       "  <thead>\n",
       "    <tr style=\"text-align: right;\">\n",
       "      <th></th>\n",
       "      <th>label</th>\n",
       "      <th>importance_value</th>\n",
       "    </tr>\n",
       "  </thead>\n",
       "  <tbody>\n",
       "    <tr>\n",
       "      <th>1750</th>\n",
       "      <td>creatinine__maximum</td>\n",
       "      <td>0.041034</td>\n",
       "    </tr>\n",
       "    <tr>\n",
       "      <th>6104</th>\n",
       "      <td>neutrophils__variance_larger_than_standard_dev...</td>\n",
       "      <td>0.027275</td>\n",
       "    </tr>\n",
       "    <tr>\n",
       "      <th>2461</th>\n",
       "      <td>glucose__fourier_entropy__bins_2</td>\n",
       "      <td>0.021158</td>\n",
       "    </tr>\n",
       "    <tr>\n",
       "      <th>5819</th>\n",
       "      <td>mchc__change_quantiles__f_agg_\"\"\"\"\"\"\"\"mean\"\"\"\"...</td>\n",
       "      <td>0.014847</td>\n",
       "    </tr>\n",
       "    <tr>\n",
       "      <th>251</th>\n",
       "      <td>wcc__variance_larger_than_standard_deviation</td>\n",
       "      <td>0.014824</td>\n",
       "    </tr>\n",
       "    <tr>\n",
       "      <th>451</th>\n",
       "      <td>wcc__approximate_entropy__m_2__r_0.1</td>\n",
       "      <td>0.014511</td>\n",
       "    </tr>\n",
       "    <tr>\n",
       "      <th>5219</th>\n",
       "      <td>eosinophils__ratio_beyond_r_sigma__r_0.5</td>\n",
       "      <td>0.012860</td>\n",
       "    </tr>\n",
       "    <tr>\n",
       "      <th>2983</th>\n",
       "      <td>platelet__benford_correlation</td>\n",
       "      <td>0.012705</td>\n",
       "    </tr>\n",
       "    <tr>\n",
       "      <th>4432</th>\n",
       "      <td>ggt__large_standard_deviation__r_0.35000000000...</td>\n",
       "      <td>0.012372</td>\n",
       "    </tr>\n",
       "    <tr>\n",
       "      <th>3725</th>\n",
       "      <td>urea__c3__lag_1</td>\n",
       "      <td>0.011727</td>\n",
       "    </tr>\n",
       "    <tr>\n",
       "      <th>5992</th>\n",
       "      <td>monocytes__cwt_coefficients__coeff_0__w_5__wid...</td>\n",
       "      <td>0.011530</td>\n",
       "    </tr>\n",
       "    <tr>\n",
       "      <th>3974</th>\n",
       "      <td>alt__symmetry_looking__r_0.1</td>\n",
       "      <td>0.011432</td>\n",
       "    </tr>\n",
       "    <tr>\n",
       "      <th>4742</th>\n",
       "      <td>globulin__change_quantiles__f_agg_\"\"\"\"\"\"\"\"mean...</td>\n",
       "      <td>0.010801</td>\n",
       "    </tr>\n",
       "    <tr>\n",
       "      <th>2472</th>\n",
       "      <td>haemoglobin__mean_abs_change</td>\n",
       "      <td>0.009209</td>\n",
       "    </tr>\n",
       "    <tr>\n",
       "      <th>4431</th>\n",
       "      <td>ggt__large_standard_deviation__r_0.30000000000...</td>\n",
       "      <td>0.009138</td>\n",
       "    </tr>\n",
       "    <tr>\n",
       "      <th>3034</th>\n",
       "      <td>platelet__quantile__q_0.4</td>\n",
       "      <td>0.008679</td>\n",
       "    </tr>\n",
       "    <tr>\n",
       "      <th>1650</th>\n",
       "      <td>chloride__change_quantiles__f_agg_\"\"\"\"\"\"\"\"var\"...</td>\n",
       "      <td>0.008377</td>\n",
       "    </tr>\n",
       "    <tr>\n",
       "      <th>2108</th>\n",
       "      <td>egfr__change_quantiles__f_agg_\"\"\"\"\"\"\"\"mean\"\"\"\"...</td>\n",
       "      <td>0.008216</td>\n",
       "    </tr>\n",
       "    <tr>\n",
       "      <th>6446</th>\n",
       "      <td>rbc__change_quantiles__f_agg_\"\"\"\"\"\"\"\"mean\"\"\"\"\"...</td>\n",
       "      <td>0.008112</td>\n",
       "    </tr>\n",
       "    <tr>\n",
       "      <th>1803</th>\n",
       "      <td>creatinine__quantile__q_0.4</td>\n",
       "      <td>0.007472</td>\n",
       "    </tr>\n",
       "    <tr>\n",
       "      <th>4619</th>\n",
       "      <td>globulin__c3__lag_2</td>\n",
       "      <td>0.007295</td>\n",
       "    </tr>\n",
       "    <tr>\n",
       "      <th>5551</th>\n",
       "      <td>mch__index_mass_quantile__q_0.3</td>\n",
       "      <td>0.007183</td>\n",
       "    </tr>\n",
       "    <tr>\n",
       "      <th>1723</th>\n",
       "      <td>creatinine__sum_values</td>\n",
       "      <td>0.006522</td>\n",
       "    </tr>\n",
       "    <tr>\n",
       "      <th>5673</th>\n",
       "      <td>mchc__has_duplicate</td>\n",
       "      <td>0.006460</td>\n",
       "    </tr>\n",
       "    <tr>\n",
       "      <th>6048</th>\n",
       "      <td>monocytes__change_quantiles__f_agg_\"\"\"\"\"\"\"\"mea...</td>\n",
       "      <td>0.006316</td>\n",
       "    </tr>\n",
       "    <tr>\n",
       "      <th>5233</th>\n",
       "      <td>eosinophils__lempel_ziv_complexity__bins_5</td>\n",
       "      <td>0.006191</td>\n",
       "    </tr>\n",
       "    <tr>\n",
       "      <th>223</th>\n",
       "      <td>ureacreat_ratio__energy_ratio_by_chunks__num_s...</td>\n",
       "      <td>0.006144</td>\n",
       "    </tr>\n",
       "    <tr>\n",
       "      <th>257</th>\n",
       "      <td>wcc__mean_abs_change</td>\n",
       "      <td>0.006052</td>\n",
       "    </tr>\n",
       "    <tr>\n",
       "      <th>1742</th>\n",
       "      <td>creatinine__first_location_of_maximum</td>\n",
       "      <td>0.005945</td>\n",
       "    </tr>\n",
       "    <tr>\n",
       "      <th>5455</th>\n",
       "      <td>mch__has_duplicate_min</td>\n",
       "      <td>0.005819</td>\n",
       "    </tr>\n",
       "    <tr>\n",
       "      <th>2609</th>\n",
       "      <td>haemoglobin__change_quantiles__f_agg_\"\"\"\"\"\"\"\"v...</td>\n",
       "      <td>0.005804</td>\n",
       "    </tr>\n",
       "    <tr>\n",
       "      <th>5617</th>\n",
       "      <td>mch__change_quantiles__f_agg_\"\"\"\"\"\"\"\"var\"\"\"\"\"\"...</td>\n",
       "      <td>0.005744</td>\n",
       "    </tr>\n",
       "    <tr>\n",
       "      <th>4789</th>\n",
       "      <td>globulin__ratio_beyond_r_sigma__r_2.5</td>\n",
       "      <td>0.005687</td>\n",
       "    </tr>\n",
       "    <tr>\n",
       "      <th>786</th>\n",
       "      <td>alkphos__symmetry_looking__r_0.05</td>\n",
       "      <td>0.005589</td>\n",
       "    </tr>\n",
       "    <tr>\n",
       "      <th>5031</th>\n",
       "      <td>eosinophils__root_mean_square</td>\n",
       "      <td>0.005543</td>\n",
       "    </tr>\n",
       "    <tr>\n",
       "      <th>6545</th>\n",
       "      <td>dkd_dkd</td>\n",
       "      <td>0.005489</td>\n",
       "    </tr>\n",
       "    <tr>\n",
       "      <th>5922</th>\n",
       "      <td>monocytes__c3__lag_3</td>\n",
       "      <td>0.005464</td>\n",
       "    </tr>\n",
       "    <tr>\n",
       "      <th>6512</th>\n",
       "      <td>rbc__energy_ratio_by_chunks__num_segments_10__...</td>\n",
       "      <td>0.005296</td>\n",
       "    </tr>\n",
       "    <tr>\n",
       "      <th>4517</th>\n",
       "      <td>ggt__change_quantiles__f_agg_\"\"\"\"\"\"\"\"mean\"\"\"\"\"...</td>\n",
       "      <td>0.005295</td>\n",
       "    </tr>\n",
       "    <tr>\n",
       "      <th>646</th>\n",
       "      <td>albumin__change_quantiles__f_agg_\"\"\"\"\"\"\"\"var\"\"...</td>\n",
       "      <td>0.004875</td>\n",
       "    </tr>\n",
       "    <tr>\n",
       "      <th>97</th>\n",
       "      <td>ureacreat_ratio__number_peaks__n_1</td>\n",
       "      <td>0.004832</td>\n",
       "    </tr>\n",
       "    <tr>\n",
       "      <th>5610</th>\n",
       "      <td>mch__change_quantiles__f_agg_\"\"\"\"\"\"\"\"mean\"\"\"\"\"...</td>\n",
       "      <td>0.004741</td>\n",
       "    </tr>\n",
       "    <tr>\n",
       "      <th>5757</th>\n",
       "      <td>mchc__agg_autocorrelation__f_agg_\"\"\"\"\"\"\"\"var\"\"...</td>\n",
       "      <td>0.004639</td>\n",
       "    </tr>\n",
       "    <tr>\n",
       "      <th>6458</th>\n",
       "      <td>rbc__change_quantiles__f_agg_\"\"\"\"\"\"\"\"mean\"\"\"\"\"...</td>\n",
       "      <td>0.004501</td>\n",
       "    </tr>\n",
       "    <tr>\n",
       "      <th>2551</th>\n",
       "      <td>haemoglobin__quantile__q_0.6</td>\n",
       "      <td>0.004493</td>\n",
       "    </tr>\n",
       "    <tr>\n",
       "      <th>2716</th>\n",
       "      <td>phosphate__sum_values</td>\n",
       "      <td>0.004423</td>\n",
       "    </tr>\n",
       "    <tr>\n",
       "      <th>3537</th>\n",
       "      <td>sodium__number_cwt_peaks__n_1</td>\n",
       "      <td>0.004387</td>\n",
       "    </tr>\n",
       "    <tr>\n",
       "      <th>3561</th>\n",
       "      <td>sodium__cwt_coefficients__coeff_2__w_2__widths...</td>\n",
       "      <td>0.004349</td>\n",
       "    </tr>\n",
       "    <tr>\n",
       "      <th>3580</th>\n",
       "      <td>sodium__change_quantiles__f_agg_\"\"\"\"\"\"\"\"mean\"\"...</td>\n",
       "      <td>0.004185</td>\n",
       "    </tr>\n",
       "    <tr>\n",
       "      <th>3973</th>\n",
       "      <td>alt__symmetry_looking__r_0.05</td>\n",
       "      <td>0.004171</td>\n",
       "    </tr>\n",
       "    <tr>\n",
       "      <th>787</th>\n",
       "      <td>alkphos__symmetry_looking__r_0.1</td>\n",
       "      <td>0.004169</td>\n",
       "    </tr>\n",
       "    <tr>\n",
       "      <th>6543</th>\n",
       "      <td>htn_htn</td>\n",
       "      <td>0.004125</td>\n",
       "    </tr>\n",
       "    <tr>\n",
       "      <th>1601</th>\n",
       "      <td>chloride__change_quantiles__f_agg_\"\"\"\"\"\"\"\"mean...</td>\n",
       "      <td>0.004003</td>\n",
       "    </tr>\n",
       "    <tr>\n",
       "      <th>3310</th>\n",
       "      <td>potassium__cwt_coefficients__coeff_0__w_20__wi...</td>\n",
       "      <td>0.004002</td>\n",
       "    </tr>\n",
       "    <tr>\n",
       "      <th>1479</th>\n",
       "      <td>chloride__mean_abs_change</td>\n",
       "      <td>0.003955</td>\n",
       "    </tr>\n",
       "    <tr>\n",
       "      <th>2377</th>\n",
       "      <td>glucose__change_quantiles__f_agg_\"\"\"\"\"\"\"\"mean\"...</td>\n",
       "      <td>0.003941</td>\n",
       "    </tr>\n",
       "    <tr>\n",
       "      <th>5021</th>\n",
       "      <td>eosinophils__has_duplicate_min</td>\n",
       "      <td>0.003917</td>\n",
       "    </tr>\n",
       "    <tr>\n",
       "      <th>6211</th>\n",
       "      <td>neutrophils__cwt_coefficients__coeff_0__w_20__...</td>\n",
       "      <td>0.003916</td>\n",
       "    </tr>\n",
       "    <tr>\n",
       "      <th>1924</th>\n",
       "      <td>creatinine__linear_trend__attr_\"\"\"\"\"\"\"\"pvalue\"...</td>\n",
       "      <td>0.003815</td>\n",
       "    </tr>\n",
       "    <tr>\n",
       "      <th>886</th>\n",
       "      <td>alkphos__change_quantiles__f_agg_\"\"\"\"\"\"\"\"var\"\"...</td>\n",
       "      <td>0.003801</td>\n",
       "    </tr>\n",
       "    <tr>\n",
       "      <th>5030</th>\n",
       "      <td>eosinophils__variance</td>\n",
       "      <td>0.003796</td>\n",
       "    </tr>\n",
       "    <tr>\n",
       "      <th>185</th>\n",
       "      <td>ureacreat_ratio__fft_coefficient__attr_\"\"\"\"\"\"\"...</td>\n",
       "      <td>0.003762</td>\n",
       "    </tr>\n",
       "    <tr>\n",
       "      <th>3935</th>\n",
       "      <td>alt__has_duplicate_max</td>\n",
       "      <td>0.003679</td>\n",
       "    </tr>\n",
       "    <tr>\n",
       "      <th>4749</th>\n",
       "      <td>globulin__change_quantiles__f_agg_\"\"\"\"\"\"\"\"var\"...</td>\n",
       "      <td>0.003658</td>\n",
       "    </tr>\n",
       "    <tr>\n",
       "      <th>4401</th>\n",
       "      <td>ggt__c3__lag_1</td>\n",
       "      <td>0.003654</td>\n",
       "    </tr>\n",
       "    <tr>\n",
       "      <th>3770</th>\n",
       "      <td>urea__quantile__q_0.2</td>\n",
       "      <td>0.003567</td>\n",
       "    </tr>\n",
       "    <tr>\n",
       "      <th>3203</th>\n",
       "      <td>potassium__mean_change</td>\n",
       "      <td>0.003522</td>\n",
       "    </tr>\n",
       "    <tr>\n",
       "      <th>6454</th>\n",
       "      <td>rbc__change_quantiles__f_agg_\"\"\"\"\"\"\"\"mean\"\"\"\"\"...</td>\n",
       "      <td>0.003493</td>\n",
       "    </tr>\n",
       "    <tr>\n",
       "      <th>3962</th>\n",
       "      <td>alt__minimum</td>\n",
       "      <td>0.003402</td>\n",
       "    </tr>\n",
       "    <tr>\n",
       "      <th>1810</th>\n",
       "      <td>creatinine__autocorrelation__lag_2</td>\n",
       "      <td>0.003400</td>\n",
       "    </tr>\n",
       "    <tr>\n",
       "      <th>3559</th>\n",
       "      <td>sodium__cwt_coefficients__coeff_1__w_10__width...</td>\n",
       "      <td>0.003382</td>\n",
       "    </tr>\n",
       "    <tr>\n",
       "      <th>2657</th>\n",
       "      <td>haemoglobin__fft_coefficient__attr_\"\"\"\"\"\"\"\"ang...</td>\n",
       "      <td>0.003380</td>\n",
       "    </tr>\n",
       "    <tr>\n",
       "      <th>121</th>\n",
       "      <td>ureacreat_ratio__cwt_coefficients__coeff_2__w_...</td>\n",
       "      <td>0.003351</td>\n",
       "    </tr>\n",
       "    <tr>\n",
       "      <th>2689</th>\n",
       "      <td>haemoglobin__ratio_beyond_r_sigma__r_0.5</td>\n",
       "      <td>0.003313</td>\n",
       "    </tr>\n",
       "    <tr>\n",
       "      <th>1728</th>\n",
       "      <td>creatinine__median</td>\n",
       "      <td>0.003301</td>\n",
       "    </tr>\n",
       "    <tr>\n",
       "      <th>36</th>\n",
       "      <td>ureacreat_ratio__time_reversal_asymmetry_stati...</td>\n",
       "      <td>0.003284</td>\n",
       "    </tr>\n",
       "    <tr>\n",
       "      <th>6438</th>\n",
       "      <td>rbc__change_quantiles__f_agg_\"\"\"\"\"\"\"\"mean\"\"\"\"\"...</td>\n",
       "      <td>0.003241</td>\n",
       "    </tr>\n",
       "    <tr>\n",
       "      <th>4155</th>\n",
       "      <td>bicarbonate__sum_values</td>\n",
       "      <td>0.003220</td>\n",
       "    </tr>\n",
       "    <tr>\n",
       "      <th>3157</th>\n",
       "      <td>platelet__linear_trend__attr_\"\"\"\"\"\"\"\"intercept...</td>\n",
       "      <td>0.003182</td>\n",
       "    </tr>\n",
       "    <tr>\n",
       "      <th>3799</th>\n",
       "      <td>urea__cwt_coefficients__coeff_0__w_2__widths_(...</td>\n",
       "      <td>0.003181</td>\n",
       "    </tr>\n",
       "    <tr>\n",
       "      <th>3281</th>\n",
       "      <td>potassium__quantile__q_0.6</td>\n",
       "      <td>0.003167</td>\n",
       "    </tr>\n",
       "    <tr>\n",
       "      <th>830</th>\n",
       "      <td>alkphos__quantile__q_0.8</td>\n",
       "      <td>0.003125</td>\n",
       "    </tr>\n",
       "    <tr>\n",
       "      <th>1280</th>\n",
       "      <td>caphos_product__symmetry_looking__r_0.25</td>\n",
       "      <td>0.003121</td>\n",
       "    </tr>\n",
       "    <tr>\n",
       "      <th>4354</th>\n",
       "      <td>bicarbonate__ratio_beyond_r_sigma__r_2</td>\n",
       "      <td>0.003107</td>\n",
       "    </tr>\n",
       "    <tr>\n",
       "      <th>1899</th>\n",
       "      <td>creatinine__change_quantiles__f_agg_\"\"\"\"\"\"\"\"me...</td>\n",
       "      <td>0.003052</td>\n",
       "    </tr>\n",
       "    <tr>\n",
       "      <th>2558</th>\n",
       "      <td>haemoglobin__agg_autocorrelation__f_agg_\"\"\"\"\"\"...</td>\n",
       "      <td>0.002980</td>\n",
       "    </tr>\n",
       "    <tr>\n",
       "      <th>1101</th>\n",
       "      <td>calcium__cwt_coefficients__coeff_0__w_5__width...</td>\n",
       "      <td>0.002915</td>\n",
       "    </tr>\n",
       "    <tr>\n",
       "      <th>5317</th>\n",
       "      <td>lymphocytes__quantile__q_0.6</td>\n",
       "      <td>0.002883</td>\n",
       "    </tr>\n",
       "    <tr>\n",
       "      <th>1487</th>\n",
       "      <td>chloride__variance</td>\n",
       "      <td>0.002870</td>\n",
       "    </tr>\n",
       "    <tr>\n",
       "      <th>1883</th>\n",
       "      <td>creatinine__change_quantiles__f_agg_\"\"\"\"\"\"\"\"me...</td>\n",
       "      <td>0.002867</td>\n",
       "    </tr>\n",
       "    <tr>\n",
       "      <th>1744</th>\n",
       "      <td>creatinine__first_location_of_minimum</td>\n",
       "      <td>0.002838</td>\n",
       "    </tr>\n",
       "    <tr>\n",
       "      <th>530</th>\n",
       "      <td>albumin__benford_correlation</td>\n",
       "      <td>0.002817</td>\n",
       "    </tr>\n",
       "    <tr>\n",
       "      <th>3290</th>\n",
       "      <td>potassium__agg_autocorrelation__f_agg_\"\"\"\"\"\"\"\"...</td>\n",
       "      <td>0.002815</td>\n",
       "    </tr>\n",
       "    <tr>\n",
       "      <th>2707</th>\n",
       "      <td>haemoglobin__fourier_entropy__bins_3</td>\n",
       "      <td>0.002809</td>\n",
       "    </tr>\n",
       "    <tr>\n",
       "      <th>4669</th>\n",
       "      <td>globulin__quantile__q_0.9</td>\n",
       "      <td>0.002762</td>\n",
       "    </tr>\n",
       "    <tr>\n",
       "      <th>5325</th>\n",
       "      <td>lymphocytes__number_cwt_peaks__n_5</td>\n",
       "      <td>0.002759</td>\n",
       "    </tr>\n",
       "    <tr>\n",
       "      <th>6186</th>\n",
       "      <td>neutrophils__quantile__q_0.7</td>\n",
       "      <td>0.002720</td>\n",
       "    </tr>\n",
       "    <tr>\n",
       "      <th>142</th>\n",
       "      <td>ureacreat_ratio__change_quantiles__f_agg_\"\"\"\"\"...</td>\n",
       "      <td>0.002631</td>\n",
       "    </tr>\n",
       "    <tr>\n",
       "      <th>6040</th>\n",
       "      <td>monocytes__change_quantiles__f_agg_\"\"\"\"\"\"\"\"mea...</td>\n",
       "      <td>0.002631</td>\n",
       "    </tr>\n",
       "    <tr>\n",
       "      <th>700</th>\n",
       "      <td>albumin__approximate_entropy__m_2__r_0.7</td>\n",
       "      <td>0.002587</td>\n",
       "    </tr>\n",
       "  </tbody>\n",
       "</table>\n",
       "</div>"
      ]
     },
     "metadata": {},
     "execution_count": 44
    }
   ],
   "metadata": {}
  }
 ],
 "metadata": {
  "kernelspec": {
   "name": "python3",
   "display_name": "Python 3.9.5 64-bit ('ml_dl': conda)"
  },
  "language_info": {
   "codemirror_mode": {
    "name": "ipython",
    "version": 3
   },
   "file_extension": ".py",
   "mimetype": "text/x-python",
   "name": "python",
   "nbconvert_exporter": "python",
   "pygments_lexer": "ipython3",
   "version": "3.9.5"
  },
  "interpreter": {
   "hash": "252eb11dec6c7c75d43c93f623bff35f4a463f74afda1ad8986a53442394c969"
  }
 },
 "nbformat": 4,
 "nbformat_minor": 5
}