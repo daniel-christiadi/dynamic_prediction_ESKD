{
 "cells": [
  {
   "cell_type": "code",
   "execution_count": 1,
   "source": [
    "import numpy as np\n",
    "import pandas as pd\n",
    "import datatable as dt\n",
    "import xgboost as xgb\n",
    "import shap\n",
    "from sklearn.preprocessing import OneHotEncoder, LabelEncoder\n",
    "from sklearn.compose import ColumnTransformer\n",
    "from sklearn.model_selection import train_test_split, StratifiedKFold, cross_validate, cross_val_score, cross_val_predict\n",
    "from sklearn.metrics import matthews_corrcoef, confusion_matrix, roc_auc_score, classification_report\n",
    "from imblearn.over_sampling import SMOTE\n",
    "from imblearn.under_sampling import RandomUnderSampler\n",
    "from imblearn.combine import SMOTETomek\n",
    "from imblearn.pipeline import Pipeline\n",
    "from sklearn.metrics import recall_score, accuracy_score\n",
    "from sklearn.impute import KNNImputer"
   ],
   "outputs": [
    {
     "output_type": "display_data",
     "data": {
      "text/plain": [
       "<IPython.core.display.HTML object>"
      ],
      "text/html": [
       "<style type='text/css'>\n",
       ".datatable table.frame { margin-bottom: 0; }\n",
       ".datatable table.frame thead { border-bottom: none; }\n",
       ".datatable table.frame tr.coltypes td {  color: #FFFFFF;  line-height: 6px;  padding: 0 0.5em;}\n",
       ".datatable .bool    { background: #DDDD99; }\n",
       ".datatable .object  { background: #565656; }\n",
       ".datatable .int     { background: #5D9E5D; }\n",
       ".datatable .float   { background: #4040CC; }\n",
       ".datatable .str     { background: #CC4040; }\n",
       ".datatable .time    { background: #40CC40; }\n",
       ".datatable .row_index {  background: var(--jp-border-color3);  border-right: 1px solid var(--jp-border-color0);  color: var(--jp-ui-font-color3);  font-size: 9px;}\n",
       ".datatable .frame tbody td { text-align: left; }\n",
       ".datatable .frame tr.coltypes .row_index {  background: var(--jp-border-color0);}\n",
       ".datatable th:nth-child(2) { padding-left: 12px; }\n",
       ".datatable .hellipsis {  color: var(--jp-cell-editor-border-color);}\n",
       ".datatable .vellipsis {  background: var(--jp-layout-color0);  color: var(--jp-cell-editor-border-color);}\n",
       ".datatable .na {  color: var(--jp-cell-editor-border-color);  font-size: 80%;}\n",
       ".datatable .sp {  opacity: 0.25;}\n",
       ".datatable .footer { font-size: 9px; }\n",
       ".datatable .frame_dimensions {  background: var(--jp-border-color3);  border-top: 1px solid var(--jp-border-color0);  color: var(--jp-ui-font-color3);  display: inline-block;  opacity: 0.6;  padding: 1px 10px 1px 5px;}\n",
       "</style>\n"
      ]
     },
     "metadata": {}
    }
   ],
   "metadata": {}
  },
  {
   "cell_type": "code",
   "execution_count": 2,
   "source": [
    "random_state = 7\n",
    "cv_method = StratifiedKFold(n_splits=5)"
   ],
   "outputs": [],
   "metadata": {}
  },
  {
   "cell_type": "markdown",
   "source": [
    "# Training of tsfresh-selected Training Max 2 years and eGFR 6 times"
   ],
   "metadata": {}
  },
  {
   "cell_type": "code",
   "execution_count": 3,
   "source": [
    "df = dt.fread('/home/jupyter-dchristiadi85/PhD Project 1/data/train_selected_2_6.gz')\n",
    "df = df.to_pandas()\n",
    "df.shape"
   ],
   "outputs": [
    {
     "output_type": "execute_result",
     "data": {
      "text/plain": [
       "(4965, 23639)"
      ]
     },
     "metadata": {},
     "execution_count": 3
    }
   ],
   "metadata": {}
  },
  {
   "cell_type": "code",
   "execution_count": 4,
   "source": [
    "df['aki_1'].fillna(value=0, inplace=True)\n",
    "df['aki_2'].fillna(value=0, inplace=True)\n",
    "df['aki_3'].fillna(value=0, inplace=True)"
   ],
   "outputs": [],
   "metadata": {}
  },
  {
   "cell_type": "code",
   "execution_count": 7,
   "source": [
    "df['gn'].value_counts()"
   ],
   "outputs": [
    {
     "output_type": "execute_result",
     "data": {
      "text/plain": [
       "no                 4508\n",
       "igan                184\n",
       "anca                 85\n",
       "lupus nephritis      45\n",
       "unspecific           37\n",
       "membranous           36\n",
       "fsgs                 27\n",
       "mcd                  24\n",
       "mp/mcgn              19\n",
       "Name: gn, dtype: int64"
      ]
     },
     "metadata": {},
     "execution_count": 7
    }
   ],
   "metadata": {}
  },
  {
   "cell_type": "code",
   "execution_count": 6,
   "source": [
    "df.loc[df.gn == 'pign', 'gn'] = 'unspecific'\n",
    "df.loc[df.gn == 'fgn/itg', 'gn'] = 'unspecific'"
   ],
   "outputs": [],
   "metadata": {}
  },
  {
   "cell_type": "code",
   "execution_count": 10,
   "source": [
    "percent_missing = df.isnull().sum()*100 / len(df)\n",
    "missing_df = pd.DataFrame({'column_name': df.columns, 'percent_miss': percent_missing})"
   ],
   "outputs": [],
   "metadata": {}
  },
  {
   "cell_type": "code",
   "execution_count": 11,
   "source": [
    "missing_df.sort_values(by='percent_miss', ascending=False)"
   ],
   "outputs": [
    {
     "output_type": "execute_result",
     "data": {
      "text/plain": [
       "                                             column_name  percent_miss\n",
       "23185  crp__fft_coefficient__attr_\"\"\"\"\"\"\"\"real\"\"\"\"\"\"\"...         100.0\n",
       "23476  crp__fft_coefficient__attr_\"\"\"\"\"\"\"\"angle\"\"\"\"\"\"...         100.0\n",
       "23456  crp__fft_coefficient__attr_\"\"\"\"\"\"\"\"angle\"\"\"\"\"\"...         100.0\n",
       "23457  crp__fft_coefficient__attr_\"\"\"\"\"\"\"\"angle\"\"\"\"\"\"...         100.0\n",
       "23458  crp__fft_coefficient__attr_\"\"\"\"\"\"\"\"angle\"\"\"\"\"\"...         100.0\n",
       "...                                                  ...           ...\n",
       "23614                                                htn           0.0\n",
       "23613                                              aki_3           0.0\n",
       "23612                                              aki_2           0.0\n",
       "23611                                              aki_1           0.0\n",
       "23638                                               cat8           0.0\n",
       "\n",
       "[23639 rows x 2 columns]"
      ],
      "text/html": [
       "<div>\n",
       "<style scoped>\n",
       "    .dataframe tbody tr th:only-of-type {\n",
       "        vertical-align: middle;\n",
       "    }\n",
       "\n",
       "    .dataframe tbody tr th {\n",
       "        vertical-align: top;\n",
       "    }\n",
       "\n",
       "    .dataframe thead th {\n",
       "        text-align: right;\n",
       "    }\n",
       "</style>\n",
       "<table border=\"1\" class=\"dataframe\">\n",
       "  <thead>\n",
       "    <tr style=\"text-align: right;\">\n",
       "      <th></th>\n",
       "      <th>column_name</th>\n",
       "      <th>percent_miss</th>\n",
       "    </tr>\n",
       "  </thead>\n",
       "  <tbody>\n",
       "    <tr>\n",
       "      <th>23185</th>\n",
       "      <td>crp__fft_coefficient__attr_\"\"\"\"\"\"\"\"real\"\"\"\"\"\"\"...</td>\n",
       "      <td>100.0</td>\n",
       "    </tr>\n",
       "    <tr>\n",
       "      <th>23476</th>\n",
       "      <td>crp__fft_coefficient__attr_\"\"\"\"\"\"\"\"angle\"\"\"\"\"\"...</td>\n",
       "      <td>100.0</td>\n",
       "    </tr>\n",
       "    <tr>\n",
       "      <th>23456</th>\n",
       "      <td>crp__fft_coefficient__attr_\"\"\"\"\"\"\"\"angle\"\"\"\"\"\"...</td>\n",
       "      <td>100.0</td>\n",
       "    </tr>\n",
       "    <tr>\n",
       "      <th>23457</th>\n",
       "      <td>crp__fft_coefficient__attr_\"\"\"\"\"\"\"\"angle\"\"\"\"\"\"...</td>\n",
       "      <td>100.0</td>\n",
       "    </tr>\n",
       "    <tr>\n",
       "      <th>23458</th>\n",
       "      <td>crp__fft_coefficient__attr_\"\"\"\"\"\"\"\"angle\"\"\"\"\"\"...</td>\n",
       "      <td>100.0</td>\n",
       "    </tr>\n",
       "    <tr>\n",
       "      <th>...</th>\n",
       "      <td>...</td>\n",
       "      <td>...</td>\n",
       "    </tr>\n",
       "    <tr>\n",
       "      <th>23614</th>\n",
       "      <td>htn</td>\n",
       "      <td>0.0</td>\n",
       "    </tr>\n",
       "    <tr>\n",
       "      <th>23613</th>\n",
       "      <td>aki_3</td>\n",
       "      <td>0.0</td>\n",
       "    </tr>\n",
       "    <tr>\n",
       "      <th>23612</th>\n",
       "      <td>aki_2</td>\n",
       "      <td>0.0</td>\n",
       "    </tr>\n",
       "    <tr>\n",
       "      <th>23611</th>\n",
       "      <td>aki_1</td>\n",
       "      <td>0.0</td>\n",
       "    </tr>\n",
       "    <tr>\n",
       "      <th>23638</th>\n",
       "      <td>cat8</td>\n",
       "      <td>0.0</td>\n",
       "    </tr>\n",
       "  </tbody>\n",
       "</table>\n",
       "<p>23639 rows × 2 columns</p>\n",
       "</div>"
      ]
     },
     "metadata": {},
     "execution_count": 11
    }
   ],
   "metadata": {}
  },
  {
   "cell_type": "markdown",
   "source": [
    "### Number of patients reaching ESKD within training period "
   ],
   "metadata": {}
  },
  {
   "cell_type": "code",
   "execution_count": 8,
   "source": [
    "df['cat2'].value_counts()"
   ],
   "outputs": [
    {
     "output_type": "execute_result",
     "data": {
      "text/plain": [
       "non_eskd    3708\n",
       "eskd        1257\n",
       "Name: cat2, dtype: int64"
      ]
     },
     "metadata": {},
     "execution_count": 8
    }
   ],
   "metadata": {}
  },
  {
   "cell_type": "code",
   "execution_count": 9,
   "source": [
    "df.set_index('id', inplace=True)"
   ],
   "outputs": [],
   "metadata": {}
  },
  {
   "cell_type": "code",
   "execution_count": 10,
   "source": [
    "def to_category(df):\n",
    "    cols = df.select_dtypes(include='object').columns\n",
    "    for col in cols:\n",
    "        df[col] = df[col].astype('category')\n",
    "    return df\n",
    "\n",
    "def drop_missing(df):\n",
    "    threshold = len(df)*0.6\n",
    "    df.dropna(axis=1, thresh=threshold, inplace=True)\n",
    "    return df\n",
    "\n",
    "def copy_df(df):\n",
    "    return df.copy()"
   ],
   "outputs": [],
   "metadata": {}
  },
  {
   "cell_type": "code",
   "execution_count": 11,
   "source": [
    "df_cleaned = (df.pipe(copy_df).pipe(drop_missing))\n",
    "df_cleaned.shape"
   ],
   "outputs": [
    {
     "output_type": "execute_result",
     "data": {
      "text/plain": [
       "(4965, 6924)"
      ]
     },
     "metadata": {},
     "execution_count": 11
    }
   ],
   "metadata": {}
  },
  {
   "cell_type": "code",
   "execution_count": 12,
   "source": [
    "df_rm_intrain = df_cleaned.query(\"cat2 == 'non_eskd'\")\n",
    "df_rm_intrain.shape"
   ],
   "outputs": [
    {
     "output_type": "execute_result",
     "data": {
      "text/plain": [
       "(3708, 6924)"
      ]
     },
     "metadata": {},
     "execution_count": 12
    }
   ],
   "metadata": {}
  },
  {
   "cell_type": "code",
   "execution_count": 40,
   "source": [
    "df_rm_intrain = dt.fread('/home/jupyter-dchristiadi85/PhD Project 1/data/cleaned60_selected_2_6.gz')\n",
    "df_rm_intrain = df_rm_intrain.to_pandas()\n",
    "df_rm_intrain.set_index('id', inplace=True)\n",
    "df_rm_intrain.shape"
   ],
   "outputs": [
    {
     "output_type": "execute_result",
     "data": {
      "text/plain": [
       "(3708, 6924)"
      ]
     },
     "metadata": {},
     "execution_count": 40
    }
   ],
   "metadata": {}
  },
  {
   "cell_type": "code",
   "execution_count": 41,
   "source": [
    "df_rm_intrain.info()"
   ],
   "outputs": [
    {
     "output_type": "stream",
     "name": "stdout",
     "text": [
      "<class 'pandas.core.frame.DataFrame'>\n",
      "Int64Index: 3708 entries, 3916 to 23864\n",
      "Columns: 6924 entries, ureacreat_ratio__variance_larger_than_standard_deviation to cat8\n",
      "dtypes: float64(5079), int32(1), object(1844)\n",
      "memory usage: 195.9+ MB\n"
     ]
    }
   ],
   "metadata": {}
  },
  {
   "cell_type": "code",
   "execution_count": 27,
   "source": [
    "df_rm_intrain = (df_rm_intrain.pipe(copy_df).pipe(to_category))\n",
    "df_rm_intrain.shape"
   ],
   "outputs": [
    {
     "output_type": "execute_result",
     "data": {
      "text/plain": [
       "      ureacreat_ratio__variance_larger_than_standard_deviation  \\\n",
       "id                                                               \n",
       "3916                                               False         \n",
       "3918                                               False         \n",
       "3921                                               False         \n",
       "3924                                               False         \n",
       "3930                                               False         \n",
       "...                                                  ...         \n",
       "23771                                              False         \n",
       "23775                                              False         \n",
       "23780                                              False         \n",
       "23823                                                NaN         \n",
       "23864                                              False         \n",
       "\n",
       "      ureacreat_ratio__has_duplicate_max ureacreat_ratio__has_duplicate_min  \\\n",
       "id                                                                            \n",
       "3916                               False                              False   \n",
       "3918                               False                              False   \n",
       "3921                               False                              False   \n",
       "3924                               False                              False   \n",
       "3930                               False                              False   \n",
       "...                                  ...                                ...   \n",
       "23771                              False                              False   \n",
       "23775                              False                              False   \n",
       "23780                              False                              False   \n",
       "23823                                NaN                                NaN   \n",
       "23864                              False                              False   \n",
       "\n",
       "      ureacreat_ratio__has_duplicate  ureacreat_ratio__sum_values  \\\n",
       "id                                                                  \n",
       "3916                           False                     0.152681   \n",
       "3918                           False                     0.201586   \n",
       "3921                           False                     0.245740   \n",
       "3924                           False                     0.185151   \n",
       "3930                           False                     0.496335   \n",
       "...                              ...                          ...   \n",
       "23771                          False                     0.160833   \n",
       "23775                          False                     0.044286   \n",
       "23780                          False                     0.078750   \n",
       "23823                            NaN                          NaN   \n",
       "23864                          False                     0.124615   \n",
       "\n",
       "       ureacreat_ratio__abs_energy  ureacreat_ratio__mean_abs_change  \\\n",
       "id                                                                     \n",
       "3916                      0.007990                          0.016659   \n",
       "3918                      0.013588                          0.004620   \n",
       "3921                      0.021038                          0.020792   \n",
       "3924                      0.011960                          0.015921   \n",
       "3930                      0.035761                          0.011239   \n",
       "...                            ...                               ...   \n",
       "23771                     0.009284                          0.024167   \n",
       "23775                     0.001961                               NaN   \n",
       "23780                     0.006202                               NaN   \n",
       "23823                          NaN                               NaN   \n",
       "23864                     0.015529                               NaN   \n",
       "\n",
       "       ureacreat_ratio__mean_change  \\\n",
       "id                                    \n",
       "3916                       0.004164   \n",
       "3918                      -0.004620   \n",
       "3921                       0.020792   \n",
       "3924                       0.015921   \n",
       "3930                       0.003173   \n",
       "...                             ...   \n",
       "23771                      0.011667   \n",
       "23775                           NaN   \n",
       "23780                           NaN   \n",
       "23823                           NaN   \n",
       "23864                           NaN   \n",
       "\n",
       "       ureacreat_ratio__mean_second_derivative_central  \\\n",
       "id                                                       \n",
       "3916                                         -0.016659   \n",
       "3918                                         -0.000227   \n",
       "3921                                         -0.008116   \n",
       "3924                                          0.006274   \n",
       "3930                                          0.002983   \n",
       "...                                                ...   \n",
       "23771                                         0.024167   \n",
       "23775                                              NaN   \n",
       "23780                                              NaN   \n",
       "23823                                              NaN   \n",
       "23864                                              NaN   \n",
       "\n",
       "       ureacreat_ratio__median  ...    cat3.5      cat4    cat4.5      cat5  \\\n",
       "id                              ...                                           \n",
       "3916                  0.049505  ...  non_eskd  non_eskd  non_eskd  non_eskd   \n",
       "3918                  0.067347  ...  non_eskd  non_eskd  non_eskd  non_eskd   \n",
       "3921                  0.087324  ...  non_eskd  non_eskd  non_eskd  non_eskd   \n",
       "3924                  0.057534  ...  non_eskd  non_eskd  non_eskd  non_eskd   \n",
       "3930                  0.069399  ...  non_eskd  non_eskd  non_eskd  non_eskd   \n",
       "...                        ...  ...       ...       ...       ...       ...   \n",
       "23771                 0.050000  ...  non_eskd  non_eskd  non_eskd  non_eskd   \n",
       "23775                 0.044286  ...  non_eskd  non_eskd  non_eskd  non_eskd   \n",
       "23780                 0.078750  ...  non_eskd  non_eskd  non_eskd  non_eskd   \n",
       "23823                      NaN  ...  non_eskd  non_eskd  non_eskd  non_eskd   \n",
       "23864                 0.124615  ...  non_eskd  non_eskd  non_eskd  non_eskd   \n",
       "\n",
       "         cat5.5      cat6    cat6.5      cat7    cat7.5      cat8  \n",
       "id                                                                 \n",
       "3916   non_eskd  non_eskd  non_eskd  non_eskd  non_eskd  non_eskd  \n",
       "3918   non_eskd  non_eskd  non_eskd  non_eskd  non_eskd  non_eskd  \n",
       "3921   non_eskd  non_eskd  non_eskd  non_eskd  non_eskd  non_eskd  \n",
       "3924   non_eskd  non_eskd  non_eskd  non_eskd  non_eskd  non_eskd  \n",
       "3930   non_eskd  non_eskd  non_eskd  non_eskd  non_eskd  non_eskd  \n",
       "...         ...       ...       ...       ...       ...       ...  \n",
       "23771  non_eskd  non_eskd  non_eskd  non_eskd  non_eskd  non_eskd  \n",
       "23775  non_eskd  non_eskd  non_eskd  non_eskd  non_eskd  non_eskd  \n",
       "23780  non_eskd  non_eskd  non_eskd  non_eskd  non_eskd  non_eskd  \n",
       "23823  non_eskd  non_eskd  non_eskd  non_eskd  non_eskd  non_eskd  \n",
       "23864  non_eskd  non_eskd  non_eskd  non_eskd  non_eskd  non_eskd  \n",
       "\n",
       "[3708 rows x 6924 columns]"
      ],
      "text/html": [
       "<div>\n",
       "<style scoped>\n",
       "    .dataframe tbody tr th:only-of-type {\n",
       "        vertical-align: middle;\n",
       "    }\n",
       "\n",
       "    .dataframe tbody tr th {\n",
       "        vertical-align: top;\n",
       "    }\n",
       "\n",
       "    .dataframe thead th {\n",
       "        text-align: right;\n",
       "    }\n",
       "</style>\n",
       "<table border=\"1\" class=\"dataframe\">\n",
       "  <thead>\n",
       "    <tr style=\"text-align: right;\">\n",
       "      <th></th>\n",
       "      <th>ureacreat_ratio__variance_larger_than_standard_deviation</th>\n",
       "      <th>ureacreat_ratio__has_duplicate_max</th>\n",
       "      <th>ureacreat_ratio__has_duplicate_min</th>\n",
       "      <th>ureacreat_ratio__has_duplicate</th>\n",
       "      <th>ureacreat_ratio__sum_values</th>\n",
       "      <th>ureacreat_ratio__abs_energy</th>\n",
       "      <th>ureacreat_ratio__mean_abs_change</th>\n",
       "      <th>ureacreat_ratio__mean_change</th>\n",
       "      <th>ureacreat_ratio__mean_second_derivative_central</th>\n",
       "      <th>ureacreat_ratio__median</th>\n",
       "      <th>...</th>\n",
       "      <th>cat3.5</th>\n",
       "      <th>cat4</th>\n",
       "      <th>cat4.5</th>\n",
       "      <th>cat5</th>\n",
       "      <th>cat5.5</th>\n",
       "      <th>cat6</th>\n",
       "      <th>cat6.5</th>\n",
       "      <th>cat7</th>\n",
       "      <th>cat7.5</th>\n",
       "      <th>cat8</th>\n",
       "    </tr>\n",
       "    <tr>\n",
       "      <th>id</th>\n",
       "      <th></th>\n",
       "      <th></th>\n",
       "      <th></th>\n",
       "      <th></th>\n",
       "      <th></th>\n",
       "      <th></th>\n",
       "      <th></th>\n",
       "      <th></th>\n",
       "      <th></th>\n",
       "      <th></th>\n",
       "      <th></th>\n",
       "      <th></th>\n",
       "      <th></th>\n",
       "      <th></th>\n",
       "      <th></th>\n",
       "      <th></th>\n",
       "      <th></th>\n",
       "      <th></th>\n",
       "      <th></th>\n",
       "      <th></th>\n",
       "      <th></th>\n",
       "    </tr>\n",
       "  </thead>\n",
       "  <tbody>\n",
       "    <tr>\n",
       "      <th>3916</th>\n",
       "      <td>False</td>\n",
       "      <td>False</td>\n",
       "      <td>False</td>\n",
       "      <td>False</td>\n",
       "      <td>0.152681</td>\n",
       "      <td>0.007990</td>\n",
       "      <td>0.016659</td>\n",
       "      <td>0.004164</td>\n",
       "      <td>-0.016659</td>\n",
       "      <td>0.049505</td>\n",
       "      <td>...</td>\n",
       "      <td>non_eskd</td>\n",
       "      <td>non_eskd</td>\n",
       "      <td>non_eskd</td>\n",
       "      <td>non_eskd</td>\n",
       "      <td>non_eskd</td>\n",
       "      <td>non_eskd</td>\n",
       "      <td>non_eskd</td>\n",
       "      <td>non_eskd</td>\n",
       "      <td>non_eskd</td>\n",
       "      <td>non_eskd</td>\n",
       "    </tr>\n",
       "    <tr>\n",
       "      <th>3918</th>\n",
       "      <td>False</td>\n",
       "      <td>False</td>\n",
       "      <td>False</td>\n",
       "      <td>False</td>\n",
       "      <td>0.201586</td>\n",
       "      <td>0.013588</td>\n",
       "      <td>0.004620</td>\n",
       "      <td>-0.004620</td>\n",
       "      <td>-0.000227</td>\n",
       "      <td>0.067347</td>\n",
       "      <td>...</td>\n",
       "      <td>non_eskd</td>\n",
       "      <td>non_eskd</td>\n",
       "      <td>non_eskd</td>\n",
       "      <td>non_eskd</td>\n",
       "      <td>non_eskd</td>\n",
       "      <td>non_eskd</td>\n",
       "      <td>non_eskd</td>\n",
       "      <td>non_eskd</td>\n",
       "      <td>non_eskd</td>\n",
       "      <td>non_eskd</td>\n",
       "    </tr>\n",
       "    <tr>\n",
       "      <th>3921</th>\n",
       "      <td>False</td>\n",
       "      <td>False</td>\n",
       "      <td>False</td>\n",
       "      <td>False</td>\n",
       "      <td>0.245740</td>\n",
       "      <td>0.021038</td>\n",
       "      <td>0.020792</td>\n",
       "      <td>0.020792</td>\n",
       "      <td>-0.008116</td>\n",
       "      <td>0.087324</td>\n",
       "      <td>...</td>\n",
       "      <td>non_eskd</td>\n",
       "      <td>non_eskd</td>\n",
       "      <td>non_eskd</td>\n",
       "      <td>non_eskd</td>\n",
       "      <td>non_eskd</td>\n",
       "      <td>non_eskd</td>\n",
       "      <td>non_eskd</td>\n",
       "      <td>non_eskd</td>\n",
       "      <td>non_eskd</td>\n",
       "      <td>non_eskd</td>\n",
       "    </tr>\n",
       "    <tr>\n",
       "      <th>3924</th>\n",
       "      <td>False</td>\n",
       "      <td>False</td>\n",
       "      <td>False</td>\n",
       "      <td>False</td>\n",
       "      <td>0.185151</td>\n",
       "      <td>0.011960</td>\n",
       "      <td>0.015921</td>\n",
       "      <td>0.015921</td>\n",
       "      <td>0.006274</td>\n",
       "      <td>0.057534</td>\n",
       "      <td>...</td>\n",
       "      <td>non_eskd</td>\n",
       "      <td>non_eskd</td>\n",
       "      <td>non_eskd</td>\n",
       "      <td>non_eskd</td>\n",
       "      <td>non_eskd</td>\n",
       "      <td>non_eskd</td>\n",
       "      <td>non_eskd</td>\n",
       "      <td>non_eskd</td>\n",
       "      <td>non_eskd</td>\n",
       "      <td>non_eskd</td>\n",
       "    </tr>\n",
       "    <tr>\n",
       "      <th>3930</th>\n",
       "      <td>False</td>\n",
       "      <td>False</td>\n",
       "      <td>False</td>\n",
       "      <td>False</td>\n",
       "      <td>0.496335</td>\n",
       "      <td>0.035761</td>\n",
       "      <td>0.011239</td>\n",
       "      <td>0.003173</td>\n",
       "      <td>0.002983</td>\n",
       "      <td>0.069399</td>\n",
       "      <td>...</td>\n",
       "      <td>non_eskd</td>\n",
       "      <td>non_eskd</td>\n",
       "      <td>non_eskd</td>\n",
       "      <td>non_eskd</td>\n",
       "      <td>non_eskd</td>\n",
       "      <td>non_eskd</td>\n",
       "      <td>non_eskd</td>\n",
       "      <td>non_eskd</td>\n",
       "      <td>non_eskd</td>\n",
       "      <td>non_eskd</td>\n",
       "    </tr>\n",
       "    <tr>\n",
       "      <th>...</th>\n",
       "      <td>...</td>\n",
       "      <td>...</td>\n",
       "      <td>...</td>\n",
       "      <td>...</td>\n",
       "      <td>...</td>\n",
       "      <td>...</td>\n",
       "      <td>...</td>\n",
       "      <td>...</td>\n",
       "      <td>...</td>\n",
       "      <td>...</td>\n",
       "      <td>...</td>\n",
       "      <td>...</td>\n",
       "      <td>...</td>\n",
       "      <td>...</td>\n",
       "      <td>...</td>\n",
       "      <td>...</td>\n",
       "      <td>...</td>\n",
       "      <td>...</td>\n",
       "      <td>...</td>\n",
       "      <td>...</td>\n",
       "      <td>...</td>\n",
       "    </tr>\n",
       "    <tr>\n",
       "      <th>23771</th>\n",
       "      <td>False</td>\n",
       "      <td>False</td>\n",
       "      <td>False</td>\n",
       "      <td>False</td>\n",
       "      <td>0.160833</td>\n",
       "      <td>0.009284</td>\n",
       "      <td>0.024167</td>\n",
       "      <td>0.011667</td>\n",
       "      <td>0.024167</td>\n",
       "      <td>0.050000</td>\n",
       "      <td>...</td>\n",
       "      <td>non_eskd</td>\n",
       "      <td>non_eskd</td>\n",
       "      <td>non_eskd</td>\n",
       "      <td>non_eskd</td>\n",
       "      <td>non_eskd</td>\n",
       "      <td>non_eskd</td>\n",
       "      <td>non_eskd</td>\n",
       "      <td>non_eskd</td>\n",
       "      <td>non_eskd</td>\n",
       "      <td>non_eskd</td>\n",
       "    </tr>\n",
       "    <tr>\n",
       "      <th>23775</th>\n",
       "      <td>False</td>\n",
       "      <td>False</td>\n",
       "      <td>False</td>\n",
       "      <td>False</td>\n",
       "      <td>0.044286</td>\n",
       "      <td>0.001961</td>\n",
       "      <td>NaN</td>\n",
       "      <td>NaN</td>\n",
       "      <td>NaN</td>\n",
       "      <td>0.044286</td>\n",
       "      <td>...</td>\n",
       "      <td>non_eskd</td>\n",
       "      <td>non_eskd</td>\n",
       "      <td>non_eskd</td>\n",
       "      <td>non_eskd</td>\n",
       "      <td>non_eskd</td>\n",
       "      <td>non_eskd</td>\n",
       "      <td>non_eskd</td>\n",
       "      <td>non_eskd</td>\n",
       "      <td>non_eskd</td>\n",
       "      <td>non_eskd</td>\n",
       "    </tr>\n",
       "    <tr>\n",
       "      <th>23780</th>\n",
       "      <td>False</td>\n",
       "      <td>False</td>\n",
       "      <td>False</td>\n",
       "      <td>False</td>\n",
       "      <td>0.078750</td>\n",
       "      <td>0.006202</td>\n",
       "      <td>NaN</td>\n",
       "      <td>NaN</td>\n",
       "      <td>NaN</td>\n",
       "      <td>0.078750</td>\n",
       "      <td>...</td>\n",
       "      <td>non_eskd</td>\n",
       "      <td>non_eskd</td>\n",
       "      <td>non_eskd</td>\n",
       "      <td>non_eskd</td>\n",
       "      <td>non_eskd</td>\n",
       "      <td>non_eskd</td>\n",
       "      <td>non_eskd</td>\n",
       "      <td>non_eskd</td>\n",
       "      <td>non_eskd</td>\n",
       "      <td>non_eskd</td>\n",
       "    </tr>\n",
       "    <tr>\n",
       "      <th>23823</th>\n",
       "      <td>NaN</td>\n",
       "      <td>NaN</td>\n",
       "      <td>NaN</td>\n",
       "      <td>NaN</td>\n",
       "      <td>NaN</td>\n",
       "      <td>NaN</td>\n",
       "      <td>NaN</td>\n",
       "      <td>NaN</td>\n",
       "      <td>NaN</td>\n",
       "      <td>NaN</td>\n",
       "      <td>...</td>\n",
       "      <td>non_eskd</td>\n",
       "      <td>non_eskd</td>\n",
       "      <td>non_eskd</td>\n",
       "      <td>non_eskd</td>\n",
       "      <td>non_eskd</td>\n",
       "      <td>non_eskd</td>\n",
       "      <td>non_eskd</td>\n",
       "      <td>non_eskd</td>\n",
       "      <td>non_eskd</td>\n",
       "      <td>non_eskd</td>\n",
       "    </tr>\n",
       "    <tr>\n",
       "      <th>23864</th>\n",
       "      <td>False</td>\n",
       "      <td>False</td>\n",
       "      <td>False</td>\n",
       "      <td>False</td>\n",
       "      <td>0.124615</td>\n",
       "      <td>0.015529</td>\n",
       "      <td>NaN</td>\n",
       "      <td>NaN</td>\n",
       "      <td>NaN</td>\n",
       "      <td>0.124615</td>\n",
       "      <td>...</td>\n",
       "      <td>non_eskd</td>\n",
       "      <td>non_eskd</td>\n",
       "      <td>non_eskd</td>\n",
       "      <td>non_eskd</td>\n",
       "      <td>non_eskd</td>\n",
       "      <td>non_eskd</td>\n",
       "      <td>non_eskd</td>\n",
       "      <td>non_eskd</td>\n",
       "      <td>non_eskd</td>\n",
       "      <td>non_eskd</td>\n",
       "    </tr>\n",
       "  </tbody>\n",
       "</table>\n",
       "<p>3708 rows × 6924 columns</p>\n",
       "</div>"
      ]
     },
     "metadata": {},
     "execution_count": 27
    }
   ],
   "metadata": {}
  },
  {
   "cell_type": "markdown",
   "source": [
    "### Number of patients reaching ESKD in at 1y post-training "
   ],
   "metadata": {}
  },
  {
   "cell_type": "code",
   "execution_count": 14,
   "source": [
    "df_rm_intrain['cat3'].value_counts()"
   ],
   "outputs": [
    {
     "output_type": "execute_result",
     "data": {
      "text/plain": [
       "non_eskd    3586\n",
       "eskd         122\n",
       "Name: cat3, dtype: int64"
      ]
     },
     "metadata": {},
     "execution_count": 14
    }
   ],
   "metadata": {}
  },
  {
   "cell_type": "markdown",
   "source": [
    "### Number of patients reaching ESKD in 2y post-training"
   ],
   "metadata": {}
  },
  {
   "cell_type": "code",
   "execution_count": 15,
   "source": [
    "df_rm_intrain['cat4'].value_counts()"
   ],
   "outputs": [
    {
     "output_type": "execute_result",
     "data": {
      "text/plain": [
       "non_eskd    3484\n",
       "eskd         224\n",
       "Name: cat4, dtype: int64"
      ]
     },
     "metadata": {},
     "execution_count": 15
    }
   ],
   "metadata": {}
  },
  {
   "cell_type": "markdown",
   "source": [
    "### Number of patients reaching ESKD in 5y post-training"
   ],
   "metadata": {}
  },
  {
   "cell_type": "code",
   "execution_count": 16,
   "source": [
    "df_rm_intrain['cat7'].value_counts()"
   ],
   "outputs": [
    {
     "output_type": "execute_result",
     "data": {
      "text/plain": [
       "non_eskd    3261\n",
       "eskd         447\n",
       "Name: cat7, dtype: int64"
      ]
     },
     "metadata": {},
     "execution_count": 16
    }
   ],
   "metadata": {}
  },
  {
   "cell_type": "code",
   "execution_count": 28,
   "source": [
    "percent_missing = df_rm_intrain.isnull().sum()*100 / len(df_rm_intrain)\n",
    "missing_df_rm_intrain = pd.DataFrame({'column_name': df_rm_intrain.columns, 'percent_miss': percent_missing})"
   ],
   "outputs": [],
   "metadata": {}
  },
  {
   "cell_type": "code",
   "execution_count": 29,
   "source": [
    "missing_df_rm_intrain.sort_values(by='percent_miss', ascending=False)"
   ],
   "outputs": [
    {
     "output_type": "execute_result",
     "data": {
      "text/plain": [
       "                                                                                          column_name  \\\n",
       "chloride__autocorrelation__lag_3                                     chloride__autocorrelation__lag_3   \n",
       "chloride__partial_autocorrelation__lag_1                     chloride__partial_autocorrelation__lag_1   \n",
       "chloride__augmented_dickey_fuller__attr_\"\"\"\"\"\"\"...  chloride__augmented_dickey_fuller__attr_\"\"\"\"\"\"...   \n",
       "chloride__augmented_dickey_fuller__attr_\"\"\"\"\"\"\"...  chloride__augmented_dickey_fuller__attr_\"\"\"\"\"\"...   \n",
       "chloride__partial_autocorrelation__lag_0                     chloride__partial_autocorrelation__lag_0   \n",
       "...                                                                                               ...   \n",
       "crp__fft_coefficient__attr_\"\"\"\"\"\"\"\"imag\"\"\"\"\"\"\"\"...  crp__fft_coefficient__attr_\"\"\"\"\"\"\"\"imag\"\"\"\"\"\"\"...   \n",
       "crp__fft_coefficient__attr_\"\"\"\"\"\"\"\"imag\"\"\"\"\"\"\"\"...  crp__fft_coefficient__attr_\"\"\"\"\"\"\"\"imag\"\"\"\"\"\"\"...   \n",
       "crp__fft_coefficient__attr_\"\"\"\"\"\"\"\"imag\"\"\"\"\"\"\"\"...  crp__fft_coefficient__attr_\"\"\"\"\"\"\"\"imag\"\"\"\"\"\"\"...   \n",
       "crp__fft_coefficient__attr_\"\"\"\"\"\"\"\"imag\"\"\"\"\"\"\"\"...  crp__fft_coefficient__attr_\"\"\"\"\"\"\"\"imag\"\"\"\"\"\"\"...   \n",
       "cat8                                                                                             cat8   \n",
       "\n",
       "                                                    percent_miss  \n",
       "chloride__autocorrelation__lag_3                       51.024811  \n",
       "chloride__partial_autocorrelation__lag_1               51.024811  \n",
       "chloride__augmented_dickey_fuller__attr_\"\"\"\"\"\"\"...     51.024811  \n",
       "chloride__augmented_dickey_fuller__attr_\"\"\"\"\"\"\"...     51.024811  \n",
       "chloride__partial_autocorrelation__lag_0               50.970874  \n",
       "...                                                          ...  \n",
       "crp__fft_coefficient__attr_\"\"\"\"\"\"\"\"imag\"\"\"\"\"\"\"\"...      0.000000  \n",
       "crp__fft_coefficient__attr_\"\"\"\"\"\"\"\"imag\"\"\"\"\"\"\"\"...      0.000000  \n",
       "crp__fft_coefficient__attr_\"\"\"\"\"\"\"\"imag\"\"\"\"\"\"\"\"...      0.000000  \n",
       "crp__fft_coefficient__attr_\"\"\"\"\"\"\"\"imag\"\"\"\"\"\"\"\"...      0.000000  \n",
       "cat8                                                    0.000000  \n",
       "\n",
       "[6924 rows x 2 columns]"
      ],
      "text/html": [
       "<div>\n",
       "<style scoped>\n",
       "    .dataframe tbody tr th:only-of-type {\n",
       "        vertical-align: middle;\n",
       "    }\n",
       "\n",
       "    .dataframe tbody tr th {\n",
       "        vertical-align: top;\n",
       "    }\n",
       "\n",
       "    .dataframe thead th {\n",
       "        text-align: right;\n",
       "    }\n",
       "</style>\n",
       "<table border=\"1\" class=\"dataframe\">\n",
       "  <thead>\n",
       "    <tr style=\"text-align: right;\">\n",
       "      <th></th>\n",
       "      <th>column_name</th>\n",
       "      <th>percent_miss</th>\n",
       "    </tr>\n",
       "  </thead>\n",
       "  <tbody>\n",
       "    <tr>\n",
       "      <th>chloride__autocorrelation__lag_3</th>\n",
       "      <td>chloride__autocorrelation__lag_3</td>\n",
       "      <td>51.024811</td>\n",
       "    </tr>\n",
       "    <tr>\n",
       "      <th>chloride__partial_autocorrelation__lag_1</th>\n",
       "      <td>chloride__partial_autocorrelation__lag_1</td>\n",
       "      <td>51.024811</td>\n",
       "    </tr>\n",
       "    <tr>\n",
       "      <th>chloride__augmented_dickey_fuller__attr_\"\"\"\"\"\"\"\"pvalue\"\"\"\"\"\"\"\"__autolag_\"\"\"\"\"\"\"\"AIC\"\"\"\"\"\"\"\"</th>\n",
       "      <td>chloride__augmented_dickey_fuller__attr_\"\"\"\"\"\"...</td>\n",
       "      <td>51.024811</td>\n",
       "    </tr>\n",
       "    <tr>\n",
       "      <th>chloride__augmented_dickey_fuller__attr_\"\"\"\"\"\"\"\"teststat\"\"\"\"\"\"\"\"__autolag_\"\"\"\"\"\"\"\"AIC\"\"\"\"\"\"\"\"</th>\n",
       "      <td>chloride__augmented_dickey_fuller__attr_\"\"\"\"\"\"...</td>\n",
       "      <td>51.024811</td>\n",
       "    </tr>\n",
       "    <tr>\n",
       "      <th>chloride__partial_autocorrelation__lag_0</th>\n",
       "      <td>chloride__partial_autocorrelation__lag_0</td>\n",
       "      <td>50.970874</td>\n",
       "    </tr>\n",
       "    <tr>\n",
       "      <th>...</th>\n",
       "      <td>...</td>\n",
       "      <td>...</td>\n",
       "    </tr>\n",
       "    <tr>\n",
       "      <th>crp__fft_coefficient__attr_\"\"\"\"\"\"\"\"imag\"\"\"\"\"\"\"\"__coeff_64</th>\n",
       "      <td>crp__fft_coefficient__attr_\"\"\"\"\"\"\"\"imag\"\"\"\"\"\"\"...</td>\n",
       "      <td>0.000000</td>\n",
       "    </tr>\n",
       "    <tr>\n",
       "      <th>crp__fft_coefficient__attr_\"\"\"\"\"\"\"\"imag\"\"\"\"\"\"\"\"__coeff_65</th>\n",
       "      <td>crp__fft_coefficient__attr_\"\"\"\"\"\"\"\"imag\"\"\"\"\"\"\"...</td>\n",
       "      <td>0.000000</td>\n",
       "    </tr>\n",
       "    <tr>\n",
       "      <th>crp__fft_coefficient__attr_\"\"\"\"\"\"\"\"imag\"\"\"\"\"\"\"\"__coeff_66</th>\n",
       "      <td>crp__fft_coefficient__attr_\"\"\"\"\"\"\"\"imag\"\"\"\"\"\"\"...</td>\n",
       "      <td>0.000000</td>\n",
       "    </tr>\n",
       "    <tr>\n",
       "      <th>crp__fft_coefficient__attr_\"\"\"\"\"\"\"\"imag\"\"\"\"\"\"\"\"__coeff_67</th>\n",
       "      <td>crp__fft_coefficient__attr_\"\"\"\"\"\"\"\"imag\"\"\"\"\"\"\"...</td>\n",
       "      <td>0.000000</td>\n",
       "    </tr>\n",
       "    <tr>\n",
       "      <th>cat8</th>\n",
       "      <td>cat8</td>\n",
       "      <td>0.000000</td>\n",
       "    </tr>\n",
       "  </tbody>\n",
       "</table>\n",
       "<p>6924 rows × 2 columns</p>\n",
       "</div>"
      ]
     },
     "metadata": {},
     "execution_count": 29
    }
   ],
   "metadata": {}
  },
  {
   "cell_type": "markdown",
   "source": [
    "## Features and Target Input for Training "
   ],
   "metadata": {}
  },
  {
   "cell_type": "code",
   "execution_count": 30,
   "source": [
    "dropped_cols = list(df_rm_intrain.columns[-18:])\n",
    "dropped_cols.remove('age.init')"
   ],
   "outputs": [],
   "metadata": {}
  },
  {
   "cell_type": "code",
   "execution_count": 31,
   "source": [
    "X = df_rm_intrain.drop(dropped_cols,axis=1).copy()\n",
    "y = df_rm_intrain['cat7']\n",
    "X.shape, y.shape"
   ],
   "outputs": [
    {
     "output_type": "execute_result",
     "data": {
      "text/plain": [
       "((3708, 6907), (3708,))"
      ]
     },
     "metadata": {},
     "execution_count": 31
    }
   ],
   "metadata": {}
  },
  {
   "cell_type": "code",
   "execution_count": 32,
   "source": [
    "y_mapped = y.map({'non_eskd':'no', 'eskd':'yes'})\n",
    "y_mapped"
   ],
   "outputs": [
    {
     "output_type": "execute_result",
     "data": {
      "text/plain": [
       "id\n",
       "3916     no\n",
       "3918     no\n",
       "3921     no\n",
       "3924     no\n",
       "3930     no\n",
       "         ..\n",
       "23771    no\n",
       "23775    no\n",
       "23780    no\n",
       "23823    no\n",
       "23864    no\n",
       "Name: cat7, Length: 3708, dtype: category\n",
       "Categories (2, object): ['yes', 'no']"
      ]
     },
     "metadata": {},
     "execution_count": 32
    }
   ],
   "metadata": {}
  },
  {
   "cell_type": "code",
   "execution_count": 33,
   "source": [
    "X_train, X_test, y_train, y_test = train_test_split(X, y_mapped, test_size=0.3, stratify=y_mapped, random_state=random_state)\n",
    "X_train.shape, X_test.shape, y_train.shape, y_test.shape"
   ],
   "outputs": [
    {
     "output_type": "execute_result",
     "data": {
      "text/plain": [
       "((2595, 6907), (1113, 6907), (2595,), (1113,))"
      ]
     },
     "metadata": {},
     "execution_count": 33
    }
   ],
   "metadata": {}
  },
  {
   "cell_type": "code",
   "execution_count": 34,
   "source": [
    "lab_encode = LabelEncoder()\n",
    "y_train = lab_encode.fit_transform(y_train)\n",
    "y_test = lab_encode.transform(y_test)"
   ],
   "outputs": [],
   "metadata": {}
  },
  {
   "cell_type": "code",
   "execution_count": 35,
   "source": [
    "unique_values, counts = np.unique(y_train, return_counts=True)\n",
    "ratio = dict(zip(unique_values, counts))\n",
    "ratio"
   ],
   "outputs": [
    {
     "output_type": "execute_result",
     "data": {
      "text/plain": [
       "{0: 2282, 1: 313}"
      ]
     },
     "metadata": {},
     "execution_count": 35
    }
   ],
   "metadata": {}
  },
  {
   "cell_type": "code",
   "execution_count": 36,
   "source": [
    "imbalance_ratio = ratio[0] / ratio[1]\n",
    "imbalance_ratio"
   ],
   "outputs": [
    {
     "output_type": "execute_result",
     "data": {
      "text/plain": [
       "7.2907348242811505"
      ]
     },
     "metadata": {},
     "execution_count": 36
    }
   ],
   "metadata": {}
  },
  {
   "cell_type": "code",
   "execution_count": 44,
   "source": [
    "category_cols = list(X_train.select_dtypes(include='category').columns)\n",
    "numeric_cols = list(X_train.select_dtypes(include=['int', 'float']).columns)\n",
    "one_hot = OneHotEncoder(handle_unknown='ignore')\n",
    "num_imputer = KNNImputer(n_neighbors=5)\n",
    "len(category_cols), len(numeric_cols)"
   ],
   "outputs": [
    {
     "output_type": "execute_result",
     "data": {
      "text/plain": [
       "(1828, 5079)"
      ]
     },
     "metadata": {},
     "execution_count": 44
    }
   ],
   "metadata": {}
  },
  {
   "cell_type": "code",
   "execution_count": 45,
   "source": [
    "preprocess = ColumnTransformer([('num_imputing', num_imputer, numeric_cols), ('cat_encoder', one_hot, category_cols)], remainder='passthrough')\n",
    "X_train_processed = preprocess.fit_transform(X_train)\n",
    "X_train_processed.shape"
   ],
   "outputs": [
    {
     "output_type": "stream",
     "name": "stderr",
     "text": [
      "invalid value encountered in reduce\n",
      "invalid value encountered in reduce\n",
      "invalid value encountered in reduce\n",
      "invalid value encountered in reduce\n"
     ]
    },
    {
     "output_type": "execute_result",
     "data": {
      "text/plain": [
       "(2595, 9470)"
      ]
     },
     "metadata": {},
     "execution_count": 45
    }
   ],
   "metadata": {}
  },
  {
   "cell_type": "code",
   "execution_count": 46,
   "source": [
    "X_test_processed = preprocess.transform(X_test)"
   ],
   "outputs": [
    {
     "output_type": "stream",
     "name": "stderr",
     "text": [
      "invalid value encountered in reduce\n",
      "invalid value encountered in reduce\n",
      "invalid value encountered in reduce\n"
     ]
    }
   ],
   "metadata": {}
  },
  {
   "cell_type": "code",
   "execution_count": 48,
   "source": [
    "xgb_class = xgb.XGBClassifier(n_jobs=-1, random_state = random_state, n_estimators=1000, use_label_encoder=False, eval_metric='logloss', scale_pos_weight=imbalance_ratio)\n",
    "sampler = SMOTETomek(sampling_strategy=0.5, random_state=random_state)\n",
    "steps = [('resampling', sampler), ('model', xgb_class)]\n",
    "pipeline = Pipeline(steps=steps)"
   ],
   "outputs": [],
   "metadata": {}
  },
  {
   "cell_type": "code",
   "execution_count": 50,
   "source": [
    "pipeline.fit(X_train_processed, y_train)"
   ],
   "outputs": [
    {
     "output_type": "execute_result",
     "data": {
      "text/plain": [
       "Pipeline(steps=[('resampling',\n",
       "                 SMOTETomek(random_state=7, sampling_strategy=0.5)),\n",
       "                ('model',\n",
       "                 XGBClassifier(base_score=0.5, booster='gbtree',\n",
       "                               colsample_bylevel=1, colsample_bynode=1,\n",
       "                               colsample_bytree=1, eval_metric='logloss',\n",
       "                               gamma=0, gpu_id=-1, importance_type='gain',\n",
       "                               interaction_constraints='',\n",
       "                               learning_rate=0.300000012, max_delta_step=0,\n",
       "                               max_depth=6, min_child_weight=1, missing=nan,\n",
       "                               monotone_constraints='()', n_estimators=1000,\n",
       "                               n_jobs=-1, num_parallel_tree=1, random_state=7,\n",
       "                               reg_alpha=0, reg_lambda=1,\n",
       "                               scale_pos_weight=7.2907348242811505, subsample=1,\n",
       "                               tree_method='exact', use_label_encoder=False,\n",
       "                               validate_parameters=1, verbosity=None))])"
      ]
     },
     "metadata": {},
     "execution_count": 50
    }
   ],
   "metadata": {}
  },
  {
   "cell_type": "code",
   "execution_count": 51,
   "source": [
    "y_pred = pipeline.predict(X_test_processed)"
   ],
   "outputs": [],
   "metadata": {}
  },
  {
   "cell_type": "code",
   "execution_count": 144,
   "source": [
    "y_pred_prob = (pipeline.predict_proba(X_test)[:,1] >= 0.3).astype(bool)\n",
    "y_pred_prob"
   ],
   "outputs": [
    {
     "output_type": "execute_result",
     "data": {
      "text/plain": [
       "array([False,  True, False, ..., False, False, False])"
      ]
     },
     "metadata": {},
     "execution_count": 144
    }
   ],
   "metadata": {}
  },
  {
   "cell_type": "code",
   "execution_count": 147,
   "source": [
    "y_pred_prob = y_pred_prob.astype(int)\n",
    "y_pred_prob"
   ],
   "outputs": [
    {
     "output_type": "execute_result",
     "data": {
      "text/plain": [
       "array([0, 1, 0, ..., 0, 0, 0])"
      ]
     },
     "metadata": {},
     "execution_count": 147
    }
   ],
   "metadata": {}
  },
  {
   "cell_type": "code",
   "execution_count": 52,
   "source": [
    "confusion_matrix(y_true=y_test, y_pred=y_pred)"
   ],
   "outputs": [
    {
     "output_type": "execute_result",
     "data": {
      "text/plain": [
       "array([[935,  44],\n",
       "       [ 79,  55]])"
      ]
     },
     "metadata": {},
     "execution_count": 52
    }
   ],
   "metadata": {}
  },
  {
   "cell_type": "code",
   "execution_count": 54,
   "source": [
    "roc_auc_score(y_test, y_pred)"
   ],
   "outputs": [
    {
     "output_type": "execute_result",
     "data": {
      "text/plain": [
       "0.6827519704846554"
      ]
     },
     "metadata": {},
     "execution_count": 54
    }
   ],
   "metadata": {}
  },
  {
   "cell_type": "code",
   "execution_count": 55,
   "source": [
    "print(classification_report(y_true=y_test, y_pred=y_pred))"
   ],
   "outputs": [
    {
     "output_type": "stream",
     "name": "stdout",
     "text": [
      "              precision    recall  f1-score   support\n",
      "\n",
      "           0       0.92      0.96      0.94       979\n",
      "           1       0.56      0.41      0.47       134\n",
      "\n",
      "    accuracy                           0.89      1113\n",
      "   macro avg       0.74      0.68      0.71      1113\n",
      "weighted avg       0.88      0.89      0.88      1113\n",
      "\n"
     ]
    }
   ],
   "metadata": {}
  },
  {
   "cell_type": "code",
   "execution_count": 56,
   "source": [
    "print(matthews_corrcoef(y_test, y_pred))"
   ],
   "outputs": [
    {
     "output_type": "stream",
     "name": "stdout",
     "text": [
      "0.41782962996968953\n"
     ]
    }
   ],
   "metadata": {}
  },
  {
   "cell_type": "code",
   "execution_count": null,
   "source": [],
   "outputs": [],
   "metadata": {}
  }
 ],
 "metadata": {
  "kernelspec": {
   "name": "python3",
   "display_name": "Python 3.9.5 64-bit ('ml_dl': conda)"
  },
  "language_info": {
   "codemirror_mode": {
    "name": "ipython",
    "version": 3
   },
   "file_extension": ".py",
   "mimetype": "text/x-python",
   "name": "python",
   "nbconvert_exporter": "python",
   "pygments_lexer": "ipython3",
   "version": "3.9.5"
  },
  "interpreter": {
   "hash": "252eb11dec6c7c75d43c93f623bff35f4a463f74afda1ad8986a53442394c969"
  }
 },
 "nbformat": 4,
 "nbformat_minor": 5
}