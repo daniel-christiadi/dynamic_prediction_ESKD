{
 "cells": [
  {
   "cell_type": "code",
   "execution_count": 1,
   "source": [
    "import numpy as np\n",
    "import pandas as pd\n",
    "import xgboost as xgb\n",
    "import shap\n",
    "from sklearn.preprocessing import OneHotEncoder, LabelEncoder\n",
    "from sklearn.compose import ColumnTransformer\n",
    "from sklearn.model_selection import train_test_split, StratifiedKFold, cross_validate, cross_val_score, cross_val_predict\n",
    "from sklearn.metrics import matthews_corrcoef, confusion_matrix, roc_auc_score, classification_report\n",
    "from imblearn.over_sampling import SMOTE\n",
    "from imblearn.under_sampling import RandomUnderSampler\n",
    "from imblearn.combine import SMOTETomek\n",
    "from imblearn.pipeline import Pipeline\n",
    "from sklearn.metrics import recall_score, accuracy_score\n",
    "from sklearn.impute import KNNImputer, SimpleImputer"
   ],
   "outputs": [],
   "metadata": {}
  },
  {
   "cell_type": "code",
   "execution_count": 2,
   "source": [
    "random_state = 7\n",
    "cv_method = StratifiedKFold(n_splits=5)"
   ],
   "outputs": [],
   "metadata": {}
  },
  {
   "cell_type": "markdown",
   "source": [
    "# Training of tsfresh-selected Training Max 2 years and eGFR 6 times"
   ],
   "metadata": {}
  },
  {
   "cell_type": "code",
   "execution_count": 4,
   "source": [
    "df = pd.read_csv('/home/jupyter-dchristiadi85/PhD Project 1/data/train_selected_2_6.gz')\n",
    "df.shape"
   ],
   "outputs": [
    {
     "output_type": "execute_result",
     "data": {
      "text/plain": [
       "(4965, 23639)"
      ]
     },
     "metadata": {},
     "execution_count": 4
    }
   ],
   "metadata": {}
  },
  {
   "cell_type": "code",
   "execution_count": 5,
   "source": [
    "df.info()"
   ],
   "outputs": [
    {
     "output_type": "stream",
     "name": "stdout",
     "text": [
      "<class 'pandas.core.frame.DataFrame'>\n",
      "RangeIndex: 4965 entries, 0 to 4964\n",
      "Columns: 23639 entries, id to cat8\n",
      "dtypes: float64(23617), int64(2), object(20)\n",
      "memory usage: 895.4+ MB\n"
     ]
    }
   ],
   "metadata": {}
  },
  {
   "cell_type": "code",
   "execution_count": 12,
   "source": [
    "df['aki_1'].fillna(value=0, inplace=True)\n",
    "df['aki_2'].fillna(value=0, inplace=True)\n",
    "df['aki_3'].fillna(value=0, inplace=True)"
   ],
   "outputs": [],
   "metadata": {}
  },
  {
   "cell_type": "code",
   "execution_count": 15,
   "source": [
    "df['gn'].value_counts()"
   ],
   "outputs": [
    {
     "output_type": "execute_result",
     "data": {
      "text/plain": [
       "no                 4508\n",
       "igan                184\n",
       "anca                 85\n",
       "lupus nephritis      45\n",
       "membranous           36\n",
       "unspecific           29\n",
       "fsgs                 27\n",
       "mcd                  24\n",
       "mp/mcgn              19\n",
       "fgn/itg               6\n",
       "pign                  2\n",
       "Name: gn, dtype: int64"
      ]
     },
     "metadata": {},
     "execution_count": 15
    }
   ],
   "metadata": {}
  },
  {
   "cell_type": "code",
   "execution_count": 16,
   "source": [
    "df.loc[df.gn == 'pign', 'gn'] = 'unspecific'\n",
    "df.loc[df.gn == 'fgn/itg', 'gn'] = 'unspecific'"
   ],
   "outputs": [],
   "metadata": {}
  },
  {
   "cell_type": "code",
   "execution_count": 17,
   "source": [
    "percent_missing = df.isnull().sum()*100 / len(df)\n",
    "missing_df = pd.DataFrame({'column_name': df.columns, 'percent_miss': percent_missing})"
   ],
   "outputs": [],
   "metadata": {}
  },
  {
   "cell_type": "code",
   "execution_count": 18,
   "source": [
    "missing_df.sort_values(by='percent_miss', ascending=False)"
   ],
   "outputs": [
    {
     "output_type": "execute_result",
     "data": {
      "text/plain": [
       "                                                                                          column_name  \\\n",
       "crp__fft_coefficient__attr_\"\"\"\"\"\"\"\"real\"\"\"\"\"\"\"\"...  crp__fft_coefficient__attr_\"\"\"\"\"\"\"\"real\"\"\"\"\"\"\"...   \n",
       "crp__fft_coefficient__attr_\"\"\"\"\"\"\"\"angle\"\"\"\"\"\"\"...  crp__fft_coefficient__attr_\"\"\"\"\"\"\"\"angle\"\"\"\"\"\"...   \n",
       "crp__fft_coefficient__attr_\"\"\"\"\"\"\"\"angle\"\"\"\"\"\"\"...  crp__fft_coefficient__attr_\"\"\"\"\"\"\"\"angle\"\"\"\"\"\"...   \n",
       "crp__fft_coefficient__attr_\"\"\"\"\"\"\"\"angle\"\"\"\"\"\"\"...  crp__fft_coefficient__attr_\"\"\"\"\"\"\"\"angle\"\"\"\"\"\"...   \n",
       "crp__fft_coefficient__attr_\"\"\"\"\"\"\"\"angle\"\"\"\"\"\"\"...  crp__fft_coefficient__attr_\"\"\"\"\"\"\"\"angle\"\"\"\"\"\"...   \n",
       "...                                                                                               ...   \n",
       "htn                                                                                               htn   \n",
       "aki_3                                                                                           aki_3   \n",
       "aki_2                                                                                           aki_2   \n",
       "aki_1                                                                                           aki_1   \n",
       "cat8                                                                                             cat8   \n",
       "\n",
       "                                                    percent_miss  \n",
       "crp__fft_coefficient__attr_\"\"\"\"\"\"\"\"real\"\"\"\"\"\"\"\"...         100.0  \n",
       "crp__fft_coefficient__attr_\"\"\"\"\"\"\"\"angle\"\"\"\"\"\"\"...         100.0  \n",
       "crp__fft_coefficient__attr_\"\"\"\"\"\"\"\"angle\"\"\"\"\"\"\"...         100.0  \n",
       "crp__fft_coefficient__attr_\"\"\"\"\"\"\"\"angle\"\"\"\"\"\"\"...         100.0  \n",
       "crp__fft_coefficient__attr_\"\"\"\"\"\"\"\"angle\"\"\"\"\"\"\"...         100.0  \n",
       "...                                                          ...  \n",
       "htn                                                          0.0  \n",
       "aki_3                                                        0.0  \n",
       "aki_2                                                        0.0  \n",
       "aki_1                                                        0.0  \n",
       "cat8                                                         0.0  \n",
       "\n",
       "[23639 rows x 2 columns]"
      ],
      "text/html": [
       "<div>\n",
       "<style scoped>\n",
       "    .dataframe tbody tr th:only-of-type {\n",
       "        vertical-align: middle;\n",
       "    }\n",
       "\n",
       "    .dataframe tbody tr th {\n",
       "        vertical-align: top;\n",
       "    }\n",
       "\n",
       "    .dataframe thead th {\n",
       "        text-align: right;\n",
       "    }\n",
       "</style>\n",
       "<table border=\"1\" class=\"dataframe\">\n",
       "  <thead>\n",
       "    <tr style=\"text-align: right;\">\n",
       "      <th></th>\n",
       "      <th>column_name</th>\n",
       "      <th>percent_miss</th>\n",
       "    </tr>\n",
       "  </thead>\n",
       "  <tbody>\n",
       "    <tr>\n",
       "      <th>crp__fft_coefficient__attr_\"\"\"\"\"\"\"\"real\"\"\"\"\"\"\"\"__coeff_97</th>\n",
       "      <td>crp__fft_coefficient__attr_\"\"\"\"\"\"\"\"real\"\"\"\"\"\"\"...</td>\n",
       "      <td>100.0</td>\n",
       "    </tr>\n",
       "    <tr>\n",
       "      <th>crp__fft_coefficient__attr_\"\"\"\"\"\"\"\"angle\"\"\"\"\"\"\"\"__coeff_88</th>\n",
       "      <td>crp__fft_coefficient__attr_\"\"\"\"\"\"\"\"angle\"\"\"\"\"\"...</td>\n",
       "      <td>100.0</td>\n",
       "    </tr>\n",
       "    <tr>\n",
       "      <th>crp__fft_coefficient__attr_\"\"\"\"\"\"\"\"angle\"\"\"\"\"\"\"\"__coeff_68</th>\n",
       "      <td>crp__fft_coefficient__attr_\"\"\"\"\"\"\"\"angle\"\"\"\"\"\"...</td>\n",
       "      <td>100.0</td>\n",
       "    </tr>\n",
       "    <tr>\n",
       "      <th>crp__fft_coefficient__attr_\"\"\"\"\"\"\"\"angle\"\"\"\"\"\"\"\"__coeff_69</th>\n",
       "      <td>crp__fft_coefficient__attr_\"\"\"\"\"\"\"\"angle\"\"\"\"\"\"...</td>\n",
       "      <td>100.0</td>\n",
       "    </tr>\n",
       "    <tr>\n",
       "      <th>crp__fft_coefficient__attr_\"\"\"\"\"\"\"\"angle\"\"\"\"\"\"\"\"__coeff_70</th>\n",
       "      <td>crp__fft_coefficient__attr_\"\"\"\"\"\"\"\"angle\"\"\"\"\"\"...</td>\n",
       "      <td>100.0</td>\n",
       "    </tr>\n",
       "    <tr>\n",
       "      <th>...</th>\n",
       "      <td>...</td>\n",
       "      <td>...</td>\n",
       "    </tr>\n",
       "    <tr>\n",
       "      <th>htn</th>\n",
       "      <td>htn</td>\n",
       "      <td>0.0</td>\n",
       "    </tr>\n",
       "    <tr>\n",
       "      <th>aki_3</th>\n",
       "      <td>aki_3</td>\n",
       "      <td>0.0</td>\n",
       "    </tr>\n",
       "    <tr>\n",
       "      <th>aki_2</th>\n",
       "      <td>aki_2</td>\n",
       "      <td>0.0</td>\n",
       "    </tr>\n",
       "    <tr>\n",
       "      <th>aki_1</th>\n",
       "      <td>aki_1</td>\n",
       "      <td>0.0</td>\n",
       "    </tr>\n",
       "    <tr>\n",
       "      <th>cat8</th>\n",
       "      <td>cat8</td>\n",
       "      <td>0.0</td>\n",
       "    </tr>\n",
       "  </tbody>\n",
       "</table>\n",
       "<p>23639 rows × 2 columns</p>\n",
       "</div>"
      ]
     },
     "metadata": {},
     "execution_count": 18
    }
   ],
   "metadata": {}
  },
  {
   "cell_type": "markdown",
   "source": [
    "### Number of patients reaching ESKD within training period "
   ],
   "metadata": {}
  },
  {
   "cell_type": "code",
   "execution_count": 19,
   "source": [
    "df['cat2'].value_counts()"
   ],
   "outputs": [
    {
     "output_type": "execute_result",
     "data": {
      "text/plain": [
       "non_eskd    3708\n",
       "eskd        1257\n",
       "Name: cat2, dtype: int64"
      ]
     },
     "metadata": {},
     "execution_count": 19
    }
   ],
   "metadata": {}
  },
  {
   "cell_type": "code",
   "execution_count": 20,
   "source": [
    "df.set_index('id', inplace=True)"
   ],
   "outputs": [],
   "metadata": {}
  },
  {
   "cell_type": "code",
   "execution_count": 3,
   "source": [
    "def to_category(df):\n",
    "    cols = df.select_dtypes(include='object').columns\n",
    "    for col in cols:\n",
    "        df[col] = df[col].astype('category')\n",
    "    return df\n",
    "\n",
    "def drop_missing(df):\n",
    "    threshold = len(df)*0.6\n",
    "    df.dropna(axis=1, thresh=threshold, inplace=True)\n",
    "    return df\n",
    "\n",
    "def copy_df(df):\n",
    "    return df.copy()"
   ],
   "outputs": [],
   "metadata": {}
  },
  {
   "cell_type": "code",
   "execution_count": 22,
   "source": [
    "df_cleaned = (df.pipe(copy_df).pipe(drop_missing).pipe(to_category))\n",
    "df_cleaned.shape"
   ],
   "outputs": [
    {
     "output_type": "execute_result",
     "data": {
      "text/plain": [
       "(4965, 6718)"
      ]
     },
     "metadata": {},
     "execution_count": 22
    }
   ],
   "metadata": {}
  },
  {
   "cell_type": "code",
   "execution_count": 23,
   "source": [
    "df_rm_intrain = df_cleaned.query(\"cat2 == 'non_eskd'\")\n",
    "df_rm_intrain.shape"
   ],
   "outputs": [
    {
     "output_type": "execute_result",
     "data": {
      "text/plain": [
       "(3708, 6718)"
      ]
     },
     "metadata": {},
     "execution_count": 23
    }
   ],
   "metadata": {}
  },
  {
   "cell_type": "code",
   "execution_count": 18,
   "source": [
    "df_rm_intrain = pd.read_csv('../data/cleaned60_selected_2_6.gz', index_col='id')"
   ],
   "outputs": [],
   "metadata": {}
  },
  {
   "cell_type": "code",
   "execution_count": 19,
   "source": [
    "df_rm_intrain.info()"
   ],
   "outputs": [
    {
     "output_type": "stream",
     "name": "stdout",
     "text": [
      "<class 'pandas.core.frame.DataFrame'>\n",
      "Int64Index: 3708 entries, 3916 to 23864\n",
      "Columns: 6718 entries, ureacreat_ratio__variance_larger_than_standard_deviation to cat8\n",
      "dtypes: float64(6697), int64(1), object(20)\n",
      "memory usage: 190.1+ MB\n"
     ]
    }
   ],
   "metadata": {}
  },
  {
   "cell_type": "code",
   "execution_count": 20,
   "source": [
    "df_rm_intrain = (df_rm_intrain.pipe(copy_df).pipe(to_category))\n",
    "df_rm_intrain.info()"
   ],
   "outputs": [
    {
     "output_type": "stream",
     "name": "stdout",
     "text": [
      "<class 'pandas.core.frame.DataFrame'>\n",
      "Int64Index: 3708 entries, 3916 to 23864\n",
      "Columns: 6718 entries, ureacreat_ratio__variance_larger_than_standard_deviation to cat8\n",
      "dtypes: category(20), float64(6697), int64(1)\n",
      "memory usage: 189.6 MB\n"
     ]
    }
   ],
   "metadata": {}
  },
  {
   "cell_type": "markdown",
   "source": [
    "### Number of patients reaching ESKD in at 1y post-training "
   ],
   "metadata": {}
  },
  {
   "cell_type": "code",
   "execution_count": 26,
   "source": [
    "df_rm_intrain['cat3'].value_counts()"
   ],
   "outputs": [
    {
     "output_type": "execute_result",
     "data": {
      "text/plain": [
       "non_eskd    3586\n",
       "eskd         122\n",
       "Name: cat3, dtype: int64"
      ]
     },
     "metadata": {},
     "execution_count": 26
    }
   ],
   "metadata": {}
  },
  {
   "cell_type": "markdown",
   "source": [
    "### Number of patients reaching ESKD in 2y post-training"
   ],
   "metadata": {}
  },
  {
   "cell_type": "code",
   "execution_count": 27,
   "source": [
    "df_rm_intrain['cat4'].value_counts()"
   ],
   "outputs": [
    {
     "output_type": "execute_result",
     "data": {
      "text/plain": [
       "non_eskd    3484\n",
       "eskd         224\n",
       "Name: cat4, dtype: int64"
      ]
     },
     "metadata": {},
     "execution_count": 27
    }
   ],
   "metadata": {}
  },
  {
   "cell_type": "markdown",
   "source": [
    "### Number of patients reaching ESKD in 5y post-training"
   ],
   "metadata": {}
  },
  {
   "cell_type": "code",
   "execution_count": 28,
   "source": [
    "df_rm_intrain['cat7'].value_counts()"
   ],
   "outputs": [
    {
     "output_type": "execute_result",
     "data": {
      "text/plain": [
       "non_eskd    3261\n",
       "eskd         447\n",
       "Name: cat7, dtype: int64"
      ]
     },
     "metadata": {},
     "execution_count": 28
    }
   ],
   "metadata": {}
  },
  {
   "cell_type": "code",
   "execution_count": 29,
   "source": [
    "percent_missing = df_rm_intrain.isnull().sum()*100 / len(df_rm_intrain)\n",
    "missing_df_rm_intrain = pd.DataFrame({'column_name': df_rm_intrain.columns, 'percent_miss': percent_missing})"
   ],
   "outputs": [],
   "metadata": {}
  },
  {
   "cell_type": "code",
   "execution_count": 30,
   "source": [
    "missing_df_rm_intrain.sort_values(by='percent_miss', ascending=False)"
   ],
   "outputs": [
    {
     "output_type": "execute_result",
     "data": {
      "text/plain": [
       "                                                                                          column_name  \\\n",
       "chloride__augmented_dickey_fuller__attr_\"\"\"\"\"\"\"...  chloride__augmented_dickey_fuller__attr_\"\"\"\"\"\"...   \n",
       "chloride__augmented_dickey_fuller__attr_\"\"\"\"\"\"\"...  chloride__augmented_dickey_fuller__attr_\"\"\"\"\"\"...   \n",
       "chloride__partial_autocorrelation__lag_1                     chloride__partial_autocorrelation__lag_1   \n",
       "chloride__autocorrelation__lag_3                                     chloride__autocorrelation__lag_3   \n",
       "chloride__fft_coefficient__attr_\"\"\"\"\"\"\"\"abs\"\"\"\"...  chloride__fft_coefficient__attr_\"\"\"\"\"\"\"\"abs\"\"\"...   \n",
       "...                                                                                               ...   \n",
       "dkd                                                                                               dkd   \n",
       "htn                                                                                               htn   \n",
       "aki_3                                                                                           aki_3   \n",
       "aki_2                                                                                           aki_2   \n",
       "cat8                                                                                             cat8   \n",
       "\n",
       "                                                    percent_miss  \n",
       "chloride__augmented_dickey_fuller__attr_\"\"\"\"\"\"\"...     51.024811  \n",
       "chloride__augmented_dickey_fuller__attr_\"\"\"\"\"\"\"...     51.024811  \n",
       "chloride__partial_autocorrelation__lag_1               51.024811  \n",
       "chloride__autocorrelation__lag_3                       51.024811  \n",
       "chloride__fft_coefficient__attr_\"\"\"\"\"\"\"\"abs\"\"\"\"...     50.970874  \n",
       "...                                                          ...  \n",
       "dkd                                                     0.000000  \n",
       "htn                                                     0.000000  \n",
       "aki_3                                                   0.000000  \n",
       "aki_2                                                   0.000000  \n",
       "cat8                                                    0.000000  \n",
       "\n",
       "[6718 rows x 2 columns]"
      ],
      "text/html": [
       "<div>\n",
       "<style scoped>\n",
       "    .dataframe tbody tr th:only-of-type {\n",
       "        vertical-align: middle;\n",
       "    }\n",
       "\n",
       "    .dataframe tbody tr th {\n",
       "        vertical-align: top;\n",
       "    }\n",
       "\n",
       "    .dataframe thead th {\n",
       "        text-align: right;\n",
       "    }\n",
       "</style>\n",
       "<table border=\"1\" class=\"dataframe\">\n",
       "  <thead>\n",
       "    <tr style=\"text-align: right;\">\n",
       "      <th></th>\n",
       "      <th>column_name</th>\n",
       "      <th>percent_miss</th>\n",
       "    </tr>\n",
       "  </thead>\n",
       "  <tbody>\n",
       "    <tr>\n",
       "      <th>chloride__augmented_dickey_fuller__attr_\"\"\"\"\"\"\"\"pvalue\"\"\"\"\"\"\"\"__autolag_\"\"\"\"\"\"\"\"AIC\"\"\"\"\"\"\"\"</th>\n",
       "      <td>chloride__augmented_dickey_fuller__attr_\"\"\"\"\"\"...</td>\n",
       "      <td>51.024811</td>\n",
       "    </tr>\n",
       "    <tr>\n",
       "      <th>chloride__augmented_dickey_fuller__attr_\"\"\"\"\"\"\"\"teststat\"\"\"\"\"\"\"\"__autolag_\"\"\"\"\"\"\"\"AIC\"\"\"\"\"\"\"\"</th>\n",
       "      <td>chloride__augmented_dickey_fuller__attr_\"\"\"\"\"\"...</td>\n",
       "      <td>51.024811</td>\n",
       "    </tr>\n",
       "    <tr>\n",
       "      <th>chloride__partial_autocorrelation__lag_1</th>\n",
       "      <td>chloride__partial_autocorrelation__lag_1</td>\n",
       "      <td>51.024811</td>\n",
       "    </tr>\n",
       "    <tr>\n",
       "      <th>chloride__autocorrelation__lag_3</th>\n",
       "      <td>chloride__autocorrelation__lag_3</td>\n",
       "      <td>51.024811</td>\n",
       "    </tr>\n",
       "    <tr>\n",
       "      <th>chloride__fft_coefficient__attr_\"\"\"\"\"\"\"\"abs\"\"\"\"\"\"\"\"__coeff_2</th>\n",
       "      <td>chloride__fft_coefficient__attr_\"\"\"\"\"\"\"\"abs\"\"\"...</td>\n",
       "      <td>50.970874</td>\n",
       "    </tr>\n",
       "    <tr>\n",
       "      <th>...</th>\n",
       "      <td>...</td>\n",
       "      <td>...</td>\n",
       "    </tr>\n",
       "    <tr>\n",
       "      <th>dkd</th>\n",
       "      <td>dkd</td>\n",
       "      <td>0.000000</td>\n",
       "    </tr>\n",
       "    <tr>\n",
       "      <th>htn</th>\n",
       "      <td>htn</td>\n",
       "      <td>0.000000</td>\n",
       "    </tr>\n",
       "    <tr>\n",
       "      <th>aki_3</th>\n",
       "      <td>aki_3</td>\n",
       "      <td>0.000000</td>\n",
       "    </tr>\n",
       "    <tr>\n",
       "      <th>aki_2</th>\n",
       "      <td>aki_2</td>\n",
       "      <td>0.000000</td>\n",
       "    </tr>\n",
       "    <tr>\n",
       "      <th>cat8</th>\n",
       "      <td>cat8</td>\n",
       "      <td>0.000000</td>\n",
       "    </tr>\n",
       "  </tbody>\n",
       "</table>\n",
       "<p>6718 rows × 2 columns</p>\n",
       "</div>"
      ]
     },
     "metadata": {},
     "execution_count": 30
    }
   ],
   "metadata": {}
  },
  {
   "cell_type": "markdown",
   "source": [
    "## ESKD Prediction 5 years post-training"
   ],
   "metadata": {}
  },
  {
   "cell_type": "code",
   "execution_count": 21,
   "source": [
    "dropped_cols = list(df_rm_intrain.columns[-18:])\n",
    "dropped_cols.remove('age.init')\n",
    "dropped_cols"
   ],
   "outputs": [
    {
     "output_type": "execute_result",
     "data": {
      "text/plain": [
       "['egfr.y',\n",
       " 'cat0.5',\n",
       " 'cat1',\n",
       " 'cat1.5',\n",
       " 'cat2',\n",
       " 'cat2.5',\n",
       " 'cat3',\n",
       " 'cat3.5',\n",
       " 'cat4',\n",
       " 'cat4.5',\n",
       " 'cat5',\n",
       " 'cat5.5',\n",
       " 'cat6',\n",
       " 'cat6.5',\n",
       " 'cat7',\n",
       " 'cat7.5',\n",
       " 'cat8']"
      ]
     },
     "metadata": {},
     "execution_count": 21
    }
   ],
   "metadata": {}
  },
  {
   "cell_type": "code",
   "execution_count": 32,
   "source": [
    "X = df_rm_intrain.drop(dropped_cols,axis=1).copy()\n",
    "y = df_rm_intrain['cat7']\n",
    "X.shape, y.shape"
   ],
   "outputs": [
    {
     "output_type": "execute_result",
     "data": {
      "text/plain": [
       "((3708, 6701), (3708,))"
      ]
     },
     "metadata": {},
     "execution_count": 32
    }
   ],
   "metadata": {}
  },
  {
   "cell_type": "code",
   "execution_count": 33,
   "source": [
    "y_mapped = y.map({'non_eskd':'no', 'eskd':'yes'})\n",
    "y_mapped"
   ],
   "outputs": [
    {
     "output_type": "execute_result",
     "data": {
      "text/plain": [
       "id\n",
       "3916     no\n",
       "3918     no\n",
       "3921     no\n",
       "3924     no\n",
       "3930     no\n",
       "         ..\n",
       "23771    no\n",
       "23775    no\n",
       "23780    no\n",
       "23823    no\n",
       "23864    no\n",
       "Name: cat7, Length: 3708, dtype: category\n",
       "Categories (2, object): ['yes', 'no']"
      ]
     },
     "metadata": {},
     "execution_count": 33
    }
   ],
   "metadata": {}
  },
  {
   "cell_type": "code",
   "execution_count": 34,
   "source": [
    "X_train, X_test, y_train, y_test = train_test_split(X, y_mapped, test_size=0.3, stratify=y_mapped, random_state=random_state)\n",
    "X_train.shape, X_test.shape, y_train.shape, y_test.shape"
   ],
   "outputs": [
    {
     "output_type": "execute_result",
     "data": {
      "text/plain": [
       "((2595, 6701), (1113, 6701), (2595,), (1113,))"
      ]
     },
     "metadata": {},
     "execution_count": 34
    }
   ],
   "metadata": {}
  },
  {
   "cell_type": "code",
   "execution_count": 35,
   "source": [
    "lab_encode = LabelEncoder()\n",
    "y_train = lab_encode.fit_transform(y_train)\n",
    "y_test = lab_encode.transform(y_test)\n",
    "y_train.shape, y_test.shape"
   ],
   "outputs": [
    {
     "output_type": "execute_result",
     "data": {
      "text/plain": [
       "((2595,), (1113,))"
      ]
     },
     "metadata": {},
     "execution_count": 35
    }
   ],
   "metadata": {}
  },
  {
   "cell_type": "code",
   "execution_count": 37,
   "source": [
    "unique_values, counts = np.unique(y_train, return_counts=True)\n",
    "ratio = dict(zip(unique_values, counts))\n",
    "ratio"
   ],
   "outputs": [
    {
     "output_type": "execute_result",
     "data": {
      "text/plain": [
       "{0: 2282, 1: 313}"
      ]
     },
     "metadata": {},
     "execution_count": 37
    }
   ],
   "metadata": {}
  },
  {
   "cell_type": "code",
   "execution_count": 38,
   "source": [
    "imbalance_ratio = ratio[0] / ratio[1]\n",
    "imbalance_ratio"
   ],
   "outputs": [
    {
     "output_type": "execute_result",
     "data": {
      "text/plain": [
       "7.2907348242811505"
      ]
     },
     "metadata": {},
     "execution_count": 38
    }
   ],
   "metadata": {}
  },
  {
   "cell_type": "code",
   "execution_count": 39,
   "source": [
    "category_cols = list(X_train.select_dtypes(include='category').columns)\n",
    "numeric_cols = list(X_train.select_dtypes(include=['int', 'float']).columns)\n",
    "one_hot = OneHotEncoder(handle_unknown='ignore')\n",
    "num_imputer = KNNImputer(n_neighbors=5)\n",
    "len(category_cols), len(numeric_cols)"
   ],
   "outputs": [
    {
     "output_type": "execute_result",
     "data": {
      "text/plain": [
       "(4, 6697)"
      ]
     },
     "metadata": {},
     "execution_count": 39
    }
   ],
   "metadata": {}
  },
  {
   "cell_type": "code",
   "execution_count": 40,
   "source": [
    "preprocess = ColumnTransformer([('num_imputing', num_imputer, numeric_cols), ('cat_encoder', one_hot, category_cols)], remainder='passthrough')\n",
    "X_train_processed = preprocess.fit_transform(X_train)\n",
    "X_train_processed.shape"
   ],
   "outputs": [
    {
     "output_type": "execute_result",
     "data": {
      "text/plain": [
       "(2595, 6712)"
      ]
     },
     "metadata": {},
     "execution_count": 40
    }
   ],
   "metadata": {}
  },
  {
   "cell_type": "code",
   "execution_count": 41,
   "source": [
    "X_test_processed = preprocess.transform(X_test)"
   ],
   "outputs": [],
   "metadata": {}
  },
  {
   "cell_type": "code",
   "execution_count": 42,
   "source": [
    "xgb_class = xgb.XGBClassifier(n_jobs=-1, random_state = random_state, n_estimators=1000, use_label_encoder=False, eval_metric='logloss', scale_pos_weight=imbalance_ratio)\n",
    "sampler = SMOTETomek(sampling_strategy=0.5, random_state=random_state)\n",
    "steps = [('resampling', sampler), ('model', xgb_class)]\n",
    "pipeline = Pipeline(steps=steps)"
   ],
   "outputs": [],
   "metadata": {}
  },
  {
   "cell_type": "code",
   "execution_count": 43,
   "source": [
    "pipeline.fit(X_train_processed, y_train)"
   ],
   "outputs": [
    {
     "output_type": "execute_result",
     "data": {
      "text/plain": [
       "Pipeline(steps=[('resampling',\n",
       "                 SMOTETomek(random_state=7, sampling_strategy=0.5)),\n",
       "                ('model',\n",
       "                 XGBClassifier(base_score=0.5, booster='gbtree',\n",
       "                               colsample_bylevel=1, colsample_bynode=1,\n",
       "                               colsample_bytree=1, eval_metric='logloss',\n",
       "                               gamma=0, gpu_id=-1, importance_type='gain',\n",
       "                               interaction_constraints='',\n",
       "                               learning_rate=0.300000012, max_delta_step=0,\n",
       "                               max_depth=6, min_child_weight=1, missing=nan,\n",
       "                               monotone_constraints='()', n_estimators=1000,\n",
       "                               n_jobs=-1, num_parallel_tree=1, random_state=7,\n",
       "                               reg_alpha=0, reg_lambda=1,\n",
       "                               scale_pos_weight=7.2907348242811505, subsample=1,\n",
       "                               tree_method='exact', use_label_encoder=False,\n",
       "                               validate_parameters=1, verbosity=None))])"
      ]
     },
     "metadata": {},
     "execution_count": 43
    }
   ],
   "metadata": {}
  },
  {
   "cell_type": "code",
   "execution_count": 44,
   "source": [
    "y_pred = pipeline.predict(X_test_processed)"
   ],
   "outputs": [],
   "metadata": {}
  },
  {
   "cell_type": "code",
   "execution_count": 45,
   "source": [
    "confusion_matrix(y_true=y_test, y_pred=y_pred)"
   ],
   "outputs": [
    {
     "output_type": "execute_result",
     "data": {
      "text/plain": [
       "array([[944,  35],\n",
       "       [ 78,  56]])"
      ]
     },
     "metadata": {},
     "execution_count": 45
    }
   ],
   "metadata": {}
  },
  {
   "cell_type": "code",
   "execution_count": 46,
   "source": [
    "roc_auc_score(y_test, y_pred)"
   ],
   "outputs": [
    {
     "output_type": "execute_result",
     "data": {
      "text/plain": [
       "0.6910798408366746"
      ]
     },
     "metadata": {},
     "execution_count": 46
    }
   ],
   "metadata": {}
  },
  {
   "cell_type": "code",
   "execution_count": 47,
   "source": [
    "print(classification_report(y_true=y_test, y_pred=y_pred))"
   ],
   "outputs": [
    {
     "output_type": "stream",
     "name": "stdout",
     "text": [
      "              precision    recall  f1-score   support\n",
      "\n",
      "           0       0.92      0.96      0.94       979\n",
      "           1       0.62      0.42      0.50       134\n",
      "\n",
      "    accuracy                           0.90      1113\n",
      "   macro avg       0.77      0.69      0.72      1113\n",
      "weighted avg       0.89      0.90      0.89      1113\n",
      "\n"
     ]
    }
   ],
   "metadata": {}
  },
  {
   "cell_type": "code",
   "execution_count": 48,
   "source": [
    "print(matthews_corrcoef(y_test, y_pred))"
   ],
   "outputs": [
    {
     "output_type": "stream",
     "name": "stdout",
     "text": [
      "0.45388148545729956\n"
     ]
    }
   ],
   "metadata": {}
  },
  {
   "cell_type": "code",
   "execution_count": 49,
   "source": [
    "importance = pipeline.named_steps['model'].feature_importances_\n",
    "importance.shape, type(importance)"
   ],
   "outputs": [
    {
     "output_type": "execute_result",
     "data": {
      "text/plain": [
       "((6712,), numpy.ndarray)"
      ]
     },
     "metadata": {},
     "execution_count": 49
    }
   ],
   "metadata": {}
  },
  {
   "cell_type": "code",
   "execution_count": 50,
   "source": [
    "category_label = list(preprocess.named_transformers_['cat_encoder'].get_feature_names(category_cols))\n",
    "feature_label = numeric_cols + category_label\n",
    "len(feature_label)"
   ],
   "outputs": [
    {
     "output_type": "execute_result",
     "data": {
      "text/plain": [
       "6712"
      ]
     },
     "metadata": {},
     "execution_count": 50
    }
   ],
   "metadata": {}
  },
  {
   "cell_type": "code",
   "execution_count": 51,
   "source": [
    "pd.set_option('display.max_rows', 400)\n",
    "eval_df = pd.DataFrame({'label': feature_label, 'importance_value': importance})\n",
    "eval_df.sort_values(by='importance_value', ascending=False).head(100)"
   ],
   "outputs": [
    {
     "output_type": "execute_result",
     "data": {
      "text/plain": [
       "                                                  label  importance_value\n",
       "1815                                creatinine__maximum          0.038376\n",
       "5373           eosinophils__ratio_beyond_r_sigma__r_0.5          0.035860\n",
       "4714  ggt__energy_ratio_by_chunks__num_segments_10__...          0.020576\n",
       "1869                        creatinine__quantile__q_0.6          0.016749\n",
       "2208  egfr__change_quantiles__f_agg_\"\"\"\"\"\"\"\"mean\"\"\"\"...          0.013015\n",
       "4803  globulin__large_standard_deviation__r_0.350000...          0.012977\n",
       "2081     egfr__time_reversal_asymmetry_statistic__lag_1          0.012299\n",
       "2154                   egfr__index_mass_quantile__q_0.1          0.012202\n",
       "2210  egfr__change_quantiles__f_agg_\"\"\"\"\"\"\"\"mean\"\"\"\"...          0.010895\n",
       "5863                     mchc__symmetry_looking__r_0.05          0.010832\n",
       "3893  urea__large_standard_deviation__r_0.3000000000...          0.010056\n",
       "245          ureacreat_ratio__ratio_beyond_r_sigma__r_1          0.009943\n",
       "2203  egfr__change_quantiles__f_agg_\"\"\"\"\"\"\"\"var\"\"\"\"\"...          0.009429\n",
       "1809              creatinine__first_location_of_minimum          0.008500\n",
       "1090  calcium__large_standard_deviation__r_0.3000000...          0.008447\n",
       "643   albumin__cwt_coefficients__coeff_3__w_10__widt...          0.008243\n",
       "2576                              haemoglobin__skewness          0.008094\n",
       "2705  haemoglobin__change_quantiles__f_agg_\"\"\"\"\"\"\"\"m...          0.007623\n",
       "2248  egfr__fft_coefficient__attr_\"\"\"\"\"\"\"\"imag\"\"\"\"\"\"...          0.007464\n",
       "1738  chloride__linear_trend__attr_\"\"\"\"\"\"\"\"pvalue\"\"\"...          0.007447\n",
       "3867                      urea__cid_ce__normalize_False          0.007281\n",
       "4535                       ggt__absolute_sum_of_changes          0.007020\n",
       "2240  egfr__change_quantiles__f_agg_\"\"\"\"\"\"\"\"mean\"\"\"\"...          0.006746\n",
       "1866                        creatinine__quantile__q_0.2          0.006676\n",
       "392   wcc__change_quantiles__f_agg_\"\"\"\"\"\"\"\"mean\"\"\"\"\"...          0.006552\n",
       "4996                   protein__symmetry_looking__r_0.1          0.006498\n",
       "4995                  protein__symmetry_looking__r_0.05          0.006489\n",
       "3444  potassium__change_quantiles__f_agg_\"\"\"\"\"\"\"\"mea...          0.006386\n",
       "6482                                          rbc__mean          0.006249\n",
       "225   ureacreat_ratio__linear_trend__attr_\"\"\"\"\"\"\"\"in...          0.006219\n",
       "2148                            egfr__number_peaks__n_1          0.006125\n",
       "5366  eosinophils__energy_ratio_by_chunks__num_segme...          0.005963\n",
       "3833               urea__mean_second_derivative_central          0.005952\n",
       "5939  mchc__change_quantiles__f_agg_\"\"\"\"\"\"\"\"mean\"\"\"\"...          0.005784\n",
       "1138  calcium__cwt_coefficients__coeff_1__w_2__width...          0.005691\n",
       "6699                                            dkd_dkd          0.005679\n",
       "2409  glucose__agg_autocorrelation__f_agg_\"\"\"\"\"\"\"\"va...          0.005556\n",
       "5959  mchc__change_quantiles__f_agg_\"\"\"\"\"\"\"\"mean\"\"\"\"...          0.005553\n",
       "4222  alt__change_quantiles__f_agg_\"\"\"\"\"\"\"\"var\"\"\"\"\"\"...          0.005460\n",
       "1359             caphos_product__autocorrelation__lag_1          0.005347\n",
       "4823                          globulin__quantile__q_0.9          0.005192\n",
       "6596  rbc__change_quantiles__f_agg_\"\"\"\"\"\"\"\"mean\"\"\"\"\"...          0.005110\n",
       "4876  globulin__change_quantiles__f_agg_\"\"\"\"\"\"\"\"mean...          0.005064\n",
       "638   albumin__cwt_coefficients__coeff_2__w_5__width...          0.004991\n",
       "3201  platelet__change_quantiles__f_agg_\"\"\"\"\"\"\"\"mean...          0.004989\n",
       "4872  globulin__change_quantiles__f_agg_\"\"\"\"\"\"\"\"mean...          0.004847\n",
       "2212  egfr__change_quantiles__f_agg_\"\"\"\"\"\"\"\"mean\"\"\"\"...          0.004807\n",
       "2282  egfr__energy_ratio_by_chunks__num_segments_10_...          0.004804\n",
       "1705  chloride__change_quantiles__f_agg_\"\"\"\"\"\"\"\"mean...          0.004796\n",
       "23            ureacreat_ratio__last_location_of_maximum          0.004636\n",
       "2707  haemoglobin__change_quantiles__f_agg_\"\"\"\"\"\"\"\"m...          0.004560\n",
       "2566                            haemoglobin__abs_energy          0.004397\n",
       "1756  chloride__energy_ratio_by_chunks__num_segments...          0.004378\n",
       "553                                  albumin__c3__lag_2          0.004292\n",
       "5609                             mch__has_duplicate_min          0.004247\n",
       "1872                        creatinine__quantile__q_0.9          0.004202\n",
       "420   wcc__change_quantiles__f_agg_\"\"\"\"\"\"\"\"mean\"\"\"\"\"...          0.004200\n",
       "5636                           mch__benford_correlation          0.004162\n",
       "718   albumin__fft_coefficient__attr_\"\"\"\"\"\"\"\"angle\"\"...          0.004085\n",
       "1796                  creatinine__variation_coefficient          0.003989\n",
       "6478                                 rbc__has_duplicate          0.003963\n",
       "3909                              urea__quantile__q_0.3          0.003960\n",
       "1817                    creatinine__benford_correlation          0.003897\n",
       "5252                       eosinophils__quantile__q_0.3          0.003877\n",
       "1089          calcium__large_standard_deviation__r_0.25          0.003782\n",
       "2401                           glucose__quantile__q_0.7          0.003765\n",
       "2702  haemoglobin__change_quantiles__f_agg_\"\"\"\"\"\"\"\"v...          0.003734\n",
       "4888  globulin__change_quantiles__f_agg_\"\"\"\"\"\"\"\"mean...          0.003642\n",
       "548                        albumin__benford_correlation          0.003571\n",
       "4019  urea__fft_coefficient__attr_\"\"\"\"\"\"\"\"real\"\"\"\"\"\"...          0.003562\n",
       "3233  platelet__change_quantiles__f_agg_\"\"\"\"\"\"\"\"mean...          0.003499\n",
       "4490       bicarbonate__approximate_entropy__m_2__r_0.9          0.003426\n",
       "5394                            lymphocytes__sum_values          0.003420\n",
       "3211  platelet__change_quantiles__f_agg_\"\"\"\"\"\"\"\"mean...          0.003386\n",
       "810                        alkphos__benford_correlation          0.003322\n",
       "5203  eosinophils__time_reversal_asymmetry_statistic...          0.003306\n",
       "4757                 globulin__last_location_of_maximum          0.003254\n",
       "5280  eosinophils__cwt_coefficients__coeff_0__w_20__...          0.003228\n",
       "3934                   urea__index_mass_quantile__q_0.3          0.003187\n",
       "4450  bicarbonate__change_quantiles__f_agg_\"\"\"\"\"\"\"\"m...          0.003169\n",
       "4860  globulin__change_quantiles__f_agg_\"\"\"\"\"\"\"\"mean...          0.003066\n",
       "664   albumin__change_quantiles__f_agg_\"\"\"\"\"\"\"\"var\"\"...          0.003045\n",
       "858                            alkphos__quantile__q_0.1          0.003015\n",
       "3763  sodium__fft_coefficient__attr_\"\"\"\"\"\"\"\"abs\"\"\"\"\"...          0.002965\n",
       "1229  calcium__linear_trend__attr_\"\"\"\"\"\"\"\"rvalue\"\"\"\"...          0.002960\n",
       "6618  rbc__change_quantiles__f_agg_\"\"\"\"\"\"\"\"mean\"\"\"\"\"...          0.002954\n",
       "4608  ggt__agg_autocorrelation__f_agg_\"\"\"\"\"\"\"\"median...          0.002913\n",
       "5515  lymphocytes__change_quantiles__f_agg_\"\"\"\"\"\"\"\"m...          0.002870\n",
       "1604                          chloride__quantile__q_0.3          0.002832\n",
       "2471  glucose__change_quantiles__f_agg_\"\"\"\"\"\"\"\"mean\"...          0.002824\n",
       "236   ureacreat_ratio__energy_ratio_by_chunks__num_s...          0.002761\n",
       "5363  eosinophils__energy_ratio_by_chunks__num_segme...          0.002699\n",
       "5258  eosinophils__agg_autocorrelation__f_agg_\"\"\"\"\"\"...          0.002694\n",
       "6624  rbc__change_quantiles__f_agg_\"\"\"\"\"\"\"\"mean\"\"\"\"\"...          0.002655\n",
       "5201                               eosinophils__minimum          0.002653\n",
       "1958  creatinine__change_quantiles__f_agg_\"\"\"\"\"\"\"\"me...          0.002620\n",
       "3484  potassium__change_quantiles__f_agg_\"\"\"\"\"\"\"\"mea...          0.002527\n",
       "1865                        creatinine__quantile__q_0.1          0.002507\n",
       "2647                       haemoglobin__quantile__q_0.7          0.002479\n",
       "3496  potassium__fft_coefficient__attr_\"\"\"\"\"\"\"\"imag\"...          0.002460"
      ],
      "text/html": [
       "<div>\n",
       "<style scoped>\n",
       "    .dataframe tbody tr th:only-of-type {\n",
       "        vertical-align: middle;\n",
       "    }\n",
       "\n",
       "    .dataframe tbody tr th {\n",
       "        vertical-align: top;\n",
       "    }\n",
       "\n",
       "    .dataframe thead th {\n",
       "        text-align: right;\n",
       "    }\n",
       "</style>\n",
       "<table border=\"1\" class=\"dataframe\">\n",
       "  <thead>\n",
       "    <tr style=\"text-align: right;\">\n",
       "      <th></th>\n",
       "      <th>label</th>\n",
       "      <th>importance_value</th>\n",
       "    </tr>\n",
       "  </thead>\n",
       "  <tbody>\n",
       "    <tr>\n",
       "      <th>1815</th>\n",
       "      <td>creatinine__maximum</td>\n",
       "      <td>0.038376</td>\n",
       "    </tr>\n",
       "    <tr>\n",
       "      <th>5373</th>\n",
       "      <td>eosinophils__ratio_beyond_r_sigma__r_0.5</td>\n",
       "      <td>0.035860</td>\n",
       "    </tr>\n",
       "    <tr>\n",
       "      <th>4714</th>\n",
       "      <td>ggt__energy_ratio_by_chunks__num_segments_10__...</td>\n",
       "      <td>0.020576</td>\n",
       "    </tr>\n",
       "    <tr>\n",
       "      <th>1869</th>\n",
       "      <td>creatinine__quantile__q_0.6</td>\n",
       "      <td>0.016749</td>\n",
       "    </tr>\n",
       "    <tr>\n",
       "      <th>2208</th>\n",
       "      <td>egfr__change_quantiles__f_agg_\"\"\"\"\"\"\"\"mean\"\"\"\"...</td>\n",
       "      <td>0.013015</td>\n",
       "    </tr>\n",
       "    <tr>\n",
       "      <th>4803</th>\n",
       "      <td>globulin__large_standard_deviation__r_0.350000...</td>\n",
       "      <td>0.012977</td>\n",
       "    </tr>\n",
       "    <tr>\n",
       "      <th>2081</th>\n",
       "      <td>egfr__time_reversal_asymmetry_statistic__lag_1</td>\n",
       "      <td>0.012299</td>\n",
       "    </tr>\n",
       "    <tr>\n",
       "      <th>2154</th>\n",
       "      <td>egfr__index_mass_quantile__q_0.1</td>\n",
       "      <td>0.012202</td>\n",
       "    </tr>\n",
       "    <tr>\n",
       "      <th>2210</th>\n",
       "      <td>egfr__change_quantiles__f_agg_\"\"\"\"\"\"\"\"mean\"\"\"\"...</td>\n",
       "      <td>0.010895</td>\n",
       "    </tr>\n",
       "    <tr>\n",
       "      <th>5863</th>\n",
       "      <td>mchc__symmetry_looking__r_0.05</td>\n",
       "      <td>0.010832</td>\n",
       "    </tr>\n",
       "    <tr>\n",
       "      <th>3893</th>\n",
       "      <td>urea__large_standard_deviation__r_0.3000000000...</td>\n",
       "      <td>0.010056</td>\n",
       "    </tr>\n",
       "    <tr>\n",
       "      <th>245</th>\n",
       "      <td>ureacreat_ratio__ratio_beyond_r_sigma__r_1</td>\n",
       "      <td>0.009943</td>\n",
       "    </tr>\n",
       "    <tr>\n",
       "      <th>2203</th>\n",
       "      <td>egfr__change_quantiles__f_agg_\"\"\"\"\"\"\"\"var\"\"\"\"\"...</td>\n",
       "      <td>0.009429</td>\n",
       "    </tr>\n",
       "    <tr>\n",
       "      <th>1809</th>\n",
       "      <td>creatinine__first_location_of_minimum</td>\n",
       "      <td>0.008500</td>\n",
       "    </tr>\n",
       "    <tr>\n",
       "      <th>1090</th>\n",
       "      <td>calcium__large_standard_deviation__r_0.3000000...</td>\n",
       "      <td>0.008447</td>\n",
       "    </tr>\n",
       "    <tr>\n",
       "      <th>643</th>\n",
       "      <td>albumin__cwt_coefficients__coeff_3__w_10__widt...</td>\n",
       "      <td>0.008243</td>\n",
       "    </tr>\n",
       "    <tr>\n",
       "      <th>2576</th>\n",
       "      <td>haemoglobin__skewness</td>\n",
       "      <td>0.008094</td>\n",
       "    </tr>\n",
       "    <tr>\n",
       "      <th>2705</th>\n",
       "      <td>haemoglobin__change_quantiles__f_agg_\"\"\"\"\"\"\"\"m...</td>\n",
       "      <td>0.007623</td>\n",
       "    </tr>\n",
       "    <tr>\n",
       "      <th>2248</th>\n",
       "      <td>egfr__fft_coefficient__attr_\"\"\"\"\"\"\"\"imag\"\"\"\"\"\"...</td>\n",
       "      <td>0.007464</td>\n",
       "    </tr>\n",
       "    <tr>\n",
       "      <th>1738</th>\n",
       "      <td>chloride__linear_trend__attr_\"\"\"\"\"\"\"\"pvalue\"\"\"...</td>\n",
       "      <td>0.007447</td>\n",
       "    </tr>\n",
       "    <tr>\n",
       "      <th>3867</th>\n",
       "      <td>urea__cid_ce__normalize_False</td>\n",
       "      <td>0.007281</td>\n",
       "    </tr>\n",
       "    <tr>\n",
       "      <th>4535</th>\n",
       "      <td>ggt__absolute_sum_of_changes</td>\n",
       "      <td>0.007020</td>\n",
       "    </tr>\n",
       "    <tr>\n",
       "      <th>2240</th>\n",
       "      <td>egfr__change_quantiles__f_agg_\"\"\"\"\"\"\"\"mean\"\"\"\"...</td>\n",
       "      <td>0.006746</td>\n",
       "    </tr>\n",
       "    <tr>\n",
       "      <th>1866</th>\n",
       "      <td>creatinine__quantile__q_0.2</td>\n",
       "      <td>0.006676</td>\n",
       "    </tr>\n",
       "    <tr>\n",
       "      <th>392</th>\n",
       "      <td>wcc__change_quantiles__f_agg_\"\"\"\"\"\"\"\"mean\"\"\"\"\"...</td>\n",
       "      <td>0.006552</td>\n",
       "    </tr>\n",
       "    <tr>\n",
       "      <th>4996</th>\n",
       "      <td>protein__symmetry_looking__r_0.1</td>\n",
       "      <td>0.006498</td>\n",
       "    </tr>\n",
       "    <tr>\n",
       "      <th>4995</th>\n",
       "      <td>protein__symmetry_looking__r_0.05</td>\n",
       "      <td>0.006489</td>\n",
       "    </tr>\n",
       "    <tr>\n",
       "      <th>3444</th>\n",
       "      <td>potassium__change_quantiles__f_agg_\"\"\"\"\"\"\"\"mea...</td>\n",
       "      <td>0.006386</td>\n",
       "    </tr>\n",
       "    <tr>\n",
       "      <th>6482</th>\n",
       "      <td>rbc__mean</td>\n",
       "      <td>0.006249</td>\n",
       "    </tr>\n",
       "    <tr>\n",
       "      <th>225</th>\n",
       "      <td>ureacreat_ratio__linear_trend__attr_\"\"\"\"\"\"\"\"in...</td>\n",
       "      <td>0.006219</td>\n",
       "    </tr>\n",
       "    <tr>\n",
       "      <th>2148</th>\n",
       "      <td>egfr__number_peaks__n_1</td>\n",
       "      <td>0.006125</td>\n",
       "    </tr>\n",
       "    <tr>\n",
       "      <th>5366</th>\n",
       "      <td>eosinophils__energy_ratio_by_chunks__num_segme...</td>\n",
       "      <td>0.005963</td>\n",
       "    </tr>\n",
       "    <tr>\n",
       "      <th>3833</th>\n",
       "      <td>urea__mean_second_derivative_central</td>\n",
       "      <td>0.005952</td>\n",
       "    </tr>\n",
       "    <tr>\n",
       "      <th>5939</th>\n",
       "      <td>mchc__change_quantiles__f_agg_\"\"\"\"\"\"\"\"mean\"\"\"\"...</td>\n",
       "      <td>0.005784</td>\n",
       "    </tr>\n",
       "    <tr>\n",
       "      <th>1138</th>\n",
       "      <td>calcium__cwt_coefficients__coeff_1__w_2__width...</td>\n",
       "      <td>0.005691</td>\n",
       "    </tr>\n",
       "    <tr>\n",
       "      <th>6699</th>\n",
       "      <td>dkd_dkd</td>\n",
       "      <td>0.005679</td>\n",
       "    </tr>\n",
       "    <tr>\n",
       "      <th>2409</th>\n",
       "      <td>glucose__agg_autocorrelation__f_agg_\"\"\"\"\"\"\"\"va...</td>\n",
       "      <td>0.005556</td>\n",
       "    </tr>\n",
       "    <tr>\n",
       "      <th>5959</th>\n",
       "      <td>mchc__change_quantiles__f_agg_\"\"\"\"\"\"\"\"mean\"\"\"\"...</td>\n",
       "      <td>0.005553</td>\n",
       "    </tr>\n",
       "    <tr>\n",
       "      <th>4222</th>\n",
       "      <td>alt__change_quantiles__f_agg_\"\"\"\"\"\"\"\"var\"\"\"\"\"\"...</td>\n",
       "      <td>0.005460</td>\n",
       "    </tr>\n",
       "    <tr>\n",
       "      <th>1359</th>\n",
       "      <td>caphos_product__autocorrelation__lag_1</td>\n",
       "      <td>0.005347</td>\n",
       "    </tr>\n",
       "    <tr>\n",
       "      <th>4823</th>\n",
       "      <td>globulin__quantile__q_0.9</td>\n",
       "      <td>0.005192</td>\n",
       "    </tr>\n",
       "    <tr>\n",
       "      <th>6596</th>\n",
       "      <td>rbc__change_quantiles__f_agg_\"\"\"\"\"\"\"\"mean\"\"\"\"\"...</td>\n",
       "      <td>0.005110</td>\n",
       "    </tr>\n",
       "    <tr>\n",
       "      <th>4876</th>\n",
       "      <td>globulin__change_quantiles__f_agg_\"\"\"\"\"\"\"\"mean...</td>\n",
       "      <td>0.005064</td>\n",
       "    </tr>\n",
       "    <tr>\n",
       "      <th>638</th>\n",
       "      <td>albumin__cwt_coefficients__coeff_2__w_5__width...</td>\n",
       "      <td>0.004991</td>\n",
       "    </tr>\n",
       "    <tr>\n",
       "      <th>3201</th>\n",
       "      <td>platelet__change_quantiles__f_agg_\"\"\"\"\"\"\"\"mean...</td>\n",
       "      <td>0.004989</td>\n",
       "    </tr>\n",
       "    <tr>\n",
       "      <th>4872</th>\n",
       "      <td>globulin__change_quantiles__f_agg_\"\"\"\"\"\"\"\"mean...</td>\n",
       "      <td>0.004847</td>\n",
       "    </tr>\n",
       "    <tr>\n",
       "      <th>2212</th>\n",
       "      <td>egfr__change_quantiles__f_agg_\"\"\"\"\"\"\"\"mean\"\"\"\"...</td>\n",
       "      <td>0.004807</td>\n",
       "    </tr>\n",
       "    <tr>\n",
       "      <th>2282</th>\n",
       "      <td>egfr__energy_ratio_by_chunks__num_segments_10_...</td>\n",
       "      <td>0.004804</td>\n",
       "    </tr>\n",
       "    <tr>\n",
       "      <th>1705</th>\n",
       "      <td>chloride__change_quantiles__f_agg_\"\"\"\"\"\"\"\"mean...</td>\n",
       "      <td>0.004796</td>\n",
       "    </tr>\n",
       "    <tr>\n",
       "      <th>23</th>\n",
       "      <td>ureacreat_ratio__last_location_of_maximum</td>\n",
       "      <td>0.004636</td>\n",
       "    </tr>\n",
       "    <tr>\n",
       "      <th>2707</th>\n",
       "      <td>haemoglobin__change_quantiles__f_agg_\"\"\"\"\"\"\"\"m...</td>\n",
       "      <td>0.004560</td>\n",
       "    </tr>\n",
       "    <tr>\n",
       "      <th>2566</th>\n",
       "      <td>haemoglobin__abs_energy</td>\n",
       "      <td>0.004397</td>\n",
       "    </tr>\n",
       "    <tr>\n",
       "      <th>1756</th>\n",
       "      <td>chloride__energy_ratio_by_chunks__num_segments...</td>\n",
       "      <td>0.004378</td>\n",
       "    </tr>\n",
       "    <tr>\n",
       "      <th>553</th>\n",
       "      <td>albumin__c3__lag_2</td>\n",
       "      <td>0.004292</td>\n",
       "    </tr>\n",
       "    <tr>\n",
       "      <th>5609</th>\n",
       "      <td>mch__has_duplicate_min</td>\n",
       "      <td>0.004247</td>\n",
       "    </tr>\n",
       "    <tr>\n",
       "      <th>1872</th>\n",
       "      <td>creatinine__quantile__q_0.9</td>\n",
       "      <td>0.004202</td>\n",
       "    </tr>\n",
       "    <tr>\n",
       "      <th>420</th>\n",
       "      <td>wcc__change_quantiles__f_agg_\"\"\"\"\"\"\"\"mean\"\"\"\"\"...</td>\n",
       "      <td>0.004200</td>\n",
       "    </tr>\n",
       "    <tr>\n",
       "      <th>5636</th>\n",
       "      <td>mch__benford_correlation</td>\n",
       "      <td>0.004162</td>\n",
       "    </tr>\n",
       "    <tr>\n",
       "      <th>718</th>\n",
       "      <td>albumin__fft_coefficient__attr_\"\"\"\"\"\"\"\"angle\"\"...</td>\n",
       "      <td>0.004085</td>\n",
       "    </tr>\n",
       "    <tr>\n",
       "      <th>1796</th>\n",
       "      <td>creatinine__variation_coefficient</td>\n",
       "      <td>0.003989</td>\n",
       "    </tr>\n",
       "    <tr>\n",
       "      <th>6478</th>\n",
       "      <td>rbc__has_duplicate</td>\n",
       "      <td>0.003963</td>\n",
       "    </tr>\n",
       "    <tr>\n",
       "      <th>3909</th>\n",
       "      <td>urea__quantile__q_0.3</td>\n",
       "      <td>0.003960</td>\n",
       "    </tr>\n",
       "    <tr>\n",
       "      <th>1817</th>\n",
       "      <td>creatinine__benford_correlation</td>\n",
       "      <td>0.003897</td>\n",
       "    </tr>\n",
       "    <tr>\n",
       "      <th>5252</th>\n",
       "      <td>eosinophils__quantile__q_0.3</td>\n",
       "      <td>0.003877</td>\n",
       "    </tr>\n",
       "    <tr>\n",
       "      <th>1089</th>\n",
       "      <td>calcium__large_standard_deviation__r_0.25</td>\n",
       "      <td>0.003782</td>\n",
       "    </tr>\n",
       "    <tr>\n",
       "      <th>2401</th>\n",
       "      <td>glucose__quantile__q_0.7</td>\n",
       "      <td>0.003765</td>\n",
       "    </tr>\n",
       "    <tr>\n",
       "      <th>2702</th>\n",
       "      <td>haemoglobin__change_quantiles__f_agg_\"\"\"\"\"\"\"\"v...</td>\n",
       "      <td>0.003734</td>\n",
       "    </tr>\n",
       "    <tr>\n",
       "      <th>4888</th>\n",
       "      <td>globulin__change_quantiles__f_agg_\"\"\"\"\"\"\"\"mean...</td>\n",
       "      <td>0.003642</td>\n",
       "    </tr>\n",
       "    <tr>\n",
       "      <th>548</th>\n",
       "      <td>albumin__benford_correlation</td>\n",
       "      <td>0.003571</td>\n",
       "    </tr>\n",
       "    <tr>\n",
       "      <th>4019</th>\n",
       "      <td>urea__fft_coefficient__attr_\"\"\"\"\"\"\"\"real\"\"\"\"\"\"...</td>\n",
       "      <td>0.003562</td>\n",
       "    </tr>\n",
       "    <tr>\n",
       "      <th>3233</th>\n",
       "      <td>platelet__change_quantiles__f_agg_\"\"\"\"\"\"\"\"mean...</td>\n",
       "      <td>0.003499</td>\n",
       "    </tr>\n",
       "    <tr>\n",
       "      <th>4490</th>\n",
       "      <td>bicarbonate__approximate_entropy__m_2__r_0.9</td>\n",
       "      <td>0.003426</td>\n",
       "    </tr>\n",
       "    <tr>\n",
       "      <th>5394</th>\n",
       "      <td>lymphocytes__sum_values</td>\n",
       "      <td>0.003420</td>\n",
       "    </tr>\n",
       "    <tr>\n",
       "      <th>3211</th>\n",
       "      <td>platelet__change_quantiles__f_agg_\"\"\"\"\"\"\"\"mean...</td>\n",
       "      <td>0.003386</td>\n",
       "    </tr>\n",
       "    <tr>\n",
       "      <th>810</th>\n",
       "      <td>alkphos__benford_correlation</td>\n",
       "      <td>0.003322</td>\n",
       "    </tr>\n",
       "    <tr>\n",
       "      <th>5203</th>\n",
       "      <td>eosinophils__time_reversal_asymmetry_statistic...</td>\n",
       "      <td>0.003306</td>\n",
       "    </tr>\n",
       "    <tr>\n",
       "      <th>4757</th>\n",
       "      <td>globulin__last_location_of_maximum</td>\n",
       "      <td>0.003254</td>\n",
       "    </tr>\n",
       "    <tr>\n",
       "      <th>5280</th>\n",
       "      <td>eosinophils__cwt_coefficients__coeff_0__w_20__...</td>\n",
       "      <td>0.003228</td>\n",
       "    </tr>\n",
       "    <tr>\n",
       "      <th>3934</th>\n",
       "      <td>urea__index_mass_quantile__q_0.3</td>\n",
       "      <td>0.003187</td>\n",
       "    </tr>\n",
       "    <tr>\n",
       "      <th>4450</th>\n",
       "      <td>bicarbonate__change_quantiles__f_agg_\"\"\"\"\"\"\"\"m...</td>\n",
       "      <td>0.003169</td>\n",
       "    </tr>\n",
       "    <tr>\n",
       "      <th>4860</th>\n",
       "      <td>globulin__change_quantiles__f_agg_\"\"\"\"\"\"\"\"mean...</td>\n",
       "      <td>0.003066</td>\n",
       "    </tr>\n",
       "    <tr>\n",
       "      <th>664</th>\n",
       "      <td>albumin__change_quantiles__f_agg_\"\"\"\"\"\"\"\"var\"\"...</td>\n",
       "      <td>0.003045</td>\n",
       "    </tr>\n",
       "    <tr>\n",
       "      <th>858</th>\n",
       "      <td>alkphos__quantile__q_0.1</td>\n",
       "      <td>0.003015</td>\n",
       "    </tr>\n",
       "    <tr>\n",
       "      <th>3763</th>\n",
       "      <td>sodium__fft_coefficient__attr_\"\"\"\"\"\"\"\"abs\"\"\"\"\"...</td>\n",
       "      <td>0.002965</td>\n",
       "    </tr>\n",
       "    <tr>\n",
       "      <th>1229</th>\n",
       "      <td>calcium__linear_trend__attr_\"\"\"\"\"\"\"\"rvalue\"\"\"\"...</td>\n",
       "      <td>0.002960</td>\n",
       "    </tr>\n",
       "    <tr>\n",
       "      <th>6618</th>\n",
       "      <td>rbc__change_quantiles__f_agg_\"\"\"\"\"\"\"\"mean\"\"\"\"\"...</td>\n",
       "      <td>0.002954</td>\n",
       "    </tr>\n",
       "    <tr>\n",
       "      <th>4608</th>\n",
       "      <td>ggt__agg_autocorrelation__f_agg_\"\"\"\"\"\"\"\"median...</td>\n",
       "      <td>0.002913</td>\n",
       "    </tr>\n",
       "    <tr>\n",
       "      <th>5515</th>\n",
       "      <td>lymphocytes__change_quantiles__f_agg_\"\"\"\"\"\"\"\"m...</td>\n",
       "      <td>0.002870</td>\n",
       "    </tr>\n",
       "    <tr>\n",
       "      <th>1604</th>\n",
       "      <td>chloride__quantile__q_0.3</td>\n",
       "      <td>0.002832</td>\n",
       "    </tr>\n",
       "    <tr>\n",
       "      <th>2471</th>\n",
       "      <td>glucose__change_quantiles__f_agg_\"\"\"\"\"\"\"\"mean\"...</td>\n",
       "      <td>0.002824</td>\n",
       "    </tr>\n",
       "    <tr>\n",
       "      <th>236</th>\n",
       "      <td>ureacreat_ratio__energy_ratio_by_chunks__num_s...</td>\n",
       "      <td>0.002761</td>\n",
       "    </tr>\n",
       "    <tr>\n",
       "      <th>5363</th>\n",
       "      <td>eosinophils__energy_ratio_by_chunks__num_segme...</td>\n",
       "      <td>0.002699</td>\n",
       "    </tr>\n",
       "    <tr>\n",
       "      <th>5258</th>\n",
       "      <td>eosinophils__agg_autocorrelation__f_agg_\"\"\"\"\"\"...</td>\n",
       "      <td>0.002694</td>\n",
       "    </tr>\n",
       "    <tr>\n",
       "      <th>6624</th>\n",
       "      <td>rbc__change_quantiles__f_agg_\"\"\"\"\"\"\"\"mean\"\"\"\"\"...</td>\n",
       "      <td>0.002655</td>\n",
       "    </tr>\n",
       "    <tr>\n",
       "      <th>5201</th>\n",
       "      <td>eosinophils__minimum</td>\n",
       "      <td>0.002653</td>\n",
       "    </tr>\n",
       "    <tr>\n",
       "      <th>1958</th>\n",
       "      <td>creatinine__change_quantiles__f_agg_\"\"\"\"\"\"\"\"me...</td>\n",
       "      <td>0.002620</td>\n",
       "    </tr>\n",
       "    <tr>\n",
       "      <th>3484</th>\n",
       "      <td>potassium__change_quantiles__f_agg_\"\"\"\"\"\"\"\"mea...</td>\n",
       "      <td>0.002527</td>\n",
       "    </tr>\n",
       "    <tr>\n",
       "      <th>1865</th>\n",
       "      <td>creatinine__quantile__q_0.1</td>\n",
       "      <td>0.002507</td>\n",
       "    </tr>\n",
       "    <tr>\n",
       "      <th>2647</th>\n",
       "      <td>haemoglobin__quantile__q_0.7</td>\n",
       "      <td>0.002479</td>\n",
       "    </tr>\n",
       "    <tr>\n",
       "      <th>3496</th>\n",
       "      <td>potassium__fft_coefficient__attr_\"\"\"\"\"\"\"\"imag\"...</td>\n",
       "      <td>0.002460</td>\n",
       "    </tr>\n",
       "  </tbody>\n",
       "</table>\n",
       "</div>"
      ]
     },
     "metadata": {},
     "execution_count": 51
    }
   ],
   "metadata": {}
  },
  {
   "cell_type": "markdown",
   "source": [
    "## ESKD Prediction 2 years post-training"
   ],
   "metadata": {}
  },
  {
   "cell_type": "code",
   "execution_count": 23,
   "source": [
    "X = df_rm_intrain.drop(dropped_cols,axis=1).copy()\n",
    "y = df_rm_intrain['cat4']\n",
    "X.shape, y.shape"
   ],
   "outputs": [
    {
     "output_type": "execute_result",
     "data": {
      "text/plain": [
       "((3708, 6701), (3708,))"
      ]
     },
     "metadata": {},
     "execution_count": 23
    }
   ],
   "metadata": {}
  },
  {
   "cell_type": "code",
   "execution_count": 24,
   "source": [
    "X.info()"
   ],
   "outputs": [
    {
     "output_type": "stream",
     "name": "stdout",
     "text": [
      "<class 'pandas.core.frame.DataFrame'>\n",
      "Int64Index: 3708 entries, 3916 to 23864\n",
      "Columns: 6701 entries, ureacreat_ratio__variance_larger_than_standard_deviation to age.init\n",
      "dtypes: category(4), float64(6696), int64(1)\n",
      "memory usage: 189.5 MB\n"
     ]
    }
   ],
   "metadata": {}
  },
  {
   "cell_type": "code",
   "execution_count": 25,
   "source": [
    "df_rm_intrain['cat4'].value_counts()"
   ],
   "outputs": [
    {
     "output_type": "execute_result",
     "data": {
      "text/plain": [
       "non_eskd    3484\n",
       "eskd         224\n",
       "Name: cat4, dtype: int64"
      ]
     },
     "metadata": {},
     "execution_count": 25
    }
   ],
   "metadata": {}
  },
  {
   "cell_type": "code",
   "execution_count": 28,
   "source": [
    "y_mapped = y.map({'non_eskd':'no', 'eskd':'yes'})\n",
    "y_mapped"
   ],
   "outputs": [
    {
     "output_type": "execute_result",
     "data": {
      "text/plain": [
       "id\n",
       "3916     no\n",
       "3918     no\n",
       "3921     no\n",
       "3924     no\n",
       "3930     no\n",
       "         ..\n",
       "23771    no\n",
       "23775    no\n",
       "23780    no\n",
       "23823    no\n",
       "23864    no\n",
       "Name: cat4, Length: 3708, dtype: category\n",
       "Categories (2, object): ['yes', 'no']"
      ]
     },
     "metadata": {},
     "execution_count": 28
    }
   ],
   "metadata": {}
  },
  {
   "cell_type": "code",
   "execution_count": 29,
   "source": [
    "X_train, X_test, y_train, y_test = train_test_split(X, y_mapped, test_size=0.3, stratify=y_mapped, random_state=random_state)\n",
    "X_train.shape, X_test.shape, y_train.shape, y_test.shape"
   ],
   "outputs": [
    {
     "output_type": "execute_result",
     "data": {
      "text/plain": [
       "((2595, 6701), (1113, 6701), (2595,), (1113,))"
      ]
     },
     "metadata": {},
     "execution_count": 29
    }
   ],
   "metadata": {}
  },
  {
   "cell_type": "code",
   "execution_count": 30,
   "source": [
    "lab_encode = LabelEncoder()\n",
    "y_train = lab_encode.fit_transform(y_train)\n",
    "y_test = lab_encode.transform(y_test)\n",
    "y_train.shape, y_test.shape"
   ],
   "outputs": [
    {
     "output_type": "execute_result",
     "data": {
      "text/plain": [
       "((2595,), (1113,))"
      ]
     },
     "metadata": {},
     "execution_count": 30
    }
   ],
   "metadata": {}
  },
  {
   "cell_type": "code",
   "execution_count": 31,
   "source": [
    "unique_values, counts = np.unique(y_train, return_counts=True)\n",
    "ratio = dict(zip(unique_values, counts))\n",
    "ratio"
   ],
   "outputs": [
    {
     "output_type": "execute_result",
     "data": {
      "text/plain": [
       "{0: 2438, 1: 157}"
      ]
     },
     "metadata": {},
     "execution_count": 31
    }
   ],
   "metadata": {}
  },
  {
   "cell_type": "code",
   "execution_count": 32,
   "source": [
    "imbalance_ratio = ratio[0] / ratio[1]\n",
    "imbalance_ratio"
   ],
   "outputs": [
    {
     "output_type": "execute_result",
     "data": {
      "text/plain": [
       "15.528662420382165"
      ]
     },
     "metadata": {},
     "execution_count": 32
    }
   ],
   "metadata": {}
  },
  {
   "cell_type": "code",
   "execution_count": 33,
   "source": [
    "category_cols = list(X_train.select_dtypes(include='category').columns)\n",
    "numeric_cols = list(X_train.select_dtypes(include=['int', 'float']).columns)\n",
    "one_hot = OneHotEncoder(handle_unknown='ignore')\n",
    "num_imputer = KNNImputer(n_neighbors=5)\n",
    "len(category_cols), len(numeric_cols)"
   ],
   "outputs": [
    {
     "output_type": "execute_result",
     "data": {
      "text/plain": [
       "(4, 6697)"
      ]
     },
     "metadata": {},
     "execution_count": 33
    }
   ],
   "metadata": {}
  },
  {
   "cell_type": "code",
   "execution_count": 34,
   "source": [
    "preprocess = ColumnTransformer([('num_imputing', num_imputer, numeric_cols), ('cat_encoder', one_hot, category_cols)], remainder='passthrough')\n",
    "X_train_processed = preprocess.fit_transform(X_train)\n",
    "X_train_processed.shape"
   ],
   "outputs": [
    {
     "output_type": "execute_result",
     "data": {
      "text/plain": [
       "(2595, 6712)"
      ]
     },
     "metadata": {},
     "execution_count": 34
    }
   ],
   "metadata": {}
  },
  {
   "cell_type": "code",
   "execution_count": 35,
   "source": [
    "X_test_processed = preprocess.transform(X_test)"
   ],
   "outputs": [],
   "metadata": {}
  },
  {
   "cell_type": "code",
   "execution_count": 36,
   "source": [
    "xgb_class = xgb.XGBClassifier(n_jobs=-1, random_state = random_state, n_estimators=1000, use_label_encoder=False, eval_metric='logloss', scale_pos_weight=imbalance_ratio)\n",
    "sampler = SMOTETomek(random_state=random_state)\n",
    "steps = [('resampling', sampler), ('model', xgb_class)]\n",
    "pipeline = Pipeline(steps=steps)"
   ],
   "outputs": [],
   "metadata": {}
  },
  {
   "cell_type": "code",
   "execution_count": 37,
   "source": [
    "pipeline.fit(X_train_processed, y_train)"
   ],
   "outputs": [
    {
     "output_type": "execute_result",
     "data": {
      "text/plain": [
       "Pipeline(steps=[('resampling', SMOTETomek(random_state=7)),\n",
       "                ('model',\n",
       "                 XGBClassifier(base_score=0.5, booster='gbtree',\n",
       "                               colsample_bylevel=1, colsample_bynode=1,\n",
       "                               colsample_bytree=1, eval_metric='logloss',\n",
       "                               gamma=0, gpu_id=-1, importance_type='gain',\n",
       "                               interaction_constraints='',\n",
       "                               learning_rate=0.300000012, max_delta_step=0,\n",
       "                               max_depth=6, min_child_weight=1, missing=nan,\n",
       "                               monotone_constraints='()', n_estimators=1000,\n",
       "                               n_jobs=-1, num_parallel_tree=1, random_state=7,\n",
       "                               reg_alpha=0, reg_lambda=1,\n",
       "                               scale_pos_weight=15.528662420382165, subsample=1,\n",
       "                               tree_method='exact', use_label_encoder=False,\n",
       "                               validate_parameters=1, verbosity=None))])"
      ]
     },
     "metadata": {},
     "execution_count": 37
    }
   ],
   "metadata": {}
  },
  {
   "cell_type": "code",
   "execution_count": 38,
   "source": [
    "y_pred = pipeline.predict(X_test_processed)"
   ],
   "outputs": [],
   "metadata": {}
  },
  {
   "cell_type": "code",
   "execution_count": 39,
   "source": [
    "confusion_matrix(y_true=y_test, y_pred=y_pred)"
   ],
   "outputs": [
    {
     "output_type": "execute_result",
     "data": {
      "text/plain": [
       "array([[1021,   25],\n",
       "       [  52,   15]])"
      ]
     },
     "metadata": {},
     "execution_count": 39
    }
   ],
   "metadata": {}
  },
  {
   "cell_type": "code",
   "execution_count": 40,
   "source": [
    "roc_auc_score(y_test, y_pred)"
   ],
   "outputs": [
    {
     "output_type": "execute_result",
     "data": {
      "text/plain": [
       "0.5999900117005793"
      ]
     },
     "metadata": {},
     "execution_count": 40
    }
   ],
   "metadata": {}
  },
  {
   "cell_type": "code",
   "execution_count": 41,
   "source": [
    "print(classification_report(y_true=y_test, y_pred=y_pred))"
   ],
   "outputs": [
    {
     "output_type": "stream",
     "name": "stdout",
     "text": [
      "              precision    recall  f1-score   support\n",
      "\n",
      "           0       0.95      0.98      0.96      1046\n",
      "           1       0.38      0.22      0.28        67\n",
      "\n",
      "    accuracy                           0.93      1113\n",
      "   macro avg       0.66      0.60      0.62      1113\n",
      "weighted avg       0.92      0.93      0.92      1113\n",
      "\n"
     ]
    }
   ],
   "metadata": {}
  },
  {
   "cell_type": "code",
   "execution_count": 42,
   "source": [
    "print(matthews_corrcoef(y_test, y_pred))"
   ],
   "outputs": [
    {
     "output_type": "stream",
     "name": "stdout",
     "text": [
      "0.2555406539373086\n"
     ]
    }
   ],
   "metadata": {}
  },
  {
   "cell_type": "code",
   "execution_count": 43,
   "source": [
    "importance = pipeline.named_steps['model'].feature_importances_\n",
    "importance.shape, type(importance)"
   ],
   "outputs": [
    {
     "output_type": "execute_result",
     "data": {
      "text/plain": [
       "((6712,), numpy.ndarray)"
      ]
     },
     "metadata": {},
     "execution_count": 43
    }
   ],
   "metadata": {}
  },
  {
   "cell_type": "code",
   "execution_count": 44,
   "source": [
    "category_label = list(preprocess.named_transformers_['cat_encoder'].get_feature_names(category_cols))\n",
    "feature_label = numeric_cols + category_label\n",
    "len(feature_label)"
   ],
   "outputs": [
    {
     "output_type": "execute_result",
     "data": {
      "text/plain": [
       "6712"
      ]
     },
     "metadata": {},
     "execution_count": 44
    }
   ],
   "metadata": {}
  },
  {
   "cell_type": "code",
   "execution_count": 45,
   "source": [
    "pd.set_option('display.max_rows', 400)\n",
    "eval_df = pd.DataFrame({'label': feature_label, 'importance_value': importance})\n",
    "eval_df.sort_values(by='importance_value', ascending=False).head(100)"
   ],
   "outputs": [
    {
     "output_type": "execute_result",
     "data": {
      "text/plain": [
       "                                                  label  importance_value\n",
       "1870                        creatinine__quantile__q_0.7          0.032744\n",
       "6605  rbc__change_quantiles__f_agg_\"\"\"\"\"\"\"\"var\"\"\"\"\"\"...          0.027497\n",
       "6122                         monocytes__quantile__q_0.6          0.026374\n",
       "2676  haemoglobin__cwt_coefficients__coeff_1__w_2__w...          0.023856\n",
       "1792                                 creatinine__median          0.020475\n",
       "3859                          urea__benford_correlation          0.020362\n",
       "548                        albumin__benford_correlation          0.017313\n",
       "6005              mchc__approximate_entropy__m_2__r_0.1          0.016340\n",
       "6364  neutrophils__cwt_coefficients__coeff_0__w_10__...          0.015258\n",
       "6453  neutrophils__energy_ratio_by_chunks__num_segme...          0.014878\n",
       "6396  neutrophils__change_quantiles__f_agg_\"\"\"\"\"\"\"\"v...          0.014789\n",
       "6298               neutrophils__symmetry_looking__r_0.1          0.013650\n",
       "4561                      ggt__symmetry_looking__r_0.05          0.013633\n",
       "555                     albumin__cid_ce__normalize_True          0.013437\n",
       "2577                      haemoglobin__root_mean_square          0.012073\n",
       "5748  mch__change_quantiles__f_agg_\"\"\"\"\"\"\"\"mean\"\"\"\"\"...          0.011948\n",
       "6053                        monocytes__root_mean_square          0.011647\n",
       "3912                              urea__quantile__q_0.7          0.011226\n",
       "800                  alkphos__first_location_of_maximum          0.011058\n",
       "1791         creatinine__mean_second_derivative_central          0.010476\n",
       "4088       alt__variance_larger_than_standard_deviation          0.010348\n",
       "3835                                         urea__mean          0.009763\n",
       "4172                               alt__quantile__q_0.9          0.009516\n",
       "4966                     protein__variation_coefficient          0.008982\n",
       "3173  platelet__cwt_coefficients__coeff_2__w_5__widt...          0.008788\n",
       "6024                  mchc__ratio_beyond_r_sigma__r_0.5          0.008778\n",
       "2717  haemoglobin__change_quantiles__f_agg_\"\"\"\"\"\"\"\"m...          0.008068\n",
       "3468  potassium__change_quantiles__f_agg_\"\"\"\"\"\"\"\"mea...          0.007969\n",
       "2284  egfr__energy_ratio_by_chunks__num_segments_10_...          0.007896\n",
       "3715  sodium__change_quantiles__f_agg_\"\"\"\"\"\"\"\"mean\"\"...          0.007877\n",
       "5582  lymphocytes__energy_ratio_by_chunks__num_segme...          0.006923\n",
       "4025  urea__fft_coefficient__attr_\"\"\"\"\"\"\"\"abs\"\"\"\"\"\"\"...          0.006916\n",
       "2649                       haemoglobin__quantile__q_0.9          0.006905\n",
       "2802               haemoglobin__fourier_entropy__bins_3          0.006682\n",
       "1481  caphos_product__linear_trend__attr_\"\"\"\"\"\"\"\"int...          0.006617\n",
       "2084                                    egfr__c3__lag_1          0.006486\n",
       "4562                       ggt__symmetry_looking__r_0.1          0.006359\n",
       "913   alkphos__change_quantiles__f_agg_\"\"\"\"\"\"\"\"mean\"...          0.006214\n",
       "4128                       alt__symmetry_looking__r_0.1          0.006180\n",
       "4767                                  globulin__minimum          0.005867\n",
       "5020  protein__large_standard_deviation__r_0.3500000...          0.005700\n",
       "1200  calcium__change_quantiles__f_agg_\"\"\"\"\"\"\"\"var\"\"...          0.005546\n",
       "1865                        creatinine__quantile__q_0.1          0.005509\n",
       "2502  glucose__fft_coefficient__attr_\"\"\"\"\"\"\"\"imag\"\"\"...          0.005441\n",
       "1359             caphos_product__autocorrelation__lag_1          0.005376\n",
       "1931  creatinine__change_quantiles__f_agg_\"\"\"\"\"\"\"\"va...          0.005124\n",
       "3751  sodium__change_quantiles__f_agg_\"\"\"\"\"\"\"\"mean\"\"...          0.005124\n",
       "3799  sodium__energy_ratio_by_chunks__num_segments_1...          0.005104\n",
       "5856     mchc__time_reversal_asymmetry_statistic__lag_3          0.005075\n",
       "5203  eosinophils__time_reversal_asymmetry_statistic...          0.005075\n",
       "1964  creatinine__change_quantiles__f_agg_\"\"\"\"\"\"\"\"me...          0.005066\n",
       "6184  monocytes__change_quantiles__f_agg_\"\"\"\"\"\"\"\"mea...          0.005040\n",
       "6398  neutrophils__change_quantiles__f_agg_\"\"\"\"\"\"\"\"v...          0.004853\n",
       "2964  phosphate__change_quantiles__f_agg_\"\"\"\"\"\"\"\"var...          0.004770\n",
       "2080                          egfr__benford_correlation          0.004750\n",
       "2491  glucose__change_quantiles__f_agg_\"\"\"\"\"\"\"\"mean\"...          0.004718\n",
       "2568                           haemoglobin__mean_change          0.004480\n",
       "2164  egfr__cwt_coefficients__coeff_0__w_10__widths_...          0.004432\n",
       "3795  sodium__energy_ratio_by_chunks__num_segments_1...          0.004417\n",
       "6516       rbc__symmetry_looking__r_0.15000000000000002          0.004414\n",
       "5193              eosinophils__last_location_of_minimum          0.004329\n",
       "1815                                creatinine__maximum          0.004293\n",
       "3861     urea__time_reversal_asymmetry_statistic__lag_2          0.004136\n",
       "3293                  platelet__fourier_entropy__bins_2          0.004069\n",
       "5083  protein__change_quantiles__f_agg_\"\"\"\"\"\"\"\"mean\"...          0.004057\n",
       "1477  caphos_product__friedrich_coefficients__coeff_...          0.004015\n",
       "708   albumin__fft_coefficient__attr_\"\"\"\"\"\"\"\"real\"\"\"...          0.003956\n",
       "3123         platelet__large_standard_deviation__r_0.45          0.003932\n",
       "484   wcc__energy_ratio_by_chunks__num_segments_10__...          0.003829\n",
       "3712  sodium__change_quantiles__f_agg_\"\"\"\"\"\"\"\"var\"\"\"...          0.003738\n",
       "5515  lymphocytes__change_quantiles__f_agg_\"\"\"\"\"\"\"\"m...          0.003665\n",
       "6166  monocytes__change_quantiles__f_agg_\"\"\"\"\"\"\"\"mea...          0.003641\n",
       "3965  urea__change_quantiles__f_agg_\"\"\"\"\"\"\"\"var\"\"\"\"\"...          0.003604\n",
       "2900  phosphate__agg_autocorrelation__f_agg_\"\"\"\"\"\"\"\"...          0.003541\n",
       "2661                    haemoglobin__number_peaks__n_10          0.003517\n",
       "6514                      rbc__symmetry_looking__r_0.05          0.003481\n",
       "474      wcc__linear_trend__attr_\"\"\"\"\"\"\"\"rvalue\"\"\"\"\"\"\"\"          0.003398\n",
       "6699                                            dkd_dkd          0.003226\n",
       "2576                              haemoglobin__skewness          0.003194\n",
       "1276                        caphos_product__mean_change          0.003156\n",
       "2307                      egfr__fourier_entropy__bins_2          0.003078\n",
       "6593  rbc__change_quantiles__f_agg_\"\"\"\"\"\"\"\"var\"\"\"\"\"\"...          0.002967\n",
       "1809              creatinine__first_location_of_minimum          0.002961\n",
       "1480  caphos_product__linear_trend__attr_\"\"\"\"\"\"\"\"rva...          0.002915\n",
       "1482  caphos_product__linear_trend__attr_\"\"\"\"\"\"\"\"slo...          0.002881\n",
       "597                            albumin__quantile__q_0.2          0.002873\n",
       "4822                          globulin__quantile__q_0.8          0.002866\n",
       "2167  egfr__cwt_coefficients__coeff_1__w_5__widths_(...          0.002844\n",
       "3756  sodium__fft_coefficient__attr_\"\"\"\"\"\"\"\"real\"\"\"\"...          0.002814\n",
       "2829                phosphate__last_location_of_maximum          0.002783\n",
       "4565                      ggt__symmetry_looking__r_0.25          0.002748\n",
       "5475  lymphocytes__agg_autocorrelation__f_agg_\"\"\"\"\"\"...          0.002671\n",
       "457   wcc__fft_coefficient__attr_\"\"\"\"\"\"\"\"abs\"\"\"\"\"\"\"\"...          0.002641\n",
       "1960  creatinine__change_quantiles__f_agg_\"\"\"\"\"\"\"\"me...          0.002541\n",
       "6708                                              gn_no          0.002534\n",
       "683   albumin__change_quantiles__f_agg_\"\"\"\"\"\"\"\"mean\"...          0.002501\n",
       "204   ureacreat_ratio__fft_coefficient__attr_\"\"\"\"\"\"\"...          0.002474\n",
       "1894             creatinine__index_mass_quantile__q_0.6          0.002474\n",
       "1945  creatinine__change_quantiles__f_agg_\"\"\"\"\"\"\"\"va...          0.002433\n",
       "1947  creatinine__change_quantiles__f_agg_\"\"\"\"\"\"\"\"va...          0.002428"
      ],
      "text/html": [
       "<div>\n",
       "<style scoped>\n",
       "    .dataframe tbody tr th:only-of-type {\n",
       "        vertical-align: middle;\n",
       "    }\n",
       "\n",
       "    .dataframe tbody tr th {\n",
       "        vertical-align: top;\n",
       "    }\n",
       "\n",
       "    .dataframe thead th {\n",
       "        text-align: right;\n",
       "    }\n",
       "</style>\n",
       "<table border=\"1\" class=\"dataframe\">\n",
       "  <thead>\n",
       "    <tr style=\"text-align: right;\">\n",
       "      <th></th>\n",
       "      <th>label</th>\n",
       "      <th>importance_value</th>\n",
       "    </tr>\n",
       "  </thead>\n",
       "  <tbody>\n",
       "    <tr>\n",
       "      <th>1870</th>\n",
       "      <td>creatinine__quantile__q_0.7</td>\n",
       "      <td>0.032744</td>\n",
       "    </tr>\n",
       "    <tr>\n",
       "      <th>6605</th>\n",
       "      <td>rbc__change_quantiles__f_agg_\"\"\"\"\"\"\"\"var\"\"\"\"\"\"...</td>\n",
       "      <td>0.027497</td>\n",
       "    </tr>\n",
       "    <tr>\n",
       "      <th>6122</th>\n",
       "      <td>monocytes__quantile__q_0.6</td>\n",
       "      <td>0.026374</td>\n",
       "    </tr>\n",
       "    <tr>\n",
       "      <th>2676</th>\n",
       "      <td>haemoglobin__cwt_coefficients__coeff_1__w_2__w...</td>\n",
       "      <td>0.023856</td>\n",
       "    </tr>\n",
       "    <tr>\n",
       "      <th>1792</th>\n",
       "      <td>creatinine__median</td>\n",
       "      <td>0.020475</td>\n",
       "    </tr>\n",
       "    <tr>\n",
       "      <th>3859</th>\n",
       "      <td>urea__benford_correlation</td>\n",
       "      <td>0.020362</td>\n",
       "    </tr>\n",
       "    <tr>\n",
       "      <th>548</th>\n",
       "      <td>albumin__benford_correlation</td>\n",
       "      <td>0.017313</td>\n",
       "    </tr>\n",
       "    <tr>\n",
       "      <th>6005</th>\n",
       "      <td>mchc__approximate_entropy__m_2__r_0.1</td>\n",
       "      <td>0.016340</td>\n",
       "    </tr>\n",
       "    <tr>\n",
       "      <th>6364</th>\n",
       "      <td>neutrophils__cwt_coefficients__coeff_0__w_10__...</td>\n",
       "      <td>0.015258</td>\n",
       "    </tr>\n",
       "    <tr>\n",
       "      <th>6453</th>\n",
       "      <td>neutrophils__energy_ratio_by_chunks__num_segme...</td>\n",
       "      <td>0.014878</td>\n",
       "    </tr>\n",
       "    <tr>\n",
       "      <th>6396</th>\n",
       "      <td>neutrophils__change_quantiles__f_agg_\"\"\"\"\"\"\"\"v...</td>\n",
       "      <td>0.014789</td>\n",
       "    </tr>\n",
       "    <tr>\n",
       "      <th>6298</th>\n",
       "      <td>neutrophils__symmetry_looking__r_0.1</td>\n",
       "      <td>0.013650</td>\n",
       "    </tr>\n",
       "    <tr>\n",
       "      <th>4561</th>\n",
       "      <td>ggt__symmetry_looking__r_0.05</td>\n",
       "      <td>0.013633</td>\n",
       "    </tr>\n",
       "    <tr>\n",
       "      <th>555</th>\n",
       "      <td>albumin__cid_ce__normalize_True</td>\n",
       "      <td>0.013437</td>\n",
       "    </tr>\n",
       "    <tr>\n",
       "      <th>2577</th>\n",
       "      <td>haemoglobin__root_mean_square</td>\n",
       "      <td>0.012073</td>\n",
       "    </tr>\n",
       "    <tr>\n",
       "      <th>5748</th>\n",
       "      <td>mch__change_quantiles__f_agg_\"\"\"\"\"\"\"\"mean\"\"\"\"\"...</td>\n",
       "      <td>0.011948</td>\n",
       "    </tr>\n",
       "    <tr>\n",
       "      <th>6053</th>\n",
       "      <td>monocytes__root_mean_square</td>\n",
       "      <td>0.011647</td>\n",
       "    </tr>\n",
       "    <tr>\n",
       "      <th>3912</th>\n",
       "      <td>urea__quantile__q_0.7</td>\n",
       "      <td>0.011226</td>\n",
       "    </tr>\n",
       "    <tr>\n",
       "      <th>800</th>\n",
       "      <td>alkphos__first_location_of_maximum</td>\n",
       "      <td>0.011058</td>\n",
       "    </tr>\n",
       "    <tr>\n",
       "      <th>1791</th>\n",
       "      <td>creatinine__mean_second_derivative_central</td>\n",
       "      <td>0.010476</td>\n",
       "    </tr>\n",
       "    <tr>\n",
       "      <th>4088</th>\n",
       "      <td>alt__variance_larger_than_standard_deviation</td>\n",
       "      <td>0.010348</td>\n",
       "    </tr>\n",
       "    <tr>\n",
       "      <th>3835</th>\n",
       "      <td>urea__mean</td>\n",
       "      <td>0.009763</td>\n",
       "    </tr>\n",
       "    <tr>\n",
       "      <th>4172</th>\n",
       "      <td>alt__quantile__q_0.9</td>\n",
       "      <td>0.009516</td>\n",
       "    </tr>\n",
       "    <tr>\n",
       "      <th>4966</th>\n",
       "      <td>protein__variation_coefficient</td>\n",
       "      <td>0.008982</td>\n",
       "    </tr>\n",
       "    <tr>\n",
       "      <th>3173</th>\n",
       "      <td>platelet__cwt_coefficients__coeff_2__w_5__widt...</td>\n",
       "      <td>0.008788</td>\n",
       "    </tr>\n",
       "    <tr>\n",
       "      <th>6024</th>\n",
       "      <td>mchc__ratio_beyond_r_sigma__r_0.5</td>\n",
       "      <td>0.008778</td>\n",
       "    </tr>\n",
       "    <tr>\n",
       "      <th>2717</th>\n",
       "      <td>haemoglobin__change_quantiles__f_agg_\"\"\"\"\"\"\"\"m...</td>\n",
       "      <td>0.008068</td>\n",
       "    </tr>\n",
       "    <tr>\n",
       "      <th>3468</th>\n",
       "      <td>potassium__change_quantiles__f_agg_\"\"\"\"\"\"\"\"mea...</td>\n",
       "      <td>0.007969</td>\n",
       "    </tr>\n",
       "    <tr>\n",
       "      <th>2284</th>\n",
       "      <td>egfr__energy_ratio_by_chunks__num_segments_10_...</td>\n",
       "      <td>0.007896</td>\n",
       "    </tr>\n",
       "    <tr>\n",
       "      <th>3715</th>\n",
       "      <td>sodium__change_quantiles__f_agg_\"\"\"\"\"\"\"\"mean\"\"...</td>\n",
       "      <td>0.007877</td>\n",
       "    </tr>\n",
       "    <tr>\n",
       "      <th>5582</th>\n",
       "      <td>lymphocytes__energy_ratio_by_chunks__num_segme...</td>\n",
       "      <td>0.006923</td>\n",
       "    </tr>\n",
       "    <tr>\n",
       "      <th>4025</th>\n",
       "      <td>urea__fft_coefficient__attr_\"\"\"\"\"\"\"\"abs\"\"\"\"\"\"\"...</td>\n",
       "      <td>0.006916</td>\n",
       "    </tr>\n",
       "    <tr>\n",
       "      <th>2649</th>\n",
       "      <td>haemoglobin__quantile__q_0.9</td>\n",
       "      <td>0.006905</td>\n",
       "    </tr>\n",
       "    <tr>\n",
       "      <th>2802</th>\n",
       "      <td>haemoglobin__fourier_entropy__bins_3</td>\n",
       "      <td>0.006682</td>\n",
       "    </tr>\n",
       "    <tr>\n",
       "      <th>1481</th>\n",
       "      <td>caphos_product__linear_trend__attr_\"\"\"\"\"\"\"\"int...</td>\n",
       "      <td>0.006617</td>\n",
       "    </tr>\n",
       "    <tr>\n",
       "      <th>2084</th>\n",
       "      <td>egfr__c3__lag_1</td>\n",
       "      <td>0.006486</td>\n",
       "    </tr>\n",
       "    <tr>\n",
       "      <th>4562</th>\n",
       "      <td>ggt__symmetry_looking__r_0.1</td>\n",
       "      <td>0.006359</td>\n",
       "    </tr>\n",
       "    <tr>\n",
       "      <th>913</th>\n",
       "      <td>alkphos__change_quantiles__f_agg_\"\"\"\"\"\"\"\"mean\"...</td>\n",
       "      <td>0.006214</td>\n",
       "    </tr>\n",
       "    <tr>\n",
       "      <th>4128</th>\n",
       "      <td>alt__symmetry_looking__r_0.1</td>\n",
       "      <td>0.006180</td>\n",
       "    </tr>\n",
       "    <tr>\n",
       "      <th>4767</th>\n",
       "      <td>globulin__minimum</td>\n",
       "      <td>0.005867</td>\n",
       "    </tr>\n",
       "    <tr>\n",
       "      <th>5020</th>\n",
       "      <td>protein__large_standard_deviation__r_0.3500000...</td>\n",
       "      <td>0.005700</td>\n",
       "    </tr>\n",
       "    <tr>\n",
       "      <th>1200</th>\n",
       "      <td>calcium__change_quantiles__f_agg_\"\"\"\"\"\"\"\"var\"\"...</td>\n",
       "      <td>0.005546</td>\n",
       "    </tr>\n",
       "    <tr>\n",
       "      <th>1865</th>\n",
       "      <td>creatinine__quantile__q_0.1</td>\n",
       "      <td>0.005509</td>\n",
       "    </tr>\n",
       "    <tr>\n",
       "      <th>2502</th>\n",
       "      <td>glucose__fft_coefficient__attr_\"\"\"\"\"\"\"\"imag\"\"\"...</td>\n",
       "      <td>0.005441</td>\n",
       "    </tr>\n",
       "    <tr>\n",
       "      <th>1359</th>\n",
       "      <td>caphos_product__autocorrelation__lag_1</td>\n",
       "      <td>0.005376</td>\n",
       "    </tr>\n",
       "    <tr>\n",
       "      <th>1931</th>\n",
       "      <td>creatinine__change_quantiles__f_agg_\"\"\"\"\"\"\"\"va...</td>\n",
       "      <td>0.005124</td>\n",
       "    </tr>\n",
       "    <tr>\n",
       "      <th>3751</th>\n",
       "      <td>sodium__change_quantiles__f_agg_\"\"\"\"\"\"\"\"mean\"\"...</td>\n",
       "      <td>0.005124</td>\n",
       "    </tr>\n",
       "    <tr>\n",
       "      <th>3799</th>\n",
       "      <td>sodium__energy_ratio_by_chunks__num_segments_1...</td>\n",
       "      <td>0.005104</td>\n",
       "    </tr>\n",
       "    <tr>\n",
       "      <th>5856</th>\n",
       "      <td>mchc__time_reversal_asymmetry_statistic__lag_3</td>\n",
       "      <td>0.005075</td>\n",
       "    </tr>\n",
       "    <tr>\n",
       "      <th>5203</th>\n",
       "      <td>eosinophils__time_reversal_asymmetry_statistic...</td>\n",
       "      <td>0.005075</td>\n",
       "    </tr>\n",
       "    <tr>\n",
       "      <th>1964</th>\n",
       "      <td>creatinine__change_quantiles__f_agg_\"\"\"\"\"\"\"\"me...</td>\n",
       "      <td>0.005066</td>\n",
       "    </tr>\n",
       "    <tr>\n",
       "      <th>6184</th>\n",
       "      <td>monocytes__change_quantiles__f_agg_\"\"\"\"\"\"\"\"mea...</td>\n",
       "      <td>0.005040</td>\n",
       "    </tr>\n",
       "    <tr>\n",
       "      <th>6398</th>\n",
       "      <td>neutrophils__change_quantiles__f_agg_\"\"\"\"\"\"\"\"v...</td>\n",
       "      <td>0.004853</td>\n",
       "    </tr>\n",
       "    <tr>\n",
       "      <th>2964</th>\n",
       "      <td>phosphate__change_quantiles__f_agg_\"\"\"\"\"\"\"\"var...</td>\n",
       "      <td>0.004770</td>\n",
       "    </tr>\n",
       "    <tr>\n",
       "      <th>2080</th>\n",
       "      <td>egfr__benford_correlation</td>\n",
       "      <td>0.004750</td>\n",
       "    </tr>\n",
       "    <tr>\n",
       "      <th>2491</th>\n",
       "      <td>glucose__change_quantiles__f_agg_\"\"\"\"\"\"\"\"mean\"...</td>\n",
       "      <td>0.004718</td>\n",
       "    </tr>\n",
       "    <tr>\n",
       "      <th>2568</th>\n",
       "      <td>haemoglobin__mean_change</td>\n",
       "      <td>0.004480</td>\n",
       "    </tr>\n",
       "    <tr>\n",
       "      <th>2164</th>\n",
       "      <td>egfr__cwt_coefficients__coeff_0__w_10__widths_...</td>\n",
       "      <td>0.004432</td>\n",
       "    </tr>\n",
       "    <tr>\n",
       "      <th>3795</th>\n",
       "      <td>sodium__energy_ratio_by_chunks__num_segments_1...</td>\n",
       "      <td>0.004417</td>\n",
       "    </tr>\n",
       "    <tr>\n",
       "      <th>6516</th>\n",
       "      <td>rbc__symmetry_looking__r_0.15000000000000002</td>\n",
       "      <td>0.004414</td>\n",
       "    </tr>\n",
       "    <tr>\n",
       "      <th>5193</th>\n",
       "      <td>eosinophils__last_location_of_minimum</td>\n",
       "      <td>0.004329</td>\n",
       "    </tr>\n",
       "    <tr>\n",
       "      <th>1815</th>\n",
       "      <td>creatinine__maximum</td>\n",
       "      <td>0.004293</td>\n",
       "    </tr>\n",
       "    <tr>\n",
       "      <th>3861</th>\n",
       "      <td>urea__time_reversal_asymmetry_statistic__lag_2</td>\n",
       "      <td>0.004136</td>\n",
       "    </tr>\n",
       "    <tr>\n",
       "      <th>3293</th>\n",
       "      <td>platelet__fourier_entropy__bins_2</td>\n",
       "      <td>0.004069</td>\n",
       "    </tr>\n",
       "    <tr>\n",
       "      <th>5083</th>\n",
       "      <td>protein__change_quantiles__f_agg_\"\"\"\"\"\"\"\"mean\"...</td>\n",
       "      <td>0.004057</td>\n",
       "    </tr>\n",
       "    <tr>\n",
       "      <th>1477</th>\n",
       "      <td>caphos_product__friedrich_coefficients__coeff_...</td>\n",
       "      <td>0.004015</td>\n",
       "    </tr>\n",
       "    <tr>\n",
       "      <th>708</th>\n",
       "      <td>albumin__fft_coefficient__attr_\"\"\"\"\"\"\"\"real\"\"\"...</td>\n",
       "      <td>0.003956</td>\n",
       "    </tr>\n",
       "    <tr>\n",
       "      <th>3123</th>\n",
       "      <td>platelet__large_standard_deviation__r_0.45</td>\n",
       "      <td>0.003932</td>\n",
       "    </tr>\n",
       "    <tr>\n",
       "      <th>484</th>\n",
       "      <td>wcc__energy_ratio_by_chunks__num_segments_10__...</td>\n",
       "      <td>0.003829</td>\n",
       "    </tr>\n",
       "    <tr>\n",
       "      <th>3712</th>\n",
       "      <td>sodium__change_quantiles__f_agg_\"\"\"\"\"\"\"\"var\"\"\"...</td>\n",
       "      <td>0.003738</td>\n",
       "    </tr>\n",
       "    <tr>\n",
       "      <th>5515</th>\n",
       "      <td>lymphocytes__change_quantiles__f_agg_\"\"\"\"\"\"\"\"m...</td>\n",
       "      <td>0.003665</td>\n",
       "    </tr>\n",
       "    <tr>\n",
       "      <th>6166</th>\n",
       "      <td>monocytes__change_quantiles__f_agg_\"\"\"\"\"\"\"\"mea...</td>\n",
       "      <td>0.003641</td>\n",
       "    </tr>\n",
       "    <tr>\n",
       "      <th>3965</th>\n",
       "      <td>urea__change_quantiles__f_agg_\"\"\"\"\"\"\"\"var\"\"\"\"\"...</td>\n",
       "      <td>0.003604</td>\n",
       "    </tr>\n",
       "    <tr>\n",
       "      <th>2900</th>\n",
       "      <td>phosphate__agg_autocorrelation__f_agg_\"\"\"\"\"\"\"\"...</td>\n",
       "      <td>0.003541</td>\n",
       "    </tr>\n",
       "    <tr>\n",
       "      <th>2661</th>\n",
       "      <td>haemoglobin__number_peaks__n_10</td>\n",
       "      <td>0.003517</td>\n",
       "    </tr>\n",
       "    <tr>\n",
       "      <th>6514</th>\n",
       "      <td>rbc__symmetry_looking__r_0.05</td>\n",
       "      <td>0.003481</td>\n",
       "    </tr>\n",
       "    <tr>\n",
       "      <th>474</th>\n",
       "      <td>wcc__linear_trend__attr_\"\"\"\"\"\"\"\"rvalue\"\"\"\"\"\"\"\"</td>\n",
       "      <td>0.003398</td>\n",
       "    </tr>\n",
       "    <tr>\n",
       "      <th>6699</th>\n",
       "      <td>dkd_dkd</td>\n",
       "      <td>0.003226</td>\n",
       "    </tr>\n",
       "    <tr>\n",
       "      <th>2576</th>\n",
       "      <td>haemoglobin__skewness</td>\n",
       "      <td>0.003194</td>\n",
       "    </tr>\n",
       "    <tr>\n",
       "      <th>1276</th>\n",
       "      <td>caphos_product__mean_change</td>\n",
       "      <td>0.003156</td>\n",
       "    </tr>\n",
       "    <tr>\n",
       "      <th>2307</th>\n",
       "      <td>egfr__fourier_entropy__bins_2</td>\n",
       "      <td>0.003078</td>\n",
       "    </tr>\n",
       "    <tr>\n",
       "      <th>6593</th>\n",
       "      <td>rbc__change_quantiles__f_agg_\"\"\"\"\"\"\"\"var\"\"\"\"\"\"...</td>\n",
       "      <td>0.002967</td>\n",
       "    </tr>\n",
       "    <tr>\n",
       "      <th>1809</th>\n",
       "      <td>creatinine__first_location_of_minimum</td>\n",
       "      <td>0.002961</td>\n",
       "    </tr>\n",
       "    <tr>\n",
       "      <th>1480</th>\n",
       "      <td>caphos_product__linear_trend__attr_\"\"\"\"\"\"\"\"rva...</td>\n",
       "      <td>0.002915</td>\n",
       "    </tr>\n",
       "    <tr>\n",
       "      <th>1482</th>\n",
       "      <td>caphos_product__linear_trend__attr_\"\"\"\"\"\"\"\"slo...</td>\n",
       "      <td>0.002881</td>\n",
       "    </tr>\n",
       "    <tr>\n",
       "      <th>597</th>\n",
       "      <td>albumin__quantile__q_0.2</td>\n",
       "      <td>0.002873</td>\n",
       "    </tr>\n",
       "    <tr>\n",
       "      <th>4822</th>\n",
       "      <td>globulin__quantile__q_0.8</td>\n",
       "      <td>0.002866</td>\n",
       "    </tr>\n",
       "    <tr>\n",
       "      <th>2167</th>\n",
       "      <td>egfr__cwt_coefficients__coeff_1__w_5__widths_(...</td>\n",
       "      <td>0.002844</td>\n",
       "    </tr>\n",
       "    <tr>\n",
       "      <th>3756</th>\n",
       "      <td>sodium__fft_coefficient__attr_\"\"\"\"\"\"\"\"real\"\"\"\"...</td>\n",
       "      <td>0.002814</td>\n",
       "    </tr>\n",
       "    <tr>\n",
       "      <th>2829</th>\n",
       "      <td>phosphate__last_location_of_maximum</td>\n",
       "      <td>0.002783</td>\n",
       "    </tr>\n",
       "    <tr>\n",
       "      <th>4565</th>\n",
       "      <td>ggt__symmetry_looking__r_0.25</td>\n",
       "      <td>0.002748</td>\n",
       "    </tr>\n",
       "    <tr>\n",
       "      <th>5475</th>\n",
       "      <td>lymphocytes__agg_autocorrelation__f_agg_\"\"\"\"\"\"...</td>\n",
       "      <td>0.002671</td>\n",
       "    </tr>\n",
       "    <tr>\n",
       "      <th>457</th>\n",
       "      <td>wcc__fft_coefficient__attr_\"\"\"\"\"\"\"\"abs\"\"\"\"\"\"\"\"...</td>\n",
       "      <td>0.002641</td>\n",
       "    </tr>\n",
       "    <tr>\n",
       "      <th>1960</th>\n",
       "      <td>creatinine__change_quantiles__f_agg_\"\"\"\"\"\"\"\"me...</td>\n",
       "      <td>0.002541</td>\n",
       "    </tr>\n",
       "    <tr>\n",
       "      <th>6708</th>\n",
       "      <td>gn_no</td>\n",
       "      <td>0.002534</td>\n",
       "    </tr>\n",
       "    <tr>\n",
       "      <th>683</th>\n",
       "      <td>albumin__change_quantiles__f_agg_\"\"\"\"\"\"\"\"mean\"...</td>\n",
       "      <td>0.002501</td>\n",
       "    </tr>\n",
       "    <tr>\n",
       "      <th>204</th>\n",
       "      <td>ureacreat_ratio__fft_coefficient__attr_\"\"\"\"\"\"\"...</td>\n",
       "      <td>0.002474</td>\n",
       "    </tr>\n",
       "    <tr>\n",
       "      <th>1894</th>\n",
       "      <td>creatinine__index_mass_quantile__q_0.6</td>\n",
       "      <td>0.002474</td>\n",
       "    </tr>\n",
       "    <tr>\n",
       "      <th>1945</th>\n",
       "      <td>creatinine__change_quantiles__f_agg_\"\"\"\"\"\"\"\"va...</td>\n",
       "      <td>0.002433</td>\n",
       "    </tr>\n",
       "    <tr>\n",
       "      <th>1947</th>\n",
       "      <td>creatinine__change_quantiles__f_agg_\"\"\"\"\"\"\"\"va...</td>\n",
       "      <td>0.002428</td>\n",
       "    </tr>\n",
       "  </tbody>\n",
       "</table>\n",
       "</div>"
      ]
     },
     "metadata": {},
     "execution_count": 45
    }
   ],
   "metadata": {}
  }
 ],
 "metadata": {
  "kernelspec": {
   "name": "python3",
   "display_name": "Python 3.9.5 64-bit ('ml_dl': conda)"
  },
  "language_info": {
   "codemirror_mode": {
    "name": "ipython",
    "version": 3
   },
   "file_extension": ".py",
   "mimetype": "text/x-python",
   "name": "python",
   "nbconvert_exporter": "python",
   "pygments_lexer": "ipython3",
   "version": "3.9.5"
  },
  "interpreter": {
   "hash": "252eb11dec6c7c75d43c93f623bff35f4a463f74afda1ad8986a53442394c969"
  }
 },
 "nbformat": 4,
 "nbformat_minor": 5
}