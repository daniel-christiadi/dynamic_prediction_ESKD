{
 "cells": [
  {
   "cell_type": "code",
   "execution_count": 11,
   "id": "0d7cfc90",
   "metadata": {},
   "outputs": [
    {
     "output_type": "display_data",
     "data": {
      "text/plain": "<IPython.core.display.HTML object>",
      "text/html": "<style type='text/css'>\n.datatable table.frame { margin-bottom: 0; }\n.datatable table.frame thead { border-bottom: none; }\n.datatable table.frame tr.coltypes td {  color: #FFFFFF;  line-height: 6px;  padding: 0 0.5em;}\n.datatable .bool    { background: #DDDD99; }\n.datatable .object  { background: #565656; }\n.datatable .int     { background: #5D9E5D; }\n.datatable .float   { background: #4040CC; }\n.datatable .str     { background: #CC4040; }\n.datatable .time    { background: #40CC40; }\n.datatable .row_index {  background: var(--jp-border-color3);  border-right: 1px solid var(--jp-border-color0);  color: var(--jp-ui-font-color3);  font-size: 9px;}\n.datatable .frame tbody td { text-align: left; }\n.datatable .frame tr.coltypes .row_index {  background: var(--jp-border-color0);}\n.datatable th:nth-child(2) { padding-left: 12px; }\n.datatable .hellipsis {  color: var(--jp-cell-editor-border-color);}\n.datatable .vellipsis {  background: var(--jp-layout-color0);  color: var(--jp-cell-editor-border-color);}\n.datatable .na {  color: var(--jp-cell-editor-border-color);  font-size: 80%;}\n.datatable .sp {  opacity: 0.25;}\n.datatable .footer { font-size: 9px; }\n.datatable .frame_dimensions {  background: var(--jp-border-color3);  border-top: 1px solid var(--jp-border-color0);  color: var(--jp-ui-font-color3);  display: inline-block;  opacity: 0.6;  padding: 1px 10px 1px 5px;}\n</style>\n"
     },
     "metadata": {}
    }
   ],
   "source": [
    "import numpy as np\n",
    "import pandas as pd\n",
    "import xgboost as xgb\n",
    "import datatable as dt\n",
    "from sklearn.preprocessing import OneHotEncoder, LabelEncoder\n",
    "from sklearn.compose import ColumnTransformer\n",
    "from sklearn.model_selection import train_test_split, StratifiedKFold, cross_validate, cross_val_score, cross_val_predict\n",
    "from sklearn.metrics import matthews_corrcoef, confusion_matrix, roc_auc_score, classification_report\n",
    "from imblearn.over_sampling import SMOTE\n",
    "from imblearn.under_sampling import RandomUnderSampler\n",
    "from imblearn.combine import SMOTETomek\n",
    "from imblearn.pipeline import Pipeline\n",
    "from sklearn.metrics import recall_score, accuracy_score\n",
    "from sklearn.impute import KNNImputer\n"
   ]
  },
  {
   "cell_type": "code",
   "execution_count": 12,
   "id": "a0113108",
   "metadata": {},
   "outputs": [],
   "source": [
    "random_state = 7\n",
    "cv_method = StratifiedKFold(n_splits=5)\n",
    "pd.set_option('display.max_rows', 100)"
   ]
  },
  {
   "cell_type": "markdown",
   "id": "acd67abf",
   "metadata": {},
   "source": [
    "# Training of tsfresh-selected Training Max 1 years and eGFR 4 times"
   ]
  },
  {
   "cell_type": "code",
   "execution_count": 25,
   "metadata": {},
   "outputs": [
    {
     "output_type": "stream",
     "name": "stdout",
     "text": [
      "/mnt/home/jupyter-dchristiadi85/PhD Project 1/script\n"
     ]
    }
   ],
   "source": [
    "!pwd"
   ]
  },
  {
   "cell_type": "code",
   "execution_count": 26,
   "id": "9206c520",
   "metadata": {},
   "outputs": [
    {
     "output_type": "execute_result",
     "data": {
      "text/plain": [
       "(5603, 23639)"
      ]
     },
     "metadata": {},
     "execution_count": 26
    }
   ],
   "source": [
    "df = dt.fread('/mnt/home/jupyter-dchristiadi85/PhD Project 1/data/train_selected_1_4.gz')\n",
    "df = df.to_pandas()\n",
    "df.shape"
   ]
  },
  {
   "cell_type": "code",
   "execution_count": 27,
   "metadata": {},
   "outputs": [],
   "source": [
    "df['aki_1'].fillna(value=0, inplace=True)\n",
    "df['aki_2'].fillna(value=0, inplace=True)\n",
    "df['aki_3'].fillna(value=0, inplace=True)"
   ]
  },
  {
   "cell_type": "code",
   "execution_count": 28,
   "id": "dbf97d0f",
   "metadata": {},
   "outputs": [],
   "source": [
    "percent_missing = df.isnull().sum()*100 / len(df)\n",
    "missing_df = pd.DataFrame({'column_name': df.columns, 'percent_miss': percent_missing})"
   ]
  },
  {
   "cell_type": "code",
   "execution_count": 29,
   "id": "dd7b5344",
   "metadata": {},
   "outputs": [
    {
     "output_type": "execute_result",
     "data": {
      "text/plain": [
       "                                                                                          column_name  \\\n",
       "urea__fft_coefficient__attr_\"\"\"\"\"\"\"\"real\"\"\"\"\"\"\"...  urea__fft_coefficient__attr_\"\"\"\"\"\"\"\"real\"\"\"\"\"\"...   \n",
       "monocytes__fft_coefficient__attr_\"\"\"\"\"\"\"\"abs\"\"\"...  monocytes__fft_coefficient__attr_\"\"\"\"\"\"\"\"abs\"\"...   \n",
       "calcium__fft_coefficient__attr_\"\"\"\"\"\"\"\"abs\"\"\"\"\"...  calcium__fft_coefficient__attr_\"\"\"\"\"\"\"\"abs\"\"\"\"...   \n",
       "calcium__fft_coefficient__attr_\"\"\"\"\"\"\"\"abs\"\"\"\"\"...  calcium__fft_coefficient__attr_\"\"\"\"\"\"\"\"abs\"\"\"\"...   \n",
       "calcium__fft_coefficient__attr_\"\"\"\"\"\"\"\"abs\"\"\"\"\"...  calcium__fft_coefficient__attr_\"\"\"\"\"\"\"\"abs\"\"\"\"...   \n",
       "...                                                                                               ...   \n",
       "alt__fft_coefficient__attr_\"\"\"\"\"\"\"\"angle\"\"\"\"\"\"\"...  alt__fft_coefficient__attr_\"\"\"\"\"\"\"\"angle\"\"\"\"\"\"...   \n",
       "alt__fft_coefficient__attr_\"\"\"\"\"\"\"\"angle\"\"\"\"\"\"\"...  alt__fft_coefficient__attr_\"\"\"\"\"\"\"\"angle\"\"\"\"\"\"...   \n",
       "alt__fft_coefficient__attr_\"\"\"\"\"\"\"\"abs\"\"\"\"\"\"\"\"_...  alt__fft_coefficient__attr_\"\"\"\"\"\"\"\"abs\"\"\"\"\"\"\"\"...   \n",
       "alt__fft_coefficient__attr_\"\"\"\"\"\"\"\"abs\"\"\"\"\"\"\"\"_...  alt__fft_coefficient__attr_\"\"\"\"\"\"\"\"abs\"\"\"\"\"\"\"\"...   \n",
       "cat8                                                                                             cat8   \n",
       "\n",
       "                                                    percent_miss  \n",
       "urea__fft_coefficient__attr_\"\"\"\"\"\"\"\"real\"\"\"\"\"\"\"...     99.982152  \n",
       "monocytes__fft_coefficient__attr_\"\"\"\"\"\"\"\"abs\"\"\"...     99.982152  \n",
       "calcium__fft_coefficient__attr_\"\"\"\"\"\"\"\"abs\"\"\"\"\"...     99.982152  \n",
       "calcium__fft_coefficient__attr_\"\"\"\"\"\"\"\"abs\"\"\"\"\"...     99.982152  \n",
       "calcium__fft_coefficient__attr_\"\"\"\"\"\"\"\"abs\"\"\"\"\"...     99.982152  \n",
       "...                                                          ...  \n",
       "alt__fft_coefficient__attr_\"\"\"\"\"\"\"\"angle\"\"\"\"\"\"\"...      0.000000  \n",
       "alt__fft_coefficient__attr_\"\"\"\"\"\"\"\"angle\"\"\"\"\"\"\"...      0.000000  \n",
       "alt__fft_coefficient__attr_\"\"\"\"\"\"\"\"abs\"\"\"\"\"\"\"\"_...      0.000000  \n",
       "alt__fft_coefficient__attr_\"\"\"\"\"\"\"\"abs\"\"\"\"\"\"\"\"_...      0.000000  \n",
       "cat8                                                    0.000000  \n",
       "\n",
       "[23639 rows x 2 columns]"
      ],
      "text/html": "<div>\n<style scoped>\n    .dataframe tbody tr th:only-of-type {\n        vertical-align: middle;\n    }\n\n    .dataframe tbody tr th {\n        vertical-align: top;\n    }\n\n    .dataframe thead th {\n        text-align: right;\n    }\n</style>\n<table border=\"1\" class=\"dataframe\">\n  <thead>\n    <tr style=\"text-align: right;\">\n      <th></th>\n      <th>column_name</th>\n      <th>percent_miss</th>\n    </tr>\n  </thead>\n  <tbody>\n    <tr>\n      <th>urea__fft_coefficient__attr_\"\"\"\"\"\"\"\"real\"\"\"\"\"\"\"\"__coeff_67</th>\n      <td>urea__fft_coefficient__attr_\"\"\"\"\"\"\"\"real\"\"\"\"\"\"...</td>\n      <td>99.982152</td>\n    </tr>\n    <tr>\n      <th>monocytes__fft_coefficient__attr_\"\"\"\"\"\"\"\"abs\"\"\"\"\"\"\"\"__coeff_65</th>\n      <td>monocytes__fft_coefficient__attr_\"\"\"\"\"\"\"\"abs\"\"...</td>\n      <td>99.982152</td>\n    </tr>\n    <tr>\n      <th>calcium__fft_coefficient__attr_\"\"\"\"\"\"\"\"abs\"\"\"\"\"\"\"\"__coeff_73</th>\n      <td>calcium__fft_coefficient__attr_\"\"\"\"\"\"\"\"abs\"\"\"\"...</td>\n      <td>99.982152</td>\n    </tr>\n    <tr>\n      <th>calcium__fft_coefficient__attr_\"\"\"\"\"\"\"\"abs\"\"\"\"\"\"\"\"__coeff_74</th>\n      <td>calcium__fft_coefficient__attr_\"\"\"\"\"\"\"\"abs\"\"\"\"...</td>\n      <td>99.982152</td>\n    </tr>\n    <tr>\n      <th>calcium__fft_coefficient__attr_\"\"\"\"\"\"\"\"abs\"\"\"\"\"\"\"\"__coeff_75</th>\n      <td>calcium__fft_coefficient__attr_\"\"\"\"\"\"\"\"abs\"\"\"\"...</td>\n      <td>99.982152</td>\n    </tr>\n    <tr>\n      <th>...</th>\n      <td>...</td>\n      <td>...</td>\n    </tr>\n    <tr>\n      <th>alt__fft_coefficient__attr_\"\"\"\"\"\"\"\"angle\"\"\"\"\"\"\"\"__coeff_60</th>\n      <td>alt__fft_coefficient__attr_\"\"\"\"\"\"\"\"angle\"\"\"\"\"\"...</td>\n      <td>0.000000</td>\n    </tr>\n    <tr>\n      <th>alt__fft_coefficient__attr_\"\"\"\"\"\"\"\"angle\"\"\"\"\"\"\"\"__coeff_59</th>\n      <td>alt__fft_coefficient__attr_\"\"\"\"\"\"\"\"angle\"\"\"\"\"\"...</td>\n      <td>0.000000</td>\n    </tr>\n    <tr>\n      <th>alt__fft_coefficient__attr_\"\"\"\"\"\"\"\"abs\"\"\"\"\"\"\"\"__coeff_99</th>\n      <td>alt__fft_coefficient__attr_\"\"\"\"\"\"\"\"abs\"\"\"\"\"\"\"\"...</td>\n      <td>0.000000</td>\n    </tr>\n    <tr>\n      <th>alt__fft_coefficient__attr_\"\"\"\"\"\"\"\"abs\"\"\"\"\"\"\"\"__coeff_98</th>\n      <td>alt__fft_coefficient__attr_\"\"\"\"\"\"\"\"abs\"\"\"\"\"\"\"\"...</td>\n      <td>0.000000</td>\n    </tr>\n    <tr>\n      <th>cat8</th>\n      <td>cat8</td>\n      <td>0.000000</td>\n    </tr>\n  </tbody>\n</table>\n<p>23639 rows × 2 columns</p>\n</div>"
     },
     "metadata": {},
     "execution_count": 29
    }
   ],
   "source": [
    "missing_df.sort_values(by='percent_miss', ascending=False)"
   ]
  },
  {
   "cell_type": "markdown",
   "id": "5eae72d6",
   "metadata": {},
   "source": [
    "### Number of patients reaching ESKD within training period "
   ]
  },
  {
   "cell_type": "code",
   "execution_count": 30,
   "id": "7f960c7b",
   "metadata": {},
   "outputs": [
    {
     "output_type": "execute_result",
     "data": {
      "text/plain": [
       "non_eskd    4409\n",
       "eskd        1194\n",
       "Name: cat1, dtype: int64"
      ]
     },
     "metadata": {},
     "execution_count": 30
    }
   ],
   "source": [
    "df['cat1'].value_counts()"
   ]
  },
  {
   "cell_type": "code",
   "execution_count": 31,
   "id": "62c71ca6",
   "metadata": {},
   "outputs": [],
   "source": [
    "df.set_index('id', inplace=True)"
   ]
  },
  {
   "cell_type": "code",
   "execution_count": 32,
   "id": "ef3a258f",
   "metadata": {},
   "outputs": [],
   "source": [
    "def to_category(df):\n",
    "    cols = df.select_dtypes(include='object').columns\n",
    "    for col in cols:\n",
    "        df[col] = df[col].astype('category')\n",
    "    return df\n",
    "\n",
    "def drop_missing(df):\n",
    "    threshold = len(df)*0.5\n",
    "    df.dropna(axis=1, thresh=threshold, inplace=True)\n",
    "    return df\n",
    "\n",
    "def copy_df(df):\n",
    "    return df.copy()"
   ]
  },
  {
   "cell_type": "code",
   "execution_count": 34,
   "id": "91404a70",
   "metadata": {},
   "outputs": [
    {
     "output_type": "error",
     "ename": "KeyboardInterrupt",
     "evalue": "",
     "traceback": [
      "\u001b[0;31m---------------------------------------------------------------------------\u001b[0m",
      "\u001b[0;31mKeyboardInterrupt\u001b[0m                         Traceback (most recent call last)",
      "\u001b[0;32m<ipython-input-34-f442b465618e>\u001b[0m in \u001b[0;36m<module>\u001b[0;34m\u001b[0m\n\u001b[0;32m----> 1\u001b[0;31m \u001b[0mdf_cleaned\u001b[0m \u001b[0;34m=\u001b[0m \u001b[0;34m(\u001b[0m\u001b[0mdf\u001b[0m\u001b[0;34m.\u001b[0m\u001b[0mpipe\u001b[0m\u001b[0;34m(\u001b[0m\u001b[0mcopy_df\u001b[0m\u001b[0;34m)\u001b[0m\u001b[0;34m.\u001b[0m\u001b[0mpipe\u001b[0m\u001b[0;34m(\u001b[0m\u001b[0mto_category\u001b[0m\u001b[0;34m)\u001b[0m\u001b[0;34m.\u001b[0m\u001b[0mpipe\u001b[0m\u001b[0;34m(\u001b[0m\u001b[0mdrop_missing\u001b[0m\u001b[0;34m)\u001b[0m\u001b[0;34m)\u001b[0m\u001b[0;34m\u001b[0m\u001b[0;34m\u001b[0m\u001b[0m\n\u001b[0m\u001b[1;32m      2\u001b[0m \u001b[0mdf_cleaned\u001b[0m\u001b[0;34m.\u001b[0m\u001b[0mshape\u001b[0m\u001b[0;34m\u001b[0m\u001b[0;34m\u001b[0m\u001b[0m\n",
      "\u001b[0;32m~/.conda/envs/ml_dl/lib/python3.9/site-packages/pandas/core/generic.py\u001b[0m in \u001b[0;36mpipe\u001b[0;34m(self, func, *args, **kwargs)\u001b[0m\n\u001b[1;32m   5419\u001b[0m         ...  )  # doctest: +SKIP\n\u001b[1;32m   5420\u001b[0m         \"\"\"\n\u001b[0;32m-> 5421\u001b[0;31m         \u001b[0;32mreturn\u001b[0m \u001b[0mcom\u001b[0m\u001b[0;34m.\u001b[0m\u001b[0mpipe\u001b[0m\u001b[0;34m(\u001b[0m\u001b[0mself\u001b[0m\u001b[0;34m,\u001b[0m \u001b[0mfunc\u001b[0m\u001b[0;34m,\u001b[0m \u001b[0;34m*\u001b[0m\u001b[0margs\u001b[0m\u001b[0;34m,\u001b[0m \u001b[0;34m**\u001b[0m\u001b[0mkwargs\u001b[0m\u001b[0;34m)\u001b[0m\u001b[0;34m\u001b[0m\u001b[0;34m\u001b[0m\u001b[0m\n\u001b[0m\u001b[1;32m   5422\u001b[0m \u001b[0;34m\u001b[0m\u001b[0m\n\u001b[1;32m   5423\u001b[0m     \u001b[0;31m# ----------------------------------------------------------------------\u001b[0m\u001b[0;34m\u001b[0m\u001b[0;34m\u001b[0m\u001b[0;34m\u001b[0m\u001b[0m\n",
      "\u001b[0;32m~/.conda/envs/ml_dl/lib/python3.9/site-packages/pandas/core/common.py\u001b[0m in \u001b[0;36mpipe\u001b[0;34m(obj, func, *args, **kwargs)\u001b[0m\n\u001b[1;32m    465\u001b[0m         \u001b[0;32mreturn\u001b[0m \u001b[0mfunc\u001b[0m\u001b[0;34m(\u001b[0m\u001b[0;34m*\u001b[0m\u001b[0margs\u001b[0m\u001b[0;34m,\u001b[0m \u001b[0;34m**\u001b[0m\u001b[0mkwargs\u001b[0m\u001b[0;34m)\u001b[0m\u001b[0;34m\u001b[0m\u001b[0;34m\u001b[0m\u001b[0m\n\u001b[1;32m    466\u001b[0m     \u001b[0;32melse\u001b[0m\u001b[0;34m:\u001b[0m\u001b[0;34m\u001b[0m\u001b[0;34m\u001b[0m\u001b[0m\n\u001b[0;32m--> 467\u001b[0;31m         \u001b[0;32mreturn\u001b[0m \u001b[0mfunc\u001b[0m\u001b[0;34m(\u001b[0m\u001b[0mobj\u001b[0m\u001b[0;34m,\u001b[0m \u001b[0;34m*\u001b[0m\u001b[0margs\u001b[0m\u001b[0;34m,\u001b[0m \u001b[0;34m**\u001b[0m\u001b[0mkwargs\u001b[0m\u001b[0;34m)\u001b[0m\u001b[0;34m\u001b[0m\u001b[0;34m\u001b[0m\u001b[0m\n\u001b[0m\u001b[1;32m    468\u001b[0m \u001b[0;34m\u001b[0m\u001b[0m\n\u001b[1;32m    469\u001b[0m \u001b[0;34m\u001b[0m\u001b[0m\n",
      "\u001b[0;32m<ipython-input-32-9a9336175f85>\u001b[0m in \u001b[0;36mto_category\u001b[0;34m(df)\u001b[0m\n\u001b[1;32m      2\u001b[0m     \u001b[0mcols\u001b[0m \u001b[0;34m=\u001b[0m \u001b[0mdf\u001b[0m\u001b[0;34m.\u001b[0m\u001b[0mselect_dtypes\u001b[0m\u001b[0;34m(\u001b[0m\u001b[0minclude\u001b[0m\u001b[0;34m=\u001b[0m\u001b[0;34m'object'\u001b[0m\u001b[0;34m)\u001b[0m\u001b[0;34m.\u001b[0m\u001b[0mcolumns\u001b[0m\u001b[0;34m\u001b[0m\u001b[0;34m\u001b[0m\u001b[0m\n\u001b[1;32m      3\u001b[0m     \u001b[0;32mfor\u001b[0m \u001b[0mcol\u001b[0m \u001b[0;32min\u001b[0m \u001b[0mcols\u001b[0m\u001b[0;34m:\u001b[0m\u001b[0;34m\u001b[0m\u001b[0;34m\u001b[0m\u001b[0m\n\u001b[0;32m----> 4\u001b[0;31m         \u001b[0mdf\u001b[0m\u001b[0;34m[\u001b[0m\u001b[0mcol\u001b[0m\u001b[0;34m]\u001b[0m \u001b[0;34m=\u001b[0m \u001b[0mdf\u001b[0m\u001b[0;34m[\u001b[0m\u001b[0mcol\u001b[0m\u001b[0;34m]\u001b[0m\u001b[0;34m.\u001b[0m\u001b[0mastype\u001b[0m\u001b[0;34m(\u001b[0m\u001b[0;34m'category'\u001b[0m\u001b[0;34m)\u001b[0m\u001b[0;34m\u001b[0m\u001b[0;34m\u001b[0m\u001b[0m\n\u001b[0m\u001b[1;32m      5\u001b[0m     \u001b[0;32mreturn\u001b[0m \u001b[0mdf\u001b[0m\u001b[0;34m\u001b[0m\u001b[0;34m\u001b[0m\u001b[0m\n\u001b[1;32m      6\u001b[0m \u001b[0;34m\u001b[0m\u001b[0m\n",
      "\u001b[0;32m~/.conda/envs/ml_dl/lib/python3.9/site-packages/pandas/core/frame.py\u001b[0m in \u001b[0;36m__setitem__\u001b[0;34m(self, key, value)\u001b[0m\n\u001b[1;32m   3605\u001b[0m         \u001b[0;32melse\u001b[0m\u001b[0;34m:\u001b[0m\u001b[0;34m\u001b[0m\u001b[0;34m\u001b[0m\u001b[0m\n\u001b[1;32m   3606\u001b[0m             \u001b[0;31m# set column\u001b[0m\u001b[0;34m\u001b[0m\u001b[0;34m\u001b[0m\u001b[0;34m\u001b[0m\u001b[0m\n\u001b[0;32m-> 3607\u001b[0;31m             \u001b[0mself\u001b[0m\u001b[0;34m.\u001b[0m\u001b[0m_set_item\u001b[0m\u001b[0;34m(\u001b[0m\u001b[0mkey\u001b[0m\u001b[0;34m,\u001b[0m \u001b[0mvalue\u001b[0m\u001b[0;34m)\u001b[0m\u001b[0;34m\u001b[0m\u001b[0;34m\u001b[0m\u001b[0m\n\u001b[0m\u001b[1;32m   3608\u001b[0m \u001b[0;34m\u001b[0m\u001b[0m\n\u001b[1;32m   3609\u001b[0m     \u001b[0;32mdef\u001b[0m \u001b[0m_setitem_slice\u001b[0m\u001b[0;34m(\u001b[0m\u001b[0mself\u001b[0m\u001b[0;34m,\u001b[0m \u001b[0mkey\u001b[0m\u001b[0;34m:\u001b[0m \u001b[0mslice\u001b[0m\u001b[0;34m,\u001b[0m \u001b[0mvalue\u001b[0m\u001b[0;34m)\u001b[0m\u001b[0;34m:\u001b[0m\u001b[0;34m\u001b[0m\u001b[0;34m\u001b[0m\u001b[0m\n",
      "\u001b[0;32m~/.conda/envs/ml_dl/lib/python3.9/site-packages/pandas/core/frame.py\u001b[0m in \u001b[0;36m_set_item\u001b[0;34m(self, key, value)\u001b[0m\n\u001b[1;32m   3790\u001b[0m                     \u001b[0mvalue\u001b[0m \u001b[0;34m=\u001b[0m \u001b[0mnp\u001b[0m\u001b[0;34m.\u001b[0m\u001b[0mtile\u001b[0m\u001b[0;34m(\u001b[0m\u001b[0mvalue\u001b[0m\u001b[0;34m,\u001b[0m \u001b[0;34m(\u001b[0m\u001b[0mlen\u001b[0m\u001b[0;34m(\u001b[0m\u001b[0mexisting_piece\u001b[0m\u001b[0;34m.\u001b[0m\u001b[0mcolumns\u001b[0m\u001b[0;34m)\u001b[0m\u001b[0;34m,\u001b[0m \u001b[0;36m1\u001b[0m\u001b[0;34m)\u001b[0m\u001b[0;34m)\u001b[0m\u001b[0;34m.\u001b[0m\u001b[0mT\u001b[0m\u001b[0;34m\u001b[0m\u001b[0;34m\u001b[0m\u001b[0m\n\u001b[1;32m   3791\u001b[0m \u001b[0;34m\u001b[0m\u001b[0m\n\u001b[0;32m-> 3792\u001b[0;31m         \u001b[0mself\u001b[0m\u001b[0;34m.\u001b[0m\u001b[0m_set_item_mgr\u001b[0m\u001b[0;34m(\u001b[0m\u001b[0mkey\u001b[0m\u001b[0;34m,\u001b[0m \u001b[0mvalue\u001b[0m\u001b[0;34m)\u001b[0m\u001b[0;34m\u001b[0m\u001b[0;34m\u001b[0m\u001b[0m\n\u001b[0m\u001b[1;32m   3793\u001b[0m \u001b[0;34m\u001b[0m\u001b[0m\n\u001b[1;32m   3794\u001b[0m     def _set_value(\n",
      "\u001b[0;32m~/.conda/envs/ml_dl/lib/python3.9/site-packages/pandas/core/frame.py\u001b[0m in \u001b[0;36m_set_item_mgr\u001b[0;34m(self, key, value)\u001b[0m\n\u001b[1;32m   3749\u001b[0m             \u001b[0mself\u001b[0m\u001b[0;34m.\u001b[0m\u001b[0m_mgr\u001b[0m\u001b[0;34m.\u001b[0m\u001b[0minsert\u001b[0m\u001b[0;34m(\u001b[0m\u001b[0mlen\u001b[0m\u001b[0;34m(\u001b[0m\u001b[0mself\u001b[0m\u001b[0;34m.\u001b[0m\u001b[0m_info_axis\u001b[0m\u001b[0;34m)\u001b[0m\u001b[0;34m,\u001b[0m \u001b[0mkey\u001b[0m\u001b[0;34m,\u001b[0m \u001b[0mvalue\u001b[0m\u001b[0;34m)\u001b[0m\u001b[0;34m\u001b[0m\u001b[0;34m\u001b[0m\u001b[0m\n\u001b[1;32m   3750\u001b[0m         \u001b[0;32melse\u001b[0m\u001b[0;34m:\u001b[0m\u001b[0;34m\u001b[0m\u001b[0;34m\u001b[0m\u001b[0m\n\u001b[0;32m-> 3751\u001b[0;31m             \u001b[0mself\u001b[0m\u001b[0;34m.\u001b[0m\u001b[0m_iset_item_mgr\u001b[0m\u001b[0;34m(\u001b[0m\u001b[0mloc\u001b[0m\u001b[0;34m,\u001b[0m \u001b[0mvalue\u001b[0m\u001b[0;34m)\u001b[0m\u001b[0;34m\u001b[0m\u001b[0;34m\u001b[0m\u001b[0m\n\u001b[0m\u001b[1;32m   3752\u001b[0m \u001b[0;34m\u001b[0m\u001b[0m\n\u001b[1;32m   3753\u001b[0m         \u001b[0;31m# check if we are modifying a copy\u001b[0m\u001b[0;34m\u001b[0m\u001b[0;34m\u001b[0m\u001b[0;34m\u001b[0m\u001b[0m\n",
      "\u001b[0;32m~/.conda/envs/ml_dl/lib/python3.9/site-packages/pandas/core/frame.py\u001b[0m in \u001b[0;36m_iset_item_mgr\u001b[0;34m(self, loc, value)\u001b[0m\n\u001b[1;32m   3740\u001b[0m         \u001b[0;31m# when called from _set_item_mgr loc can be anything returned from get_loc\u001b[0m\u001b[0;34m\u001b[0m\u001b[0;34m\u001b[0m\u001b[0;34m\u001b[0m\u001b[0m\n\u001b[1;32m   3741\u001b[0m         \u001b[0mself\u001b[0m\u001b[0;34m.\u001b[0m\u001b[0m_mgr\u001b[0m\u001b[0;34m.\u001b[0m\u001b[0miset\u001b[0m\u001b[0;34m(\u001b[0m\u001b[0mloc\u001b[0m\u001b[0;34m,\u001b[0m \u001b[0mvalue\u001b[0m\u001b[0;34m)\u001b[0m\u001b[0;34m\u001b[0m\u001b[0;34m\u001b[0m\u001b[0m\n\u001b[0;32m-> 3742\u001b[0;31m         \u001b[0mself\u001b[0m\u001b[0;34m.\u001b[0m\u001b[0m_clear_item_cache\u001b[0m\u001b[0;34m(\u001b[0m\u001b[0;34m)\u001b[0m\u001b[0;34m\u001b[0m\u001b[0;34m\u001b[0m\u001b[0m\n\u001b[0m\u001b[1;32m   3743\u001b[0m \u001b[0;34m\u001b[0m\u001b[0m\n\u001b[1;32m   3744\u001b[0m     \u001b[0;32mdef\u001b[0m \u001b[0m_set_item_mgr\u001b[0m\u001b[0;34m(\u001b[0m\u001b[0mself\u001b[0m\u001b[0;34m,\u001b[0m \u001b[0mkey\u001b[0m\u001b[0;34m,\u001b[0m \u001b[0mvalue\u001b[0m\u001b[0;34m:\u001b[0m \u001b[0mArrayLike\u001b[0m\u001b[0;34m)\u001b[0m \u001b[0;34m->\u001b[0m \u001b[0;32mNone\u001b[0m\u001b[0;34m:\u001b[0m\u001b[0;34m\u001b[0m\u001b[0;34m\u001b[0m\u001b[0m\n",
      "\u001b[0;32m~/.conda/envs/ml_dl/lib/python3.9/site-packages/pandas/core/frame.py\u001b[0m in \u001b[0;36m_clear_item_cache\u001b[0;34m(self)\u001b[0m\n\u001b[1;32m   3867\u001b[0m \u001b[0;34m\u001b[0m\u001b[0m\n\u001b[1;32m   3868\u001b[0m     \u001b[0;32mdef\u001b[0m \u001b[0m_clear_item_cache\u001b[0m\u001b[0;34m(\u001b[0m\u001b[0mself\u001b[0m\u001b[0;34m)\u001b[0m \u001b[0;34m->\u001b[0m \u001b[0;32mNone\u001b[0m\u001b[0;34m:\u001b[0m\u001b[0;34m\u001b[0m\u001b[0;34m\u001b[0m\u001b[0m\n\u001b[0;32m-> 3869\u001b[0;31m         \u001b[0mself\u001b[0m\u001b[0;34m.\u001b[0m\u001b[0m_item_cache\u001b[0m\u001b[0;34m.\u001b[0m\u001b[0mclear\u001b[0m\u001b[0;34m(\u001b[0m\u001b[0;34m)\u001b[0m\u001b[0;34m\u001b[0m\u001b[0;34m\u001b[0m\u001b[0m\n\u001b[0m\u001b[1;32m   3870\u001b[0m \u001b[0;34m\u001b[0m\u001b[0m\n\u001b[1;32m   3871\u001b[0m     \u001b[0;32mdef\u001b[0m \u001b[0m_get_item_cache\u001b[0m\u001b[0;34m(\u001b[0m\u001b[0mself\u001b[0m\u001b[0;34m,\u001b[0m \u001b[0mitem\u001b[0m\u001b[0;34m:\u001b[0m \u001b[0mHashable\u001b[0m\u001b[0;34m)\u001b[0m \u001b[0;34m->\u001b[0m \u001b[0mSeries\u001b[0m\u001b[0;34m:\u001b[0m\u001b[0;34m\u001b[0m\u001b[0;34m\u001b[0m\u001b[0m\n",
      "\u001b[0;31mKeyboardInterrupt\u001b[0m: "
     ]
    }
   ],
   "source": [
    "df_cleaned = (df.pipe(copy_df).pipe(to_category).pipe(drop_missing))\n",
    "df_cleaned.shape"
   ]
  },
  {
   "cell_type": "code",
   "execution_count": 11,
   "metadata": {},
   "outputs": [
    {
     "output_type": "execute_result",
     "data": {
      "text/plain": [
       "(4409, 6737)"
      ]
     },
     "metadata": {},
     "execution_count": 11
    }
   ],
   "source": [
    "df_rm_intrain = df_cleaned.query(\"cat1 == 'non_eskd'\")\n",
    "df_rm_intrain.shape"
   ]
  },
  {
   "cell_type": "markdown",
   "id": "e96b4285",
   "metadata": {},
   "source": [
    "### Number of patients reaching ESKD in at 1y post-training "
   ]
  },
  {
   "cell_type": "code",
   "execution_count": 12,
   "id": "784caa92",
   "metadata": {},
   "outputs": [
    {
     "output_type": "execute_result",
     "data": {
      "text/plain": [
       "non_eskd    4282\n",
       "eskd         127\n",
       "Name: cat2, dtype: int64"
      ]
     },
     "metadata": {},
     "execution_count": 12
    }
   ],
   "source": [
    "df_rm_intrain['cat2'].value_counts()"
   ]
  },
  {
   "cell_type": "markdown",
   "id": "a530dc0c",
   "metadata": {},
   "source": [
    "### Number of patients reaching ESKD in 2y post-training"
   ]
  },
  {
   "cell_type": "code",
   "execution_count": 13,
   "id": "442c8191",
   "metadata": {},
   "outputs": [
    {
     "output_type": "execute_result",
     "data": {
      "text/plain": [
       "non_eskd    4174\n",
       "eskd         235\n",
       "Name: cat3, dtype: int64"
      ]
     },
     "metadata": {},
     "execution_count": 13
    }
   ],
   "source": [
    "df_rm_intrain['cat3'].value_counts()"
   ]
  },
  {
   "source": [
    "### Number of patients reaching ESKD in 5y post-training"
   ],
   "cell_type": "markdown",
   "metadata": {}
  },
  {
   "cell_type": "code",
   "execution_count": 14,
   "metadata": {},
   "outputs": [
    {
     "output_type": "execute_result",
     "data": {
      "text/plain": [
       "non_eskd    3918\n",
       "eskd         491\n",
       "Name: cat6, dtype: int64"
      ]
     },
     "metadata": {},
     "execution_count": 14
    }
   ],
   "source": [
    "df_rm_intrain['cat6'].value_counts()"
   ]
  },
  {
   "cell_type": "code",
   "execution_count": 15,
   "metadata": {},
   "outputs": [],
   "source": [
    "percent_missing = df_rm_intrain.isnull().sum()*100 / len(df)\n",
    "missing_df_rm_intrain = pd.DataFrame({'column_name': df_rm_intrain.columns, 'percent_miss': percent_missing})"
   ]
  },
  {
   "cell_type": "code",
   "execution_count": 16,
   "metadata": {},
   "outputs": [
    {
     "output_type": "execute_result",
     "data": {
      "text/plain": [
       "                                                                                          column_name  \\\n",
       "egfr__permutation_entropy__dimension_4__tau_1           egfr__permutation_entropy__dimension_4__tau_1   \n",
       "egfr__kurtosis                                                                         egfr__kurtosis   \n",
       "egfr__partial_autocorrelation__lag_0                             egfr__partial_autocorrelation__lag_0   \n",
       "egfr__cwt_coefficients__coeff_3__w_2__widths_(2...  egfr__cwt_coefficients__coeff_3__w_2__widths_(...   \n",
       "egfr__cwt_coefficients__coeff_3__w_5__widths_(2...  egfr__cwt_coefficients__coeff_3__w_5__widths_(...   \n",
       "...                                                                                               ...   \n",
       "dkd                                                                                               dkd   \n",
       "htn                                                                                               htn   \n",
       "aki_3                                                                                           aki_3   \n",
       "aki_2                                                                                           aki_2   \n",
       "cat8                                                                                             cat8   \n",
       "\n",
       "                                                    percent_miss  \n",
       "egfr__permutation_entropy__dimension_4__tau_1           47.52811  \n",
       "egfr__kurtosis                                          47.52811  \n",
       "egfr__partial_autocorrelation__lag_0                    47.52811  \n",
       "egfr__cwt_coefficients__coeff_3__w_2__widths_(2...      47.52811  \n",
       "egfr__cwt_coefficients__coeff_3__w_5__widths_(2...      47.52811  \n",
       "...                                                          ...  \n",
       "dkd                                                      0.00000  \n",
       "htn                                                      0.00000  \n",
       "aki_3                                                    0.00000  \n",
       "aki_2                                                    0.00000  \n",
       "cat8                                                     0.00000  \n",
       "\n",
       "[6737 rows x 2 columns]"
      ],
      "text/html": "<div>\n<style scoped>\n    .dataframe tbody tr th:only-of-type {\n        vertical-align: middle;\n    }\n\n    .dataframe tbody tr th {\n        vertical-align: top;\n    }\n\n    .dataframe thead th {\n        text-align: right;\n    }\n</style>\n<table border=\"1\" class=\"dataframe\">\n  <thead>\n    <tr style=\"text-align: right;\">\n      <th></th>\n      <th>column_name</th>\n      <th>percent_miss</th>\n    </tr>\n  </thead>\n  <tbody>\n    <tr>\n      <th>egfr__permutation_entropy__dimension_4__tau_1</th>\n      <td>egfr__permutation_entropy__dimension_4__tau_1</td>\n      <td>47.52811</td>\n    </tr>\n    <tr>\n      <th>egfr__kurtosis</th>\n      <td>egfr__kurtosis</td>\n      <td>47.52811</td>\n    </tr>\n    <tr>\n      <th>egfr__partial_autocorrelation__lag_0</th>\n      <td>egfr__partial_autocorrelation__lag_0</td>\n      <td>47.52811</td>\n    </tr>\n    <tr>\n      <th>egfr__cwt_coefficients__coeff_3__w_2__widths_(2, 5, 10, 20)</th>\n      <td>egfr__cwt_coefficients__coeff_3__w_2__widths_(...</td>\n      <td>47.52811</td>\n    </tr>\n    <tr>\n      <th>egfr__cwt_coefficients__coeff_3__w_5__widths_(2, 5, 10, 20)</th>\n      <td>egfr__cwt_coefficients__coeff_3__w_5__widths_(...</td>\n      <td>47.52811</td>\n    </tr>\n    <tr>\n      <th>...</th>\n      <td>...</td>\n      <td>...</td>\n    </tr>\n    <tr>\n      <th>dkd</th>\n      <td>dkd</td>\n      <td>0.00000</td>\n    </tr>\n    <tr>\n      <th>htn</th>\n      <td>htn</td>\n      <td>0.00000</td>\n    </tr>\n    <tr>\n      <th>aki_3</th>\n      <td>aki_3</td>\n      <td>0.00000</td>\n    </tr>\n    <tr>\n      <th>aki_2</th>\n      <td>aki_2</td>\n      <td>0.00000</td>\n    </tr>\n    <tr>\n      <th>cat8</th>\n      <td>cat8</td>\n      <td>0.00000</td>\n    </tr>\n  </tbody>\n</table>\n<p>6737 rows × 2 columns</p>\n</div>"
     },
     "metadata": {},
     "execution_count": 16
    }
   ],
   "source": [
    "missing_df_rm_intrain.sort_values(by='percent_miss', ascending=False)"
   ]
  },
  {
   "cell_type": "markdown",
   "id": "6a25314b",
   "metadata": {},
   "source": [
    "## Features and Target Input for Training "
   ]
  },
  {
   "cell_type": "code",
   "execution_count": 17,
   "id": "96b2c563",
   "metadata": {},
   "outputs": [],
   "source": [
    "dropped_cols = list(df_rm_intrain.columns[-20:])\n",
    "dropped_cols.remove('age.init')\n"
   ]
  },
  {
   "cell_type": "code",
   "execution_count": 18,
   "metadata": {},
   "outputs": [
    {
     "output_type": "execute_result",
     "data": {
      "text/plain": [
       "((4409, 6718), (4409,))"
      ]
     },
     "metadata": {},
     "execution_count": 18
    }
   ],
   "source": [
    "X = df_rm_intrain.drop(dropped_cols,axis =1).copy()\n",
    "y = df_rm_intrain['cat6'].values\n",
    "X.shape, y.shape"
   ]
  },
  {
   "cell_type": "code",
   "execution_count": 19,
   "metadata": {},
   "outputs": [],
   "source": [
    "category_cols = list(X.select_dtypes(include='category').columns)\n",
    "numeric_cols = list(X.select_dtypes(include=['int', 'float']).columns)\n",
    "one_hot = OneHotEncoder()\n",
    "num_imputer = KNNImputer(n_neighbors=5)\n"
   ]
  },
  {
   "cell_type": "code",
   "execution_count": 20,
   "metadata": {},
   "outputs": [],
   "source": [
    "y_mapped = y.map({'non_eskd':'no', 'eskd':'yes'})"
   ]
  },
  {
   "cell_type": "code",
   "execution_count": 22,
   "metadata": {},
   "outputs": [
    {
     "output_type": "execute_result",
     "data": {
      "text/plain": [
       "['no', 'no', 'no', 'no', 'no', ..., 'no', 'no', 'no', 'no', 'no']\n",
       "Length: 4409\n",
       "Categories (2, object): ['yes', 'no']"
      ]
     },
     "metadata": {},
     "execution_count": 22
    }
   ],
   "source": [
    "y_mapped"
   ]
  },
  {
   "cell_type": "code",
   "execution_count": 23,
   "metadata": {},
   "outputs": [
    {
     "output_type": "execute_result",
     "data": {
      "text/plain": [
       "(4409,)"
      ]
     },
     "metadata": {},
     "execution_count": 23
    }
   ],
   "source": [
    "lab_encode = LabelEncoder()\n",
    "y_transformed = lab_encode.fit_transform(y_mapped)\n",
    "y_transformed.shape"
   ]
  },
  {
   "cell_type": "code",
   "execution_count": 24,
   "metadata": {},
   "outputs": [
    {
     "output_type": "execute_result",
     "data": {
      "text/plain": [
       "{0: 3918, 1: 491}"
      ]
     },
     "metadata": {},
     "execution_count": 24
    }
   ],
   "source": [
    "unique_values, counts = np.unique(y_transformed, return_counts=True)\n",
    "ratio = dict(zip(unique_values, counts))\n",
    "ratio"
   ]
  },
  {
   "cell_type": "code",
   "execution_count": 25,
   "id": "cd0b891d",
   "metadata": {},
   "outputs": [
    {
     "output_type": "execute_result",
     "data": {
      "text/plain": [
       "7.979633401221996"
      ]
     },
     "metadata": {},
     "execution_count": 25
    }
   ],
   "source": [
    "\n",
    "imbalance_ratio = ratio[0] / ratio[1]\n",
    "imbalance_ratio"
   ]
  },
  {
   "cell_type": "code",
   "execution_count": 26,
   "metadata": {},
   "outputs": [],
   "source": [
    "transformer = ColumnTransformer([('one_hot', one_hot, category_cols), ('num_imputer', num_imputer, numeric_cols)], remainder='passthrough')\n"
   ]
  },
  {
   "cell_type": "code",
   "execution_count": 27,
   "metadata": {},
   "outputs": [
    {
     "output_type": "execute_result",
     "data": {
      "text/plain": [
       "((3086, 6718), (1323, 6718), (3086,), (1323,))"
      ]
     },
     "metadata": {},
     "execution_count": 27
    }
   ],
   "source": [
    "X_train, X_test, y_train, y_test = train_test_split(X, y_transformed, test_size=0.3, stratify=y_transformed)\n",
    "X_train.shape, X_test.shape, y_train.shape, y_test.shape"
   ]
  },
  {
   "cell_type": "code",
   "execution_count": 28,
   "metadata": {},
   "outputs": [],
   "source": [
    "imputed_X_train = transformer.fit_transform(X_train)\n",
    "imputed_X_test = transformer.transform(X_test)"
   ]
  },
  {
   "cell_type": "markdown",
   "id": "7f30951a",
   "metadata": {},
   "source": [
    "## ML Training "
   ]
  },
  {
   "cell_type": "code",
   "execution_count": 33,
   "metadata": {},
   "outputs": [],
   "source": [
    "xgb_class = xgb.XGBClassifier(n_jobs=-1, random_state = random_state, n_estimators=1000, use_label_encoder=False, eval_metric='logloss', scale_pos_weight=imbalance_ratio)\n",
    "sampler = SMOTETomek(sampling_strategy=0.5, random_state=random_state)\n",
    "\n"
   ]
  },
  {
   "cell_type": "code",
   "execution_count": 34,
   "metadata": {},
   "outputs": [],
   "source": [
    "steps = [('resampling', sampler), ('model', xgb_class)]\n",
    "pipeline = Pipeline(steps=steps)"
   ]
  },
  {
   "cell_type": "code",
   "execution_count": 35,
   "metadata": {},
   "outputs": [
    {
     "output_type": "execute_result",
     "data": {
      "text/plain": [
       "Pipeline(steps=[('resampling',\n",
       "                 SMOTETomek(random_state=7, sampling_strategy=0.5)),\n",
       "                ('model',\n",
       "                 XGBClassifier(base_score=0.5, booster='gbtree',\n",
       "                               colsample_bylevel=1, colsample_bynode=1,\n",
       "                               colsample_bytree=1, eval_metric='logloss',\n",
       "                               gamma=0, gpu_id=-1, importance_type='gain',\n",
       "                               interaction_constraints='',\n",
       "                               learning_rate=0.300000012, max_delta_step=0,\n",
       "                               max_depth=6, min_child_weight=1, missing=nan,\n",
       "                               monotone_constraints='()', n_estimators=1000,\n",
       "                               n_jobs=-1, num_parallel_tree=1, random_state=7,\n",
       "                               reg_alpha=0, reg_lambda=1,\n",
       "                               scale_pos_weight=7.979633401221996, subsample=1,\n",
       "                               tree_method='exact', use_label_encoder=False,\n",
       "                               validate_parameters=1, verbosity=None))])"
      ]
     },
     "metadata": {},
     "execution_count": 35
    }
   ],
   "source": [
    "pipeline.fit(imputed_X_train, y_train)"
   ]
  },
  {
   "cell_type": "code",
   "execution_count": 36,
   "metadata": {},
   "outputs": [],
   "source": [
    "y_pred = pipeline.predict(imputed_X_test)"
   ]
  },
  {
   "cell_type": "code",
   "execution_count": 37,
   "metadata": {},
   "outputs": [
    {
     "output_type": "execute_result",
     "data": {
      "text/plain": [
       "array([[1128,   48],\n",
       "       [  86,   61]])"
      ]
     },
     "metadata": {},
     "execution_count": 37
    }
   ],
   "source": [
    "confusion_matrix(y_true=y_test, y_pred=y_pred)"
   ]
  },
  {
   "cell_type": "code",
   "execution_count": 38,
   "metadata": {},
   "outputs": [
    {
     "output_type": "stream",
     "name": "stdout",
     "text": [
      "              precision    recall  f1-score   support\n\n           0       0.93      0.96      0.94      1176\n           1       0.56      0.41      0.48       147\n\n    accuracy                           0.90      1323\n   macro avg       0.74      0.69      0.71      1323\nweighted avg       0.89      0.90      0.89      1323\n\n"
     ]
    }
   ],
   "source": [
    "print(classification_report(y_true=y_test, y_pred=y_pred))"
   ]
  },
  {
   "cell_type": "code",
   "execution_count": 39,
   "metadata": {},
   "outputs": [
    {
     "output_type": "stream",
     "name": "stdout",
     "text": [
      "0.42764666609783214\n"
     ]
    }
   ],
   "source": [
    "print(matthews_corrcoef(y_test, y_pred))"
   ]
  },
  {
   "cell_type": "code",
   "execution_count": 40,
   "metadata": {},
   "outputs": [
    {
     "output_type": "execute_result",
     "data": {
      "text/plain": [
       "XGBClassifier(base_score=0.5, booster='gbtree', colsample_bylevel=1,\n",
       "              colsample_bynode=1, colsample_bytree=1, eval_metric='logloss',\n",
       "              gamma=0, gpu_id=-1, importance_type='gain',\n",
       "              interaction_constraints='', learning_rate=0.300000012,\n",
       "              max_delta_step=0, max_depth=6, min_child_weight=1, missing=nan,\n",
       "              monotone_constraints='()', n_estimators=1000, n_jobs=-1,\n",
       "              num_parallel_tree=1, random_state=7, reg_alpha=0, reg_lambda=1,\n",
       "              scale_pos_weight=7.979633401221996, subsample=1,\n",
       "              tree_method='exact', use_label_encoder=False,\n",
       "              validate_parameters=1, verbosity=None)"
      ]
     },
     "metadata": {},
     "execution_count": 40
    }
   ],
   "source": [
    "pipeline._final_estimator"
   ]
  },
  {
   "cell_type": "code",
   "execution_count": null,
   "metadata": {},
   "outputs": [],
   "source": []
  }
 ],
 "metadata": {
  "kernelspec": {
   "name": "python3",
   "display_name": "Python 3.9.5 64-bit ('ml_dl': conda)"
  },
  "language_info": {
   "codemirror_mode": {
    "name": "ipython",
    "version": 3
   },
   "file_extension": ".py",
   "mimetype": "text/x-python",
   "name": "python",
   "nbconvert_exporter": "python",
   "pygments_lexer": "ipython3",
   "version": "3.9.5"
  },
  "interpreter": {
   "hash": "252eb11dec6c7c75d43c93f623bff35f4a463f74afda1ad8986a53442394c969"
  }
 },
 "nbformat": 4,
 "nbformat_minor": 5
}