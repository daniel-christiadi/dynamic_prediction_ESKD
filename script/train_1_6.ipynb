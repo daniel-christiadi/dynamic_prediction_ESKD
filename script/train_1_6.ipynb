{
 "cells": [
  {
   "cell_type": "code",
   "execution_count": 1,
   "source": [
    "import numpy as np\n",
    "import pandas as pd\n",
    "import xgboost as xgb\n",
    "import shap\n",
    "from sklearn.preprocessing import OneHotEncoder, LabelEncoder\n",
    "from sklearn.compose import ColumnTransformer\n",
    "from sklearn.model_selection import train_test_split, StratifiedKFold, cross_validate, cross_val_score, cross_val_predict\n",
    "from sklearn.metrics import matthews_corrcoef, confusion_matrix, roc_auc_score, classification_report\n",
    "from imblearn.over_sampling import SMOTE\n",
    "from imblearn.under_sampling import RandomUnderSampler\n",
    "from imblearn.combine import SMOTETomek\n",
    "from imblearn.pipeline import Pipeline\n",
    "from sklearn.metrics import recall_score, accuracy_score\n",
    "from sklearn.impute import KNNImputer, SimpleImputer"
   ],
   "outputs": [],
   "metadata": {}
  },
  {
   "cell_type": "code",
   "execution_count": 2,
   "source": [
    "random_state = 7\n",
    "cv_method = StratifiedKFold(n_splits=5)"
   ],
   "outputs": [],
   "metadata": {}
  },
  {
   "cell_type": "markdown",
   "source": [
    "# Training of tsfresh-selected Training Max 1 years and eGFR 6 times"
   ],
   "metadata": {}
  },
  {
   "cell_type": "code",
   "execution_count": 3,
   "source": [
    "df = pd.read_csv('/home/jupyter-dchristiadi85/PhD Project 1/data/train_selected_1_6.gz')\n",
    "df.shape"
   ],
   "outputs": [
    {
     "output_type": "execute_result",
     "data": {
      "text/plain": [
       "(4633, 23639)"
      ]
     },
     "metadata": {},
     "execution_count": 3
    }
   ],
   "metadata": {}
  },
  {
   "cell_type": "code",
   "execution_count": 4,
   "source": [
    "df.info()"
   ],
   "outputs": [
    {
     "output_type": "stream",
     "name": "stdout",
     "text": [
      "<class 'pandas.core.frame.DataFrame'>\n",
      "RangeIndex: 4633 entries, 0 to 4632\n",
      "Columns: 23639 entries, id to cat8\n",
      "dtypes: float64(23617), int64(2), object(20)\n",
      "memory usage: 835.6+ MB\n"
     ]
    }
   ],
   "metadata": {}
  },
  {
   "cell_type": "code",
   "execution_count": 5,
   "source": [
    "df['aki_1'].fillna(value=0, inplace=True)\n",
    "df['aki_2'].fillna(value=0, inplace=True)\n",
    "df['aki_3'].fillna(value=0, inplace=True)"
   ],
   "outputs": [],
   "metadata": {}
  },
  {
   "cell_type": "code",
   "execution_count": 6,
   "source": [
    "df['gn'].value_counts()"
   ],
   "outputs": [
    {
     "output_type": "execute_result",
     "data": {
      "text/plain": [
       "no                 4220\n",
       "igan                167\n",
       "anca                 76\n",
       "lupus nephritis      39\n",
       "membranous           32\n",
       "unspecific           28\n",
       "fsgs                 27\n",
       "mcd                  21\n",
       "mp/mcgn              16\n",
       "fgn/itg               5\n",
       "pign                  2\n",
       "Name: gn, dtype: int64"
      ]
     },
     "metadata": {},
     "execution_count": 6
    }
   ],
   "metadata": {}
  },
  {
   "cell_type": "code",
   "execution_count": 7,
   "source": [
    "df.loc[df.gn == 'pign', 'gn'] = 'unspecific'\n",
    "df.loc[df.gn == 'fgn/itg', 'gn'] = 'unspecific'"
   ],
   "outputs": [],
   "metadata": {}
  },
  {
   "cell_type": "code",
   "execution_count": 8,
   "source": [
    "percent_missing = df.isnull().sum()*100 / len(df)\n",
    "missing_df = pd.DataFrame({'column_name': df.columns, 'percent_miss': percent_missing})"
   ],
   "outputs": [],
   "metadata": {}
  },
  {
   "cell_type": "code",
   "execution_count": 9,
   "source": [
    "missing_df.sort_values(by='percent_miss', ascending=False)"
   ],
   "outputs": [
    {
     "output_type": "execute_result",
     "data": {
      "text/plain": [
       "                                                                                          column_name  \\\n",
       "mch__fft_coefficient__attr_\"\"\"\"\"\"\"\"angle\"\"\"\"\"\"\"...  mch__fft_coefficient__attr_\"\"\"\"\"\"\"\"angle\"\"\"\"\"\"...   \n",
       "platelet__fft_coefficient__attr_\"\"\"\"\"\"\"\"abs\"\"\"\"...  platelet__fft_coefficient__attr_\"\"\"\"\"\"\"\"abs\"\"\"...   \n",
       "platelet__fft_coefficient__attr_\"\"\"\"\"\"\"\"abs\"\"\"\"...  platelet__fft_coefficient__attr_\"\"\"\"\"\"\"\"abs\"\"\"...   \n",
       "platelet__fft_coefficient__attr_\"\"\"\"\"\"\"\"abs\"\"\"\"...  platelet__fft_coefficient__attr_\"\"\"\"\"\"\"\"abs\"\"\"...   \n",
       "platelet__fft_coefficient__attr_\"\"\"\"\"\"\"\"abs\"\"\"\"...  platelet__fft_coefficient__attr_\"\"\"\"\"\"\"\"abs\"\"\"...   \n",
       "...                                                                                               ...   \n",
       "htn                                                                                               htn   \n",
       "aki_3                                                                                           aki_3   \n",
       "aki_2                                                                                           aki_2   \n",
       "aki_1                                                                                           aki_1   \n",
       "cat8                                                                                             cat8   \n",
       "\n",
       "                                                    percent_miss  \n",
       "mch__fft_coefficient__attr_\"\"\"\"\"\"\"\"angle\"\"\"\"\"\"\"...         100.0  \n",
       "platelet__fft_coefficient__attr_\"\"\"\"\"\"\"\"abs\"\"\"\"...         100.0  \n",
       "platelet__fft_coefficient__attr_\"\"\"\"\"\"\"\"abs\"\"\"\"...         100.0  \n",
       "platelet__fft_coefficient__attr_\"\"\"\"\"\"\"\"abs\"\"\"\"...         100.0  \n",
       "platelet__fft_coefficient__attr_\"\"\"\"\"\"\"\"abs\"\"\"\"...         100.0  \n",
       "...                                                          ...  \n",
       "htn                                                          0.0  \n",
       "aki_3                                                        0.0  \n",
       "aki_2                                                        0.0  \n",
       "aki_1                                                        0.0  \n",
       "cat8                                                         0.0  \n",
       "\n",
       "[23639 rows x 2 columns]"
      ],
      "text/html": [
       "<div>\n",
       "<style scoped>\n",
       "    .dataframe tbody tr th:only-of-type {\n",
       "        vertical-align: middle;\n",
       "    }\n",
       "\n",
       "    .dataframe tbody tr th {\n",
       "        vertical-align: top;\n",
       "    }\n",
       "\n",
       "    .dataframe thead th {\n",
       "        text-align: right;\n",
       "    }\n",
       "</style>\n",
       "<table border=\"1\" class=\"dataframe\">\n",
       "  <thead>\n",
       "    <tr style=\"text-align: right;\">\n",
       "      <th></th>\n",
       "      <th>column_name</th>\n",
       "      <th>percent_miss</th>\n",
       "    </tr>\n",
       "  </thead>\n",
       "  <tbody>\n",
       "    <tr>\n",
       "      <th>mch__fft_coefficient__attr_\"\"\"\"\"\"\"\"angle\"\"\"\"\"\"\"\"__coeff_67</th>\n",
       "      <td>mch__fft_coefficient__attr_\"\"\"\"\"\"\"\"angle\"\"\"\"\"\"...</td>\n",
       "      <td>100.0</td>\n",
       "    </tr>\n",
       "    <tr>\n",
       "      <th>platelet__fft_coefficient__attr_\"\"\"\"\"\"\"\"abs\"\"\"\"\"\"\"\"__coeff_67</th>\n",
       "      <td>platelet__fft_coefficient__attr_\"\"\"\"\"\"\"\"abs\"\"\"...</td>\n",
       "      <td>100.0</td>\n",
       "    </tr>\n",
       "    <tr>\n",
       "      <th>platelet__fft_coefficient__attr_\"\"\"\"\"\"\"\"abs\"\"\"\"\"\"\"\"__coeff_73</th>\n",
       "      <td>platelet__fft_coefficient__attr_\"\"\"\"\"\"\"\"abs\"\"\"...</td>\n",
       "      <td>100.0</td>\n",
       "    </tr>\n",
       "    <tr>\n",
       "      <th>platelet__fft_coefficient__attr_\"\"\"\"\"\"\"\"abs\"\"\"\"\"\"\"\"__coeff_72</th>\n",
       "      <td>platelet__fft_coefficient__attr_\"\"\"\"\"\"\"\"abs\"\"\"...</td>\n",
       "      <td>100.0</td>\n",
       "    </tr>\n",
       "    <tr>\n",
       "      <th>platelet__fft_coefficient__attr_\"\"\"\"\"\"\"\"abs\"\"\"\"\"\"\"\"__coeff_71</th>\n",
       "      <td>platelet__fft_coefficient__attr_\"\"\"\"\"\"\"\"abs\"\"\"...</td>\n",
       "      <td>100.0</td>\n",
       "    </tr>\n",
       "    <tr>\n",
       "      <th>...</th>\n",
       "      <td>...</td>\n",
       "      <td>...</td>\n",
       "    </tr>\n",
       "    <tr>\n",
       "      <th>htn</th>\n",
       "      <td>htn</td>\n",
       "      <td>0.0</td>\n",
       "    </tr>\n",
       "    <tr>\n",
       "      <th>aki_3</th>\n",
       "      <td>aki_3</td>\n",
       "      <td>0.0</td>\n",
       "    </tr>\n",
       "    <tr>\n",
       "      <th>aki_2</th>\n",
       "      <td>aki_2</td>\n",
       "      <td>0.0</td>\n",
       "    </tr>\n",
       "    <tr>\n",
       "      <th>aki_1</th>\n",
       "      <td>aki_1</td>\n",
       "      <td>0.0</td>\n",
       "    </tr>\n",
       "    <tr>\n",
       "      <th>cat8</th>\n",
       "      <td>cat8</td>\n",
       "      <td>0.0</td>\n",
       "    </tr>\n",
       "  </tbody>\n",
       "</table>\n",
       "<p>23639 rows × 2 columns</p>\n",
       "</div>"
      ]
     },
     "metadata": {},
     "execution_count": 9
    }
   ],
   "metadata": {}
  },
  {
   "cell_type": "markdown",
   "source": [
    "### Number of patients reaching ESKD within training period "
   ],
   "metadata": {}
  },
  {
   "cell_type": "code",
   "execution_count": 10,
   "source": [
    "df['cat1'].value_counts()"
   ],
   "outputs": [
    {
     "output_type": "execute_result",
     "data": {
      "text/plain": [
       "non_eskd    3522\n",
       "eskd        1111\n",
       "Name: cat1, dtype: int64"
      ]
     },
     "metadata": {},
     "execution_count": 10
    }
   ],
   "metadata": {}
  },
  {
   "cell_type": "code",
   "execution_count": 11,
   "source": [
    "df.set_index('id', inplace=True)"
   ],
   "outputs": [],
   "metadata": {}
  },
  {
   "cell_type": "code",
   "execution_count": 12,
   "source": [
    "def to_category(df):\n",
    "    cols = df.select_dtypes(include='object').columns\n",
    "    for col in cols:\n",
    "        df[col] = df[col].astype('category')\n",
    "    return df\n",
    "\n",
    "def drop_missing(df):\n",
    "    threshold = len(df)*0.6\n",
    "    df.dropna(axis=1, thresh=threshold, inplace=True)\n",
    "    return df\n",
    "\n",
    "def copy_df(df):\n",
    "    return df.copy()"
   ],
   "outputs": [],
   "metadata": {}
  },
  {
   "cell_type": "code",
   "execution_count": 13,
   "source": [
    "df_cleaned = (df.pipe(copy_df).pipe(drop_missing).pipe(to_category))\n",
    "df_cleaned.shape"
   ],
   "outputs": [
    {
     "output_type": "execute_result",
     "data": {
      "text/plain": [
       "(4633, 5152)"
      ]
     },
     "metadata": {},
     "execution_count": 13
    }
   ],
   "metadata": {}
  },
  {
   "cell_type": "code",
   "execution_count": 14,
   "source": [
    "df_rm_intrain = df_cleaned.query(\"cat1 == 'non_eskd'\")\n",
    "df_rm_intrain.shape"
   ],
   "outputs": [
    {
     "output_type": "execute_result",
     "data": {
      "text/plain": [
       "(3522, 5152)"
      ]
     },
     "metadata": {},
     "execution_count": 14
    }
   ],
   "metadata": {}
  },
  {
   "cell_type": "code",
   "execution_count": 15,
   "source": [
    "df_rm_intrain.to_csv('../data/cleaned60_selected_1_6.gz', index=True, compression='gzip')"
   ],
   "outputs": [],
   "metadata": {}
  },
  {
   "cell_type": "code",
   "execution_count": 16,
   "source": [
    "df_rm_intrain.info()"
   ],
   "outputs": [
    {
     "output_type": "stream",
     "name": "stdout",
     "text": [
      "<class 'pandas.core.frame.DataFrame'>\n",
      "Int64Index: 3522 entries, 3916 to 23864\n",
      "Columns: 5152 entries, mchc__variance_larger_than_standard_deviation to cat8\n",
      "dtypes: category(20), float64(5131), int64(1)\n",
      "memory usage: 138.0 MB\n"
     ]
    }
   ],
   "metadata": {}
  },
  {
   "cell_type": "code",
   "execution_count": 112,
   "source": [
    "df_rm_intrain = (df_rm_intrain.pipe(copy_df).pipe(to_category))\n",
    "df_rm_intrain.shape"
   ],
   "outputs": [
    {
     "output_type": "execute_result",
     "data": {
      "text/plain": [
       "(4409, 8985)"
      ]
     },
     "metadata": {},
     "execution_count": 112
    }
   ],
   "metadata": {}
  },
  {
   "cell_type": "markdown",
   "source": [
    "### Number of patients reaching ESKD in at 1y post-training "
   ],
   "metadata": {}
  },
  {
   "cell_type": "code",
   "execution_count": 17,
   "source": [
    "df_rm_intrain['cat2'].value_counts()"
   ],
   "outputs": [
    {
     "output_type": "execute_result",
     "data": {
      "text/plain": [
       "non_eskd    3396\n",
       "eskd         126\n",
       "Name: cat2, dtype: int64"
      ]
     },
     "metadata": {},
     "execution_count": 17
    }
   ],
   "metadata": {}
  },
  {
   "cell_type": "markdown",
   "source": [
    "### Number of patients reaching ESKD in 2y post-training"
   ],
   "metadata": {}
  },
  {
   "cell_type": "code",
   "execution_count": 18,
   "source": [
    "df_rm_intrain['cat3'].value_counts()"
   ],
   "outputs": [
    {
     "output_type": "execute_result",
     "data": {
      "text/plain": [
       "non_eskd    3289\n",
       "eskd         233\n",
       "Name: cat3, dtype: int64"
      ]
     },
     "metadata": {},
     "execution_count": 18
    }
   ],
   "metadata": {}
  },
  {
   "cell_type": "markdown",
   "source": [
    "### Number of patients reaching ESKD in 5y post-training"
   ],
   "metadata": {}
  },
  {
   "cell_type": "code",
   "execution_count": 19,
   "source": [
    "df_rm_intrain['cat6'].value_counts()"
   ],
   "outputs": [
    {
     "output_type": "execute_result",
     "data": {
      "text/plain": [
       "non_eskd    3033\n",
       "eskd         489\n",
       "Name: cat6, dtype: int64"
      ]
     },
     "metadata": {},
     "execution_count": 19
    }
   ],
   "metadata": {}
  },
  {
   "cell_type": "code",
   "execution_count": 20,
   "source": [
    "percent_missing = df_rm_intrain.isnull().sum()*100 / len(df_rm_intrain)\n",
    "missing_df_rm_intrain = pd.DataFrame({'column_name': df_rm_intrain.columns, 'percent_miss': percent_missing})"
   ],
   "outputs": [],
   "metadata": {}
  },
  {
   "cell_type": "code",
   "execution_count": 21,
   "source": [
    "missing_df_rm_intrain.sort_values(by='percent_miss', ascending=False)"
   ],
   "outputs": [
    {
     "output_type": "execute_result",
     "data": {
      "text/plain": [
       "                                                                                          column_name  \\\n",
       "creatinine__autocorrelation__lag_2                                 creatinine__autocorrelation__lag_2   \n",
       "creatinine__cwt_coefficients__coeff_2__w_5__wid...  creatinine__cwt_coefficients__coeff_2__w_5__wi...   \n",
       "creatinine__skewness                                                             creatinine__skewness   \n",
       "creatinine__cwt_coefficients__coeff_2__w_2__wid...  creatinine__cwt_coefficients__coeff_2__w_2__wi...   \n",
       "creatinine__cwt_coefficients__coeff_2__w_20__wi...  creatinine__cwt_coefficients__coeff_2__w_20__w...   \n",
       "...                                                                                               ...   \n",
       "dkd                                                                                               dkd   \n",
       "htn                                                                                               htn   \n",
       "aki_3                                                                                           aki_3   \n",
       "aki_2                                                                                           aki_2   \n",
       "cat8                                                                                             cat8   \n",
       "\n",
       "                                                    percent_miss  \n",
       "creatinine__autocorrelation__lag_2                     48.409994  \n",
       "creatinine__cwt_coefficients__coeff_2__w_5__wid...     48.211244  \n",
       "creatinine__skewness                                   48.211244  \n",
       "creatinine__cwt_coefficients__coeff_2__w_2__wid...     48.211244  \n",
       "creatinine__cwt_coefficients__coeff_2__w_20__wi...     48.211244  \n",
       "...                                                          ...  \n",
       "dkd                                                     0.000000  \n",
       "htn                                                     0.000000  \n",
       "aki_3                                                   0.000000  \n",
       "aki_2                                                   0.000000  \n",
       "cat8                                                    0.000000  \n",
       "\n",
       "[5152 rows x 2 columns]"
      ],
      "text/html": [
       "<div>\n",
       "<style scoped>\n",
       "    .dataframe tbody tr th:only-of-type {\n",
       "        vertical-align: middle;\n",
       "    }\n",
       "\n",
       "    .dataframe tbody tr th {\n",
       "        vertical-align: top;\n",
       "    }\n",
       "\n",
       "    .dataframe thead th {\n",
       "        text-align: right;\n",
       "    }\n",
       "</style>\n",
       "<table border=\"1\" class=\"dataframe\">\n",
       "  <thead>\n",
       "    <tr style=\"text-align: right;\">\n",
       "      <th></th>\n",
       "      <th>column_name</th>\n",
       "      <th>percent_miss</th>\n",
       "    </tr>\n",
       "  </thead>\n",
       "  <tbody>\n",
       "    <tr>\n",
       "      <th>creatinine__autocorrelation__lag_2</th>\n",
       "      <td>creatinine__autocorrelation__lag_2</td>\n",
       "      <td>48.409994</td>\n",
       "    </tr>\n",
       "    <tr>\n",
       "      <th>creatinine__cwt_coefficients__coeff_2__w_5__widths_(2, 5, 10, 20)</th>\n",
       "      <td>creatinine__cwt_coefficients__coeff_2__w_5__wi...</td>\n",
       "      <td>48.211244</td>\n",
       "    </tr>\n",
       "    <tr>\n",
       "      <th>creatinine__skewness</th>\n",
       "      <td>creatinine__skewness</td>\n",
       "      <td>48.211244</td>\n",
       "    </tr>\n",
       "    <tr>\n",
       "      <th>creatinine__cwt_coefficients__coeff_2__w_2__widths_(2, 5, 10, 20)</th>\n",
       "      <td>creatinine__cwt_coefficients__coeff_2__w_2__wi...</td>\n",
       "      <td>48.211244</td>\n",
       "    </tr>\n",
       "    <tr>\n",
       "      <th>creatinine__cwt_coefficients__coeff_2__w_20__widths_(2, 5, 10, 20)</th>\n",
       "      <td>creatinine__cwt_coefficients__coeff_2__w_20__w...</td>\n",
       "      <td>48.211244</td>\n",
       "    </tr>\n",
       "    <tr>\n",
       "      <th>...</th>\n",
       "      <td>...</td>\n",
       "      <td>...</td>\n",
       "    </tr>\n",
       "    <tr>\n",
       "      <th>dkd</th>\n",
       "      <td>dkd</td>\n",
       "      <td>0.000000</td>\n",
       "    </tr>\n",
       "    <tr>\n",
       "      <th>htn</th>\n",
       "      <td>htn</td>\n",
       "      <td>0.000000</td>\n",
       "    </tr>\n",
       "    <tr>\n",
       "      <th>aki_3</th>\n",
       "      <td>aki_3</td>\n",
       "      <td>0.000000</td>\n",
       "    </tr>\n",
       "    <tr>\n",
       "      <th>aki_2</th>\n",
       "      <td>aki_2</td>\n",
       "      <td>0.000000</td>\n",
       "    </tr>\n",
       "    <tr>\n",
       "      <th>cat8</th>\n",
       "      <td>cat8</td>\n",
       "      <td>0.000000</td>\n",
       "    </tr>\n",
       "  </tbody>\n",
       "</table>\n",
       "<p>5152 rows × 2 columns</p>\n",
       "</div>"
      ]
     },
     "metadata": {},
     "execution_count": 21
    }
   ],
   "metadata": {}
  },
  {
   "cell_type": "markdown",
   "source": [
    "## Features and Target Input for Training "
   ],
   "metadata": {}
  },
  {
   "cell_type": "code",
   "execution_count": 22,
   "source": [
    "dropped_cols = list(df_rm_intrain.columns[-18:])\n",
    "dropped_cols.remove('age.init')\n",
    "dropped_cols"
   ],
   "outputs": [
    {
     "output_type": "execute_result",
     "data": {
      "text/plain": [
       "['egfr.y',\n",
       " 'cat0.5',\n",
       " 'cat1',\n",
       " 'cat1.5',\n",
       " 'cat2',\n",
       " 'cat2.5',\n",
       " 'cat3',\n",
       " 'cat3.5',\n",
       " 'cat4',\n",
       " 'cat4.5',\n",
       " 'cat5',\n",
       " 'cat5.5',\n",
       " 'cat6',\n",
       " 'cat6.5',\n",
       " 'cat7',\n",
       " 'cat7.5',\n",
       " 'cat8']"
      ]
     },
     "metadata": {},
     "execution_count": 22
    }
   ],
   "metadata": {}
  },
  {
   "cell_type": "code",
   "execution_count": 23,
   "source": [
    "X = df_rm_intrain.drop(dropped_cols,axis=1).copy()\n",
    "y = df_rm_intrain['cat6']\n",
    "X.shape, y.shape"
   ],
   "outputs": [
    {
     "output_type": "execute_result",
     "data": {
      "text/plain": [
       "((3522, 5135), (3522,))"
      ]
     },
     "metadata": {},
     "execution_count": 23
    }
   ],
   "metadata": {}
  },
  {
   "cell_type": "code",
   "execution_count": 24,
   "source": [
    "y_mapped = y.map({'non_eskd':'no', 'eskd':'yes'})\n",
    "y_mapped"
   ],
   "outputs": [
    {
     "output_type": "execute_result",
     "data": {
      "text/plain": [
       "id\n",
       "3916      no\n",
       "3918      no\n",
       "3921      no\n",
       "3924      no\n",
       "3930      no\n",
       "        ... \n",
       "23753    yes\n",
       "23760     no\n",
       "23771     no\n",
       "23780     no\n",
       "23864     no\n",
       "Name: cat6, Length: 3522, dtype: category\n",
       "Categories (2, object): ['yes', 'no']"
      ]
     },
     "metadata": {},
     "execution_count": 24
    }
   ],
   "metadata": {}
  },
  {
   "cell_type": "code",
   "execution_count": 25,
   "source": [
    "X_train, X_test, y_train, y_test = train_test_split(X, y_mapped, test_size=0.3, stratify=y_mapped, random_state=random_state)\n",
    "X_train.shape, X_test.shape, y_train.shape, y_test.shape"
   ],
   "outputs": [
    {
     "output_type": "execute_result",
     "data": {
      "text/plain": [
       "((2465, 5135), (1057, 5135), (2465,), (1057,))"
      ]
     },
     "metadata": {},
     "execution_count": 25
    }
   ],
   "metadata": {}
  },
  {
   "cell_type": "code",
   "execution_count": 26,
   "source": [
    "lab_encode = LabelEncoder()\n",
    "y_train = lab_encode.fit_transform(y_train)\n",
    "y_test = lab_encode.transform(y_test)\n",
    "y_train.shape, y_test.shape"
   ],
   "outputs": [
    {
     "output_type": "execute_result",
     "data": {
      "text/plain": [
       "((2465,), (1057,))"
      ]
     },
     "metadata": {},
     "execution_count": 26
    }
   ],
   "metadata": {}
  },
  {
   "cell_type": "code",
   "execution_count": 27,
   "source": [
    "unique_values, counts = np.unique(y_train, return_counts=True)\n",
    "ratio = dict(zip(unique_values, counts))\n",
    "ratio"
   ],
   "outputs": [
    {
     "output_type": "execute_result",
     "data": {
      "text/plain": [
       "{0: 2123, 1: 342}"
      ]
     },
     "metadata": {},
     "execution_count": 27
    }
   ],
   "metadata": {}
  },
  {
   "cell_type": "code",
   "execution_count": 28,
   "source": [
    "imbalance_ratio = ratio[0] / ratio[1]\n",
    "imbalance_ratio"
   ],
   "outputs": [
    {
     "output_type": "execute_result",
     "data": {
      "text/plain": [
       "6.207602339181286"
      ]
     },
     "metadata": {},
     "execution_count": 28
    }
   ],
   "metadata": {}
  },
  {
   "cell_type": "code",
   "execution_count": 29,
   "source": [
    "category_cols = list(X_train.select_dtypes(include='category').columns)\n",
    "numeric_cols = list(X_train.select_dtypes(include=['number']).columns)\n",
    "one_hot = OneHotEncoder(handle_unknown='ignore')\n",
    "num_imputer = KNNImputer(n_neighbors=5)\n",
    "len(category_cols), len(numeric_cols)"
   ],
   "outputs": [
    {
     "output_type": "execute_result",
     "data": {
      "text/plain": [
       "(4, 5131)"
      ]
     },
     "metadata": {},
     "execution_count": 29
    }
   ],
   "metadata": {}
  },
  {
   "cell_type": "code",
   "execution_count": 30,
   "source": [
    "preprocess = ColumnTransformer([('numerical', num_imputer, numeric_cols), ('cat_encoder', one_hot, category_cols)], remainder='passthrough')\n",
    "X_train_processed = preprocess.fit_transform(X_train)\n",
    "X_train_processed.shape"
   ],
   "outputs": [
    {
     "output_type": "execute_result",
     "data": {
      "text/plain": [
       "(2465, 5146)"
      ]
     },
     "metadata": {},
     "execution_count": 30
    }
   ],
   "metadata": {}
  },
  {
   "cell_type": "code",
   "execution_count": 31,
   "source": [
    "X_test_processed = preprocess.transform(X_test)\n",
    "X_test_processed.shape"
   ],
   "outputs": [
    {
     "output_type": "execute_result",
     "data": {
      "text/plain": [
       "(1057, 5146)"
      ]
     },
     "metadata": {},
     "execution_count": 31
    }
   ],
   "metadata": {}
  },
  {
   "cell_type": "code",
   "execution_count": 32,
   "source": [
    "xgb_class = xgb.XGBClassifier(n_jobs=-1, random_state = random_state, n_estimators=1000, use_label_encoder=False, eval_metric='logloss', scale_pos_weight=imbalance_ratio)\n",
    "sampler = SMOTETomek(sampling_strategy=0.5, random_state=random_state)\n",
    "steps = [('resampling', sampler), ('model', xgb_class)]\n",
    "pipeline = Pipeline(steps=steps)"
   ],
   "outputs": [],
   "metadata": {}
  },
  {
   "cell_type": "code",
   "execution_count": 33,
   "source": [
    "pipeline.fit(X_train_processed, y_train)"
   ],
   "outputs": [
    {
     "output_type": "execute_result",
     "data": {
      "text/plain": [
       "Pipeline(steps=[('resampling',\n",
       "                 SMOTETomek(random_state=7, sampling_strategy=0.5)),\n",
       "                ('model',\n",
       "                 XGBClassifier(base_score=0.5, booster='gbtree',\n",
       "                               colsample_bylevel=1, colsample_bynode=1,\n",
       "                               colsample_bytree=1, eval_metric='logloss',\n",
       "                               gamma=0, gpu_id=-1, importance_type='gain',\n",
       "                               interaction_constraints='',\n",
       "                               learning_rate=0.300000012, max_delta_step=0,\n",
       "                               max_depth=6, min_child_weight=1, missing=nan,\n",
       "                               monotone_constraints='()', n_estimators=1000,\n",
       "                               n_jobs=-1, num_parallel_tree=1, random_state=7,\n",
       "                               reg_alpha=0, reg_lambda=1,\n",
       "                               scale_pos_weight=6.207602339181286, subsample=1,\n",
       "                               tree_method='exact', use_label_encoder=False,\n",
       "                               validate_parameters=1, verbosity=None))])"
      ]
     },
     "metadata": {},
     "execution_count": 33
    }
   ],
   "metadata": {}
  },
  {
   "cell_type": "code",
   "execution_count": 34,
   "source": [
    "y_pred = pipeline.predict(X_test_processed)"
   ],
   "outputs": [],
   "metadata": {}
  },
  {
   "cell_type": "code",
   "execution_count": 35,
   "source": [
    "confusion_matrix(y_true=y_test, y_pred=y_pred)"
   ],
   "outputs": [
    {
     "output_type": "execute_result",
     "data": {
      "text/plain": [
       "array([[866,  44],\n",
       "       [ 82,  65]])"
      ]
     },
     "metadata": {},
     "execution_count": 35
    }
   ],
   "metadata": {}
  },
  {
   "cell_type": "code",
   "execution_count": 36,
   "source": [
    "roc_auc_score(y_test, y_pred)"
   ],
   "outputs": [
    {
     "output_type": "execute_result",
     "data": {
      "text/plain": [
       "0.6969126111983255"
      ]
     },
     "metadata": {},
     "execution_count": 36
    }
   ],
   "metadata": {}
  },
  {
   "cell_type": "code",
   "execution_count": 37,
   "source": [
    "print(classification_report(y_true=y_test, y_pred=y_pred))"
   ],
   "outputs": [
    {
     "output_type": "stream",
     "name": "stdout",
     "text": [
      "              precision    recall  f1-score   support\n",
      "\n",
      "           0       0.91      0.95      0.93       910\n",
      "           1       0.60      0.44      0.51       147\n",
      "\n",
      "    accuracy                           0.88      1057\n",
      "   macro avg       0.75      0.70      0.72      1057\n",
      "weighted avg       0.87      0.88      0.87      1057\n",
      "\n"
     ]
    }
   ],
   "metadata": {}
  },
  {
   "cell_type": "code",
   "execution_count": 38,
   "source": [
    "print(matthews_corrcoef(y_test, y_pred))"
   ],
   "outputs": [
    {
     "output_type": "stream",
     "name": "stdout",
     "text": [
      "0.4480902279470589\n"
     ]
    }
   ],
   "metadata": {}
  },
  {
   "cell_type": "code",
   "execution_count": 39,
   "source": [
    "importance = pipeline.named_steps['model'].feature_importances_\n",
    "importance.shape, type(importance)"
   ],
   "outputs": [
    {
     "output_type": "execute_result",
     "data": {
      "text/plain": [
       "((5146,), numpy.ndarray)"
      ]
     },
     "metadata": {},
     "execution_count": 39
    }
   ],
   "metadata": {}
  },
  {
   "cell_type": "code",
   "execution_count": 40,
   "source": [
    "category_label = list(preprocess.named_transformers_['cat_encoder'].get_feature_names(category_cols))\n",
    "feature_label = numeric_cols + category_label\n",
    "len(feature_label)"
   ],
   "outputs": [
    {
     "output_type": "execute_result",
     "data": {
      "text/plain": [
       "5146"
      ]
     },
     "metadata": {},
     "execution_count": 40
    }
   ],
   "metadata": {}
  },
  {
   "cell_type": "code",
   "execution_count": 41,
   "source": [
    "pd.set_option('display.max_rows', 400)\n",
    "eval_df = pd.DataFrame({'label': feature_label, 'importance_value': importance})\n",
    "eval_df.sort_values(by='importance_value', ascending=False).head(100)"
   ],
   "outputs": [
    {
     "output_type": "execute_result",
     "data": {
      "text/plain": [
       "                                                  label  importance_value\n",
       "3569                        creatinine__quantile__q_0.3          0.109020\n",
       "2675  albumin__change_quantiles__f_agg_\"\"\"\"\"\"\"\"mean\"...          0.022457\n",
       "3517                                creatinine__maximum          0.019514\n",
       "3003            alkphos__lempel_ziv_complexity__bins_10          0.017837\n",
       "4675                                    mch__sum_values          0.015455\n",
       "1058  platelet__change_quantiles__f_agg_\"\"\"\"\"\"\"\"mean...          0.014196\n",
       "2747  albumin__energy_ratio_by_chunks__num_segments_...          0.010542\n",
       "2810                    alkphos__cid_ce__normalize_True          0.010034\n",
       "4673                             mch__has_duplicate_min          0.009794\n",
       "3349         caphos_product__index_mass_quantile__q_0.2          0.009780\n",
       "3519                    creatinine__benford_correlation          0.009484\n",
       "3643  creatinine__change_quantiles__f_agg_\"\"\"\"\"\"\"\"va...          0.008575\n",
       "1478  rbc__change_quantiles__f_agg_\"\"\"\"\"\"\"\"mean\"\"\"\"\"...          0.008547\n",
       "140   mchc__change_quantiles__f_agg_\"\"\"\"\"\"\"\"var\"\"\"\"\"...          0.008431\n",
       "4780  mch__change_quantiles__f_agg_\"\"\"\"\"\"\"\"mean\"\"\"\"\"...          0.008397\n",
       "3932              egfr__approximate_entropy__m_2__r_0.1          0.008182\n",
       "3819                              egfr__quantile__q_0.8          0.007960\n",
       "2203  ureacreat_ratio__change_quantiles__f_agg_\"\"\"\"\"...          0.007695\n",
       "439                             neutrophils__abs_energy          0.007691\n",
       "4020                   glucose__symmetry_looking__r_0.1          0.007246\n",
       "5133                                            dkd_dkd          0.007163\n",
       "2289    ureacreat_ratio__lempel_ziv_complexity__bins_10          0.007070\n",
       "1252  potassium__change_quantiles__f_agg_\"\"\"\"\"\"\"\"mea...          0.006920\n",
       "224                                     monocytes__mean          0.006578\n",
       "2565                       albumin__benford_correlation          0.006461\n",
       "2923  alkphos__change_quantiles__f_agg_\"\"\"\"\"\"\"\"mean\"...          0.006251\n",
       "4484  lymphocytes__time_reversal_asymmetry_statistic...          0.006147\n",
       "3815                              egfr__quantile__q_0.3          0.005962\n",
       "2709  albumin__change_quantiles__f_agg_\"\"\"\"\"\"\"\"mean\"...          0.005792\n",
       "4804  mch__change_quantiles__f_agg_\"\"\"\"\"\"\"\"mean\"\"\"\"\"...          0.005253\n",
       "155   mchc__change_quantiles__f_agg_\"\"\"\"\"\"\"\"mean\"\"\"\"...          0.005093\n",
       "2886  alkphos__cwt_coefficients__coeff_1__w_10__widt...          0.005052\n",
       "1097  platelet__energy_ratio_by_chunks__num_segments...          0.004956\n",
       "144   mchc__change_quantiles__f_agg_\"\"\"\"\"\"\"\"var\"\"\"\"\"...          0.004943\n",
       "3268           caphos_product__last_location_of_maximum          0.004649\n",
       "3315    caphos_product__large_standard_deviation__r_0.4          0.004610\n",
       "543   neutrophils__change_quantiles__f_agg_\"\"\"\"\"\"\"\"m...          0.004370\n",
       "5138                                 gn_lupus nephritis          0.004341\n",
       "1388  rbc__percentage_of_reoccurring_datapoints_to_a...          0.004333\n",
       "2563                                   albumin__maximum          0.004279\n",
       "5070  chloride__fft_coefficient__attr_\"\"\"\"\"\"\"\"abs\"\"\"...          0.004206\n",
       "3568                        creatinine__quantile__q_0.2          0.004195\n",
       "3521  creatinine__time_reversal_asymmetry_statistic_...          0.004185\n",
       "3741                                       egfr__median          0.004177\n",
       "1979  urea__change_quantiles__f_agg_\"\"\"\"\"\"\"\"mean\"\"\"\"...          0.004064\n",
       "3362  caphos_product__cwt_coefficients__coeff_1__w_1...          0.003962\n",
       "3511              creatinine__first_location_of_minimum          0.003834\n",
       "4091  glucose__cwt_coefficients__coeff_1__w_5__width...          0.003798\n",
       "561   neutrophils__change_quantiles__f_agg_\"\"\"\"\"\"\"\"m...          0.003785\n",
       "2662  albumin__change_quantiles__f_agg_\"\"\"\"\"\"\"\"var\"\"...          0.003750\n",
       "299                          monocytes__quantile__q_0.7          0.003737\n",
       "2921  alkphos__change_quantiles__f_agg_\"\"\"\"\"\"\"\"mean\"...          0.003736\n",
       "3878  egfr__change_quantiles__f_agg_\"\"\"\"\"\"\"\"mean\"\"\"\"...          0.003728\n",
       "4345  haemoglobin__change_quantiles__f_agg_\"\"\"\"\"\"\"\"m...          0.003694\n",
       "4672                             mch__has_duplicate_max          0.003693\n",
       "2979  alkphos__energy_ratio_by_chunks__num_segments_...          0.003600\n",
       "3877  egfr__change_quantiles__f_agg_\"\"\"\"\"\"\"\"var\"\"\"\"\"...          0.003588\n",
       "4105  glucose__change_quantiles__f_agg_\"\"\"\"\"\"\"\"mean\"...          0.003573\n",
       "3998                  glucose__last_location_of_maximum          0.003416\n",
       "464   neutrophils__time_reversal_asymmetry_statistic...          0.003401\n",
       "1711  sodium__change_quantiles__f_agg_\"\"\"\"\"\"\"\"mean\"\"...          0.003389\n",
       "3593             creatinine__index_mass_quantile__q_0.6          0.003386\n",
       "2873                alkphos__index_mass_quantile__q_0.2          0.003358\n",
       "846          phosphate__approximate_entropy__m_2__r_0.5          0.003311\n",
       "3580  creatinine__agg_autocorrelation__f_agg_\"\"\"\"\"\"\"...          0.003298\n",
       "3852  egfr__cwt_coefficients__coeff_2__w_5__widths_(...          0.003283\n",
       "2090  ureacreat_ratio__time_reversal_asymmetry_stati...          0.003174\n",
       "462                                neutrophils__minimum          0.003141\n",
       "3496                                   creatinine__mean          0.003072\n",
       "4086  glucose__cwt_coefficients__coeff_0__w_2__width...          0.003022\n",
       "841               phosphate__range_count__max_1__min_-1          0.002986\n",
       "2019    urea__linear_trend__attr_\"\"\"\"\"\"\"\"rvalue\"\"\"\"\"\"\"\"          0.002968\n",
       "1368                                 rbc__has_duplicate          0.002960\n",
       "3011                         calcium__has_duplicate_max          0.002956\n",
       "1551     rbc__linear_trend__attr_\"\"\"\"\"\"\"\"rvalue\"\"\"\"\"\"\"\"          0.002930\n",
       "4379  haemoglobin__change_quantiles__f_agg_\"\"\"\"\"\"\"\"m...          0.002912\n",
       "3831                            egfr__number_peaks__n_5          0.002908\n",
       "226                       monocytes__standard_deviation          0.002863\n",
       "4640  lymphocytes__linear_trend__attr_\"\"\"\"\"\"\"\"rvalue...          0.002857\n",
       "1585                              sodium__has_duplicate          0.002855\n",
       "795   phosphate__change_quantiles__f_agg_\"\"\"\"\"\"\"\"var...          0.002853\n",
       "1397      rbc__time_reversal_asymmetry_statistic__lag_3          0.002797\n",
       "4701      mch__time_reversal_asymmetry_statistic__lag_1          0.002747\n",
       "4174           glucose__approximate_entropy__m_2__r_0.7          0.002738\n",
       "2205  ureacreat_ratio__change_quantiles__f_agg_\"\"\"\"\"...          0.002723\n",
       "1344               potassium__ratio_beyond_r_sigma__r_1          0.002652\n",
       "1953  urea__change_quantiles__f_agg_\"\"\"\"\"\"\"\"mean\"\"\"\"...          0.002640\n",
       "626   neutrophils__energy_ratio_by_chunks__num_segme...          0.002634\n",
       "4223                           haemoglobin__mean_change          0.002617\n",
       "2783                        alkphos__standard_deviation          0.002517\n",
       "2541                               albumin__mean_change          0.002494\n",
       "4176  glucose__linear_trend__attr_\"\"\"\"\"\"\"\"pvalue\"\"\"\"...          0.002481\n",
       "1328  potassium__linear_trend__attr_\"\"\"\"\"\"\"\"slope\"\"\"...          0.002440\n",
       "1825                                   urea__abs_energy          0.002424\n",
       "910                 platelet__first_location_of_maximum          0.002415\n",
       "3244                   calcium__fourier_entropy__bins_3          0.002410\n",
       "3701  creatinine__energy_ratio_by_chunks__num_segmen...          0.002380\n",
       "1395      rbc__time_reversal_asymmetry_statistic__lag_1          0.002377\n",
       "3844  egfr__cwt_coefficients__coeff_0__w_5__widths_(...          0.002361\n",
       "4090  glucose__cwt_coefficients__coeff_1__w_2__width...          0.002356"
      ],
      "text/html": [
       "<div>\n",
       "<style scoped>\n",
       "    .dataframe tbody tr th:only-of-type {\n",
       "        vertical-align: middle;\n",
       "    }\n",
       "\n",
       "    .dataframe tbody tr th {\n",
       "        vertical-align: top;\n",
       "    }\n",
       "\n",
       "    .dataframe thead th {\n",
       "        text-align: right;\n",
       "    }\n",
       "</style>\n",
       "<table border=\"1\" class=\"dataframe\">\n",
       "  <thead>\n",
       "    <tr style=\"text-align: right;\">\n",
       "      <th></th>\n",
       "      <th>label</th>\n",
       "      <th>importance_value</th>\n",
       "    </tr>\n",
       "  </thead>\n",
       "  <tbody>\n",
       "    <tr>\n",
       "      <th>3569</th>\n",
       "      <td>creatinine__quantile__q_0.3</td>\n",
       "      <td>0.109020</td>\n",
       "    </tr>\n",
       "    <tr>\n",
       "      <th>2675</th>\n",
       "      <td>albumin__change_quantiles__f_agg_\"\"\"\"\"\"\"\"mean\"...</td>\n",
       "      <td>0.022457</td>\n",
       "    </tr>\n",
       "    <tr>\n",
       "      <th>3517</th>\n",
       "      <td>creatinine__maximum</td>\n",
       "      <td>0.019514</td>\n",
       "    </tr>\n",
       "    <tr>\n",
       "      <th>3003</th>\n",
       "      <td>alkphos__lempel_ziv_complexity__bins_10</td>\n",
       "      <td>0.017837</td>\n",
       "    </tr>\n",
       "    <tr>\n",
       "      <th>4675</th>\n",
       "      <td>mch__sum_values</td>\n",
       "      <td>0.015455</td>\n",
       "    </tr>\n",
       "    <tr>\n",
       "      <th>1058</th>\n",
       "      <td>platelet__change_quantiles__f_agg_\"\"\"\"\"\"\"\"mean...</td>\n",
       "      <td>0.014196</td>\n",
       "    </tr>\n",
       "    <tr>\n",
       "      <th>2747</th>\n",
       "      <td>albumin__energy_ratio_by_chunks__num_segments_...</td>\n",
       "      <td>0.010542</td>\n",
       "    </tr>\n",
       "    <tr>\n",
       "      <th>2810</th>\n",
       "      <td>alkphos__cid_ce__normalize_True</td>\n",
       "      <td>0.010034</td>\n",
       "    </tr>\n",
       "    <tr>\n",
       "      <th>4673</th>\n",
       "      <td>mch__has_duplicate_min</td>\n",
       "      <td>0.009794</td>\n",
       "    </tr>\n",
       "    <tr>\n",
       "      <th>3349</th>\n",
       "      <td>caphos_product__index_mass_quantile__q_0.2</td>\n",
       "      <td>0.009780</td>\n",
       "    </tr>\n",
       "    <tr>\n",
       "      <th>3519</th>\n",
       "      <td>creatinine__benford_correlation</td>\n",
       "      <td>0.009484</td>\n",
       "    </tr>\n",
       "    <tr>\n",
       "      <th>3643</th>\n",
       "      <td>creatinine__change_quantiles__f_agg_\"\"\"\"\"\"\"\"va...</td>\n",
       "      <td>0.008575</td>\n",
       "    </tr>\n",
       "    <tr>\n",
       "      <th>1478</th>\n",
       "      <td>rbc__change_quantiles__f_agg_\"\"\"\"\"\"\"\"mean\"\"\"\"\"...</td>\n",
       "      <td>0.008547</td>\n",
       "    </tr>\n",
       "    <tr>\n",
       "      <th>140</th>\n",
       "      <td>mchc__change_quantiles__f_agg_\"\"\"\"\"\"\"\"var\"\"\"\"\"...</td>\n",
       "      <td>0.008431</td>\n",
       "    </tr>\n",
       "    <tr>\n",
       "      <th>4780</th>\n",
       "      <td>mch__change_quantiles__f_agg_\"\"\"\"\"\"\"\"mean\"\"\"\"\"...</td>\n",
       "      <td>0.008397</td>\n",
       "    </tr>\n",
       "    <tr>\n",
       "      <th>3932</th>\n",
       "      <td>egfr__approximate_entropy__m_2__r_0.1</td>\n",
       "      <td>0.008182</td>\n",
       "    </tr>\n",
       "    <tr>\n",
       "      <th>3819</th>\n",
       "      <td>egfr__quantile__q_0.8</td>\n",
       "      <td>0.007960</td>\n",
       "    </tr>\n",
       "    <tr>\n",
       "      <th>2203</th>\n",
       "      <td>ureacreat_ratio__change_quantiles__f_agg_\"\"\"\"\"...</td>\n",
       "      <td>0.007695</td>\n",
       "    </tr>\n",
       "    <tr>\n",
       "      <th>439</th>\n",
       "      <td>neutrophils__abs_energy</td>\n",
       "      <td>0.007691</td>\n",
       "    </tr>\n",
       "    <tr>\n",
       "      <th>4020</th>\n",
       "      <td>glucose__symmetry_looking__r_0.1</td>\n",
       "      <td>0.007246</td>\n",
       "    </tr>\n",
       "    <tr>\n",
       "      <th>5133</th>\n",
       "      <td>dkd_dkd</td>\n",
       "      <td>0.007163</td>\n",
       "    </tr>\n",
       "    <tr>\n",
       "      <th>2289</th>\n",
       "      <td>ureacreat_ratio__lempel_ziv_complexity__bins_10</td>\n",
       "      <td>0.007070</td>\n",
       "    </tr>\n",
       "    <tr>\n",
       "      <th>1252</th>\n",
       "      <td>potassium__change_quantiles__f_agg_\"\"\"\"\"\"\"\"mea...</td>\n",
       "      <td>0.006920</td>\n",
       "    </tr>\n",
       "    <tr>\n",
       "      <th>224</th>\n",
       "      <td>monocytes__mean</td>\n",
       "      <td>0.006578</td>\n",
       "    </tr>\n",
       "    <tr>\n",
       "      <th>2565</th>\n",
       "      <td>albumin__benford_correlation</td>\n",
       "      <td>0.006461</td>\n",
       "    </tr>\n",
       "    <tr>\n",
       "      <th>2923</th>\n",
       "      <td>alkphos__change_quantiles__f_agg_\"\"\"\"\"\"\"\"mean\"...</td>\n",
       "      <td>0.006251</td>\n",
       "    </tr>\n",
       "    <tr>\n",
       "      <th>4484</th>\n",
       "      <td>lymphocytes__time_reversal_asymmetry_statistic...</td>\n",
       "      <td>0.006147</td>\n",
       "    </tr>\n",
       "    <tr>\n",
       "      <th>3815</th>\n",
       "      <td>egfr__quantile__q_0.3</td>\n",
       "      <td>0.005962</td>\n",
       "    </tr>\n",
       "    <tr>\n",
       "      <th>2709</th>\n",
       "      <td>albumin__change_quantiles__f_agg_\"\"\"\"\"\"\"\"mean\"...</td>\n",
       "      <td>0.005792</td>\n",
       "    </tr>\n",
       "    <tr>\n",
       "      <th>4804</th>\n",
       "      <td>mch__change_quantiles__f_agg_\"\"\"\"\"\"\"\"mean\"\"\"\"\"...</td>\n",
       "      <td>0.005253</td>\n",
       "    </tr>\n",
       "    <tr>\n",
       "      <th>155</th>\n",
       "      <td>mchc__change_quantiles__f_agg_\"\"\"\"\"\"\"\"mean\"\"\"\"...</td>\n",
       "      <td>0.005093</td>\n",
       "    </tr>\n",
       "    <tr>\n",
       "      <th>2886</th>\n",
       "      <td>alkphos__cwt_coefficients__coeff_1__w_10__widt...</td>\n",
       "      <td>0.005052</td>\n",
       "    </tr>\n",
       "    <tr>\n",
       "      <th>1097</th>\n",
       "      <td>platelet__energy_ratio_by_chunks__num_segments...</td>\n",
       "      <td>0.004956</td>\n",
       "    </tr>\n",
       "    <tr>\n",
       "      <th>144</th>\n",
       "      <td>mchc__change_quantiles__f_agg_\"\"\"\"\"\"\"\"var\"\"\"\"\"...</td>\n",
       "      <td>0.004943</td>\n",
       "    </tr>\n",
       "    <tr>\n",
       "      <th>3268</th>\n",
       "      <td>caphos_product__last_location_of_maximum</td>\n",
       "      <td>0.004649</td>\n",
       "    </tr>\n",
       "    <tr>\n",
       "      <th>3315</th>\n",
       "      <td>caphos_product__large_standard_deviation__r_0.4</td>\n",
       "      <td>0.004610</td>\n",
       "    </tr>\n",
       "    <tr>\n",
       "      <th>543</th>\n",
       "      <td>neutrophils__change_quantiles__f_agg_\"\"\"\"\"\"\"\"m...</td>\n",
       "      <td>0.004370</td>\n",
       "    </tr>\n",
       "    <tr>\n",
       "      <th>5138</th>\n",
       "      <td>gn_lupus nephritis</td>\n",
       "      <td>0.004341</td>\n",
       "    </tr>\n",
       "    <tr>\n",
       "      <th>1388</th>\n",
       "      <td>rbc__percentage_of_reoccurring_datapoints_to_a...</td>\n",
       "      <td>0.004333</td>\n",
       "    </tr>\n",
       "    <tr>\n",
       "      <th>2563</th>\n",
       "      <td>albumin__maximum</td>\n",
       "      <td>0.004279</td>\n",
       "    </tr>\n",
       "    <tr>\n",
       "      <th>5070</th>\n",
       "      <td>chloride__fft_coefficient__attr_\"\"\"\"\"\"\"\"abs\"\"\"...</td>\n",
       "      <td>0.004206</td>\n",
       "    </tr>\n",
       "    <tr>\n",
       "      <th>3568</th>\n",
       "      <td>creatinine__quantile__q_0.2</td>\n",
       "      <td>0.004195</td>\n",
       "    </tr>\n",
       "    <tr>\n",
       "      <th>3521</th>\n",
       "      <td>creatinine__time_reversal_asymmetry_statistic_...</td>\n",
       "      <td>0.004185</td>\n",
       "    </tr>\n",
       "    <tr>\n",
       "      <th>3741</th>\n",
       "      <td>egfr__median</td>\n",
       "      <td>0.004177</td>\n",
       "    </tr>\n",
       "    <tr>\n",
       "      <th>1979</th>\n",
       "      <td>urea__change_quantiles__f_agg_\"\"\"\"\"\"\"\"mean\"\"\"\"...</td>\n",
       "      <td>0.004064</td>\n",
       "    </tr>\n",
       "    <tr>\n",
       "      <th>3362</th>\n",
       "      <td>caphos_product__cwt_coefficients__coeff_1__w_1...</td>\n",
       "      <td>0.003962</td>\n",
       "    </tr>\n",
       "    <tr>\n",
       "      <th>3511</th>\n",
       "      <td>creatinine__first_location_of_minimum</td>\n",
       "      <td>0.003834</td>\n",
       "    </tr>\n",
       "    <tr>\n",
       "      <th>4091</th>\n",
       "      <td>glucose__cwt_coefficients__coeff_1__w_5__width...</td>\n",
       "      <td>0.003798</td>\n",
       "    </tr>\n",
       "    <tr>\n",
       "      <th>561</th>\n",
       "      <td>neutrophils__change_quantiles__f_agg_\"\"\"\"\"\"\"\"m...</td>\n",
       "      <td>0.003785</td>\n",
       "    </tr>\n",
       "    <tr>\n",
       "      <th>2662</th>\n",
       "      <td>albumin__change_quantiles__f_agg_\"\"\"\"\"\"\"\"var\"\"...</td>\n",
       "      <td>0.003750</td>\n",
       "    </tr>\n",
       "    <tr>\n",
       "      <th>299</th>\n",
       "      <td>monocytes__quantile__q_0.7</td>\n",
       "      <td>0.003737</td>\n",
       "    </tr>\n",
       "    <tr>\n",
       "      <th>2921</th>\n",
       "      <td>alkphos__change_quantiles__f_agg_\"\"\"\"\"\"\"\"mean\"...</td>\n",
       "      <td>0.003736</td>\n",
       "    </tr>\n",
       "    <tr>\n",
       "      <th>3878</th>\n",
       "      <td>egfr__change_quantiles__f_agg_\"\"\"\"\"\"\"\"mean\"\"\"\"...</td>\n",
       "      <td>0.003728</td>\n",
       "    </tr>\n",
       "    <tr>\n",
       "      <th>4345</th>\n",
       "      <td>haemoglobin__change_quantiles__f_agg_\"\"\"\"\"\"\"\"m...</td>\n",
       "      <td>0.003694</td>\n",
       "    </tr>\n",
       "    <tr>\n",
       "      <th>4672</th>\n",
       "      <td>mch__has_duplicate_max</td>\n",
       "      <td>0.003693</td>\n",
       "    </tr>\n",
       "    <tr>\n",
       "      <th>2979</th>\n",
       "      <td>alkphos__energy_ratio_by_chunks__num_segments_...</td>\n",
       "      <td>0.003600</td>\n",
       "    </tr>\n",
       "    <tr>\n",
       "      <th>3877</th>\n",
       "      <td>egfr__change_quantiles__f_agg_\"\"\"\"\"\"\"\"var\"\"\"\"\"...</td>\n",
       "      <td>0.003588</td>\n",
       "    </tr>\n",
       "    <tr>\n",
       "      <th>4105</th>\n",
       "      <td>glucose__change_quantiles__f_agg_\"\"\"\"\"\"\"\"mean\"...</td>\n",
       "      <td>0.003573</td>\n",
       "    </tr>\n",
       "    <tr>\n",
       "      <th>3998</th>\n",
       "      <td>glucose__last_location_of_maximum</td>\n",
       "      <td>0.003416</td>\n",
       "    </tr>\n",
       "    <tr>\n",
       "      <th>464</th>\n",
       "      <td>neutrophils__time_reversal_asymmetry_statistic...</td>\n",
       "      <td>0.003401</td>\n",
       "    </tr>\n",
       "    <tr>\n",
       "      <th>1711</th>\n",
       "      <td>sodium__change_quantiles__f_agg_\"\"\"\"\"\"\"\"mean\"\"...</td>\n",
       "      <td>0.003389</td>\n",
       "    </tr>\n",
       "    <tr>\n",
       "      <th>3593</th>\n",
       "      <td>creatinine__index_mass_quantile__q_0.6</td>\n",
       "      <td>0.003386</td>\n",
       "    </tr>\n",
       "    <tr>\n",
       "      <th>2873</th>\n",
       "      <td>alkphos__index_mass_quantile__q_0.2</td>\n",
       "      <td>0.003358</td>\n",
       "    </tr>\n",
       "    <tr>\n",
       "      <th>846</th>\n",
       "      <td>phosphate__approximate_entropy__m_2__r_0.5</td>\n",
       "      <td>0.003311</td>\n",
       "    </tr>\n",
       "    <tr>\n",
       "      <th>3580</th>\n",
       "      <td>creatinine__agg_autocorrelation__f_agg_\"\"\"\"\"\"\"...</td>\n",
       "      <td>0.003298</td>\n",
       "    </tr>\n",
       "    <tr>\n",
       "      <th>3852</th>\n",
       "      <td>egfr__cwt_coefficients__coeff_2__w_5__widths_(...</td>\n",
       "      <td>0.003283</td>\n",
       "    </tr>\n",
       "    <tr>\n",
       "      <th>2090</th>\n",
       "      <td>ureacreat_ratio__time_reversal_asymmetry_stati...</td>\n",
       "      <td>0.003174</td>\n",
       "    </tr>\n",
       "    <tr>\n",
       "      <th>462</th>\n",
       "      <td>neutrophils__minimum</td>\n",
       "      <td>0.003141</td>\n",
       "    </tr>\n",
       "    <tr>\n",
       "      <th>3496</th>\n",
       "      <td>creatinine__mean</td>\n",
       "      <td>0.003072</td>\n",
       "    </tr>\n",
       "    <tr>\n",
       "      <th>4086</th>\n",
       "      <td>glucose__cwt_coefficients__coeff_0__w_2__width...</td>\n",
       "      <td>0.003022</td>\n",
       "    </tr>\n",
       "    <tr>\n",
       "      <th>841</th>\n",
       "      <td>phosphate__range_count__max_1__min_-1</td>\n",
       "      <td>0.002986</td>\n",
       "    </tr>\n",
       "    <tr>\n",
       "      <th>2019</th>\n",
       "      <td>urea__linear_trend__attr_\"\"\"\"\"\"\"\"rvalue\"\"\"\"\"\"\"\"</td>\n",
       "      <td>0.002968</td>\n",
       "    </tr>\n",
       "    <tr>\n",
       "      <th>1368</th>\n",
       "      <td>rbc__has_duplicate</td>\n",
       "      <td>0.002960</td>\n",
       "    </tr>\n",
       "    <tr>\n",
       "      <th>3011</th>\n",
       "      <td>calcium__has_duplicate_max</td>\n",
       "      <td>0.002956</td>\n",
       "    </tr>\n",
       "    <tr>\n",
       "      <th>1551</th>\n",
       "      <td>rbc__linear_trend__attr_\"\"\"\"\"\"\"\"rvalue\"\"\"\"\"\"\"\"</td>\n",
       "      <td>0.002930</td>\n",
       "    </tr>\n",
       "    <tr>\n",
       "      <th>4379</th>\n",
       "      <td>haemoglobin__change_quantiles__f_agg_\"\"\"\"\"\"\"\"m...</td>\n",
       "      <td>0.002912</td>\n",
       "    </tr>\n",
       "    <tr>\n",
       "      <th>3831</th>\n",
       "      <td>egfr__number_peaks__n_5</td>\n",
       "      <td>0.002908</td>\n",
       "    </tr>\n",
       "    <tr>\n",
       "      <th>226</th>\n",
       "      <td>monocytes__standard_deviation</td>\n",
       "      <td>0.002863</td>\n",
       "    </tr>\n",
       "    <tr>\n",
       "      <th>4640</th>\n",
       "      <td>lymphocytes__linear_trend__attr_\"\"\"\"\"\"\"\"rvalue...</td>\n",
       "      <td>0.002857</td>\n",
       "    </tr>\n",
       "    <tr>\n",
       "      <th>1585</th>\n",
       "      <td>sodium__has_duplicate</td>\n",
       "      <td>0.002855</td>\n",
       "    </tr>\n",
       "    <tr>\n",
       "      <th>795</th>\n",
       "      <td>phosphate__change_quantiles__f_agg_\"\"\"\"\"\"\"\"var...</td>\n",
       "      <td>0.002853</td>\n",
       "    </tr>\n",
       "    <tr>\n",
       "      <th>1397</th>\n",
       "      <td>rbc__time_reversal_asymmetry_statistic__lag_3</td>\n",
       "      <td>0.002797</td>\n",
       "    </tr>\n",
       "    <tr>\n",
       "      <th>4701</th>\n",
       "      <td>mch__time_reversal_asymmetry_statistic__lag_1</td>\n",
       "      <td>0.002747</td>\n",
       "    </tr>\n",
       "    <tr>\n",
       "      <th>4174</th>\n",
       "      <td>glucose__approximate_entropy__m_2__r_0.7</td>\n",
       "      <td>0.002738</td>\n",
       "    </tr>\n",
       "    <tr>\n",
       "      <th>2205</th>\n",
       "      <td>ureacreat_ratio__change_quantiles__f_agg_\"\"\"\"\"...</td>\n",
       "      <td>0.002723</td>\n",
       "    </tr>\n",
       "    <tr>\n",
       "      <th>1344</th>\n",
       "      <td>potassium__ratio_beyond_r_sigma__r_1</td>\n",
       "      <td>0.002652</td>\n",
       "    </tr>\n",
       "    <tr>\n",
       "      <th>1953</th>\n",
       "      <td>urea__change_quantiles__f_agg_\"\"\"\"\"\"\"\"mean\"\"\"\"...</td>\n",
       "      <td>0.002640</td>\n",
       "    </tr>\n",
       "    <tr>\n",
       "      <th>626</th>\n",
       "      <td>neutrophils__energy_ratio_by_chunks__num_segme...</td>\n",
       "      <td>0.002634</td>\n",
       "    </tr>\n",
       "    <tr>\n",
       "      <th>4223</th>\n",
       "      <td>haemoglobin__mean_change</td>\n",
       "      <td>0.002617</td>\n",
       "    </tr>\n",
       "    <tr>\n",
       "      <th>2783</th>\n",
       "      <td>alkphos__standard_deviation</td>\n",
       "      <td>0.002517</td>\n",
       "    </tr>\n",
       "    <tr>\n",
       "      <th>2541</th>\n",
       "      <td>albumin__mean_change</td>\n",
       "      <td>0.002494</td>\n",
       "    </tr>\n",
       "    <tr>\n",
       "      <th>4176</th>\n",
       "      <td>glucose__linear_trend__attr_\"\"\"\"\"\"\"\"pvalue\"\"\"\"...</td>\n",
       "      <td>0.002481</td>\n",
       "    </tr>\n",
       "    <tr>\n",
       "      <th>1328</th>\n",
       "      <td>potassium__linear_trend__attr_\"\"\"\"\"\"\"\"slope\"\"\"...</td>\n",
       "      <td>0.002440</td>\n",
       "    </tr>\n",
       "    <tr>\n",
       "      <th>1825</th>\n",
       "      <td>urea__abs_energy</td>\n",
       "      <td>0.002424</td>\n",
       "    </tr>\n",
       "    <tr>\n",
       "      <th>910</th>\n",
       "      <td>platelet__first_location_of_maximum</td>\n",
       "      <td>0.002415</td>\n",
       "    </tr>\n",
       "    <tr>\n",
       "      <th>3244</th>\n",
       "      <td>calcium__fourier_entropy__bins_3</td>\n",
       "      <td>0.002410</td>\n",
       "    </tr>\n",
       "    <tr>\n",
       "      <th>3701</th>\n",
       "      <td>creatinine__energy_ratio_by_chunks__num_segmen...</td>\n",
       "      <td>0.002380</td>\n",
       "    </tr>\n",
       "    <tr>\n",
       "      <th>1395</th>\n",
       "      <td>rbc__time_reversal_asymmetry_statistic__lag_1</td>\n",
       "      <td>0.002377</td>\n",
       "    </tr>\n",
       "    <tr>\n",
       "      <th>3844</th>\n",
       "      <td>egfr__cwt_coefficients__coeff_0__w_5__widths_(...</td>\n",
       "      <td>0.002361</td>\n",
       "    </tr>\n",
       "    <tr>\n",
       "      <th>4090</th>\n",
       "      <td>glucose__cwt_coefficients__coeff_1__w_2__width...</td>\n",
       "      <td>0.002356</td>\n",
       "    </tr>\n",
       "  </tbody>\n",
       "</table>\n",
       "</div>"
      ]
     },
     "metadata": {},
     "execution_count": 41
    }
   ],
   "metadata": {}
  }
 ],
 "metadata": {
  "kernelspec": {
   "name": "python3",
   "display_name": "Python 3.9.5 64-bit ('ml_dl': conda)"
  },
  "language_info": {
   "codemirror_mode": {
    "name": "ipython",
    "version": 3
   },
   "file_extension": ".py",
   "mimetype": "text/x-python",
   "name": "python",
   "nbconvert_exporter": "python",
   "pygments_lexer": "ipython3",
   "version": "3.9.5"
  },
  "interpreter": {
   "hash": "252eb11dec6c7c75d43c93f623bff35f4a463f74afda1ad8986a53442394c969"
  }
 },
 "nbformat": 4,
 "nbformat_minor": 5
}