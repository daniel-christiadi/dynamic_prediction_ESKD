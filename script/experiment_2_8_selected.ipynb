{
 "cells": [
  {
   "cell_type": "code",
   "execution_count": 1,
   "source": [
    "import numpy as np\n",
    "import pandas as pd\n",
    "import xgboost as xgb\n",
    "import shap\n",
    "from sklearn.preprocessing import OneHotEncoder, LabelEncoder\n",
    "from sklearn.compose import ColumnTransformer\n",
    "from sklearn.model_selection import train_test_split, StratifiedKFold, cross_validate, cross_val_score, cross_val_predict\n",
    "from sklearn.metrics import matthews_corrcoef, confusion_matrix, roc_auc_score, classification_report\n",
    "from imblearn.over_sampling import SMOTE\n",
    "from imblearn.under_sampling import RandomUnderSampler\n",
    "from imblearn.combine import SMOTETomek\n",
    "from imblearn.pipeline import Pipeline\n",
    "from sklearn.metrics import recall_score, accuracy_score\n",
    "from sklearn.impute import KNNImputer, SimpleImputer"
   ],
   "outputs": [],
   "metadata": {}
  },
  {
   "cell_type": "code",
   "execution_count": 2,
   "source": [
    "random_state = 7\n",
    "cv_method = StratifiedKFold(n_splits=5)"
   ],
   "outputs": [],
   "metadata": {}
  },
  {
   "cell_type": "markdown",
   "source": [
    "# Training of tsfresh-selected Training Max 2 years and eGFR 8 times"
   ],
   "metadata": {}
  },
  {
   "cell_type": "code",
   "execution_count": 3,
   "source": [
    "df = pd.read_csv('/home/jupyter-dchristiadi85/PhD Project 1/data/train_selected_2_8.gz')\n",
    "df.shape"
   ],
   "outputs": [
    {
     "output_type": "execute_result",
     "data": {
      "text/plain": [
       "(4338, 23639)"
      ]
     },
     "metadata": {},
     "execution_count": 3
    }
   ],
   "metadata": {}
  },
  {
   "cell_type": "code",
   "execution_count": 4,
   "source": [
    "df.info()"
   ],
   "outputs": [
    {
     "output_type": "stream",
     "name": "stdout",
     "text": [
      "<class 'pandas.core.frame.DataFrame'>\n",
      "RangeIndex: 4338 entries, 0 to 4337\n",
      "Columns: 23639 entries, id to cat8\n",
      "dtypes: float64(23617), int64(2), object(20)\n",
      "memory usage: 782.4+ MB\n"
     ]
    }
   ],
   "metadata": {}
  },
  {
   "cell_type": "code",
   "execution_count": 5,
   "source": [
    "df['aki_1'].fillna(value=0, inplace=True)\n",
    "df['aki_2'].fillna(value=0, inplace=True)\n",
    "df['aki_3'].fillna(value=0, inplace=True)"
   ],
   "outputs": [],
   "metadata": {}
  },
  {
   "cell_type": "code",
   "execution_count": 6,
   "source": [
    "df['gn'].value_counts()"
   ],
   "outputs": [
    {
     "output_type": "execute_result",
     "data": {
      "text/plain": [
       "no                 3892\n",
       "igan                180\n",
       "anca                 83\n",
       "lupus nephritis      45\n",
       "membranous           32\n",
       "unspecific           29\n",
       "fsgs                 27\n",
       "mcd                  24\n",
       "mp/mcgn              19\n",
       "fgn/itg               5\n",
       "pign                  2\n",
       "Name: gn, dtype: int64"
      ]
     },
     "metadata": {},
     "execution_count": 6
    }
   ],
   "metadata": {}
  },
  {
   "cell_type": "code",
   "execution_count": 7,
   "source": [
    "df.loc[df.gn == 'pign', 'gn'] = 'unspecific'\n",
    "df.loc[df.gn == 'fgn/itg', 'gn'] = 'unspecific'"
   ],
   "outputs": [],
   "metadata": {}
  },
  {
   "cell_type": "code",
   "execution_count": 8,
   "source": [
    "percent_missing = df.isnull().sum()*100 / len(df)\n",
    "missing_df = pd.DataFrame({'column_name': df.columns, 'percent_miss': percent_missing})"
   ],
   "outputs": [],
   "metadata": {}
  },
  {
   "cell_type": "code",
   "execution_count": 9,
   "source": [
    "missing_df.sort_values(by='percent_miss', ascending=False)"
   ],
   "outputs": [
    {
     "output_type": "execute_result",
     "data": {
      "text/plain": [
       "                                                                                          column_name  \\\n",
       "crp__fft_coefficient__attr_\"\"\"\"\"\"\"\"imag\"\"\"\"\"\"\"\"...  crp__fft_coefficient__attr_\"\"\"\"\"\"\"\"imag\"\"\"\"\"\"\"...   \n",
       "crp__fft_coefficient__attr_\"\"\"\"\"\"\"\"angle\"\"\"\"\"\"\"...  crp__fft_coefficient__attr_\"\"\"\"\"\"\"\"angle\"\"\"\"\"\"...   \n",
       "crp__fft_coefficient__attr_\"\"\"\"\"\"\"\"angle\"\"\"\"\"\"\"...  crp__fft_coefficient__attr_\"\"\"\"\"\"\"\"angle\"\"\"\"\"\"...   \n",
       "crp__fft_coefficient__attr_\"\"\"\"\"\"\"\"angle\"\"\"\"\"\"\"...  crp__fft_coefficient__attr_\"\"\"\"\"\"\"\"angle\"\"\"\"\"\"...   \n",
       "crp__fft_coefficient__attr_\"\"\"\"\"\"\"\"angle\"\"\"\"\"\"\"...  crp__fft_coefficient__attr_\"\"\"\"\"\"\"\"angle\"\"\"\"\"\"...   \n",
       "...                                                                                               ...   \n",
       "htn                                                                                               htn   \n",
       "aki_3                                                                                           aki_3   \n",
       "aki_2                                                                                           aki_2   \n",
       "aki_1                                                                                           aki_1   \n",
       "cat8                                                                                             cat8   \n",
       "\n",
       "                                                    percent_miss  \n",
       "crp__fft_coefficient__attr_\"\"\"\"\"\"\"\"imag\"\"\"\"\"\"\"\"...         100.0  \n",
       "crp__fft_coefficient__attr_\"\"\"\"\"\"\"\"angle\"\"\"\"\"\"\"...         100.0  \n",
       "crp__fft_coefficient__attr_\"\"\"\"\"\"\"\"angle\"\"\"\"\"\"\"...         100.0  \n",
       "crp__fft_coefficient__attr_\"\"\"\"\"\"\"\"angle\"\"\"\"\"\"\"...         100.0  \n",
       "crp__fft_coefficient__attr_\"\"\"\"\"\"\"\"angle\"\"\"\"\"\"\"...         100.0  \n",
       "...                                                          ...  \n",
       "htn                                                          0.0  \n",
       "aki_3                                                        0.0  \n",
       "aki_2                                                        0.0  \n",
       "aki_1                                                        0.0  \n",
       "cat8                                                         0.0  \n",
       "\n",
       "[23639 rows x 2 columns]"
      ],
      "text/html": [
       "<div>\n",
       "<style scoped>\n",
       "    .dataframe tbody tr th:only-of-type {\n",
       "        vertical-align: middle;\n",
       "    }\n",
       "\n",
       "    .dataframe tbody tr th {\n",
       "        vertical-align: top;\n",
       "    }\n",
       "\n",
       "    .dataframe thead th {\n",
       "        text-align: right;\n",
       "    }\n",
       "</style>\n",
       "<table border=\"1\" class=\"dataframe\">\n",
       "  <thead>\n",
       "    <tr style=\"text-align: right;\">\n",
       "      <th></th>\n",
       "      <th>column_name</th>\n",
       "      <th>percent_miss</th>\n",
       "    </tr>\n",
       "  </thead>\n",
       "  <tbody>\n",
       "    <tr>\n",
       "      <th>crp__fft_coefficient__attr_\"\"\"\"\"\"\"\"imag\"\"\"\"\"\"\"\"__coeff_70</th>\n",
       "      <td>crp__fft_coefficient__attr_\"\"\"\"\"\"\"\"imag\"\"\"\"\"\"\"...</td>\n",
       "      <td>100.0</td>\n",
       "    </tr>\n",
       "    <tr>\n",
       "      <th>crp__fft_coefficient__attr_\"\"\"\"\"\"\"\"angle\"\"\"\"\"\"\"\"__coeff_71</th>\n",
       "      <td>crp__fft_coefficient__attr_\"\"\"\"\"\"\"\"angle\"\"\"\"\"\"...</td>\n",
       "      <td>100.0</td>\n",
       "    </tr>\n",
       "    <tr>\n",
       "      <th>crp__fft_coefficient__attr_\"\"\"\"\"\"\"\"angle\"\"\"\"\"\"\"\"__coeff_73</th>\n",
       "      <td>crp__fft_coefficient__attr_\"\"\"\"\"\"\"\"angle\"\"\"\"\"\"...</td>\n",
       "      <td>100.0</td>\n",
       "    </tr>\n",
       "    <tr>\n",
       "      <th>crp__fft_coefficient__attr_\"\"\"\"\"\"\"\"angle\"\"\"\"\"\"\"\"__coeff_74</th>\n",
       "      <td>crp__fft_coefficient__attr_\"\"\"\"\"\"\"\"angle\"\"\"\"\"\"...</td>\n",
       "      <td>100.0</td>\n",
       "    </tr>\n",
       "    <tr>\n",
       "      <th>crp__fft_coefficient__attr_\"\"\"\"\"\"\"\"angle\"\"\"\"\"\"\"\"__coeff_75</th>\n",
       "      <td>crp__fft_coefficient__attr_\"\"\"\"\"\"\"\"angle\"\"\"\"\"\"...</td>\n",
       "      <td>100.0</td>\n",
       "    </tr>\n",
       "    <tr>\n",
       "      <th>...</th>\n",
       "      <td>...</td>\n",
       "      <td>...</td>\n",
       "    </tr>\n",
       "    <tr>\n",
       "      <th>htn</th>\n",
       "      <td>htn</td>\n",
       "      <td>0.0</td>\n",
       "    </tr>\n",
       "    <tr>\n",
       "      <th>aki_3</th>\n",
       "      <td>aki_3</td>\n",
       "      <td>0.0</td>\n",
       "    </tr>\n",
       "    <tr>\n",
       "      <th>aki_2</th>\n",
       "      <td>aki_2</td>\n",
       "      <td>0.0</td>\n",
       "    </tr>\n",
       "    <tr>\n",
       "      <th>aki_1</th>\n",
       "      <td>aki_1</td>\n",
       "      <td>0.0</td>\n",
       "    </tr>\n",
       "    <tr>\n",
       "      <th>cat8</th>\n",
       "      <td>cat8</td>\n",
       "      <td>0.0</td>\n",
       "    </tr>\n",
       "  </tbody>\n",
       "</table>\n",
       "<p>23639 rows × 2 columns</p>\n",
       "</div>"
      ]
     },
     "metadata": {},
     "execution_count": 9
    }
   ],
   "metadata": {}
  },
  {
   "cell_type": "markdown",
   "source": [
    "### Number of patients reaching ESKD within training period "
   ],
   "metadata": {}
  },
  {
   "cell_type": "code",
   "execution_count": 10,
   "source": [
    "df['cat2'].value_counts()"
   ],
   "outputs": [
    {
     "output_type": "execute_result",
     "data": {
      "text/plain": [
       "non_eskd    3159\n",
       "eskd        1179\n",
       "Name: cat2, dtype: int64"
      ]
     },
     "metadata": {},
     "execution_count": 10
    }
   ],
   "metadata": {}
  },
  {
   "cell_type": "code",
   "execution_count": 11,
   "source": [
    "df.set_index('id', inplace=True)"
   ],
   "outputs": [],
   "metadata": {}
  },
  {
   "cell_type": "code",
   "execution_count": 3,
   "source": [
    "def to_category(df):\n",
    "    cols = df.select_dtypes(include='object').columns\n",
    "    for col in cols:\n",
    "        df[col] = df[col].astype('category')\n",
    "    return df\n",
    "\n",
    "def drop_missing(df):\n",
    "    threshold = len(df)*0.6\n",
    "    df.dropna(axis=1, thresh=threshold, inplace=True)\n",
    "    return df\n",
    "\n",
    "def copy_df(df):\n",
    "    return df.copy()"
   ],
   "outputs": [],
   "metadata": {}
  },
  {
   "cell_type": "code",
   "execution_count": 13,
   "source": [
    "df_cleaned = (df.pipe(copy_df).pipe(drop_missing).pipe(to_category))\n",
    "df_cleaned.shape"
   ],
   "outputs": [
    {
     "output_type": "execute_result",
     "data": {
      "text/plain": [
       "(4338, 6802)"
      ]
     },
     "metadata": {},
     "execution_count": 13
    }
   ],
   "metadata": {}
  },
  {
   "cell_type": "code",
   "execution_count": 14,
   "source": [
    "df_rm_intrain = df_cleaned.query(\"cat2 == 'non_eskd'\")\n",
    "df_rm_intrain.shape"
   ],
   "outputs": [
    {
     "output_type": "execute_result",
     "data": {
      "text/plain": [
       "(3159, 6802)"
      ]
     },
     "metadata": {},
     "execution_count": 14
    }
   ],
   "metadata": {}
  },
  {
   "cell_type": "code",
   "execution_count": 23,
   "source": [
    "df_rm_intrain = pd.read_csv('../data/cleaned60_selected_2_8.gz', index_col='id')"
   ],
   "outputs": [],
   "metadata": {}
  },
  {
   "cell_type": "code",
   "execution_count": 24,
   "source": [
    "df_rm_intrain.info()"
   ],
   "outputs": [
    {
     "output_type": "stream",
     "name": "stdout",
     "text": [
      "<class 'pandas.core.frame.DataFrame'>\n",
      "Int64Index: 3159 entries, 3918 to 23864\n",
      "Columns: 6802 entries, ureacreat_ratio__variance_larger_than_standard_deviation to cat8\n",
      "dtypes: float64(6781), int64(1), object(20)\n",
      "memory usage: 164.0+ MB\n"
     ]
    }
   ],
   "metadata": {}
  },
  {
   "cell_type": "code",
   "execution_count": 25,
   "source": [
    "df_rm_intrain = (df_rm_intrain.pipe(copy_df).pipe(to_category))\n",
    "df_rm_intrain.info()"
   ],
   "outputs": [
    {
     "output_type": "stream",
     "name": "stdout",
     "text": [
      "<class 'pandas.core.frame.DataFrame'>\n",
      "Int64Index: 3159 entries, 3918 to 23864\n",
      "Columns: 6802 entries, ureacreat_ratio__variance_larger_than_standard_deviation to cat8\n",
      "dtypes: category(20), float64(6781), int64(1)\n",
      "memory usage: 163.5 MB\n"
     ]
    }
   ],
   "metadata": {}
  },
  {
   "cell_type": "markdown",
   "source": [
    "### Number of patients reaching ESKD in at 1y post-training "
   ],
   "metadata": {}
  },
  {
   "cell_type": "code",
   "execution_count": 17,
   "source": [
    "df_rm_intrain['cat3'].value_counts()"
   ],
   "outputs": [
    {
     "output_type": "execute_result",
     "data": {
      "text/plain": [
       "non_eskd    3038\n",
       "eskd         121\n",
       "Name: cat3, dtype: int64"
      ]
     },
     "metadata": {},
     "execution_count": 17
    }
   ],
   "metadata": {}
  },
  {
   "cell_type": "markdown",
   "source": [
    "### Number of patients reaching ESKD in 2y post-training"
   ],
   "metadata": {}
  },
  {
   "cell_type": "code",
   "execution_count": 18,
   "source": [
    "df_rm_intrain['cat4'].value_counts()"
   ],
   "outputs": [
    {
     "output_type": "execute_result",
     "data": {
      "text/plain": [
       "non_eskd    2939\n",
       "eskd         220\n",
       "Name: cat4, dtype: int64"
      ]
     },
     "metadata": {},
     "execution_count": 18
    }
   ],
   "metadata": {}
  },
  {
   "cell_type": "markdown",
   "source": [
    "### Number of patients reaching ESKD in 5y post-training"
   ],
   "metadata": {}
  },
  {
   "cell_type": "code",
   "execution_count": 19,
   "source": [
    "df_rm_intrain['cat7'].value_counts()"
   ],
   "outputs": [
    {
     "output_type": "execute_result",
     "data": {
      "text/plain": [
       "non_eskd    2719\n",
       "eskd         440\n",
       "Name: cat7, dtype: int64"
      ]
     },
     "metadata": {},
     "execution_count": 19
    }
   ],
   "metadata": {}
  },
  {
   "cell_type": "code",
   "execution_count": 20,
   "source": [
    "percent_missing = df_rm_intrain.isnull().sum()*100 / len(df_rm_intrain)\n",
    "missing_df_rm_intrain = pd.DataFrame({'column_name': df_rm_intrain.columns, 'percent_miss': percent_missing})"
   ],
   "outputs": [],
   "metadata": {}
  },
  {
   "cell_type": "code",
   "execution_count": 21,
   "source": [
    "missing_df_rm_intrain.sort_values(by='percent_miss', ascending=False)"
   ],
   "outputs": [
    {
     "output_type": "execute_result",
     "data": {
      "text/plain": [
       "                                                                                          column_name  \\\n",
       "egfr__autocorrelation__lag_5                                             egfr__autocorrelation__lag_5   \n",
       "egfr__partial_autocorrelation__lag_2                             egfr__partial_autocorrelation__lag_2   \n",
       "creatinine__autocorrelation__lag_4                                 creatinine__autocorrelation__lag_4   \n",
       "creatinine__permutation_entropy__dimension_5__t...  creatinine__permutation_entropy__dimension_5__...   \n",
       "egfr__agg_linear_trend__attr_\"\"\"\"\"\"\"\"stderr\"\"\"\"...  egfr__agg_linear_trend__attr_\"\"\"\"\"\"\"\"stderr\"\"\"...   \n",
       "...                                                                                               ...   \n",
       "dkd                                                                                               dkd   \n",
       "htn                                                                                               htn   \n",
       "aki_3                                                                                           aki_3   \n",
       "aki_2                                                                                           aki_2   \n",
       "cat8                                                                                             cat8   \n",
       "\n",
       "                                                    percent_miss  \n",
       "egfr__autocorrelation__lag_5                           51.693574  \n",
       "egfr__partial_autocorrelation__lag_2                   51.693574  \n",
       "creatinine__autocorrelation__lag_4                     51.218740  \n",
       "creatinine__permutation_entropy__dimension_5__t...     51.187085  \n",
       "egfr__agg_linear_trend__attr_\"\"\"\"\"\"\"\"stderr\"\"\"\"...     51.187085  \n",
       "...                                                          ...  \n",
       "dkd                                                     0.000000  \n",
       "htn                                                     0.000000  \n",
       "aki_3                                                   0.000000  \n",
       "aki_2                                                   0.000000  \n",
       "cat8                                                    0.000000  \n",
       "\n",
       "[6802 rows x 2 columns]"
      ],
      "text/html": [
       "<div>\n",
       "<style scoped>\n",
       "    .dataframe tbody tr th:only-of-type {\n",
       "        vertical-align: middle;\n",
       "    }\n",
       "\n",
       "    .dataframe tbody tr th {\n",
       "        vertical-align: top;\n",
       "    }\n",
       "\n",
       "    .dataframe thead th {\n",
       "        text-align: right;\n",
       "    }\n",
       "</style>\n",
       "<table border=\"1\" class=\"dataframe\">\n",
       "  <thead>\n",
       "    <tr style=\"text-align: right;\">\n",
       "      <th></th>\n",
       "      <th>column_name</th>\n",
       "      <th>percent_miss</th>\n",
       "    </tr>\n",
       "  </thead>\n",
       "  <tbody>\n",
       "    <tr>\n",
       "      <th>egfr__autocorrelation__lag_5</th>\n",
       "      <td>egfr__autocorrelation__lag_5</td>\n",
       "      <td>51.693574</td>\n",
       "    </tr>\n",
       "    <tr>\n",
       "      <th>egfr__partial_autocorrelation__lag_2</th>\n",
       "      <td>egfr__partial_autocorrelation__lag_2</td>\n",
       "      <td>51.693574</td>\n",
       "    </tr>\n",
       "    <tr>\n",
       "      <th>creatinine__autocorrelation__lag_4</th>\n",
       "      <td>creatinine__autocorrelation__lag_4</td>\n",
       "      <td>51.218740</td>\n",
       "    </tr>\n",
       "    <tr>\n",
       "      <th>creatinine__permutation_entropy__dimension_5__tau_1</th>\n",
       "      <td>creatinine__permutation_entropy__dimension_5__...</td>\n",
       "      <td>51.187085</td>\n",
       "    </tr>\n",
       "    <tr>\n",
       "      <th>egfr__agg_linear_trend__attr_\"\"\"\"\"\"\"\"stderr\"\"\"\"\"\"\"\"__chunk_len_5__f_agg_\"\"\"\"\"\"\"\"min\"\"\"\"\"\"\"\"</th>\n",
       "      <td>egfr__agg_linear_trend__attr_\"\"\"\"\"\"\"\"stderr\"\"\"...</td>\n",
       "      <td>51.187085</td>\n",
       "    </tr>\n",
       "    <tr>\n",
       "      <th>...</th>\n",
       "      <td>...</td>\n",
       "      <td>...</td>\n",
       "    </tr>\n",
       "    <tr>\n",
       "      <th>dkd</th>\n",
       "      <td>dkd</td>\n",
       "      <td>0.000000</td>\n",
       "    </tr>\n",
       "    <tr>\n",
       "      <th>htn</th>\n",
       "      <td>htn</td>\n",
       "      <td>0.000000</td>\n",
       "    </tr>\n",
       "    <tr>\n",
       "      <th>aki_3</th>\n",
       "      <td>aki_3</td>\n",
       "      <td>0.000000</td>\n",
       "    </tr>\n",
       "    <tr>\n",
       "      <th>aki_2</th>\n",
       "      <td>aki_2</td>\n",
       "      <td>0.000000</td>\n",
       "    </tr>\n",
       "    <tr>\n",
       "      <th>cat8</th>\n",
       "      <td>cat8</td>\n",
       "      <td>0.000000</td>\n",
       "    </tr>\n",
       "  </tbody>\n",
       "</table>\n",
       "<p>6802 rows × 2 columns</p>\n",
       "</div>"
      ]
     },
     "metadata": {},
     "execution_count": 21
    }
   ],
   "metadata": {}
  },
  {
   "cell_type": "markdown",
   "source": [
    "## ESKD Prediction 5 years post-training"
   ],
   "metadata": {}
  },
  {
   "cell_type": "code",
   "execution_count": 6,
   "source": [
    "dropped_cols = list(df_rm_intrain.columns[-18:])\n",
    "dropped_cols.remove('age.init')\n",
    "dropped_cols"
   ],
   "outputs": [
    {
     "output_type": "execute_result",
     "data": {
      "text/plain": [
       "['egfr.y',\n",
       " 'cat0.5',\n",
       " 'cat1',\n",
       " 'cat1.5',\n",
       " 'cat2',\n",
       " 'cat2.5',\n",
       " 'cat3',\n",
       " 'cat3.5',\n",
       " 'cat4',\n",
       " 'cat4.5',\n",
       " 'cat5',\n",
       " 'cat5.5',\n",
       " 'cat6',\n",
       " 'cat6.5',\n",
       " 'cat7',\n",
       " 'cat7.5',\n",
       " 'cat8']"
      ]
     },
     "metadata": {},
     "execution_count": 6
    }
   ],
   "metadata": {}
  },
  {
   "cell_type": "code",
   "execution_count": 23,
   "source": [
    "X = df_rm_intrain.drop(dropped_cols,axis=1).copy()\n",
    "y = df_rm_intrain['cat7']\n",
    "X.shape, y.shape"
   ],
   "outputs": [
    {
     "output_type": "execute_result",
     "data": {
      "text/plain": [
       "((3159, 6785), (3159,))"
      ]
     },
     "metadata": {},
     "execution_count": 23
    }
   ],
   "metadata": {}
  },
  {
   "cell_type": "code",
   "execution_count": 24,
   "source": [
    "y_mapped = y.map({'non_eskd':'no', 'eskd':'yes'})\n",
    "y_mapped"
   ],
   "outputs": [
    {
     "output_type": "execute_result",
     "data": {
      "text/plain": [
       "id\n",
       "3918      no\n",
       "3921      no\n",
       "3924      no\n",
       "3930      no\n",
       "3934     yes\n",
       "        ... \n",
       "23771     no\n",
       "23775     no\n",
       "23780     no\n",
       "23823     no\n",
       "23864     no\n",
       "Name: cat7, Length: 3159, dtype: category\n",
       "Categories (2, object): ['yes', 'no']"
      ]
     },
     "metadata": {},
     "execution_count": 24
    }
   ],
   "metadata": {}
  },
  {
   "cell_type": "code",
   "execution_count": 25,
   "source": [
    "X_train, X_test, y_train, y_test = train_test_split(X, y_mapped, test_size=0.3, stratify=y_mapped, random_state=random_state)\n",
    "X_train.shape, X_test.shape, y_train.shape, y_test.shape"
   ],
   "outputs": [
    {
     "output_type": "execute_result",
     "data": {
      "text/plain": [
       "((2211, 6785), (948, 6785), (2211,), (948,))"
      ]
     },
     "metadata": {},
     "execution_count": 25
    }
   ],
   "metadata": {}
  },
  {
   "cell_type": "code",
   "execution_count": 26,
   "source": [
    "lab_encode = LabelEncoder()\n",
    "y_train = lab_encode.fit_transform(y_train)\n",
    "y_test = lab_encode.transform(y_test)\n",
    "y_train.shape, y_test.shape"
   ],
   "outputs": [
    {
     "output_type": "execute_result",
     "data": {
      "text/plain": [
       "((2211,), (948,))"
      ]
     },
     "metadata": {},
     "execution_count": 26
    }
   ],
   "metadata": {}
  },
  {
   "cell_type": "code",
   "execution_count": 27,
   "source": [
    "unique_values, counts = np.unique(y_train, return_counts=True)\n",
    "ratio = dict(zip(unique_values, counts))\n",
    "ratio"
   ],
   "outputs": [
    {
     "output_type": "execute_result",
     "data": {
      "text/plain": [
       "{0: 1903, 1: 308}"
      ]
     },
     "metadata": {},
     "execution_count": 27
    }
   ],
   "metadata": {}
  },
  {
   "cell_type": "code",
   "execution_count": 28,
   "source": [
    "imbalance_ratio = ratio[0] / ratio[1]\n",
    "imbalance_ratio"
   ],
   "outputs": [
    {
     "output_type": "execute_result",
     "data": {
      "text/plain": [
       "6.178571428571429"
      ]
     },
     "metadata": {},
     "execution_count": 28
    }
   ],
   "metadata": {}
  },
  {
   "cell_type": "code",
   "execution_count": 29,
   "source": [
    "category_cols = list(X_train.select_dtypes(include='category').columns)\n",
    "numeric_cols = list(X_train.select_dtypes(include=['int', 'float']).columns)\n",
    "one_hot = OneHotEncoder(handle_unknown='ignore')\n",
    "num_imputer = KNNImputer(n_neighbors=5)\n",
    "len(category_cols), len(numeric_cols)"
   ],
   "outputs": [
    {
     "output_type": "execute_result",
     "data": {
      "text/plain": [
       "(4, 6781)"
      ]
     },
     "metadata": {},
     "execution_count": 29
    }
   ],
   "metadata": {}
  },
  {
   "cell_type": "code",
   "execution_count": 30,
   "source": [
    "preprocess = ColumnTransformer([('num_imputing', num_imputer, numeric_cols), ('cat_encoder', one_hot, category_cols)], remainder='passthrough')\n",
    "X_train_processed = preprocess.fit_transform(X_train)\n",
    "X_train_processed.shape"
   ],
   "outputs": [
    {
     "output_type": "execute_result",
     "data": {
      "text/plain": [
       "(2211, 6796)"
      ]
     },
     "metadata": {},
     "execution_count": 30
    }
   ],
   "metadata": {}
  },
  {
   "cell_type": "code",
   "execution_count": 32,
   "source": [
    "xgb_class = xgb.XGBClassifier(n_jobs=-1, random_state = random_state, n_estimators=1000, use_label_encoder=False, eval_metric='logloss', scale_pos_weight=imbalance_ratio)\n",
    "sampler = SMOTETomek(sampling_strategy=0.5, random_state=random_state)\n",
    "steps = [('resampling', sampler), ('model', xgb_class)]\n",
    "pipeline = Pipeline(steps=steps)"
   ],
   "outputs": [],
   "metadata": {}
  },
  {
   "cell_type": "code",
   "execution_count": 33,
   "source": [
    "pipeline.fit(X_train_processed, y_train)"
   ],
   "outputs": [
    {
     "output_type": "execute_result",
     "data": {
      "text/plain": [
       "Pipeline(steps=[('resampling',\n",
       "                 SMOTETomek(random_state=7, sampling_strategy=0.5)),\n",
       "                ('model',\n",
       "                 XGBClassifier(base_score=0.5, booster='gbtree',\n",
       "                               colsample_bylevel=1, colsample_bynode=1,\n",
       "                               colsample_bytree=1, eval_metric='logloss',\n",
       "                               gamma=0, gpu_id=-1, importance_type='gain',\n",
       "                               interaction_constraints='',\n",
       "                               learning_rate=0.300000012, max_delta_step=0,\n",
       "                               max_depth=6, min_child_weight=1, missing=nan,\n",
       "                               monotone_constraints='()', n_estimators=1000,\n",
       "                               n_jobs=-1, num_parallel_tree=1, random_state=7,\n",
       "                               reg_alpha=0, reg_lambda=1,\n",
       "                               scale_pos_weight=6.178571428571429, subsample=1,\n",
       "                               tree_method='exact', use_label_encoder=False,\n",
       "                               validate_parameters=1, verbosity=None))])"
      ]
     },
     "metadata": {},
     "execution_count": 33
    }
   ],
   "metadata": {}
  },
  {
   "cell_type": "code",
   "execution_count": 34,
   "source": [
    "y_pred = pipeline.predict(X_test_processed)"
   ],
   "outputs": [],
   "metadata": {}
  },
  {
   "cell_type": "code",
   "execution_count": 35,
   "source": [
    "confusion_matrix(y_true=y_test, y_pred=y_pred)"
   ],
   "outputs": [
    {
     "output_type": "execute_result",
     "data": {
      "text/plain": [
       "array([[779,  37],\n",
       "       [ 70,  62]])"
      ]
     },
     "metadata": {},
     "execution_count": 35
    }
   ],
   "metadata": {}
  },
  {
   "cell_type": "code",
   "execution_count": 36,
   "source": [
    "roc_auc_score(y_test, y_pred)"
   ],
   "outputs": [
    {
     "output_type": "execute_result",
     "data": {
      "text/plain": [
       "0.712176916221034"
      ]
     },
     "metadata": {},
     "execution_count": 36
    }
   ],
   "metadata": {}
  },
  {
   "cell_type": "code",
   "execution_count": 37,
   "source": [
    "print(classification_report(y_true=y_test, y_pred=y_pred))"
   ],
   "outputs": [
    {
     "output_type": "stream",
     "name": "stdout",
     "text": [
      "              precision    recall  f1-score   support\n",
      "\n",
      "           0       0.92      0.95      0.94       816\n",
      "           1       0.63      0.47      0.54       132\n",
      "\n",
      "    accuracy                           0.89       948\n",
      "   macro avg       0.77      0.71      0.74       948\n",
      "weighted avg       0.88      0.89      0.88       948\n",
      "\n"
     ]
    }
   ],
   "metadata": {}
  },
  {
   "cell_type": "code",
   "execution_count": 38,
   "source": [
    "print(matthews_corrcoef(y_test, y_pred))"
   ],
   "outputs": [
    {
     "output_type": "stream",
     "name": "stdout",
     "text": [
      "0.4803842181799097\n"
     ]
    }
   ],
   "metadata": {}
  },
  {
   "cell_type": "code",
   "execution_count": 39,
   "source": [
    "importance = pipeline.named_steps['model'].feature_importances_\n",
    "importance.shape, type(importance)"
   ],
   "outputs": [
    {
     "output_type": "execute_result",
     "data": {
      "text/plain": [
       "((6796,), numpy.ndarray)"
      ]
     },
     "metadata": {},
     "execution_count": 39
    }
   ],
   "metadata": {}
  },
  {
   "cell_type": "code",
   "execution_count": 40,
   "source": [
    "category_label = list(preprocess.named_transformers_['cat_encoder'].get_feature_names(category_cols))\n",
    "feature_label = numeric_cols + category_label\n",
    "len(feature_label)"
   ],
   "outputs": [
    {
     "output_type": "execute_result",
     "data": {
      "text/plain": [
       "6796"
      ]
     },
     "metadata": {},
     "execution_count": 40
    }
   ],
   "metadata": {}
  },
  {
   "cell_type": "code",
   "execution_count": 41,
   "source": [
    "pd.set_option('display.max_rows', 400)\n",
    "eval_df = pd.DataFrame({'label': feature_label, 'importance_value': importance})\n",
    "eval_df.sort_values(by='importance_value', ascending=False).head(100)"
   ],
   "outputs": [
    {
     "output_type": "execute_result",
     "data": {
      "text/plain": [
       "                                                  label  importance_value\n",
       "1884                        creatinine__quantile__q_0.3          0.062252\n",
       "1888                        creatinine__quantile__q_0.8          0.024052\n",
       "3992                              urea__quantile__q_0.2          0.018376\n",
       "4091  urea__change_quantiles__f_agg_\"\"\"\"\"\"\"\"var\"\"\"\"\"...          0.017391\n",
       "1832                                creatinine__maximum          0.015043\n",
       "671   albumin__change_quantiles__f_agg_\"\"\"\"\"\"\"\"var\"\"...          0.011659\n",
       "4638      ggt__time_reversal_asymmetry_statistic__lag_3          0.010624\n",
       "615                            albumin__quantile__q_0.3          0.010466\n",
       "4141  urea__energy_ratio_by_chunks__num_segments_10_...          0.010311\n",
       "5007          globulin__approximate_entropy__m_2__r_0.7          0.009654\n",
       "2766  haemoglobin__change_quantiles__f_agg_\"\"\"\"\"\"\"\"m...          0.009578\n",
       "3998                              urea__quantile__q_0.9          0.008979\n",
       "3071              phosphate__range_count__max_1__min_-1          0.008625\n",
       "1265               calcium__ratio_beyond_r_sigma__r_1.5          0.008394\n",
       "5907               mch__lempel_ziv_complexity__bins_100          0.008290\n",
       "3298  platelet__change_quantiles__f_agg_\"\"\"\"\"\"\"\"var\"...          0.008063\n",
       "4982  globulin__change_quantiles__f_agg_\"\"\"\"\"\"\"\"mean...          0.007647\n",
       "131        ureacreat_ratio__spkt_welch_density__coeff_2          0.007292\n",
       "5812  mch__change_quantiles__f_agg_\"\"\"\"\"\"\"\"mean\"\"\"\"\"...          0.007290\n",
       "4282  alt__change_quantiles__f_agg_\"\"\"\"\"\"\"\"var\"\"\"\"\"\"...          0.006883\n",
       "2694                       haemoglobin__quantile__q_0.2          0.006814\n",
       "2192  egfr__cwt_coefficients__coeff_1__w_5__widths_(...          0.006737\n",
       "528                      wcc__fourier_entropy__bins_100          0.006721\n",
       "5063  protein__percentage_of_reoccurring_datapoints_...          0.006624\n",
       "561             albumin__sum_of_reoccurring_data_points          0.006509\n",
       "4452  bicarbonate__large_standard_deviation__r_0.300...          0.006408\n",
       "6562                                 rbc__has_duplicate          0.006353\n",
       "19           ureacreat_ratio__longest_strike_below_mean          0.006324\n",
       "1809                                 creatinine__median          0.006208\n",
       "2217  egfr__change_quantiles__f_agg_\"\"\"\"\"\"\"\"mean\"\"\"\"...          0.006138\n",
       "1834                    creatinine__benford_correlation          0.005988\n",
       "5852  mch__change_quantiles__f_agg_\"\"\"\"\"\"\"\"mean\"\"\"\"\"...          0.005828\n",
       "5560  lymphocytes__agg_autocorrelation__f_agg_\"\"\"\"\"\"...          0.005802\n",
       "2322  egfr__agg_linear_trend__attr_\"\"\"\"\"\"\"\"stderr\"\"\"...          0.005761\n",
       "5323      eosinophils__large_standard_deviation__r_0.45          0.005665\n",
       "4514  bicarbonate__change_quantiles__f_agg_\"\"\"\"\"\"\"\"m...          0.005615\n",
       "1887                        creatinine__quantile__q_0.7          0.005603\n",
       "2696                       haemoglobin__quantile__q_0.4          0.005577\n",
       "6745     rbc__linear_trend__attr_\"\"\"\"\"\"\"\"rvalue\"\"\"\"\"\"\"\"          0.005376\n",
       "2340                    egfr__ratio_beyond_r_sigma__r_1          0.005246\n",
       "2956                         phosphate__quantile__q_0.2          0.005245\n",
       "5917                           mchc__standard_deviation          0.005103\n",
       "6379               neutrophils__cid_ce__normalize_False          0.005054\n",
       "6363             neutrophils__first_location_of_minimum          0.004893\n",
       "235   ureacreat_ratio__energy_ratio_by_chunks__num_s...          0.004832\n",
       "1008  alkphos__energy_ratio_by_chunks__num_segments_...          0.004776\n",
       "2315  egfr__agg_linear_trend__attr_\"\"\"\"\"\"\"\"slope\"\"\"\"...          0.004730\n",
       "2103                          egfr__benford_correlation          0.004577\n",
       "5129                     protein__number_cwt_peaks__n_5          0.004576\n",
       "761   albumin__energy_ratio_by_chunks__num_segments_...          0.004541\n",
       "4276  alt__cwt_coefficients__coeff_0__w_2__widths_(2...          0.004387\n",
       "123   ureacreat_ratio__cwt_coefficients__coeff_2__w_...          0.004351\n",
       "3291  platelet__change_quantiles__f_agg_\"\"\"\"\"\"\"\"mean...          0.004349\n",
       "6783                                            dkd_dkd          0.004300\n",
       "2202  egfr__cwt_coefficients__coeff_3__w_20__widths_...          0.004297\n",
       "796                          alkphos__has_duplicate_min          0.004249\n",
       "2200  egfr__cwt_coefficients__coeff_3__w_5__widths_(...          0.004246\n",
       "3420  potassium__time_reversal_asymmetry_statistic__...          0.004050\n",
       "754   albumin__augmented_dickey_fuller__attr_\"\"\"\"\"\"\"...          0.004022\n",
       "2189  egfr__cwt_coefficients__coeff_0__w_10__widths_...          0.003755\n",
       "5650                  lymphocytes__value_count__value_1          0.003727\n",
       "4907                          globulin__quantile__q_0.9          0.003655\n",
       "3811  sodium__change_quantiles__f_agg_\"\"\"\"\"\"\"\"mean\"\"...          0.003640\n",
       "2491  glucose__change_quantiles__f_agg_\"\"\"\"\"\"\"\"mean\"...          0.003636\n",
       "305       wcc__time_reversal_asymmetry_statistic__lag_3          0.003630\n",
       "4129  urea__linear_trend__attr_\"\"\"\"\"\"\"\"intercept\"\"\"\"...          0.003619\n",
       "5126  protein__agg_autocorrelation__f_agg_\"\"\"\"\"\"\"\"me...          0.003600\n",
       "6109                    mchc__ratio_beyond_r_sigma__r_1          0.003552\n",
       "3243  platelet__cwt_coefficients__coeff_2__w_2__widt...          0.003536\n",
       "801                                alkphos__mean_change          0.003519\n",
       "1955  creatinine__change_quantiles__f_agg_\"\"\"\"\"\"\"\"va...          0.003502\n",
       "229   ureacreat_ratio__augmented_dickey_fuller__attr...          0.003457\n",
       "237   ureacreat_ratio__energy_ratio_by_chunks__num_s...          0.003429\n",
       "185   ureacreat_ratio__change_quantiles__f_agg_\"\"\"\"\"...          0.003386\n",
       "245          ureacreat_ratio__ratio_beyond_r_sigma__r_1          0.003351\n",
       "2693                       haemoglobin__quantile__q_0.1          0.003339\n",
       "469   wcc__fft_coefficient__attr_\"\"\"\"\"\"\"\"abs\"\"\"\"\"\"\"\"...          0.003305\n",
       "1300                           caphos_product__variance          0.003280\n",
       "1065                 calcium__first_location_of_minimum          0.003278\n",
       "5077                   protein__cid_ce__normalize_False          0.003269\n",
       "4842                globulin__first_location_of_maximum          0.003181\n",
       "4475  bicarbonate__agg_autocorrelation__f_agg_\"\"\"\"\"\"...          0.003133\n",
       "4255                               alt__quantile__q_0.8          0.003047\n",
       "2341                  egfr__ratio_beyond_r_sigma__r_1.5          0.003035\n",
       "507                    wcc__ratio_beyond_r_sigma__r_0.5          0.003029\n",
       "2700                       haemoglobin__quantile__q_0.9          0.002988\n",
       "6781                                            htn_htn          0.002983\n",
       "3921                           urea__standard_deviation          0.002960\n",
       "5820  mch__change_quantiles__f_agg_\"\"\"\"\"\"\"\"mean\"\"\"\"\"...          0.002960\n",
       "808                                   alkphos__variance          0.002906\n",
       "2264  egfr__change_quantiles__f_agg_\"\"\"\"\"\"\"\"var\"\"\"\"\"...          0.002877\n",
       "1734  chloride__fft_coefficient__attr_\"\"\"\"\"\"\"\"imag\"\"...          0.002816\n",
       "92              ureacreat_ratio__autocorrelation__lag_2          0.002799\n",
       "4937  globulin__change_quantiles__f_agg_\"\"\"\"\"\"\"\"var\"...          0.002790\n",
       "2476  glucose__cwt_coefficients__coeff_0__w_2__width...          0.002789\n",
       "6372  neutrophils__time_reversal_asymmetry_statistic...          0.002756\n",
       "3248  platelet__cwt_coefficients__coeff_3__w_5__widt...          0.002691\n",
       "2649                             haemoglobin__c3__lag_1          0.002678\n",
       "2626                              haemoglobin__skewness          0.002672\n",
       "3740  sodium__agg_autocorrelation__f_agg_\"\"\"\"\"\"\"\"mea...          0.002644"
      ],
      "text/html": [
       "<div>\n",
       "<style scoped>\n",
       "    .dataframe tbody tr th:only-of-type {\n",
       "        vertical-align: middle;\n",
       "    }\n",
       "\n",
       "    .dataframe tbody tr th {\n",
       "        vertical-align: top;\n",
       "    }\n",
       "\n",
       "    .dataframe thead th {\n",
       "        text-align: right;\n",
       "    }\n",
       "</style>\n",
       "<table border=\"1\" class=\"dataframe\">\n",
       "  <thead>\n",
       "    <tr style=\"text-align: right;\">\n",
       "      <th></th>\n",
       "      <th>label</th>\n",
       "      <th>importance_value</th>\n",
       "    </tr>\n",
       "  </thead>\n",
       "  <tbody>\n",
       "    <tr>\n",
       "      <th>1884</th>\n",
       "      <td>creatinine__quantile__q_0.3</td>\n",
       "      <td>0.062252</td>\n",
       "    </tr>\n",
       "    <tr>\n",
       "      <th>1888</th>\n",
       "      <td>creatinine__quantile__q_0.8</td>\n",
       "      <td>0.024052</td>\n",
       "    </tr>\n",
       "    <tr>\n",
       "      <th>3992</th>\n",
       "      <td>urea__quantile__q_0.2</td>\n",
       "      <td>0.018376</td>\n",
       "    </tr>\n",
       "    <tr>\n",
       "      <th>4091</th>\n",
       "      <td>urea__change_quantiles__f_agg_\"\"\"\"\"\"\"\"var\"\"\"\"\"...</td>\n",
       "      <td>0.017391</td>\n",
       "    </tr>\n",
       "    <tr>\n",
       "      <th>1832</th>\n",
       "      <td>creatinine__maximum</td>\n",
       "      <td>0.015043</td>\n",
       "    </tr>\n",
       "    <tr>\n",
       "      <th>671</th>\n",
       "      <td>albumin__change_quantiles__f_agg_\"\"\"\"\"\"\"\"var\"\"...</td>\n",
       "      <td>0.011659</td>\n",
       "    </tr>\n",
       "    <tr>\n",
       "      <th>4638</th>\n",
       "      <td>ggt__time_reversal_asymmetry_statistic__lag_3</td>\n",
       "      <td>0.010624</td>\n",
       "    </tr>\n",
       "    <tr>\n",
       "      <th>615</th>\n",
       "      <td>albumin__quantile__q_0.3</td>\n",
       "      <td>0.010466</td>\n",
       "    </tr>\n",
       "    <tr>\n",
       "      <th>4141</th>\n",
       "      <td>urea__energy_ratio_by_chunks__num_segments_10_...</td>\n",
       "      <td>0.010311</td>\n",
       "    </tr>\n",
       "    <tr>\n",
       "      <th>5007</th>\n",
       "      <td>globulin__approximate_entropy__m_2__r_0.7</td>\n",
       "      <td>0.009654</td>\n",
       "    </tr>\n",
       "    <tr>\n",
       "      <th>2766</th>\n",
       "      <td>haemoglobin__change_quantiles__f_agg_\"\"\"\"\"\"\"\"m...</td>\n",
       "      <td>0.009578</td>\n",
       "    </tr>\n",
       "    <tr>\n",
       "      <th>3998</th>\n",
       "      <td>urea__quantile__q_0.9</td>\n",
       "      <td>0.008979</td>\n",
       "    </tr>\n",
       "    <tr>\n",
       "      <th>3071</th>\n",
       "      <td>phosphate__range_count__max_1__min_-1</td>\n",
       "      <td>0.008625</td>\n",
       "    </tr>\n",
       "    <tr>\n",
       "      <th>1265</th>\n",
       "      <td>calcium__ratio_beyond_r_sigma__r_1.5</td>\n",
       "      <td>0.008394</td>\n",
       "    </tr>\n",
       "    <tr>\n",
       "      <th>5907</th>\n",
       "      <td>mch__lempel_ziv_complexity__bins_100</td>\n",
       "      <td>0.008290</td>\n",
       "    </tr>\n",
       "    <tr>\n",
       "      <th>3298</th>\n",
       "      <td>platelet__change_quantiles__f_agg_\"\"\"\"\"\"\"\"var\"...</td>\n",
       "      <td>0.008063</td>\n",
       "    </tr>\n",
       "    <tr>\n",
       "      <th>4982</th>\n",
       "      <td>globulin__change_quantiles__f_agg_\"\"\"\"\"\"\"\"mean...</td>\n",
       "      <td>0.007647</td>\n",
       "    </tr>\n",
       "    <tr>\n",
       "      <th>131</th>\n",
       "      <td>ureacreat_ratio__spkt_welch_density__coeff_2</td>\n",
       "      <td>0.007292</td>\n",
       "    </tr>\n",
       "    <tr>\n",
       "      <th>5812</th>\n",
       "      <td>mch__change_quantiles__f_agg_\"\"\"\"\"\"\"\"mean\"\"\"\"\"...</td>\n",
       "      <td>0.007290</td>\n",
       "    </tr>\n",
       "    <tr>\n",
       "      <th>4282</th>\n",
       "      <td>alt__change_quantiles__f_agg_\"\"\"\"\"\"\"\"var\"\"\"\"\"\"...</td>\n",
       "      <td>0.006883</td>\n",
       "    </tr>\n",
       "    <tr>\n",
       "      <th>2694</th>\n",
       "      <td>haemoglobin__quantile__q_0.2</td>\n",
       "      <td>0.006814</td>\n",
       "    </tr>\n",
       "    <tr>\n",
       "      <th>2192</th>\n",
       "      <td>egfr__cwt_coefficients__coeff_1__w_5__widths_(...</td>\n",
       "      <td>0.006737</td>\n",
       "    </tr>\n",
       "    <tr>\n",
       "      <th>528</th>\n",
       "      <td>wcc__fourier_entropy__bins_100</td>\n",
       "      <td>0.006721</td>\n",
       "    </tr>\n",
       "    <tr>\n",
       "      <th>5063</th>\n",
       "      <td>protein__percentage_of_reoccurring_datapoints_...</td>\n",
       "      <td>0.006624</td>\n",
       "    </tr>\n",
       "    <tr>\n",
       "      <th>561</th>\n",
       "      <td>albumin__sum_of_reoccurring_data_points</td>\n",
       "      <td>0.006509</td>\n",
       "    </tr>\n",
       "    <tr>\n",
       "      <th>4452</th>\n",
       "      <td>bicarbonate__large_standard_deviation__r_0.300...</td>\n",
       "      <td>0.006408</td>\n",
       "    </tr>\n",
       "    <tr>\n",
       "      <th>6562</th>\n",
       "      <td>rbc__has_duplicate</td>\n",
       "      <td>0.006353</td>\n",
       "    </tr>\n",
       "    <tr>\n",
       "      <th>19</th>\n",
       "      <td>ureacreat_ratio__longest_strike_below_mean</td>\n",
       "      <td>0.006324</td>\n",
       "    </tr>\n",
       "    <tr>\n",
       "      <th>1809</th>\n",
       "      <td>creatinine__median</td>\n",
       "      <td>0.006208</td>\n",
       "    </tr>\n",
       "    <tr>\n",
       "      <th>2217</th>\n",
       "      <td>egfr__change_quantiles__f_agg_\"\"\"\"\"\"\"\"mean\"\"\"\"...</td>\n",
       "      <td>0.006138</td>\n",
       "    </tr>\n",
       "    <tr>\n",
       "      <th>1834</th>\n",
       "      <td>creatinine__benford_correlation</td>\n",
       "      <td>0.005988</td>\n",
       "    </tr>\n",
       "    <tr>\n",
       "      <th>5852</th>\n",
       "      <td>mch__change_quantiles__f_agg_\"\"\"\"\"\"\"\"mean\"\"\"\"\"...</td>\n",
       "      <td>0.005828</td>\n",
       "    </tr>\n",
       "    <tr>\n",
       "      <th>5560</th>\n",
       "      <td>lymphocytes__agg_autocorrelation__f_agg_\"\"\"\"\"\"...</td>\n",
       "      <td>0.005802</td>\n",
       "    </tr>\n",
       "    <tr>\n",
       "      <th>2322</th>\n",
       "      <td>egfr__agg_linear_trend__attr_\"\"\"\"\"\"\"\"stderr\"\"\"...</td>\n",
       "      <td>0.005761</td>\n",
       "    </tr>\n",
       "    <tr>\n",
       "      <th>5323</th>\n",
       "      <td>eosinophils__large_standard_deviation__r_0.45</td>\n",
       "      <td>0.005665</td>\n",
       "    </tr>\n",
       "    <tr>\n",
       "      <th>4514</th>\n",
       "      <td>bicarbonate__change_quantiles__f_agg_\"\"\"\"\"\"\"\"m...</td>\n",
       "      <td>0.005615</td>\n",
       "    </tr>\n",
       "    <tr>\n",
       "      <th>1887</th>\n",
       "      <td>creatinine__quantile__q_0.7</td>\n",
       "      <td>0.005603</td>\n",
       "    </tr>\n",
       "    <tr>\n",
       "      <th>2696</th>\n",
       "      <td>haemoglobin__quantile__q_0.4</td>\n",
       "      <td>0.005577</td>\n",
       "    </tr>\n",
       "    <tr>\n",
       "      <th>6745</th>\n",
       "      <td>rbc__linear_trend__attr_\"\"\"\"\"\"\"\"rvalue\"\"\"\"\"\"\"\"</td>\n",
       "      <td>0.005376</td>\n",
       "    </tr>\n",
       "    <tr>\n",
       "      <th>2340</th>\n",
       "      <td>egfr__ratio_beyond_r_sigma__r_1</td>\n",
       "      <td>0.005246</td>\n",
       "    </tr>\n",
       "    <tr>\n",
       "      <th>2956</th>\n",
       "      <td>phosphate__quantile__q_0.2</td>\n",
       "      <td>0.005245</td>\n",
       "    </tr>\n",
       "    <tr>\n",
       "      <th>5917</th>\n",
       "      <td>mchc__standard_deviation</td>\n",
       "      <td>0.005103</td>\n",
       "    </tr>\n",
       "    <tr>\n",
       "      <th>6379</th>\n",
       "      <td>neutrophils__cid_ce__normalize_False</td>\n",
       "      <td>0.005054</td>\n",
       "    </tr>\n",
       "    <tr>\n",
       "      <th>6363</th>\n",
       "      <td>neutrophils__first_location_of_minimum</td>\n",
       "      <td>0.004893</td>\n",
       "    </tr>\n",
       "    <tr>\n",
       "      <th>235</th>\n",
       "      <td>ureacreat_ratio__energy_ratio_by_chunks__num_s...</td>\n",
       "      <td>0.004832</td>\n",
       "    </tr>\n",
       "    <tr>\n",
       "      <th>1008</th>\n",
       "      <td>alkphos__energy_ratio_by_chunks__num_segments_...</td>\n",
       "      <td>0.004776</td>\n",
       "    </tr>\n",
       "    <tr>\n",
       "      <th>2315</th>\n",
       "      <td>egfr__agg_linear_trend__attr_\"\"\"\"\"\"\"\"slope\"\"\"\"...</td>\n",
       "      <td>0.004730</td>\n",
       "    </tr>\n",
       "    <tr>\n",
       "      <th>2103</th>\n",
       "      <td>egfr__benford_correlation</td>\n",
       "      <td>0.004577</td>\n",
       "    </tr>\n",
       "    <tr>\n",
       "      <th>5129</th>\n",
       "      <td>protein__number_cwt_peaks__n_5</td>\n",
       "      <td>0.004576</td>\n",
       "    </tr>\n",
       "    <tr>\n",
       "      <th>761</th>\n",
       "      <td>albumin__energy_ratio_by_chunks__num_segments_...</td>\n",
       "      <td>0.004541</td>\n",
       "    </tr>\n",
       "    <tr>\n",
       "      <th>4276</th>\n",
       "      <td>alt__cwt_coefficients__coeff_0__w_2__widths_(2...</td>\n",
       "      <td>0.004387</td>\n",
       "    </tr>\n",
       "    <tr>\n",
       "      <th>123</th>\n",
       "      <td>ureacreat_ratio__cwt_coefficients__coeff_2__w_...</td>\n",
       "      <td>0.004351</td>\n",
       "    </tr>\n",
       "    <tr>\n",
       "      <th>3291</th>\n",
       "      <td>platelet__change_quantiles__f_agg_\"\"\"\"\"\"\"\"mean...</td>\n",
       "      <td>0.004349</td>\n",
       "    </tr>\n",
       "    <tr>\n",
       "      <th>6783</th>\n",
       "      <td>dkd_dkd</td>\n",
       "      <td>0.004300</td>\n",
       "    </tr>\n",
       "    <tr>\n",
       "      <th>2202</th>\n",
       "      <td>egfr__cwt_coefficients__coeff_3__w_20__widths_...</td>\n",
       "      <td>0.004297</td>\n",
       "    </tr>\n",
       "    <tr>\n",
       "      <th>796</th>\n",
       "      <td>alkphos__has_duplicate_min</td>\n",
       "      <td>0.004249</td>\n",
       "    </tr>\n",
       "    <tr>\n",
       "      <th>2200</th>\n",
       "      <td>egfr__cwt_coefficients__coeff_3__w_5__widths_(...</td>\n",
       "      <td>0.004246</td>\n",
       "    </tr>\n",
       "    <tr>\n",
       "      <th>3420</th>\n",
       "      <td>potassium__time_reversal_asymmetry_statistic__...</td>\n",
       "      <td>0.004050</td>\n",
       "    </tr>\n",
       "    <tr>\n",
       "      <th>754</th>\n",
       "      <td>albumin__augmented_dickey_fuller__attr_\"\"\"\"\"\"\"...</td>\n",
       "      <td>0.004022</td>\n",
       "    </tr>\n",
       "    <tr>\n",
       "      <th>2189</th>\n",
       "      <td>egfr__cwt_coefficients__coeff_0__w_10__widths_...</td>\n",
       "      <td>0.003755</td>\n",
       "    </tr>\n",
       "    <tr>\n",
       "      <th>5650</th>\n",
       "      <td>lymphocytes__value_count__value_1</td>\n",
       "      <td>0.003727</td>\n",
       "    </tr>\n",
       "    <tr>\n",
       "      <th>4907</th>\n",
       "      <td>globulin__quantile__q_0.9</td>\n",
       "      <td>0.003655</td>\n",
       "    </tr>\n",
       "    <tr>\n",
       "      <th>3811</th>\n",
       "      <td>sodium__change_quantiles__f_agg_\"\"\"\"\"\"\"\"mean\"\"...</td>\n",
       "      <td>0.003640</td>\n",
       "    </tr>\n",
       "    <tr>\n",
       "      <th>2491</th>\n",
       "      <td>glucose__change_quantiles__f_agg_\"\"\"\"\"\"\"\"mean\"...</td>\n",
       "      <td>0.003636</td>\n",
       "    </tr>\n",
       "    <tr>\n",
       "      <th>305</th>\n",
       "      <td>wcc__time_reversal_asymmetry_statistic__lag_3</td>\n",
       "      <td>0.003630</td>\n",
       "    </tr>\n",
       "    <tr>\n",
       "      <th>4129</th>\n",
       "      <td>urea__linear_trend__attr_\"\"\"\"\"\"\"\"intercept\"\"\"\"...</td>\n",
       "      <td>0.003619</td>\n",
       "    </tr>\n",
       "    <tr>\n",
       "      <th>5126</th>\n",
       "      <td>protein__agg_autocorrelation__f_agg_\"\"\"\"\"\"\"\"me...</td>\n",
       "      <td>0.003600</td>\n",
       "    </tr>\n",
       "    <tr>\n",
       "      <th>6109</th>\n",
       "      <td>mchc__ratio_beyond_r_sigma__r_1</td>\n",
       "      <td>0.003552</td>\n",
       "    </tr>\n",
       "    <tr>\n",
       "      <th>3243</th>\n",
       "      <td>platelet__cwt_coefficients__coeff_2__w_2__widt...</td>\n",
       "      <td>0.003536</td>\n",
       "    </tr>\n",
       "    <tr>\n",
       "      <th>801</th>\n",
       "      <td>alkphos__mean_change</td>\n",
       "      <td>0.003519</td>\n",
       "    </tr>\n",
       "    <tr>\n",
       "      <th>1955</th>\n",
       "      <td>creatinine__change_quantiles__f_agg_\"\"\"\"\"\"\"\"va...</td>\n",
       "      <td>0.003502</td>\n",
       "    </tr>\n",
       "    <tr>\n",
       "      <th>229</th>\n",
       "      <td>ureacreat_ratio__augmented_dickey_fuller__attr...</td>\n",
       "      <td>0.003457</td>\n",
       "    </tr>\n",
       "    <tr>\n",
       "      <th>237</th>\n",
       "      <td>ureacreat_ratio__energy_ratio_by_chunks__num_s...</td>\n",
       "      <td>0.003429</td>\n",
       "    </tr>\n",
       "    <tr>\n",
       "      <th>185</th>\n",
       "      <td>ureacreat_ratio__change_quantiles__f_agg_\"\"\"\"\"...</td>\n",
       "      <td>0.003386</td>\n",
       "    </tr>\n",
       "    <tr>\n",
       "      <th>245</th>\n",
       "      <td>ureacreat_ratio__ratio_beyond_r_sigma__r_1</td>\n",
       "      <td>0.003351</td>\n",
       "    </tr>\n",
       "    <tr>\n",
       "      <th>2693</th>\n",
       "      <td>haemoglobin__quantile__q_0.1</td>\n",
       "      <td>0.003339</td>\n",
       "    </tr>\n",
       "    <tr>\n",
       "      <th>469</th>\n",
       "      <td>wcc__fft_coefficient__attr_\"\"\"\"\"\"\"\"abs\"\"\"\"\"\"\"\"...</td>\n",
       "      <td>0.003305</td>\n",
       "    </tr>\n",
       "    <tr>\n",
       "      <th>1300</th>\n",
       "      <td>caphos_product__variance</td>\n",
       "      <td>0.003280</td>\n",
       "    </tr>\n",
       "    <tr>\n",
       "      <th>1065</th>\n",
       "      <td>calcium__first_location_of_minimum</td>\n",
       "      <td>0.003278</td>\n",
       "    </tr>\n",
       "    <tr>\n",
       "      <th>5077</th>\n",
       "      <td>protein__cid_ce__normalize_False</td>\n",
       "      <td>0.003269</td>\n",
       "    </tr>\n",
       "    <tr>\n",
       "      <th>4842</th>\n",
       "      <td>globulin__first_location_of_maximum</td>\n",
       "      <td>0.003181</td>\n",
       "    </tr>\n",
       "    <tr>\n",
       "      <th>4475</th>\n",
       "      <td>bicarbonate__agg_autocorrelation__f_agg_\"\"\"\"\"\"...</td>\n",
       "      <td>0.003133</td>\n",
       "    </tr>\n",
       "    <tr>\n",
       "      <th>4255</th>\n",
       "      <td>alt__quantile__q_0.8</td>\n",
       "      <td>0.003047</td>\n",
       "    </tr>\n",
       "    <tr>\n",
       "      <th>2341</th>\n",
       "      <td>egfr__ratio_beyond_r_sigma__r_1.5</td>\n",
       "      <td>0.003035</td>\n",
       "    </tr>\n",
       "    <tr>\n",
       "      <th>507</th>\n",
       "      <td>wcc__ratio_beyond_r_sigma__r_0.5</td>\n",
       "      <td>0.003029</td>\n",
       "    </tr>\n",
       "    <tr>\n",
       "      <th>2700</th>\n",
       "      <td>haemoglobin__quantile__q_0.9</td>\n",
       "      <td>0.002988</td>\n",
       "    </tr>\n",
       "    <tr>\n",
       "      <th>6781</th>\n",
       "      <td>htn_htn</td>\n",
       "      <td>0.002983</td>\n",
       "    </tr>\n",
       "    <tr>\n",
       "      <th>3921</th>\n",
       "      <td>urea__standard_deviation</td>\n",
       "      <td>0.002960</td>\n",
       "    </tr>\n",
       "    <tr>\n",
       "      <th>5820</th>\n",
       "      <td>mch__change_quantiles__f_agg_\"\"\"\"\"\"\"\"mean\"\"\"\"\"...</td>\n",
       "      <td>0.002960</td>\n",
       "    </tr>\n",
       "    <tr>\n",
       "      <th>808</th>\n",
       "      <td>alkphos__variance</td>\n",
       "      <td>0.002906</td>\n",
       "    </tr>\n",
       "    <tr>\n",
       "      <th>2264</th>\n",
       "      <td>egfr__change_quantiles__f_agg_\"\"\"\"\"\"\"\"var\"\"\"\"\"...</td>\n",
       "      <td>0.002877</td>\n",
       "    </tr>\n",
       "    <tr>\n",
       "      <th>1734</th>\n",
       "      <td>chloride__fft_coefficient__attr_\"\"\"\"\"\"\"\"imag\"\"...</td>\n",
       "      <td>0.002816</td>\n",
       "    </tr>\n",
       "    <tr>\n",
       "      <th>92</th>\n",
       "      <td>ureacreat_ratio__autocorrelation__lag_2</td>\n",
       "      <td>0.002799</td>\n",
       "    </tr>\n",
       "    <tr>\n",
       "      <th>4937</th>\n",
       "      <td>globulin__change_quantiles__f_agg_\"\"\"\"\"\"\"\"var\"...</td>\n",
       "      <td>0.002790</td>\n",
       "    </tr>\n",
       "    <tr>\n",
       "      <th>2476</th>\n",
       "      <td>glucose__cwt_coefficients__coeff_0__w_2__width...</td>\n",
       "      <td>0.002789</td>\n",
       "    </tr>\n",
       "    <tr>\n",
       "      <th>6372</th>\n",
       "      <td>neutrophils__time_reversal_asymmetry_statistic...</td>\n",
       "      <td>0.002756</td>\n",
       "    </tr>\n",
       "    <tr>\n",
       "      <th>3248</th>\n",
       "      <td>platelet__cwt_coefficients__coeff_3__w_5__widt...</td>\n",
       "      <td>0.002691</td>\n",
       "    </tr>\n",
       "    <tr>\n",
       "      <th>2649</th>\n",
       "      <td>haemoglobin__c3__lag_1</td>\n",
       "      <td>0.002678</td>\n",
       "    </tr>\n",
       "    <tr>\n",
       "      <th>2626</th>\n",
       "      <td>haemoglobin__skewness</td>\n",
       "      <td>0.002672</td>\n",
       "    </tr>\n",
       "    <tr>\n",
       "      <th>3740</th>\n",
       "      <td>sodium__agg_autocorrelation__f_agg_\"\"\"\"\"\"\"\"mea...</td>\n",
       "      <td>0.002644</td>\n",
       "    </tr>\n",
       "  </tbody>\n",
       "</table>\n",
       "</div>"
      ]
     },
     "metadata": {},
     "execution_count": 41
    }
   ],
   "metadata": {}
  },
  {
   "cell_type": "markdown",
   "source": [
    "## ESKD Prediction 2 years post-training"
   ],
   "metadata": {}
  },
  {
   "cell_type": "code",
   "execution_count": 27,
   "source": [
    "X = df_rm_intrain.drop(dropped_cols,axis=1).copy()\n",
    "y = df_rm_intrain['cat4']\n",
    "X.shape, y.shape"
   ],
   "outputs": [
    {
     "output_type": "execute_result",
     "data": {
      "text/plain": [
       "((3159, 6785), (3159,))"
      ]
     },
     "metadata": {},
     "execution_count": 27
    }
   ],
   "metadata": {}
  },
  {
   "cell_type": "code",
   "execution_count": 28,
   "source": [
    "X.info()"
   ],
   "outputs": [
    {
     "output_type": "stream",
     "name": "stdout",
     "text": [
      "<class 'pandas.core.frame.DataFrame'>\n",
      "Int64Index: 3159 entries, 3918 to 23864\n",
      "Columns: 6785 entries, ureacreat_ratio__variance_larger_than_standard_deviation to age.init\n",
      "dtypes: category(4), float64(6780), int64(1)\n",
      "memory usage: 163.5 MB\n"
     ]
    }
   ],
   "metadata": {}
  },
  {
   "cell_type": "code",
   "execution_count": 29,
   "source": [
    "df_rm_intrain['cat4'].value_counts()"
   ],
   "outputs": [
    {
     "output_type": "execute_result",
     "data": {
      "text/plain": [
       "non_eskd    2939\n",
       "eskd         220\n",
       "Name: cat4, dtype: int64"
      ]
     },
     "metadata": {},
     "execution_count": 29
    }
   ],
   "metadata": {}
  },
  {
   "cell_type": "code",
   "execution_count": 22,
   "source": [
    "X.info()"
   ],
   "outputs": [
    {
     "output_type": "stream",
     "name": "stdout",
     "text": [
      "<class 'pandas.core.frame.DataFrame'>\n",
      "RangeIndex: 3159 entries, 0 to 3158\n",
      "Columns: 6786 entries, id to age.init\n",
      "dtypes: float64(6780), int64(2), object(4)\n",
      "memory usage: 163.6+ MB\n"
     ]
    }
   ],
   "metadata": {}
  },
  {
   "cell_type": "code",
   "execution_count": 30,
   "source": [
    "y_mapped = y.map({'non_eskd':'no', 'eskd':'yes'})\n",
    "y_mapped"
   ],
   "outputs": [
    {
     "output_type": "execute_result",
     "data": {
      "text/plain": [
       "id\n",
       "3918     no\n",
       "3921     no\n",
       "3924     no\n",
       "3930     no\n",
       "3934     no\n",
       "         ..\n",
       "23771    no\n",
       "23775    no\n",
       "23780    no\n",
       "23823    no\n",
       "23864    no\n",
       "Name: cat4, Length: 3159, dtype: category\n",
       "Categories (2, object): ['yes', 'no']"
      ]
     },
     "metadata": {},
     "execution_count": 30
    }
   ],
   "metadata": {}
  },
  {
   "cell_type": "code",
   "execution_count": 31,
   "source": [
    "X_train, X_test, y_train, y_test = train_test_split(X, y_mapped, test_size=0.3, stratify=y_mapped, random_state=random_state)\n",
    "X_train.shape, X_test.shape, y_train.shape, y_test.shape"
   ],
   "outputs": [
    {
     "output_type": "execute_result",
     "data": {
      "text/plain": [
       "((2211, 6785), (948, 6785), (2211,), (948,))"
      ]
     },
     "metadata": {},
     "execution_count": 31
    }
   ],
   "metadata": {}
  },
  {
   "cell_type": "code",
   "execution_count": 32,
   "source": [
    "lab_encode = LabelEncoder()\n",
    "y_train = lab_encode.fit_transform(y_train)\n",
    "y_test = lab_encode.transform(y_test)\n",
    "y_train.shape, y_test.shape"
   ],
   "outputs": [
    {
     "output_type": "execute_result",
     "data": {
      "text/plain": [
       "((2211,), (948,))"
      ]
     },
     "metadata": {},
     "execution_count": 32
    }
   ],
   "metadata": {}
  },
  {
   "cell_type": "code",
   "execution_count": 33,
   "source": [
    "unique_values, counts = np.unique(y_train, return_counts=True)\n",
    "ratio = dict(zip(unique_values, counts))\n",
    "ratio"
   ],
   "outputs": [
    {
     "output_type": "execute_result",
     "data": {
      "text/plain": [
       "{0: 2057, 1: 154}"
      ]
     },
     "metadata": {},
     "execution_count": 33
    }
   ],
   "metadata": {}
  },
  {
   "cell_type": "code",
   "execution_count": 34,
   "source": [
    "imbalance_ratio = ratio[0] / ratio[1]\n",
    "imbalance_ratio"
   ],
   "outputs": [
    {
     "output_type": "execute_result",
     "data": {
      "text/plain": [
       "13.357142857142858"
      ]
     },
     "metadata": {},
     "execution_count": 34
    }
   ],
   "metadata": {}
  },
  {
   "cell_type": "code",
   "execution_count": 35,
   "source": [
    "category_cols = list(X_train.select_dtypes(include='category').columns)\n",
    "numeric_cols = list(X_train.select_dtypes(include=['int', 'float']).columns)\n",
    "one_hot = OneHotEncoder(handle_unknown='ignore')\n",
    "num_imputer = KNNImputer(n_neighbors=5)\n",
    "len(category_cols), len(numeric_cols)"
   ],
   "outputs": [
    {
     "output_type": "execute_result",
     "data": {
      "text/plain": [
       "(4, 6781)"
      ]
     },
     "metadata": {},
     "execution_count": 35
    }
   ],
   "metadata": {}
  },
  {
   "cell_type": "code",
   "execution_count": 36,
   "source": [
    "preprocess = ColumnTransformer([('num_imputing', num_imputer, numeric_cols), ('cat_encoder', one_hot, category_cols)], remainder='passthrough')\n",
    "X_train_processed = preprocess.fit_transform(X_train)\n",
    "X_train_processed.shape"
   ],
   "outputs": [
    {
     "output_type": "execute_result",
     "data": {
      "text/plain": [
       "(2211, 6796)"
      ]
     },
     "metadata": {},
     "execution_count": 36
    }
   ],
   "metadata": {}
  },
  {
   "cell_type": "code",
   "execution_count": 37,
   "source": [
    "X_test_processed = preprocess.transform(X_test)"
   ],
   "outputs": [],
   "metadata": {}
  },
  {
   "cell_type": "code",
   "execution_count": 38,
   "source": [
    "xgb_class = xgb.XGBClassifier(n_jobs=-1, random_state = random_state, n_estimators=1000, use_label_encoder=False, eval_metric='logloss', scale_pos_weight=imbalance_ratio)\n",
    "sampler = SMOTETomek(random_state=random_state)\n",
    "steps = [('resampling', sampler), ('model', xgb_class)]\n",
    "pipeline = Pipeline(steps=steps)"
   ],
   "outputs": [],
   "metadata": {}
  },
  {
   "cell_type": "code",
   "execution_count": 39,
   "source": [
    "pipeline.fit(X_train_processed, y_train)"
   ],
   "outputs": [
    {
     "output_type": "execute_result",
     "data": {
      "text/plain": [
       "Pipeline(steps=[('resampling', SMOTETomek(random_state=7)),\n",
       "                ('model',\n",
       "                 XGBClassifier(base_score=0.5, booster='gbtree',\n",
       "                               colsample_bylevel=1, colsample_bynode=1,\n",
       "                               colsample_bytree=1, eval_metric='logloss',\n",
       "                               gamma=0, gpu_id=-1, importance_type='gain',\n",
       "                               interaction_constraints='',\n",
       "                               learning_rate=0.300000012, max_delta_step=0,\n",
       "                               max_depth=6, min_child_weight=1, missing=nan,\n",
       "                               monotone_constraints='()', n_estimators=1000,\n",
       "                               n_jobs=-1, num_parallel_tree=1, random_state=7,\n",
       "                               reg_alpha=0, reg_lambda=1,\n",
       "                               scale_pos_weight=13.357142857142858, subsample=1,\n",
       "                               tree_method='exact', use_label_encoder=False,\n",
       "                               validate_parameters=1, verbosity=None))])"
      ]
     },
     "metadata": {},
     "execution_count": 39
    }
   ],
   "metadata": {}
  },
  {
   "cell_type": "code",
   "execution_count": 40,
   "source": [
    "y_pred = pipeline.predict(X_test_processed)"
   ],
   "outputs": [],
   "metadata": {}
  },
  {
   "cell_type": "code",
   "execution_count": 41,
   "source": [
    "confusion_matrix(y_true=y_test, y_pred=y_pred)"
   ],
   "outputs": [
    {
     "output_type": "execute_result",
     "data": {
      "text/plain": [
       "array([[851,  31],\n",
       "       [ 45,  21]])"
      ]
     },
     "metadata": {},
     "execution_count": 41
    }
   ],
   "metadata": {}
  },
  {
   "cell_type": "code",
   "execution_count": 42,
   "source": [
    "roc_auc_score(y_test, y_pred)"
   ],
   "outputs": [
    {
     "output_type": "execute_result",
     "data": {
      "text/plain": [
       "0.6415172129457843"
      ]
     },
     "metadata": {},
     "execution_count": 42
    }
   ],
   "metadata": {}
  },
  {
   "cell_type": "code",
   "execution_count": 43,
   "source": [
    "print(classification_report(y_true=y_test, y_pred=y_pred))"
   ],
   "outputs": [
    {
     "output_type": "stream",
     "name": "stdout",
     "text": [
      "              precision    recall  f1-score   support\n",
      "\n",
      "           0       0.95      0.96      0.96       882\n",
      "           1       0.40      0.32      0.36        66\n",
      "\n",
      "    accuracy                           0.92       948\n",
      "   macro avg       0.68      0.64      0.66       948\n",
      "weighted avg       0.91      0.92      0.92       948\n",
      "\n"
     ]
    }
   ],
   "metadata": {}
  },
  {
   "cell_type": "code",
   "execution_count": 44,
   "source": [
    "print(matthews_corrcoef(y_test, y_pred))"
   ],
   "outputs": [
    {
     "output_type": "stream",
     "name": "stdout",
     "text": [
      "0.31636603117366746\n"
     ]
    }
   ],
   "metadata": {}
  },
  {
   "cell_type": "code",
   "execution_count": 45,
   "source": [
    "importance = pipeline.named_steps['model'].feature_importances_\n",
    "importance.shape, type(importance)"
   ],
   "outputs": [
    {
     "output_type": "execute_result",
     "data": {
      "text/plain": [
       "((6796,), numpy.ndarray)"
      ]
     },
     "metadata": {},
     "execution_count": 45
    }
   ],
   "metadata": {}
  },
  {
   "cell_type": "code",
   "execution_count": 46,
   "source": [
    "category_label = list(preprocess.named_transformers_['cat_encoder'].get_feature_names(category_cols))\n",
    "feature_label = numeric_cols + category_label\n",
    "len(feature_label)"
   ],
   "outputs": [
    {
     "output_type": "execute_result",
     "data": {
      "text/plain": [
       "6796"
      ]
     },
     "metadata": {},
     "execution_count": 46
    }
   ],
   "metadata": {}
  },
  {
   "cell_type": "code",
   "execution_count": 47,
   "source": [
    "pd.set_option('display.max_rows', 400)\n",
    "eval_df = pd.DataFrame({'label': feature_label, 'importance_value': importance})\n",
    "eval_df.sort_values(by='importance_value', ascending=False).head(100)"
   ],
   "outputs": [
    {
     "output_type": "execute_result",
     "data": {
      "text/plain": [
       "                                                  label  importance_value\n",
       "3998                              urea__quantile__q_0.9          0.089570\n",
       "761   albumin__energy_ratio_by_chunks__num_segments_...          0.027949\n",
       "1280                   calcium__fourier_entropy__bins_2          0.024566\n",
       "1805                             creatinine__abs_energy          0.024125\n",
       "350                                wcc__quantile__q_0.1          0.018936\n",
       "3994                              urea__quantile__q_0.4          0.017513\n",
       "602           albumin__large_standard_deviation__r_0.45          0.017269\n",
       "6467  neutrophils__change_quantiles__f_agg_\"\"\"\"\"\"\"\"m...          0.015076\n",
       "1888                        creatinine__quantile__q_0.8          0.014025\n",
       "819                  alkphos__first_location_of_minimum          0.013385\n",
       "2284  egfr__fft_coefficient__attr_\"\"\"\"\"\"\"\"abs\"\"\"\"\"\"\"...          0.013258\n",
       "6155  monocytes__time_reversal_asymmetry_statistic__...          0.013019\n",
       "3934                     urea__last_location_of_minimum          0.012552\n",
       "6423                       neutrophils__quantile__q_0.6          0.011931\n",
       "356                                wcc__quantile__q_0.8          0.011691\n",
       "3997                              urea__quantile__q_0.8          0.011487\n",
       "2697                       haemoglobin__quantile__q_0.6          0.010342\n",
       "4129  urea__linear_trend__attr_\"\"\"\"\"\"\"\"intercept\"\"\"\"...          0.009964\n",
       "6203                         monocytes__quantile__q_0.2          0.009825\n",
       "6382               neutrophils__symmetry_looking__r_0.1          0.009524\n",
       "1832                                creatinine__maximum          0.009147\n",
       "6071  mchc__change_quantiles__f_agg_\"\"\"\"\"\"\"\"mean\"\"\"\"...          0.008717\n",
       "2140             egfr__large_standard_deviation__r_0.45          0.008325\n",
       "5947                     mchc__symmetry_looking__r_0.05          0.008150\n",
       "487      wcc__linear_trend__attr_\"\"\"\"\"\"\"\"rvalue\"\"\"\"\"\"\"\"          0.007362\n",
       "2994  phosphate__cwt_coefficients__coeff_2__w_5__wid...          0.007188\n",
       "1426  caphos_product__change_quantiles__f_agg_\"\"\"\"\"\"...          0.007176\n",
       "2378                     glucose__variation_coefficient          0.006860\n",
       "5540      lymphocytes__large_standard_deviation__r_0.45          0.006633\n",
       "1608         chloride__large_standard_deviation__r_0.45          0.006630\n",
       "1254  calcium__energy_ratio_by_chunks__num_segments_...          0.006624\n",
       "113         ureacreat_ratio__index_mass_quantile__q_0.8          0.006340\n",
       "6783                                            dkd_dkd          0.006321\n",
       "5286                   eosinophils__benford_correlation          0.006218\n",
       "6242  monocytes__change_quantiles__f_agg_\"\"\"\"\"\"\"\"mea...          0.006096\n",
       "6424                       neutrophils__quantile__q_0.7          0.005981\n",
       "2573  glucose__linear_trend__attr_\"\"\"\"\"\"\"\"slope\"\"\"\"\"\"\"\"          0.005937\n",
       "930   alkphos__change_quantiles__f_agg_\"\"\"\"\"\"\"\"mean\"...          0.005887\n",
       "5070  protein__time_reversal_asymmetry_statistic__lag_1          0.005854\n",
       "5366  eosinophils__change_quantiles__f_agg_\"\"\"\"\"\"\"\"m...          0.005852\n",
       "488   wcc__linear_trend__attr_\"\"\"\"\"\"\"\"intercept\"\"\"\"\"\"\"\"          0.005699\n",
       "1531            caphos_product__fourier_entropy__bins_2          0.005660\n",
       "6045  mchc__change_quantiles__f_agg_\"\"\"\"\"\"\"\"mean\"\"\"\"...          0.005551\n",
       "5814  mch__change_quantiles__f_agg_\"\"\"\"\"\"\"\"mean\"\"\"\"\"...          0.005526\n",
       "4906                          globulin__quantile__q_0.8          0.005475\n",
       "5036            globulin__lempel_ziv_complexity__bins_3          0.005379\n",
       "2657  haemoglobin__symmetry_looking__r_0.15000000000...          0.005076\n",
       "6641                               rbc__quantile__q_0.7          0.005001\n",
       "3471                         potassium__quantile__q_0.8          0.004909\n",
       "360                         wcc__autocorrelation__lag_2          0.004896\n",
       "468   wcc__fft_coefficient__attr_\"\"\"\"\"\"\"\"abs\"\"\"\"\"\"\"\"...          0.004784\n",
       "4512  bicarbonate__change_quantiles__f_agg_\"\"\"\"\"\"\"\"m...          0.004692\n",
       "4708                    ggt__index_mass_quantile__q_0.8          0.004662\n",
       "981   alkphos__fft_coefficient__attr_\"\"\"\"\"\"\"\"imag\"\"\"...          0.004463\n",
       "2027  creatinine__linear_trend__attr_\"\"\"\"\"\"\"\"stderr\"...          0.004462\n",
       "2018        creatinine__approximate_entropy__m_2__r_0.1          0.004353\n",
       "4362  alt__energy_ratio_by_chunks__num_segments_10__...          0.004282\n",
       "1301                           caphos_product__skewness          0.004055\n",
       "1630                   chloride__autocorrelation__lag_3          0.003947\n",
       "3381  platelet__permutation_entropy__dimension_3__tau_1          0.003944\n",
       "532                          albumin__has_duplicate_max          0.003919\n",
       "5360            eosinophils__index_mass_quantile__q_0.9          0.003903\n",
       "2114                      egfr__symmetry_looking__r_0.1          0.003733\n",
       "362   wcc__agg_autocorrelation__f_agg_\"\"\"\"\"\"\"\"mean\"\"...          0.003705\n",
       "3648                          sodium__has_duplicate_min          0.003694\n",
       "1823               creatinine__last_location_of_maximum          0.003626\n",
       "565                        albumin__benford_correlation          0.003595\n",
       "465   wcc__fft_coefficient__attr_\"\"\"\"\"\"\"\"imag\"\"\"\"\"\"\"...          0.003577\n",
       "1569                                  chloride__maximum          0.003575\n",
       "2457  glucose__agg_autocorrelation__f_agg_\"\"\"\"\"\"\"\"me...          0.003522\n",
       "6683  rbc__change_quantiles__f_agg_\"\"\"\"\"\"\"\"var\"\"\"\"\"\"...          0.003519\n",
       "1912             creatinine__index_mass_quantile__q_0.6          0.003493\n",
       "4375                     alt__ratio_beyond_r_sigma__r_2          0.003427\n",
       "3282  platelet__change_quantiles__f_agg_\"\"\"\"\"\"\"\"var\"...          0.003418\n",
       "2585  glucose__energy_ratio_by_chunks__num_segments_...          0.003383\n",
       "1196  calcium__change_quantiles__f_agg_\"\"\"\"\"\"\"\"mean\"...          0.003298\n",
       "2647  haemoglobin__time_reversal_asymmetry_statistic...          0.003291\n",
       "2329  egfr__energy_ratio_by_chunks__num_segments_10_...          0.003278\n",
       "5992                              mchc__quantile__q_0.9          0.003277\n",
       "3124                               platelet__sum_values          0.003260\n",
       "508                      wcc__ratio_beyond_r_sigma__r_1          0.003088\n",
       "3270  platelet__change_quantiles__f_agg_\"\"\"\"\"\"\"\"var\"...          0.003042\n",
       "967   alkphos__change_quantiles__f_agg_\"\"\"\"\"\"\"\"var\"\"...          0.003035\n",
       "4608                             ggt__has_duplicate_min          0.003007\n",
       "1656  chloride__cwt_coefficients__coeff_1__w_2__widt...          0.002996\n",
       "2533  glucose__change_quantiles__f_agg_\"\"\"\"\"\"\"\"mean\"...          0.002990\n",
       "294                      wcc__first_location_of_minimum          0.002990\n",
       "2303    egfr__linear_trend__attr_\"\"\"\"\"\"\"\"rvalue\"\"\"\"\"\"\"\"          0.002876\n",
       "2333  egfr__energy_ratio_by_chunks__num_segments_10_...          0.002704\n",
       "2278  egfr__fft_coefficient__attr_\"\"\"\"\"\"\"\"imag\"\"\"\"\"\"...          0.002675\n",
       "225   ureacreat_ratio__linear_trend__attr_\"\"\"\"\"\"\"\"in...          0.002666\n",
       "4128    urea__linear_trend__attr_\"\"\"\"\"\"\"\"rvalue\"\"\"\"\"\"\"\"          0.002658\n",
       "3903                    sodium__fourier_entropy__bins_3          0.002632\n",
       "4575  bicarbonate__linear_trend__attr_\"\"\"\"\"\"\"\"rvalue...          0.002609\n",
       "2898                phosphate__last_location_of_minimum          0.002534\n",
       "3430                 potassium__symmetry_looking__r_0.2          0.002479\n",
       "2357                      egfr__fourier_entropy__bins_3          0.002459\n",
       "361                         wcc__autocorrelation__lag_3          0.002430\n",
       "2942  phosphate__large_standard_deviation__r_0.35000...          0.002421\n",
       "4133  urea__augmented_dickey_fuller__attr_\"\"\"\"\"\"\"\"pv...          0.002406"
      ],
      "text/html": [
       "<div>\n",
       "<style scoped>\n",
       "    .dataframe tbody tr th:only-of-type {\n",
       "        vertical-align: middle;\n",
       "    }\n",
       "\n",
       "    .dataframe tbody tr th {\n",
       "        vertical-align: top;\n",
       "    }\n",
       "\n",
       "    .dataframe thead th {\n",
       "        text-align: right;\n",
       "    }\n",
       "</style>\n",
       "<table border=\"1\" class=\"dataframe\">\n",
       "  <thead>\n",
       "    <tr style=\"text-align: right;\">\n",
       "      <th></th>\n",
       "      <th>label</th>\n",
       "      <th>importance_value</th>\n",
       "    </tr>\n",
       "  </thead>\n",
       "  <tbody>\n",
       "    <tr>\n",
       "      <th>3998</th>\n",
       "      <td>urea__quantile__q_0.9</td>\n",
       "      <td>0.089570</td>\n",
       "    </tr>\n",
       "    <tr>\n",
       "      <th>761</th>\n",
       "      <td>albumin__energy_ratio_by_chunks__num_segments_...</td>\n",
       "      <td>0.027949</td>\n",
       "    </tr>\n",
       "    <tr>\n",
       "      <th>1280</th>\n",
       "      <td>calcium__fourier_entropy__bins_2</td>\n",
       "      <td>0.024566</td>\n",
       "    </tr>\n",
       "    <tr>\n",
       "      <th>1805</th>\n",
       "      <td>creatinine__abs_energy</td>\n",
       "      <td>0.024125</td>\n",
       "    </tr>\n",
       "    <tr>\n",
       "      <th>350</th>\n",
       "      <td>wcc__quantile__q_0.1</td>\n",
       "      <td>0.018936</td>\n",
       "    </tr>\n",
       "    <tr>\n",
       "      <th>3994</th>\n",
       "      <td>urea__quantile__q_0.4</td>\n",
       "      <td>0.017513</td>\n",
       "    </tr>\n",
       "    <tr>\n",
       "      <th>602</th>\n",
       "      <td>albumin__large_standard_deviation__r_0.45</td>\n",
       "      <td>0.017269</td>\n",
       "    </tr>\n",
       "    <tr>\n",
       "      <th>6467</th>\n",
       "      <td>neutrophils__change_quantiles__f_agg_\"\"\"\"\"\"\"\"m...</td>\n",
       "      <td>0.015076</td>\n",
       "    </tr>\n",
       "    <tr>\n",
       "      <th>1888</th>\n",
       "      <td>creatinine__quantile__q_0.8</td>\n",
       "      <td>0.014025</td>\n",
       "    </tr>\n",
       "    <tr>\n",
       "      <th>819</th>\n",
       "      <td>alkphos__first_location_of_minimum</td>\n",
       "      <td>0.013385</td>\n",
       "    </tr>\n",
       "    <tr>\n",
       "      <th>2284</th>\n",
       "      <td>egfr__fft_coefficient__attr_\"\"\"\"\"\"\"\"abs\"\"\"\"\"\"\"...</td>\n",
       "      <td>0.013258</td>\n",
       "    </tr>\n",
       "    <tr>\n",
       "      <th>6155</th>\n",
       "      <td>monocytes__time_reversal_asymmetry_statistic__...</td>\n",
       "      <td>0.013019</td>\n",
       "    </tr>\n",
       "    <tr>\n",
       "      <th>3934</th>\n",
       "      <td>urea__last_location_of_minimum</td>\n",
       "      <td>0.012552</td>\n",
       "    </tr>\n",
       "    <tr>\n",
       "      <th>6423</th>\n",
       "      <td>neutrophils__quantile__q_0.6</td>\n",
       "      <td>0.011931</td>\n",
       "    </tr>\n",
       "    <tr>\n",
       "      <th>356</th>\n",
       "      <td>wcc__quantile__q_0.8</td>\n",
       "      <td>0.011691</td>\n",
       "    </tr>\n",
       "    <tr>\n",
       "      <th>3997</th>\n",
       "      <td>urea__quantile__q_0.8</td>\n",
       "      <td>0.011487</td>\n",
       "    </tr>\n",
       "    <tr>\n",
       "      <th>2697</th>\n",
       "      <td>haemoglobin__quantile__q_0.6</td>\n",
       "      <td>0.010342</td>\n",
       "    </tr>\n",
       "    <tr>\n",
       "      <th>4129</th>\n",
       "      <td>urea__linear_trend__attr_\"\"\"\"\"\"\"\"intercept\"\"\"\"...</td>\n",
       "      <td>0.009964</td>\n",
       "    </tr>\n",
       "    <tr>\n",
       "      <th>6203</th>\n",
       "      <td>monocytes__quantile__q_0.2</td>\n",
       "      <td>0.009825</td>\n",
       "    </tr>\n",
       "    <tr>\n",
       "      <th>6382</th>\n",
       "      <td>neutrophils__symmetry_looking__r_0.1</td>\n",
       "      <td>0.009524</td>\n",
       "    </tr>\n",
       "    <tr>\n",
       "      <th>1832</th>\n",
       "      <td>creatinine__maximum</td>\n",
       "      <td>0.009147</td>\n",
       "    </tr>\n",
       "    <tr>\n",
       "      <th>6071</th>\n",
       "      <td>mchc__change_quantiles__f_agg_\"\"\"\"\"\"\"\"mean\"\"\"\"...</td>\n",
       "      <td>0.008717</td>\n",
       "    </tr>\n",
       "    <tr>\n",
       "      <th>2140</th>\n",
       "      <td>egfr__large_standard_deviation__r_0.45</td>\n",
       "      <td>0.008325</td>\n",
       "    </tr>\n",
       "    <tr>\n",
       "      <th>5947</th>\n",
       "      <td>mchc__symmetry_looking__r_0.05</td>\n",
       "      <td>0.008150</td>\n",
       "    </tr>\n",
       "    <tr>\n",
       "      <th>487</th>\n",
       "      <td>wcc__linear_trend__attr_\"\"\"\"\"\"\"\"rvalue\"\"\"\"\"\"\"\"</td>\n",
       "      <td>0.007362</td>\n",
       "    </tr>\n",
       "    <tr>\n",
       "      <th>2994</th>\n",
       "      <td>phosphate__cwt_coefficients__coeff_2__w_5__wid...</td>\n",
       "      <td>0.007188</td>\n",
       "    </tr>\n",
       "    <tr>\n",
       "      <th>1426</th>\n",
       "      <td>caphos_product__change_quantiles__f_agg_\"\"\"\"\"\"...</td>\n",
       "      <td>0.007176</td>\n",
       "    </tr>\n",
       "    <tr>\n",
       "      <th>2378</th>\n",
       "      <td>glucose__variation_coefficient</td>\n",
       "      <td>0.006860</td>\n",
       "    </tr>\n",
       "    <tr>\n",
       "      <th>5540</th>\n",
       "      <td>lymphocytes__large_standard_deviation__r_0.45</td>\n",
       "      <td>0.006633</td>\n",
       "    </tr>\n",
       "    <tr>\n",
       "      <th>1608</th>\n",
       "      <td>chloride__large_standard_deviation__r_0.45</td>\n",
       "      <td>0.006630</td>\n",
       "    </tr>\n",
       "    <tr>\n",
       "      <th>1254</th>\n",
       "      <td>calcium__energy_ratio_by_chunks__num_segments_...</td>\n",
       "      <td>0.006624</td>\n",
       "    </tr>\n",
       "    <tr>\n",
       "      <th>113</th>\n",
       "      <td>ureacreat_ratio__index_mass_quantile__q_0.8</td>\n",
       "      <td>0.006340</td>\n",
       "    </tr>\n",
       "    <tr>\n",
       "      <th>6783</th>\n",
       "      <td>dkd_dkd</td>\n",
       "      <td>0.006321</td>\n",
       "    </tr>\n",
       "    <tr>\n",
       "      <th>5286</th>\n",
       "      <td>eosinophils__benford_correlation</td>\n",
       "      <td>0.006218</td>\n",
       "    </tr>\n",
       "    <tr>\n",
       "      <th>6242</th>\n",
       "      <td>monocytes__change_quantiles__f_agg_\"\"\"\"\"\"\"\"mea...</td>\n",
       "      <td>0.006096</td>\n",
       "    </tr>\n",
       "    <tr>\n",
       "      <th>6424</th>\n",
       "      <td>neutrophils__quantile__q_0.7</td>\n",
       "      <td>0.005981</td>\n",
       "    </tr>\n",
       "    <tr>\n",
       "      <th>2573</th>\n",
       "      <td>glucose__linear_trend__attr_\"\"\"\"\"\"\"\"slope\"\"\"\"\"\"\"\"</td>\n",
       "      <td>0.005937</td>\n",
       "    </tr>\n",
       "    <tr>\n",
       "      <th>930</th>\n",
       "      <td>alkphos__change_quantiles__f_agg_\"\"\"\"\"\"\"\"mean\"...</td>\n",
       "      <td>0.005887</td>\n",
       "    </tr>\n",
       "    <tr>\n",
       "      <th>5070</th>\n",
       "      <td>protein__time_reversal_asymmetry_statistic__lag_1</td>\n",
       "      <td>0.005854</td>\n",
       "    </tr>\n",
       "    <tr>\n",
       "      <th>5366</th>\n",
       "      <td>eosinophils__change_quantiles__f_agg_\"\"\"\"\"\"\"\"m...</td>\n",
       "      <td>0.005852</td>\n",
       "    </tr>\n",
       "    <tr>\n",
       "      <th>488</th>\n",
       "      <td>wcc__linear_trend__attr_\"\"\"\"\"\"\"\"intercept\"\"\"\"\"\"\"\"</td>\n",
       "      <td>0.005699</td>\n",
       "    </tr>\n",
       "    <tr>\n",
       "      <th>1531</th>\n",
       "      <td>caphos_product__fourier_entropy__bins_2</td>\n",
       "      <td>0.005660</td>\n",
       "    </tr>\n",
       "    <tr>\n",
       "      <th>6045</th>\n",
       "      <td>mchc__change_quantiles__f_agg_\"\"\"\"\"\"\"\"mean\"\"\"\"...</td>\n",
       "      <td>0.005551</td>\n",
       "    </tr>\n",
       "    <tr>\n",
       "      <th>5814</th>\n",
       "      <td>mch__change_quantiles__f_agg_\"\"\"\"\"\"\"\"mean\"\"\"\"\"...</td>\n",
       "      <td>0.005526</td>\n",
       "    </tr>\n",
       "    <tr>\n",
       "      <th>4906</th>\n",
       "      <td>globulin__quantile__q_0.8</td>\n",
       "      <td>0.005475</td>\n",
       "    </tr>\n",
       "    <tr>\n",
       "      <th>5036</th>\n",
       "      <td>globulin__lempel_ziv_complexity__bins_3</td>\n",
       "      <td>0.005379</td>\n",
       "    </tr>\n",
       "    <tr>\n",
       "      <th>2657</th>\n",
       "      <td>haemoglobin__symmetry_looking__r_0.15000000000...</td>\n",
       "      <td>0.005076</td>\n",
       "    </tr>\n",
       "    <tr>\n",
       "      <th>6641</th>\n",
       "      <td>rbc__quantile__q_0.7</td>\n",
       "      <td>0.005001</td>\n",
       "    </tr>\n",
       "    <tr>\n",
       "      <th>3471</th>\n",
       "      <td>potassium__quantile__q_0.8</td>\n",
       "      <td>0.004909</td>\n",
       "    </tr>\n",
       "    <tr>\n",
       "      <th>360</th>\n",
       "      <td>wcc__autocorrelation__lag_2</td>\n",
       "      <td>0.004896</td>\n",
       "    </tr>\n",
       "    <tr>\n",
       "      <th>468</th>\n",
       "      <td>wcc__fft_coefficient__attr_\"\"\"\"\"\"\"\"abs\"\"\"\"\"\"\"\"...</td>\n",
       "      <td>0.004784</td>\n",
       "    </tr>\n",
       "    <tr>\n",
       "      <th>4512</th>\n",
       "      <td>bicarbonate__change_quantiles__f_agg_\"\"\"\"\"\"\"\"m...</td>\n",
       "      <td>0.004692</td>\n",
       "    </tr>\n",
       "    <tr>\n",
       "      <th>4708</th>\n",
       "      <td>ggt__index_mass_quantile__q_0.8</td>\n",
       "      <td>0.004662</td>\n",
       "    </tr>\n",
       "    <tr>\n",
       "      <th>981</th>\n",
       "      <td>alkphos__fft_coefficient__attr_\"\"\"\"\"\"\"\"imag\"\"\"...</td>\n",
       "      <td>0.004463</td>\n",
       "    </tr>\n",
       "    <tr>\n",
       "      <th>2027</th>\n",
       "      <td>creatinine__linear_trend__attr_\"\"\"\"\"\"\"\"stderr\"...</td>\n",
       "      <td>0.004462</td>\n",
       "    </tr>\n",
       "    <tr>\n",
       "      <th>2018</th>\n",
       "      <td>creatinine__approximate_entropy__m_2__r_0.1</td>\n",
       "      <td>0.004353</td>\n",
       "    </tr>\n",
       "    <tr>\n",
       "      <th>4362</th>\n",
       "      <td>alt__energy_ratio_by_chunks__num_segments_10__...</td>\n",
       "      <td>0.004282</td>\n",
       "    </tr>\n",
       "    <tr>\n",
       "      <th>1301</th>\n",
       "      <td>caphos_product__skewness</td>\n",
       "      <td>0.004055</td>\n",
       "    </tr>\n",
       "    <tr>\n",
       "      <th>1630</th>\n",
       "      <td>chloride__autocorrelation__lag_3</td>\n",
       "      <td>0.003947</td>\n",
       "    </tr>\n",
       "    <tr>\n",
       "      <th>3381</th>\n",
       "      <td>platelet__permutation_entropy__dimension_3__tau_1</td>\n",
       "      <td>0.003944</td>\n",
       "    </tr>\n",
       "    <tr>\n",
       "      <th>532</th>\n",
       "      <td>albumin__has_duplicate_max</td>\n",
       "      <td>0.003919</td>\n",
       "    </tr>\n",
       "    <tr>\n",
       "      <th>5360</th>\n",
       "      <td>eosinophils__index_mass_quantile__q_0.9</td>\n",
       "      <td>0.003903</td>\n",
       "    </tr>\n",
       "    <tr>\n",
       "      <th>2114</th>\n",
       "      <td>egfr__symmetry_looking__r_0.1</td>\n",
       "      <td>0.003733</td>\n",
       "    </tr>\n",
       "    <tr>\n",
       "      <th>362</th>\n",
       "      <td>wcc__agg_autocorrelation__f_agg_\"\"\"\"\"\"\"\"mean\"\"...</td>\n",
       "      <td>0.003705</td>\n",
       "    </tr>\n",
       "    <tr>\n",
       "      <th>3648</th>\n",
       "      <td>sodium__has_duplicate_min</td>\n",
       "      <td>0.003694</td>\n",
       "    </tr>\n",
       "    <tr>\n",
       "      <th>1823</th>\n",
       "      <td>creatinine__last_location_of_maximum</td>\n",
       "      <td>0.003626</td>\n",
       "    </tr>\n",
       "    <tr>\n",
       "      <th>565</th>\n",
       "      <td>albumin__benford_correlation</td>\n",
       "      <td>0.003595</td>\n",
       "    </tr>\n",
       "    <tr>\n",
       "      <th>465</th>\n",
       "      <td>wcc__fft_coefficient__attr_\"\"\"\"\"\"\"\"imag\"\"\"\"\"\"\"...</td>\n",
       "      <td>0.003577</td>\n",
       "    </tr>\n",
       "    <tr>\n",
       "      <th>1569</th>\n",
       "      <td>chloride__maximum</td>\n",
       "      <td>0.003575</td>\n",
       "    </tr>\n",
       "    <tr>\n",
       "      <th>2457</th>\n",
       "      <td>glucose__agg_autocorrelation__f_agg_\"\"\"\"\"\"\"\"me...</td>\n",
       "      <td>0.003522</td>\n",
       "    </tr>\n",
       "    <tr>\n",
       "      <th>6683</th>\n",
       "      <td>rbc__change_quantiles__f_agg_\"\"\"\"\"\"\"\"var\"\"\"\"\"\"...</td>\n",
       "      <td>0.003519</td>\n",
       "    </tr>\n",
       "    <tr>\n",
       "      <th>1912</th>\n",
       "      <td>creatinine__index_mass_quantile__q_0.6</td>\n",
       "      <td>0.003493</td>\n",
       "    </tr>\n",
       "    <tr>\n",
       "      <th>4375</th>\n",
       "      <td>alt__ratio_beyond_r_sigma__r_2</td>\n",
       "      <td>0.003427</td>\n",
       "    </tr>\n",
       "    <tr>\n",
       "      <th>3282</th>\n",
       "      <td>platelet__change_quantiles__f_agg_\"\"\"\"\"\"\"\"var\"...</td>\n",
       "      <td>0.003418</td>\n",
       "    </tr>\n",
       "    <tr>\n",
       "      <th>2585</th>\n",
       "      <td>glucose__energy_ratio_by_chunks__num_segments_...</td>\n",
       "      <td>0.003383</td>\n",
       "    </tr>\n",
       "    <tr>\n",
       "      <th>1196</th>\n",
       "      <td>calcium__change_quantiles__f_agg_\"\"\"\"\"\"\"\"mean\"...</td>\n",
       "      <td>0.003298</td>\n",
       "    </tr>\n",
       "    <tr>\n",
       "      <th>2647</th>\n",
       "      <td>haemoglobin__time_reversal_asymmetry_statistic...</td>\n",
       "      <td>0.003291</td>\n",
       "    </tr>\n",
       "    <tr>\n",
       "      <th>2329</th>\n",
       "      <td>egfr__energy_ratio_by_chunks__num_segments_10_...</td>\n",
       "      <td>0.003278</td>\n",
       "    </tr>\n",
       "    <tr>\n",
       "      <th>5992</th>\n",
       "      <td>mchc__quantile__q_0.9</td>\n",
       "      <td>0.003277</td>\n",
       "    </tr>\n",
       "    <tr>\n",
       "      <th>3124</th>\n",
       "      <td>platelet__sum_values</td>\n",
       "      <td>0.003260</td>\n",
       "    </tr>\n",
       "    <tr>\n",
       "      <th>508</th>\n",
       "      <td>wcc__ratio_beyond_r_sigma__r_1</td>\n",
       "      <td>0.003088</td>\n",
       "    </tr>\n",
       "    <tr>\n",
       "      <th>3270</th>\n",
       "      <td>platelet__change_quantiles__f_agg_\"\"\"\"\"\"\"\"var\"...</td>\n",
       "      <td>0.003042</td>\n",
       "    </tr>\n",
       "    <tr>\n",
       "      <th>967</th>\n",
       "      <td>alkphos__change_quantiles__f_agg_\"\"\"\"\"\"\"\"var\"\"...</td>\n",
       "      <td>0.003035</td>\n",
       "    </tr>\n",
       "    <tr>\n",
       "      <th>4608</th>\n",
       "      <td>ggt__has_duplicate_min</td>\n",
       "      <td>0.003007</td>\n",
       "    </tr>\n",
       "    <tr>\n",
       "      <th>1656</th>\n",
       "      <td>chloride__cwt_coefficients__coeff_1__w_2__widt...</td>\n",
       "      <td>0.002996</td>\n",
       "    </tr>\n",
       "    <tr>\n",
       "      <th>2533</th>\n",
       "      <td>glucose__change_quantiles__f_agg_\"\"\"\"\"\"\"\"mean\"...</td>\n",
       "      <td>0.002990</td>\n",
       "    </tr>\n",
       "    <tr>\n",
       "      <th>294</th>\n",
       "      <td>wcc__first_location_of_minimum</td>\n",
       "      <td>0.002990</td>\n",
       "    </tr>\n",
       "    <tr>\n",
       "      <th>2303</th>\n",
       "      <td>egfr__linear_trend__attr_\"\"\"\"\"\"\"\"rvalue\"\"\"\"\"\"\"\"</td>\n",
       "      <td>0.002876</td>\n",
       "    </tr>\n",
       "    <tr>\n",
       "      <th>2333</th>\n",
       "      <td>egfr__energy_ratio_by_chunks__num_segments_10_...</td>\n",
       "      <td>0.002704</td>\n",
       "    </tr>\n",
       "    <tr>\n",
       "      <th>2278</th>\n",
       "      <td>egfr__fft_coefficient__attr_\"\"\"\"\"\"\"\"imag\"\"\"\"\"\"...</td>\n",
       "      <td>0.002675</td>\n",
       "    </tr>\n",
       "    <tr>\n",
       "      <th>225</th>\n",
       "      <td>ureacreat_ratio__linear_trend__attr_\"\"\"\"\"\"\"\"in...</td>\n",
       "      <td>0.002666</td>\n",
       "    </tr>\n",
       "    <tr>\n",
       "      <th>4128</th>\n",
       "      <td>urea__linear_trend__attr_\"\"\"\"\"\"\"\"rvalue\"\"\"\"\"\"\"\"</td>\n",
       "      <td>0.002658</td>\n",
       "    </tr>\n",
       "    <tr>\n",
       "      <th>3903</th>\n",
       "      <td>sodium__fourier_entropy__bins_3</td>\n",
       "      <td>0.002632</td>\n",
       "    </tr>\n",
       "    <tr>\n",
       "      <th>4575</th>\n",
       "      <td>bicarbonate__linear_trend__attr_\"\"\"\"\"\"\"\"rvalue...</td>\n",
       "      <td>0.002609</td>\n",
       "    </tr>\n",
       "    <tr>\n",
       "      <th>2898</th>\n",
       "      <td>phosphate__last_location_of_minimum</td>\n",
       "      <td>0.002534</td>\n",
       "    </tr>\n",
       "    <tr>\n",
       "      <th>3430</th>\n",
       "      <td>potassium__symmetry_looking__r_0.2</td>\n",
       "      <td>0.002479</td>\n",
       "    </tr>\n",
       "    <tr>\n",
       "      <th>2357</th>\n",
       "      <td>egfr__fourier_entropy__bins_3</td>\n",
       "      <td>0.002459</td>\n",
       "    </tr>\n",
       "    <tr>\n",
       "      <th>361</th>\n",
       "      <td>wcc__autocorrelation__lag_3</td>\n",
       "      <td>0.002430</td>\n",
       "    </tr>\n",
       "    <tr>\n",
       "      <th>2942</th>\n",
       "      <td>phosphate__large_standard_deviation__r_0.35000...</td>\n",
       "      <td>0.002421</td>\n",
       "    </tr>\n",
       "    <tr>\n",
       "      <th>4133</th>\n",
       "      <td>urea__augmented_dickey_fuller__attr_\"\"\"\"\"\"\"\"pv...</td>\n",
       "      <td>0.002406</td>\n",
       "    </tr>\n",
       "  </tbody>\n",
       "</table>\n",
       "</div>"
      ]
     },
     "metadata": {},
     "execution_count": 47
    }
   ],
   "metadata": {}
  }
 ],
 "metadata": {
  "kernelspec": {
   "name": "python3",
   "display_name": "Python 3.9.5 64-bit ('ml_dl': conda)"
  },
  "language_info": {
   "codemirror_mode": {
    "name": "ipython",
    "version": 3
   },
   "file_extension": ".py",
   "mimetype": "text/x-python",
   "name": "python",
   "nbconvert_exporter": "python",
   "pygments_lexer": "ipython3",
   "version": "3.9.5"
  },
  "interpreter": {
   "hash": "252eb11dec6c7c75d43c93f623bff35f4a463f74afda1ad8986a53442394c969"
  }
 },
 "nbformat": 4,
 "nbformat_minor": 5
}