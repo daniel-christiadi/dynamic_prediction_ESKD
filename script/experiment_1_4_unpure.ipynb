{
 "cells": [
  {
   "cell_type": "code",
   "execution_count": 1,
   "source": [
    "import numpy as np\n",
    "import pandas as pd\n",
    "import xgboost as xgb\n",
    "import shap\n",
    "from sklearn.preprocessing import OneHotEncoder, LabelEncoder\n",
    "from sklearn.compose import ColumnTransformer\n",
    "from sklearn.model_selection import train_test_split, StratifiedKFold, cross_validate, cross_val_score, cross_val_predict\n",
    "from sklearn.metrics import matthews_corrcoef, confusion_matrix, roc_auc_score, classification_report\n",
    "from imblearn.over_sampling import SMOTE\n",
    "from imblearn.under_sampling import RandomUnderSampler\n",
    "from imblearn.combine import SMOTETomek\n",
    "from imblearn.pipeline import Pipeline\n",
    "from sklearn.metrics import recall_score, accuracy_score\n",
    "from sklearn.impute import KNNImputer"
   ],
   "outputs": [],
   "metadata": {}
  },
  {
   "cell_type": "code",
   "execution_count": 2,
   "source": [
    "random_state = 7\n",
    "cv_method = StratifiedKFold(n_splits=5)"
   ],
   "outputs": [],
   "metadata": {}
  },
  {
   "cell_type": "code",
   "execution_count": 3,
   "source": [
    "df = pd.read_csv('../data/train_egfr_other_1_4.gz', index_col='id')\n",
    "df.shape"
   ],
   "outputs": [
    {
     "output_type": "execute_result",
     "data": {
      "text/plain": [
       "(5603, 1240)"
      ]
     },
     "metadata": {},
     "execution_count": 3
    }
   ],
   "metadata": {}
  },
  {
   "cell_type": "code",
   "execution_count": 4,
   "source": [
    "df.info()"
   ],
   "outputs": [
    {
     "output_type": "stream",
     "name": "stdout",
     "text": [
      "<class 'pandas.core.frame.DataFrame'>\n",
      "Int64Index: 5603 entries, 3916 to 23911\n",
      "Columns: 1240 entries, egfr__variance_larger_than_standard_deviation to cat8\n",
      "dtypes: float64(1219), int64(1), object(20)\n",
      "memory usage: 53.0+ MB\n"
     ]
    }
   ],
   "metadata": {}
  },
  {
   "cell_type": "code",
   "execution_count": 5,
   "source": [
    "df['aki_1'].fillna(value=0, inplace=True)\n",
    "df['aki_2'].fillna(value=0, inplace=True)\n",
    "df['aki_3'].fillna(value=0, inplace=True)"
   ],
   "outputs": [],
   "metadata": {}
  },
  {
   "cell_type": "code",
   "execution_count": 6,
   "source": [
    "df['gn'].value_counts()"
   ],
   "outputs": [
    {
     "output_type": "execute_result",
     "data": {
      "text/plain": [
       "no                 5181\n",
       "igan                172\n",
       "anca                 76\n",
       "lupus nephritis      39\n",
       "membranous           33\n",
       "unspecific           30\n",
       "fsgs                 28\n",
       "mcd                  21\n",
       "mp/mcgn              16\n",
       "fgn/itg               5\n",
       "pign                  2\n",
       "Name: gn, dtype: int64"
      ]
     },
     "metadata": {},
     "execution_count": 6
    }
   ],
   "metadata": {}
  },
  {
   "cell_type": "code",
   "execution_count": 7,
   "source": [
    "df.loc[df.gn == 'pign', 'gn'] = 'unspecific'\n",
    "df.loc[df.gn == 'fgn/itg', 'gn'] = 'unspecific'"
   ],
   "outputs": [],
   "metadata": {}
  },
  {
   "cell_type": "code",
   "execution_count": 10,
   "source": [
    "df.head()"
   ],
   "outputs": [
    {
     "output_type": "execute_result",
     "data": {
      "text/plain": [
       "      egfr__variance_larger_than_standard_deviation  egfr__has_duplicate_max  \\\n",
       "id                                                                             \n",
       "3916                                            1.0                      0.0   \n",
       "3918                                            0.0                      0.0   \n",
       "3921                                            NaN                      NaN   \n",
       "3924                                            1.0                      0.0   \n",
       "3930                                            1.0                      0.0   \n",
       "\n",
       "      egfr__has_duplicate_min  egfr__has_duplicate  egfr__abs_energy  \\\n",
       "id                                                                     \n",
       "3916                      0.0                  0.0         6523.7549   \n",
       "3918                      0.0                  0.0         2788.8961   \n",
       "3921                      NaN                  NaN               NaN   \n",
       "3924                      0.0                  0.0        11451.7994   \n",
       "3930                      0.0                  0.0        11206.0000   \n",
       "\n",
       "      egfr__mean_abs_change  egfr__mean_change  \\\n",
       "id                                               \n",
       "3916                  10.63             -10.63   \n",
       "3918                    NaN                NaN   \n",
       "3921                    NaN                NaN   \n",
       "3924                   2.42              -2.42   \n",
       "3930                   7.00               0.60   \n",
       "\n",
       "      egfr__mean_second_derivative_central  egfr__median  egfr__mean  ...  \\\n",
       "id                                                                    ...   \n",
       "3916                                   NaN        56.865   56.865000  ...   \n",
       "3918                                   NaN        52.810   52.810000  ...   \n",
       "3921                                   NaN           NaN         NaN  ...   \n",
       "3924                                   NaN        75.660   75.660000  ...   \n",
       "3930                                -2.125        43.000   42.666667  ...   \n",
       "\n",
       "        cat3.5      cat4    cat4.5      cat5    cat5.5      cat6    cat6.5  \\\n",
       "id                                                                           \n",
       "3916  non_eskd  non_eskd  non_eskd  non_eskd  non_eskd  non_eskd  non_eskd   \n",
       "3918  non_eskd  non_eskd  non_eskd  non_eskd  non_eskd  non_eskd  non_eskd   \n",
       "3921  non_eskd  non_eskd  non_eskd  non_eskd  non_eskd  non_eskd  non_eskd   \n",
       "3924  non_eskd  non_eskd  non_eskd  non_eskd  non_eskd  non_eskd  non_eskd   \n",
       "3930  non_eskd  non_eskd  non_eskd  non_eskd  non_eskd  non_eskd  non_eskd   \n",
       "\n",
       "          cat7    cat7.5      cat8  \n",
       "id                                  \n",
       "3916  non_eskd  non_eskd  non_eskd  \n",
       "3918  non_eskd  non_eskd  non_eskd  \n",
       "3921  non_eskd  non_eskd  non_eskd  \n",
       "3924  non_eskd  non_eskd  non_eskd  \n",
       "3930  non_eskd  non_eskd  non_eskd  \n",
       "\n",
       "[5 rows x 1240 columns]"
      ],
      "text/html": [
       "<div>\n",
       "<style scoped>\n",
       "    .dataframe tbody tr th:only-of-type {\n",
       "        vertical-align: middle;\n",
       "    }\n",
       "\n",
       "    .dataframe tbody tr th {\n",
       "        vertical-align: top;\n",
       "    }\n",
       "\n",
       "    .dataframe thead th {\n",
       "        text-align: right;\n",
       "    }\n",
       "</style>\n",
       "<table border=\"1\" class=\"dataframe\">\n",
       "  <thead>\n",
       "    <tr style=\"text-align: right;\">\n",
       "      <th></th>\n",
       "      <th>egfr__variance_larger_than_standard_deviation</th>\n",
       "      <th>egfr__has_duplicate_max</th>\n",
       "      <th>egfr__has_duplicate_min</th>\n",
       "      <th>egfr__has_duplicate</th>\n",
       "      <th>egfr__abs_energy</th>\n",
       "      <th>egfr__mean_abs_change</th>\n",
       "      <th>egfr__mean_change</th>\n",
       "      <th>egfr__mean_second_derivative_central</th>\n",
       "      <th>egfr__median</th>\n",
       "      <th>egfr__mean</th>\n",
       "      <th>...</th>\n",
       "      <th>cat3.5</th>\n",
       "      <th>cat4</th>\n",
       "      <th>cat4.5</th>\n",
       "      <th>cat5</th>\n",
       "      <th>cat5.5</th>\n",
       "      <th>cat6</th>\n",
       "      <th>cat6.5</th>\n",
       "      <th>cat7</th>\n",
       "      <th>cat7.5</th>\n",
       "      <th>cat8</th>\n",
       "    </tr>\n",
       "    <tr>\n",
       "      <th>id</th>\n",
       "      <th></th>\n",
       "      <th></th>\n",
       "      <th></th>\n",
       "      <th></th>\n",
       "      <th></th>\n",
       "      <th></th>\n",
       "      <th></th>\n",
       "      <th></th>\n",
       "      <th></th>\n",
       "      <th></th>\n",
       "      <th></th>\n",
       "      <th></th>\n",
       "      <th></th>\n",
       "      <th></th>\n",
       "      <th></th>\n",
       "      <th></th>\n",
       "      <th></th>\n",
       "      <th></th>\n",
       "      <th></th>\n",
       "      <th></th>\n",
       "      <th></th>\n",
       "    </tr>\n",
       "  </thead>\n",
       "  <tbody>\n",
       "    <tr>\n",
       "      <th>3916</th>\n",
       "      <td>1.0</td>\n",
       "      <td>0.0</td>\n",
       "      <td>0.0</td>\n",
       "      <td>0.0</td>\n",
       "      <td>6523.7549</td>\n",
       "      <td>10.63</td>\n",
       "      <td>-10.63</td>\n",
       "      <td>NaN</td>\n",
       "      <td>56.865</td>\n",
       "      <td>56.865000</td>\n",
       "      <td>...</td>\n",
       "      <td>non_eskd</td>\n",
       "      <td>non_eskd</td>\n",
       "      <td>non_eskd</td>\n",
       "      <td>non_eskd</td>\n",
       "      <td>non_eskd</td>\n",
       "      <td>non_eskd</td>\n",
       "      <td>non_eskd</td>\n",
       "      <td>non_eskd</td>\n",
       "      <td>non_eskd</td>\n",
       "      <td>non_eskd</td>\n",
       "    </tr>\n",
       "    <tr>\n",
       "      <th>3918</th>\n",
       "      <td>0.0</td>\n",
       "      <td>0.0</td>\n",
       "      <td>0.0</td>\n",
       "      <td>0.0</td>\n",
       "      <td>2788.8961</td>\n",
       "      <td>NaN</td>\n",
       "      <td>NaN</td>\n",
       "      <td>NaN</td>\n",
       "      <td>52.810</td>\n",
       "      <td>52.810000</td>\n",
       "      <td>...</td>\n",
       "      <td>non_eskd</td>\n",
       "      <td>non_eskd</td>\n",
       "      <td>non_eskd</td>\n",
       "      <td>non_eskd</td>\n",
       "      <td>non_eskd</td>\n",
       "      <td>non_eskd</td>\n",
       "      <td>non_eskd</td>\n",
       "      <td>non_eskd</td>\n",
       "      <td>non_eskd</td>\n",
       "      <td>non_eskd</td>\n",
       "    </tr>\n",
       "    <tr>\n",
       "      <th>3921</th>\n",
       "      <td>NaN</td>\n",
       "      <td>NaN</td>\n",
       "      <td>NaN</td>\n",
       "      <td>NaN</td>\n",
       "      <td>NaN</td>\n",
       "      <td>NaN</td>\n",
       "      <td>NaN</td>\n",
       "      <td>NaN</td>\n",
       "      <td>NaN</td>\n",
       "      <td>NaN</td>\n",
       "      <td>...</td>\n",
       "      <td>non_eskd</td>\n",
       "      <td>non_eskd</td>\n",
       "      <td>non_eskd</td>\n",
       "      <td>non_eskd</td>\n",
       "      <td>non_eskd</td>\n",
       "      <td>non_eskd</td>\n",
       "      <td>non_eskd</td>\n",
       "      <td>non_eskd</td>\n",
       "      <td>non_eskd</td>\n",
       "      <td>non_eskd</td>\n",
       "    </tr>\n",
       "    <tr>\n",
       "      <th>3924</th>\n",
       "      <td>1.0</td>\n",
       "      <td>0.0</td>\n",
       "      <td>0.0</td>\n",
       "      <td>0.0</td>\n",
       "      <td>11451.7994</td>\n",
       "      <td>2.42</td>\n",
       "      <td>-2.42</td>\n",
       "      <td>NaN</td>\n",
       "      <td>75.660</td>\n",
       "      <td>75.660000</td>\n",
       "      <td>...</td>\n",
       "      <td>non_eskd</td>\n",
       "      <td>non_eskd</td>\n",
       "      <td>non_eskd</td>\n",
       "      <td>non_eskd</td>\n",
       "      <td>non_eskd</td>\n",
       "      <td>non_eskd</td>\n",
       "      <td>non_eskd</td>\n",
       "      <td>non_eskd</td>\n",
       "      <td>non_eskd</td>\n",
       "      <td>non_eskd</td>\n",
       "    </tr>\n",
       "    <tr>\n",
       "      <th>3930</th>\n",
       "      <td>1.0</td>\n",
       "      <td>0.0</td>\n",
       "      <td>0.0</td>\n",
       "      <td>0.0</td>\n",
       "      <td>11206.0000</td>\n",
       "      <td>7.00</td>\n",
       "      <td>0.60</td>\n",
       "      <td>-2.125</td>\n",
       "      <td>43.000</td>\n",
       "      <td>42.666667</td>\n",
       "      <td>...</td>\n",
       "      <td>non_eskd</td>\n",
       "      <td>non_eskd</td>\n",
       "      <td>non_eskd</td>\n",
       "      <td>non_eskd</td>\n",
       "      <td>non_eskd</td>\n",
       "      <td>non_eskd</td>\n",
       "      <td>non_eskd</td>\n",
       "      <td>non_eskd</td>\n",
       "      <td>non_eskd</td>\n",
       "      <td>non_eskd</td>\n",
       "    </tr>\n",
       "  </tbody>\n",
       "</table>\n",
       "<p>5 rows × 1240 columns</p>\n",
       "</div>"
      ]
     },
     "metadata": {},
     "execution_count": 10
    }
   ],
   "metadata": {}
  },
  {
   "cell_type": "code",
   "execution_count": 9,
   "source": [
    "def to_category(df):\n",
    "    cols = df.select_dtypes(include='object').columns\n",
    "    for col in cols:\n",
    "        df[col] = df[col].astype('category')\n",
    "    return df\n",
    "\n",
    "def drop_missing(df):\n",
    "    threshold = len(df)*0.6\n",
    "    df.dropna(axis=1, thresh=threshold, inplace=True)\n",
    "    return df\n",
    "\n",
    "def copy_df(df):\n",
    "    return df.copy()"
   ],
   "outputs": [],
   "metadata": {}
  },
  {
   "cell_type": "code",
   "execution_count": 10,
   "source": [
    "df_cleaned = (df.pipe(copy_df).pipe(drop_missing).pipe(to_category))\n",
    "df_cleaned.shape"
   ],
   "outputs": [
    {
     "output_type": "execute_result",
     "data": {
      "text/plain": [
       "(5603, 438)"
      ]
     },
     "metadata": {},
     "execution_count": 10
    }
   ],
   "metadata": {}
  },
  {
   "cell_type": "code",
   "execution_count": 47,
   "source": [
    "df_cleaned.info()"
   ],
   "outputs": [
    {
     "output_type": "stream",
     "name": "stdout",
     "text": [
      "<class 'pandas.core.frame.DataFrame'>\n",
      "Int64Index: 5603 entries, 3916 to 23911\n",
      "Columns: 438 entries, egfr__variance_larger_than_standard_deviation to cat8\n",
      "dtypes: category(20), float64(417), int64(1)\n",
      "memory usage: 18.0 MB\n"
     ]
    }
   ],
   "metadata": {}
  },
  {
   "cell_type": "markdown",
   "source": [
    "### Number of ESKD in-training"
   ],
   "metadata": {}
  },
  {
   "cell_type": "code",
   "execution_count": 13,
   "source": [
    "df_cleaned['cat1'].value_counts()"
   ],
   "outputs": [
    {
     "output_type": "execute_result",
     "data": {
      "text/plain": [
       "non_eskd    4409\n",
       "eskd        1194\n",
       "Name: cat1, dtype: int64"
      ]
     },
     "metadata": {},
     "execution_count": 13
    }
   ],
   "metadata": {}
  },
  {
   "cell_type": "markdown",
   "source": [
    "### Number of ESKD 2 years post-training"
   ],
   "metadata": {}
  },
  {
   "cell_type": "code",
   "execution_count": 48,
   "source": [
    "df_cleaned['cat3'].value_counts()"
   ],
   "outputs": [
    {
     "output_type": "execute_result",
     "data": {
      "text/plain": [
       "non_eskd    4174\n",
       "eskd        1429\n",
       "Name: cat3, dtype: int64"
      ]
     },
     "metadata": {},
     "execution_count": 48
    }
   ],
   "metadata": {}
  },
  {
   "cell_type": "code",
   "execution_count": 49,
   "source": [
    "df_cleaned['cat6'].value_counts()"
   ],
   "outputs": [
    {
     "output_type": "execute_result",
     "data": {
      "text/plain": [
       "non_eskd    3918\n",
       "eskd        1685\n",
       "Name: cat6, dtype: int64"
      ]
     },
     "metadata": {},
     "execution_count": 49
    }
   ],
   "metadata": {}
  },
  {
   "cell_type": "code",
   "execution_count": 53,
   "source": [
    "dropped_cols = list(df_cleaned.columns[-18:])\n",
    "dropped_cols.remove('age.init')\n",
    "dropped_cols.remove('cat1')\n",
    "dropped_cols"
   ],
   "outputs": [
    {
     "output_type": "execute_result",
     "data": {
      "text/plain": [
       "['egfr.y',\n",
       " 'cat0.5',\n",
       " 'cat1.5',\n",
       " 'cat2',\n",
       " 'cat2.5',\n",
       " 'cat3',\n",
       " 'cat3.5',\n",
       " 'cat4',\n",
       " 'cat4.5',\n",
       " 'cat5',\n",
       " 'cat5.5',\n",
       " 'cat6',\n",
       " 'cat6.5',\n",
       " 'cat7',\n",
       " 'cat7.5',\n",
       " 'cat8']"
      ]
     },
     "metadata": {},
     "execution_count": 53
    }
   ],
   "metadata": {}
  },
  {
   "cell_type": "markdown",
   "source": [
    "## ESKD Prediction 2 years post-training"
   ],
   "metadata": {}
  },
  {
   "cell_type": "code",
   "execution_count": 81,
   "source": [
    "X = df_cleaned.drop(dropped_cols,axis=1).copy()\n",
    "y = df_cleaned['cat6']\n",
    "X.shape, y.shape"
   ],
   "outputs": [
    {
     "output_type": "execute_result",
     "data": {
      "text/plain": [
       "((5603, 422), (5603,))"
      ]
     },
     "metadata": {},
     "execution_count": 81
    }
   ],
   "metadata": {}
  },
  {
   "cell_type": "code",
   "execution_count": 82,
   "source": [
    "y_mapped = y.map({'non_eskd':'no', 'eskd':'yes'})\n",
    "y_mapped"
   ],
   "outputs": [
    {
     "output_type": "execute_result",
     "data": {
      "text/plain": [
       "id\n",
       "3916      no\n",
       "3918      no\n",
       "3921      no\n",
       "3924      no\n",
       "3930      no\n",
       "        ... \n",
       "23807     no\n",
       "23829    yes\n",
       "23864     no\n",
       "23882    yes\n",
       "23911    yes\n",
       "Name: cat6, Length: 5603, dtype: category\n",
       "Categories (2, object): ['yes', 'no']"
      ]
     },
     "metadata": {},
     "execution_count": 82
    }
   ],
   "metadata": {}
  },
  {
   "cell_type": "code",
   "execution_count": 83,
   "source": [
    "X_train, X_test, y_train, y_test = train_test_split(X, y_mapped, test_size=0.2, stratify=y_mapped, random_state=random_state)\n",
    "X_train.shape, X_test.shape, y_train.shape, y_test.shape"
   ],
   "outputs": [
    {
     "output_type": "execute_result",
     "data": {
      "text/plain": [
       "((4482, 422), (1121, 422), (4482,), (1121,))"
      ]
     },
     "metadata": {},
     "execution_count": 83
    }
   ],
   "metadata": {}
  },
  {
   "cell_type": "code",
   "execution_count": 84,
   "source": [
    "index_eskd = X_test.query(\"cat1 == 'eskd'\").index\n",
    "index_eskd"
   ],
   "outputs": [
    {
     "output_type": "execute_result",
     "data": {
      "text/plain": [
       "Int64Index([ 7713,  4424, 14377, 16622,  5267, 10908,  7342,  8679, 12670,\n",
       "            21681,\n",
       "            ...\n",
       "            17498, 12046,  4249, 13302, 18709, 16303, 18493, 11468,  5453,\n",
       "             9887],\n",
       "           dtype='int64', name='id', length=225)"
      ]
     },
     "metadata": {},
     "execution_count": 84
    }
   ],
   "metadata": {}
  },
  {
   "cell_type": "code",
   "execution_count": 85,
   "source": [
    "X_test.drop(index_eskd, inplace=True)\n",
    "y_test.drop(index_eskd, inplace=True)"
   ],
   "outputs": [
    {
     "output_type": "stream",
     "name": "stderr",
     "text": [
      "\n",
      "A value is trying to be set on a copy of a slice from a DataFrame\n",
      "\n",
      "See the caveats in the documentation: https://pandas.pydata.org/pandas-docs/stable/user_guide/indexing.html#returning-a-view-versus-a-copy\n"
     ]
    }
   ],
   "metadata": {}
  },
  {
   "cell_type": "code",
   "execution_count": 86,
   "source": [
    "X_train.drop(columns='cat1', axis=1, inplace=True)\n",
    "X_test.drop(columns='cat1', axis=1, inplace=True)"
   ],
   "outputs": [],
   "metadata": {}
  },
  {
   "cell_type": "code",
   "execution_count": 87,
   "source": [
    "X_train.info()"
   ],
   "outputs": [
    {
     "output_type": "stream",
     "name": "stdout",
     "text": [
      "<class 'pandas.core.frame.DataFrame'>\n",
      "Int64Index: 4482 entries, 13384 to 21818\n",
      "Columns: 421 entries, egfr__variance_larger_than_standard_deviation to age.init\n",
      "dtypes: category(4), float64(416), int64(1)\n",
      "memory usage: 14.3 MB\n"
     ]
    }
   ],
   "metadata": {}
  },
  {
   "cell_type": "code",
   "execution_count": 88,
   "source": [
    "lab_encode = LabelEncoder()\n",
    "y_train = lab_encode.fit_transform(y_train)\n",
    "y_test = lab_encode.transform(y_test)"
   ],
   "outputs": [],
   "metadata": {}
  },
  {
   "cell_type": "code",
   "execution_count": 100,
   "source": [
    "unique_values, counts = np.unique(y_test, return_counts=True)\n",
    "ratio = dict(zip(unique_values, counts))\n",
    "ratio\n",
    "imbalance_ratio = ratio[0] / ratio[1]\n",
    "imbalance_ratio"
   ],
   "outputs": [
    {
     "output_type": "execute_result",
     "data": {
      "text/plain": [
       "7.0"
      ]
     },
     "metadata": {},
     "execution_count": 100
    }
   ],
   "metadata": {}
  },
  {
   "cell_type": "code",
   "execution_count": 74,
   "source": [
    "category_cols = list(X_train.select_dtypes(include='category').columns)\n",
    "numeric_cols = list(X_train.select_dtypes(include=['int', 'float']).columns)\n",
    "one_hot = OneHotEncoder(handle_unknown='ignore')\n",
    "num_imputer = KNNImputer(n_neighbors=5)\n",
    "len(category_cols), len(numeric_cols)"
   ],
   "outputs": [
    {
     "output_type": "execute_result",
     "data": {
      "text/plain": [
       "(4, 417)"
      ]
     },
     "metadata": {},
     "execution_count": 74
    }
   ],
   "metadata": {}
  },
  {
   "cell_type": "code",
   "execution_count": 91,
   "source": [
    "preprocess = ColumnTransformer([('num_imputing', num_imputer, numeric_cols), ('cat_encoder', one_hot, category_cols)], remainder='passthrough')\n",
    "X_train_processed = preprocess.fit_transform(X_train)\n",
    "X_train_processed.shape"
   ],
   "outputs": [
    {
     "output_type": "execute_result",
     "data": {
      "text/plain": [
       "(4482, 432)"
      ]
     },
     "metadata": {},
     "execution_count": 91
    }
   ],
   "metadata": {}
  },
  {
   "cell_type": "code",
   "execution_count": 93,
   "source": [
    "X_test_processed = preprocess.transform(X_test)"
   ],
   "outputs": [],
   "metadata": {}
  },
  {
   "cell_type": "code",
   "execution_count": 101,
   "source": [
    "xgb_class = xgb.XGBClassifier(n_jobs=-1, random_state = random_state, n_estimators=1000, use_label_encoder=False, eval_metric='logloss', scale_pos_weight=imbalance_ratio)\n",
    "sampler = SMOTETomek(random_state=random_state)\n",
    "steps = [('resampling', sampler), ('model', xgb_class)]\n",
    "pipeline = Pipeline(steps=steps)"
   ],
   "outputs": [],
   "metadata": {}
  },
  {
   "cell_type": "code",
   "execution_count": 102,
   "source": [
    "pipeline.fit(X_train_processed, y_train)"
   ],
   "outputs": [
    {
     "output_type": "execute_result",
     "data": {
      "text/plain": [
       "Pipeline(steps=[('resampling', SMOTETomek(random_state=7)),\n",
       "                ('model',\n",
       "                 XGBClassifier(base_score=0.5, booster='gbtree',\n",
       "                               colsample_bylevel=1, colsample_bynode=1,\n",
       "                               colsample_bytree=1, eval_metric='logloss',\n",
       "                               gamma=0, gpu_id=-1, importance_type='gain',\n",
       "                               interaction_constraints='',\n",
       "                               learning_rate=0.300000012, max_delta_step=0,\n",
       "                               max_depth=6, min_child_weight=1, missing=nan,\n",
       "                               monotone_constraints='()', n_estimators=1000,\n",
       "                               n_jobs=-1, num_parallel_tree=1, random_state=7,\n",
       "                               reg_alpha=0, reg_lambda=1, scale_pos_weight=7.0,\n",
       "                               subsample=1, tree_method='exact',\n",
       "                               use_label_encoder=False, validate_parameters=1,\n",
       "                               verbosity=None))])"
      ]
     },
     "metadata": {},
     "execution_count": 102
    }
   ],
   "metadata": {}
  },
  {
   "cell_type": "code",
   "execution_count": 103,
   "source": [
    "y_pred = pipeline.predict(X_test_processed)"
   ],
   "outputs": [],
   "metadata": {}
  },
  {
   "cell_type": "code",
   "execution_count": 104,
   "source": [
    "confusion_matrix(y_true=y_test, y_pred=y_pred)"
   ],
   "outputs": [
    {
     "output_type": "execute_result",
     "data": {
      "text/plain": [
       "array([[734,  50],\n",
       "       [ 68,  44]])"
      ]
     },
     "metadata": {},
     "execution_count": 104
    }
   ],
   "metadata": {}
  },
  {
   "cell_type": "code",
   "execution_count": 105,
   "source": [
    "roc_auc_score(y_test, y_pred)"
   ],
   "outputs": [
    {
     "output_type": "execute_result",
     "data": {
      "text/plain": [
       "0.6645408163265306"
      ]
     },
     "metadata": {},
     "execution_count": 105
    }
   ],
   "metadata": {}
  },
  {
   "cell_type": "code",
   "execution_count": 106,
   "source": [
    "print(classification_report(y_true=y_test, y_pred=y_pred))"
   ],
   "outputs": [
    {
     "output_type": "stream",
     "name": "stdout",
     "text": [
      "              precision    recall  f1-score   support\n",
      "\n",
      "           0       0.92      0.94      0.93       784\n",
      "           1       0.47      0.39      0.43       112\n",
      "\n",
      "    accuracy                           0.87       896\n",
      "   macro avg       0.69      0.66      0.68       896\n",
      "weighted avg       0.86      0.87      0.86       896\n",
      "\n"
     ]
    }
   ],
   "metadata": {}
  },
  {
   "cell_type": "code",
   "execution_count": 107,
   "source": [
    "print(matthews_corrcoef(y_test, y_pred))"
   ],
   "outputs": [
    {
     "output_type": "stream",
     "name": "stdout",
     "text": [
      "0.35515634263219253\n"
     ]
    }
   ],
   "metadata": {}
  },
  {
   "cell_type": "code",
   "execution_count": 35,
   "source": [
    "importance = pipeline.named_steps['model'].feature_importances_\n",
    "importance.shape, type(importance)"
   ],
   "outputs": [
    {
     "output_type": "execute_result",
     "data": {
      "text/plain": [
       "((432,), numpy.ndarray)"
      ]
     },
     "metadata": {},
     "execution_count": 35
    }
   ],
   "metadata": {}
  },
  {
   "cell_type": "code",
   "execution_count": 36,
   "source": [
    "category_label = list(preprocess.named_transformers_['cat_encoder'].get_feature_names(category_cols))\n",
    "feature_label = numeric_cols + category_label"
   ],
   "outputs": [],
   "metadata": {}
  },
  {
   "cell_type": "code",
   "execution_count": 37,
   "source": [
    "pd.set_option('display.max_rows', 400)\n",
    "eval_df = pd.DataFrame({'label': feature_label, 'importance_value': importance})\n",
    "eval_df.sort_values(by='importance_value', ascending=False).head(100)"
   ],
   "outputs": [
    {
     "output_type": "execute_result",
     "data": {
      "text/plain": [
       "                                                 label  importance_value\n",
       "326                                      urea__maximum          0.065696\n",
       "244                                    albumin__median          0.028779\n",
       "357                                  haematocrit__mean          0.027545\n",
       "113  egfr__cwt_coefficients__coeff_1__w_2__widths_(...          0.027266\n",
       "134  egfr__change_quantiles__f_agg_\"\"\"\"mean\"\"\"\"__is...          0.026160\n",
       "66   egfr__large_standard_deviation__r_0.3500000000...          0.022853\n",
       "31                           egfr__benford_correlation          0.021984\n",
       "285                                   glucose__minimum          0.021909\n",
       "200              egfr__approximate_entropy__m_2__r_0.5          0.019067\n",
       "108                   egfr__index_mass_quantile__q_0.9          0.019009\n",
       "419                                            dkd_dkd          0.018584\n",
       "185  egfr__fft_coefficient__attr_\"\"\"\"imag\"\"\"\"__coeff_1          0.017064\n",
       "79                               egfr__quantile__q_0.1          0.016748\n",
       "83                               egfr__quantile__q_0.6          0.016044\n",
       "32      egfr__time_reversal_asymmetry_statistic__lag_1          0.015425\n",
       "399                                  neutrophils__mean          0.014892\n",
       "215  egfr__energy_ratio_by_chunks__num_segments_10_...          0.014273\n",
       "82                               egfr__quantile__q_0.4          0.011691\n",
       "279                                    glucose__median          0.011576\n",
       "131  egfr__change_quantiles__f_agg_\"\"\"\"var\"\"\"\"__isa...          0.010544\n",
       "119  egfr__cwt_coefficients__coeff_2__w_10__widths_...          0.010538\n",
       "144  egfr__change_quantiles__f_agg_\"\"\"\"mean\"\"\"\"__is...          0.010334\n",
       "101                   egfr__index_mass_quantile__q_0.1          0.009496\n",
       "218  egfr__energy_ratio_by_chunks__num_segments_10_...          0.009447\n",
       "391                                  monocytes__median          0.009416\n",
       "166  egfr__change_quantiles__f_agg_\"\"\"\"mean\"\"\"\"__is...          0.009407\n",
       "386                            mcv__standard_deviation          0.009377\n",
       "112  egfr__cwt_coefficients__coeff_0__w_20__widths_...          0.009349\n",
       "1                              egfr__has_duplicate_max          0.008729\n",
       "9                                           egfr__mean          0.008683\n",
       "401                              neutrophils__variance          0.008422\n",
       "355                               eosinophils__minimum          0.008312\n",
       "41                      egfr__symmetry_looking__r_0.05          0.008103\n",
       "204            egfr__linear_trend__attr_\"\"\"\"rvalue\"\"\"\"          0.007639\n",
       "376                                       mch__minimum          0.007508\n",
       "293                                  phosphate__median          0.007481\n",
       "80                               egfr__quantile__q_0.2          0.007197\n",
       "214  egfr__energy_ratio_by_chunks__num_segments_10_...          0.006627\n",
       "360                      haematocrit__root_mean_square          0.006431\n",
       "211  egfr__energy_ratio_by_chunks__num_segments_10_...          0.006362\n",
       "33      egfr__time_reversal_asymmetry_statistic__lag_2          0.006270\n",
       "137  egfr__change_quantiles__f_agg_\"\"\"\"var\"\"\"\"__isa...          0.006187\n",
       "314                                     sodium__median          0.006154\n",
       "281                        glucose__standard_deviation          0.005883\n",
       "417                                            htn_htn          0.005676\n",
       "129  egfr__change_quantiles__f_agg_\"\"\"\"var\"\"\"\"__isa...          0.005636\n",
       "10                            egfr__standard_deviation          0.005576\n",
       "297                        phosphate__root_mean_square          0.005546\n",
       "428                                              gn_no          0.005234\n",
       "270                            caphos_product__maximum          0.005121\n",
       "116  egfr__cwt_coefficients__coeff_1__w_20__widths_...          0.005045\n",
       "2                              egfr__has_duplicate_min          0.004942\n",
       "320                                    sodium__minimum          0.004936\n",
       "387                                      mcv__variance          0.004849\n",
       "347                                 basophils__maximum          0.004791\n",
       "117  egfr__cwt_coefficients__coeff_2__w_2__widths_(...          0.004779\n",
       "295                      phosphate__standard_deviation          0.004757\n",
       "103                   egfr__index_mass_quantile__q_0.3          0.004629\n",
       "93                         egfr__number_cwt_peaks__n_1          0.004603\n",
       "266                               caphos_product__mean          0.004564\n",
       "331                          ureacreat_ratio__variance          0.004529\n",
       "280                                      glucose__mean          0.004385\n",
       "332                  ureacreat_ratio__root_mean_square          0.004269\n",
       "301                                     platelet__mean          0.004109\n",
       "118  egfr__cwt_coefficients__coeff_2__w_5__widths_(...          0.003906\n",
       "64              egfr__large_standard_deviation__r_0.25          0.003842\n",
       "356                                haematocrit__median          0.003803\n",
       "114  egfr__cwt_coefficients__coeff_1__w_5__widths_(...          0.003758\n",
       "199              egfr__approximate_entropy__m_2__r_0.3          0.003689\n",
       "122  egfr__change_quantiles__f_agg_\"\"\"\"mean\"\"\"\"__is...          0.003659\n",
       "203            egfr__linear_trend__attr_\"\"\"\"pvalue\"\"\"\"          0.003614\n",
       "372                            mch__standard_deviation          0.003531\n",
       "361                               haematocrit__maximum          0.003515\n",
       "6                                    egfr__mean_change          0.003464\n",
       "250                                   albumin__minimum          0.003459\n",
       "253                        alkphos__standard_deviation          0.003453\n",
       "348                                 basophils__minimum          0.003429\n",
       "46       egfr__symmetry_looking__r_0.30000000000000004          0.003366\n",
       "375                                       mch__maximum          0.003333\n",
       "264                                   calcium__minimum          0.003315\n",
       "23                     egfr__first_location_of_minimum          0.003218\n",
       "11                         egfr__variation_coefficient          0.003173\n",
       "389                                       mcv__maximum          0.003143\n",
       "422                                            gn_fsgs          0.003034\n",
       "268                           caphos_product__variance          0.003028\n",
       "267                 caphos_product__standard_deviation          0.002991\n",
       "341                                       wcc__minimum          0.002970\n",
       "351                    eosinophils__standard_deviation          0.002893\n",
       "44                       egfr__symmetry_looking__r_0.2          0.002889\n",
       "19                              egfr__count_below_mean          0.002824\n",
       "126  egfr__change_quantiles__f_agg_\"\"\"\"mean\"\"\"\"__is...          0.002815\n",
       "43       egfr__symmetry_looking__r_0.15000000000000002          0.002815\n",
       "306                                  platelet__minimum          0.002797\n",
       "30                                       egfr__minimum          0.002746\n",
       "142  egfr__change_quantiles__f_agg_\"\"\"\"mean\"\"\"\"__is...          0.002717\n",
       "322                                         urea__mean          0.002682\n",
       "20                      egfr__last_location_of_maximum          0.002536\n",
       "362                               haematocrit__minimum          0.002535\n",
       "89                        egfr__autocorrelation__lag_2          0.002525\n",
       "205         egfr__linear_trend__attr_\"\"\"\"intercept\"\"\"\"          0.002518"
      ],
      "text/html": [
       "<div>\n",
       "<style scoped>\n",
       "    .dataframe tbody tr th:only-of-type {\n",
       "        vertical-align: middle;\n",
       "    }\n",
       "\n",
       "    .dataframe tbody tr th {\n",
       "        vertical-align: top;\n",
       "    }\n",
       "\n",
       "    .dataframe thead th {\n",
       "        text-align: right;\n",
       "    }\n",
       "</style>\n",
       "<table border=\"1\" class=\"dataframe\">\n",
       "  <thead>\n",
       "    <tr style=\"text-align: right;\">\n",
       "      <th></th>\n",
       "      <th>label</th>\n",
       "      <th>importance_value</th>\n",
       "    </tr>\n",
       "  </thead>\n",
       "  <tbody>\n",
       "    <tr>\n",
       "      <th>326</th>\n",
       "      <td>urea__maximum</td>\n",
       "      <td>0.065696</td>\n",
       "    </tr>\n",
       "    <tr>\n",
       "      <th>244</th>\n",
       "      <td>albumin__median</td>\n",
       "      <td>0.028779</td>\n",
       "    </tr>\n",
       "    <tr>\n",
       "      <th>357</th>\n",
       "      <td>haematocrit__mean</td>\n",
       "      <td>0.027545</td>\n",
       "    </tr>\n",
       "    <tr>\n",
       "      <th>113</th>\n",
       "      <td>egfr__cwt_coefficients__coeff_1__w_2__widths_(...</td>\n",
       "      <td>0.027266</td>\n",
       "    </tr>\n",
       "    <tr>\n",
       "      <th>134</th>\n",
       "      <td>egfr__change_quantiles__f_agg_\"\"\"\"mean\"\"\"\"__is...</td>\n",
       "      <td>0.026160</td>\n",
       "    </tr>\n",
       "    <tr>\n",
       "      <th>66</th>\n",
       "      <td>egfr__large_standard_deviation__r_0.3500000000...</td>\n",
       "      <td>0.022853</td>\n",
       "    </tr>\n",
       "    <tr>\n",
       "      <th>31</th>\n",
       "      <td>egfr__benford_correlation</td>\n",
       "      <td>0.021984</td>\n",
       "    </tr>\n",
       "    <tr>\n",
       "      <th>285</th>\n",
       "      <td>glucose__minimum</td>\n",
       "      <td>0.021909</td>\n",
       "    </tr>\n",
       "    <tr>\n",
       "      <th>200</th>\n",
       "      <td>egfr__approximate_entropy__m_2__r_0.5</td>\n",
       "      <td>0.019067</td>\n",
       "    </tr>\n",
       "    <tr>\n",
       "      <th>108</th>\n",
       "      <td>egfr__index_mass_quantile__q_0.9</td>\n",
       "      <td>0.019009</td>\n",
       "    </tr>\n",
       "    <tr>\n",
       "      <th>419</th>\n",
       "      <td>dkd_dkd</td>\n",
       "      <td>0.018584</td>\n",
       "    </tr>\n",
       "    <tr>\n",
       "      <th>185</th>\n",
       "      <td>egfr__fft_coefficient__attr_\"\"\"\"imag\"\"\"\"__coeff_1</td>\n",
       "      <td>0.017064</td>\n",
       "    </tr>\n",
       "    <tr>\n",
       "      <th>79</th>\n",
       "      <td>egfr__quantile__q_0.1</td>\n",
       "      <td>0.016748</td>\n",
       "    </tr>\n",
       "    <tr>\n",
       "      <th>83</th>\n",
       "      <td>egfr__quantile__q_0.6</td>\n",
       "      <td>0.016044</td>\n",
       "    </tr>\n",
       "    <tr>\n",
       "      <th>32</th>\n",
       "      <td>egfr__time_reversal_asymmetry_statistic__lag_1</td>\n",
       "      <td>0.015425</td>\n",
       "    </tr>\n",
       "    <tr>\n",
       "      <th>399</th>\n",
       "      <td>neutrophils__mean</td>\n",
       "      <td>0.014892</td>\n",
       "    </tr>\n",
       "    <tr>\n",
       "      <th>215</th>\n",
       "      <td>egfr__energy_ratio_by_chunks__num_segments_10_...</td>\n",
       "      <td>0.014273</td>\n",
       "    </tr>\n",
       "    <tr>\n",
       "      <th>82</th>\n",
       "      <td>egfr__quantile__q_0.4</td>\n",
       "      <td>0.011691</td>\n",
       "    </tr>\n",
       "    <tr>\n",
       "      <th>279</th>\n",
       "      <td>glucose__median</td>\n",
       "      <td>0.011576</td>\n",
       "    </tr>\n",
       "    <tr>\n",
       "      <th>131</th>\n",
       "      <td>egfr__change_quantiles__f_agg_\"\"\"\"var\"\"\"\"__isa...</td>\n",
       "      <td>0.010544</td>\n",
       "    </tr>\n",
       "    <tr>\n",
       "      <th>119</th>\n",
       "      <td>egfr__cwt_coefficients__coeff_2__w_10__widths_...</td>\n",
       "      <td>0.010538</td>\n",
       "    </tr>\n",
       "    <tr>\n",
       "      <th>144</th>\n",
       "      <td>egfr__change_quantiles__f_agg_\"\"\"\"mean\"\"\"\"__is...</td>\n",
       "      <td>0.010334</td>\n",
       "    </tr>\n",
       "    <tr>\n",
       "      <th>101</th>\n",
       "      <td>egfr__index_mass_quantile__q_0.1</td>\n",
       "      <td>0.009496</td>\n",
       "    </tr>\n",
       "    <tr>\n",
       "      <th>218</th>\n",
       "      <td>egfr__energy_ratio_by_chunks__num_segments_10_...</td>\n",
       "      <td>0.009447</td>\n",
       "    </tr>\n",
       "    <tr>\n",
       "      <th>391</th>\n",
       "      <td>monocytes__median</td>\n",
       "      <td>0.009416</td>\n",
       "    </tr>\n",
       "    <tr>\n",
       "      <th>166</th>\n",
       "      <td>egfr__change_quantiles__f_agg_\"\"\"\"mean\"\"\"\"__is...</td>\n",
       "      <td>0.009407</td>\n",
       "    </tr>\n",
       "    <tr>\n",
       "      <th>386</th>\n",
       "      <td>mcv__standard_deviation</td>\n",
       "      <td>0.009377</td>\n",
       "    </tr>\n",
       "    <tr>\n",
       "      <th>112</th>\n",
       "      <td>egfr__cwt_coefficients__coeff_0__w_20__widths_...</td>\n",
       "      <td>0.009349</td>\n",
       "    </tr>\n",
       "    <tr>\n",
       "      <th>1</th>\n",
       "      <td>egfr__has_duplicate_max</td>\n",
       "      <td>0.008729</td>\n",
       "    </tr>\n",
       "    <tr>\n",
       "      <th>9</th>\n",
       "      <td>egfr__mean</td>\n",
       "      <td>0.008683</td>\n",
       "    </tr>\n",
       "    <tr>\n",
       "      <th>401</th>\n",
       "      <td>neutrophils__variance</td>\n",
       "      <td>0.008422</td>\n",
       "    </tr>\n",
       "    <tr>\n",
       "      <th>355</th>\n",
       "      <td>eosinophils__minimum</td>\n",
       "      <td>0.008312</td>\n",
       "    </tr>\n",
       "    <tr>\n",
       "      <th>41</th>\n",
       "      <td>egfr__symmetry_looking__r_0.05</td>\n",
       "      <td>0.008103</td>\n",
       "    </tr>\n",
       "    <tr>\n",
       "      <th>204</th>\n",
       "      <td>egfr__linear_trend__attr_\"\"\"\"rvalue\"\"\"\"</td>\n",
       "      <td>0.007639</td>\n",
       "    </tr>\n",
       "    <tr>\n",
       "      <th>376</th>\n",
       "      <td>mch__minimum</td>\n",
       "      <td>0.007508</td>\n",
       "    </tr>\n",
       "    <tr>\n",
       "      <th>293</th>\n",
       "      <td>phosphate__median</td>\n",
       "      <td>0.007481</td>\n",
       "    </tr>\n",
       "    <tr>\n",
       "      <th>80</th>\n",
       "      <td>egfr__quantile__q_0.2</td>\n",
       "      <td>0.007197</td>\n",
       "    </tr>\n",
       "    <tr>\n",
       "      <th>214</th>\n",
       "      <td>egfr__energy_ratio_by_chunks__num_segments_10_...</td>\n",
       "      <td>0.006627</td>\n",
       "    </tr>\n",
       "    <tr>\n",
       "      <th>360</th>\n",
       "      <td>haematocrit__root_mean_square</td>\n",
       "      <td>0.006431</td>\n",
       "    </tr>\n",
       "    <tr>\n",
       "      <th>211</th>\n",
       "      <td>egfr__energy_ratio_by_chunks__num_segments_10_...</td>\n",
       "      <td>0.006362</td>\n",
       "    </tr>\n",
       "    <tr>\n",
       "      <th>33</th>\n",
       "      <td>egfr__time_reversal_asymmetry_statistic__lag_2</td>\n",
       "      <td>0.006270</td>\n",
       "    </tr>\n",
       "    <tr>\n",
       "      <th>137</th>\n",
       "      <td>egfr__change_quantiles__f_agg_\"\"\"\"var\"\"\"\"__isa...</td>\n",
       "      <td>0.006187</td>\n",
       "    </tr>\n",
       "    <tr>\n",
       "      <th>314</th>\n",
       "      <td>sodium__median</td>\n",
       "      <td>0.006154</td>\n",
       "    </tr>\n",
       "    <tr>\n",
       "      <th>281</th>\n",
       "      <td>glucose__standard_deviation</td>\n",
       "      <td>0.005883</td>\n",
       "    </tr>\n",
       "    <tr>\n",
       "      <th>417</th>\n",
       "      <td>htn_htn</td>\n",
       "      <td>0.005676</td>\n",
       "    </tr>\n",
       "    <tr>\n",
       "      <th>129</th>\n",
       "      <td>egfr__change_quantiles__f_agg_\"\"\"\"var\"\"\"\"__isa...</td>\n",
       "      <td>0.005636</td>\n",
       "    </tr>\n",
       "    <tr>\n",
       "      <th>10</th>\n",
       "      <td>egfr__standard_deviation</td>\n",
       "      <td>0.005576</td>\n",
       "    </tr>\n",
       "    <tr>\n",
       "      <th>297</th>\n",
       "      <td>phosphate__root_mean_square</td>\n",
       "      <td>0.005546</td>\n",
       "    </tr>\n",
       "    <tr>\n",
       "      <th>428</th>\n",
       "      <td>gn_no</td>\n",
       "      <td>0.005234</td>\n",
       "    </tr>\n",
       "    <tr>\n",
       "      <th>270</th>\n",
       "      <td>caphos_product__maximum</td>\n",
       "      <td>0.005121</td>\n",
       "    </tr>\n",
       "    <tr>\n",
       "      <th>116</th>\n",
       "      <td>egfr__cwt_coefficients__coeff_1__w_20__widths_...</td>\n",
       "      <td>0.005045</td>\n",
       "    </tr>\n",
       "    <tr>\n",
       "      <th>2</th>\n",
       "      <td>egfr__has_duplicate_min</td>\n",
       "      <td>0.004942</td>\n",
       "    </tr>\n",
       "    <tr>\n",
       "      <th>320</th>\n",
       "      <td>sodium__minimum</td>\n",
       "      <td>0.004936</td>\n",
       "    </tr>\n",
       "    <tr>\n",
       "      <th>387</th>\n",
       "      <td>mcv__variance</td>\n",
       "      <td>0.004849</td>\n",
       "    </tr>\n",
       "    <tr>\n",
       "      <th>347</th>\n",
       "      <td>basophils__maximum</td>\n",
       "      <td>0.004791</td>\n",
       "    </tr>\n",
       "    <tr>\n",
       "      <th>117</th>\n",
       "      <td>egfr__cwt_coefficients__coeff_2__w_2__widths_(...</td>\n",
       "      <td>0.004779</td>\n",
       "    </tr>\n",
       "    <tr>\n",
       "      <th>295</th>\n",
       "      <td>phosphate__standard_deviation</td>\n",
       "      <td>0.004757</td>\n",
       "    </tr>\n",
       "    <tr>\n",
       "      <th>103</th>\n",
       "      <td>egfr__index_mass_quantile__q_0.3</td>\n",
       "      <td>0.004629</td>\n",
       "    </tr>\n",
       "    <tr>\n",
       "      <th>93</th>\n",
       "      <td>egfr__number_cwt_peaks__n_1</td>\n",
       "      <td>0.004603</td>\n",
       "    </tr>\n",
       "    <tr>\n",
       "      <th>266</th>\n",
       "      <td>caphos_product__mean</td>\n",
       "      <td>0.004564</td>\n",
       "    </tr>\n",
       "    <tr>\n",
       "      <th>331</th>\n",
       "      <td>ureacreat_ratio__variance</td>\n",
       "      <td>0.004529</td>\n",
       "    </tr>\n",
       "    <tr>\n",
       "      <th>280</th>\n",
       "      <td>glucose__mean</td>\n",
       "      <td>0.004385</td>\n",
       "    </tr>\n",
       "    <tr>\n",
       "      <th>332</th>\n",
       "      <td>ureacreat_ratio__root_mean_square</td>\n",
       "      <td>0.004269</td>\n",
       "    </tr>\n",
       "    <tr>\n",
       "      <th>301</th>\n",
       "      <td>platelet__mean</td>\n",
       "      <td>0.004109</td>\n",
       "    </tr>\n",
       "    <tr>\n",
       "      <th>118</th>\n",
       "      <td>egfr__cwt_coefficients__coeff_2__w_5__widths_(...</td>\n",
       "      <td>0.003906</td>\n",
       "    </tr>\n",
       "    <tr>\n",
       "      <th>64</th>\n",
       "      <td>egfr__large_standard_deviation__r_0.25</td>\n",
       "      <td>0.003842</td>\n",
       "    </tr>\n",
       "    <tr>\n",
       "      <th>356</th>\n",
       "      <td>haematocrit__median</td>\n",
       "      <td>0.003803</td>\n",
       "    </tr>\n",
       "    <tr>\n",
       "      <th>114</th>\n",
       "      <td>egfr__cwt_coefficients__coeff_1__w_5__widths_(...</td>\n",
       "      <td>0.003758</td>\n",
       "    </tr>\n",
       "    <tr>\n",
       "      <th>199</th>\n",
       "      <td>egfr__approximate_entropy__m_2__r_0.3</td>\n",
       "      <td>0.003689</td>\n",
       "    </tr>\n",
       "    <tr>\n",
       "      <th>122</th>\n",
       "      <td>egfr__change_quantiles__f_agg_\"\"\"\"mean\"\"\"\"__is...</td>\n",
       "      <td>0.003659</td>\n",
       "    </tr>\n",
       "    <tr>\n",
       "      <th>203</th>\n",
       "      <td>egfr__linear_trend__attr_\"\"\"\"pvalue\"\"\"\"</td>\n",
       "      <td>0.003614</td>\n",
       "    </tr>\n",
       "    <tr>\n",
       "      <th>372</th>\n",
       "      <td>mch__standard_deviation</td>\n",
       "      <td>0.003531</td>\n",
       "    </tr>\n",
       "    <tr>\n",
       "      <th>361</th>\n",
       "      <td>haematocrit__maximum</td>\n",
       "      <td>0.003515</td>\n",
       "    </tr>\n",
       "    <tr>\n",
       "      <th>6</th>\n",
       "      <td>egfr__mean_change</td>\n",
       "      <td>0.003464</td>\n",
       "    </tr>\n",
       "    <tr>\n",
       "      <th>250</th>\n",
       "      <td>albumin__minimum</td>\n",
       "      <td>0.003459</td>\n",
       "    </tr>\n",
       "    <tr>\n",
       "      <th>253</th>\n",
       "      <td>alkphos__standard_deviation</td>\n",
       "      <td>0.003453</td>\n",
       "    </tr>\n",
       "    <tr>\n",
       "      <th>348</th>\n",
       "      <td>basophils__minimum</td>\n",
       "      <td>0.003429</td>\n",
       "    </tr>\n",
       "    <tr>\n",
       "      <th>46</th>\n",
       "      <td>egfr__symmetry_looking__r_0.30000000000000004</td>\n",
       "      <td>0.003366</td>\n",
       "    </tr>\n",
       "    <tr>\n",
       "      <th>375</th>\n",
       "      <td>mch__maximum</td>\n",
       "      <td>0.003333</td>\n",
       "    </tr>\n",
       "    <tr>\n",
       "      <th>264</th>\n",
       "      <td>calcium__minimum</td>\n",
       "      <td>0.003315</td>\n",
       "    </tr>\n",
       "    <tr>\n",
       "      <th>23</th>\n",
       "      <td>egfr__first_location_of_minimum</td>\n",
       "      <td>0.003218</td>\n",
       "    </tr>\n",
       "    <tr>\n",
       "      <th>11</th>\n",
       "      <td>egfr__variation_coefficient</td>\n",
       "      <td>0.003173</td>\n",
       "    </tr>\n",
       "    <tr>\n",
       "      <th>389</th>\n",
       "      <td>mcv__maximum</td>\n",
       "      <td>0.003143</td>\n",
       "    </tr>\n",
       "    <tr>\n",
       "      <th>422</th>\n",
       "      <td>gn_fsgs</td>\n",
       "      <td>0.003034</td>\n",
       "    </tr>\n",
       "    <tr>\n",
       "      <th>268</th>\n",
       "      <td>caphos_product__variance</td>\n",
       "      <td>0.003028</td>\n",
       "    </tr>\n",
       "    <tr>\n",
       "      <th>267</th>\n",
       "      <td>caphos_product__standard_deviation</td>\n",
       "      <td>0.002991</td>\n",
       "    </tr>\n",
       "    <tr>\n",
       "      <th>341</th>\n",
       "      <td>wcc__minimum</td>\n",
       "      <td>0.002970</td>\n",
       "    </tr>\n",
       "    <tr>\n",
       "      <th>351</th>\n",
       "      <td>eosinophils__standard_deviation</td>\n",
       "      <td>0.002893</td>\n",
       "    </tr>\n",
       "    <tr>\n",
       "      <th>44</th>\n",
       "      <td>egfr__symmetry_looking__r_0.2</td>\n",
       "      <td>0.002889</td>\n",
       "    </tr>\n",
       "    <tr>\n",
       "      <th>19</th>\n",
       "      <td>egfr__count_below_mean</td>\n",
       "      <td>0.002824</td>\n",
       "    </tr>\n",
       "    <tr>\n",
       "      <th>126</th>\n",
       "      <td>egfr__change_quantiles__f_agg_\"\"\"\"mean\"\"\"\"__is...</td>\n",
       "      <td>0.002815</td>\n",
       "    </tr>\n",
       "    <tr>\n",
       "      <th>43</th>\n",
       "      <td>egfr__symmetry_looking__r_0.15000000000000002</td>\n",
       "      <td>0.002815</td>\n",
       "    </tr>\n",
       "    <tr>\n",
       "      <th>306</th>\n",
       "      <td>platelet__minimum</td>\n",
       "      <td>0.002797</td>\n",
       "    </tr>\n",
       "    <tr>\n",
       "      <th>30</th>\n",
       "      <td>egfr__minimum</td>\n",
       "      <td>0.002746</td>\n",
       "    </tr>\n",
       "    <tr>\n",
       "      <th>142</th>\n",
       "      <td>egfr__change_quantiles__f_agg_\"\"\"\"mean\"\"\"\"__is...</td>\n",
       "      <td>0.002717</td>\n",
       "    </tr>\n",
       "    <tr>\n",
       "      <th>322</th>\n",
       "      <td>urea__mean</td>\n",
       "      <td>0.002682</td>\n",
       "    </tr>\n",
       "    <tr>\n",
       "      <th>20</th>\n",
       "      <td>egfr__last_location_of_maximum</td>\n",
       "      <td>0.002536</td>\n",
       "    </tr>\n",
       "    <tr>\n",
       "      <th>362</th>\n",
       "      <td>haematocrit__minimum</td>\n",
       "      <td>0.002535</td>\n",
       "    </tr>\n",
       "    <tr>\n",
       "      <th>89</th>\n",
       "      <td>egfr__autocorrelation__lag_2</td>\n",
       "      <td>0.002525</td>\n",
       "    </tr>\n",
       "    <tr>\n",
       "      <th>205</th>\n",
       "      <td>egfr__linear_trend__attr_\"\"\"\"intercept\"\"\"\"</td>\n",
       "      <td>0.002518</td>\n",
       "    </tr>\n",
       "  </tbody>\n",
       "</table>\n",
       "</div>"
      ]
     },
     "metadata": {},
     "execution_count": 37
    }
   ],
   "metadata": {}
  },
  {
   "cell_type": "markdown",
   "source": [
    "## ESKD Prediction 5 years post-training"
   ],
   "metadata": {}
  },
  {
   "cell_type": "code",
   "execution_count": 38,
   "source": [
    "X = df_rm_intrain.drop(dropped_cols,axis=1).copy()\n",
    "y = df_rm_intrain['cat6']\n",
    "X.shape, y.shape"
   ],
   "outputs": [
    {
     "output_type": "execute_result",
     "data": {
      "text/plain": [
       "((4409, 421), (4409,))"
      ]
     },
     "metadata": {},
     "execution_count": 38
    }
   ],
   "metadata": {}
  },
  {
   "cell_type": "code",
   "execution_count": 39,
   "source": [
    "y_mapped = y.map({'non_eskd':'no', 'eskd':'yes'})\n",
    "y_mapped"
   ],
   "outputs": [
    {
     "output_type": "execute_result",
     "data": {
      "text/plain": [
       "id\n",
       "3916     no\n",
       "3918     no\n",
       "3921     no\n",
       "3924     no\n",
       "3930     no\n",
       "         ..\n",
       "23760    no\n",
       "23771    no\n",
       "23780    no\n",
       "23807    no\n",
       "23864    no\n",
       "Name: cat6, Length: 4409, dtype: category\n",
       "Categories (2, object): ['yes', 'no']"
      ]
     },
     "metadata": {},
     "execution_count": 39
    }
   ],
   "metadata": {}
  },
  {
   "cell_type": "code",
   "execution_count": 40,
   "source": [
    "X_train, X_test, y_train, y_test = train_test_split(X, y_mapped, test_size=0.2, stratify=y_mapped, random_state=random_state)\n",
    "X_train.shape, X_test.shape, y_train.shape, y_test.shape"
   ],
   "outputs": [
    {
     "output_type": "execute_result",
     "data": {
      "text/plain": [
       "((3527, 421), (882, 421), (3527,), (882,))"
      ]
     },
     "metadata": {},
     "execution_count": 40
    }
   ],
   "metadata": {}
  },
  {
   "cell_type": "code",
   "execution_count": 41,
   "source": [
    "lab_encode = LabelEncoder()\n",
    "y_train = lab_encode.fit_transform(y_train)\n",
    "y_test = lab_encode.transform(y_test)"
   ],
   "outputs": [],
   "metadata": {}
  },
  {
   "cell_type": "code",
   "execution_count": 42,
   "source": [
    "unique_values, counts = np.unique(y_train, return_counts=True)\n",
    "ratio = dict(zip(unique_values, counts))\n",
    "ratio\n",
    "imbalance_ratio = ratio[0] / ratio[1]\n",
    "imbalance_ratio"
   ],
   "outputs": [
    {
     "output_type": "execute_result",
     "data": {
      "text/plain": [
       "7.974554707379135"
      ]
     },
     "metadata": {},
     "execution_count": 42
    }
   ],
   "metadata": {}
  },
  {
   "cell_type": "code",
   "execution_count": 43,
   "source": [
    "category_cols = list(X_train.select_dtypes(include='category').columns)\n",
    "numeric_cols = list(X_train.select_dtypes(include=['int', 'float']).columns)\n",
    "one_hot = OneHotEncoder(handle_unknown='ignore')\n",
    "num_imputer = KNNImputer(n_neighbors=5)\n",
    "len(category_cols), len(numeric_cols)"
   ],
   "outputs": [
    {
     "output_type": "execute_result",
     "data": {
      "text/plain": [
       "(4, 417)"
      ]
     },
     "metadata": {},
     "execution_count": 43
    }
   ],
   "metadata": {}
  },
  {
   "cell_type": "code",
   "execution_count": 44,
   "source": [
    "preprocess = ColumnTransformer([('num_imputing', num_imputer, numeric_cols), ('cat_encoder', one_hot, category_cols)], remainder='passthrough')\n",
    "X_train_processed = preprocess.fit_transform(X_train)\n",
    "X_train_processed.shape"
   ],
   "outputs": [
    {
     "output_type": "execute_result",
     "data": {
      "text/plain": [
       "(3527, 432)"
      ]
     },
     "metadata": {},
     "execution_count": 44
    }
   ],
   "metadata": {}
  },
  {
   "cell_type": "code",
   "execution_count": 45,
   "source": [
    "X_test_processed = preprocess.transform(X_test)"
   ],
   "outputs": [],
   "metadata": {}
  },
  {
   "cell_type": "code",
   "execution_count": 53,
   "source": [
    "xgb_class = xgb.XGBClassifier(n_jobs=-1, random_state = random_state, n_estimators=1000, use_label_encoder=False, eval_metric='logloss', scale_pos_weight=1.5*imbalance_ratio)\n",
    "sampler = SMOTETomek(sampling_strategy=0.5, random_state=random_state)\n",
    "steps = [('resampling', sampler), ('model', xgb_class)]\n",
    "pipeline = Pipeline(steps=steps)"
   ],
   "outputs": [],
   "metadata": {}
  },
  {
   "cell_type": "code",
   "execution_count": 54,
   "source": [
    "pipeline.fit(X_train_processed, y_train)"
   ],
   "outputs": [
    {
     "output_type": "execute_result",
     "data": {
      "text/plain": [
       "Pipeline(steps=[('resampling',\n",
       "                 SMOTETomek(random_state=7, sampling_strategy=0.5)),\n",
       "                ('model',\n",
       "                 XGBClassifier(base_score=0.5, booster='gbtree',\n",
       "                               colsample_bylevel=1, colsample_bynode=1,\n",
       "                               colsample_bytree=1, eval_metric='logloss',\n",
       "                               gamma=0, gpu_id=-1, importance_type='gain',\n",
       "                               interaction_constraints='',\n",
       "                               learning_rate=0.300000012, max_delta_step=0,\n",
       "                               max_depth=6, min_child_weight=1, missing=nan,\n",
       "                               monotone_constraints='()', n_estimators=1000,\n",
       "                               n_jobs=-1, num_parallel_tree=1, random_state=7,\n",
       "                               reg_alpha=0, reg_lambda=1,\n",
       "                               scale_pos_weight=11.961832061068703, subsample=1,\n",
       "                               tree_method='exact', use_label_encoder=False,\n",
       "                               validate_parameters=1, verbosity=None))])"
      ]
     },
     "metadata": {},
     "execution_count": 54
    }
   ],
   "metadata": {}
  },
  {
   "cell_type": "code",
   "execution_count": 55,
   "source": [
    "y_pred = pipeline.predict(X_test_processed)"
   ],
   "outputs": [],
   "metadata": {}
  },
  {
   "cell_type": "code",
   "execution_count": 56,
   "source": [
    "confusion_matrix(y_true=y_test, y_pred=y_pred)"
   ],
   "outputs": [
    {
     "output_type": "execute_result",
     "data": {
      "text/plain": [
       "array([[729,  55],\n",
       "       [ 58,  40]])"
      ]
     },
     "metadata": {},
     "execution_count": 56
    }
   ],
   "metadata": {}
  },
  {
   "cell_type": "code",
   "execution_count": 57,
   "source": [
    "roc_auc_score(y_test, y_pred)"
   ],
   "outputs": [
    {
     "output_type": "execute_result",
     "data": {
      "text/plain": [
       "0.6690051020408163"
      ]
     },
     "metadata": {},
     "execution_count": 57
    }
   ],
   "metadata": {}
  },
  {
   "cell_type": "code",
   "execution_count": 58,
   "source": [
    "print(classification_report(y_true=y_test, y_pred=y_pred))"
   ],
   "outputs": [
    {
     "output_type": "stream",
     "name": "stdout",
     "text": [
      "              precision    recall  f1-score   support\n",
      "\n",
      "           0       0.93      0.93      0.93       784\n",
      "           1       0.42      0.41      0.41        98\n",
      "\n",
      "    accuracy                           0.87       882\n",
      "   macro avg       0.67      0.67      0.67       882\n",
      "weighted avg       0.87      0.87      0.87       882\n",
      "\n"
     ]
    }
   ],
   "metadata": {}
  },
  {
   "cell_type": "code",
   "execution_count": 59,
   "source": [
    "print(matthews_corrcoef(y_test, y_pred))"
   ],
   "outputs": [
    {
     "output_type": "stream",
     "name": "stdout",
     "text": [
      "0.342650769622793\n"
     ]
    }
   ],
   "metadata": {}
  },
  {
   "cell_type": "code",
   "execution_count": null,
   "source": [],
   "outputs": [],
   "metadata": {}
  }
 ],
 "metadata": {
  "orig_nbformat": 4,
  "language_info": {
   "name": "python",
   "version": "3.9.5",
   "mimetype": "text/x-python",
   "codemirror_mode": {
    "name": "ipython",
    "version": 3
   },
   "pygments_lexer": "ipython3",
   "nbconvert_exporter": "python",
   "file_extension": ".py"
  },
  "kernelspec": {
   "name": "python3",
   "display_name": "Python 3.9.5 64-bit ('ml_dl': conda)"
  },
  "interpreter": {
   "hash": "252eb11dec6c7c75d43c93f623bff35f4a463f74afda1ad8986a53442394c969"
  }
 },
 "nbformat": 4,
 "nbformat_minor": 2
}