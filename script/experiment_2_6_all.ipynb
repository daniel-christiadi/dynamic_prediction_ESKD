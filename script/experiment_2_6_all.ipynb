{
 "cells": [
  {
   "cell_type": "code",
   "execution_count": 1,
   "source": [
    "import numpy as np\n",
    "import pandas as pd\n",
    "import xgboost as xgb\n",
    "import shap\n",
    "from sklearn.preprocessing import OneHotEncoder, LabelEncoder\n",
    "from sklearn.compose import ColumnTransformer\n",
    "from sklearn.model_selection import train_test_split, StratifiedKFold, cross_validate, cross_val_score, cross_val_predict\n",
    "from sklearn.metrics import matthews_corrcoef, confusion_matrix, roc_auc_score, classification_report\n",
    "from imblearn.over_sampling import SMOTE\n",
    "from imblearn.under_sampling import RandomUnderSampler\n",
    "from imblearn.combine import SMOTETomek\n",
    "from imblearn.pipeline import Pipeline\n",
    "from sklearn.metrics import recall_score, accuracy_score\n",
    "from sklearn.impute import KNNImputer, SimpleImputer"
   ],
   "outputs": [],
   "metadata": {}
  },
  {
   "cell_type": "code",
   "execution_count": 2,
   "source": [
    "random_state = 7\n",
    "cv_method = StratifiedKFold(n_splits=5)"
   ],
   "outputs": [],
   "metadata": {}
  },
  {
   "cell_type": "markdown",
   "source": [
    "# Training of tsfresh-selected Training Max 2 years and eGFR 6 times"
   ],
   "metadata": {}
  },
  {
   "cell_type": "code",
   "execution_count": 3,
   "source": [
    "df = pd.read_csv('../data/train_all_2_6.gz')\n",
    "df.shape"
   ],
   "outputs": [
    {
     "output_type": "execute_result",
     "data": {
      "text/plain": [
       "(4965, 49610)"
      ]
     },
     "metadata": {},
     "execution_count": 3
    }
   ],
   "metadata": {}
  },
  {
   "cell_type": "code",
   "execution_count": 4,
   "source": [
    "df.info()"
   ],
   "outputs": [
    {
     "output_type": "stream",
     "name": "stdout",
     "text": [
      "<class 'pandas.core.frame.DataFrame'>\n",
      "RangeIndex: 4965 entries, 0 to 4964\n",
      "Columns: 49610 entries, id to cat8\n",
      "dtypes: float64(49588), int64(2), object(20)\n",
      "memory usage: 1.8+ GB\n"
     ]
    }
   ],
   "metadata": {}
  },
  {
   "cell_type": "code",
   "execution_count": 5,
   "source": [
    "df['aki_1'].fillna(value=0, inplace=True)\n",
    "df['aki_2'].fillna(value=0, inplace=True)\n",
    "df['aki_3'].fillna(value=0, inplace=True)"
   ],
   "outputs": [],
   "metadata": {}
  },
  {
   "cell_type": "code",
   "execution_count": 6,
   "source": [
    "df['gn'].value_counts()"
   ],
   "outputs": [
    {
     "output_type": "execute_result",
     "data": {
      "text/plain": [
       "no                 4508\n",
       "igan                184\n",
       "anca                 85\n",
       "lupus nephritis      45\n",
       "membranous           36\n",
       "unspecific           29\n",
       "fsgs                 27\n",
       "mcd                  24\n",
       "mp/mcgn              19\n",
       "fgn/itg               6\n",
       "pign                  2\n",
       "Name: gn, dtype: int64"
      ]
     },
     "metadata": {},
     "execution_count": 6
    }
   ],
   "metadata": {}
  },
  {
   "cell_type": "code",
   "execution_count": 7,
   "source": [
    "df.loc[df.gn == 'pign', 'gn'] = 'unspecific'\n",
    "df.loc[df.gn == 'fgn/itg', 'gn'] = 'unspecific'"
   ],
   "outputs": [],
   "metadata": {}
  },
  {
   "cell_type": "code",
   "execution_count": 8,
   "source": [
    "percent_missing = df.isnull().sum()*100 / len(df)\n",
    "missing_df = pd.DataFrame({'column_name': df.columns, 'percent_miss': percent_missing})"
   ],
   "outputs": [],
   "metadata": {}
  },
  {
   "cell_type": "code",
   "execution_count": 9,
   "source": [
    "missing_df.sort_values(by='percent_miss', ascending=False)"
   ],
   "outputs": [
    {
     "output_type": "execute_result",
     "data": {
      "text/plain": [
       "                                                                                          column_name  \\\n",
       "sta_sys__matrix_profile__feature_\"\"\"\"min\"\"\"\"__t...  sta_sys__matrix_profile__feature_\"\"\"\"min\"\"\"\"__...   \n",
       "urate__fft_coefficient__attr_\"\"\"\"real\"\"\"\"__coef...  urate__fft_coefficient__attr_\"\"\"\"real\"\"\"\"__coe...   \n",
       "urate__fft_coefficient__attr_\"\"\"\"real\"\"\"\"__coef...  urate__fft_coefficient__attr_\"\"\"\"real\"\"\"\"__coe...   \n",
       "urate__fft_coefficient__attr_\"\"\"\"real\"\"\"\"__coef...  urate__fft_coefficient__attr_\"\"\"\"real\"\"\"\"__coe...   \n",
       "urate__fft_coefficient__attr_\"\"\"\"real\"\"\"\"__coef...  urate__fft_coefficient__attr_\"\"\"\"real\"\"\"\"__coe...   \n",
       "...                                                                                               ...   \n",
       "htn                                                                                               htn   \n",
       "aki_3                                                                                           aki_3   \n",
       "aki_2                                                                                           aki_2   \n",
       "aki_1                                                                                           aki_1   \n",
       "cat8                                                                                             cat8   \n",
       "\n",
       "                                                    percent_miss  \n",
       "sta_sys__matrix_profile__feature_\"\"\"\"min\"\"\"\"__t...         100.0  \n",
       "urate__fft_coefficient__attr_\"\"\"\"real\"\"\"\"__coef...         100.0  \n",
       "urate__fft_coefficient__attr_\"\"\"\"real\"\"\"\"__coef...         100.0  \n",
       "urate__fft_coefficient__attr_\"\"\"\"real\"\"\"\"__coef...         100.0  \n",
       "urate__fft_coefficient__attr_\"\"\"\"real\"\"\"\"__coef...         100.0  \n",
       "...                                                          ...  \n",
       "htn                                                          0.0  \n",
       "aki_3                                                        0.0  \n",
       "aki_2                                                        0.0  \n",
       "aki_1                                                        0.0  \n",
       "cat8                                                         0.0  \n",
       "\n",
       "[49610 rows x 2 columns]"
      ],
      "text/html": [
       "<div>\n",
       "<style scoped>\n",
       "    .dataframe tbody tr th:only-of-type {\n",
       "        vertical-align: middle;\n",
       "    }\n",
       "\n",
       "    .dataframe tbody tr th {\n",
       "        vertical-align: top;\n",
       "    }\n",
       "\n",
       "    .dataframe thead th {\n",
       "        text-align: right;\n",
       "    }\n",
       "</style>\n",
       "<table border=\"1\" class=\"dataframe\">\n",
       "  <thead>\n",
       "    <tr style=\"text-align: right;\">\n",
       "      <th></th>\n",
       "      <th>column_name</th>\n",
       "      <th>percent_miss</th>\n",
       "    </tr>\n",
       "  </thead>\n",
       "  <tbody>\n",
       "    <tr>\n",
       "      <th>sta_sys__matrix_profile__feature_\"\"\"\"min\"\"\"\"__threshold_0.98</th>\n",
       "      <td>sta_sys__matrix_profile__feature_\"\"\"\"min\"\"\"\"__...</td>\n",
       "      <td>100.0</td>\n",
       "    </tr>\n",
       "    <tr>\n",
       "      <th>urate__fft_coefficient__attr_\"\"\"\"real\"\"\"\"__coeff_82</th>\n",
       "      <td>urate__fft_coefficient__attr_\"\"\"\"real\"\"\"\"__coe...</td>\n",
       "      <td>100.0</td>\n",
       "    </tr>\n",
       "    <tr>\n",
       "      <th>urate__fft_coefficient__attr_\"\"\"\"real\"\"\"\"__coeff_62</th>\n",
       "      <td>urate__fft_coefficient__attr_\"\"\"\"real\"\"\"\"__coe...</td>\n",
       "      <td>100.0</td>\n",
       "    </tr>\n",
       "    <tr>\n",
       "      <th>urate__fft_coefficient__attr_\"\"\"\"real\"\"\"\"__coeff_63</th>\n",
       "      <td>urate__fft_coefficient__attr_\"\"\"\"real\"\"\"\"__coe...</td>\n",
       "      <td>100.0</td>\n",
       "    </tr>\n",
       "    <tr>\n",
       "      <th>urate__fft_coefficient__attr_\"\"\"\"real\"\"\"\"__coeff_64</th>\n",
       "      <td>urate__fft_coefficient__attr_\"\"\"\"real\"\"\"\"__coe...</td>\n",
       "      <td>100.0</td>\n",
       "    </tr>\n",
       "    <tr>\n",
       "      <th>...</th>\n",
       "      <td>...</td>\n",
       "      <td>...</td>\n",
       "    </tr>\n",
       "    <tr>\n",
       "      <th>htn</th>\n",
       "      <td>htn</td>\n",
       "      <td>0.0</td>\n",
       "    </tr>\n",
       "    <tr>\n",
       "      <th>aki_3</th>\n",
       "      <td>aki_3</td>\n",
       "      <td>0.0</td>\n",
       "    </tr>\n",
       "    <tr>\n",
       "      <th>aki_2</th>\n",
       "      <td>aki_2</td>\n",
       "      <td>0.0</td>\n",
       "    </tr>\n",
       "    <tr>\n",
       "      <th>aki_1</th>\n",
       "      <td>aki_1</td>\n",
       "      <td>0.0</td>\n",
       "    </tr>\n",
       "    <tr>\n",
       "      <th>cat8</th>\n",
       "      <td>cat8</td>\n",
       "      <td>0.0</td>\n",
       "    </tr>\n",
       "  </tbody>\n",
       "</table>\n",
       "<p>49610 rows × 2 columns</p>\n",
       "</div>"
      ]
     },
     "metadata": {},
     "execution_count": 9
    }
   ],
   "metadata": {}
  },
  {
   "cell_type": "markdown",
   "source": [
    "### Number of patients reaching ESKD within training period "
   ],
   "metadata": {}
  },
  {
   "cell_type": "code",
   "execution_count": 10,
   "source": [
    "df['cat2'].value_counts()"
   ],
   "outputs": [
    {
     "output_type": "execute_result",
     "data": {
      "text/plain": [
       "non_eskd    3708\n",
       "eskd        1257\n",
       "Name: cat2, dtype: int64"
      ]
     },
     "metadata": {},
     "execution_count": 10
    }
   ],
   "metadata": {}
  },
  {
   "cell_type": "code",
   "execution_count": 11,
   "source": [
    "df.set_index('id', inplace=True)"
   ],
   "outputs": [],
   "metadata": {}
  },
  {
   "cell_type": "code",
   "execution_count": 12,
   "source": [
    "def to_category(df):\n",
    "    cols = df.select_dtypes(include='object').columns\n",
    "    for col in cols:\n",
    "        df[col] = df[col].astype('category')\n",
    "    return df\n",
    "\n",
    "def drop_missing(df):\n",
    "    threshold = len(df)*0.6\n",
    "    df.dropna(axis=1, thresh=threshold, inplace=True)\n",
    "    return df\n",
    "\n",
    "def copy_df(df):\n",
    "    return df.copy()"
   ],
   "outputs": [],
   "metadata": {}
  },
  {
   "cell_type": "code",
   "execution_count": 13,
   "source": [
    "df_cleaned = (df.pipe(copy_df).pipe(drop_missing).pipe(to_category))\n",
    "df_cleaned.shape"
   ],
   "outputs": [
    {
     "output_type": "execute_result",
     "data": {
      "text/plain": [
       "(4965, 7781)"
      ]
     },
     "metadata": {},
     "execution_count": 13
    }
   ],
   "metadata": {}
  },
  {
   "cell_type": "code",
   "execution_count": 14,
   "source": [
    "df_rm_intrain = df_cleaned.query(\"cat2 == 'non_eskd'\")\n",
    "df_rm_intrain.shape"
   ],
   "outputs": [
    {
     "output_type": "execute_result",
     "data": {
      "text/plain": [
       "(3708, 7781)"
      ]
     },
     "metadata": {},
     "execution_count": 14
    }
   ],
   "metadata": {}
  },
  {
   "cell_type": "code",
   "execution_count": 15,
   "source": [
    "df_rm_intrain.to_csv('../data/cleaned60_all_2_6.gz', index=True, compression='gzip')"
   ],
   "outputs": [],
   "metadata": {}
  },
  {
   "cell_type": "code",
   "execution_count": 16,
   "source": [
    "df_rm_intrain.info()"
   ],
   "outputs": [
    {
     "output_type": "stream",
     "name": "stdout",
     "text": [
      "<class 'pandas.core.frame.DataFrame'>\n",
      "Int64Index: 3708 entries, 3916 to 23864\n",
      "Columns: 7781 entries, ureacreat_ratio__variance_larger_than_standard_deviation to cat8\n",
      "dtypes: category(20), float64(7760), int64(1)\n",
      "memory usage: 219.7 MB\n"
     ]
    }
   ],
   "metadata": {}
  },
  {
   "cell_type": "code",
   "execution_count": 27,
   "source": [
    "df_rm_intrain = (df_rm_intrain.pipe(copy_df).pipe(to_category))\n",
    "df_rm_intrain.shape"
   ],
   "outputs": [
    {
     "output_type": "execute_result",
     "data": {
      "text/plain": [
       "      ureacreat_ratio__variance_larger_than_standard_deviation  \\\n",
       "id                                                               \n",
       "3916                                               False         \n",
       "3918                                               False         \n",
       "3921                                               False         \n",
       "3924                                               False         \n",
       "3930                                               False         \n",
       "...                                                  ...         \n",
       "23771                                              False         \n",
       "23775                                              False         \n",
       "23780                                              False         \n",
       "23823                                                NaN         \n",
       "23864                                              False         \n",
       "\n",
       "      ureacreat_ratio__has_duplicate_max ureacreat_ratio__has_duplicate_min  \\\n",
       "id                                                                            \n",
       "3916                               False                              False   \n",
       "3918                               False                              False   \n",
       "3921                               False                              False   \n",
       "3924                               False                              False   \n",
       "3930                               False                              False   \n",
       "...                                  ...                                ...   \n",
       "23771                              False                              False   \n",
       "23775                              False                              False   \n",
       "23780                              False                              False   \n",
       "23823                                NaN                                NaN   \n",
       "23864                              False                              False   \n",
       "\n",
       "      ureacreat_ratio__has_duplicate  ureacreat_ratio__sum_values  \\\n",
       "id                                                                  \n",
       "3916                           False                     0.152681   \n",
       "3918                           False                     0.201586   \n",
       "3921                           False                     0.245740   \n",
       "3924                           False                     0.185151   \n",
       "3930                           False                     0.496335   \n",
       "...                              ...                          ...   \n",
       "23771                          False                     0.160833   \n",
       "23775                          False                     0.044286   \n",
       "23780                          False                     0.078750   \n",
       "23823                            NaN                          NaN   \n",
       "23864                          False                     0.124615   \n",
       "\n",
       "       ureacreat_ratio__abs_energy  ureacreat_ratio__mean_abs_change  \\\n",
       "id                                                                     \n",
       "3916                      0.007990                          0.016659   \n",
       "3918                      0.013588                          0.004620   \n",
       "3921                      0.021038                          0.020792   \n",
       "3924                      0.011960                          0.015921   \n",
       "3930                      0.035761                          0.011239   \n",
       "...                            ...                               ...   \n",
       "23771                     0.009284                          0.024167   \n",
       "23775                     0.001961                               NaN   \n",
       "23780                     0.006202                               NaN   \n",
       "23823                          NaN                               NaN   \n",
       "23864                     0.015529                               NaN   \n",
       "\n",
       "       ureacreat_ratio__mean_change  \\\n",
       "id                                    \n",
       "3916                       0.004164   \n",
       "3918                      -0.004620   \n",
       "3921                       0.020792   \n",
       "3924                       0.015921   \n",
       "3930                       0.003173   \n",
       "...                             ...   \n",
       "23771                      0.011667   \n",
       "23775                           NaN   \n",
       "23780                           NaN   \n",
       "23823                           NaN   \n",
       "23864                           NaN   \n",
       "\n",
       "       ureacreat_ratio__mean_second_derivative_central  \\\n",
       "id                                                       \n",
       "3916                                         -0.016659   \n",
       "3918                                         -0.000227   \n",
       "3921                                         -0.008116   \n",
       "3924                                          0.006274   \n",
       "3930                                          0.002983   \n",
       "...                                                ...   \n",
       "23771                                         0.024167   \n",
       "23775                                              NaN   \n",
       "23780                                              NaN   \n",
       "23823                                              NaN   \n",
       "23864                                              NaN   \n",
       "\n",
       "       ureacreat_ratio__median  ...    cat3.5      cat4    cat4.5      cat5  \\\n",
       "id                              ...                                           \n",
       "3916                  0.049505  ...  non_eskd  non_eskd  non_eskd  non_eskd   \n",
       "3918                  0.067347  ...  non_eskd  non_eskd  non_eskd  non_eskd   \n",
       "3921                  0.087324  ...  non_eskd  non_eskd  non_eskd  non_eskd   \n",
       "3924                  0.057534  ...  non_eskd  non_eskd  non_eskd  non_eskd   \n",
       "3930                  0.069399  ...  non_eskd  non_eskd  non_eskd  non_eskd   \n",
       "...                        ...  ...       ...       ...       ...       ...   \n",
       "23771                 0.050000  ...  non_eskd  non_eskd  non_eskd  non_eskd   \n",
       "23775                 0.044286  ...  non_eskd  non_eskd  non_eskd  non_eskd   \n",
       "23780                 0.078750  ...  non_eskd  non_eskd  non_eskd  non_eskd   \n",
       "23823                      NaN  ...  non_eskd  non_eskd  non_eskd  non_eskd   \n",
       "23864                 0.124615  ...  non_eskd  non_eskd  non_eskd  non_eskd   \n",
       "\n",
       "         cat5.5      cat6    cat6.5      cat7    cat7.5      cat8  \n",
       "id                                                                 \n",
       "3916   non_eskd  non_eskd  non_eskd  non_eskd  non_eskd  non_eskd  \n",
       "3918   non_eskd  non_eskd  non_eskd  non_eskd  non_eskd  non_eskd  \n",
       "3921   non_eskd  non_eskd  non_eskd  non_eskd  non_eskd  non_eskd  \n",
       "3924   non_eskd  non_eskd  non_eskd  non_eskd  non_eskd  non_eskd  \n",
       "3930   non_eskd  non_eskd  non_eskd  non_eskd  non_eskd  non_eskd  \n",
       "...         ...       ...       ...       ...       ...       ...  \n",
       "23771  non_eskd  non_eskd  non_eskd  non_eskd  non_eskd  non_eskd  \n",
       "23775  non_eskd  non_eskd  non_eskd  non_eskd  non_eskd  non_eskd  \n",
       "23780  non_eskd  non_eskd  non_eskd  non_eskd  non_eskd  non_eskd  \n",
       "23823  non_eskd  non_eskd  non_eskd  non_eskd  non_eskd  non_eskd  \n",
       "23864  non_eskd  non_eskd  non_eskd  non_eskd  non_eskd  non_eskd  \n",
       "\n",
       "[3708 rows x 6924 columns]"
      ],
      "text/html": [
       "<div>\n",
       "<style scoped>\n",
       "    .dataframe tbody tr th:only-of-type {\n",
       "        vertical-align: middle;\n",
       "    }\n",
       "\n",
       "    .dataframe tbody tr th {\n",
       "        vertical-align: top;\n",
       "    }\n",
       "\n",
       "    .dataframe thead th {\n",
       "        text-align: right;\n",
       "    }\n",
       "</style>\n",
       "<table border=\"1\" class=\"dataframe\">\n",
       "  <thead>\n",
       "    <tr style=\"text-align: right;\">\n",
       "      <th></th>\n",
       "      <th>ureacreat_ratio__variance_larger_than_standard_deviation</th>\n",
       "      <th>ureacreat_ratio__has_duplicate_max</th>\n",
       "      <th>ureacreat_ratio__has_duplicate_min</th>\n",
       "      <th>ureacreat_ratio__has_duplicate</th>\n",
       "      <th>ureacreat_ratio__sum_values</th>\n",
       "      <th>ureacreat_ratio__abs_energy</th>\n",
       "      <th>ureacreat_ratio__mean_abs_change</th>\n",
       "      <th>ureacreat_ratio__mean_change</th>\n",
       "      <th>ureacreat_ratio__mean_second_derivative_central</th>\n",
       "      <th>ureacreat_ratio__median</th>\n",
       "      <th>...</th>\n",
       "      <th>cat3.5</th>\n",
       "      <th>cat4</th>\n",
       "      <th>cat4.5</th>\n",
       "      <th>cat5</th>\n",
       "      <th>cat5.5</th>\n",
       "      <th>cat6</th>\n",
       "      <th>cat6.5</th>\n",
       "      <th>cat7</th>\n",
       "      <th>cat7.5</th>\n",
       "      <th>cat8</th>\n",
       "    </tr>\n",
       "    <tr>\n",
       "      <th>id</th>\n",
       "      <th></th>\n",
       "      <th></th>\n",
       "      <th></th>\n",
       "      <th></th>\n",
       "      <th></th>\n",
       "      <th></th>\n",
       "      <th></th>\n",
       "      <th></th>\n",
       "      <th></th>\n",
       "      <th></th>\n",
       "      <th></th>\n",
       "      <th></th>\n",
       "      <th></th>\n",
       "      <th></th>\n",
       "      <th></th>\n",
       "      <th></th>\n",
       "      <th></th>\n",
       "      <th></th>\n",
       "      <th></th>\n",
       "      <th></th>\n",
       "      <th></th>\n",
       "    </tr>\n",
       "  </thead>\n",
       "  <tbody>\n",
       "    <tr>\n",
       "      <th>3916</th>\n",
       "      <td>False</td>\n",
       "      <td>False</td>\n",
       "      <td>False</td>\n",
       "      <td>False</td>\n",
       "      <td>0.152681</td>\n",
       "      <td>0.007990</td>\n",
       "      <td>0.016659</td>\n",
       "      <td>0.004164</td>\n",
       "      <td>-0.016659</td>\n",
       "      <td>0.049505</td>\n",
       "      <td>...</td>\n",
       "      <td>non_eskd</td>\n",
       "      <td>non_eskd</td>\n",
       "      <td>non_eskd</td>\n",
       "      <td>non_eskd</td>\n",
       "      <td>non_eskd</td>\n",
       "      <td>non_eskd</td>\n",
       "      <td>non_eskd</td>\n",
       "      <td>non_eskd</td>\n",
       "      <td>non_eskd</td>\n",
       "      <td>non_eskd</td>\n",
       "    </tr>\n",
       "    <tr>\n",
       "      <th>3918</th>\n",
       "      <td>False</td>\n",
       "      <td>False</td>\n",
       "      <td>False</td>\n",
       "      <td>False</td>\n",
       "      <td>0.201586</td>\n",
       "      <td>0.013588</td>\n",
       "      <td>0.004620</td>\n",
       "      <td>-0.004620</td>\n",
       "      <td>-0.000227</td>\n",
       "      <td>0.067347</td>\n",
       "      <td>...</td>\n",
       "      <td>non_eskd</td>\n",
       "      <td>non_eskd</td>\n",
       "      <td>non_eskd</td>\n",
       "      <td>non_eskd</td>\n",
       "      <td>non_eskd</td>\n",
       "      <td>non_eskd</td>\n",
       "      <td>non_eskd</td>\n",
       "      <td>non_eskd</td>\n",
       "      <td>non_eskd</td>\n",
       "      <td>non_eskd</td>\n",
       "    </tr>\n",
       "    <tr>\n",
       "      <th>3921</th>\n",
       "      <td>False</td>\n",
       "      <td>False</td>\n",
       "      <td>False</td>\n",
       "      <td>False</td>\n",
       "      <td>0.245740</td>\n",
       "      <td>0.021038</td>\n",
       "      <td>0.020792</td>\n",
       "      <td>0.020792</td>\n",
       "      <td>-0.008116</td>\n",
       "      <td>0.087324</td>\n",
       "      <td>...</td>\n",
       "      <td>non_eskd</td>\n",
       "      <td>non_eskd</td>\n",
       "      <td>non_eskd</td>\n",
       "      <td>non_eskd</td>\n",
       "      <td>non_eskd</td>\n",
       "      <td>non_eskd</td>\n",
       "      <td>non_eskd</td>\n",
       "      <td>non_eskd</td>\n",
       "      <td>non_eskd</td>\n",
       "      <td>non_eskd</td>\n",
       "    </tr>\n",
       "    <tr>\n",
       "      <th>3924</th>\n",
       "      <td>False</td>\n",
       "      <td>False</td>\n",
       "      <td>False</td>\n",
       "      <td>False</td>\n",
       "      <td>0.185151</td>\n",
       "      <td>0.011960</td>\n",
       "      <td>0.015921</td>\n",
       "      <td>0.015921</td>\n",
       "      <td>0.006274</td>\n",
       "      <td>0.057534</td>\n",
       "      <td>...</td>\n",
       "      <td>non_eskd</td>\n",
       "      <td>non_eskd</td>\n",
       "      <td>non_eskd</td>\n",
       "      <td>non_eskd</td>\n",
       "      <td>non_eskd</td>\n",
       "      <td>non_eskd</td>\n",
       "      <td>non_eskd</td>\n",
       "      <td>non_eskd</td>\n",
       "      <td>non_eskd</td>\n",
       "      <td>non_eskd</td>\n",
       "    </tr>\n",
       "    <tr>\n",
       "      <th>3930</th>\n",
       "      <td>False</td>\n",
       "      <td>False</td>\n",
       "      <td>False</td>\n",
       "      <td>False</td>\n",
       "      <td>0.496335</td>\n",
       "      <td>0.035761</td>\n",
       "      <td>0.011239</td>\n",
       "      <td>0.003173</td>\n",
       "      <td>0.002983</td>\n",
       "      <td>0.069399</td>\n",
       "      <td>...</td>\n",
       "      <td>non_eskd</td>\n",
       "      <td>non_eskd</td>\n",
       "      <td>non_eskd</td>\n",
       "      <td>non_eskd</td>\n",
       "      <td>non_eskd</td>\n",
       "      <td>non_eskd</td>\n",
       "      <td>non_eskd</td>\n",
       "      <td>non_eskd</td>\n",
       "      <td>non_eskd</td>\n",
       "      <td>non_eskd</td>\n",
       "    </tr>\n",
       "    <tr>\n",
       "      <th>...</th>\n",
       "      <td>...</td>\n",
       "      <td>...</td>\n",
       "      <td>...</td>\n",
       "      <td>...</td>\n",
       "      <td>...</td>\n",
       "      <td>...</td>\n",
       "      <td>...</td>\n",
       "      <td>...</td>\n",
       "      <td>...</td>\n",
       "      <td>...</td>\n",
       "      <td>...</td>\n",
       "      <td>...</td>\n",
       "      <td>...</td>\n",
       "      <td>...</td>\n",
       "      <td>...</td>\n",
       "      <td>...</td>\n",
       "      <td>...</td>\n",
       "      <td>...</td>\n",
       "      <td>...</td>\n",
       "      <td>...</td>\n",
       "      <td>...</td>\n",
       "    </tr>\n",
       "    <tr>\n",
       "      <th>23771</th>\n",
       "      <td>False</td>\n",
       "      <td>False</td>\n",
       "      <td>False</td>\n",
       "      <td>False</td>\n",
       "      <td>0.160833</td>\n",
       "      <td>0.009284</td>\n",
       "      <td>0.024167</td>\n",
       "      <td>0.011667</td>\n",
       "      <td>0.024167</td>\n",
       "      <td>0.050000</td>\n",
       "      <td>...</td>\n",
       "      <td>non_eskd</td>\n",
       "      <td>non_eskd</td>\n",
       "      <td>non_eskd</td>\n",
       "      <td>non_eskd</td>\n",
       "      <td>non_eskd</td>\n",
       "      <td>non_eskd</td>\n",
       "      <td>non_eskd</td>\n",
       "      <td>non_eskd</td>\n",
       "      <td>non_eskd</td>\n",
       "      <td>non_eskd</td>\n",
       "    </tr>\n",
       "    <tr>\n",
       "      <th>23775</th>\n",
       "      <td>False</td>\n",
       "      <td>False</td>\n",
       "      <td>False</td>\n",
       "      <td>False</td>\n",
       "      <td>0.044286</td>\n",
       "      <td>0.001961</td>\n",
       "      <td>NaN</td>\n",
       "      <td>NaN</td>\n",
       "      <td>NaN</td>\n",
       "      <td>0.044286</td>\n",
       "      <td>...</td>\n",
       "      <td>non_eskd</td>\n",
       "      <td>non_eskd</td>\n",
       "      <td>non_eskd</td>\n",
       "      <td>non_eskd</td>\n",
       "      <td>non_eskd</td>\n",
       "      <td>non_eskd</td>\n",
       "      <td>non_eskd</td>\n",
       "      <td>non_eskd</td>\n",
       "      <td>non_eskd</td>\n",
       "      <td>non_eskd</td>\n",
       "    </tr>\n",
       "    <tr>\n",
       "      <th>23780</th>\n",
       "      <td>False</td>\n",
       "      <td>False</td>\n",
       "      <td>False</td>\n",
       "      <td>False</td>\n",
       "      <td>0.078750</td>\n",
       "      <td>0.006202</td>\n",
       "      <td>NaN</td>\n",
       "      <td>NaN</td>\n",
       "      <td>NaN</td>\n",
       "      <td>0.078750</td>\n",
       "      <td>...</td>\n",
       "      <td>non_eskd</td>\n",
       "      <td>non_eskd</td>\n",
       "      <td>non_eskd</td>\n",
       "      <td>non_eskd</td>\n",
       "      <td>non_eskd</td>\n",
       "      <td>non_eskd</td>\n",
       "      <td>non_eskd</td>\n",
       "      <td>non_eskd</td>\n",
       "      <td>non_eskd</td>\n",
       "      <td>non_eskd</td>\n",
       "    </tr>\n",
       "    <tr>\n",
       "      <th>23823</th>\n",
       "      <td>NaN</td>\n",
       "      <td>NaN</td>\n",
       "      <td>NaN</td>\n",
       "      <td>NaN</td>\n",
       "      <td>NaN</td>\n",
       "      <td>NaN</td>\n",
       "      <td>NaN</td>\n",
       "      <td>NaN</td>\n",
       "      <td>NaN</td>\n",
       "      <td>NaN</td>\n",
       "      <td>...</td>\n",
       "      <td>non_eskd</td>\n",
       "      <td>non_eskd</td>\n",
       "      <td>non_eskd</td>\n",
       "      <td>non_eskd</td>\n",
       "      <td>non_eskd</td>\n",
       "      <td>non_eskd</td>\n",
       "      <td>non_eskd</td>\n",
       "      <td>non_eskd</td>\n",
       "      <td>non_eskd</td>\n",
       "      <td>non_eskd</td>\n",
       "    </tr>\n",
       "    <tr>\n",
       "      <th>23864</th>\n",
       "      <td>False</td>\n",
       "      <td>False</td>\n",
       "      <td>False</td>\n",
       "      <td>False</td>\n",
       "      <td>0.124615</td>\n",
       "      <td>0.015529</td>\n",
       "      <td>NaN</td>\n",
       "      <td>NaN</td>\n",
       "      <td>NaN</td>\n",
       "      <td>0.124615</td>\n",
       "      <td>...</td>\n",
       "      <td>non_eskd</td>\n",
       "      <td>non_eskd</td>\n",
       "      <td>non_eskd</td>\n",
       "      <td>non_eskd</td>\n",
       "      <td>non_eskd</td>\n",
       "      <td>non_eskd</td>\n",
       "      <td>non_eskd</td>\n",
       "      <td>non_eskd</td>\n",
       "      <td>non_eskd</td>\n",
       "      <td>non_eskd</td>\n",
       "    </tr>\n",
       "  </tbody>\n",
       "</table>\n",
       "<p>3708 rows × 6924 columns</p>\n",
       "</div>"
      ]
     },
     "metadata": {},
     "execution_count": 27
    }
   ],
   "metadata": {}
  },
  {
   "cell_type": "markdown",
   "source": [
    "### Number of patients reaching ESKD in at 1y post-training "
   ],
   "metadata": {}
  },
  {
   "cell_type": "code",
   "execution_count": 17,
   "source": [
    "df_rm_intrain['cat3'].value_counts()"
   ],
   "outputs": [
    {
     "output_type": "execute_result",
     "data": {
      "text/plain": [
       "non_eskd    3586\n",
       "eskd         122\n",
       "Name: cat3, dtype: int64"
      ]
     },
     "metadata": {},
     "execution_count": 17
    }
   ],
   "metadata": {}
  },
  {
   "cell_type": "markdown",
   "source": [
    "### Number of patients reaching ESKD in 2y post-training"
   ],
   "metadata": {}
  },
  {
   "cell_type": "code",
   "execution_count": 18,
   "source": [
    "df_rm_intrain['cat4'].value_counts()"
   ],
   "outputs": [
    {
     "output_type": "execute_result",
     "data": {
      "text/plain": [
       "non_eskd    3484\n",
       "eskd         224\n",
       "Name: cat4, dtype: int64"
      ]
     },
     "metadata": {},
     "execution_count": 18
    }
   ],
   "metadata": {}
  },
  {
   "cell_type": "markdown",
   "source": [
    "### Number of patients reaching ESKD in 5y post-training"
   ],
   "metadata": {}
  },
  {
   "cell_type": "code",
   "execution_count": 19,
   "source": [
    "df_rm_intrain['cat7'].value_counts()"
   ],
   "outputs": [
    {
     "output_type": "execute_result",
     "data": {
      "text/plain": [
       "non_eskd    3261\n",
       "eskd         447\n",
       "Name: cat7, dtype: int64"
      ]
     },
     "metadata": {},
     "execution_count": 19
    }
   ],
   "metadata": {}
  },
  {
   "cell_type": "code",
   "execution_count": 20,
   "source": [
    "percent_missing = df_rm_intrain.isnull().sum()*100 / len(df_rm_intrain)\n",
    "missing_df_rm_intrain = pd.DataFrame({'column_name': df_rm_intrain.columns, 'percent_miss': percent_missing})"
   ],
   "outputs": [],
   "metadata": {}
  },
  {
   "cell_type": "code",
   "execution_count": 21,
   "source": [
    "missing_df_rm_intrain.sort_values(by='percent_miss', ascending=False)"
   ],
   "outputs": [
    {
     "output_type": "execute_result",
     "data": {
      "text/plain": [
       "                                                                                          column_name  \\\n",
       "chloride__augmented_dickey_fuller__attr_\"\"\"\"tes...  chloride__augmented_dickey_fuller__attr_\"\"\"\"te...   \n",
       "chloride__partial_autocorrelation__lag_1                     chloride__partial_autocorrelation__lag_1   \n",
       "chloride__autocorrelation__lag_3                                     chloride__autocorrelation__lag_3   \n",
       "chloride__augmented_dickey_fuller__attr_\"\"\"\"pva...  chloride__augmented_dickey_fuller__attr_\"\"\"\"pv...   \n",
       "chloride__fft_coefficient__attr_\"\"\"\"abs\"\"\"\"__co...  chloride__fft_coefficient__attr_\"\"\"\"abs\"\"\"\"__c...   \n",
       "...                                                                                               ...   \n",
       "dkd                                                                                               dkd   \n",
       "htn                                                                                               htn   \n",
       "aki_3                                                                                           aki_3   \n",
       "aki_2                                                                                           aki_2   \n",
       "cat8                                                                                             cat8   \n",
       "\n",
       "                                                    percent_miss  \n",
       "chloride__augmented_dickey_fuller__attr_\"\"\"\"tes...     51.024811  \n",
       "chloride__partial_autocorrelation__lag_1               51.024811  \n",
       "chloride__autocorrelation__lag_3                       51.024811  \n",
       "chloride__augmented_dickey_fuller__attr_\"\"\"\"pva...     51.024811  \n",
       "chloride__fft_coefficient__attr_\"\"\"\"abs\"\"\"\"__co...     50.970874  \n",
       "...                                                          ...  \n",
       "dkd                                                     0.000000  \n",
       "htn                                                     0.000000  \n",
       "aki_3                                                   0.000000  \n",
       "aki_2                                                   0.000000  \n",
       "cat8                                                    0.000000  \n",
       "\n",
       "[7781 rows x 2 columns]"
      ],
      "text/html": [
       "<div>\n",
       "<style scoped>\n",
       "    .dataframe tbody tr th:only-of-type {\n",
       "        vertical-align: middle;\n",
       "    }\n",
       "\n",
       "    .dataframe tbody tr th {\n",
       "        vertical-align: top;\n",
       "    }\n",
       "\n",
       "    .dataframe thead th {\n",
       "        text-align: right;\n",
       "    }\n",
       "</style>\n",
       "<table border=\"1\" class=\"dataframe\">\n",
       "  <thead>\n",
       "    <tr style=\"text-align: right;\">\n",
       "      <th></th>\n",
       "      <th>column_name</th>\n",
       "      <th>percent_miss</th>\n",
       "    </tr>\n",
       "  </thead>\n",
       "  <tbody>\n",
       "    <tr>\n",
       "      <th>chloride__augmented_dickey_fuller__attr_\"\"\"\"teststat\"\"\"\"__autolag_\"\"\"\"AIC\"\"\"\"</th>\n",
       "      <td>chloride__augmented_dickey_fuller__attr_\"\"\"\"te...</td>\n",
       "      <td>51.024811</td>\n",
       "    </tr>\n",
       "    <tr>\n",
       "      <th>chloride__partial_autocorrelation__lag_1</th>\n",
       "      <td>chloride__partial_autocorrelation__lag_1</td>\n",
       "      <td>51.024811</td>\n",
       "    </tr>\n",
       "    <tr>\n",
       "      <th>chloride__autocorrelation__lag_3</th>\n",
       "      <td>chloride__autocorrelation__lag_3</td>\n",
       "      <td>51.024811</td>\n",
       "    </tr>\n",
       "    <tr>\n",
       "      <th>chloride__augmented_dickey_fuller__attr_\"\"\"\"pvalue\"\"\"\"__autolag_\"\"\"\"AIC\"\"\"\"</th>\n",
       "      <td>chloride__augmented_dickey_fuller__attr_\"\"\"\"pv...</td>\n",
       "      <td>51.024811</td>\n",
       "    </tr>\n",
       "    <tr>\n",
       "      <th>chloride__fft_coefficient__attr_\"\"\"\"abs\"\"\"\"__coeff_2</th>\n",
       "      <td>chloride__fft_coefficient__attr_\"\"\"\"abs\"\"\"\"__c...</td>\n",
       "      <td>50.970874</td>\n",
       "    </tr>\n",
       "    <tr>\n",
       "      <th>...</th>\n",
       "      <td>...</td>\n",
       "      <td>...</td>\n",
       "    </tr>\n",
       "    <tr>\n",
       "      <th>dkd</th>\n",
       "      <td>dkd</td>\n",
       "      <td>0.000000</td>\n",
       "    </tr>\n",
       "    <tr>\n",
       "      <th>htn</th>\n",
       "      <td>htn</td>\n",
       "      <td>0.000000</td>\n",
       "    </tr>\n",
       "    <tr>\n",
       "      <th>aki_3</th>\n",
       "      <td>aki_3</td>\n",
       "      <td>0.000000</td>\n",
       "    </tr>\n",
       "    <tr>\n",
       "      <th>aki_2</th>\n",
       "      <td>aki_2</td>\n",
       "      <td>0.000000</td>\n",
       "    </tr>\n",
       "    <tr>\n",
       "      <th>cat8</th>\n",
       "      <td>cat8</td>\n",
       "      <td>0.000000</td>\n",
       "    </tr>\n",
       "  </tbody>\n",
       "</table>\n",
       "<p>7781 rows × 2 columns</p>\n",
       "</div>"
      ]
     },
     "metadata": {},
     "execution_count": 21
    }
   ],
   "metadata": {}
  },
  {
   "cell_type": "markdown",
   "source": [
    "## Features and Target Input for Training "
   ],
   "metadata": {}
  },
  {
   "cell_type": "code",
   "execution_count": 22,
   "source": [
    "dropped_cols = list(df_rm_intrain.columns[-18:])\n",
    "dropped_cols.remove('age.init')\n",
    "dropped_cols"
   ],
   "outputs": [
    {
     "output_type": "execute_result",
     "data": {
      "text/plain": [
       "['egfr.y',\n",
       " 'cat0.5',\n",
       " 'cat1',\n",
       " 'cat1.5',\n",
       " 'cat2',\n",
       " 'cat2.5',\n",
       " 'cat3',\n",
       " 'cat3.5',\n",
       " 'cat4',\n",
       " 'cat4.5',\n",
       " 'cat5',\n",
       " 'cat5.5',\n",
       " 'cat6',\n",
       " 'cat6.5',\n",
       " 'cat7',\n",
       " 'cat7.5',\n",
       " 'cat8']"
      ]
     },
     "metadata": {},
     "execution_count": 22
    }
   ],
   "metadata": {}
  },
  {
   "cell_type": "code",
   "execution_count": 23,
   "source": [
    "X = df_rm_intrain.drop(dropped_cols,axis=1).copy()\n",
    "y = df_rm_intrain['cat7']\n",
    "X.shape, y.shape"
   ],
   "outputs": [
    {
     "output_type": "execute_result",
     "data": {
      "text/plain": [
       "((3708, 7764), (3708,))"
      ]
     },
     "metadata": {},
     "execution_count": 23
    }
   ],
   "metadata": {}
  },
  {
   "cell_type": "code",
   "execution_count": 24,
   "source": [
    "y_mapped = y.map({'non_eskd':'no', 'eskd':'yes'})\n",
    "y_mapped"
   ],
   "outputs": [
    {
     "output_type": "execute_result",
     "data": {
      "text/plain": [
       "id\n",
       "3916     no\n",
       "3918     no\n",
       "3921     no\n",
       "3924     no\n",
       "3930     no\n",
       "         ..\n",
       "23771    no\n",
       "23775    no\n",
       "23780    no\n",
       "23823    no\n",
       "23864    no\n",
       "Name: cat7, Length: 3708, dtype: category\n",
       "Categories (2, object): ['yes', 'no']"
      ]
     },
     "metadata": {},
     "execution_count": 24
    }
   ],
   "metadata": {}
  },
  {
   "cell_type": "code",
   "execution_count": 25,
   "source": [
    "X_train, X_test, y_train, y_test = train_test_split(X, y_mapped, test_size=0.3, stratify=y_mapped, random_state=random_state)\n",
    "X_train.shape, X_test.shape, y_train.shape, y_test.shape"
   ],
   "outputs": [
    {
     "output_type": "execute_result",
     "data": {
      "text/plain": [
       "((2595, 7764), (1113, 7764), (2595,), (1113,))"
      ]
     },
     "metadata": {},
     "execution_count": 25
    }
   ],
   "metadata": {}
  },
  {
   "cell_type": "code",
   "execution_count": 26,
   "source": [
    "lab_encode = LabelEncoder()\n",
    "y_train = lab_encode.fit_transform(y_train)\n",
    "y_test = lab_encode.transform(y_test)\n",
    "y_train.shape, y_test.shape"
   ],
   "outputs": [
    {
     "output_type": "execute_result",
     "data": {
      "text/plain": [
       "((2595,), (1113,))"
      ]
     },
     "metadata": {},
     "execution_count": 26
    }
   ],
   "metadata": {}
  },
  {
   "cell_type": "code",
   "execution_count": 27,
   "source": [
    "unique_values, counts = np.unique(y_train, return_counts=True)\n",
    "ratio = dict(zip(unique_values, counts))\n",
    "ratio"
   ],
   "outputs": [
    {
     "output_type": "execute_result",
     "data": {
      "text/plain": [
       "{0: 2282, 1: 313}"
      ]
     },
     "metadata": {},
     "execution_count": 27
    }
   ],
   "metadata": {}
  },
  {
   "cell_type": "code",
   "execution_count": 28,
   "source": [
    "imbalance_ratio = ratio[0] / ratio[1]\n",
    "imbalance_ratio"
   ],
   "outputs": [
    {
     "output_type": "execute_result",
     "data": {
      "text/plain": [
       "7.2907348242811505"
      ]
     },
     "metadata": {},
     "execution_count": 28
    }
   ],
   "metadata": {}
  },
  {
   "cell_type": "code",
   "execution_count": 29,
   "source": [
    "category_cols = list(X_train.select_dtypes(include='category').columns)\n",
    "numeric_cols = list(X_train.select_dtypes(include=['int', 'float']).columns)\n",
    "one_hot = OneHotEncoder(handle_unknown='ignore')\n",
    "num_imputer = KNNImputer(n_neighbors=5)\n",
    "len(category_cols), len(numeric_cols)"
   ],
   "outputs": [
    {
     "output_type": "execute_result",
     "data": {
      "text/plain": [
       "(4, 7760)"
      ]
     },
     "metadata": {},
     "execution_count": 29
    }
   ],
   "metadata": {}
  },
  {
   "cell_type": "code",
   "execution_count": 30,
   "source": [
    "preprocess = ColumnTransformer([('num_imputing', num_imputer, numeric_cols), ('cat_encoder', one_hot, category_cols)], remainder='passthrough')\n",
    "X_train_processed = preprocess.fit_transform(X_train)\n",
    "X_train_processed.shape"
   ],
   "outputs": [
    {
     "output_type": "execute_result",
     "data": {
      "text/plain": [
       "(2595, 7775)"
      ]
     },
     "metadata": {},
     "execution_count": 30
    }
   ],
   "metadata": {}
  },
  {
   "cell_type": "code",
   "execution_count": 31,
   "source": [
    "X_test_processed = preprocess.transform(X_test)"
   ],
   "outputs": [],
   "metadata": {}
  },
  {
   "cell_type": "code",
   "execution_count": 32,
   "source": [
    "xgb_class = xgb.XGBClassifier(n_jobs=-1, random_state = random_state, n_estimators=1000, use_label_encoder=False, eval_metric='logloss', scale_pos_weight=imbalance_ratio)\n",
    "sampler = SMOTETomek(sampling_strategy=0.5, random_state=random_state)\n",
    "steps = [('resampling', sampler), ('model', xgb_class)]\n",
    "pipeline = Pipeline(steps=steps)"
   ],
   "outputs": [],
   "metadata": {}
  },
  {
   "cell_type": "code",
   "execution_count": 33,
   "source": [
    "pipeline.fit(X_train_processed, y_train)"
   ],
   "outputs": [
    {
     "output_type": "execute_result",
     "data": {
      "text/plain": [
       "Pipeline(steps=[('resampling',\n",
       "                 SMOTETomek(random_state=7, sampling_strategy=0.5)),\n",
       "                ('model',\n",
       "                 XGBClassifier(base_score=0.5, booster='gbtree',\n",
       "                               colsample_bylevel=1, colsample_bynode=1,\n",
       "                               colsample_bytree=1, eval_metric='logloss',\n",
       "                               gamma=0, gpu_id=-1, importance_type='gain',\n",
       "                               interaction_constraints='',\n",
       "                               learning_rate=0.300000012, max_delta_step=0,\n",
       "                               max_depth=6, min_child_weight=1, missing=nan,\n",
       "                               monotone_constraints='()', n_estimators=1000,\n",
       "                               n_jobs=-1, num_parallel_tree=1, random_state=7,\n",
       "                               reg_alpha=0, reg_lambda=1,\n",
       "                               scale_pos_weight=7.2907348242811505, subsample=1,\n",
       "                               tree_method='exact', use_label_encoder=False,\n",
       "                               validate_parameters=1, verbosity=None))])"
      ]
     },
     "metadata": {},
     "execution_count": 33
    }
   ],
   "metadata": {}
  },
  {
   "cell_type": "code",
   "execution_count": 34,
   "source": [
    "y_pred = pipeline.predict(X_test_processed)"
   ],
   "outputs": [],
   "metadata": {}
  },
  {
   "cell_type": "code",
   "execution_count": 35,
   "source": [
    "confusion_matrix(y_true=y_test, y_pred=y_pred)"
   ],
   "outputs": [
    {
     "output_type": "execute_result",
     "data": {
      "text/plain": [
       "array([[936,  43],\n",
       "       [ 79,  55]])"
      ]
     },
     "metadata": {},
     "execution_count": 35
    }
   ],
   "metadata": {}
  },
  {
   "cell_type": "code",
   "execution_count": 36,
   "source": [
    "roc_auc_score(y_test, y_pred)"
   ],
   "outputs": [
    {
     "output_type": "execute_result",
     "data": {
      "text/plain": [
       "0.6832626957144817"
      ]
     },
     "metadata": {},
     "execution_count": 36
    }
   ],
   "metadata": {}
  },
  {
   "cell_type": "code",
   "execution_count": 37,
   "source": [
    "print(classification_report(y_true=y_test, y_pred=y_pred))"
   ],
   "outputs": [
    {
     "output_type": "stream",
     "name": "stdout",
     "text": [
      "              precision    recall  f1-score   support\n",
      "\n",
      "           0       0.92      0.96      0.94       979\n",
      "           1       0.56      0.41      0.47       134\n",
      "\n",
      "    accuracy                           0.89      1113\n",
      "   macro avg       0.74      0.68      0.71      1113\n",
      "weighted avg       0.88      0.89      0.88      1113\n",
      "\n"
     ]
    }
   ],
   "metadata": {}
  },
  {
   "cell_type": "code",
   "execution_count": 38,
   "source": [
    "print(matthews_corrcoef(y_test, y_pred))"
   ],
   "outputs": [
    {
     "output_type": "stream",
     "name": "stdout",
     "text": [
      "0.4209221231531018\n"
     ]
    }
   ],
   "metadata": {}
  },
  {
   "cell_type": "code",
   "execution_count": 39,
   "source": [
    "importance = pipeline.named_steps['model'].feature_importances_\n",
    "importance.shape, type(importance)"
   ],
   "outputs": [
    {
     "output_type": "execute_result",
     "data": {
      "text/plain": [
       "((7775,), numpy.ndarray)"
      ]
     },
     "metadata": {},
     "execution_count": 39
    }
   ],
   "metadata": {}
  },
  {
   "cell_type": "code",
   "execution_count": 40,
   "source": [
    "category_label = list(preprocess.named_transformers_['cat_encoder'].get_feature_names(category_cols))\n",
    "feature_label = numeric_cols + category_label\n",
    "len(feature_label)"
   ],
   "outputs": [
    {
     "output_type": "execute_result",
     "data": {
      "text/plain": [
       "7775"
      ]
     },
     "metadata": {},
     "execution_count": 40
    }
   ],
   "metadata": {}
  },
  {
   "cell_type": "code",
   "execution_count": 41,
   "source": [
    "pd.set_option('display.max_rows', 400)\n",
    "eval_df = pd.DataFrame({'label': feature_label, 'importance_value': importance})\n",
    "eval_df.sort_values(by='importance_value', ascending=False).head(100)"
   ],
   "outputs": [
    {
     "output_type": "execute_result",
     "data": {
      "text/plain": [
       "                                                  label  importance_value\n",
       "1815                                creatinine__maximum          0.085064\n",
       "1792                                 creatinine__median          0.035147\n",
       "4901  ggt__change_quantiles__f_agg_\"\"\"\"var\"\"\"\"__isab...          0.015721\n",
       "2875  phosphate__large_standard_deviation__r_0.35000...          0.015622\n",
       "1071   calcium__symmetry_looking__r_0.30000000000000004          0.013484\n",
       "6774  mcv__cwt_coefficients__coeff_0__w_2__widths_(2...          0.011508\n",
       "6268      mch__time_reversal_asymmetry_statistic__lag_3          0.010702\n",
       "6772                    mcv__index_mass_quantile__q_0.8          0.010090\n",
       "5785           eosinophils__ratio_beyond_r_sigma__r_0.5          0.010007\n",
       "6691                     mcv__first_location_of_minimum          0.009657\n",
       "4152  alt__large_standard_deviation__r_0.35000000000...          0.009506\n",
       "1685  chloride__change_quantiles__f_agg_\"\"\"\"mean\"\"\"\"...          0.009166\n",
       "2927  phosphate__cwt_coefficients__coeff_2__w_5__wid...          0.008986\n",
       "1865                        creatinine__quantile__q_0.1          0.008765\n",
       "4154              alt__large_standard_deviation__r_0.45          0.008492\n",
       "845   alkphos__large_standard_deviation__r_0.3500000...          0.008325\n",
       "4216  alt__change_quantiles__f_agg_\"\"\"\"var\"\"\"\"__isab...          0.007931\n",
       "945   alkphos__change_quantiles__f_agg_\"\"\"\"mean\"\"\"\"_...          0.007926\n",
       "2133                              egfr__quantile__q_0.7          0.007316\n",
       "6265                           mch__benford_correlation          0.006964\n",
       "2208  egfr__change_quantiles__f_agg_\"\"\"\"mean\"\"\"\"__is...          0.006937\n",
       "548                        albumin__benford_correlation          0.006876\n",
       "4002  urea__change_quantiles__f_agg_\"\"\"\"mean\"\"\"\"__is...          0.006689\n",
       "1605                          chloride__quantile__q_0.4          0.006589\n",
       "1616  chloride__agg_autocorrelation__f_agg_\"\"\"\"var\"\"...          0.006575\n",
       "5732  eosinophils__change_quantiles__f_agg_\"\"\"\"mean\"...          0.006499\n",
       "1492  caphos_product__energy_ratio_by_chunks__num_se...          0.006460\n",
       "4723               bilirubin__ratio_beyond_r_sigma__r_1          0.006261\n",
       "6125  lymphocytes__cwt_coefficients__coeff_0__w_10__...          0.006191\n",
       "6126  lymphocytes__cwt_coefficients__coeff_0__w_20__...          0.006181\n",
       "6233         lymphocytes__lempel_ziv_complexity__bins_5          0.005911\n",
       "1019                   alkphos__fourier_entropy__bins_5          0.005887\n",
       "7762                                            dkd_dkd          0.005727\n",
       "1809              creatinine__first_location_of_minimum          0.005646\n",
       "1872                        creatinine__quantile__q_0.9          0.005554\n",
       "2646                       haemoglobin__quantile__q_0.6          0.005309\n",
       "7243  neutrophils__change_quantiles__f_agg_\"\"\"\"mean\"...          0.005129\n",
       "1479  caphos_product__linear_trend__attr_\"\"\"\"pvalue\"\"\"\"          0.005119\n",
       "3859                          urea__benford_correlation          0.005016\n",
       "6238                             mch__has_duplicate_min          0.004953\n",
       "1398  caphos_product__change_quantiles__f_agg_\"\"\"\"va...          0.004834\n",
       "5778  eosinophils__energy_ratio_by_chunks__num_segme...          0.004715\n",
       "2960  phosphate__change_quantiles__f_agg_\"\"\"\"var\"\"\"\"...          0.004676\n",
       "7602  magnesium__large_standard_deviation__r_0.35000...          0.004605\n",
       "1871                        creatinine__quantile__q_0.8          0.004603\n",
       "3211  platelet__change_quantiles__f_agg_\"\"\"\"mean\"\"\"\"...          0.004547\n",
       "5120  globulin__change_quantiles__f_agg_\"\"\"\"var\"\"\"\"_...          0.004515\n",
       "2201  egfr__change_quantiles__f_agg_\"\"\"\"var\"\"\"\"__isa...          0.004473\n",
       "3517       potassium__linear_trend__attr_\"\"\"\"pvalue\"\"\"\"          0.004262\n",
       "5889  haematocrit__agg_autocorrelation__f_agg_\"\"\"\"va...          0.004236\n",
       "2961  phosphate__change_quantiles__f_agg_\"\"\"\"mean\"\"\"...          0.004222\n",
       "4974                 globulin__last_location_of_maximum          0.004002\n",
       "5680           eosinophils__binned_entropy__max_bins_10          0.003956\n",
       "1817                    creatinine__benford_correlation          0.003946\n",
       "6709                      mcv__symmetry_looking__r_0.05          0.003923\n",
       "2022            creatinine__ratio_beyond_r_sigma__r_0.5          0.003859\n",
       "4647  bilirubin__change_quantiles__f_agg_\"\"\"\"mean\"\"\"...          0.003720\n",
       "6455                            mchc__has_duplicate_min          0.003668\n",
       "7324                                 rbc__has_duplicate          0.003609\n",
       "2398                           glucose__quantile__q_0.3          0.003534\n",
       "5105  globulin__change_quantiles__f_agg_\"\"\"\"mean\"\"\"\"...          0.003514\n",
       "552                                  albumin__c3__lag_1          0.003504\n",
       "6775  mcv__cwt_coefficients__coeff_0__w_5__widths_(2...          0.003472\n",
       "1159  calcium__change_quantiles__f_agg_\"\"\"\"mean\"\"\"\"_...          0.003445\n",
       "3189  platelet__change_quantiles__f_agg_\"\"\"\"mean\"\"\"\"...          0.003444\n",
       "3050                phosphate__fourier_entropy__bins_10          0.003375\n",
       "392   wcc__change_quantiles__f_agg_\"\"\"\"mean\"\"\"\"__isa...          0.003359\n",
       "3713  sodium__change_quantiles__f_agg_\"\"\"\"mean\"\"\"\"__...          0.003328\n",
       "5465                         basophils__quantile__q_0.1          0.003320\n",
       "3177  platelet__change_quantiles__f_agg_\"\"\"\"mean\"\"\"\"...          0.003287\n",
       "361   wcc__agg_autocorrelation__f_agg_\"\"\"\"median\"\"\"\"...          0.003233\n",
       "6690                      mcv__last_location_of_minimum          0.003183\n",
       "7060  monocytes__fft_aggregated__aggtype_\"\"\"\"centroi...          0.003152\n",
       "4873  ggt__change_quantiles__f_agg_\"\"\"\"var\"\"\"\"__isab...          0.003092\n",
       "1275                    caphos_product__mean_abs_change          0.003064\n",
       "5516  basophils__change_quantiles__f_agg_\"\"\"\"var\"\"\"\"...          0.003059\n",
       "6020                     lymphocytes__has_duplicate_max          0.003044\n",
       "1647  chloride__cwt_coefficients__coeff_3__w_2__widt...          0.003010\n",
       "6140  lymphocytes__change_quantiles__f_agg_\"\"\"\"mean\"...          0.003006\n",
       "5280  protein__cwt_coefficients__coeff_0__w_20__widt...          0.002979\n",
       "6702      mcv__time_reversal_asymmetry_statistic__lag_3          0.002923\n",
       "5182                        protein__standard_deviation          0.002919\n",
       "2471  glucose__change_quantiles__f_agg_\"\"\"\"mean\"\"\"\"_...          0.002904\n",
       "5203  protein__time_reversal_asymmetry_statistic__lag_1          0.002853\n",
       "7617                         magnesium__quantile__q_0.3          0.002836\n",
       "7760                                            htn_htn          0.002798\n",
       "4989                                globulin__c3__lag_1          0.002766\n",
       "7188                       neutrophils__quantile__q_0.9          0.002719\n",
       "6084       lymphocytes__large_standard_deviation__r_0.4          0.002708\n",
       "2816                                  phosphate__median          0.002682\n",
       "3571                                     sodium__median          0.002679\n",
       "2766     haemoglobin__linear_trend__attr_\"\"\"\"pvalue\"\"\"\"          0.002672\n",
       "2648                       haemoglobin__quantile__q_0.8          0.002659\n",
       "4954                ggt__lempel_ziv_complexity__bins_10          0.002635\n",
       "2897                  phosphate__autocorrelation__lag_1          0.002606\n",
       "145   ureacreat_ratio__change_quantiles__f_agg_\"\"\"\"m...          0.002592\n",
       "6356  mch__change_quantiles__f_agg_\"\"\"\"var\"\"\"\"__isab...          0.002590\n",
       "4424  bicarbonate__change_quantiles__f_agg_\"\"\"\"mean\"...          0.002577\n",
       "5251                           protein__quantile__q_0.2          0.002556\n",
       "7675  magnesium__change_quantiles__f_agg_\"\"\"\"mean\"\"\"...          0.002518"
      ],
      "text/html": [
       "<div>\n",
       "<style scoped>\n",
       "    .dataframe tbody tr th:only-of-type {\n",
       "        vertical-align: middle;\n",
       "    }\n",
       "\n",
       "    .dataframe tbody tr th {\n",
       "        vertical-align: top;\n",
       "    }\n",
       "\n",
       "    .dataframe thead th {\n",
       "        text-align: right;\n",
       "    }\n",
       "</style>\n",
       "<table border=\"1\" class=\"dataframe\">\n",
       "  <thead>\n",
       "    <tr style=\"text-align: right;\">\n",
       "      <th></th>\n",
       "      <th>label</th>\n",
       "      <th>importance_value</th>\n",
       "    </tr>\n",
       "  </thead>\n",
       "  <tbody>\n",
       "    <tr>\n",
       "      <th>1815</th>\n",
       "      <td>creatinine__maximum</td>\n",
       "      <td>0.085064</td>\n",
       "    </tr>\n",
       "    <tr>\n",
       "      <th>1792</th>\n",
       "      <td>creatinine__median</td>\n",
       "      <td>0.035147</td>\n",
       "    </tr>\n",
       "    <tr>\n",
       "      <th>4901</th>\n",
       "      <td>ggt__change_quantiles__f_agg_\"\"\"\"var\"\"\"\"__isab...</td>\n",
       "      <td>0.015721</td>\n",
       "    </tr>\n",
       "    <tr>\n",
       "      <th>2875</th>\n",
       "      <td>phosphate__large_standard_deviation__r_0.35000...</td>\n",
       "      <td>0.015622</td>\n",
       "    </tr>\n",
       "    <tr>\n",
       "      <th>1071</th>\n",
       "      <td>calcium__symmetry_looking__r_0.30000000000000004</td>\n",
       "      <td>0.013484</td>\n",
       "    </tr>\n",
       "    <tr>\n",
       "      <th>6774</th>\n",
       "      <td>mcv__cwt_coefficients__coeff_0__w_2__widths_(2...</td>\n",
       "      <td>0.011508</td>\n",
       "    </tr>\n",
       "    <tr>\n",
       "      <th>6268</th>\n",
       "      <td>mch__time_reversal_asymmetry_statistic__lag_3</td>\n",
       "      <td>0.010702</td>\n",
       "    </tr>\n",
       "    <tr>\n",
       "      <th>6772</th>\n",
       "      <td>mcv__index_mass_quantile__q_0.8</td>\n",
       "      <td>0.010090</td>\n",
       "    </tr>\n",
       "    <tr>\n",
       "      <th>5785</th>\n",
       "      <td>eosinophils__ratio_beyond_r_sigma__r_0.5</td>\n",
       "      <td>0.010007</td>\n",
       "    </tr>\n",
       "    <tr>\n",
       "      <th>6691</th>\n",
       "      <td>mcv__first_location_of_minimum</td>\n",
       "      <td>0.009657</td>\n",
       "    </tr>\n",
       "    <tr>\n",
       "      <th>4152</th>\n",
       "      <td>alt__large_standard_deviation__r_0.35000000000...</td>\n",
       "      <td>0.009506</td>\n",
       "    </tr>\n",
       "    <tr>\n",
       "      <th>1685</th>\n",
       "      <td>chloride__change_quantiles__f_agg_\"\"\"\"mean\"\"\"\"...</td>\n",
       "      <td>0.009166</td>\n",
       "    </tr>\n",
       "    <tr>\n",
       "      <th>2927</th>\n",
       "      <td>phosphate__cwt_coefficients__coeff_2__w_5__wid...</td>\n",
       "      <td>0.008986</td>\n",
       "    </tr>\n",
       "    <tr>\n",
       "      <th>1865</th>\n",
       "      <td>creatinine__quantile__q_0.1</td>\n",
       "      <td>0.008765</td>\n",
       "    </tr>\n",
       "    <tr>\n",
       "      <th>4154</th>\n",
       "      <td>alt__large_standard_deviation__r_0.45</td>\n",
       "      <td>0.008492</td>\n",
       "    </tr>\n",
       "    <tr>\n",
       "      <th>845</th>\n",
       "      <td>alkphos__large_standard_deviation__r_0.3500000...</td>\n",
       "      <td>0.008325</td>\n",
       "    </tr>\n",
       "    <tr>\n",
       "      <th>4216</th>\n",
       "      <td>alt__change_quantiles__f_agg_\"\"\"\"var\"\"\"\"__isab...</td>\n",
       "      <td>0.007931</td>\n",
       "    </tr>\n",
       "    <tr>\n",
       "      <th>945</th>\n",
       "      <td>alkphos__change_quantiles__f_agg_\"\"\"\"mean\"\"\"\"_...</td>\n",
       "      <td>0.007926</td>\n",
       "    </tr>\n",
       "    <tr>\n",
       "      <th>2133</th>\n",
       "      <td>egfr__quantile__q_0.7</td>\n",
       "      <td>0.007316</td>\n",
       "    </tr>\n",
       "    <tr>\n",
       "      <th>6265</th>\n",
       "      <td>mch__benford_correlation</td>\n",
       "      <td>0.006964</td>\n",
       "    </tr>\n",
       "    <tr>\n",
       "      <th>2208</th>\n",
       "      <td>egfr__change_quantiles__f_agg_\"\"\"\"mean\"\"\"\"__is...</td>\n",
       "      <td>0.006937</td>\n",
       "    </tr>\n",
       "    <tr>\n",
       "      <th>548</th>\n",
       "      <td>albumin__benford_correlation</td>\n",
       "      <td>0.006876</td>\n",
       "    </tr>\n",
       "    <tr>\n",
       "      <th>4002</th>\n",
       "      <td>urea__change_quantiles__f_agg_\"\"\"\"mean\"\"\"\"__is...</td>\n",
       "      <td>0.006689</td>\n",
       "    </tr>\n",
       "    <tr>\n",
       "      <th>1605</th>\n",
       "      <td>chloride__quantile__q_0.4</td>\n",
       "      <td>0.006589</td>\n",
       "    </tr>\n",
       "    <tr>\n",
       "      <th>1616</th>\n",
       "      <td>chloride__agg_autocorrelation__f_agg_\"\"\"\"var\"\"...</td>\n",
       "      <td>0.006575</td>\n",
       "    </tr>\n",
       "    <tr>\n",
       "      <th>5732</th>\n",
       "      <td>eosinophils__change_quantiles__f_agg_\"\"\"\"mean\"...</td>\n",
       "      <td>0.006499</td>\n",
       "    </tr>\n",
       "    <tr>\n",
       "      <th>1492</th>\n",
       "      <td>caphos_product__energy_ratio_by_chunks__num_se...</td>\n",
       "      <td>0.006460</td>\n",
       "    </tr>\n",
       "    <tr>\n",
       "      <th>4723</th>\n",
       "      <td>bilirubin__ratio_beyond_r_sigma__r_1</td>\n",
       "      <td>0.006261</td>\n",
       "    </tr>\n",
       "    <tr>\n",
       "      <th>6125</th>\n",
       "      <td>lymphocytes__cwt_coefficients__coeff_0__w_10__...</td>\n",
       "      <td>0.006191</td>\n",
       "    </tr>\n",
       "    <tr>\n",
       "      <th>6126</th>\n",
       "      <td>lymphocytes__cwt_coefficients__coeff_0__w_20__...</td>\n",
       "      <td>0.006181</td>\n",
       "    </tr>\n",
       "    <tr>\n",
       "      <th>6233</th>\n",
       "      <td>lymphocytes__lempel_ziv_complexity__bins_5</td>\n",
       "      <td>0.005911</td>\n",
       "    </tr>\n",
       "    <tr>\n",
       "      <th>1019</th>\n",
       "      <td>alkphos__fourier_entropy__bins_5</td>\n",
       "      <td>0.005887</td>\n",
       "    </tr>\n",
       "    <tr>\n",
       "      <th>7762</th>\n",
       "      <td>dkd_dkd</td>\n",
       "      <td>0.005727</td>\n",
       "    </tr>\n",
       "    <tr>\n",
       "      <th>1809</th>\n",
       "      <td>creatinine__first_location_of_minimum</td>\n",
       "      <td>0.005646</td>\n",
       "    </tr>\n",
       "    <tr>\n",
       "      <th>1872</th>\n",
       "      <td>creatinine__quantile__q_0.9</td>\n",
       "      <td>0.005554</td>\n",
       "    </tr>\n",
       "    <tr>\n",
       "      <th>2646</th>\n",
       "      <td>haemoglobin__quantile__q_0.6</td>\n",
       "      <td>0.005309</td>\n",
       "    </tr>\n",
       "    <tr>\n",
       "      <th>7243</th>\n",
       "      <td>neutrophils__change_quantiles__f_agg_\"\"\"\"mean\"...</td>\n",
       "      <td>0.005129</td>\n",
       "    </tr>\n",
       "    <tr>\n",
       "      <th>1479</th>\n",
       "      <td>caphos_product__linear_trend__attr_\"\"\"\"pvalue\"\"\"\"</td>\n",
       "      <td>0.005119</td>\n",
       "    </tr>\n",
       "    <tr>\n",
       "      <th>3859</th>\n",
       "      <td>urea__benford_correlation</td>\n",
       "      <td>0.005016</td>\n",
       "    </tr>\n",
       "    <tr>\n",
       "      <th>6238</th>\n",
       "      <td>mch__has_duplicate_min</td>\n",
       "      <td>0.004953</td>\n",
       "    </tr>\n",
       "    <tr>\n",
       "      <th>1398</th>\n",
       "      <td>caphos_product__change_quantiles__f_agg_\"\"\"\"va...</td>\n",
       "      <td>0.004834</td>\n",
       "    </tr>\n",
       "    <tr>\n",
       "      <th>5778</th>\n",
       "      <td>eosinophils__energy_ratio_by_chunks__num_segme...</td>\n",
       "      <td>0.004715</td>\n",
       "    </tr>\n",
       "    <tr>\n",
       "      <th>2960</th>\n",
       "      <td>phosphate__change_quantiles__f_agg_\"\"\"\"var\"\"\"\"...</td>\n",
       "      <td>0.004676</td>\n",
       "    </tr>\n",
       "    <tr>\n",
       "      <th>7602</th>\n",
       "      <td>magnesium__large_standard_deviation__r_0.35000...</td>\n",
       "      <td>0.004605</td>\n",
       "    </tr>\n",
       "    <tr>\n",
       "      <th>1871</th>\n",
       "      <td>creatinine__quantile__q_0.8</td>\n",
       "      <td>0.004603</td>\n",
       "    </tr>\n",
       "    <tr>\n",
       "      <th>3211</th>\n",
       "      <td>platelet__change_quantiles__f_agg_\"\"\"\"mean\"\"\"\"...</td>\n",
       "      <td>0.004547</td>\n",
       "    </tr>\n",
       "    <tr>\n",
       "      <th>5120</th>\n",
       "      <td>globulin__change_quantiles__f_agg_\"\"\"\"var\"\"\"\"_...</td>\n",
       "      <td>0.004515</td>\n",
       "    </tr>\n",
       "    <tr>\n",
       "      <th>2201</th>\n",
       "      <td>egfr__change_quantiles__f_agg_\"\"\"\"var\"\"\"\"__isa...</td>\n",
       "      <td>0.004473</td>\n",
       "    </tr>\n",
       "    <tr>\n",
       "      <th>3517</th>\n",
       "      <td>potassium__linear_trend__attr_\"\"\"\"pvalue\"\"\"\"</td>\n",
       "      <td>0.004262</td>\n",
       "    </tr>\n",
       "    <tr>\n",
       "      <th>5889</th>\n",
       "      <td>haematocrit__agg_autocorrelation__f_agg_\"\"\"\"va...</td>\n",
       "      <td>0.004236</td>\n",
       "    </tr>\n",
       "    <tr>\n",
       "      <th>2961</th>\n",
       "      <td>phosphate__change_quantiles__f_agg_\"\"\"\"mean\"\"\"...</td>\n",
       "      <td>0.004222</td>\n",
       "    </tr>\n",
       "    <tr>\n",
       "      <th>4974</th>\n",
       "      <td>globulin__last_location_of_maximum</td>\n",
       "      <td>0.004002</td>\n",
       "    </tr>\n",
       "    <tr>\n",
       "      <th>5680</th>\n",
       "      <td>eosinophils__binned_entropy__max_bins_10</td>\n",
       "      <td>0.003956</td>\n",
       "    </tr>\n",
       "    <tr>\n",
       "      <th>1817</th>\n",
       "      <td>creatinine__benford_correlation</td>\n",
       "      <td>0.003946</td>\n",
       "    </tr>\n",
       "    <tr>\n",
       "      <th>6709</th>\n",
       "      <td>mcv__symmetry_looking__r_0.05</td>\n",
       "      <td>0.003923</td>\n",
       "    </tr>\n",
       "    <tr>\n",
       "      <th>2022</th>\n",
       "      <td>creatinine__ratio_beyond_r_sigma__r_0.5</td>\n",
       "      <td>0.003859</td>\n",
       "    </tr>\n",
       "    <tr>\n",
       "      <th>4647</th>\n",
       "      <td>bilirubin__change_quantiles__f_agg_\"\"\"\"mean\"\"\"...</td>\n",
       "      <td>0.003720</td>\n",
       "    </tr>\n",
       "    <tr>\n",
       "      <th>6455</th>\n",
       "      <td>mchc__has_duplicate_min</td>\n",
       "      <td>0.003668</td>\n",
       "    </tr>\n",
       "    <tr>\n",
       "      <th>7324</th>\n",
       "      <td>rbc__has_duplicate</td>\n",
       "      <td>0.003609</td>\n",
       "    </tr>\n",
       "    <tr>\n",
       "      <th>2398</th>\n",
       "      <td>glucose__quantile__q_0.3</td>\n",
       "      <td>0.003534</td>\n",
       "    </tr>\n",
       "    <tr>\n",
       "      <th>5105</th>\n",
       "      <td>globulin__change_quantiles__f_agg_\"\"\"\"mean\"\"\"\"...</td>\n",
       "      <td>0.003514</td>\n",
       "    </tr>\n",
       "    <tr>\n",
       "      <th>552</th>\n",
       "      <td>albumin__c3__lag_1</td>\n",
       "      <td>0.003504</td>\n",
       "    </tr>\n",
       "    <tr>\n",
       "      <th>6775</th>\n",
       "      <td>mcv__cwt_coefficients__coeff_0__w_5__widths_(2...</td>\n",
       "      <td>0.003472</td>\n",
       "    </tr>\n",
       "    <tr>\n",
       "      <th>1159</th>\n",
       "      <td>calcium__change_quantiles__f_agg_\"\"\"\"mean\"\"\"\"_...</td>\n",
       "      <td>0.003445</td>\n",
       "    </tr>\n",
       "    <tr>\n",
       "      <th>3189</th>\n",
       "      <td>platelet__change_quantiles__f_agg_\"\"\"\"mean\"\"\"\"...</td>\n",
       "      <td>0.003444</td>\n",
       "    </tr>\n",
       "    <tr>\n",
       "      <th>3050</th>\n",
       "      <td>phosphate__fourier_entropy__bins_10</td>\n",
       "      <td>0.003375</td>\n",
       "    </tr>\n",
       "    <tr>\n",
       "      <th>392</th>\n",
       "      <td>wcc__change_quantiles__f_agg_\"\"\"\"mean\"\"\"\"__isa...</td>\n",
       "      <td>0.003359</td>\n",
       "    </tr>\n",
       "    <tr>\n",
       "      <th>3713</th>\n",
       "      <td>sodium__change_quantiles__f_agg_\"\"\"\"mean\"\"\"\"__...</td>\n",
       "      <td>0.003328</td>\n",
       "    </tr>\n",
       "    <tr>\n",
       "      <th>5465</th>\n",
       "      <td>basophils__quantile__q_0.1</td>\n",
       "      <td>0.003320</td>\n",
       "    </tr>\n",
       "    <tr>\n",
       "      <th>3177</th>\n",
       "      <td>platelet__change_quantiles__f_agg_\"\"\"\"mean\"\"\"\"...</td>\n",
       "      <td>0.003287</td>\n",
       "    </tr>\n",
       "    <tr>\n",
       "      <th>361</th>\n",
       "      <td>wcc__agg_autocorrelation__f_agg_\"\"\"\"median\"\"\"\"...</td>\n",
       "      <td>0.003233</td>\n",
       "    </tr>\n",
       "    <tr>\n",
       "      <th>6690</th>\n",
       "      <td>mcv__last_location_of_minimum</td>\n",
       "      <td>0.003183</td>\n",
       "    </tr>\n",
       "    <tr>\n",
       "      <th>7060</th>\n",
       "      <td>monocytes__fft_aggregated__aggtype_\"\"\"\"centroi...</td>\n",
       "      <td>0.003152</td>\n",
       "    </tr>\n",
       "    <tr>\n",
       "      <th>4873</th>\n",
       "      <td>ggt__change_quantiles__f_agg_\"\"\"\"var\"\"\"\"__isab...</td>\n",
       "      <td>0.003092</td>\n",
       "    </tr>\n",
       "    <tr>\n",
       "      <th>1275</th>\n",
       "      <td>caphos_product__mean_abs_change</td>\n",
       "      <td>0.003064</td>\n",
       "    </tr>\n",
       "    <tr>\n",
       "      <th>5516</th>\n",
       "      <td>basophils__change_quantiles__f_agg_\"\"\"\"var\"\"\"\"...</td>\n",
       "      <td>0.003059</td>\n",
       "    </tr>\n",
       "    <tr>\n",
       "      <th>6020</th>\n",
       "      <td>lymphocytes__has_duplicate_max</td>\n",
       "      <td>0.003044</td>\n",
       "    </tr>\n",
       "    <tr>\n",
       "      <th>1647</th>\n",
       "      <td>chloride__cwt_coefficients__coeff_3__w_2__widt...</td>\n",
       "      <td>0.003010</td>\n",
       "    </tr>\n",
       "    <tr>\n",
       "      <th>6140</th>\n",
       "      <td>lymphocytes__change_quantiles__f_agg_\"\"\"\"mean\"...</td>\n",
       "      <td>0.003006</td>\n",
       "    </tr>\n",
       "    <tr>\n",
       "      <th>5280</th>\n",
       "      <td>protein__cwt_coefficients__coeff_0__w_20__widt...</td>\n",
       "      <td>0.002979</td>\n",
       "    </tr>\n",
       "    <tr>\n",
       "      <th>6702</th>\n",
       "      <td>mcv__time_reversal_asymmetry_statistic__lag_3</td>\n",
       "      <td>0.002923</td>\n",
       "    </tr>\n",
       "    <tr>\n",
       "      <th>5182</th>\n",
       "      <td>protein__standard_deviation</td>\n",
       "      <td>0.002919</td>\n",
       "    </tr>\n",
       "    <tr>\n",
       "      <th>2471</th>\n",
       "      <td>glucose__change_quantiles__f_agg_\"\"\"\"mean\"\"\"\"_...</td>\n",
       "      <td>0.002904</td>\n",
       "    </tr>\n",
       "    <tr>\n",
       "      <th>5203</th>\n",
       "      <td>protein__time_reversal_asymmetry_statistic__lag_1</td>\n",
       "      <td>0.002853</td>\n",
       "    </tr>\n",
       "    <tr>\n",
       "      <th>7617</th>\n",
       "      <td>magnesium__quantile__q_0.3</td>\n",
       "      <td>0.002836</td>\n",
       "    </tr>\n",
       "    <tr>\n",
       "      <th>7760</th>\n",
       "      <td>htn_htn</td>\n",
       "      <td>0.002798</td>\n",
       "    </tr>\n",
       "    <tr>\n",
       "      <th>4989</th>\n",
       "      <td>globulin__c3__lag_1</td>\n",
       "      <td>0.002766</td>\n",
       "    </tr>\n",
       "    <tr>\n",
       "      <th>7188</th>\n",
       "      <td>neutrophils__quantile__q_0.9</td>\n",
       "      <td>0.002719</td>\n",
       "    </tr>\n",
       "    <tr>\n",
       "      <th>6084</th>\n",
       "      <td>lymphocytes__large_standard_deviation__r_0.4</td>\n",
       "      <td>0.002708</td>\n",
       "    </tr>\n",
       "    <tr>\n",
       "      <th>2816</th>\n",
       "      <td>phosphate__median</td>\n",
       "      <td>0.002682</td>\n",
       "    </tr>\n",
       "    <tr>\n",
       "      <th>3571</th>\n",
       "      <td>sodium__median</td>\n",
       "      <td>0.002679</td>\n",
       "    </tr>\n",
       "    <tr>\n",
       "      <th>2766</th>\n",
       "      <td>haemoglobin__linear_trend__attr_\"\"\"\"pvalue\"\"\"\"</td>\n",
       "      <td>0.002672</td>\n",
       "    </tr>\n",
       "    <tr>\n",
       "      <th>2648</th>\n",
       "      <td>haemoglobin__quantile__q_0.8</td>\n",
       "      <td>0.002659</td>\n",
       "    </tr>\n",
       "    <tr>\n",
       "      <th>4954</th>\n",
       "      <td>ggt__lempel_ziv_complexity__bins_10</td>\n",
       "      <td>0.002635</td>\n",
       "    </tr>\n",
       "    <tr>\n",
       "      <th>2897</th>\n",
       "      <td>phosphate__autocorrelation__lag_1</td>\n",
       "      <td>0.002606</td>\n",
       "    </tr>\n",
       "    <tr>\n",
       "      <th>145</th>\n",
       "      <td>ureacreat_ratio__change_quantiles__f_agg_\"\"\"\"m...</td>\n",
       "      <td>0.002592</td>\n",
       "    </tr>\n",
       "    <tr>\n",
       "      <th>6356</th>\n",
       "      <td>mch__change_quantiles__f_agg_\"\"\"\"var\"\"\"\"__isab...</td>\n",
       "      <td>0.002590</td>\n",
       "    </tr>\n",
       "    <tr>\n",
       "      <th>4424</th>\n",
       "      <td>bicarbonate__change_quantiles__f_agg_\"\"\"\"mean\"...</td>\n",
       "      <td>0.002577</td>\n",
       "    </tr>\n",
       "    <tr>\n",
       "      <th>5251</th>\n",
       "      <td>protein__quantile__q_0.2</td>\n",
       "      <td>0.002556</td>\n",
       "    </tr>\n",
       "    <tr>\n",
       "      <th>7675</th>\n",
       "      <td>magnesium__change_quantiles__f_agg_\"\"\"\"mean\"\"\"...</td>\n",
       "      <td>0.002518</td>\n",
       "    </tr>\n",
       "  </tbody>\n",
       "</table>\n",
       "</div>"
      ]
     },
     "metadata": {},
     "execution_count": 41
    }
   ],
   "metadata": {}
  },
  {
   "cell_type": "code",
   "execution_count": 42,
   "source": [
    "xgb_class = xgb.XGBClassifier(n_jobs=-1, random_state = random_state, n_estimators=1000, use_label_encoder=False, eval_metric='logloss', scale_pos_weight=imbalance_ratio)\n",
    "sampler = SMOTETomek(random_state=random_state)\n",
    "steps = [('resampling', sampler), ('model', xgb_class)]\n",
    "pipeline = Pipeline(steps=steps)"
   ],
   "outputs": [],
   "metadata": {}
  },
  {
   "cell_type": "code",
   "execution_count": 43,
   "source": [
    "pipeline.fit(X_train_processed, y_train)"
   ],
   "outputs": [
    {
     "output_type": "execute_result",
     "data": {
      "text/plain": [
       "Pipeline(steps=[('resampling', SMOTETomek(random_state=7)),\n",
       "                ('model',\n",
       "                 XGBClassifier(base_score=0.5, booster='gbtree',\n",
       "                               colsample_bylevel=1, colsample_bynode=1,\n",
       "                               colsample_bytree=1, eval_metric='logloss',\n",
       "                               gamma=0, gpu_id=-1, importance_type='gain',\n",
       "                               interaction_constraints='',\n",
       "                               learning_rate=0.300000012, max_delta_step=0,\n",
       "                               max_depth=6, min_child_weight=1, missing=nan,\n",
       "                               monotone_constraints='()', n_estimators=1000,\n",
       "                               n_jobs=-1, num_parallel_tree=1, random_state=7,\n",
       "                               reg_alpha=0, reg_lambda=1,\n",
       "                               scale_pos_weight=7.2907348242811505, subsample=1,\n",
       "                               tree_method='exact', use_label_encoder=False,\n",
       "                               validate_parameters=1, verbosity=None))])"
      ]
     },
     "metadata": {},
     "execution_count": 43
    }
   ],
   "metadata": {}
  },
  {
   "cell_type": "code",
   "execution_count": 44,
   "source": [
    "y_pred = pipeline.predict(X_test_processed)"
   ],
   "outputs": [],
   "metadata": {}
  },
  {
   "cell_type": "code",
   "execution_count": 45,
   "source": [
    "confusion_matrix(y_true=y_test, y_pred=y_pred)"
   ],
   "outputs": [
    {
     "output_type": "execute_result",
     "data": {
      "text/plain": [
       "array([[923,  56],\n",
       "       [ 74,  60]])"
      ]
     },
     "metadata": {},
     "execution_count": 45
    }
   ],
   "metadata": {}
  },
  {
   "cell_type": "code",
   "execution_count": 46,
   "source": [
    "roc_auc_score(y_test, y_pred)"
   ],
   "outputs": [
    {
     "output_type": "execute_result",
     "data": {
      "text/plain": [
       "0.6952799841446495"
      ]
     },
     "metadata": {},
     "execution_count": 46
    }
   ],
   "metadata": {}
  },
  {
   "cell_type": "code",
   "execution_count": 47,
   "source": [
    "print(classification_report(y_true=y_test, y_pred=y_pred))"
   ],
   "outputs": [
    {
     "output_type": "stream",
     "name": "stdout",
     "text": [
      "              precision    recall  f1-score   support\n",
      "\n",
      "           0       0.93      0.94      0.93       979\n",
      "           1       0.52      0.45      0.48       134\n",
      "\n",
      "    accuracy                           0.88      1113\n",
      "   macro avg       0.72      0.70      0.71      1113\n",
      "weighted avg       0.88      0.88      0.88      1113\n",
      "\n"
     ]
    }
   ],
   "metadata": {}
  }
 ],
 "metadata": {
  "kernelspec": {
   "name": "python3",
   "display_name": "Python 3.9.5 64-bit ('ml_dl': conda)"
  },
  "language_info": {
   "codemirror_mode": {
    "name": "ipython",
    "version": 3
   },
   "file_extension": ".py",
   "mimetype": "text/x-python",
   "name": "python",
   "nbconvert_exporter": "python",
   "pygments_lexer": "ipython3",
   "version": "3.9.5"
  },
  "interpreter": {
   "hash": "252eb11dec6c7c75d43c93f623bff35f4a463f74afda1ad8986a53442394c969"
  }
 },
 "nbformat": 4,
 "nbformat_minor": 5
}