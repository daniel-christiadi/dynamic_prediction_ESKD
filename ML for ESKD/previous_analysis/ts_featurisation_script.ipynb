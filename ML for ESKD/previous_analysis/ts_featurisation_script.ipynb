{
 "cells": [
  {
   "cell_type": "code",
   "execution_count": 1,
   "metadata": {},
   "outputs": [],
   "source": [
    "import pandas as pd\n",
    "from tsfresh import extract_features\n",
    "from tsfresh.feature_extraction import MinimalFCParameters"
   ]
  },
  {
   "cell_type": "code",
   "execution_count": 2,
   "metadata": {},
   "outputs": [],
   "source": [
    "def feature_extractor_comprehensive(file):\n",
    "    df = pd.read_csv(file)\n",
    "    extracted_features = extract_features(df, column_id='id', column_sort='relyear', column_kind='test', column_value='cif',\n",
    "                                          default_fc_parameters=MinimalFCParameters())\n",
    "    return extracted_features"
   ]
  },
  {
   "cell_type": "code",
   "execution_count": 3,
   "metadata": {},
   "outputs": [
    {
     "name": "stderr",
     "output_type": "stream",
     "text": [
      "Feature Extraction: 100%|██████████| 40/40 [00:06<00:00,  6.54it/s]\n"
     ]
    }
   ],
   "source": [
    "extracted_features = feature_extractor_comprehensive(file=\"./train_cif_dt.gz\")"
   ]
  },
  {
   "cell_type": "code",
   "execution_count": 4,
   "metadata": {},
   "outputs": [],
   "source": [
    "extracted_features.to_csv(\"../ML for ESKD/ts_feat_train.gz\", index=True, compression='gzip')"
   ]
  },
  {
   "cell_type": "code",
   "execution_count": 5,
   "metadata": {},
   "outputs": [
    {
     "name": "stderr",
     "output_type": "stream",
     "text": [
      "Feature Extraction: 100%|██████████| 40/40 [00:01<00:00, 24.47it/s]\n"
     ]
    }
   ],
   "source": [
    "extracted_features = feature_extractor_comprehensive(file=\"./test_cif_dt.gz\")"
   ]
  },
  {
   "cell_type": "code",
   "execution_count": 6,
   "metadata": {},
   "outputs": [
    {
     "data": {
      "text/html": [
       "<div>\n",
       "<style scoped>\n",
       "    .dataframe tbody tr th:only-of-type {\n",
       "        vertical-align: middle;\n",
       "    }\n",
       "\n",
       "    .dataframe tbody tr th {\n",
       "        vertical-align: top;\n",
       "    }\n",
       "\n",
       "    .dataframe thead th {\n",
       "        text-align: right;\n",
       "    }\n",
       "</style>\n",
       "<table border=\"1\" class=\"dataframe\">\n",
       "  <thead>\n",
       "    <tr style=\"text-align: right;\">\n",
       "      <th></th>\n",
       "      <th>death__sum_values</th>\n",
       "      <th>death__median</th>\n",
       "      <th>death__mean</th>\n",
       "      <th>death__length</th>\n",
       "      <th>death__standard_deviation</th>\n",
       "      <th>death__variance</th>\n",
       "      <th>death__root_mean_square</th>\n",
       "      <th>death__maximum</th>\n",
       "      <th>death__minimum</th>\n",
       "      <th>eskd__sum_values</th>\n",
       "      <th>eskd__median</th>\n",
       "      <th>eskd__mean</th>\n",
       "      <th>eskd__length</th>\n",
       "      <th>eskd__standard_deviation</th>\n",
       "      <th>eskd__variance</th>\n",
       "      <th>eskd__root_mean_square</th>\n",
       "      <th>eskd__maximum</th>\n",
       "      <th>eskd__minimum</th>\n",
       "    </tr>\n",
       "  </thead>\n",
       "  <tbody>\n",
       "    <tr>\n",
       "      <th>3922</th>\n",
       "      <td>25.928924</td>\n",
       "      <td>0.210500</td>\n",
       "      <td>0.205785</td>\n",
       "      <td>126.0</td>\n",
       "      <td>0.135369</td>\n",
       "      <td>0.018325</td>\n",
       "      <td>0.246317</td>\n",
       "      <td>0.470762</td>\n",
       "      <td>0.0</td>\n",
       "      <td>12.991732</td>\n",
       "      <td>0.101154</td>\n",
       "      <td>0.103109</td>\n",
       "      <td>126.0</td>\n",
       "      <td>0.066185</td>\n",
       "      <td>0.004380</td>\n",
       "      <td>0.122523</td>\n",
       "      <td>0.230177</td>\n",
       "      <td>0.0</td>\n",
       "    </tr>\n",
       "    <tr>\n",
       "      <th>3980</th>\n",
       "      <td>16.330882</td>\n",
       "      <td>0.113809</td>\n",
       "      <td>0.129610</td>\n",
       "      <td>126.0</td>\n",
       "      <td>0.098456</td>\n",
       "      <td>0.009694</td>\n",
       "      <td>0.162765</td>\n",
       "      <td>0.350834</td>\n",
       "      <td>0.0</td>\n",
       "      <td>3.901231</td>\n",
       "      <td>0.013166</td>\n",
       "      <td>0.030962</td>\n",
       "      <td>126.0</td>\n",
       "      <td>0.044007</td>\n",
       "      <td>0.001937</td>\n",
       "      <td>0.053808</td>\n",
       "      <td>0.172500</td>\n",
       "      <td>0.0</td>\n",
       "    </tr>\n",
       "    <tr>\n",
       "      <th>4011</th>\n",
       "      <td>5.420449</td>\n",
       "      <td>0.027835</td>\n",
       "      <td>0.043019</td>\n",
       "      <td>126.0</td>\n",
       "      <td>0.035273</td>\n",
       "      <td>0.001244</td>\n",
       "      <td>0.055632</td>\n",
       "      <td>0.116333</td>\n",
       "      <td>0.0</td>\n",
       "      <td>18.245710</td>\n",
       "      <td>0.057650</td>\n",
       "      <td>0.144807</td>\n",
       "      <td>126.0</td>\n",
       "      <td>0.195158</td>\n",
       "      <td>0.038086</td>\n",
       "      <td>0.243014</td>\n",
       "      <td>0.640333</td>\n",
       "      <td>0.0</td>\n",
       "    </tr>\n",
       "    <tr>\n",
       "      <th>4056</th>\n",
       "      <td>15.686619</td>\n",
       "      <td>0.134989</td>\n",
       "      <td>0.124497</td>\n",
       "      <td>126.0</td>\n",
       "      <td>0.079792</td>\n",
       "      <td>0.006367</td>\n",
       "      <td>0.147872</td>\n",
       "      <td>0.245154</td>\n",
       "      <td>0.0</td>\n",
       "      <td>11.591068</td>\n",
       "      <td>0.091736</td>\n",
       "      <td>0.091993</td>\n",
       "      <td>126.0</td>\n",
       "      <td>0.069189</td>\n",
       "      <td>0.004787</td>\n",
       "      <td>0.115108</td>\n",
       "      <td>0.215469</td>\n",
       "      <td>0.0</td>\n",
       "    </tr>\n",
       "    <tr>\n",
       "      <th>4061</th>\n",
       "      <td>5.428216</td>\n",
       "      <td>0.037490</td>\n",
       "      <td>0.043081</td>\n",
       "      <td>126.0</td>\n",
       "      <td>0.032172</td>\n",
       "      <td>0.001035</td>\n",
       "      <td>0.053768</td>\n",
       "      <td>0.130319</td>\n",
       "      <td>0.0</td>\n",
       "      <td>13.213723</td>\n",
       "      <td>0.076794</td>\n",
       "      <td>0.104871</td>\n",
       "      <td>126.0</td>\n",
       "      <td>0.098749</td>\n",
       "      <td>0.009751</td>\n",
       "      <td>0.144046</td>\n",
       "      <td>0.326342</td>\n",
       "      <td>0.0</td>\n",
       "    </tr>\n",
       "  </tbody>\n",
       "</table>\n",
       "</div>"
      ],
      "text/plain": [
       "      death__sum_values  death__median  ...  eskd__maximum  eskd__minimum\n",
       "3922          25.928924       0.210500  ...       0.230177            0.0\n",
       "3980          16.330882       0.113809  ...       0.172500            0.0\n",
       "4011           5.420449       0.027835  ...       0.640333            0.0\n",
       "4056          15.686619       0.134989  ...       0.215469            0.0\n",
       "4061           5.428216       0.037490  ...       0.326342            0.0\n",
       "\n",
       "[5 rows x 18 columns]"
      ]
     },
     "execution_count": 6,
     "metadata": {},
     "output_type": "execute_result"
    }
   ],
   "source": [
    "extracted_features.head()"
   ]
  },
  {
   "cell_type": "code",
   "execution_count": 7,
   "metadata": {},
   "outputs": [],
   "source": [
    "extracted_features.to_csv(\"../ML for ESKD/ts_feat_test.gz\", index=True, compression='gzip')"
   ]
  }
 ],
 "metadata": {
  "kernelspec": {
   "display_name": "Python 3.9.12 ('ml_dl')",
   "language": "python",
   "name": "python3"
  },
  "language_info": {
   "codemirror_mode": {
    "name": "ipython",
    "version": 3
   },
   "file_extension": ".py",
   "mimetype": "text/x-python",
   "name": "python",
   "nbconvert_exporter": "python",
   "pygments_lexer": "ipython3",
   "version": "3.9.12"
  },
  "vscode": {
   "interpreter": {
    "hash": "d55f2c1346f57cd4e30528f25072339cf7bea5caca0d1f9fdd34861c35a12799"
   }
  }
 },
 "nbformat": 4,
 "nbformat_minor": 5
}
